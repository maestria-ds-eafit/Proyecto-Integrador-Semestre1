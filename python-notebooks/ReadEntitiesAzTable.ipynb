{
 "cells": [
  {
   "cell_type": "markdown",
   "metadata": {},
   "source": [
    "# Leer Entidades de Azure Table Storage"
   ]
  },
  {
   "cell_type": "markdown",
   "metadata": {},
   "source": [
    "### Librerías"
   ]
  },
  {
   "cell_type": "code",
   "execution_count": 8,
   "metadata": {},
   "outputs": [],
   "source": [
    "##Importando librerías necesarias\n",
    "import pandas as pd\n",
    "import numpy as np\n",
    "import azure.data.tables\n",
    "from azure.data.tables import TableClient\n",
    "import datetime as dt\n",
    "import math\n",
    "import io\n",
    "import os\n",
    "import time\n",
    "from dotenv import load_dotenv, find_dotenv"
   ]
  },
  {
   "cell_type": "markdown",
   "metadata": {},
   "source": [
    "### Funciones necesarias"
   ]
  },
  {
   "cell_type": "code",
   "execution_count": 9,
   "metadata": {},
   "outputs": [],
   "source": [
    "##Definienfo funciones:\n",
    "\n",
    "#Crear conexión de una tabla específica dentro del servicio de Azure Table Storage\n",
    "def set_table_service(conection_string,table):\n",
    "    \"\"\" Crear servicio de conexión a Azure Table Storage \"\"\"\n",
    "    return TableClient.from_connection_string(conn_str=conection_string, table_name=table)\n",
    "\n",
    "#Obtener datos de Table Storage\n",
    "def get_data_from_table_storage_table(table_service, filter_query):\n",
    "    \"\"\"  Recuperar datos de Table Storage \"\"\"\n",
    "    for record in table_service.query_entities(\n",
    "        filter_query\n",
    "    ):\n",
    "        yield record\n",
    "\n",
    "#Crear DataFrame con los datos de la tabla consultada\n",
    "def get_dataframe_from_table_storage_table(table_service, filter_query):\n",
    "    \"\"\" Crear un DataFrame con la data del Table Storage \"\"\"\n",
    "    return pd.DataFrame(get_data_from_table_storage_table(table_service,\n",
    "                                                          filter_query))\n"
   ]
  },
  {
   "cell_type": "code",
   "execution_count": 10,
   "metadata": {},
   "outputs": [
    {
     "data": {
      "text/plain": [
       "True"
      ]
     },
     "execution_count": 10,
     "metadata": {},
     "output_type": "execute_result"
    }
   ],
   "source": [
    "env_file = find_dotenv()\n",
    "load_dotenv(find_dotenv())"
   ]
  },
  {
   "cell_type": "markdown",
   "metadata": {},
   "source": [
    "### Creando DataFrame con Data de  Az Table Storage"
   ]
  },
  {
   "cell_type": "markdown",
   "metadata": {},
   "source": [
    "#### TRM Data"
   ]
  },
  {
   "cell_type": "code",
   "execution_count": 13,
   "metadata": {},
   "outputs": [],
   "source": [
    "connection_string = os.getenv(\"AZ_CONECTION_STRING\")\n",
    "table_name_trm = \"TRMCurated\"\n",
    "filterQuery = \"PartitionKey ne 'random'\""
   ]
  },
  {
   "cell_type": "code",
   "execution_count": 16,
   "metadata": {},
   "outputs": [
    {
     "name": "stdout",
     "output_type": "stream",
     "text": [
      "(1375, 5)\n",
      "PartitionKey      object\n",
      "RowKey            object\n",
      "valor            float64\n",
      "vigenciadesde     object\n",
      "vigenciahasta     object\n",
      "dtype: object\n"
     ]
    },
    {
     "data": {
      "text/html": [
       "<div>\n",
       "<style scoped>\n",
       "    .dataframe tbody tr th:only-of-type {\n",
       "        vertical-align: middle;\n",
       "    }\n",
       "\n",
       "    .dataframe tbody tr th {\n",
       "        vertical-align: top;\n",
       "    }\n",
       "\n",
       "    .dataframe thead th {\n",
       "        text-align: right;\n",
       "    }\n",
       "</style>\n",
       "<table border=\"1\" class=\"dataframe\">\n",
       "  <thead>\n",
       "    <tr style=\"text-align: right;\">\n",
       "      <th></th>\n",
       "      <th>PartitionKey</th>\n",
       "      <th>RowKey</th>\n",
       "      <th>valor</th>\n",
       "      <th>vigenciadesde</th>\n",
       "      <th>vigenciahasta</th>\n",
       "    </tr>\n",
       "  </thead>\n",
       "  <tbody>\n",
       "    <tr>\n",
       "      <th>0</th>\n",
       "      <td>DefaultPartitionKey</td>\n",
       "      <td>001b0d3a-87e5-488c-89de-afe37a90e283</td>\n",
       "      <td>3816.14</td>\n",
       "      <td>2021-09-09T00:00:00.000</td>\n",
       "      <td>2021-09-09T00:00:00.000</td>\n",
       "    </tr>\n",
       "    <tr>\n",
       "      <th>1</th>\n",
       "      <td>DefaultPartitionKey</td>\n",
       "      <td>0024e746-3101-40ce-8390-3e55a2283f69</td>\n",
       "      <td>4548.50</td>\n",
       "      <td>2023-01-28T00:00:00.000</td>\n",
       "      <td>2023-01-30T00:00:00.000</td>\n",
       "    </tr>\n",
       "    <tr>\n",
       "      <th>2</th>\n",
       "      <td>DefaultPartitionKey</td>\n",
       "      <td>005ed4d5-9085-4625-9817-a0aeead7f40f</td>\n",
       "      <td>3706.95</td>\n",
       "      <td>2022-04-05T00:00:00.000</td>\n",
       "      <td>2022-04-05T00:00:00.000</td>\n",
       "    </tr>\n",
       "    <tr>\n",
       "      <th>3</th>\n",
       "      <td>DefaultPartitionKey</td>\n",
       "      <td>00ef9057-6b4e-4904-a2af-6d9c1d5d116a</td>\n",
       "      <td>4303.34</td>\n",
       "      <td>2022-07-20T00:00:00.000</td>\n",
       "      <td>2022-07-21T00:00:00.000</td>\n",
       "    </tr>\n",
       "    <tr>\n",
       "      <th>4</th>\n",
       "      <td>DefaultPartitionKey</td>\n",
       "      <td>00fcdb52-471c-4970-bacd-ef4a182d208b</td>\n",
       "      <td>3899.87</td>\n",
       "      <td>2021-12-10T00:00:00.000</td>\n",
       "      <td>2021-12-10T00:00:00.000</td>\n",
       "    </tr>\n",
       "  </tbody>\n",
       "</table>\n",
       "</div>"
      ],
      "text/plain": [
       "          PartitionKey                                RowKey    valor  \\\n",
       "0  DefaultPartitionKey  001b0d3a-87e5-488c-89de-afe37a90e283  3816.14   \n",
       "1  DefaultPartitionKey  0024e746-3101-40ce-8390-3e55a2283f69  4548.50   \n",
       "2  DefaultPartitionKey  005ed4d5-9085-4625-9817-a0aeead7f40f  3706.95   \n",
       "3  DefaultPartitionKey  00ef9057-6b4e-4904-a2af-6d9c1d5d116a  4303.34   \n",
       "4  DefaultPartitionKey  00fcdb52-471c-4970-bacd-ef4a182d208b  3899.87   \n",
       "\n",
       "             vigenciadesde            vigenciahasta  \n",
       "0  2021-09-09T00:00:00.000  2021-09-09T00:00:00.000  \n",
       "1  2023-01-28T00:00:00.000  2023-01-30T00:00:00.000  \n",
       "2  2022-04-05T00:00:00.000  2022-04-05T00:00:00.000  \n",
       "3  2022-07-20T00:00:00.000  2022-07-21T00:00:00.000  \n",
       "4  2021-12-10T00:00:00.000  2021-12-10T00:00:00.000  "
      ]
     },
     "execution_count": 16,
     "metadata": {},
     "output_type": "execute_result"
    }
   ],
   "source": [
    "#Creando DataFrame con TRM Data\n",
    "df_trm=get_dataframe_from_table_storage_table(\n",
    "    set_table_service(\n",
    "        connection_string,\n",
    "        table_name_trm\n",
    "    )\n",
    "    ,filterQuery)\n",
    "\n",
    "print(df_trm.shape)\n",
    "print(df_trm.dtypes)\n",
    "df_trm.head()     "
   ]
  }
 ],
 "metadata": {
  "kernelspec": {
   "display_name": "Proyecto-Integrador-Semestre1-VZ_FhVF5",
   "language": "python",
   "name": "python3"
  },
  "language_info": {
   "codemirror_mode": {
    "name": "ipython",
    "version": 3
   },
   "file_extension": ".py",
   "mimetype": "text/x-python",
   "name": "python",
   "nbconvert_exporter": "python",
   "pygments_lexer": "ipython3",
   "version": "3.11.5"
  }
 },
 "nbformat": 4,
 "nbformat_minor": 2
}
