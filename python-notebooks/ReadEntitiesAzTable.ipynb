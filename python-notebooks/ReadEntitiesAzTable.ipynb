{
 "cells": [
  {
   "cell_type": "markdown",
   "metadata": {},
   "source": [
    "# Leer Entidades de Azure Table Storage\n"
   ]
  },
  {
   "cell_type": "markdown",
   "metadata": {},
   "source": [
    "### Librerías\n"
   ]
  },
  {
   "cell_type": "code",
   "execution_count": 8,
   "metadata": {},
   "outputs": [],
   "source": [
    "import pandas as pd\n",
    "from azure.data.tables import TableClient\n",
    "import os\n",
    "from dotenv import load_dotenv, find_dotenv"
   ]
  },
  {
   "cell_type": "code",
   "execution_count": 10,
   "metadata": {},
   "outputs": [
    {
     "data": {
      "text/plain": [
       "True"
      ]
     },
     "execution_count": 10,
     "metadata": {},
     "output_type": "execute_result"
    }
   ],
   "source": [
    "env_file = find_dotenv()\n",
    "load_dotenv(find_dotenv())"
   ]
  },
  {
   "cell_type": "markdown",
   "metadata": {},
   "source": [
    "### Funciones necesarias\n"
   ]
  },
  {
   "cell_type": "code",
   "execution_count": 9,
   "metadata": {},
   "outputs": [],
   "source": [
    "## Definiendo funciones:\n",
    "\n",
    "\n",
    "# Crear conexión de una tabla específica dentro del servicio de Azure Table Storage\n",
    "def set_table_service(connection_string, table):\n",
    "    \"\"\"Crear servicio de conexión a Azure Table Storage\"\"\"\n",
    "    return TableClient.from_connection_string(\n",
    "        conn_str=connection_string, table_name=table\n",
    "    )\n",
    "\n",
    "\n",
    "# Obtener datos de Table Storage\n",
    "def get_data_from_table_storage_table(table_service, filter_query):\n",
    "    \"\"\"Recuperar datos de Table Storage\"\"\"\n",
    "    for record in table_service.query_entities(filter_query):\n",
    "        yield record\n",
    "\n",
    "\n",
    "# Crear DataFrame con los datos de la tabla consultada\n",
    "def get_dataframe_from_table_storage_table(table_service, filter_query):\n",
    "    \"\"\"Crear un DataFrame con la data del Table Storage\"\"\"\n",
    "    return pd.DataFrame(get_data_from_table_storage_table(table_service, filter_query))"
   ]
  },
  {
   "cell_type": "markdown",
   "metadata": {},
   "source": [
    "### Creando DataFrame con Data de Az Table Storage\n"
   ]
  },
  {
   "cell_type": "markdown",
   "metadata": {},
   "source": [
    "#### TRM Data\n"
   ]
  },
  {
   "cell_type": "code",
   "execution_count": 13,
   "metadata": {},
   "outputs": [],
   "source": [
    "connection_string = os.getenv(\"AZ_CONNECTION_STRING\")\n",
    "table_name_trm = \"TRMCurated\"\n",
    "filterQuery = \"PartitionKey ne 'random'\""
   ]
  },
  {
   "cell_type": "code",
   "execution_count": null,
   "metadata": {},
   "outputs": [],
   "source": [
    "table_service = set_table_service(connection_string, table_name_trm)"
   ]
  },
  {
   "cell_type": "code",
   "execution_count": null,
   "metadata": {},
   "outputs": [
    {
     "ename": "",
     "evalue": "",
     "output_type": "error",
     "traceback": [
      "\u001b[1;31mRunning cells with 'Proyecto-Integrador-Semestre1-8hKWhZbI' requires the ipykernel package.\n",
      "\u001b[1;31mRun the following command to install 'ipykernel' into the Python environment. \n",
      "\u001b[1;31mCommand: '/Users/david/.local/share/virtualenvs/Proyecto-Integrador-Semestre1-8hKWhZbI/bin/python -m pip install ipykernel -U --force-reinstall'"
     ]
    }
   ],
   "source": [
    "# Creando DataFrame con TRM Data\n",
    "df_trm = get_dataframe_from_table_storage_table(\n",
    "    table_service, filterQuery\n",
    ")\n",
    "\n",
    "print(f\"Shape: {df_trm.shape}\")\n",
    "print(f\"dtypes: {df_trm.dtypes}\")\n",
    "df_trm.head()"
   ]
  },
  {
   "cell_type": "markdown",
   "metadata": {},
   "source": [
    "## **La idea es leer las demás tablas y unirlas con la data historica de precios o consumo**\n"
   ]
  },
  {
   "cell_type": "code",
   "execution_count": null,
   "metadata": {},
   "outputs": [],
   "source": [
    "### Nombres de tablas\n",
    "\n",
    "table_name_precipitacion = \"PRECIPITACIONCurated\"\n",
    "table_name_temperatura = \"TEMPERATURACurated\"\n",
    "table_name_brent = \"BRENTCurated\""
   ]
  }
 ],
 "metadata": {
  "kernelspec": {
   "display_name": "Proyecto-Integrador-Semestre1-VZ_FhVF5",
   "language": "python",
   "name": "python3"
  },
  "language_info": {
   "codemirror_mode": {
    "name": "ipython",
    "version": 3
   },
   "file_extension": ".py",
   "mimetype": "text/x-python",
   "name": "python",
   "nbconvert_exporter": "python",
   "pygments_lexer": "ipython3",
   "version": "3.11.5"
  }
 },
 "nbformat": 4,
 "nbformat_minor": 2
}
