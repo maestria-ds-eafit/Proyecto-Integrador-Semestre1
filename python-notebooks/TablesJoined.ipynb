{
 "cells": [
  {
   "cell_type": "code",
   "execution_count": 20,
   "metadata": {},
   "outputs": [],
   "source": [
    "import pandas as pd"
   ]
  },
  {
   "cell_type": "code",
   "execution_count": 21,
   "metadata": {},
   "outputs": [],
   "source": [
    "df_brent = pd.read_csv(\"./processed_tables/brent.csv\")\n",
    "df_precios = pd.read_csv(\"./processed_tables/precios.csv\")\n",
    "df_precipitacion = pd.read_csv(\"./processed_tables/precipitacion.csv\")\n",
    "df_temperatura = pd.read_csv(\"./processed_tables/temperatura.csv\")\n",
    "df_trm = pd.read_csv(\"./processed_tables/TRM.csv\")"
   ]
  },
  {
   "cell_type": "code",
   "execution_count": 22,
   "metadata": {},
   "outputs": [],
   "source": [
    "df_brent = df_brent.rename(columns={\"Fecha\": \"Date\"})\n",
    "df_precipitacion = df_precipitacion.rename(columns={\"date\": \"Date\"})\n",
    "df_temperatura = df_temperatura.rename(columns={\"date\": \"Date\"})\n",
    "df_trm = df_trm.rename(columns={\"vigenciadesde\": \"Date\"})\n",
    "\n",
    "# Perform left joins\n",
    "df_merged = pd.merge(df_precios, df_brent, on=\"Date\", how=\"left\")\n",
    "df_merged = pd.merge(df_merged, df_precipitacion, on=\"Date\", how=\"left\")\n",
    "df_merged = pd.merge(df_merged, df_temperatura, on=\"Date\", how=\"left\")\n",
    "df_merged = pd.merge(df_merged, df_trm, on=\"Date\", how=\"left\")"
   ]
  },
  {
   "cell_type": "code",
   "execution_count": 23,
   "metadata": {},
   "outputs": [
    {
     "data": {
      "text/plain": [
       "Index(['Date', 'energy_price', 'brent_value', 'unidadmedida', 'amazonas',\n",
       "       'antioquia', 'arauca', 'atlantico', 'bogota', 'bolivar', 'boyaca',\n",
       "       'caldas', 'caqueta', 'casanare', 'cauca', 'cesar', 'choco', 'cordoba',\n",
       "       'cundinamarca', 'guainia', 'guaviare', 'huila', 'la guajira',\n",
       "       'magdalena', 'meta', 'narino', 'norte de santander', 'putumayo',\n",
       "       'quindio', 'risaralda', 'san andres providencia', 'santander', 'sucre',\n",
       "       'tolima', 'valle del cauca', 'vaupes', 'vichada', 'departamento',\n",
       "       'municipio', 'latitud', 'longitud', 'temp_max', 'temp_min', 'TRM'],\n",
       "      dtype='object')"
      ]
     },
     "execution_count": 23,
     "metadata": {},
     "output_type": "execute_result"
    }
   ],
   "source": [
    "df_merged.columns"
   ]
  },
  {
   "cell_type": "code",
   "execution_count": null,
   "metadata": {},
   "outputs": [],
   "source": []
  }
 ],
 "metadata": {
  "kernelspec": {
   "display_name": "Proyecto-Integrador-Semestre1-ERzOjjfT",
   "language": "python",
   "name": "python3"
  },
  "language_info": {
   "codemirror_mode": {
    "name": "ipython",
    "version": 3
   },
   "file_extension": ".py",
   "mimetype": "text/x-python",
   "name": "python",
   "nbconvert_exporter": "python",
   "pygments_lexer": "ipython3",
   "version": "3.11.5"
  }
 },
 "nbformat": 4,
 "nbformat_minor": 2
}
