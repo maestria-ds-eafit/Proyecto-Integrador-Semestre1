{
 "cells": [
  {
   "cell_type": "code",
   "execution_count": 1,
   "metadata": {},
   "outputs": [],
   "source": [
    "import pandas as pd"
   ]
  },
  {
   "cell_type": "code",
   "execution_count": 2,
   "metadata": {},
   "outputs": [],
   "source": [
    "df_brent = pd.read_csv(\"./processed_tables/brent.csv\")\n",
    "df_precios = pd.read_csv(\"./processed_tables/precios.csv\")\n",
    "df_precipitacion = pd.read_csv(\"./processed_tables/precipitacion.csv\")\n",
    "df_temperatura = pd.read_csv(\"./processed_tables/temperatura.csv\")\n",
    "df_trm = pd.read_csv(\"./processed_tables/TRM.csv\")"
   ]
  },
  {
   "cell_type": "code",
   "execution_count": 3,
   "metadata": {},
   "outputs": [],
   "source": [
    "df_brent = df_brent.rename(columns={\"Fecha\": \"Date\"})\n",
    "df_precipitacion = df_precipitacion.rename(columns={\"date\": \"Date\"})\n",
    "df_temperatura = df_temperatura.rename(columns={\"date\": \"Date\"})\n",
    "df_trm = df_trm.rename(columns={\"vigenciadesde\": \"Date\"})\n",
    "\n",
    "# Perform left joins\n",
    "df_merged = pd.merge(df_precios, df_brent, on=\"Date\", how=\"left\")\n",
    "df_merged = pd.merge(df_merged, df_precipitacion, on=\"Date\", how=\"left\")\n",
    "df_merged = pd.merge(df_merged, df_temperatura, on=\"Date\", how=\"left\")\n",
    "df_merged = pd.merge(df_merged, df_trm, on=\"Date\", how=\"left\")"
   ]
  },
  {
   "cell_type": "code",
   "execution_count": 4,
   "metadata": {},
   "outputs": [
    {
     "data": {
      "text/plain": [
       "Index(['Date', 'energy_price', 'brent_value', 'unidadmedida', 'amazonas',\n",
       "       'antioquia', 'arauca', 'atlantico', 'bogota', 'bolivar', 'boyaca',\n",
       "       'caldas', 'caqueta', 'casanare', 'cauca', 'cesar', 'choco', 'cordoba',\n",
       "       'cundinamarca', 'guainia', 'guaviare', 'huila', 'la guajira',\n",
       "       'magdalena', 'meta', 'narino', 'norte de santander', 'putumayo',\n",
       "       'quindio', 'risaralda', 'san andres providencia', 'santander', 'sucre',\n",
       "       'tolima', 'valle del cauca', 'vaupes', 'vichada', 'temp_AMAZONAS',\n",
       "       'temp_ANTIOQUIA', 'temp_ARAUCA',\n",
       "       'temp_ARCHIPIELAGO DE SAN ANDRES PROVIDENCIA Y SANTA CATALINA',\n",
       "       'temp_ATLANTICO', 'temp_BOGOTA', 'temp_BOLIVAR', 'temp_BOYACA',\n",
       "       'temp_CALDAS', 'temp_CAQUETA', 'temp_CASANARE', 'temp_CAUCA',\n",
       "       'temp_CESAR', 'temp_CHOCO', 'temp_CORDOBA', 'temp_CUNDINAMARCA',\n",
       "       'temp_GUAINIA', 'temp_GUAVIARE', 'temp_HUILA', 'temp_LA GUAJIRA',\n",
       "       'temp_MAGDALENA', 'temp_META', 'temp_NARINO', 'temp_NARIÑO',\n",
       "       'temp_NORTE DE SANTANDER', 'temp_PUTUMAYO', 'temp_QUINDIO',\n",
       "       'temp_RISARALDA', 'temp_SAN ANDRES PROVIDENCIA', 'temp_SANTANDER',\n",
       "       'temp_SUCRE', 'temp_TOLIMA', 'temp_VALLE DEL CAUCA', 'temp_VICHADA',\n",
       "       'TRM'],\n",
       "      dtype='object')"
      ]
     },
     "execution_count": 4,
     "metadata": {},
     "output_type": "execute_result"
    }
   ],
   "source": [
    "df_merged.columns"
   ]
  }
 ],
 "metadata": {
  "kernelspec": {
   "display_name": "Proyecto-Integrador-Semestre1-ERzOjjfT",
   "language": "python",
   "name": "python3"
  },
  "language_info": {
   "codemirror_mode": {
    "name": "ipython",
    "version": 3
   },
   "file_extension": ".py",
   "mimetype": "text/x-python",
   "name": "python",
   "nbconvert_exporter": "python",
   "pygments_lexer": "ipython3",
   "version": "3.11.5"
  }
 },
 "nbformat": 4,
 "nbformat_minor": 2
}
