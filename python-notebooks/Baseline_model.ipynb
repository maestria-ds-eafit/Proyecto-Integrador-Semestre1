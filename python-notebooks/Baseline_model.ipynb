{
 "cells": [
  {
   "cell_type": "code",
   "execution_count": 23,
   "metadata": {},
   "outputs": [],
   "source": [
    "import statsmodels.api as sm\n",
    "import pandas as pd"
   ]
  },
  {
   "cell_type": "code",
   "execution_count": 24,
   "metadata": {},
   "outputs": [],
   "source": [
    "df = pd.read_csv(\"processed_tables/merged_standardized.csv\")"
   ]
  },
  {
   "cell_type": "markdown",
   "metadata": {},
   "source": [
    "## Partición de la data\n",
    "\n",
    "Debido a que la naturaleza de la data es de carácter temporal, se realizará una partición de la data en 3 partes: entrenamiento y prueba. La data de test será los últimos 3 meses de la data, es decir desde julio 2023 hasta septiembre 2023.\n"
   ]
  },
  {
   "cell_type": "code",
   "execution_count": 25,
   "metadata": {},
   "outputs": [],
   "source": [
    "fecha_corte = \"2023-07-01\"\n",
    "X_train = df[df[\"Date\"] < fecha_corte].drop([\"Date\", \"energy_price\"], axis=1)\n",
    "X_test = df[df[\"Date\"] >= fecha_corte].drop([\"Date\", \"energy_price\"], axis=1)\n",
    "y_train = df[df[\"Date\"] < fecha_corte][\"energy_price\"]\n",
    "y_test = df[df[\"Date\"] >= fecha_corte][\"energy_price\"]"
   ]
  },
  {
   "cell_type": "markdown",
   "metadata": {},
   "source": [
    "## Regresión lineal\n",
    "\n",
    "Usando `statsmodels` se puede realizar una regresión lineal, para ello se debe importar la librería y crear un modelo de regresión lineal, para luego ajustarlo con los datos de entrenamiento.\n"
   ]
  },
  {
   "cell_type": "code",
   "execution_count": 27,
   "metadata": {},
   "outputs": [
    {
     "name": "stdout",
     "output_type": "stream",
     "text": [
      "                            OLS Regression Results                            \n",
      "==============================================================================\n",
      "Dep. Variable:           energy_price   R-squared:                       0.514\n",
      "Model:                            OLS   Adj. R-squared:                  0.447\n",
      "Method:                 Least Squares   F-statistic:                     7.636\n",
      "Date:                Sat, 25 Nov 2023   Prob (F-statistic):           1.22e-43\n",
      "Time:                        12:24:21   Log-Likelihood:                -3438.4\n",
      "No. Observations:                 552   AIC:                             7013.\n",
      "Df Residuals:                     484   BIC:                             7306.\n",
      "Df Model:                          67                                         \n",
      "Covariance Type:            nonrobust                                         \n",
      "================================================================================================================================\n",
      "                                                                   coef    std err          t      P>|t|      [0.025      0.975]\n",
      "--------------------------------------------------------------------------------------------------------------------------------\n",
      "const                                                          279.9099      7.193     38.916      0.000     265.777     294.043\n",
      "precipitacion_amazonas                                           1.9812      6.136      0.323      0.747     -10.076      14.038\n",
      "precipitacion_antioquia                                         -3.8441      8.956     -0.429      0.668     -21.442      13.754\n",
      "precipitacion_arauca                                           -10.0655     10.763     -0.935      0.350     -31.213      11.082\n",
      "precipitacion_atlantico                                         -5.8432      6.472     -0.903      0.367     -18.560       6.873\n",
      "precipitacion_bogota                                            -6.1150      8.356     -0.732      0.465     -22.534      10.304\n",
      "precipitacion_bolivar                                           -6.2614      6.426     -0.974      0.330     -18.888       6.365\n",
      "precipitacion_boyaca                                             9.4256      8.490      1.110      0.267      -7.256      26.108\n",
      "precipitacion_caldas                                           -10.0155      9.483     -1.056      0.291     -28.648       8.617\n",
      "precipitacion_caqueta                                           13.8610      6.920      2.003      0.046       0.264      27.458\n",
      "precipitacion_casanare                                           5.1339      7.323      0.701      0.484      -9.254      19.522\n",
      "precipitacion_cauca                                             19.6912      8.354      2.357      0.019       3.277      36.105\n",
      "precipitacion_cesar                                              1.2395      7.224      0.172      0.864     -12.955      15.434\n",
      "precipitacion_choco                                             -1.6524      8.223     -0.201      0.841     -17.809      14.504\n",
      "precipitacion_cordoba                                           -7.3938      8.732     -0.847      0.398     -24.552       9.764\n",
      "precipitacion_cundinamarca                                      20.2981      6.668      3.044      0.002       7.196      33.400\n",
      "precipitacion_guainia                                           -6.2414      6.345     -0.984      0.326     -18.708       6.225\n",
      "precipitacion_guaviare                                           5.3602      6.754      0.794      0.428      -7.910      18.631\n",
      "precipitacion_huila                                             -7.2352      8.845     -0.818      0.414     -24.614      10.144\n",
      "precipitacion_la guajira                                        -0.5002      6.281     -0.080      0.937     -12.841      11.841\n",
      "precipitacion_magdalena                                         -4.0646      7.451     -0.546      0.586     -18.704      10.575\n",
      "precipitacion_meta                                               0.5541      7.498      0.074      0.941     -14.178      15.286\n",
      "precipitacion_narino                                           -15.0547      7.825     -1.924      0.055     -30.430       0.321\n",
      "precipitacion_norte de santander                               -11.1678      8.471     -1.318      0.188     -27.813       5.477\n",
      "precipitacion_putumayo                                          -4.4933      7.637     -0.588      0.557     -19.499      10.513\n",
      "precipitacion_quindio                                           -3.9492      7.954     -0.497      0.620     -19.577      11.679\n",
      "precipitacion_risaralda                                          8.1175      7.434      1.092      0.275      -6.489      22.724\n",
      "precipitacion_san andres providencia                            -3.7699      6.751     -0.558      0.577     -17.036       9.496\n",
      "precipitacion_santander                                         -8.6412      8.127     -1.063      0.288     -24.610       7.328\n",
      "precipitacion_sucre                                             -8.2699      8.167     -1.013      0.312     -24.316       7.776\n",
      "precipitacion_tolima                                             2.2701      9.054      0.251      0.802     -15.521      20.061\n",
      "precipitacion_valle del cauca                                    2.9737      8.796      0.338      0.735     -14.310      20.257\n",
      "precipitacion_vaupes                                            14.2458      7.041      2.023      0.044       0.412      28.080\n",
      "precipitacion_vichada                                            5.6966      7.933      0.718      0.473      -9.890      21.283\n",
      "precipitacion_colombia                                           0.5304      2.596      0.204      0.838      -4.571       5.631\n",
      "precipitacion_departamentos_represa                              6.2331      2.402      2.595      0.010       1.514      10.953\n",
      "temp_AMAZONAS                                                   -0.6504      8.415     -0.077      0.938     -17.184      15.884\n",
      "temp_ANTIOQUIA                                                 -26.3996     13.860     -1.905      0.057     -53.633       0.834\n",
      "temp_ARAUCA                                                    -33.9493     10.086     -3.366      0.001     -53.766     -14.132\n",
      "temp_ARCHIPIELAGO DE SAN ANDRES PROVIDENCIA Y SANTA CATALINA   -11.6592      7.640     -1.526      0.128     -26.672       3.353\n",
      "temp_ATLANTICO                                                  19.9501     12.080      1.651      0.099      -3.786      43.686\n",
      "temp_BOGOTA                                                     -2.5678     11.572     -0.222      0.824     -25.306      20.171\n",
      "temp_BOLIVAR                                                     4.2921     14.885      0.288      0.773     -24.955      33.539\n",
      "temp_BOYACA                                                      7.2570     12.170      0.596      0.551     -16.656      31.170\n",
      "temp_CALDAS                                                   -100.5871     14.997     -6.707      0.000    -130.055     -71.119\n",
      "temp_CAQUETA                                                    25.7685     10.385      2.481      0.013       5.363      46.174\n",
      "temp_CASANARE                                                  -28.5517     11.040     -2.586      0.010     -50.243      -6.860\n",
      "temp_CAUCA                                                     -22.1718     14.498     -1.529      0.127     -50.659       6.316\n",
      "temp_CESAR                                                      18.4015     14.881      1.237      0.217     -10.837      47.640\n",
      "temp_CHOCO                                                       3.8299     10.299      0.372      0.710     -16.406      24.066\n",
      "temp_CORDOBA                                                   -28.0230     15.048     -1.862      0.063     -57.590       1.544\n",
      "temp_CUNDINAMARCA                                               38.2981     18.061      2.120      0.034       2.810      73.786\n",
      "temp_GUAINIA                                                     8.5551      8.422      1.016      0.310      -7.993      25.103\n",
      "temp_GUAVIARE                                                   -9.8535      9.117     -1.081      0.280     -27.767       8.060\n",
      "temp_HUILA                                                      18.2229     13.512      1.349      0.178      -8.327      44.772\n",
      "temp_LA GUAJIRA                                                 -3.1239     11.195     -0.279      0.780     -25.121      18.873\n",
      "temp_MAGDALENA                                                 -17.7310      9.191     -1.929      0.054     -35.791       0.329\n",
      "temp_META                                                       21.4124     10.716      1.998      0.046       0.356      42.468\n",
      "temp_NARINO                                                     -8.7084     11.011     -0.791      0.429     -30.344      12.927\n",
      "temp_NORTE DE SANTANDER                                         32.1488     15.434      2.083      0.038       1.823      62.475\n",
      "temp_PUTUMAYO                                                  -18.2216      9.230     -1.974      0.049     -36.357      -0.086\n",
      "temp_QUINDIO                                                    46.5761     20.124      2.314      0.021       7.034      86.118\n",
      "temp_RISARALDA                                                  22.6526     17.125      1.323      0.187     -10.996      56.301\n",
      "temp_SANTANDER                                                  24.7170     19.176      1.289      0.198     -12.962      62.396\n",
      "temp_SUCRE                                                      12.3039     13.736      0.896      0.371     -14.686      39.294\n",
      "temp_TOLIMA                                                    -10.4589     14.276     -0.733      0.464     -38.509      17.591\n",
      "temp_VALLE DEL CAUCA                                            27.0464     16.813      1.609      0.108      -5.989      60.081\n",
      "temp_VICHADA                                                    -9.2079      9.670     -0.952      0.341     -28.208       9.793\n",
      "temp_avg_pais                                                   -0.1295      1.090     -0.119      0.906      -2.272       2.013\n",
      "temp_avg_represas                                              -11.4740      3.757     -3.054      0.002     -18.855      -4.093\n",
      "brent_value                                                    -84.1210     10.401     -8.088      0.000    -104.557     -63.685\n",
      "TRM                                                            -10.0822     10.104     -0.998      0.319     -29.935       9.770\n",
      "==============================================================================\n",
      "Omnibus:                       54.270   Durbin-Watson:                   0.544\n",
      "Prob(Omnibus):                  0.000   Jarque-Bera (JB):               77.710\n",
      "Skew:                           0.709   Prob(JB):                     1.33e-17\n",
      "Kurtosis:                       4.170   Cond. No.                     1.04e+16\n",
      "==============================================================================\n",
      "\n",
      "Notes:\n",
      "[1] Standard Errors assume that the covariance matrix of the errors is correctly specified.\n",
      "[2] The smallest eigenvalue is 8.47e-29. This might indicate that there are\n",
      "strong multicollinearity problems or that the design matrix is singular.\n"
     ]
    }
   ],
   "source": [
    "X = sm.add_constant(X_train)\n",
    "\n",
    "# Create a model\n",
    "model = sm.OLS(y_train, X)\n",
    "\n",
    "# Fit the model\n",
    "result = model.fit()\n",
    "result_summary = result.summary()\n",
    "\n",
    "# Print out the statistics\n",
    "print(result_summary)"
   ]
  },
  {
   "cell_type": "code",
   "execution_count": 28,
   "metadata": {},
   "outputs": [
    {
     "name": "stdout",
     "output_type": "stream",
     "text": [
      "               Variables significativas\n",
      "0                                 const\n",
      "1                 precipitacion_caqueta\n",
      "2                   precipitacion_cauca\n",
      "3            precipitacion_cundinamarca\n",
      "4                  precipitacion_vaupes\n",
      "5   precipitacion_departamentos_represa\n",
      "6                           temp_ARAUCA\n",
      "7                           temp_CALDAS\n",
      "8                          temp_CAQUETA\n",
      "9                         temp_CASANARE\n",
      "10                    temp_CUNDINAMARCA\n",
      "11                            temp_META\n",
      "12              temp_NORTE DE SANTANDER\n",
      "13                        temp_PUTUMAYO\n",
      "14                         temp_QUINDIO\n",
      "15                    temp_avg_represas\n",
      "16                          brent_value\n"
     ]
    }
   ],
   "source": [
    "result_summary_df = result_summary.tables[1]\n",
    "significant_variables = []\n",
    "significance_level = 0.05\n",
    "for i in range(1, len(result_summary_df)):\n",
    "    p_value = float(result_summary_df[i][4].data)\n",
    "    if p_value < significance_level:\n",
    "        significant_variables.append(result_summary_df[i][0].data)\n",
    "print(pd.DataFrame({\"Variables significativas\": significant_variables}))"
   ]
  }
 ],
 "metadata": {
  "kernelspec": {
   "display_name": "Proyecto-Integrador-Semestre1-ERzOjjfT",
   "language": "python",
   "name": "python3"
  },
  "language_info": {
   "codemirror_mode": {
    "name": "ipython",
    "version": 3
   },
   "file_extension": ".py",
   "mimetype": "text/x-python",
   "name": "python",
   "nbconvert_exporter": "python",
   "pygments_lexer": "ipython3",
   "version": "3.11.5"
  }
 },
 "nbformat": 4,
 "nbformat_minor": 2
}
