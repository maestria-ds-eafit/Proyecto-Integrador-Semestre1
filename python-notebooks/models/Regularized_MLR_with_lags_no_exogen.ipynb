{
 "cells": [
  {
   "cell_type": "code",
   "execution_count": 1,
   "metadata": {},
   "outputs": [],
   "source": [
    "from sklearn.linear_model import Lasso\n",
    "import pandas as pd\n",
    "from sklearn.model_selection import KFold, RandomizedSearchCV\n",
    "import numpy as np\n",
    "from sklearn.metrics import mean_squared_error\n",
    "from lags import create_df_with_lags"
   ]
  },
  {
   "cell_type": "code",
   "execution_count": 2,
   "metadata": {},
   "outputs": [],
   "source": [
    "df = pd.read_csv(\"../processed_tables/merged_standardized.csv\")"
   ]
  },
  {
   "cell_type": "markdown",
   "metadata": {},
   "source": [
    "## Creación de lags para el precio de la energía"
   ]
  },
  {
   "cell_type": "code",
   "execution_count": 3,
   "metadata": {},
   "outputs": [
    {
     "data": {
      "text/html": [
       "<div>\n",
       "<style scoped>\n",
       "    .dataframe tbody tr th:only-of-type {\n",
       "        vertical-align: middle;\n",
       "    }\n",
       "\n",
       "    .dataframe tbody tr th {\n",
       "        vertical-align: top;\n",
       "    }\n",
       "\n",
       "    .dataframe thead th {\n",
       "        text-align: right;\n",
       "    }\n",
       "</style>\n",
       "<table border=\"1\" class=\"dataframe\">\n",
       "  <thead>\n",
       "    <tr style=\"text-align: right;\">\n",
       "      <th></th>\n",
       "      <th>Date</th>\n",
       "      <th>energy_price</th>\n",
       "      <th>energy_price_lag_1</th>\n",
       "      <th>energy_price_lag_2</th>\n",
       "      <th>energy_price_lag_3</th>\n",
       "    </tr>\n",
       "  </thead>\n",
       "  <tbody>\n",
       "    <tr>\n",
       "      <th>3</th>\n",
       "      <td>2021-10-04</td>\n",
       "      <td>286.526116</td>\n",
       "      <td>282.065065</td>\n",
       "      <td>256.940174</td>\n",
       "      <td>216.929726</td>\n",
       "    </tr>\n",
       "    <tr>\n",
       "      <th>4</th>\n",
       "      <td>2021-10-05</td>\n",
       "      <td>278.157325</td>\n",
       "      <td>286.526116</td>\n",
       "      <td>282.065065</td>\n",
       "      <td>256.940174</td>\n",
       "    </tr>\n",
       "    <tr>\n",
       "      <th>5</th>\n",
       "      <td>2021-10-06</td>\n",
       "      <td>261.474788</td>\n",
       "      <td>278.157325</td>\n",
       "      <td>286.526116</td>\n",
       "      <td>282.065065</td>\n",
       "    </tr>\n",
       "    <tr>\n",
       "      <th>6</th>\n",
       "      <td>2021-10-07</td>\n",
       "      <td>235.857848</td>\n",
       "      <td>261.474788</td>\n",
       "      <td>278.157325</td>\n",
       "      <td>286.526116</td>\n",
       "    </tr>\n",
       "    <tr>\n",
       "      <th>7</th>\n",
       "      <td>2021-10-08</td>\n",
       "      <td>229.313699</td>\n",
       "      <td>235.857848</td>\n",
       "      <td>261.474788</td>\n",
       "      <td>278.157325</td>\n",
       "    </tr>\n",
       "  </tbody>\n",
       "</table>\n",
       "</div>"
      ],
      "text/plain": [
       "         Date  energy_price  energy_price_lag_1  energy_price_lag_2  \\\n",
       "3  2021-10-04    286.526116          282.065065          256.940174   \n",
       "4  2021-10-05    278.157325          286.526116          282.065065   \n",
       "5  2021-10-06    261.474788          278.157325          286.526116   \n",
       "6  2021-10-07    235.857848          261.474788          278.157325   \n",
       "7  2021-10-08    229.313699          235.857848          261.474788   \n",
       "\n",
       "   energy_price_lag_3  \n",
       "3          216.929726  \n",
       "4          256.940174  \n",
       "5          282.065065  \n",
       "6          286.526116  \n",
       "7          278.157325  "
      ]
     },
     "execution_count": 3,
     "metadata": {},
     "output_type": "execute_result"
    }
   ],
   "source": [
    "df = create_df_with_lags(df, 3)\n",
    "lag_columns = df.filter(like=\"lag_\")\n",
    "price = df[[\"Date\", \"energy_price\"]]\n",
    "df = pd.concat([price, lag_columns], axis=1)\n",
    "df.head()"
   ]
  },
  {
   "cell_type": "markdown",
   "metadata": {},
   "source": [
    "## Partición de la data\n",
    "\n",
    "Debido a que la naturaleza de la data es de carácter temporal, se realizará una partición de la data en 3 partes: entrenamiento y prueba. La data de test será los últimos 3 meses de la data, es decir desde julio 2023 hasta septiembre 2023.\n"
   ]
  },
  {
   "cell_type": "code",
   "execution_count": 4,
   "metadata": {},
   "outputs": [],
   "source": [
    "fecha_corte = \"2023-07-01\"\n",
    "X_train = df[df[\"Date\"] < fecha_corte].drop([\"Date\", \"energy_price\"], axis=1)\n",
    "X_test = df[df[\"Date\"] >= fecha_corte].drop([\"Date\", \"energy_price\"], axis=1)\n",
    "y_train = df[df[\"Date\"] < fecha_corte][\"energy_price\"]\n",
    "y_test = df[df[\"Date\"] >= fecha_corte][\"energy_price\"]"
   ]
  },
  {
   "cell_type": "markdown",
   "metadata": {},
   "source": [
    "## Regresión lineal\n",
    "\n",
    "Esta vez utilizaremos `sklearn` para hacer la regresión Lasso y poder ver qué coeficientes son cero.\n"
   ]
  },
  {
   "cell_type": "code",
   "execution_count": 5,
   "metadata": {},
   "outputs": [
    {
     "name": "stdout",
     "output_type": "stream",
     "text": [
      "Best parameters found:  {'alpha': 4.281332398719396}\n",
      "Best cross-validation score:  0.9402050642672375\n"
     ]
    }
   ],
   "source": [
    "lasso = Lasso()\n",
    "\n",
    "# Define the parameter grid to search\n",
    "param_grid = {'alpha': np.logspace(-4, 4, 20)}\n",
    "\n",
    "# Setup Cross-Validation\n",
    "kfold = KFold(n_splits=5, shuffle=True, random_state=42)\n",
    "\n",
    "# Setup Randomized Grid Search\n",
    "lasso_cv = RandomizedSearchCV(lasso, param_grid, cv=kfold, random_state=42)\n",
    "\n",
    "# Fit the model\n",
    "lasso_cv.fit(X_train, y_train)\n",
    "\n",
    "# Print the best parameters and score\n",
    "print(\"Best parameters found: \", lasso_cv.best_params_)\n",
    "print(\"Best cross-validation score: \", lasso_cv.best_score_)"
   ]
  },
  {
   "cell_type": "code",
   "execution_count": 6,
   "metadata": {},
   "outputs": [],
   "source": [
    "y_pred = lasso_cv.predict(X_test)"
   ]
  },
  {
   "cell_type": "code",
   "execution_count": 7,
   "metadata": {},
   "outputs": [
    {
     "name": "stdout",
     "output_type": "stream",
     "text": [
      "Mean Squared Error on Test Data: 4534.664925587474\n"
     ]
    }
   ],
   "source": [
    "mse_test = mean_squared_error(y_test, y_pred)\n",
    "\n",
    "print(\"Mean Squared Error on Test Data:\", mse_test)"
   ]
  },
  {
   "cell_type": "code",
   "execution_count": 8,
   "metadata": {},
   "outputs": [],
   "source": [
    "coefficients = lasso_cv.best_estimator_.coef_"
   ]
  },
  {
   "cell_type": "code",
   "execution_count": 9,
   "metadata": {},
   "outputs": [
    {
     "name": "stdout",
     "output_type": "stream",
     "text": [
      "energy_price_lag_1: 1.0793042203114995\n",
      "energy_price_lag_2: 0.0634580401317947\n",
      "energy_price_lag_3: -0.1812666616568457\n"
     ]
    }
   ],
   "source": [
    "feature_names = X_train.columns\n",
    "\n",
    "# Filter the coefficients and corresponding feature names\n",
    "non_zero_coefficients = coefficients[coefficients != 0]\n",
    "non_zero_features = feature_names[coefficients != 0]\n",
    "\n",
    "# Print the non-zero coefficients and their corresponding feature names\n",
    "for feature, coef in zip(non_zero_features, non_zero_coefficients):\n",
    "    print(f\"{feature}: {coef}\")"
   ]
  }
 ],
 "metadata": {
  "kernelspec": {
   "display_name": "Proyecto-Integrador-Semestre1-ERzOjjfT",
   "language": "python",
   "name": "python3"
  },
  "language_info": {
   "codemirror_mode": {
    "name": "ipython",
    "version": 3
   },
   "file_extension": ".py",
   "mimetype": "text/x-python",
   "name": "python",
   "nbconvert_exporter": "python",
   "pygments_lexer": "ipython3",
   "version": "3.11.5"
  }
 },
 "nbformat": 4,
 "nbformat_minor": 2
}
