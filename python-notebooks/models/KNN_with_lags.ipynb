{
 "cells": [
  {
   "cell_type": "code",
   "execution_count": 1,
   "metadata": {},
   "outputs": [],
   "source": [
    "import pandas as pd\n",
    "from sklearn.model_selection import RandomizedSearchCV\n",
    "from sklearn.metrics import mean_squared_error\n",
    "from sklearn.neighbors import KNeighborsRegressor\n",
    "from lags import create_df_with_lags"
   ]
  },
  {
   "cell_type": "code",
   "execution_count": 2,
   "metadata": {},
   "outputs": [],
   "source": [
    "df = pd.read_csv(\"../processed_tables/merged_standardized.csv\")"
   ]
  },
  {
   "cell_type": "markdown",
   "metadata": {},
   "source": [
    "## Creación de lags para el precio de la energía"
   ]
  },
  {
   "cell_type": "code",
   "execution_count": 3,
   "metadata": {},
   "outputs": [
    {
     "data": {
      "text/html": [
       "<div>\n",
       "<style scoped>\n",
       "    .dataframe tbody tr th:only-of-type {\n",
       "        vertical-align: middle;\n",
       "    }\n",
       "\n",
       "    .dataframe tbody tr th {\n",
       "        vertical-align: top;\n",
       "    }\n",
       "\n",
       "    .dataframe thead th {\n",
       "        text-align: right;\n",
       "    }\n",
       "</style>\n",
       "<table border=\"1\" class=\"dataframe\">\n",
       "  <thead>\n",
       "    <tr style=\"text-align: right;\">\n",
       "      <th></th>\n",
       "      <th>precipitacion_amazonas</th>\n",
       "      <th>precipitacion_antioquia</th>\n",
       "      <th>precipitacion_arauca</th>\n",
       "      <th>precipitacion_atlantico</th>\n",
       "      <th>precipitacion_bogota</th>\n",
       "      <th>precipitacion_bolivar</th>\n",
       "      <th>precipitacion_boyaca</th>\n",
       "      <th>precipitacion_caldas</th>\n",
       "      <th>precipitacion_caqueta</th>\n",
       "      <th>precipitacion_casanare</th>\n",
       "      <th>...</th>\n",
       "      <th>temp_VICHADA</th>\n",
       "      <th>temp_avg_pais</th>\n",
       "      <th>temp_avg_represas</th>\n",
       "      <th>brent_value</th>\n",
       "      <th>TRM</th>\n",
       "      <th>Date</th>\n",
       "      <th>energy_price</th>\n",
       "      <th>energy_price_lag_1</th>\n",
       "      <th>energy_price_lag_2</th>\n",
       "      <th>energy_price_lag_3</th>\n",
       "    </tr>\n",
       "  </thead>\n",
       "  <tbody>\n",
       "    <tr>\n",
       "      <th>3</th>\n",
       "      <td>-0.580600</td>\n",
       "      <td>-0.100687</td>\n",
       "      <td>1.718155</td>\n",
       "      <td>-0.183251</td>\n",
       "      <td>-0.287443</td>\n",
       "      <td>3.802742</td>\n",
       "      <td>0.274778</td>\n",
       "      <td>-0.533335</td>\n",
       "      <td>-0.300951</td>\n",
       "      <td>0.339387</td>\n",
       "      <td>...</td>\n",
       "      <td>0.057805</td>\n",
       "      <td>1.150745</td>\n",
       "      <td>0.723472</td>\n",
       "      <td>-0.761153</td>\n",
       "      <td>-1.423606</td>\n",
       "      <td>2021-10-04</td>\n",
       "      <td>286.526116</td>\n",
       "      <td>282.065065</td>\n",
       "      <td>256.940174</td>\n",
       "      <td>216.929726</td>\n",
       "    </tr>\n",
       "    <tr>\n",
       "      <th>4</th>\n",
       "      <td>0.016831</td>\n",
       "      <td>1.136810</td>\n",
       "      <td>2.981760</td>\n",
       "      <td>0.521690</td>\n",
       "      <td>-0.560886</td>\n",
       "      <td>0.362265</td>\n",
       "      <td>1.586688</td>\n",
       "      <td>0.365171</td>\n",
       "      <td>0.158697</td>\n",
       "      <td>-0.180160</td>\n",
       "      <td>...</td>\n",
       "      <td>-0.701899</td>\n",
       "      <td>0.112145</td>\n",
       "      <td>-0.197147</td>\n",
       "      <td>-0.614059</td>\n",
       "      <td>-1.411032</td>\n",
       "      <td>2021-10-05</td>\n",
       "      <td>278.157325</td>\n",
       "      <td>286.526116</td>\n",
       "      <td>282.065065</td>\n",
       "      <td>256.940174</td>\n",
       "    </tr>\n",
       "    <tr>\n",
       "      <th>5</th>\n",
       "      <td>-0.142496</td>\n",
       "      <td>3.004638</td>\n",
       "      <td>4.689849</td>\n",
       "      <td>-0.306373</td>\n",
       "      <td>-0.567283</td>\n",
       "      <td>0.898967</td>\n",
       "      <td>2.674880</td>\n",
       "      <td>0.219436</td>\n",
       "      <td>2.305734</td>\n",
       "      <td>0.758029</td>\n",
       "      <td>...</td>\n",
       "      <td>1.235347</td>\n",
       "      <td>-0.157838</td>\n",
       "      <td>-0.525688</td>\n",
       "      <td>-0.624360</td>\n",
       "      <td>-1.383612</td>\n",
       "      <td>2021-10-06</td>\n",
       "      <td>261.474788</td>\n",
       "      <td>278.157325</td>\n",
       "      <td>286.526116</td>\n",
       "      <td>282.065065</td>\n",
       "    </tr>\n",
       "    <tr>\n",
       "      <th>6</th>\n",
       "      <td>0.132014</td>\n",
       "      <td>0.622153</td>\n",
       "      <td>1.953096</td>\n",
       "      <td>-0.256603</td>\n",
       "      <td>-0.572080</td>\n",
       "      <td>-0.005022</td>\n",
       "      <td>0.895201</td>\n",
       "      <td>-0.454157</td>\n",
       "      <td>-0.524727</td>\n",
       "      <td>-0.042188</td>\n",
       "      <td>...</td>\n",
       "      <td>0.171761</td>\n",
       "      <td>0.802658</td>\n",
       "      <td>0.438749</td>\n",
       "      <td>-0.726955</td>\n",
       "      <td>-1.405736</td>\n",
       "      <td>2021-10-07</td>\n",
       "      <td>235.857848</td>\n",
       "      <td>261.474788</td>\n",
       "      <td>278.157325</td>\n",
       "      <td>286.526116</td>\n",
       "    </tr>\n",
       "    <tr>\n",
       "      <th>7</th>\n",
       "      <td>-0.556487</td>\n",
       "      <td>4.243553</td>\n",
       "      <td>2.308684</td>\n",
       "      <td>-0.184229</td>\n",
       "      <td>0.316477</td>\n",
       "      <td>0.581741</td>\n",
       "      <td>0.004270</td>\n",
       "      <td>-0.263669</td>\n",
       "      <td>-0.170919</td>\n",
       "      <td>0.066591</td>\n",
       "      <td>...</td>\n",
       "      <td>0.513628</td>\n",
       "      <td>0.574980</td>\n",
       "      <td>-0.071897</td>\n",
       "      <td>-0.569972</td>\n",
       "      <td>-1.447442</td>\n",
       "      <td>2021-10-08</td>\n",
       "      <td>229.313699</td>\n",
       "      <td>235.857848</td>\n",
       "      <td>261.474788</td>\n",
       "      <td>278.157325</td>\n",
       "    </tr>\n",
       "  </tbody>\n",
       "</table>\n",
       "<p>5 rows × 76 columns</p>\n",
       "</div>"
      ],
      "text/plain": [
       "   precipitacion_amazonas  precipitacion_antioquia  precipitacion_arauca  \\\n",
       "3               -0.580600                -0.100687              1.718155   \n",
       "4                0.016831                 1.136810              2.981760   \n",
       "5               -0.142496                 3.004638              4.689849   \n",
       "6                0.132014                 0.622153              1.953096   \n",
       "7               -0.556487                 4.243553              2.308684   \n",
       "\n",
       "   precipitacion_atlantico  precipitacion_bogota  precipitacion_bolivar  \\\n",
       "3                -0.183251             -0.287443               3.802742   \n",
       "4                 0.521690             -0.560886               0.362265   \n",
       "5                -0.306373             -0.567283               0.898967   \n",
       "6                -0.256603             -0.572080              -0.005022   \n",
       "7                -0.184229              0.316477               0.581741   \n",
       "\n",
       "   precipitacion_boyaca  precipitacion_caldas  precipitacion_caqueta  \\\n",
       "3              0.274778             -0.533335              -0.300951   \n",
       "4              1.586688              0.365171               0.158697   \n",
       "5              2.674880              0.219436               2.305734   \n",
       "6              0.895201             -0.454157              -0.524727   \n",
       "7              0.004270             -0.263669              -0.170919   \n",
       "\n",
       "   precipitacion_casanare  ...  temp_VICHADA  temp_avg_pais  \\\n",
       "3                0.339387  ...      0.057805       1.150745   \n",
       "4               -0.180160  ...     -0.701899       0.112145   \n",
       "5                0.758029  ...      1.235347      -0.157838   \n",
       "6               -0.042188  ...      0.171761       0.802658   \n",
       "7                0.066591  ...      0.513628       0.574980   \n",
       "\n",
       "   temp_avg_represas  brent_value       TRM        Date  energy_price  \\\n",
       "3           0.723472    -0.761153 -1.423606  2021-10-04    286.526116   \n",
       "4          -0.197147    -0.614059 -1.411032  2021-10-05    278.157325   \n",
       "5          -0.525688    -0.624360 -1.383612  2021-10-06    261.474788   \n",
       "6           0.438749    -0.726955 -1.405736  2021-10-07    235.857848   \n",
       "7          -0.071897    -0.569972 -1.447442  2021-10-08    229.313699   \n",
       "\n",
       "   energy_price_lag_1  energy_price_lag_2  energy_price_lag_3  \n",
       "3          282.065065          256.940174          216.929726  \n",
       "4          286.526116          282.065065          256.940174  \n",
       "5          278.157325          286.526116          282.065065  \n",
       "6          261.474788          278.157325          286.526116  \n",
       "7          235.857848          261.474788          278.157325  \n",
       "\n",
       "[5 rows x 76 columns]"
      ]
     },
     "execution_count": 3,
     "metadata": {},
     "output_type": "execute_result"
    }
   ],
   "source": [
    "df = create_df_with_lags(df, 3)\n",
    "df.head()"
   ]
  },
  {
   "cell_type": "markdown",
   "metadata": {},
   "source": [
    "## Partición de la data\n",
    "\n",
    "Debido a que la naturaleza de la data es de carácter temporal, se realizará una partición de la data en 3 partes: entrenamiento y prueba. La data de test será los últimos 3 meses de la data, es decir desde julio 2023 hasta septiembre 2023.\n"
   ]
  },
  {
   "cell_type": "code",
   "execution_count": 4,
   "metadata": {},
   "outputs": [],
   "source": [
    "fecha_corte = \"2023-07-01\"\n",
    "X_train = df[df[\"Date\"] < fecha_corte].drop([\"Date\", \"energy_price\"], axis=1)\n",
    "X_test = df[df[\"Date\"] >= fecha_corte].drop([\"Date\", \"energy_price\"], axis=1)\n",
    "y_train = df[df[\"Date\"] < fecha_corte][\"energy_price\"]\n",
    "y_test = df[df[\"Date\"] >= fecha_corte][\"energy_price\"]"
   ]
  },
  {
   "cell_type": "markdown",
   "metadata": {},
   "source": [
    "## KNN\n",
    "\n",
    "Esta vez utilizaremos `sklearn` para hacer KNN con regresión, variando parámetros como el número de vecinos, la métrica de distancia y la técnica de pesado."
   ]
  },
  {
   "cell_type": "code",
   "execution_count": 5,
   "metadata": {},
   "outputs": [
    {
     "data": {
      "text/html": [
       "<style>#sk-container-id-1 {color: black;}#sk-container-id-1 pre{padding: 0;}#sk-container-id-1 div.sk-toggleable {background-color: white;}#sk-container-id-1 label.sk-toggleable__label {cursor: pointer;display: block;width: 100%;margin-bottom: 0;padding: 0.3em;box-sizing: border-box;text-align: center;}#sk-container-id-1 label.sk-toggleable__label-arrow:before {content: \"▸\";float: left;margin-right: 0.25em;color: #696969;}#sk-container-id-1 label.sk-toggleable__label-arrow:hover:before {color: black;}#sk-container-id-1 div.sk-estimator:hover label.sk-toggleable__label-arrow:before {color: black;}#sk-container-id-1 div.sk-toggleable__content {max-height: 0;max-width: 0;overflow: hidden;text-align: left;background-color: #f0f8ff;}#sk-container-id-1 div.sk-toggleable__content pre {margin: 0.2em;color: black;border-radius: 0.25em;background-color: #f0f8ff;}#sk-container-id-1 input.sk-toggleable__control:checked~div.sk-toggleable__content {max-height: 200px;max-width: 100%;overflow: auto;}#sk-container-id-1 input.sk-toggleable__control:checked~label.sk-toggleable__label-arrow:before {content: \"▾\";}#sk-container-id-1 div.sk-estimator input.sk-toggleable__control:checked~label.sk-toggleable__label {background-color: #d4ebff;}#sk-container-id-1 div.sk-label input.sk-toggleable__control:checked~label.sk-toggleable__label {background-color: #d4ebff;}#sk-container-id-1 input.sk-hidden--visually {border: 0;clip: rect(1px 1px 1px 1px);clip: rect(1px, 1px, 1px, 1px);height: 1px;margin: -1px;overflow: hidden;padding: 0;position: absolute;width: 1px;}#sk-container-id-1 div.sk-estimator {font-family: monospace;background-color: #f0f8ff;border: 1px dotted black;border-radius: 0.25em;box-sizing: border-box;margin-bottom: 0.5em;}#sk-container-id-1 div.sk-estimator:hover {background-color: #d4ebff;}#sk-container-id-1 div.sk-parallel-item::after {content: \"\";width: 100%;border-bottom: 1px solid gray;flex-grow: 1;}#sk-container-id-1 div.sk-label:hover label.sk-toggleable__label {background-color: #d4ebff;}#sk-container-id-1 div.sk-serial::before {content: \"\";position: absolute;border-left: 1px solid gray;box-sizing: border-box;top: 0;bottom: 0;left: 50%;z-index: 0;}#sk-container-id-1 div.sk-serial {display: flex;flex-direction: column;align-items: center;background-color: white;padding-right: 0.2em;padding-left: 0.2em;position: relative;}#sk-container-id-1 div.sk-item {position: relative;z-index: 1;}#sk-container-id-1 div.sk-parallel {display: flex;align-items: stretch;justify-content: center;background-color: white;position: relative;}#sk-container-id-1 div.sk-item::before, #sk-container-id-1 div.sk-parallel-item::before {content: \"\";position: absolute;border-left: 1px solid gray;box-sizing: border-box;top: 0;bottom: 0;left: 50%;z-index: -1;}#sk-container-id-1 div.sk-parallel-item {display: flex;flex-direction: column;z-index: 1;position: relative;background-color: white;}#sk-container-id-1 div.sk-parallel-item:first-child::after {align-self: flex-end;width: 50%;}#sk-container-id-1 div.sk-parallel-item:last-child::after {align-self: flex-start;width: 50%;}#sk-container-id-1 div.sk-parallel-item:only-child::after {width: 0;}#sk-container-id-1 div.sk-dashed-wrapped {border: 1px dashed gray;margin: 0 0.4em 0.5em 0.4em;box-sizing: border-box;padding-bottom: 0.4em;background-color: white;}#sk-container-id-1 div.sk-label label {font-family: monospace;font-weight: bold;display: inline-block;line-height: 1.2em;}#sk-container-id-1 div.sk-label-container {text-align: center;}#sk-container-id-1 div.sk-container {/* jupyter's `normalize.less` sets `[hidden] { display: none; }` but bootstrap.min.css set `[hidden] { display: none !important; }` so we also need the `!important` here to be able to override the default hidden behavior on the sphinx rendered scikit-learn.org. See: https://github.com/scikit-learn/scikit-learn/issues/21755 */display: inline-block !important;position: relative;}#sk-container-id-1 div.sk-text-repr-fallback {display: none;}</style><div id=\"sk-container-id-1\" class=\"sk-top-container\"><div class=\"sk-text-repr-fallback\"><pre>RandomizedSearchCV(cv=5, estimator=KNeighborsRegressor(), n_iter=100,\n",
       "                   param_distributions={&#x27;n_neighbors&#x27;: range(1, 30),\n",
       "                                        &#x27;p&#x27;: [1, 2],\n",
       "                                        &#x27;weights&#x27;: [&#x27;uniform&#x27;, &#x27;distance&#x27;]},\n",
       "                   random_state=42, scoring=&#x27;neg_mean_squared_error&#x27;)</pre><b>In a Jupyter environment, please rerun this cell to show the HTML representation or trust the notebook. <br />On GitHub, the HTML representation is unable to render, please try loading this page with nbviewer.org.</b></div><div class=\"sk-container\" hidden><div class=\"sk-item sk-dashed-wrapped\"><div class=\"sk-label-container\"><div class=\"sk-label sk-toggleable\"><input class=\"sk-toggleable__control sk-hidden--visually\" id=\"sk-estimator-id-1\" type=\"checkbox\" ><label for=\"sk-estimator-id-1\" class=\"sk-toggleable__label sk-toggleable__label-arrow\">RandomizedSearchCV</label><div class=\"sk-toggleable__content\"><pre>RandomizedSearchCV(cv=5, estimator=KNeighborsRegressor(), n_iter=100,\n",
       "                   param_distributions={&#x27;n_neighbors&#x27;: range(1, 30),\n",
       "                                        &#x27;p&#x27;: [1, 2],\n",
       "                                        &#x27;weights&#x27;: [&#x27;uniform&#x27;, &#x27;distance&#x27;]},\n",
       "                   random_state=42, scoring=&#x27;neg_mean_squared_error&#x27;)</pre></div></div></div><div class=\"sk-parallel\"><div class=\"sk-parallel-item\"><div class=\"sk-item\"><div class=\"sk-label-container\"><div class=\"sk-label sk-toggleable\"><input class=\"sk-toggleable__control sk-hidden--visually\" id=\"sk-estimator-id-2\" type=\"checkbox\" ><label for=\"sk-estimator-id-2\" class=\"sk-toggleable__label sk-toggleable__label-arrow\">estimator: KNeighborsRegressor</label><div class=\"sk-toggleable__content\"><pre>KNeighborsRegressor()</pre></div></div></div><div class=\"sk-serial\"><div class=\"sk-item\"><div class=\"sk-estimator sk-toggleable\"><input class=\"sk-toggleable__control sk-hidden--visually\" id=\"sk-estimator-id-3\" type=\"checkbox\" ><label for=\"sk-estimator-id-3\" class=\"sk-toggleable__label sk-toggleable__label-arrow\">KNeighborsRegressor</label><div class=\"sk-toggleable__content\"><pre>KNeighborsRegressor()</pre></div></div></div></div></div></div></div></div></div></div>"
      ],
      "text/plain": [
       "RandomizedSearchCV(cv=5, estimator=KNeighborsRegressor(), n_iter=100,\n",
       "                   param_distributions={'n_neighbors': range(1, 30),\n",
       "                                        'p': [1, 2],\n",
       "                                        'weights': ['uniform', 'distance']},\n",
       "                   random_state=42, scoring='neg_mean_squared_error')"
      ]
     },
     "execution_count": 5,
     "metadata": {},
     "output_type": "execute_result"
    }
   ],
   "source": [
    "param_dist = {\n",
    "    'n_neighbors': range(1, 30),\n",
    "    'weights': ['uniform', 'distance'],\n",
    "    'p': [1, 2]\n",
    "}\n",
    "\n",
    "# Creating the RandomizedSearchCV object\n",
    "knn_regressor = KNeighborsRegressor()\n",
    "random_search = RandomizedSearchCV(knn_regressor, param_distributions=param_dist, \n",
    "                                   n_iter=100, cv=5, scoring='neg_mean_squared_error', random_state=42)\n",
    "\n",
    "# Fitting the model\n",
    "random_search.fit(X_train, y_train)"
   ]
  },
  {
   "cell_type": "code",
   "execution_count": 6,
   "metadata": {},
   "outputs": [
    {
     "name": "stdout",
     "output_type": "stream",
     "text": [
      "Best parameters: {'weights': 'distance', 'p': 2, 'n_neighbors': 7}\n"
     ]
    }
   ],
   "source": [
    "print(f\"Best parameters: {random_search.best_params_}\")"
   ]
  },
  {
   "cell_type": "code",
   "execution_count": 7,
   "metadata": {},
   "outputs": [],
   "source": [
    "best_knn_regressor = random_search.best_estimator_\n",
    "y_pred = best_knn_regressor.predict(X_test)"
   ]
  },
  {
   "cell_type": "code",
   "execution_count": 8,
   "metadata": {},
   "outputs": [
    {
     "name": "stdout",
     "output_type": "stream",
     "text": [
      "Mean Squared Error on Test Data: 25442.38492607358\n"
     ]
    }
   ],
   "source": [
    "mse_test = mean_squared_error(y_test, y_pred)\n",
    "\n",
    "print(\"Mean Squared Error on Test Data:\", mse_test)"
   ]
  }
 ],
 "metadata": {
  "kernelspec": {
   "display_name": "Proyecto-Integrador-Semestre1-ERzOjjfT",
   "language": "python",
   "name": "python3"
  },
  "language_info": {
   "codemirror_mode": {
    "name": "ipython",
    "version": 3
   },
   "file_extension": ".py",
   "mimetype": "text/x-python",
   "name": "python",
   "nbconvert_exporter": "python",
   "pygments_lexer": "ipython3",
   "version": "3.11.5"
  }
 },
 "nbformat": 4,
 "nbformat_minor": 2
}
