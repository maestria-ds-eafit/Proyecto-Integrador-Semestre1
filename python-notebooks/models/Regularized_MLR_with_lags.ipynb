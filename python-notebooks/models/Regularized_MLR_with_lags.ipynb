{
 "cells": [
  {
   "cell_type": "code",
   "execution_count": 1,
   "metadata": {},
   "outputs": [],
   "source": [
    "from sklearn.linear_model import Lasso\n",
    "import pandas as pd\n",
    "from sklearn.model_selection import KFold, RandomizedSearchCV\n",
    "import numpy as np\n",
    "from sklearn.metrics import mean_squared_error\n",
    "from lags import create_df_with_lags"
   ]
  },
  {
   "cell_type": "code",
   "execution_count": 2,
   "metadata": {},
   "outputs": [],
   "source": [
    "df = pd.read_csv(\"../processed_tables/merged_standardized.csv\")"
   ]
  },
  {
   "cell_type": "markdown",
   "metadata": {},
   "source": [
    "## Creación de lags para el precio de la energía"
   ]
  },
  {
   "cell_type": "code",
   "execution_count": 3,
   "metadata": {},
   "outputs": [
    {
     "data": {
      "text/html": [
       "<div>\n",
       "<style scoped>\n",
       "    .dataframe tbody tr th:only-of-type {\n",
       "        vertical-align: middle;\n",
       "    }\n",
       "\n",
       "    .dataframe tbody tr th {\n",
       "        vertical-align: top;\n",
       "    }\n",
       "\n",
       "    .dataframe thead th {\n",
       "        text-align: right;\n",
       "    }\n",
       "</style>\n",
       "<table border=\"1\" class=\"dataframe\">\n",
       "  <thead>\n",
       "    <tr style=\"text-align: right;\">\n",
       "      <th></th>\n",
       "      <th>precipitacion_amazonas</th>\n",
       "      <th>precipitacion_antioquia</th>\n",
       "      <th>precipitacion_arauca</th>\n",
       "      <th>precipitacion_atlantico</th>\n",
       "      <th>precipitacion_bogota</th>\n",
       "      <th>precipitacion_bolivar</th>\n",
       "      <th>precipitacion_boyaca</th>\n",
       "      <th>precipitacion_caldas</th>\n",
       "      <th>precipitacion_caqueta</th>\n",
       "      <th>precipitacion_casanare</th>\n",
       "      <th>...</th>\n",
       "      <th>temp_VICHADA</th>\n",
       "      <th>temp_avg_pais</th>\n",
       "      <th>temp_avg_represas</th>\n",
       "      <th>brent_value</th>\n",
       "      <th>TRM</th>\n",
       "      <th>Date</th>\n",
       "      <th>energy_price</th>\n",
       "      <th>energy_price_lag_1</th>\n",
       "      <th>energy_price_lag_2</th>\n",
       "      <th>energy_price_lag_3</th>\n",
       "    </tr>\n",
       "  </thead>\n",
       "  <tbody>\n",
       "    <tr>\n",
       "      <th>3</th>\n",
       "      <td>-0.580600</td>\n",
       "      <td>-0.100687</td>\n",
       "      <td>1.718155</td>\n",
       "      <td>-0.183251</td>\n",
       "      <td>-0.287443</td>\n",
       "      <td>3.802742</td>\n",
       "      <td>0.274778</td>\n",
       "      <td>-0.533335</td>\n",
       "      <td>-0.300951</td>\n",
       "      <td>0.339387</td>\n",
       "      <td>...</td>\n",
       "      <td>0.057805</td>\n",
       "      <td>1.150745</td>\n",
       "      <td>0.723472</td>\n",
       "      <td>-0.761153</td>\n",
       "      <td>-1.423606</td>\n",
       "      <td>2021-10-04</td>\n",
       "      <td>286.526116</td>\n",
       "      <td>282.065065</td>\n",
       "      <td>256.940174</td>\n",
       "      <td>216.929726</td>\n",
       "    </tr>\n",
       "    <tr>\n",
       "      <th>4</th>\n",
       "      <td>0.016831</td>\n",
       "      <td>1.136810</td>\n",
       "      <td>2.981760</td>\n",
       "      <td>0.521690</td>\n",
       "      <td>-0.560886</td>\n",
       "      <td>0.362265</td>\n",
       "      <td>1.586688</td>\n",
       "      <td>0.365171</td>\n",
       "      <td>0.158697</td>\n",
       "      <td>-0.180160</td>\n",
       "      <td>...</td>\n",
       "      <td>-0.701899</td>\n",
       "      <td>0.112145</td>\n",
       "      <td>-0.197147</td>\n",
       "      <td>-0.614059</td>\n",
       "      <td>-1.411032</td>\n",
       "      <td>2021-10-05</td>\n",
       "      <td>278.157325</td>\n",
       "      <td>286.526116</td>\n",
       "      <td>282.065065</td>\n",
       "      <td>256.940174</td>\n",
       "    </tr>\n",
       "    <tr>\n",
       "      <th>5</th>\n",
       "      <td>-0.142496</td>\n",
       "      <td>3.004638</td>\n",
       "      <td>4.689849</td>\n",
       "      <td>-0.306373</td>\n",
       "      <td>-0.567283</td>\n",
       "      <td>0.898967</td>\n",
       "      <td>2.674880</td>\n",
       "      <td>0.219436</td>\n",
       "      <td>2.305734</td>\n",
       "      <td>0.758029</td>\n",
       "      <td>...</td>\n",
       "      <td>1.235347</td>\n",
       "      <td>-0.157838</td>\n",
       "      <td>-0.525688</td>\n",
       "      <td>-0.624360</td>\n",
       "      <td>-1.383612</td>\n",
       "      <td>2021-10-06</td>\n",
       "      <td>261.474788</td>\n",
       "      <td>278.157325</td>\n",
       "      <td>286.526116</td>\n",
       "      <td>282.065065</td>\n",
       "    </tr>\n",
       "    <tr>\n",
       "      <th>6</th>\n",
       "      <td>0.132014</td>\n",
       "      <td>0.622153</td>\n",
       "      <td>1.953096</td>\n",
       "      <td>-0.256603</td>\n",
       "      <td>-0.572080</td>\n",
       "      <td>-0.005022</td>\n",
       "      <td>0.895201</td>\n",
       "      <td>-0.454157</td>\n",
       "      <td>-0.524727</td>\n",
       "      <td>-0.042188</td>\n",
       "      <td>...</td>\n",
       "      <td>0.171761</td>\n",
       "      <td>0.802658</td>\n",
       "      <td>0.438749</td>\n",
       "      <td>-0.726955</td>\n",
       "      <td>-1.405736</td>\n",
       "      <td>2021-10-07</td>\n",
       "      <td>235.857848</td>\n",
       "      <td>261.474788</td>\n",
       "      <td>278.157325</td>\n",
       "      <td>286.526116</td>\n",
       "    </tr>\n",
       "    <tr>\n",
       "      <th>7</th>\n",
       "      <td>-0.556487</td>\n",
       "      <td>4.243553</td>\n",
       "      <td>2.308684</td>\n",
       "      <td>-0.184229</td>\n",
       "      <td>0.316477</td>\n",
       "      <td>0.581741</td>\n",
       "      <td>0.004270</td>\n",
       "      <td>-0.263669</td>\n",
       "      <td>-0.170919</td>\n",
       "      <td>0.066591</td>\n",
       "      <td>...</td>\n",
       "      <td>0.513628</td>\n",
       "      <td>0.574980</td>\n",
       "      <td>-0.071897</td>\n",
       "      <td>-0.569972</td>\n",
       "      <td>-1.447442</td>\n",
       "      <td>2021-10-08</td>\n",
       "      <td>229.313699</td>\n",
       "      <td>235.857848</td>\n",
       "      <td>261.474788</td>\n",
       "      <td>278.157325</td>\n",
       "    </tr>\n",
       "  </tbody>\n",
       "</table>\n",
       "<p>5 rows × 76 columns</p>\n",
       "</div>"
      ],
      "text/plain": [
       "   precipitacion_amazonas  precipitacion_antioquia  precipitacion_arauca  \\\n",
       "3               -0.580600                -0.100687              1.718155   \n",
       "4                0.016831                 1.136810              2.981760   \n",
       "5               -0.142496                 3.004638              4.689849   \n",
       "6                0.132014                 0.622153              1.953096   \n",
       "7               -0.556487                 4.243553              2.308684   \n",
       "\n",
       "   precipitacion_atlantico  precipitacion_bogota  precipitacion_bolivar  \\\n",
       "3                -0.183251             -0.287443               3.802742   \n",
       "4                 0.521690             -0.560886               0.362265   \n",
       "5                -0.306373             -0.567283               0.898967   \n",
       "6                -0.256603             -0.572080              -0.005022   \n",
       "7                -0.184229              0.316477               0.581741   \n",
       "\n",
       "   precipitacion_boyaca  precipitacion_caldas  precipitacion_caqueta  \\\n",
       "3              0.274778             -0.533335              -0.300951   \n",
       "4              1.586688              0.365171               0.158697   \n",
       "5              2.674880              0.219436               2.305734   \n",
       "6              0.895201             -0.454157              -0.524727   \n",
       "7              0.004270             -0.263669              -0.170919   \n",
       "\n",
       "   precipitacion_casanare  ...  temp_VICHADA  temp_avg_pais  \\\n",
       "3                0.339387  ...      0.057805       1.150745   \n",
       "4               -0.180160  ...     -0.701899       0.112145   \n",
       "5                0.758029  ...      1.235347      -0.157838   \n",
       "6               -0.042188  ...      0.171761       0.802658   \n",
       "7                0.066591  ...      0.513628       0.574980   \n",
       "\n",
       "   temp_avg_represas  brent_value       TRM        Date  energy_price  \\\n",
       "3           0.723472    -0.761153 -1.423606  2021-10-04    286.526116   \n",
       "4          -0.197147    -0.614059 -1.411032  2021-10-05    278.157325   \n",
       "5          -0.525688    -0.624360 -1.383612  2021-10-06    261.474788   \n",
       "6           0.438749    -0.726955 -1.405736  2021-10-07    235.857848   \n",
       "7          -0.071897    -0.569972 -1.447442  2021-10-08    229.313699   \n",
       "\n",
       "   energy_price_lag_1  energy_price_lag_2  energy_price_lag_3  \n",
       "3          282.065065          256.940174          216.929726  \n",
       "4          286.526116          282.065065          256.940174  \n",
       "5          278.157325          286.526116          282.065065  \n",
       "6          261.474788          278.157325          286.526116  \n",
       "7          235.857848          261.474788          278.157325  \n",
       "\n",
       "[5 rows x 76 columns]"
      ]
     },
     "execution_count": 3,
     "metadata": {},
     "output_type": "execute_result"
    }
   ],
   "source": [
    "df = create_df_with_lags(df, 3)\n",
    "df.head()"
   ]
  },
  {
   "cell_type": "markdown",
   "metadata": {},
   "source": [
    "## Partición de la data\n",
    "\n",
    "Debido a que la naturaleza de la data es de carácter temporal, se realizará una partición de la data en 3 partes: entrenamiento y prueba. La data de test será los últimos 3 meses de la data, es decir desde julio 2023 hasta septiembre 2023.\n"
   ]
  },
  {
   "cell_type": "code",
   "execution_count": 4,
   "metadata": {},
   "outputs": [],
   "source": [
    "fecha_corte = \"2023-07-01\"\n",
    "X_train = df[df[\"Date\"] < fecha_corte].drop([\"Date\", \"energy_price\"], axis=1)\n",
    "X_test = df[df[\"Date\"] >= fecha_corte].drop([\"Date\", \"energy_price\"], axis=1)\n",
    "y_train = df[df[\"Date\"] < fecha_corte][\"energy_price\"]\n",
    "y_test = df[df[\"Date\"] >= fecha_corte][\"energy_price\"]"
   ]
  },
  {
   "cell_type": "markdown",
   "metadata": {},
   "source": [
    "## Regresión lineal\n",
    "\n",
    "Esta vez utilizaremos `sklearn` para hacer la regresión Lasso y poder ver qué coeficientes son cero.\n"
   ]
  },
  {
   "cell_type": "code",
   "execution_count": 5,
   "metadata": {},
   "outputs": [
    {
     "name": "stderr",
     "output_type": "stream",
     "text": [
      "/home/david/.local/share/virtualenvs/Proyecto-Integrador-Semestre1-ERzOjjfT/lib/python3.11/site-packages/sklearn/linear_model/_coordinate_descent.py:628: ConvergenceWarning: Objective did not converge. You might want to increase the number of iterations, check the scale of the features or consider increasing regularisation. Duality gap: 1.326e+05, tolerance: 1.280e+03\n",
      "  model = cd_fast.enet_coordinate_descent(\n",
      "/home/david/.local/share/virtualenvs/Proyecto-Integrador-Semestre1-ERzOjjfT/lib/python3.11/site-packages/sklearn/linear_model/_coordinate_descent.py:628: ConvergenceWarning: Objective did not converge. You might want to increase the number of iterations, check the scale of the features or consider increasing regularisation. Duality gap: 1.834e+05, tolerance: 1.412e+03\n",
      "  model = cd_fast.enet_coordinate_descent(\n",
      "/home/david/.local/share/virtualenvs/Proyecto-Integrador-Semestre1-ERzOjjfT/lib/python3.11/site-packages/sklearn/linear_model/_coordinate_descent.py:628: ConvergenceWarning: Objective did not converge. You might want to increase the number of iterations, check the scale of the features or consider increasing regularisation. Duality gap: 1.077e+05, tolerance: 1.385e+03\n",
      "  model = cd_fast.enet_coordinate_descent(\n",
      "/home/david/.local/share/virtualenvs/Proyecto-Integrador-Semestre1-ERzOjjfT/lib/python3.11/site-packages/sklearn/linear_model/_coordinate_descent.py:628: ConvergenceWarning: Objective did not converge. You might want to increase the number of iterations, check the scale of the features or consider increasing regularisation. Duality gap: 9.233e+04, tolerance: 1.403e+03\n",
      "  model = cd_fast.enet_coordinate_descent(\n",
      "/home/david/.local/share/virtualenvs/Proyecto-Integrador-Semestre1-ERzOjjfT/lib/python3.11/site-packages/sklearn/linear_model/_coordinate_descent.py:628: ConvergenceWarning: Objective did not converge. You might want to increase the number of iterations, check the scale of the features or consider increasing regularisation. Duality gap: 1.103e+05, tolerance: 1.359e+03\n",
      "  model = cd_fast.enet_coordinate_descent(\n",
      "/home/david/.local/share/virtualenvs/Proyecto-Integrador-Semestre1-ERzOjjfT/lib/python3.11/site-packages/sklearn/linear_model/_coordinate_descent.py:628: ConvergenceWarning: Objective did not converge. You might want to increase the number of iterations, check the scale of the features or consider increasing regularisation. Duality gap: 1.326e+05, tolerance: 1.280e+03\n",
      "  model = cd_fast.enet_coordinate_descent(\n",
      "/home/david/.local/share/virtualenvs/Proyecto-Integrador-Semestre1-ERzOjjfT/lib/python3.11/site-packages/sklearn/linear_model/_coordinate_descent.py:628: ConvergenceWarning: Objective did not converge. You might want to increase the number of iterations, check the scale of the features or consider increasing regularisation. Duality gap: 9.204e+04, tolerance: 1.412e+03\n",
      "  model = cd_fast.enet_coordinate_descent(\n",
      "/home/david/.local/share/virtualenvs/Proyecto-Integrador-Semestre1-ERzOjjfT/lib/python3.11/site-packages/sklearn/linear_model/_coordinate_descent.py:628: ConvergenceWarning: Objective did not converge. You might want to increase the number of iterations, check the scale of the features or consider increasing regularisation. Duality gap: 1.077e+05, tolerance: 1.385e+03\n",
      "  model = cd_fast.enet_coordinate_descent(\n",
      "/home/david/.local/share/virtualenvs/Proyecto-Integrador-Semestre1-ERzOjjfT/lib/python3.11/site-packages/sklearn/linear_model/_coordinate_descent.py:628: ConvergenceWarning: Objective did not converge. You might want to increase the number of iterations, check the scale of the features or consider increasing regularisation. Duality gap: 8.269e+04, tolerance: 1.403e+03\n",
      "  model = cd_fast.enet_coordinate_descent(\n",
      "/home/david/.local/share/virtualenvs/Proyecto-Integrador-Semestre1-ERzOjjfT/lib/python3.11/site-packages/sklearn/linear_model/_coordinate_descent.py:628: ConvergenceWarning: Objective did not converge. You might want to increase the number of iterations, check the scale of the features or consider increasing regularisation. Duality gap: 1.103e+05, tolerance: 1.359e+03\n",
      "  model = cd_fast.enet_coordinate_descent(\n",
      "/home/david/.local/share/virtualenvs/Proyecto-Integrador-Semestre1-ERzOjjfT/lib/python3.11/site-packages/sklearn/linear_model/_coordinate_descent.py:628: ConvergenceWarning: Objective did not converge. You might want to increase the number of iterations, check the scale of the features or consider increasing regularisation. Duality gap: 1.327e+05, tolerance: 1.280e+03\n",
      "  model = cd_fast.enet_coordinate_descent(\n",
      "/home/david/.local/share/virtualenvs/Proyecto-Integrador-Semestre1-ERzOjjfT/lib/python3.11/site-packages/sklearn/linear_model/_coordinate_descent.py:628: ConvergenceWarning: Objective did not converge. You might want to increase the number of iterations, check the scale of the features or consider increasing regularisation. Duality gap: 8.359e+04, tolerance: 1.412e+03\n",
      "  model = cd_fast.enet_coordinate_descent(\n",
      "/home/david/.local/share/virtualenvs/Proyecto-Integrador-Semestre1-ERzOjjfT/lib/python3.11/site-packages/sklearn/linear_model/_coordinate_descent.py:628: ConvergenceWarning: Objective did not converge. You might want to increase the number of iterations, check the scale of the features or consider increasing regularisation. Duality gap: 1.078e+05, tolerance: 1.385e+03\n",
      "  model = cd_fast.enet_coordinate_descent(\n",
      "/home/david/.local/share/virtualenvs/Proyecto-Integrador-Semestre1-ERzOjjfT/lib/python3.11/site-packages/sklearn/linear_model/_coordinate_descent.py:628: ConvergenceWarning: Objective did not converge. You might want to increase the number of iterations, check the scale of the features or consider increasing regularisation. Duality gap: 3.906e+04, tolerance: 1.403e+03\n",
      "  model = cd_fast.enet_coordinate_descent(\n",
      "/home/david/.local/share/virtualenvs/Proyecto-Integrador-Semestre1-ERzOjjfT/lib/python3.11/site-packages/sklearn/linear_model/_coordinate_descent.py:628: ConvergenceWarning: Objective did not converge. You might want to increase the number of iterations, check the scale of the features or consider increasing regularisation. Duality gap: 1.104e+05, tolerance: 1.359e+03\n",
      "  model = cd_fast.enet_coordinate_descent(\n"
     ]
    },
    {
     "name": "stdout",
     "output_type": "stream",
     "text": [
      "Best parameters found:  {'alpha': 4.281332398719396}\n",
      "Best cross-validation score:  0.9406517684146578\n"
     ]
    }
   ],
   "source": [
    "lasso = Lasso()\n",
    "\n",
    "# Define the parameter grid to search\n",
    "param_grid = {'alpha': np.logspace(-4, 4, 20)}\n",
    "\n",
    "# Setup Cross-Validation\n",
    "kfold = KFold(n_splits=5, shuffle=True, random_state=42)\n",
    "\n",
    "# Setup Randomized Grid Search\n",
    "lasso_cv = RandomizedSearchCV(lasso, param_grid, cv=kfold, random_state=42)\n",
    "\n",
    "# Fit the model\n",
    "lasso_cv.fit(X_train, y_train)\n",
    "\n",
    "# Print the best parameters and score\n",
    "print(\"Best parameters found: \", lasso_cv.best_params_)\n",
    "print(\"Best cross-validation score: \", lasso_cv.best_score_)"
   ]
  },
  {
   "cell_type": "code",
   "execution_count": 6,
   "metadata": {},
   "outputs": [],
   "source": [
    "y_pred = lasso_cv.predict(X_test)"
   ]
  },
  {
   "cell_type": "code",
   "execution_count": 7,
   "metadata": {},
   "outputs": [
    {
     "name": "stdout",
     "output_type": "stream",
     "text": [
      "Mean Squared Error on Test Data: 4491.264876612977\n"
     ]
    }
   ],
   "source": [
    "mse_test = mean_squared_error(y_test, y_pred)\n",
    "\n",
    "print(\"Mean Squared Error on Test Data:\", mse_test)"
   ]
  },
  {
   "cell_type": "code",
   "execution_count": 8,
   "metadata": {},
   "outputs": [],
   "source": [
    "coefficients = lasso_cv.best_estimator_.coef_"
   ]
  },
  {
   "cell_type": "code",
   "execution_count": 9,
   "metadata": {},
   "outputs": [
    {
     "name": "stdout",
     "output_type": "stream",
     "text": [
      "precipitacion_meta: -0.6033561644760532\n",
      "precipitacion_tolima: -0.34569551052102393\n",
      "temp_BOYACA: 0.7436602031153009\n",
      "temp_QUINDIO: 0.5733149923544618\n",
      "temp_VALLE DEL CAUCA: 1.149911961572405\n",
      "energy_price_lag_1: 1.0746413836470614\n",
      "energy_price_lag_2: 0.06520560726103745\n",
      "energy_price_lag_3: -0.18143605444202718\n"
     ]
    }
   ],
   "source": [
    "feature_names = X_train.columns\n",
    "\n",
    "# Filter the coefficients and corresponding feature names\n",
    "non_zero_coefficients = coefficients[coefficients != 0]\n",
    "non_zero_features = feature_names[coefficients != 0]\n",
    "\n",
    "# Print the non-zero coefficients and their corresponding feature names\n",
    "for feature, coef in zip(non_zero_features, non_zero_coefficients):\n",
    "    print(f\"{feature}: {coef}\")"
   ]
  }
 ],
 "metadata": {
  "kernelspec": {
   "display_name": "Proyecto-Integrador-Semestre1-ERzOjjfT",
   "language": "python",
   "name": "python3"
  },
  "language_info": {
   "codemirror_mode": {
    "name": "ipython",
    "version": 3
   },
   "file_extension": ".py",
   "mimetype": "text/x-python",
   "name": "python",
   "nbconvert_exporter": "python",
   "pygments_lexer": "ipython3",
   "version": "3.11.5"
  }
 },
 "nbformat": 4,
 "nbformat_minor": 2
}
