{
 "cells": [
  {
   "cell_type": "markdown",
   "metadata": {},
   "source": [
    "EDA TRM "
   ]
  },
  {
   "cell_type": "code",
   "execution_count": 1,
   "metadata": {},
   "outputs": [],
   "source": [
    "import pandas as pd\n",
    "from azure.data.tables import TableClient\n",
    "import os\n",
    "from dotenv import load_dotenv, find_dotenv\n",
    "import matplotlib as plot\n",
    "import matplotlib.pyplot as plt\n",
    "import seaborn as sns\n",
    "import scipy.stats as stats"
   ]
  },
  {
   "cell_type": "code",
   "execution_count": 2,
   "metadata": {},
   "outputs": [
    {
     "data": {
      "text/plain": [
       "True"
      ]
     },
     "execution_count": 2,
     "metadata": {},
     "output_type": "execute_result"
    }
   ],
   "source": [
    "load_dotenv(find_dotenv())"
   ]
  },
  {
   "cell_type": "code",
   "execution_count": 3,
   "metadata": {},
   "outputs": [],
   "source": [
    "connection_string = os.getenv(\"AZ_CONNECTION_STRING\")"
   ]
  },
  {
   "cell_type": "markdown",
   "metadata": {},
   "source": [
    "Funciones necesarias"
   ]
  },
  {
   "cell_type": "code",
   "execution_count": 4,
   "metadata": {},
   "outputs": [],
   "source": [
    "## Definiendo funciones:\n",
    "\n",
    "\n",
    "# Crear conexión de una tabla específica dentro del servicio de Azure Table Storage\n",
    "def set_table_service(connection_string, table):\n",
    "    \"\"\"Crear servicio de conexión a Azure Table Storage\"\"\"\n",
    "    return TableClient.from_connection_string(\n",
    "        conn_str=connection_string, table_name=table\n",
    "    )\n",
    "\n",
    "\n",
    "# Obtener datos de Table Storage\n",
    "def get_data_from_table_storage_table(table_service, filter_query):\n",
    "    \"\"\"Recuperar datos de Table Storage\"\"\"\n",
    "    for record in table_service.query_entities(filter_query):\n",
    "        yield record\n",
    "\n",
    "\n",
    "# Crear DataFrame con los datos de la tabla consultada\n",
    "def get_dataframe_from_table_storage_table(table_service, filter_query):\n",
    "    \"\"\"Crear un DataFrame con la data del Table Storage\"\"\"\n",
    "    return pd.DataFrame(get_data_from_table_storage_table(table_service, filter_query))"
   ]
  },
  {
   "cell_type": "code",
   "execution_count": 5,
   "metadata": {},
   "outputs": [],
   "source": [
    "table_name_trm = \"TRMCurated\"\n",
    "filterQuery = \"PartitionKey ne 'random'\""
   ]
  },
  {
   "cell_type": "code",
   "execution_count": 6,
   "metadata": {},
   "outputs": [
    {
     "name": "stdout",
     "output_type": "stream",
     "text": [
      "Shape: (689, 5)\n",
      "dtypes: PartitionKey      object\n",
      "RowKey            object\n",
      "valor            float64\n",
      "vigenciadesde     object\n",
      "vigenciahasta     object\n",
      "dtype: object\n"
     ]
    },
    {
     "data": {
      "text/html": [
       "<div>\n",
       "<style scoped>\n",
       "    .dataframe tbody tr th:only-of-type {\n",
       "        vertical-align: middle;\n",
       "    }\n",
       "\n",
       "    .dataframe tbody tr th {\n",
       "        vertical-align: top;\n",
       "    }\n",
       "\n",
       "    .dataframe thead th {\n",
       "        text-align: right;\n",
       "    }\n",
       "</style>\n",
       "<table border=\"1\" class=\"dataframe\">\n",
       "  <thead>\n",
       "    <tr style=\"text-align: right;\">\n",
       "      <th></th>\n",
       "      <th>PartitionKey</th>\n",
       "      <th>RowKey</th>\n",
       "      <th>valor</th>\n",
       "      <th>vigenciadesde</th>\n",
       "      <th>vigenciahasta</th>\n",
       "    </tr>\n",
       "  </thead>\n",
       "  <tbody>\n",
       "    <tr>\n",
       "      <th>0</th>\n",
       "      <td>TRM_20210101_20231020.csv</td>\n",
       "      <td>2021-01-05T00:00:00.000</td>\n",
       "      <td>3420.78</td>\n",
       "      <td>2021-01-05T00:00:00.000</td>\n",
       "      <td>2021-01-05T00:00:00.000</td>\n",
       "    </tr>\n",
       "    <tr>\n",
       "      <th>1</th>\n",
       "      <td>TRM_20210101_20231020.csv</td>\n",
       "      <td>2021-01-06T00:00:00.000</td>\n",
       "      <td>3450.74</td>\n",
       "      <td>2021-01-06T00:00:00.000</td>\n",
       "      <td>2021-01-06T00:00:00.000</td>\n",
       "    </tr>\n",
       "    <tr>\n",
       "      <th>2</th>\n",
       "      <td>TRM_20210101_20231020.csv</td>\n",
       "      <td>2021-01-07T00:00:00.000</td>\n",
       "      <td>3428.04</td>\n",
       "      <td>2021-01-07T00:00:00.000</td>\n",
       "      <td>2021-01-07T00:00:00.000</td>\n",
       "    </tr>\n",
       "    <tr>\n",
       "      <th>3</th>\n",
       "      <td>TRM_20210101_20231020.csv</td>\n",
       "      <td>2021-01-08T00:00:00.000</td>\n",
       "      <td>3459.39</td>\n",
       "      <td>2021-01-08T00:00:00.000</td>\n",
       "      <td>2021-01-08T00:00:00.000</td>\n",
       "    </tr>\n",
       "    <tr>\n",
       "      <th>4</th>\n",
       "      <td>TRM_20210101_20231020.csv</td>\n",
       "      <td>2021-01-09T00:00:00.000</td>\n",
       "      <td>3478.11</td>\n",
       "      <td>2021-01-09T00:00:00.000</td>\n",
       "      <td>2021-01-12T00:00:00.000</td>\n",
       "    </tr>\n",
       "  </tbody>\n",
       "</table>\n",
       "</div>"
      ],
      "text/plain": [
       "                PartitionKey                   RowKey    valor  \\\n",
       "0  TRM_20210101_20231020.csv  2021-01-05T00:00:00.000  3420.78   \n",
       "1  TRM_20210101_20231020.csv  2021-01-06T00:00:00.000  3450.74   \n",
       "2  TRM_20210101_20231020.csv  2021-01-07T00:00:00.000  3428.04   \n",
       "3  TRM_20210101_20231020.csv  2021-01-08T00:00:00.000  3459.39   \n",
       "4  TRM_20210101_20231020.csv  2021-01-09T00:00:00.000  3478.11   \n",
       "\n",
       "             vigenciadesde            vigenciahasta  \n",
       "0  2021-01-05T00:00:00.000  2021-01-05T00:00:00.000  \n",
       "1  2021-01-06T00:00:00.000  2021-01-06T00:00:00.000  \n",
       "2  2021-01-07T00:00:00.000  2021-01-07T00:00:00.000  \n",
       "3  2021-01-08T00:00:00.000  2021-01-08T00:00:00.000  \n",
       "4  2021-01-09T00:00:00.000  2021-01-12T00:00:00.000  "
      ]
     },
     "execution_count": 6,
     "metadata": {},
     "output_type": "execute_result"
    }
   ],
   "source": [
    "# Creando DataFrame con TRM Data\n",
    "table_service_trm = set_table_service(connection_string, table_name_trm)\n",
    "df_trm = get_dataframe_from_table_storage_table(table_service_trm, filterQuery)\n",
    "\n",
    "print(f\"Shape: {df_trm.shape}\")\n",
    "print(f\"dtypes: {df_trm.dtypes}\")\n",
    "df_trm.head()"
   ]
  },
  {
   "cell_type": "code",
   "execution_count": 7,
   "metadata": {},
   "outputs": [],
   "source": [
    "conteo_por_grupo = df_trm.groupby(['vigenciadesde']).size().reset_index(name='Conteo')\n",
    "\n",
    "# Muestra los grupos que tienen más de un registro (si hay alguno)\n",
    "duplicados = conteo_por_grupo[conteo_por_grupo['Conteo'] > 1]"
   ]
  },
  {
   "cell_type": "code",
   "execution_count": 8,
   "metadata": {},
   "outputs": [
    {
     "data": {
      "text/html": [
       "<div>\n",
       "<style scoped>\n",
       "    .dataframe tbody tr th:only-of-type {\n",
       "        vertical-align: middle;\n",
       "    }\n",
       "\n",
       "    .dataframe tbody tr th {\n",
       "        vertical-align: top;\n",
       "    }\n",
       "\n",
       "    .dataframe thead th {\n",
       "        text-align: right;\n",
       "    }\n",
       "</style>\n",
       "<table border=\"1\" class=\"dataframe\">\n",
       "  <thead>\n",
       "    <tr style=\"text-align: right;\">\n",
       "      <th></th>\n",
       "      <th>vigenciadesde</th>\n",
       "      <th>Conteo</th>\n",
       "    </tr>\n",
       "  </thead>\n",
       "  <tbody>\n",
       "    <tr>\n",
       "      <th>666</th>\n",
       "      <td>2023-10-24T00:00:00.000</td>\n",
       "      <td>2</td>\n",
       "    </tr>\n",
       "    <tr>\n",
       "      <th>675</th>\n",
       "      <td>2023-11-04T00:00:00.000</td>\n",
       "      <td>2</td>\n",
       "    </tr>\n",
       "  </tbody>\n",
       "</table>\n",
       "</div>"
      ],
      "text/plain": [
       "               vigenciadesde  Conteo\n",
       "666  2023-10-24T00:00:00.000       2\n",
       "675  2023-11-04T00:00:00.000       2"
      ]
     },
     "execution_count": 8,
     "metadata": {},
     "output_type": "execute_result"
    }
   ],
   "source": [
    "duplicados.head()"
   ]
  },
  {
   "cell_type": "code",
   "execution_count": 9,
   "metadata": {},
   "outputs": [],
   "source": [
    "duplicados = df_trm[df_trm.duplicated()]\n",
    "\n",
    "# Si hay registros duplicados, verifica que todos tengan el mismo valor en 'Valor'\n",
    "for indice, grupo in duplicados.groupby(['vigenciadesde', 'vigenciahasta']):\n",
    "    if grupo['Valor'].nunique() > 1:\n",
    "        print(f\"Registros duplicados con diferentes valores en 'Valor' para Departamento {indice[0]} y Fecha {indice[1]}:\")\n",
    "        print(grupo)\n",
    "\n",
    "#todos los registros duplicados tienen el mismo valor"
   ]
  },
  {
   "cell_type": "code",
   "execution_count": 10,
   "metadata": {},
   "outputs": [
    {
     "name": "stdout",
     "output_type": "stream",
     "text": [
      "Shape: (687, 5)\n",
      "dtypes: PartitionKey      object\n",
      "RowKey            object\n",
      "valor            float64\n",
      "vigenciadesde     object\n",
      "vigenciahasta     object\n",
      "dtype: object\n"
     ]
    },
    {
     "data": {
      "text/html": [
       "<div>\n",
       "<style scoped>\n",
       "    .dataframe tbody tr th:only-of-type {\n",
       "        vertical-align: middle;\n",
       "    }\n",
       "\n",
       "    .dataframe tbody tr th {\n",
       "        vertical-align: top;\n",
       "    }\n",
       "\n",
       "    .dataframe thead th {\n",
       "        text-align: right;\n",
       "    }\n",
       "</style>\n",
       "<table border=\"1\" class=\"dataframe\">\n",
       "  <thead>\n",
       "    <tr style=\"text-align: right;\">\n",
       "      <th></th>\n",
       "      <th>PartitionKey</th>\n",
       "      <th>RowKey</th>\n",
       "      <th>valor</th>\n",
       "      <th>vigenciadesde</th>\n",
       "      <th>vigenciahasta</th>\n",
       "    </tr>\n",
       "  </thead>\n",
       "  <tbody>\n",
       "    <tr>\n",
       "      <th>0</th>\n",
       "      <td>TRM_20210101_20231020.csv</td>\n",
       "      <td>2021-01-05T00:00:00.000</td>\n",
       "      <td>3420.78</td>\n",
       "      <td>2021-01-05T00:00:00.000</td>\n",
       "      <td>2021-01-05T00:00:00.000</td>\n",
       "    </tr>\n",
       "    <tr>\n",
       "      <th>1</th>\n",
       "      <td>TRM_20210101_20231020.csv</td>\n",
       "      <td>2021-01-06T00:00:00.000</td>\n",
       "      <td>3450.74</td>\n",
       "      <td>2021-01-06T00:00:00.000</td>\n",
       "      <td>2021-01-06T00:00:00.000</td>\n",
       "    </tr>\n",
       "    <tr>\n",
       "      <th>2</th>\n",
       "      <td>TRM_20210101_20231020.csv</td>\n",
       "      <td>2021-01-07T00:00:00.000</td>\n",
       "      <td>3428.04</td>\n",
       "      <td>2021-01-07T00:00:00.000</td>\n",
       "      <td>2021-01-07T00:00:00.000</td>\n",
       "    </tr>\n",
       "    <tr>\n",
       "      <th>3</th>\n",
       "      <td>TRM_20210101_20231020.csv</td>\n",
       "      <td>2021-01-08T00:00:00.000</td>\n",
       "      <td>3459.39</td>\n",
       "      <td>2021-01-08T00:00:00.000</td>\n",
       "      <td>2021-01-08T00:00:00.000</td>\n",
       "    </tr>\n",
       "    <tr>\n",
       "      <th>4</th>\n",
       "      <td>TRM_20210101_20231020.csv</td>\n",
       "      <td>2021-01-09T00:00:00.000</td>\n",
       "      <td>3478.11</td>\n",
       "      <td>2021-01-09T00:00:00.000</td>\n",
       "      <td>2021-01-12T00:00:00.000</td>\n",
       "    </tr>\n",
       "  </tbody>\n",
       "</table>\n",
       "</div>"
      ],
      "text/plain": [
       "                PartitionKey                   RowKey    valor  \\\n",
       "0  TRM_20210101_20231020.csv  2021-01-05T00:00:00.000  3420.78   \n",
       "1  TRM_20210101_20231020.csv  2021-01-06T00:00:00.000  3450.74   \n",
       "2  TRM_20210101_20231020.csv  2021-01-07T00:00:00.000  3428.04   \n",
       "3  TRM_20210101_20231020.csv  2021-01-08T00:00:00.000  3459.39   \n",
       "4  TRM_20210101_20231020.csv  2021-01-09T00:00:00.000  3478.11   \n",
       "\n",
       "             vigenciadesde            vigenciahasta  \n",
       "0  2021-01-05T00:00:00.000  2021-01-05T00:00:00.000  \n",
       "1  2021-01-06T00:00:00.000  2021-01-06T00:00:00.000  \n",
       "2  2021-01-07T00:00:00.000  2021-01-07T00:00:00.000  \n",
       "3  2021-01-08T00:00:00.000  2021-01-08T00:00:00.000  \n",
       "4  2021-01-09T00:00:00.000  2021-01-12T00:00:00.000  "
      ]
     },
     "execution_count": 10,
     "metadata": {},
     "output_type": "execute_result"
    }
   ],
   "source": [
    "# Borramos los duplicados que TRM\n",
    "\n",
    "df_sin_duplicados = df_trm.drop_duplicates(subset=['valor', 'vigenciadesde','vigenciahasta'])\n",
    "\n",
    "# Imprime el DataFrame resultante\n",
    "print(f\"Shape: {df_sin_duplicados.shape}\")\n",
    "print(f\"dtypes: {df_sin_duplicados.dtypes}\")\n",
    "df_sin_duplicados.head()"
   ]
  },
  {
   "cell_type": "code",
   "execution_count": 11,
   "metadata": {},
   "outputs": [
    {
     "name": "stdout",
     "output_type": "stream",
     "text": [
      "Shape: (687, 5)\n",
      "dtypes: PartitionKey      object\n",
      "RowKey            object\n",
      "valor            float64\n",
      "vigenciadesde     object\n",
      "vigenciahasta     object\n",
      "dtype: object\n"
     ]
    },
    {
     "data": {
      "text/html": [
       "<div>\n",
       "<style scoped>\n",
       "    .dataframe tbody tr th:only-of-type {\n",
       "        vertical-align: middle;\n",
       "    }\n",
       "\n",
       "    .dataframe tbody tr th {\n",
       "        vertical-align: top;\n",
       "    }\n",
       "\n",
       "    .dataframe thead th {\n",
       "        text-align: right;\n",
       "    }\n",
       "</style>\n",
       "<table border=\"1\" class=\"dataframe\">\n",
       "  <thead>\n",
       "    <tr style=\"text-align: right;\">\n",
       "      <th></th>\n",
       "      <th>PartitionKey</th>\n",
       "      <th>RowKey</th>\n",
       "      <th>valor</th>\n",
       "      <th>vigenciadesde</th>\n",
       "      <th>vigenciahasta</th>\n",
       "    </tr>\n",
       "  </thead>\n",
       "  <tbody>\n",
       "    <tr>\n",
       "      <th>0</th>\n",
       "      <td>TRM_20210101_20231020.csv</td>\n",
       "      <td>2021-01-05T00:00:00.000</td>\n",
       "      <td>3420.78</td>\n",
       "      <td>2021-01-05</td>\n",
       "      <td>2021-01-05</td>\n",
       "    </tr>\n",
       "    <tr>\n",
       "      <th>1</th>\n",
       "      <td>TRM_20210101_20231020.csv</td>\n",
       "      <td>2021-01-06T00:00:00.000</td>\n",
       "      <td>3450.74</td>\n",
       "      <td>2021-01-06</td>\n",
       "      <td>2021-01-06</td>\n",
       "    </tr>\n",
       "    <tr>\n",
       "      <th>2</th>\n",
       "      <td>TRM_20210101_20231020.csv</td>\n",
       "      <td>2021-01-07T00:00:00.000</td>\n",
       "      <td>3428.04</td>\n",
       "      <td>2021-01-07</td>\n",
       "      <td>2021-01-07</td>\n",
       "    </tr>\n",
       "    <tr>\n",
       "      <th>3</th>\n",
       "      <td>TRM_20210101_20231020.csv</td>\n",
       "      <td>2021-01-08T00:00:00.000</td>\n",
       "      <td>3459.39</td>\n",
       "      <td>2021-01-08</td>\n",
       "      <td>2021-01-08</td>\n",
       "    </tr>\n",
       "    <tr>\n",
       "      <th>4</th>\n",
       "      <td>TRM_20210101_20231020.csv</td>\n",
       "      <td>2021-01-09T00:00:00.000</td>\n",
       "      <td>3478.11</td>\n",
       "      <td>2021-01-09</td>\n",
       "      <td>2021-01-12</td>\n",
       "    </tr>\n",
       "    <tr>\n",
       "      <th>...</th>\n",
       "      <td>...</td>\n",
       "      <td>...</td>\n",
       "      <td>...</td>\n",
       "      <td>...</td>\n",
       "      <td>...</td>\n",
       "    </tr>\n",
       "    <tr>\n",
       "      <th>684</th>\n",
       "      <td>TRM_20231117.csv</td>\n",
       "      <td>2023-11-17T00:00:00.000</td>\n",
       "      <td>4077.44</td>\n",
       "      <td>2023-11-17</td>\n",
       "      <td>2023-11-17</td>\n",
       "    </tr>\n",
       "    <tr>\n",
       "      <th>685</th>\n",
       "      <td>TRM_20231118.csv</td>\n",
       "      <td>2023-11-18T00:00:00.000</td>\n",
       "      <td>4116.59</td>\n",
       "      <td>2023-11-18</td>\n",
       "      <td>2023-11-20</td>\n",
       "    </tr>\n",
       "    <tr>\n",
       "      <th>686</th>\n",
       "      <td>TRM_20231121.csv</td>\n",
       "      <td>2023-11-21T00:00:00.000</td>\n",
       "      <td>4033.83</td>\n",
       "      <td>2023-11-21</td>\n",
       "      <td>2023-11-21</td>\n",
       "    </tr>\n",
       "    <tr>\n",
       "      <th>687</th>\n",
       "      <td>TRM_20231122.csv</td>\n",
       "      <td>2023-11-22T00:00:00.000</td>\n",
       "      <td>4060.15</td>\n",
       "      <td>2023-11-22</td>\n",
       "      <td>2023-11-22</td>\n",
       "    </tr>\n",
       "    <tr>\n",
       "      <th>688</th>\n",
       "      <td>TRM_20231123.csv</td>\n",
       "      <td>2023-11-23T00:00:00.000</td>\n",
       "      <td>4092.33</td>\n",
       "      <td>2023-11-23</td>\n",
       "      <td>2023-11-24</td>\n",
       "    </tr>\n",
       "  </tbody>\n",
       "</table>\n",
       "<p>687 rows × 5 columns</p>\n",
       "</div>"
      ],
      "text/plain": [
       "                  PartitionKey                   RowKey    valor  \\\n",
       "0    TRM_20210101_20231020.csv  2021-01-05T00:00:00.000  3420.78   \n",
       "1    TRM_20210101_20231020.csv  2021-01-06T00:00:00.000  3450.74   \n",
       "2    TRM_20210101_20231020.csv  2021-01-07T00:00:00.000  3428.04   \n",
       "3    TRM_20210101_20231020.csv  2021-01-08T00:00:00.000  3459.39   \n",
       "4    TRM_20210101_20231020.csv  2021-01-09T00:00:00.000  3478.11   \n",
       "..                         ...                      ...      ...   \n",
       "684           TRM_20231117.csv  2023-11-17T00:00:00.000  4077.44   \n",
       "685           TRM_20231118.csv  2023-11-18T00:00:00.000  4116.59   \n",
       "686           TRM_20231121.csv  2023-11-21T00:00:00.000  4033.83   \n",
       "687           TRM_20231122.csv  2023-11-22T00:00:00.000  4060.15   \n",
       "688           TRM_20231123.csv  2023-11-23T00:00:00.000  4092.33   \n",
       "\n",
       "    vigenciadesde vigenciahasta  \n",
       "0      2021-01-05    2021-01-05  \n",
       "1      2021-01-06    2021-01-06  \n",
       "2      2021-01-07    2021-01-07  \n",
       "3      2021-01-08    2021-01-08  \n",
       "4      2021-01-09    2021-01-12  \n",
       "..            ...           ...  \n",
       "684    2023-11-17    2023-11-17  \n",
       "685    2023-11-18    2023-11-20  \n",
       "686    2023-11-21    2023-11-21  \n",
       "687    2023-11-22    2023-11-22  \n",
       "688    2023-11-23    2023-11-24  \n",
       "\n",
       "[687 rows x 5 columns]"
      ]
     },
     "execution_count": 11,
     "metadata": {},
     "output_type": "execute_result"
    }
   ],
   "source": [
    "# Se organiza la fecha con el formato necesario\n",
    "\n",
    "df_sin_duplicados_fecha = df_sin_duplicados.copy()\n",
    "\n",
    "df_sin_duplicados_fecha['vigenciadesde'] = pd.to_datetime(df_sin_duplicados_fecha['vigenciadesde'], errors='coerce')\n",
    "df_sin_duplicados_fecha['vigenciadesde'] = df_sin_duplicados_fecha['vigenciadesde'].dt.strftime('%Y-%m-%d')\n",
    "df_sin_duplicados_fecha['vigenciahasta'] = pd.to_datetime(df_sin_duplicados_fecha['vigenciahasta'], errors='coerce')\n",
    "df_sin_duplicados_fecha['vigenciahasta'] = df_sin_duplicados_fecha['vigenciahasta'].dt.strftime('%Y-%m-%d')\n",
    "\n",
    "print(f\"Shape: {df_sin_duplicados_fecha.shape}\")\n",
    "print(f\"dtypes: {df_sin_duplicados_fecha.dtypes}\")\n",
    "df_sin_duplicados_fecha"
   ]
  },
  {
   "cell_type": "code",
   "execution_count": 12,
   "metadata": {},
   "outputs": [],
   "source": [
    "df = df_sin_duplicados_fecha[[ \"vigenciadesde\",\"valor\"]]"
   ]
  },
  {
   "cell_type": "code",
   "execution_count": 13,
   "metadata": {},
   "outputs": [
    {
     "data": {
      "text/html": [
       "<div>\n",
       "<style scoped>\n",
       "    .dataframe tbody tr th:only-of-type {\n",
       "        vertical-align: middle;\n",
       "    }\n",
       "\n",
       "    .dataframe tbody tr th {\n",
       "        vertical-align: top;\n",
       "    }\n",
       "\n",
       "    .dataframe thead th {\n",
       "        text-align: right;\n",
       "    }\n",
       "</style>\n",
       "<table border=\"1\" class=\"dataframe\">\n",
       "  <thead>\n",
       "    <tr style=\"text-align: right;\">\n",
       "      <th></th>\n",
       "      <th>vigenciadesde</th>\n",
       "      <th>valor</th>\n",
       "    </tr>\n",
       "  </thead>\n",
       "  <tbody>\n",
       "    <tr>\n",
       "      <th>0</th>\n",
       "      <td>False</td>\n",
       "      <td>False</td>\n",
       "    </tr>\n",
       "    <tr>\n",
       "      <th>1</th>\n",
       "      <td>False</td>\n",
       "      <td>False</td>\n",
       "    </tr>\n",
       "    <tr>\n",
       "      <th>2</th>\n",
       "      <td>False</td>\n",
       "      <td>False</td>\n",
       "    </tr>\n",
       "    <tr>\n",
       "      <th>3</th>\n",
       "      <td>False</td>\n",
       "      <td>False</td>\n",
       "    </tr>\n",
       "    <tr>\n",
       "      <th>4</th>\n",
       "      <td>False</td>\n",
       "      <td>False</td>\n",
       "    </tr>\n",
       "    <tr>\n",
       "      <th>...</th>\n",
       "      <td>...</td>\n",
       "      <td>...</td>\n",
       "    </tr>\n",
       "    <tr>\n",
       "      <th>684</th>\n",
       "      <td>False</td>\n",
       "      <td>False</td>\n",
       "    </tr>\n",
       "    <tr>\n",
       "      <th>685</th>\n",
       "      <td>False</td>\n",
       "      <td>False</td>\n",
       "    </tr>\n",
       "    <tr>\n",
       "      <th>686</th>\n",
       "      <td>False</td>\n",
       "      <td>False</td>\n",
       "    </tr>\n",
       "    <tr>\n",
       "      <th>687</th>\n",
       "      <td>False</td>\n",
       "      <td>False</td>\n",
       "    </tr>\n",
       "    <tr>\n",
       "      <th>688</th>\n",
       "      <td>False</td>\n",
       "      <td>False</td>\n",
       "    </tr>\n",
       "  </tbody>\n",
       "</table>\n",
       "<p>687 rows × 2 columns</p>\n",
       "</div>"
      ],
      "text/plain": [
       "     vigenciadesde  valor\n",
       "0            False  False\n",
       "1            False  False\n",
       "2            False  False\n",
       "3            False  False\n",
       "4            False  False\n",
       "..             ...    ...\n",
       "684          False  False\n",
       "685          False  False\n",
       "686          False  False\n",
       "687          False  False\n",
       "688          False  False\n",
       "\n",
       "[687 rows x 2 columns]"
      ]
     },
     "execution_count": 13,
     "metadata": {},
     "output_type": "execute_result"
    }
   ],
   "source": [
    "df.isnull()"
   ]
  },
  {
   "cell_type": "code",
   "execution_count": 14,
   "metadata": {},
   "outputs": [
    {
     "name": "stdout",
     "output_type": "stream",
     "text": [
      "True False\n"
     ]
    }
   ],
   "source": [
    "# Verifica si hay algún True en la columna vigenciadesde\n",
    "hay_datos_nulos_vigenciadesde = any(df.isnull()['vigenciadesde'])\n",
    "\n",
    "# Verifica si hay algún True en la columna valor\n",
    "hay_datos_nulos_valor = any(df.isnull()['valor'])\n",
    "\n",
    "print(hay_datos_nulos_vigenciadesde, hay_datos_nulos_valor)\n"
   ]
  },
  {
   "cell_type": "code",
   "execution_count": 15,
   "metadata": {},
   "outputs": [
    {
     "name": "stdout",
     "output_type": "stream",
     "text": [
      "    vigenciadesde    valor\n",
      "0      2021-01-05  3420.78\n",
      "1      2021-01-06  3450.74\n",
      "2      2021-01-07  3428.04\n",
      "3      2021-01-08  3459.39\n",
      "4      2021-01-09  3478.11\n",
      "..            ...      ...\n",
      "684    2023-11-17  4077.44\n",
      "685    2023-11-18  4116.59\n",
      "686    2023-11-21  4033.83\n",
      "687    2023-11-22  4060.15\n",
      "688    2023-11-23  4092.33\n",
      "\n",
      "[687 rows x 2 columns]\n"
     ]
    }
   ],
   "source": [
    "# Obtiene el índice 675\n",
    "indice_vigenciadesde = 674\n",
    "\n",
    "# Coloca el valor en el DataFrame\n",
    "df.loc[indice_vigenciadesde, 'vigenciadesde'] = '2023-11-02'\n",
    "\n",
    "print(df)"
   ]
  },
  {
   "cell_type": "code",
   "execution_count": 16,
   "metadata": {},
   "outputs": [
    {
     "name": "stdout",
     "output_type": "stream",
     "text": [
      "dtypes: vigenciadesde     object\n",
      "valor            float64\n",
      "dtype: object\n"
     ]
    }
   ],
   "source": [
    "print(f\"dtypes: {df.dtypes}\")"
   ]
  },
  {
   "cell_type": "code",
   "execution_count": 17,
   "metadata": {},
   "outputs": [
    {
     "name": "stderr",
     "output_type": "stream",
     "text": [
      "/tmp/ipykernel_21347/2263000391.py:1: SettingWithCopyWarning: \n",
      "A value is trying to be set on a copy of a slice from a DataFrame.\n",
      "Try using .loc[row_indexer,col_indexer] = value instead\n",
      "\n",
      "See the caveats in the documentation: https://pandas.pydata.org/pandas-docs/stable/user_guide/indexing.html#returning-a-view-versus-a-copy\n",
      "  df['vigenciadesde'] = pd.to_datetime(df['vigenciadesde'])\n"
     ]
    }
   ],
   "source": [
    "df['vigenciadesde'] = pd.to_datetime(df['vigenciadesde'])"
   ]
  },
  {
   "cell_type": "code",
   "execution_count": 18,
   "metadata": {},
   "outputs": [
    {
     "name": "stdout",
     "output_type": "stream",
     "text": [
      "<class 'pandas.core.frame.DataFrame'>\n",
      "Index: 687 entries, 0 to 688\n",
      "Data columns (total 2 columns):\n",
      " #   Column         Non-Null Count  Dtype         \n",
      "---  ------         --------------  -----         \n",
      " 0   vigenciadesde  687 non-null    datetime64[ns]\n",
      " 1   valor          687 non-null    float64       \n",
      "dtypes: datetime64[ns](1), float64(1)\n",
      "memory usage: 32.3 KB\n"
     ]
    }
   ],
   "source": [
    "df.info()"
   ]
  },
  {
   "cell_type": "code",
   "execution_count": 19,
   "metadata": {},
   "outputs": [
    {
     "data": {
      "text/plain": [
       "count     687.000000\n",
       "mean     4111.860684\n",
       "std       400.704113\n",
       "min      3420.780000\n",
       "25%      3797.600000\n",
       "50%      3997.740000\n",
       "75%      4421.760000\n",
       "max      5061.210000\n",
       "Name: valor, dtype: float64"
      ]
     },
     "execution_count": 19,
     "metadata": {},
     "output_type": "execute_result"
    }
   ],
   "source": [
    "# Obtiene las estadísticas básicas de los datos\n",
    "df['valor'].describe()"
   ]
  },
  {
   "cell_type": "code",
   "execution_count": 20,
   "metadata": {},
   "outputs": [
    {
     "data": {
      "text/plain": [
       "<Axes: xlabel='valor', ylabel='Count'>"
      ]
     },
     "execution_count": 20,
     "metadata": {},
     "output_type": "execute_result"
    },
    {
     "data": {
      "image/png": "[encoded data removed]",
      "text/plain": [
       "<Figure size 640x480 with 1 Axes>"
      ]
     },
     "metadata": {},
     "output_type": "display_data"
    }
   ],
   "source": [
    "sns.histplot(df['valor'], bins=100, linewidth=0.5)"
   ]
  },
  {
   "cell_type": "code",
   "execution_count": 21,
   "metadata": {},
   "outputs": [
    {
     "name": "stderr",
     "output_type": "stream",
     "text": [
      "/tmp/ipykernel_21347/641108913.py:1: SettingWithCopyWarning: \n",
      "A value is trying to be set on a copy of a slice from a DataFrame.\n",
      "Try using .loc[row_indexer,col_indexer] = value instead\n",
      "\n",
      "See the caveats in the documentation: https://pandas.pydata.org/pandas-docs/stable/user_guide/indexing.html#returning-a-view-versus-a-copy\n",
      "  df['año'] = df['vigenciadesde'].dt.year\n"
     ]
    },
    {
     "data": {
      "text/html": [
       "<div>\n",
       "<style scoped>\n",
       "    .dataframe tbody tr th:only-of-type {\n",
       "        vertical-align: middle;\n",
       "    }\n",
       "\n",
       "    .dataframe tbody tr th {\n",
       "        vertical-align: top;\n",
       "    }\n",
       "\n",
       "    .dataframe thead th {\n",
       "        text-align: right;\n",
       "    }\n",
       "</style>\n",
       "<table border=\"1\" class=\"dataframe\">\n",
       "  <thead>\n",
       "    <tr style=\"text-align: right;\">\n",
       "      <th></th>\n",
       "      <th>count</th>\n",
       "      <th>mean</th>\n",
       "      <th>std</th>\n",
       "      <th>min</th>\n",
       "      <th>25%</th>\n",
       "      <th>50%</th>\n",
       "      <th>75%</th>\n",
       "      <th>max</th>\n",
       "    </tr>\n",
       "    <tr>\n",
       "      <th>año</th>\n",
       "      <th></th>\n",
       "      <th></th>\n",
       "      <th></th>\n",
       "      <th></th>\n",
       "      <th></th>\n",
       "      <th></th>\n",
       "      <th></th>\n",
       "      <th></th>\n",
       "    </tr>\n",
       "  </thead>\n",
       "  <tbody>\n",
       "    <tr>\n",
       "      <th>2021</th>\n",
       "      <td>238.0</td>\n",
       "      <td>3749.122437</td>\n",
       "      <td>145.569419</td>\n",
       "      <td>3420.78</td>\n",
       "      <td>3636.4225</td>\n",
       "      <td>3768.46</td>\n",
       "      <td>3854.565</td>\n",
       "      <td>4023.68</td>\n",
       "    </tr>\n",
       "    <tr>\n",
       "      <th>2022</th>\n",
       "      <td>238.0</td>\n",
       "      <td>4251.469664</td>\n",
       "      <td>387.652758</td>\n",
       "      <td>3706.95</td>\n",
       "      <td>3934.0425</td>\n",
       "      <td>4140.54</td>\n",
       "      <td>4528.965</td>\n",
       "      <td>5061.21</td>\n",
       "    </tr>\n",
       "    <tr>\n",
       "      <th>2023</th>\n",
       "      <td>211.0</td>\n",
       "      <td>4363.542038</td>\n",
       "      <td>310.064941</td>\n",
       "      <td>3898.48</td>\n",
       "      <td>4092.6850</td>\n",
       "      <td>4249.00</td>\n",
       "      <td>4642.560</td>\n",
       "      <td>4989.58</td>\n",
       "    </tr>\n",
       "  </tbody>\n",
       "</table>\n",
       "</div>"
      ],
      "text/plain": [
       "      count         mean         std      min        25%      50%       75%  \\\n",
       "año                                                                           \n",
       "2021  238.0  3749.122437  145.569419  3420.78  3636.4225  3768.46  3854.565   \n",
       "2022  238.0  4251.469664  387.652758  3706.95  3934.0425  4140.54  4528.965   \n",
       "2023  211.0  4363.542038  310.064941  3898.48  4092.6850  4249.00  4642.560   \n",
       "\n",
       "          max  \n",
       "año            \n",
       "2021  4023.68  \n",
       "2022  5061.21  \n",
       "2023  4989.58  "
      ]
     },
     "execution_count": 21,
     "metadata": {},
     "output_type": "execute_result"
    }
   ],
   "source": [
    "df['año'] = df['vigenciadesde'].dt.year\n",
    "df_agrupado = df.groupby('año')\n",
    "df.groupby('año')['valor'].describe()\n"
   ]
  },
  {
   "cell_type": "code",
   "execution_count": 22,
   "metadata": {},
   "outputs": [
    {
     "data": {
      "image/png": "[encoded data removed]",
      "text/plain": [
       "<Figure size 640x480 with 1 Axes>"
      ]
     },
     "metadata": {},
     "output_type": "display_data"
    }
   ],
   "source": [
    "#|Graficar el comportamiento por año\n",
    "\n",
    "fig, ax = plt.subplots()\n",
    "\n",
    "for año, data in df_agrupado:\n",
    "    ax.plot(data['vigenciadesde'], data['valor'], label=f'Año {año}', linewidth=0.7)\n",
    "\n",
    "ax.set_title('TRM por año')\n",
    "ax.legend()\n",
    "\n",
    "plt.show()\n"
   ]
  },
  {
   "cell_type": "code",
   "execution_count": 23,
   "metadata": {},
   "outputs": [
    {
     "data": {
      "image/png": "[encoded data removed]",
      "text/plain": [
       "<Figure size 640x480 with 1 Axes>"
      ]
     },
     "metadata": {},
     "output_type": "display_data"
    }
   ],
   "source": [
    "fig, ax = plt.subplots()\n",
    "\n",
    "ax.boxplot(df['valor'], whis=1.5, showfliers=True)\n",
    "\n",
    "ax.set_xlabel('Valor')\n",
    "\n",
    "ax.set_ylabel('Frecuencia')\n",
    "\n",
    "ax.annotate('Valor atípico', (df['valor'].min(), 0.5))\n",
    "\n",
    "plt.show()\n"
   ]
  },
  {
   "cell_type": "code",
   "execution_count": 39,
   "metadata": {},
   "outputs": [],
   "source": [
    "TRM = df[[ \"vigenciadesde\",\"valor\"]]\n"
   ]
  },
  {
   "cell_type": "code",
   "execution_count": 40,
   "metadata": {},
   "outputs": [],
   "source": [
    "# Establecer la ruta del archivo CSV\n",
    "ruta_archivo = \"/home/jsavilaarias/Proyecto-Integrador-Semestre1/python-notebooks/processed_tables/TRM.csv\"\n",
    "\n",
    "# Guardar el DataFrame en el archivo CSV\n",
    "TRM.to_csv(ruta_archivo)"
   ]
  }
 ],
 "metadata": {
  "kernelspec": {
   "display_name": "Proyecto-Integrador-Semestre1-qzCZNOwC",
   "language": "python",
   "name": "python3"
  },
  "language_info": {
   "codemirror_mode": {
    "name": "ipython",
    "version": 3
   },
   "file_extension": ".py",
   "mimetype": "text/x-python",
   "name": "python",
   "nbconvert_exporter": "python",
   "pygments_lexer": "ipython3",
   "version": "3.11.5"
  }
 },
 "nbformat": 4,
 "nbformat_minor": 2
}
