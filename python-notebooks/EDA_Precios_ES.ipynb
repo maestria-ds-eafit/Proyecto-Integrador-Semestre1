{
 "cells": [
  {
   "cell_type": "markdown",
   "metadata": {},
   "source": [
    "# Exploratory Data Analysis para datos de Precios\n"
   ]
  },
  {
   "cell_type": "code",
   "execution_count": 1,
   "metadata": {},
   "outputs": [],
   "source": [
    "import pandas as pd\n",
    "from azure.storage.blob import BlobServiceClient\n",
    "import io\n",
    "import os\n",
    "from dotenv import load_dotenv, find_dotenv"
   ]
  },
  {
   "cell_type": "code",
   "execution_count": null,
   "metadata": {},
   "outputs": [],
   "source": [
    "pd.options.display.max_columns = 100"
   ]
  },
  {
   "cell_type": "code",
   "execution_count": 2,
   "metadata": {},
   "outputs": [
    {
     "data": {
      "text/plain": [
       "True"
      ]
     },
     "execution_count": 2,
     "metadata": {},
     "output_type": "execute_result"
    }
   ],
   "source": [
    "load_dotenv(find_dotenv())"
   ]
  },
  {
   "cell_type": "code",
   "execution_count": 3,
   "metadata": {},
   "outputs": [],
   "source": [
    "def obtain_content_of_blob(connection_string, container_name, file_name):\n",
    "    \"\"\"\n",
    "    Esta función crea una conexión a un archivo específico almacenado en blob Storage y retorna su contenido\n",
    "    \"\"\"\n",
    "    blob_service_client = BlobServiceClient.from_connection_string(connection_string)\n",
    "    container_client = blob_service_client.get_container_client(container_name)\n",
    "    blob_client = container_client.get_blob_client(file_name)\n",
    "    blob_stream = blob_client.download_blob().readall()\n",
    "    blob_file = io.BytesIO(blob_stream)\n",
    "    return blob_file"
   ]
  },
  {
   "cell_type": "code",
   "execution_count": 5,
   "metadata": {},
   "outputs": [],
   "source": [
    "connection_string = os.getenv(\"AZ_CONNECTION_STRING\")\n",
    "container_name = \"raw/EnergySuiteData/precios/aire/\""
   ]
  },
  {
   "cell_type": "code",
   "execution_count": 6,
   "metadata": {},
   "outputs": [
    {
     "name": "stdout",
     "output_type": "stream",
     "text": [
      "(21264, 9)\n",
      "Id              object\n",
      "Date            object\n",
      "Period           int64\n",
      "Version          int64\n",
      "MarketType      object\n",
      "ProductType     object\n",
      "ConceptId       object\n",
      "Value          float64\n",
      "UpLoadId       float64\n",
      "dtype: object\n"
     ]
    },
    {
     "data": {
      "text/html": [
       "<div>\n",
       "<style scoped>\n",
       "    .dataframe tbody tr th:only-of-type {\n",
       "        vertical-align: middle;\n",
       "    }\n",
       "\n",
       "    .dataframe tbody tr th {\n",
       "        vertical-align: top;\n",
       "    }\n",
       "\n",
       "    .dataframe thead th {\n",
       "        text-align: right;\n",
       "    }\n",
       "</style>\n",
       "<table border=\"1\" class=\"dataframe\">\n",
       "  <thead>\n",
       "    <tr style=\"text-align: right;\">\n",
       "      <th></th>\n",
       "      <th>Id</th>\n",
       "      <th>Date</th>\n",
       "      <th>Period</th>\n",
       "      <th>Version</th>\n",
       "      <th>MarketType</th>\n",
       "      <th>ProductType</th>\n",
       "      <th>ConceptId</th>\n",
       "      <th>Value</th>\n",
       "      <th>UpLoadId</th>\n",
       "    </tr>\n",
       "  </thead>\n",
       "  <tbody>\n",
       "    <tr>\n",
       "      <th>0</th>\n",
       "      <td>7459BD0B-E48E-487A-B7D9-01E11783FAF0</td>\n",
       "      <td>2023-09-30 00:00:00.000</td>\n",
       "      <td>20</td>\n",
       "      <td>4</td>\n",
       "      <td>TMerEner</td>\n",
       "      <td>TPEner</td>\n",
       "      <td>PBNA</td>\n",
       "      <td>1062.184761</td>\n",
       "      <td>NaN</td>\n",
       "    </tr>\n",
       "    <tr>\n",
       "      <th>1</th>\n",
       "      <td>25E1062D-603C-432C-BAA5-07C4013A78FE</td>\n",
       "      <td>2023-09-30 00:00:00.000</td>\n",
       "      <td>19</td>\n",
       "      <td>4</td>\n",
       "      <td>TMerEner</td>\n",
       "      <td>TPEner</td>\n",
       "      <td>PBNA</td>\n",
       "      <td>1062.185761</td>\n",
       "      <td>NaN</td>\n",
       "    </tr>\n",
       "    <tr>\n",
       "      <th>2</th>\n",
       "      <td>BABD0C9A-111E-4D7A-A4B7-0AB310F6D4A5</td>\n",
       "      <td>2023-09-30 00:00:00.000</td>\n",
       "      <td>8</td>\n",
       "      <td>4</td>\n",
       "      <td>TMerEner</td>\n",
       "      <td>TPEner</td>\n",
       "      <td>PBNA</td>\n",
       "      <td>1008.944761</td>\n",
       "      <td>NaN</td>\n",
       "    </tr>\n",
       "    <tr>\n",
       "      <th>3</th>\n",
       "      <td>5109AA0B-B546-408C-B9A5-1C0FF634D91A</td>\n",
       "      <td>2023-09-30 00:00:00.000</td>\n",
       "      <td>2</td>\n",
       "      <td>4</td>\n",
       "      <td>TMerEner</td>\n",
       "      <td>TPEner</td>\n",
       "      <td>PBNA</td>\n",
       "      <td>1008.945761</td>\n",
       "      <td>NaN</td>\n",
       "    </tr>\n",
       "    <tr>\n",
       "      <th>4</th>\n",
       "      <td>F7CCDBA3-1710-4BF7-8BEE-28826207E2FA</td>\n",
       "      <td>2023-09-30 00:00:00.000</td>\n",
       "      <td>11</td>\n",
       "      <td>4</td>\n",
       "      <td>TMerEner</td>\n",
       "      <td>TPEner</td>\n",
       "      <td>PBNA</td>\n",
       "      <td>1062.085761</td>\n",
       "      <td>NaN</td>\n",
       "    </tr>\n",
       "  </tbody>\n",
       "</table>\n",
       "</div>"
      ],
      "text/plain": [
       "                                     Id                     Date  Period  \\\n",
       "0  7459BD0B-E48E-487A-B7D9-01E11783FAF0  2023-09-30 00:00:00.000      20   \n",
       "1  25E1062D-603C-432C-BAA5-07C4013A78FE  2023-09-30 00:00:00.000      19   \n",
       "2  BABD0C9A-111E-4D7A-A4B7-0AB310F6D4A5  2023-09-30 00:00:00.000       8   \n",
       "3  5109AA0B-B546-408C-B9A5-1C0FF634D91A  2023-09-30 00:00:00.000       2   \n",
       "4  F7CCDBA3-1710-4BF7-8BEE-28826207E2FA  2023-09-30 00:00:00.000      11   \n",
       "\n",
       "   Version MarketType ProductType ConceptId        Value  UpLoadId  \n",
       "0        4   TMerEner      TPEner      PBNA  1062.184761       NaN  \n",
       "1        4   TMerEner      TPEner      PBNA  1062.185761       NaN  \n",
       "2        4   TMerEner      TPEner      PBNA  1008.944761       NaN  \n",
       "3        4   TMerEner      TPEner      PBNA  1008.945761       NaN  \n",
       "4        4   TMerEner      TPEner      PBNA  1062.085761       NaN  "
      ]
     },
     "execution_count": 6,
     "metadata": {},
     "output_type": "execute_result"
    }
   ],
   "source": [
    "df_consumo = pd.read_csv(\n",
    "    obtain_content_of_blob(connection_string, container_name, \"AireSup-Prices.csv\"),\n",
    "    delimiter=\";\",\n",
    "    # type={\"Id\":str,\"Date\": str,\"Period\":int,\"Version\":int,\"ProductType\":str,\n",
    "    #   \"ConceptId\":str,\"ElementId\":str,\"Value\":float,\"SourceType\":str,\"NatureType\":str},\n",
    "    #   nrows=100000) #Loading only first 100000 rows\n",
    ")\n",
    "print(df_consumo.shape)\n",
    "print(df_consumo.dtypes)\n",
    "df_consumo.head()"
   ]
  }
 ],
 "metadata": {
  "kernelspec": {
   "display_name": "Proyecto-Integrador-Semestre1-VZ_FhVF5",
   "language": "python",
   "name": "python3"
  },
  "language_info": {
   "codemirror_mode": {
    "name": "ipython",
    "version": 3
   },
   "file_extension": ".py",
   "mimetype": "text/x-python",
   "name": "python",
   "nbconvert_exporter": "python",
   "pygments_lexer": "ipython3",
   "version": "3.11.5"
  }
 },
 "nbformat": 4,
 "nbformat_minor": 2
}
