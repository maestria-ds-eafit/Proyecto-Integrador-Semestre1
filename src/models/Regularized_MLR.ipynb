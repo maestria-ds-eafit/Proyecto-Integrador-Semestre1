{
 "cells": [
  {
   "cell_type": "code",
   "execution_count": 9,
   "metadata": {},
   "outputs": [],
   "source": [
    "import pandas as pd\n",
    "from lasso_mlr import perform_lasso_mlr"
   ]
  },
  {
   "cell_type": "code",
   "execution_count": 10,
   "metadata": {},
   "outputs": [],
   "source": [
    "df = pd.read_csv(\"../processed_tables/merged_standardized.csv\")"
   ]
  },
  {
   "cell_type": "markdown",
   "metadata": {},
   "source": [
    "## Regresión lineal con Lasso\n",
    "\n",
    "Esta vez utilizaremos `sklearn` para hacer la regresión Lasso y poder ver qué coeficientes son cero.\n"
   ]
  },
  {
   "cell_type": "code",
   "execution_count": 11,
   "metadata": {},
   "outputs": [
    {
     "name": "stderr",
     "output_type": "stream",
     "text": [
      "/home/david/.local/share/virtualenvs/Proyecto-Integrador-Semestre1-ERzOjjfT/lib/python3.11/site-packages/sklearn/linear_model/_coordinate_descent.py:628: ConvergenceWarning: Objective did not converge. You might want to increase the number of iterations, check the scale of the features or consider increasing regularisation. Duality gap: 1.249e+06, tolerance: 1.309e+03\n",
      "  model = cd_fast.enet_coordinate_descent(\n",
      "/home/david/.local/share/virtualenvs/Proyecto-Integrador-Semestre1-ERzOjjfT/lib/python3.11/site-packages/sklearn/linear_model/_coordinate_descent.py:628: ConvergenceWarning: Objective did not converge. You might want to increase the number of iterations, check the scale of the features or consider increasing regularisation. Duality gap: 1.161e+06, tolerance: 1.395e+03\n",
      "  model = cd_fast.enet_coordinate_descent(\n",
      "/home/david/.local/share/virtualenvs/Proyecto-Integrador-Semestre1-ERzOjjfT/lib/python3.11/site-packages/sklearn/linear_model/_coordinate_descent.py:628: ConvergenceWarning: Objective did not converge. You might want to increase the number of iterations, check the scale of the features or consider increasing regularisation. Duality gap: 1.173e+06, tolerance: 1.422e+03\n",
      "  model = cd_fast.enet_coordinate_descent(\n",
      "/home/david/.local/share/virtualenvs/Proyecto-Integrador-Semestre1-ERzOjjfT/lib/python3.11/site-packages/sklearn/linear_model/_coordinate_descent.py:628: ConvergenceWarning: Objective did not converge. You might want to increase the number of iterations, check the scale of the features or consider increasing regularisation. Duality gap: 1.159e+06, tolerance: 1.386e+03\n",
      "  model = cd_fast.enet_coordinate_descent(\n",
      "/home/david/.local/share/virtualenvs/Proyecto-Integrador-Semestre1-ERzOjjfT/lib/python3.11/site-packages/sklearn/linear_model/_coordinate_descent.py:628: ConvergenceWarning: Objective did not converge. You might want to increase the number of iterations, check the scale of the features or consider increasing regularisation. Duality gap: 8.110e+05, tolerance: 1.326e+03\n",
      "  model = cd_fast.enet_coordinate_descent(\n",
      "/home/david/.local/share/virtualenvs/Proyecto-Integrador-Semestre1-ERzOjjfT/lib/python3.11/site-packages/sklearn/linear_model/_coordinate_descent.py:628: ConvergenceWarning: Objective did not converge. You might want to increase the number of iterations, check the scale of the features or consider increasing regularisation. Duality gap: 1.249e+06, tolerance: 1.309e+03\n",
      "  model = cd_fast.enet_coordinate_descent(\n",
      "/home/david/.local/share/virtualenvs/Proyecto-Integrador-Semestre1-ERzOjjfT/lib/python3.11/site-packages/sklearn/linear_model/_coordinate_descent.py:628: ConvergenceWarning: Objective did not converge. You might want to increase the number of iterations, check the scale of the features or consider increasing regularisation. Duality gap: 1.095e+06, tolerance: 1.395e+03\n",
      "  model = cd_fast.enet_coordinate_descent(\n",
      "/home/david/.local/share/virtualenvs/Proyecto-Integrador-Semestre1-ERzOjjfT/lib/python3.11/site-packages/sklearn/linear_model/_coordinate_descent.py:628: ConvergenceWarning: Objective did not converge. You might want to increase the number of iterations, check the scale of the features or consider increasing regularisation. Duality gap: 1.173e+06, tolerance: 1.422e+03\n",
      "  model = cd_fast.enet_coordinate_descent(\n",
      "/home/david/.local/share/virtualenvs/Proyecto-Integrador-Semestre1-ERzOjjfT/lib/python3.11/site-packages/sklearn/linear_model/_coordinate_descent.py:628: ConvergenceWarning: Objective did not converge. You might want to increase the number of iterations, check the scale of the features or consider increasing regularisation. Duality gap: 1.159e+06, tolerance: 1.386e+03\n",
      "  model = cd_fast.enet_coordinate_descent(\n",
      "/home/david/.local/share/virtualenvs/Proyecto-Integrador-Semestre1-ERzOjjfT/lib/python3.11/site-packages/sklearn/linear_model/_coordinate_descent.py:628: ConvergenceWarning: Objective did not converge. You might want to increase the number of iterations, check the scale of the features or consider increasing regularisation. Duality gap: 8.110e+05, tolerance: 1.326e+03\n",
      "  model = cd_fast.enet_coordinate_descent(\n",
      "/home/david/.local/share/virtualenvs/Proyecto-Integrador-Semestre1-ERzOjjfT/lib/python3.11/site-packages/sklearn/linear_model/_coordinate_descent.py:628: ConvergenceWarning: Objective did not converge. You might want to increase the number of iterations, check the scale of the features or consider increasing regularisation. Duality gap: 1.083e+06, tolerance: 1.309e+03\n",
      "  model = cd_fast.enet_coordinate_descent(\n",
      "/home/david/.local/share/virtualenvs/Proyecto-Integrador-Semestre1-ERzOjjfT/lib/python3.11/site-packages/sklearn/linear_model/_coordinate_descent.py:628: ConvergenceWarning: Objective did not converge. You might want to increase the number of iterations, check the scale of the features or consider increasing regularisation. Duality gap: 1.099e+06, tolerance: 1.395e+03\n",
      "  model = cd_fast.enet_coordinate_descent(\n",
      "/home/david/.local/share/virtualenvs/Proyecto-Integrador-Semestre1-ERzOjjfT/lib/python3.11/site-packages/sklearn/linear_model/_coordinate_descent.py:628: ConvergenceWarning: Objective did not converge. You might want to increase the number of iterations, check the scale of the features or consider increasing regularisation. Duality gap: 1.177e+06, tolerance: 1.422e+03\n",
      "  model = cd_fast.enet_coordinate_descent(\n",
      "/home/david/.local/share/virtualenvs/Proyecto-Integrador-Semestre1-ERzOjjfT/lib/python3.11/site-packages/sklearn/linear_model/_coordinate_descent.py:628: ConvergenceWarning: Objective did not converge. You might want to increase the number of iterations, check the scale of the features or consider increasing regularisation. Duality gap: 1.146e+06, tolerance: 1.386e+03\n",
      "  model = cd_fast.enet_coordinate_descent(\n",
      "/home/david/.local/share/virtualenvs/Proyecto-Integrador-Semestre1-ERzOjjfT/lib/python3.11/site-packages/sklearn/linear_model/_coordinate_descent.py:628: ConvergenceWarning: Objective did not converge. You might want to increase the number of iterations, check the scale of the features or consider increasing regularisation. Duality gap: 8.099e+05, tolerance: 1.326e+03\n",
      "  model = cd_fast.enet_coordinate_descent(\n",
      "/home/david/.local/share/virtualenvs/Proyecto-Integrador-Semestre1-ERzOjjfT/lib/python3.11/site-packages/sklearn/linear_model/_coordinate_descent.py:628: ConvergenceWarning: Objective did not converge. You might want to increase the number of iterations, check the scale of the features or consider increasing regularisation. Duality gap: 1.250e+06, tolerance: 1.309e+03\n",
      "  model = cd_fast.enet_coordinate_descent(\n",
      "/home/david/.local/share/virtualenvs/Proyecto-Integrador-Semestre1-ERzOjjfT/lib/python3.11/site-packages/sklearn/linear_model/_coordinate_descent.py:628: ConvergenceWarning: Objective did not converge. You might want to increase the number of iterations, check the scale of the features or consider increasing regularisation. Duality gap: 1.095e+06, tolerance: 1.395e+03\n",
      "  model = cd_fast.enet_coordinate_descent(\n",
      "/home/david/.local/share/virtualenvs/Proyecto-Integrador-Semestre1-ERzOjjfT/lib/python3.11/site-packages/sklearn/linear_model/_coordinate_descent.py:628: ConvergenceWarning: Objective did not converge. You might want to increase the number of iterations, check the scale of the features or consider increasing regularisation. Duality gap: 1.173e+06, tolerance: 1.422e+03\n",
      "  model = cd_fast.enet_coordinate_descent(\n",
      "/home/david/.local/share/virtualenvs/Proyecto-Integrador-Semestre1-ERzOjjfT/lib/python3.11/site-packages/sklearn/linear_model/_coordinate_descent.py:628: ConvergenceWarning: Objective did not converge. You might want to increase the number of iterations, check the scale of the features or consider increasing regularisation. Duality gap: 1.160e+06, tolerance: 1.386e+03\n",
      "  model = cd_fast.enet_coordinate_descent(\n",
      "/home/david/.local/share/virtualenvs/Proyecto-Integrador-Semestre1-ERzOjjfT/lib/python3.11/site-packages/sklearn/linear_model/_coordinate_descent.py:628: ConvergenceWarning: Objective did not converge. You might want to increase the number of iterations, check the scale of the features or consider increasing regularisation. Duality gap: 8.065e+05, tolerance: 1.326e+03\n",
      "  model = cd_fast.enet_coordinate_descent(\n"
     ]
    },
    {
     "name": "stdout",
     "output_type": "stream",
     "text": [
      "Best parameters found: {'alpha': 4.281332398719396}\n",
      "Best cross-validation score: 0.3550011745186284\n"
     ]
    },
    {
     "name": "stderr",
     "output_type": "stream",
     "text": [
      "/home/david/.local/share/virtualenvs/Proyecto-Integrador-Semestre1-ERzOjjfT/lib/python3.11/site-packages/sklearn/linear_model/_coordinate_descent.py:628: ConvergenceWarning: Objective did not converge. You might want to increase the number of iterations, check the scale of the features or consider increasing regularisation. Duality gap: 1.249e+06, tolerance: 1.309e+03\n",
      "  model = cd_fast.enet_coordinate_descent(\n",
      "/home/david/.local/share/virtualenvs/Proyecto-Integrador-Semestre1-ERzOjjfT/lib/python3.11/site-packages/sklearn/linear_model/_coordinate_descent.py:628: ConvergenceWarning: Objective did not converge. You might want to increase the number of iterations, check the scale of the features or consider increasing regularisation. Duality gap: 1.161e+06, tolerance: 1.395e+03\n",
      "  model = cd_fast.enet_coordinate_descent(\n",
      "/home/david/.local/share/virtualenvs/Proyecto-Integrador-Semestre1-ERzOjjfT/lib/python3.11/site-packages/sklearn/linear_model/_coordinate_descent.py:628: ConvergenceWarning: Objective did not converge. You might want to increase the number of iterations, check the scale of the features or consider increasing regularisation. Duality gap: 1.173e+06, tolerance: 1.422e+03\n",
      "  model = cd_fast.enet_coordinate_descent(\n",
      "/home/david/.local/share/virtualenvs/Proyecto-Integrador-Semestre1-ERzOjjfT/lib/python3.11/site-packages/sklearn/linear_model/_coordinate_descent.py:628: ConvergenceWarning: Objective did not converge. You might want to increase the number of iterations, check the scale of the features or consider increasing regularisation. Duality gap: 1.159e+06, tolerance: 1.386e+03\n",
      "  model = cd_fast.enet_coordinate_descent(\n",
      "/home/david/.local/share/virtualenvs/Proyecto-Integrador-Semestre1-ERzOjjfT/lib/python3.11/site-packages/sklearn/linear_model/_coordinate_descent.py:628: ConvergenceWarning: Objective did not converge. You might want to increase the number of iterations, check the scale of the features or consider increasing regularisation. Duality gap: 8.110e+05, tolerance: 1.326e+03\n",
      "  model = cd_fast.enet_coordinate_descent(\n",
      "/home/david/.local/share/virtualenvs/Proyecto-Integrador-Semestre1-ERzOjjfT/lib/python3.11/site-packages/sklearn/linear_model/_coordinate_descent.py:628: ConvergenceWarning: Objective did not converge. You might want to increase the number of iterations, check the scale of the features or consider increasing regularisation. Duality gap: 1.249e+06, tolerance: 1.309e+03\n",
      "  model = cd_fast.enet_coordinate_descent(\n",
      "/home/david/.local/share/virtualenvs/Proyecto-Integrador-Semestre1-ERzOjjfT/lib/python3.11/site-packages/sklearn/linear_model/_coordinate_descent.py:628: ConvergenceWarning: Objective did not converge. You might want to increase the number of iterations, check the scale of the features or consider increasing regularisation. Duality gap: 1.095e+06, tolerance: 1.395e+03\n",
      "  model = cd_fast.enet_coordinate_descent(\n",
      "/home/david/.local/share/virtualenvs/Proyecto-Integrador-Semestre1-ERzOjjfT/lib/python3.11/site-packages/sklearn/linear_model/_coordinate_descent.py:628: ConvergenceWarning: Objective did not converge. You might want to increase the number of iterations, check the scale of the features or consider increasing regularisation. Duality gap: 1.173e+06, tolerance: 1.422e+03\n",
      "  model = cd_fast.enet_coordinate_descent(\n",
      "/home/david/.local/share/virtualenvs/Proyecto-Integrador-Semestre1-ERzOjjfT/lib/python3.11/site-packages/sklearn/linear_model/_coordinate_descent.py:628: ConvergenceWarning: Objective did not converge. You might want to increase the number of iterations, check the scale of the features or consider increasing regularisation. Duality gap: 1.159e+06, tolerance: 1.386e+03\n",
      "  model = cd_fast.enet_coordinate_descent(\n",
      "/home/david/.local/share/virtualenvs/Proyecto-Integrador-Semestre1-ERzOjjfT/lib/python3.11/site-packages/sklearn/linear_model/_coordinate_descent.py:628: ConvergenceWarning: Objective did not converge. You might want to increase the number of iterations, check the scale of the features or consider increasing regularisation. Duality gap: 8.110e+05, tolerance: 1.326e+03\n",
      "  model = cd_fast.enet_coordinate_descent(\n",
      "/home/david/.local/share/virtualenvs/Proyecto-Integrador-Semestre1-ERzOjjfT/lib/python3.11/site-packages/sklearn/linear_model/_coordinate_descent.py:628: ConvergenceWarning: Objective did not converge. You might want to increase the number of iterations, check the scale of the features or consider increasing regularisation. Duality gap: 1.083e+06, tolerance: 1.309e+03\n",
      "  model = cd_fast.enet_coordinate_descent(\n",
      "/home/david/.local/share/virtualenvs/Proyecto-Integrador-Semestre1-ERzOjjfT/lib/python3.11/site-packages/sklearn/linear_model/_coordinate_descent.py:628: ConvergenceWarning: Objective did not converge. You might want to increase the number of iterations, check the scale of the features or consider increasing regularisation. Duality gap: 1.099e+06, tolerance: 1.395e+03\n",
      "  model = cd_fast.enet_coordinate_descent(\n",
      "/home/david/.local/share/virtualenvs/Proyecto-Integrador-Semestre1-ERzOjjfT/lib/python3.11/site-packages/sklearn/linear_model/_coordinate_descent.py:628: ConvergenceWarning: Objective did not converge. You might want to increase the number of iterations, check the scale of the features or consider increasing regularisation. Duality gap: 1.177e+06, tolerance: 1.422e+03\n",
      "  model = cd_fast.enet_coordinate_descent(\n",
      "/home/david/.local/share/virtualenvs/Proyecto-Integrador-Semestre1-ERzOjjfT/lib/python3.11/site-packages/sklearn/linear_model/_coordinate_descent.py:628: ConvergenceWarning: Objective did not converge. You might want to increase the number of iterations, check the scale of the features or consider increasing regularisation. Duality gap: 1.146e+06, tolerance: 1.386e+03\n",
      "  model = cd_fast.enet_coordinate_descent(\n",
      "/home/david/.local/share/virtualenvs/Proyecto-Integrador-Semestre1-ERzOjjfT/lib/python3.11/site-packages/sklearn/linear_model/_coordinate_descent.py:628: ConvergenceWarning: Objective did not converge. You might want to increase the number of iterations, check the scale of the features or consider increasing regularisation. Duality gap: 8.099e+05, tolerance: 1.326e+03\n",
      "  model = cd_fast.enet_coordinate_descent(\n",
      "/home/david/.local/share/virtualenvs/Proyecto-Integrador-Semestre1-ERzOjjfT/lib/python3.11/site-packages/sklearn/linear_model/_coordinate_descent.py:628: ConvergenceWarning: Objective did not converge. You might want to increase the number of iterations, check the scale of the features or consider increasing regularisation. Duality gap: 1.250e+06, tolerance: 1.309e+03\n",
      "  model = cd_fast.enet_coordinate_descent(\n",
      "/home/david/.local/share/virtualenvs/Proyecto-Integrador-Semestre1-ERzOjjfT/lib/python3.11/site-packages/sklearn/linear_model/_coordinate_descent.py:628: ConvergenceWarning: Objective did not converge. You might want to increase the number of iterations, check the scale of the features or consider increasing regularisation. Duality gap: 1.095e+06, tolerance: 1.395e+03\n",
      "  model = cd_fast.enet_coordinate_descent(\n",
      "/home/david/.local/share/virtualenvs/Proyecto-Integrador-Semestre1-ERzOjjfT/lib/python3.11/site-packages/sklearn/linear_model/_coordinate_descent.py:628: ConvergenceWarning: Objective did not converge. You might want to increase the number of iterations, check the scale of the features or consider increasing regularisation. Duality gap: 1.173e+06, tolerance: 1.422e+03\n",
      "  model = cd_fast.enet_coordinate_descent(\n",
      "/home/david/.local/share/virtualenvs/Proyecto-Integrador-Semestre1-ERzOjjfT/lib/python3.11/site-packages/sklearn/linear_model/_coordinate_descent.py:628: ConvergenceWarning: Objective did not converge. You might want to increase the number of iterations, check the scale of the features or consider increasing regularisation. Duality gap: 1.160e+06, tolerance: 1.386e+03\n",
      "  model = cd_fast.enet_coordinate_descent(\n"
     ]
    },
    {
     "name": "stdout",
     "output_type": "stream",
     "text": [
      "Mean Squared Error on Test Data: 185890.14346469557\n",
      "precipitacion_amazonas: 4.153383912353467\n",
      "precipitacion_antioquia: -3.0944496048572883\n",
      "precipitacion_arauca: -6.116933322970708\n",
      "precipitacion_atlantico: -3.9791566861809504\n",
      "precipitacion_bolivar: -0.685678830031958\n",
      "precipitacion_caqueta: 2.5495565267918803\n",
      "precipitacion_casanare: 7.705885121707006\n",
      "precipitacion_cauca: 14.26972622391908\n",
      "precipitacion_cordoba: -4.5593432064636685\n",
      "precipitacion_cundinamarca: 13.639499317097556\n",
      "precipitacion_guainia: -3.7213242107483735\n",
      "precipitacion_guaviare: 1.0890833471944115\n",
      "precipitacion_huila: -0.5455319640422527\n",
      "precipitacion_la guajira: -3.1955217446314466\n",
      "precipitacion_narino: -9.843014023055812\n",
      "precipitacion_norte de santander: -4.439667790197352\n",
      "precipitacion_san andres providencia: -0.13431826439647138\n",
      "precipitacion_santander: -7.096788711456861\n",
      "precipitacion_sucre: -8.351940890131026\n",
      "precipitacion_tolima: -0.39024841730056015\n",
      "precipitacion_vaupes: 5.759206364728705\n",
      "temp_ARAUCA: -19.46710026093621\n",
      "temp_ARCHIPIELAGO DE SAN ANDRES PROVIDENCIA Y SANTA CATALINA: -5.115947877479122\n",
      "temp_ATLANTICO: 13.308793992558327\n",
      "temp_CALDAS: -56.95836985612499\n",
      "temp_CAQUETA: 9.410063508937567\n",
      "temp_CESAR: 5.20307451274285\n",
      "temp_CUNDINAMARCA: 7.353019557366448\n",
      "temp_MAGDALENA: -1.9766628895163423\n",
      "temp_META: 2.218286368939561\n",
      "temp_NARINO: -0.8622609076082928\n",
      "temp_NORTE DE SANTANDER: 26.504499275718477\n",
      "temp_PUTUMAYO: -6.6317784610943935\n",
      "temp_QUINDIO: 29.45105602740533\n",
      "temp_VALLE DEL CAUCA: 7.764303045850262\n",
      "temp_VICHADA: -14.141138980509169\n",
      "brent_value: -78.57153584503907\n"
     ]
    },
    {
     "name": "stderr",
     "output_type": "stream",
     "text": [
      "/home/david/.local/share/virtualenvs/Proyecto-Integrador-Semestre1-ERzOjjfT/lib/python3.11/site-packages/sklearn/linear_model/_coordinate_descent.py:628: ConvergenceWarning: Objective did not converge. You might want to increase the number of iterations, check the scale of the features or consider increasing regularisation. Duality gap: 8.065e+05, tolerance: 1.326e+03\n",
      "  model = cd_fast.enet_coordinate_descent(\n"
     ]
    }
   ],
   "source": [
    "perform_lasso_mlr({ \"df\": df })"
   ]
  }
 ],
 "metadata": {
  "kernelspec": {
   "display_name": "Proyecto-Integrador-Semestre1-ERzOjjfT",
   "language": "python",
   "name": "python3"
  },
  "language_info": {
   "codemirror_mode": {
    "name": "ipython",
    "version": 3
   },
   "file_extension": ".py",
   "mimetype": "text/x-python",
   "name": "python",
   "nbconvert_exporter": "python",
   "pygments_lexer": "ipython3",
   "version": "3.11.5"
  }
 },
 "nbformat": 4,
 "nbformat_minor": 2
}
