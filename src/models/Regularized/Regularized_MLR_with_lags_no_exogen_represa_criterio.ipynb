{
 "cells": [
  {
   "cell_type": "code",
   "execution_count": 1,
   "metadata": {},
   "outputs": [],
   "source": [
    "import sys\n",
    "\n",
    "sys.path.insert(0, \"..\")"
   ]
  },
  {
   "cell_type": "code",
   "execution_count": 2,
   "metadata": {},
   "outputs": [],
   "source": [
    "from lasso_mlr import perform_lasso_mlr\n",
    "import pandas as pd\n",
    "import plotly.graph_objects as go\n",
    "import plotly.express as px"
   ]
  },
  {
   "cell_type": "code",
   "execution_count": 3,
   "metadata": {},
   "outputs": [],
   "source": [
    "df = pd.read_csv(\"../../processed_tables/merged_without_lags_represas_criterio.csv\")"
   ]
  },
  {
   "cell_type": "markdown",
   "metadata": {},
   "source": [
    "## Sacamos las variables exógenas\n"
   ]
  },
  {
   "cell_type": "code",
   "execution_count": 4,
   "metadata": {},
   "outputs": [
    {
     "data": {
      "text/html": [
       "<div>\n",
       "<style scoped>\n",
       "    .dataframe tbody tr th:only-of-type {\n",
       "        vertical-align: middle;\n",
       "    }\n",
       "\n",
       "    .dataframe tbody tr th {\n",
       "        vertical-align: top;\n",
       "    }\n",
       "\n",
       "    .dataframe thead th {\n",
       "        text-align: right;\n",
       "    }\n",
       "</style>\n",
       "<table border=\"1\" class=\"dataframe\">\n",
       "  <thead>\n",
       "    <tr style=\"text-align: right;\">\n",
       "      <th></th>\n",
       "      <th>Date</th>\n",
       "      <th>energy_price</th>\n",
       "    </tr>\n",
       "  </thead>\n",
       "  <tbody>\n",
       "    <tr>\n",
       "      <th>0</th>\n",
       "      <td>2021-10-01</td>\n",
       "      <td>216.929726</td>\n",
       "    </tr>\n",
       "    <tr>\n",
       "      <th>1</th>\n",
       "      <td>2021-10-02</td>\n",
       "      <td>256.940174</td>\n",
       "    </tr>\n",
       "    <tr>\n",
       "      <th>2</th>\n",
       "      <td>2021-10-03</td>\n",
       "      <td>282.065065</td>\n",
       "    </tr>\n",
       "    <tr>\n",
       "      <th>3</th>\n",
       "      <td>2021-10-04</td>\n",
       "      <td>286.526116</td>\n",
       "    </tr>\n",
       "    <tr>\n",
       "      <th>4</th>\n",
       "      <td>2021-10-05</td>\n",
       "      <td>278.157325</td>\n",
       "    </tr>\n",
       "  </tbody>\n",
       "</table>\n",
       "</div>"
      ],
      "text/plain": [
       "         Date  energy_price\n",
       "0  2021-10-01    216.929726\n",
       "1  2021-10-02    256.940174\n",
       "2  2021-10-03    282.065065\n",
       "3  2021-10-04    286.526116\n",
       "4  2021-10-05    278.157325"
      ]
     },
     "execution_count": 4,
     "metadata": {},
     "output_type": "execute_result"
    }
   ],
   "source": [
    "lag_columns = df.filter(like=\"lag_\")\n",
    "price = df[[\"Date\", \"energy_price\"]]\n",
    "df = pd.concat([price, lag_columns], axis=1)\n",
    "df.head()"
   ]
  },
  {
   "cell_type": "markdown",
   "metadata": {},
   "source": [
    "## Regresión lineal con Lasso\n",
    "\n",
    "Esta vez utilizaremos `sklearn` para hacer la regresión Lasso y poder ver qué coeficientes son cero.\n"
   ]
  },
  {
   "cell_type": "code",
   "execution_count": 5,
   "metadata": {},
   "outputs": [
    {
     "name": "stdout",
     "output_type": "stream",
     "text": [
      "Lags: 1\n",
      "Best parameters found: {'alpha': 206.913808111479}\n",
      "Best cross-validation score: 0.9355698036817355\n",
      "Mean Squared Error on Test Data: 4803.445749029225\n",
      "Mean Absolute Percentage Error on Test Data: 0.09967244325774398\n",
      "energy_price_lag_1: 0.9656740502995749\n",
      "-----------------------\n",
      "Lags: 2\n",
      "Best parameters found: {'alpha': 0.23357214690901212}\n",
      "Best cross-validation score: 0.9298106586401882\n",
      "Mean Squared Error on Test Data: 4536.9713407624695\n",
      "Mean Absolute Percentage Error on Test Data: 0.09886036782820969\n",
      "energy_price_lag_1: 1.1056825431610269\n",
      "energy_price_lag_2: -0.13744556222094514\n",
      "-----------------------\n",
      "Lags: 3\n",
      "Best parameters found: {'alpha': 4.281332398719396}\n",
      "Best cross-validation score: 0.9402050642672373\n",
      "Mean Squared Error on Test Data: 4534.664925587474\n",
      "Mean Absolute Percentage Error on Test Data: 0.09684692758694802\n",
      "energy_price_lag_1: 1.0793042203114995\n",
      "energy_price_lag_2: 0.06345804013179508\n",
      "energy_price_lag_3: -0.18126666165684607\n",
      "-----------------------\n",
      "Lags: 4\n",
      "Best parameters found: {'alpha': 4.281332398719396}\n",
      "Best cross-validation score: 0.9428893493581361\n",
      "Mean Squared Error on Test Data: 4536.290928974545\n",
      "Mean Absolute Percentage Error on Test Data: 0.0968714041645754\n",
      "energy_price_lag_1: 1.0801614200776162\n",
      "energy_price_lag_2: 0.06334192573406304\n",
      "energy_price_lag_3: -0.18492451020942136\n",
      "energy_price_lag_4: 0.0030420675747583675\n",
      "-----------------------\n",
      "Lags: 5\n",
      "Best parameters found: {'alpha': 4.281332398719396}\n",
      "Best cross-validation score: 0.9437839446311271\n",
      "Mean Squared Error on Test Data: 4605.183194456705\n",
      "Mean Absolute Percentage Error on Test Data: 0.097784475444519\n",
      "energy_price_lag_1: 1.0800254880030509\n",
      "energy_price_lag_2: 0.050063531847297504\n",
      "energy_price_lag_3: -0.18136260591803474\n",
      "energy_price_lag_4: 0.08935256718495978\n",
      "energy_price_lag_5: -0.07995226092741685\n",
      "-----------------------\n",
      "Lags: 6\n",
      "Best parameters found: {'alpha': 206.913808111479}\n",
      "Best cross-validation score: 0.9408324915300467\n",
      "Mean Squared Error on Test Data: 4727.374376403668\n",
      "Mean Absolute Percentage Error on Test Data: 0.09943560997800151\n",
      "energy_price_lag_1: 1.0059602582107818\n",
      "energy_price_lag_5: -0.031154062005820955\n",
      "energy_price_lag_6: -0.018474520956151822\n",
      "-----------------------\n",
      "Lags: 7\n",
      "Best parameters found: {'alpha': 4.281332398719396}\n",
      "Best cross-validation score: 0.9425693658753816\n",
      "Mean Squared Error on Test Data: 4651.880501174501\n",
      "Mean Absolute Percentage Error on Test Data: 0.09834796740935382\n",
      "energy_price_lag_1: 1.0776656858640417\n",
      "energy_price_lag_2: 0.05240105026374936\n",
      "energy_price_lag_3: -0.1842088797867744\n",
      "energy_price_lag_4: 0.09112532159144035\n",
      "energy_price_lag_5: -0.05977071861795221\n",
      "energy_price_lag_6: -0.020092487956330604\n",
      "-----------------------\n",
      "Lags: 8\n",
      "Best parameters found: {'alpha': 4.281332398719396}\n",
      "Best cross-validation score: 0.9435198943694767\n",
      "Mean Squared Error on Test Data: 4716.845407384966\n",
      "Mean Absolute Percentage Error on Test Data: 0.09954904241471177\n",
      "energy_price_lag_1: 1.0779240524982174\n",
      "energy_price_lag_2: 0.048476861046842394\n",
      "energy_price_lag_3: -0.18603668616263583\n",
      "energy_price_lag_4: 0.09700255233950712\n",
      "energy_price_lag_5: -0.07449817728380918\n",
      "energy_price_lag_6: -0.014883176790412291\n",
      "energy_price_lag_7: 0.09664087708497388\n",
      "energy_price_lag_8: -0.09242064500288559\n",
      "-----------------------\n",
      "Lags: 9\n",
      "Best parameters found: {'alpha': 4.281332398719396}\n",
      "Best cross-validation score: 0.9439864820178888\n",
      "Mean Squared Error on Test Data: 4627.211792891566\n",
      "Mean Absolute Percentage Error on Test Data: 0.09844279765492103\n",
      "energy_price_lag_1: 1.084417208607602\n",
      "energy_price_lag_2: 0.0413877459816923\n",
      "energy_price_lag_3: -0.18380355337394133\n",
      "energy_price_lag_4: 0.10038821644965397\n",
      "energy_price_lag_5: -0.08054460594735467\n",
      "energy_price_lag_6: -0.0006246036975071496\n",
      "energy_price_lag_7: 0.09370851216317083\n",
      "energy_price_lag_8: -0.17575894850389231\n",
      "energy_price_lag_9: 0.07702138139819241\n",
      "-----------------------\n",
      "Lags: 10\n",
      "Best parameters found: {'alpha': 4.281332398719396}\n",
      "Best cross-validation score: 0.9420840125385667\n",
      "Mean Squared Error on Test Data: 4542.209591786946\n",
      "Mean Absolute Percentage Error on Test Data: 0.09798279765966801\n",
      "energy_price_lag_1: 1.080057910450302\n",
      "energy_price_lag_2: 0.05101552546870049\n",
      "energy_price_lag_3: -0.18875496554977447\n",
      "energy_price_lag_4: 0.10121325132103923\n",
      "energy_price_lag_5: -0.07740696963848859\n",
      "energy_price_lag_6: -0.006174932956555753\n",
      "energy_price_lag_7: 0.10473239849635525\n",
      "energy_price_lag_8: -0.1778002447619568\n",
      "energy_price_lag_9: 0.013488902302581462\n",
      "energy_price_lag_10: 0.05872449948734287\n",
      "-----------------------\n",
      "Lags: 11\n",
      "Best parameters found: {'alpha': 206.913808111479}\n",
      "Best cross-validation score: 0.9398454289598901\n",
      "Mean Squared Error on Test Data: 4855.915440534761\n",
      "Mean Absolute Percentage Error on Test Data: 0.10120472447547187\n",
      "energy_price_lag_1: 1.0013367423478132\n",
      "energy_price_lag_5: -0.012393213670909892\n",
      "energy_price_lag_8: -0.043283353157199646\n",
      "energy_price_lag_11: 0.0066218093638991775\n",
      "-----------------------\n"
     ]
    }
   ],
   "source": [
    "mape_test = []\n",
    "mse_test = []\n",
    "\n",
    "for i in range(1, 12):\n",
    "    print(f\"Lags: {i}\")\n",
    "    results_i = perform_lasso_mlr({\"df\": df, \"lags\": i})\n",
    "    mape_i = results_i[\"mape_test\"]\n",
    "    mse_i = results_i[\"mse_test\"]\n",
    "    mape_test.append(mape_i)\n",
    "    mse_test.append(mse_i)\n",
    "    print(\"-----------------------\")"
   ]
  },
  {
   "cell_type": "code",
   "execution_count": 6,
   "metadata": {},
   "outputs": [
    {
     "data": {
      "text/html": [
       "<div>\n",
       "<style scoped>\n",
       "    .dataframe tbody tr th:only-of-type {\n",
       "        vertical-align: middle;\n",
       "    }\n",
       "\n",
       "    .dataframe tbody tr th {\n",
       "        vertical-align: top;\n",
       "    }\n",
       "\n",
       "    .dataframe thead th {\n",
       "        text-align: right;\n",
       "    }\n",
       "</style>\n",
       "<table border=\"1\" class=\"dataframe\">\n",
       "  <thead>\n",
       "    <tr style=\"text-align: right;\">\n",
       "      <th></th>\n",
       "      <th>lag</th>\n",
       "      <th>mse_test</th>\n",
       "      <th>mape_test</th>\n",
       "    </tr>\n",
       "  </thead>\n",
       "  <tbody>\n",
       "    <tr>\n",
       "      <th>0</th>\n",
       "      <td>1</td>\n",
       "      <td>4803.445749</td>\n",
       "      <td>0.099672</td>\n",
       "    </tr>\n",
       "    <tr>\n",
       "      <th>1</th>\n",
       "      <td>2</td>\n",
       "      <td>4536.971341</td>\n",
       "      <td>0.098860</td>\n",
       "    </tr>\n",
       "    <tr>\n",
       "      <th>2</th>\n",
       "      <td>3</td>\n",
       "      <td>4534.664926</td>\n",
       "      <td>0.096847</td>\n",
       "    </tr>\n",
       "    <tr>\n",
       "      <th>3</th>\n",
       "      <td>4</td>\n",
       "      <td>4536.290929</td>\n",
       "      <td>0.096871</td>\n",
       "    </tr>\n",
       "    <tr>\n",
       "      <th>4</th>\n",
       "      <td>5</td>\n",
       "      <td>4605.183194</td>\n",
       "      <td>0.097784</td>\n",
       "    </tr>\n",
       "    <tr>\n",
       "      <th>5</th>\n",
       "      <td>6</td>\n",
       "      <td>4727.374376</td>\n",
       "      <td>0.099436</td>\n",
       "    </tr>\n",
       "    <tr>\n",
       "      <th>6</th>\n",
       "      <td>7</td>\n",
       "      <td>4651.880501</td>\n",
       "      <td>0.098348</td>\n",
       "    </tr>\n",
       "    <tr>\n",
       "      <th>7</th>\n",
       "      <td>8</td>\n",
       "      <td>4716.845407</td>\n",
       "      <td>0.099549</td>\n",
       "    </tr>\n",
       "    <tr>\n",
       "      <th>8</th>\n",
       "      <td>9</td>\n",
       "      <td>4627.211793</td>\n",
       "      <td>0.098443</td>\n",
       "    </tr>\n",
       "    <tr>\n",
       "      <th>9</th>\n",
       "      <td>10</td>\n",
       "      <td>4542.209592</td>\n",
       "      <td>0.097983</td>\n",
       "    </tr>\n",
       "    <tr>\n",
       "      <th>10</th>\n",
       "      <td>11</td>\n",
       "      <td>4855.915441</td>\n",
       "      <td>0.101205</td>\n",
       "    </tr>\n",
       "  </tbody>\n",
       "</table>\n",
       "</div>"
      ],
      "text/plain": [
       "    lag     mse_test  mape_test\n",
       "0     1  4803.445749   0.099672\n",
       "1     2  4536.971341   0.098860\n",
       "2     3  4534.664926   0.096847\n",
       "3     4  4536.290929   0.096871\n",
       "4     5  4605.183194   0.097784\n",
       "5     6  4727.374376   0.099436\n",
       "6     7  4651.880501   0.098348\n",
       "7     8  4716.845407   0.099549\n",
       "8     9  4627.211793   0.098443\n",
       "9    10  4542.209592   0.097983\n",
       "10   11  4855.915441   0.101205"
      ]
     },
     "execution_count": 6,
     "metadata": {},
     "output_type": "execute_result"
    }
   ],
   "source": [
    "df_pruebas = pd.DataFrame(\n",
    "    {\"lag\": list(range(1, 12)), \"mse_test\": mse_test, \"mape_test\": mape_test}\n",
    ")\n",
    "df_pruebas"
   ]
  },
  {
   "cell_type": "code",
   "execution_count": 7,
   "metadata": {},
   "outputs": [
    {
     "data": {
      "application/vnd.plotly.v1+json": {
       "config": {
        "plotlyServerURL": "https://plot.ly"
       },
       "data": [
        {
         "hovertemplate": "lag=%{x}<br>mse_test=%{y}<extra></extra>",
         "legendgroup": "",
         "line": {
          "color": "#636efa",
          "dash": "solid"
         },
         "marker": {
          "symbol": "circle"
         },
         "mode": "lines",
         "name": "",
         "orientation": "v",
         "showlegend": false,
         "type": "scatter",
         "x": [
          1,
          2,
          3,
          4,
          5,
          6,
          7,
          8,
          9,
          10,
          11
         ],
         "xaxis": "x",
         "y": [
          4803.445749029225,
          4536.9713407624695,
          4534.664925587474,
          4536.290928974545,
          4605.183194456705,
          4727.374376403668,
          4651.880501174501,
          4716.845407384966,
          4627.211792891566,
          4542.209591786946,
          4855.915440534761
         ],
         "yaxis": "y"
        }
       ],
       "layout": {
        "legend": {
         "tracegroupgap": 0
        },
        "template": {
         "data": {
          "bar": [
           {
            "error_x": {
             "color": "#2a3f5f"
            },
            "error_y": {
             "color": "#2a3f5f"
            },
            "marker": {
             "line": {
              "color": "#E5ECF6",
              "width": 0.5
             },
             "pattern": {
              "fillmode": "overlay",
              "size": 10,
              "solidity": 0.2
             }
            },
            "type": "bar"
           }
          ],
          "barpolar": [
           {
            "marker": {
             "line": {
              "color": "#E5ECF6",
              "width": 0.5
             },
             "pattern": {
              "fillmode": "overlay",
              "size": 10,
              "solidity": 0.2
             }
            },
            "type": "barpolar"
           }
          ],
          "carpet": [
           {
            "aaxis": {
             "endlinecolor": "#2a3f5f",
             "gridcolor": "white",
             "linecolor": "white",
             "minorgridcolor": "white",
             "startlinecolor": "#2a3f5f"
            },
            "baxis": {
             "endlinecolor": "#2a3f5f",
             "gridcolor": "white",
             "linecolor": "white",
             "minorgridcolor": "white",
             "startlinecolor": "#2a3f5f"
            },
            "type": "carpet"
           }
          ],
          "choropleth": [
           {
            "colorbar": {
             "outlinewidth": 0,
             "ticks": ""
            },
            "type": "choropleth"
           }
          ],
          "contour": [
           {
            "colorbar": {
             "outlinewidth": 0,
             "ticks": ""
            },
            "colorscale": [
             [
              0,
              "#0d0887"
             ],
             [
              0.1111111111111111,
              "#46039f"
             ],
             [
              0.2222222222222222,
              "#7201a8"
             ],
             [
              0.3333333333333333,
              "#9c179e"
             ],
             [
              0.4444444444444444,
              "#bd3786"
             ],
             [
              0.5555555555555556,
              "#d8576b"
             ],
             [
              0.6666666666666666,
              "#ed7953"
             ],
             [
              0.7777777777777778,
              "#fb9f3a"
             ],
             [
              0.8888888888888888,
              "#fdca26"
             ],
             [
              1,
              "#f0f921"
             ]
            ],
            "type": "contour"
           }
          ],
          "contourcarpet": [
           {
            "colorbar": {
             "outlinewidth": 0,
             "ticks": ""
            },
            "type": "contourcarpet"
           }
          ],
          "heatmap": [
           {
            "colorbar": {
             "outlinewidth": 0,
             "ticks": ""
            },
            "colorscale": [
             [
              0,
              "#0d0887"
             ],
             [
              0.1111111111111111,
              "#46039f"
             ],
             [
              0.2222222222222222,
              "#7201a8"
             ],
             [
              0.3333333333333333,
              "#9c179e"
             ],
             [
              0.4444444444444444,
              "#bd3786"
             ],
             [
              0.5555555555555556,
              "#d8576b"
             ],
             [
              0.6666666666666666,
              "#ed7953"
             ],
             [
              0.7777777777777778,
              "#fb9f3a"
             ],
             [
              0.8888888888888888,
              "#fdca26"
             ],
             [
              1,
              "#f0f921"
             ]
            ],
            "type": "heatmap"
           }
          ],
          "heatmapgl": [
           {
            "colorbar": {
             "outlinewidth": 0,
             "ticks": ""
            },
            "colorscale": [
             [
              0,
              "#0d0887"
             ],
             [
              0.1111111111111111,
              "#46039f"
             ],
             [
              0.2222222222222222,
              "#7201a8"
             ],
             [
              0.3333333333333333,
              "#9c179e"
             ],
             [
              0.4444444444444444,
              "#bd3786"
             ],
             [
              0.5555555555555556,
              "#d8576b"
             ],
             [
              0.6666666666666666,
              "#ed7953"
             ],
             [
              0.7777777777777778,
              "#fb9f3a"
             ],
             [
              0.8888888888888888,
              "#fdca26"
             ],
             [
              1,
              "#f0f921"
             ]
            ],
            "type": "heatmapgl"
           }
          ],
          "histogram": [
           {
            "marker": {
             "pattern": {
              "fillmode": "overlay",
              "size": 10,
              "solidity": 0.2
             }
            },
            "type": "histogram"
           }
          ],
          "histogram2d": [
           {
            "colorbar": {
             "outlinewidth": 0,
             "ticks": ""
            },
            "colorscale": [
             [
              0,
              "#0d0887"
             ],
             [
              0.1111111111111111,
              "#46039f"
             ],
             [
              0.2222222222222222,
              "#7201a8"
             ],
             [
              0.3333333333333333,
              "#9c179e"
             ],
             [
              0.4444444444444444,
              "#bd3786"
             ],
             [
              0.5555555555555556,
              "#d8576b"
             ],
             [
              0.6666666666666666,
              "#ed7953"
             ],
             [
              0.7777777777777778,
              "#fb9f3a"
             ],
             [
              0.8888888888888888,
              "#fdca26"
             ],
             [
              1,
              "#f0f921"
             ]
            ],
            "type": "histogram2d"
           }
          ],
          "histogram2dcontour": [
           {
            "colorbar": {
             "outlinewidth": 0,
             "ticks": ""
            },
            "colorscale": [
             [
              0,
              "#0d0887"
             ],
             [
              0.1111111111111111,
              "#46039f"
             ],
             [
              0.2222222222222222,
              "#7201a8"
             ],
             [
              0.3333333333333333,
              "#9c179e"
             ],
             [
              0.4444444444444444,
              "#bd3786"
             ],
             [
              0.5555555555555556,
              "#d8576b"
             ],
             [
              0.6666666666666666,
              "#ed7953"
             ],
             [
              0.7777777777777778,
              "#fb9f3a"
             ],
             [
              0.8888888888888888,
              "#fdca26"
             ],
             [
              1,
              "#f0f921"
             ]
            ],
            "type": "histogram2dcontour"
           }
          ],
          "mesh3d": [
           {
            "colorbar": {
             "outlinewidth": 0,
             "ticks": ""
            },
            "type": "mesh3d"
           }
          ],
          "parcoords": [
           {
            "line": {
             "colorbar": {
              "outlinewidth": 0,
              "ticks": ""
             }
            },
            "type": "parcoords"
           }
          ],
          "pie": [
           {
            "automargin": true,
            "type": "pie"
           }
          ],
          "scatter": [
           {
            "fillpattern": {
             "fillmode": "overlay",
             "size": 10,
             "solidity": 0.2
            },
            "type": "scatter"
           }
          ],
          "scatter3d": [
           {
            "line": {
             "colorbar": {
              "outlinewidth": 0,
              "ticks": ""
             }
            },
            "marker": {
             "colorbar": {
              "outlinewidth": 0,
              "ticks": ""
             }
            },
            "type": "scatter3d"
           }
          ],
          "scattercarpet": [
           {
            "marker": {
             "colorbar": {
              "outlinewidth": 0,
              "ticks": ""
             }
            },
            "type": "scattercarpet"
           }
          ],
          "scattergeo": [
           {
            "marker": {
             "colorbar": {
              "outlinewidth": 0,
              "ticks": ""
             }
            },
            "type": "scattergeo"
           }
          ],
          "scattergl": [
           {
            "marker": {
             "colorbar": {
              "outlinewidth": 0,
              "ticks": ""
             }
            },
            "type": "scattergl"
           }
          ],
          "scattermapbox": [
           {
            "marker": {
             "colorbar": {
              "outlinewidth": 0,
              "ticks": ""
             }
            },
            "type": "scattermapbox"
           }
          ],
          "scatterpolar": [
           {
            "marker": {
             "colorbar": {
              "outlinewidth": 0,
              "ticks": ""
             }
            },
            "type": "scatterpolar"
           }
          ],
          "scatterpolargl": [
           {
            "marker": {
             "colorbar": {
              "outlinewidth": 0,
              "ticks": ""
             }
            },
            "type": "scatterpolargl"
           }
          ],
          "scatterternary": [
           {
            "marker": {
             "colorbar": {
              "outlinewidth": 0,
              "ticks": ""
             }
            },
            "type": "scatterternary"
           }
          ],
          "surface": [
           {
            "colorbar": {
             "outlinewidth": 0,
             "ticks": ""
            },
            "colorscale": [
             [
              0,
              "#0d0887"
             ],
             [
              0.1111111111111111,
              "#46039f"
             ],
             [
              0.2222222222222222,
              "#7201a8"
             ],
             [
              0.3333333333333333,
              "#9c179e"
             ],
             [
              0.4444444444444444,
              "#bd3786"
             ],
             [
              0.5555555555555556,
              "#d8576b"
             ],
             [
              0.6666666666666666,
              "#ed7953"
             ],
             [
              0.7777777777777778,
              "#fb9f3a"
             ],
             [
              0.8888888888888888,
              "#fdca26"
             ],
             [
              1,
              "#f0f921"
             ]
            ],
            "type": "surface"
           }
          ],
          "table": [
           {
            "cells": {
             "fill": {
              "color": "#EBF0F8"
             },
             "line": {
              "color": "white"
             }
            },
            "header": {
             "fill": {
              "color": "#C8D4E3"
             },
             "line": {
              "color": "white"
             }
            },
            "type": "table"
           }
          ]
         },
         "layout": {
          "annotationdefaults": {
           "arrowcolor": "#2a3f5f",
           "arrowhead": 0,
           "arrowwidth": 1
          },
          "autotypenumbers": "strict",
          "coloraxis": {
           "colorbar": {
            "outlinewidth": 0,
            "ticks": ""
           }
          },
          "colorscale": {
           "diverging": [
            [
             0,
             "#8e0152"
            ],
            [
             0.1,
             "#c51b7d"
            ],
            [
             0.2,
             "#de77ae"
            ],
            [
             0.3,
             "#f1b6da"
            ],
            [
             0.4,
             "#fde0ef"
            ],
            [
             0.5,
             "#f7f7f7"
            ],
            [
             0.6,
             "#e6f5d0"
            ],
            [
             0.7,
             "#b8e186"
            ],
            [
             0.8,
             "#7fbc41"
            ],
            [
             0.9,
             "#4d9221"
            ],
            [
             1,
             "#276419"
            ]
           ],
           "sequential": [
            [
             0,
             "#0d0887"
            ],
            [
             0.1111111111111111,
             "#46039f"
            ],
            [
             0.2222222222222222,
             "#7201a8"
            ],
            [
             0.3333333333333333,
             "#9c179e"
            ],
            [
             0.4444444444444444,
             "#bd3786"
            ],
            [
             0.5555555555555556,
             "#d8576b"
            ],
            [
             0.6666666666666666,
             "#ed7953"
            ],
            [
             0.7777777777777778,
             "#fb9f3a"
            ],
            [
             0.8888888888888888,
             "#fdca26"
            ],
            [
             1,
             "#f0f921"
            ]
           ],
           "sequentialminus": [
            [
             0,
             "#0d0887"
            ],
            [
             0.1111111111111111,
             "#46039f"
            ],
            [
             0.2222222222222222,
             "#7201a8"
            ],
            [
             0.3333333333333333,
             "#9c179e"
            ],
            [
             0.4444444444444444,
             "#bd3786"
            ],
            [
             0.5555555555555556,
             "#d8576b"
            ],
            [
             0.6666666666666666,
             "#ed7953"
            ],
            [
             0.7777777777777778,
             "#fb9f3a"
            ],
            [
             0.8888888888888888,
             "#fdca26"
            ],
            [
             1,
             "#f0f921"
            ]
           ]
          },
          "colorway": [
           "#636efa",
           "#EF553B",
           "#00cc96",
           "#ab63fa",
           "#FFA15A",
           "#19d3f3",
           "#FF6692",
           "#B6E880",
           "#FF97FF",
           "#FECB52"
          ],
          "font": {
           "color": "#2a3f5f"
          },
          "geo": {
           "bgcolor": "white",
           "lakecolor": "white",
           "landcolor": "#E5ECF6",
           "showlakes": true,
           "showland": true,
           "subunitcolor": "white"
          },
          "hoverlabel": {
           "align": "left"
          },
          "hovermode": "closest",
          "mapbox": {
           "style": "light"
          },
          "paper_bgcolor": "white",
          "plot_bgcolor": "#E5ECF6",
          "polar": {
           "angularaxis": {
            "gridcolor": "white",
            "linecolor": "white",
            "ticks": ""
           },
           "bgcolor": "#E5ECF6",
           "radialaxis": {
            "gridcolor": "white",
            "linecolor": "white",
            "ticks": ""
           }
          },
          "scene": {
           "xaxis": {
            "backgroundcolor": "#E5ECF6",
            "gridcolor": "white",
            "gridwidth": 2,
            "linecolor": "white",
            "showbackground": true,
            "ticks": "",
            "zerolinecolor": "white"
           },
           "yaxis": {
            "backgroundcolor": "#E5ECF6",
            "gridcolor": "white",
            "gridwidth": 2,
            "linecolor": "white",
            "showbackground": true,
            "ticks": "",
            "zerolinecolor": "white"
           },
           "zaxis": {
            "backgroundcolor": "#E5ECF6",
            "gridcolor": "white",
            "gridwidth": 2,
            "linecolor": "white",
            "showbackground": true,
            "ticks": "",
            "zerolinecolor": "white"
           }
          },
          "shapedefaults": {
           "line": {
            "color": "#2a3f5f"
           }
          },
          "ternary": {
           "aaxis": {
            "gridcolor": "white",
            "linecolor": "white",
            "ticks": ""
           },
           "baxis": {
            "gridcolor": "white",
            "linecolor": "white",
            "ticks": ""
           },
           "bgcolor": "#E5ECF6",
           "caxis": {
            "gridcolor": "white",
            "linecolor": "white",
            "ticks": ""
           }
          },
          "title": {
           "x": 0.05
          },
          "xaxis": {
           "automargin": true,
           "gridcolor": "white",
           "linecolor": "white",
           "ticks": "",
           "title": {
            "standoff": 15
           },
           "zerolinecolor": "white",
           "zerolinewidth": 2
          },
          "yaxis": {
           "automargin": true,
           "gridcolor": "white",
           "linecolor": "white",
           "ticks": "",
           "title": {
            "standoff": 15
           },
           "zerolinecolor": "white",
           "zerolinewidth": 2
          }
         }
        },
        "title": {
         "text": "MSE de la data de test vs Lags"
        },
        "xaxis": {
         "anchor": "y",
         "domain": [
          0,
          1
         ],
         "title": {
          "text": "lag"
         }
        },
        "yaxis": {
         "anchor": "x",
         "domain": [
          0,
          1
         ],
         "title": {
          "text": "mse_test"
         }
        }
       }
      }
     },
     "metadata": {},
     "output_type": "display_data"
    }
   ],
   "source": [
    "fig_mse = px.line(\n",
    "    df_pruebas, x=\"lag\", y=\"mse_test\", title=\"MSE de la data de test vs Lags\"\n",
    ")\n",
    "\n",
    "fig_mse.show()"
   ]
  },
  {
   "cell_type": "code",
   "execution_count": 8,
   "metadata": {},
   "outputs": [
    {
     "data": {
      "application/vnd.plotly.v1+json": {
       "config": {
        "plotlyServerURL": "https://plot.ly"
       },
       "data": [
        {
         "hovertemplate": "lag=%{x}<br>mape_test=%{y}<extra></extra>",
         "legendgroup": "",
         "line": {
          "color": "#636efa",
          "dash": "solid"
         },
         "marker": {
          "symbol": "circle"
         },
         "mode": "lines",
         "name": "",
         "orientation": "v",
         "showlegend": false,
         "type": "scatter",
         "x": [
          1,
          2,
          3,
          4,
          5,
          6,
          7,
          8,
          9,
          10,
          11
         ],
         "xaxis": "x",
         "y": [
          0.09967244325774398,
          0.09886036782820969,
          0.09684692758694802,
          0.0968714041645754,
          0.097784475444519,
          0.09943560997800151,
          0.09834796740935382,
          0.09954904241471177,
          0.09844279765492103,
          0.09798279765966801,
          0.10120472447547187
         ],
         "yaxis": "y"
        }
       ],
       "layout": {
        "legend": {
         "tracegroupgap": 0
        },
        "template": {
         "data": {
          "bar": [
           {
            "error_x": {
             "color": "#2a3f5f"
            },
            "error_y": {
             "color": "#2a3f5f"
            },
            "marker": {
             "line": {
              "color": "#E5ECF6",
              "width": 0.5
             },
             "pattern": {
              "fillmode": "overlay",
              "size": 10,
              "solidity": 0.2
             }
            },
            "type": "bar"
           }
          ],
          "barpolar": [
           {
            "marker": {
             "line": {
              "color": "#E5ECF6",
              "width": 0.5
             },
             "pattern": {
              "fillmode": "overlay",
              "size": 10,
              "solidity": 0.2
             }
            },
            "type": "barpolar"
           }
          ],
          "carpet": [
           {
            "aaxis": {
             "endlinecolor": "#2a3f5f",
             "gridcolor": "white",
             "linecolor": "white",
             "minorgridcolor": "white",
             "startlinecolor": "#2a3f5f"
            },
            "baxis": {
             "endlinecolor": "#2a3f5f",
             "gridcolor": "white",
             "linecolor": "white",
             "minorgridcolor": "white",
             "startlinecolor": "#2a3f5f"
            },
            "type": "carpet"
           }
          ],
          "choropleth": [
           {
            "colorbar": {
             "outlinewidth": 0,
             "ticks": ""
            },
            "type": "choropleth"
           }
          ],
          "contour": [
           {
            "colorbar": {
             "outlinewidth": 0,
             "ticks": ""
            },
            "colorscale": [
             [
              0,
              "#0d0887"
             ],
             [
              0.1111111111111111,
              "#46039f"
             ],
             [
              0.2222222222222222,
              "#7201a8"
             ],
             [
              0.3333333333333333,
              "#9c179e"
             ],
             [
              0.4444444444444444,
              "#bd3786"
             ],
             [
              0.5555555555555556,
              "#d8576b"
             ],
             [
              0.6666666666666666,
              "#ed7953"
             ],
             [
              0.7777777777777778,
              "#fb9f3a"
             ],
             [
              0.8888888888888888,
              "#fdca26"
             ],
             [
              1,
              "#f0f921"
             ]
            ],
            "type": "contour"
           }
          ],
          "contourcarpet": [
           {
            "colorbar": {
             "outlinewidth": 0,
             "ticks": ""
            },
            "type": "contourcarpet"
           }
          ],
          "heatmap": [
           {
            "colorbar": {
             "outlinewidth": 0,
             "ticks": ""
            },
            "colorscale": [
             [
              0,
              "#0d0887"
             ],
             [
              0.1111111111111111,
              "#46039f"
             ],
             [
              0.2222222222222222,
              "#7201a8"
             ],
             [
              0.3333333333333333,
              "#9c179e"
             ],
             [
              0.4444444444444444,
              "#bd3786"
             ],
             [
              0.5555555555555556,
              "#d8576b"
             ],
             [
              0.6666666666666666,
              "#ed7953"
             ],
             [
              0.7777777777777778,
              "#fb9f3a"
             ],
             [
              0.8888888888888888,
              "#fdca26"
             ],
             [
              1,
              "#f0f921"
             ]
            ],
            "type": "heatmap"
           }
          ],
          "heatmapgl": [
           {
            "colorbar": {
             "outlinewidth": 0,
             "ticks": ""
            },
            "colorscale": [
             [
              0,
              "#0d0887"
             ],
             [
              0.1111111111111111,
              "#46039f"
             ],
             [
              0.2222222222222222,
              "#7201a8"
             ],
             [
              0.3333333333333333,
              "#9c179e"
             ],
             [
              0.4444444444444444,
              "#bd3786"
             ],
             [
              0.5555555555555556,
              "#d8576b"
             ],
             [
              0.6666666666666666,
              "#ed7953"
             ],
             [
              0.7777777777777778,
              "#fb9f3a"
             ],
             [
              0.8888888888888888,
              "#fdca26"
             ],
             [
              1,
              "#f0f921"
             ]
            ],
            "type": "heatmapgl"
           }
          ],
          "histogram": [
           {
            "marker": {
             "pattern": {
              "fillmode": "overlay",
              "size": 10,
              "solidity": 0.2
             }
            },
            "type": "histogram"
           }
          ],
          "histogram2d": [
           {
            "colorbar": {
             "outlinewidth": 0,
             "ticks": ""
            },
            "colorscale": [
             [
              0,
              "#0d0887"
             ],
             [
              0.1111111111111111,
              "#46039f"
             ],
             [
              0.2222222222222222,
              "#7201a8"
             ],
             [
              0.3333333333333333,
              "#9c179e"
             ],
             [
              0.4444444444444444,
              "#bd3786"
             ],
             [
              0.5555555555555556,
              "#d8576b"
             ],
             [
              0.6666666666666666,
              "#ed7953"
             ],
             [
              0.7777777777777778,
              "#fb9f3a"
             ],
             [
              0.8888888888888888,
              "#fdca26"
             ],
             [
              1,
              "#f0f921"
             ]
            ],
            "type": "histogram2d"
           }
          ],
          "histogram2dcontour": [
           {
            "colorbar": {
             "outlinewidth": 0,
             "ticks": ""
            },
            "colorscale": [
             [
              0,
              "#0d0887"
             ],
             [
              0.1111111111111111,
              "#46039f"
             ],
             [
              0.2222222222222222,
              "#7201a8"
             ],
             [
              0.3333333333333333,
              "#9c179e"
             ],
             [
              0.4444444444444444,
              "#bd3786"
             ],
             [
              0.5555555555555556,
              "#d8576b"
             ],
             [
              0.6666666666666666,
              "#ed7953"
             ],
             [
              0.7777777777777778,
              "#fb9f3a"
             ],
             [
              0.8888888888888888,
              "#fdca26"
             ],
             [
              1,
              "#f0f921"
             ]
            ],
            "type": "histogram2dcontour"
           }
          ],
          "mesh3d": [
           {
            "colorbar": {
             "outlinewidth": 0,
             "ticks": ""
            },
            "type": "mesh3d"
           }
          ],
          "parcoords": [
           {
            "line": {
             "colorbar": {
              "outlinewidth": 0,
              "ticks": ""
             }
            },
            "type": "parcoords"
           }
          ],
          "pie": [
           {
            "automargin": true,
            "type": "pie"
           }
          ],
          "scatter": [
           {
            "fillpattern": {
             "fillmode": "overlay",
             "size": 10,
             "solidity": 0.2
            },
            "type": "scatter"
           }
          ],
          "scatter3d": [
           {
            "line": {
             "colorbar": {
              "outlinewidth": 0,
              "ticks": ""
             }
            },
            "marker": {
             "colorbar": {
              "outlinewidth": 0,
              "ticks": ""
             }
            },
            "type": "scatter3d"
           }
          ],
          "scattercarpet": [
           {
            "marker": {
             "colorbar": {
              "outlinewidth": 0,
              "ticks": ""
             }
            },
            "type": "scattercarpet"
           }
          ],
          "scattergeo": [
           {
            "marker": {
             "colorbar": {
              "outlinewidth": 0,
              "ticks": ""
             }
            },
            "type": "scattergeo"
           }
          ],
          "scattergl": [
           {
            "marker": {
             "colorbar": {
              "outlinewidth": 0,
              "ticks": ""
             }
            },
            "type": "scattergl"
           }
          ],
          "scattermapbox": [
           {
            "marker": {
             "colorbar": {
              "outlinewidth": 0,
              "ticks": ""
             }
            },
            "type": "scattermapbox"
           }
          ],
          "scatterpolar": [
           {
            "marker": {
             "colorbar": {
              "outlinewidth": 0,
              "ticks": ""
             }
            },
            "type": "scatterpolar"
           }
          ],
          "scatterpolargl": [
           {
            "marker": {
             "colorbar": {
              "outlinewidth": 0,
              "ticks": ""
             }
            },
            "type": "scatterpolargl"
           }
          ],
          "scatterternary": [
           {
            "marker": {
             "colorbar": {
              "outlinewidth": 0,
              "ticks": ""
             }
            },
            "type": "scatterternary"
           }
          ],
          "surface": [
           {
            "colorbar": {
             "outlinewidth": 0,
             "ticks": ""
            },
            "colorscale": [
             [
              0,
              "#0d0887"
             ],
             [
              0.1111111111111111,
              "#46039f"
             ],
             [
              0.2222222222222222,
              "#7201a8"
             ],
             [
              0.3333333333333333,
              "#9c179e"
             ],
             [
              0.4444444444444444,
              "#bd3786"
             ],
             [
              0.5555555555555556,
              "#d8576b"
             ],
             [
              0.6666666666666666,
              "#ed7953"
             ],
             [
              0.7777777777777778,
              "#fb9f3a"
             ],
             [
              0.8888888888888888,
              "#fdca26"
             ],
             [
              1,
              "#f0f921"
             ]
            ],
            "type": "surface"
           }
          ],
          "table": [
           {
            "cells": {
             "fill": {
              "color": "#EBF0F8"
             },
             "line": {
              "color": "white"
             }
            },
            "header": {
             "fill": {
              "color": "#C8D4E3"
             },
             "line": {
              "color": "white"
             }
            },
            "type": "table"
           }
          ]
         },
         "layout": {
          "annotationdefaults": {
           "arrowcolor": "#2a3f5f",
           "arrowhead": 0,
           "arrowwidth": 1
          },
          "autotypenumbers": "strict",
          "coloraxis": {
           "colorbar": {
            "outlinewidth": 0,
            "ticks": ""
           }
          },
          "colorscale": {
           "diverging": [
            [
             0,
             "#8e0152"
            ],
            [
             0.1,
             "#c51b7d"
            ],
            [
             0.2,
             "#de77ae"
            ],
            [
             0.3,
             "#f1b6da"
            ],
            [
             0.4,
             "#fde0ef"
            ],
            [
             0.5,
             "#f7f7f7"
            ],
            [
             0.6,
             "#e6f5d0"
            ],
            [
             0.7,
             "#b8e186"
            ],
            [
             0.8,
             "#7fbc41"
            ],
            [
             0.9,
             "#4d9221"
            ],
            [
             1,
             "#276419"
            ]
           ],
           "sequential": [
            [
             0,
             "#0d0887"
            ],
            [
             0.1111111111111111,
             "#46039f"
            ],
            [
             0.2222222222222222,
             "#7201a8"
            ],
            [
             0.3333333333333333,
             "#9c179e"
            ],
            [
             0.4444444444444444,
             "#bd3786"
            ],
            [
             0.5555555555555556,
             "#d8576b"
            ],
            [
             0.6666666666666666,
             "#ed7953"
            ],
            [
             0.7777777777777778,
             "#fb9f3a"
            ],
            [
             0.8888888888888888,
             "#fdca26"
            ],
            [
             1,
             "#f0f921"
            ]
           ],
           "sequentialminus": [
            [
             0,
             "#0d0887"
            ],
            [
             0.1111111111111111,
             "#46039f"
            ],
            [
             0.2222222222222222,
             "#7201a8"
            ],
            [
             0.3333333333333333,
             "#9c179e"
            ],
            [
             0.4444444444444444,
             "#bd3786"
            ],
            [
             0.5555555555555556,
             "#d8576b"
            ],
            [
             0.6666666666666666,
             "#ed7953"
            ],
            [
             0.7777777777777778,
             "#fb9f3a"
            ],
            [
             0.8888888888888888,
             "#fdca26"
            ],
            [
             1,
             "#f0f921"
            ]
           ]
          },
          "colorway": [
           "#636efa",
           "#EF553B",
           "#00cc96",
           "#ab63fa",
           "#FFA15A",
           "#19d3f3",
           "#FF6692",
           "#B6E880",
           "#FF97FF",
           "#FECB52"
          ],
          "font": {
           "color": "#2a3f5f"
          },
          "geo": {
           "bgcolor": "white",
           "lakecolor": "white",
           "landcolor": "#E5ECF6",
           "showlakes": true,
           "showland": true,
           "subunitcolor": "white"
          },
          "hoverlabel": {
           "align": "left"
          },
          "hovermode": "closest",
          "mapbox": {
           "style": "light"
          },
          "paper_bgcolor": "white",
          "plot_bgcolor": "#E5ECF6",
          "polar": {
           "angularaxis": {
            "gridcolor": "white",
            "linecolor": "white",
            "ticks": ""
           },
           "bgcolor": "#E5ECF6",
           "radialaxis": {
            "gridcolor": "white",
            "linecolor": "white",
            "ticks": ""
           }
          },
          "scene": {
           "xaxis": {
            "backgroundcolor": "#E5ECF6",
            "gridcolor": "white",
            "gridwidth": 2,
            "linecolor": "white",
            "showbackground": true,
            "ticks": "",
            "zerolinecolor": "white"
           },
           "yaxis": {
            "backgroundcolor": "#E5ECF6",
            "gridcolor": "white",
            "gridwidth": 2,
            "linecolor": "white",
            "showbackground": true,
            "ticks": "",
            "zerolinecolor": "white"
           },
           "zaxis": {
            "backgroundcolor": "#E5ECF6",
            "gridcolor": "white",
            "gridwidth": 2,
            "linecolor": "white",
            "showbackground": true,
            "ticks": "",
            "zerolinecolor": "white"
           }
          },
          "shapedefaults": {
           "line": {
            "color": "#2a3f5f"
           }
          },
          "ternary": {
           "aaxis": {
            "gridcolor": "white",
            "linecolor": "white",
            "ticks": ""
           },
           "baxis": {
            "gridcolor": "white",
            "linecolor": "white",
            "ticks": ""
           },
           "bgcolor": "#E5ECF6",
           "caxis": {
            "gridcolor": "white",
            "linecolor": "white",
            "ticks": ""
           }
          },
          "title": {
           "x": 0.05
          },
          "xaxis": {
           "automargin": true,
           "gridcolor": "white",
           "linecolor": "white",
           "ticks": "",
           "title": {
            "standoff": 15
           },
           "zerolinecolor": "white",
           "zerolinewidth": 2
          },
          "yaxis": {
           "automargin": true,
           "gridcolor": "white",
           "linecolor": "white",
           "ticks": "",
           "title": {
            "standoff": 15
           },
           "zerolinecolor": "white",
           "zerolinewidth": 2
          }
         }
        },
        "title": {
         "text": "MAPE de la data de test vs Lags"
        },
        "xaxis": {
         "anchor": "y",
         "domain": [
          0,
          1
         ],
         "title": {
          "text": "lag"
         }
        },
        "yaxis": {
         "anchor": "x",
         "domain": [
          0,
          1
         ],
         "title": {
          "text": "mape_test"
         }
        }
       }
      }
     },
     "metadata": {},
     "output_type": "display_data"
    }
   ],
   "source": [
    "fig_mape = px.line(\n",
    "    df_pruebas, x=\"lag\", y=\"mape_test\", title=\"MAPE de la data de test vs Lags\"\n",
    ")\n",
    "\n",
    "fig_mape.show()"
   ]
  },
  {
   "cell_type": "markdown",
   "metadata": {},
   "source": [
    "Usando como métrica de elección el MAPE, vemos que el mejor modelo es con lag = 3\n"
   ]
  },
  {
   "cell_type": "code",
   "execution_count": 9,
   "metadata": {},
   "outputs": [
    {
     "name": "stdout",
     "output_type": "stream",
     "text": [
      "Best parameters found: {'alpha': 4.281332398719396}\n",
      "Best cross-validation score: 0.9402050642672373\n",
      "Mean Squared Error on Test Data: 4534.664925587474\n",
      "Mean Absolute Percentage Error on Test Data: 0.09684692758694802\n",
      "energy_price_lag_1: 1.0793042203114995\n",
      "energy_price_lag_2: 0.06345804013179508\n",
      "energy_price_lag_3: -0.18126666165684607\n"
     ]
    }
   ],
   "source": [
    "results = perform_lasso_mlr({\"df\": df, \"lags\": 3})\n",
    "y_pred = results[\"y_pred\"]\n",
    "y_pred_1 = y_pred[1:]\n",
    "y_test = results[\"y_test\"]\n",
    "X_test_dates = results[\"X_test_dates\"]\n",
    "X_train_dates = results[\"X_train_dates\"]\n",
    "y_train = results[\"y_train\"]"
   ]
  },
  {
   "cell_type": "code",
   "execution_count": 10,
   "metadata": {},
   "outputs": [
    {
     "data": {
      "application/vnd.plotly.v1+json": {
       "config": {
        "plotlyServerURL": "https://plot.ly"
       },
       "data": [
        {
         "hovertemplate": "x=%{x}<br>y=%{y}<extra></extra>",
         "legendgroup": "",
         "line": {
          "color": "#636efa",
          "dash": "solid"
         },
         "marker": {
          "symbol": "circle"
         },
         "mode": "lines",
         "name": "",
         "orientation": "v",
         "showlegend": false,
         "type": "scatter",
         "x": [
          "2021-10-04",
          "2021-10-05",
          "2021-10-06",
          "2021-10-07",
          "2021-10-08",
          "2021-10-09",
          "2021-10-10",
          "2021-10-11",
          "2021-10-12",
          "2021-10-13",
          "2021-10-14",
          "2021-10-15",
          "2021-10-16",
          "2021-10-17",
          "2021-10-18",
          "2021-10-19",
          "2021-10-20",
          "2021-10-21",
          "2021-10-22",
          "2021-10-23",
          "2021-10-24",
          "2021-10-25",
          "2021-10-26",
          "2021-10-27",
          "2021-10-28",
          "2021-10-29",
          "2021-10-30",
          "2021-10-31",
          "2021-11-01",
          "2021-11-02",
          "2021-11-03",
          "2021-11-04",
          "2021-11-05",
          "2021-11-06",
          "2021-11-07",
          "2021-11-08",
          "2021-11-09",
          "2021-12-04",
          "2021-12-05",
          "2021-12-06",
          "2021-12-07",
          "2021-12-08",
          "2021-12-09",
          "2021-12-10",
          "2021-12-11",
          "2021-12-12",
          "2021-12-13",
          "2021-12-14",
          "2021-12-15",
          "2021-12-16",
          "2021-12-17",
          "2021-12-18",
          "2021-12-19",
          "2021-12-20",
          "2021-12-21",
          "2021-12-22",
          "2021-12-23",
          "2021-12-24",
          "2021-12-25",
          "2021-12-26",
          "2021-12-27",
          "2021-12-28",
          "2021-12-29",
          "2021-12-30",
          "2021-12-31",
          "2022-02-01",
          "2022-02-02",
          "2022-02-03",
          "2022-02-04",
          "2022-02-05",
          "2022-02-06",
          "2022-02-07",
          "2022-02-08",
          "2022-02-09",
          "2022-02-10",
          "2022-02-11",
          "2022-02-12",
          "2022-02-13",
          "2022-02-14",
          "2022-02-15",
          "2022-02-16",
          "2022-02-17",
          "2022-02-18",
          "2022-02-19",
          "2022-02-20",
          "2022-02-21",
          "2022-02-22",
          "2022-02-23",
          "2022-02-24",
          "2022-02-25",
          "2022-02-26",
          "2022-02-27",
          "2022-02-28",
          "2022-04-01",
          "2022-04-02",
          "2022-04-03",
          "2022-04-04",
          "2022-04-05",
          "2022-04-06",
          "2022-04-07",
          "2022-04-08",
          "2022-04-09",
          "2022-04-10",
          "2022-04-11",
          "2022-04-12",
          "2022-04-13",
          "2022-04-14",
          "2022-04-15",
          "2022-04-16",
          "2022-04-17",
          "2022-04-18",
          "2022-04-19",
          "2022-04-20",
          "2022-04-21",
          "2022-04-22",
          "2022-04-23",
          "2022-04-24",
          "2022-04-25",
          "2022-04-26",
          "2022-04-27",
          "2022-04-28",
          "2022-04-29",
          "2022-04-30",
          "2022-05-01",
          "2022-05-02",
          "2022-05-03",
          "2022-05-04",
          "2022-05-05",
          "2022-05-06",
          "2022-05-07",
          "2022-05-08",
          "2022-05-09",
          "2022-05-10",
          "2022-05-11",
          "2022-05-12",
          "2022-05-13",
          "2022-05-14",
          "2022-05-15",
          "2022-05-16",
          "2022-05-17",
          "2022-05-18",
          "2022-05-19",
          "2022-05-20",
          "2022-05-21",
          "2022-05-22",
          "2022-05-23",
          "2022-05-24",
          "2022-05-25",
          "2022-05-26",
          "2022-05-27",
          "2022-05-28",
          "2022-05-29",
          "2022-05-30",
          "2022-05-31",
          "2022-06-01",
          "2022-06-02",
          "2022-06-03",
          "2022-06-04",
          "2022-06-05",
          "2022-06-06",
          "2022-06-07",
          "2022-06-08",
          "2022-06-09",
          "2022-06-10",
          "2022-06-11",
          "2022-06-12",
          "2022-06-13",
          "2022-06-14",
          "2022-06-15",
          "2022-06-16",
          "2022-06-17",
          "2022-06-18",
          "2022-06-19",
          "2022-06-20",
          "2022-06-21",
          "2022-06-22",
          "2022-06-23",
          "2022-06-24",
          "2022-06-25",
          "2022-06-26",
          "2022-06-27",
          "2022-06-28",
          "2022-06-29",
          "2022-06-30",
          "2022-07-01",
          "2022-07-02",
          "2022-07-03",
          "2022-07-04",
          "2022-07-05",
          "2022-07-06",
          "2022-07-07",
          "2022-07-08",
          "2022-07-09",
          "2022-07-10",
          "2022-07-11",
          "2022-07-12",
          "2022-07-13",
          "2022-07-14",
          "2022-07-15",
          "2022-07-16",
          "2022-07-17",
          "2022-07-18",
          "2022-07-19",
          "2022-07-20",
          "2022-07-21",
          "2022-07-22",
          "2022-07-23",
          "2022-07-24",
          "2022-07-25",
          "2022-07-26",
          "2022-07-27",
          "2022-07-28",
          "2022-07-29",
          "2022-07-30",
          "2022-07-31",
          "2022-08-01",
          "2022-08-02",
          "2022-08-03",
          "2022-08-04",
          "2022-08-05",
          "2022-08-06",
          "2022-08-07",
          "2022-08-08",
          "2022-08-09",
          "2022-08-10",
          "2022-08-11",
          "2022-08-12",
          "2022-08-13",
          "2022-08-14",
          "2022-08-15",
          "2022-08-16",
          "2022-08-17",
          "2022-08-18",
          "2022-08-19",
          "2022-08-20",
          "2022-08-21",
          "2022-08-22",
          "2022-08-23",
          "2022-08-24",
          "2022-08-25",
          "2022-08-26",
          "2022-08-27",
          "2022-08-28",
          "2022-08-29",
          "2022-08-30",
          "2022-08-31",
          "2022-09-01",
          "2022-09-02",
          "2022-09-03",
          "2022-09-04",
          "2022-09-05",
          "2022-09-06",
          "2022-09-07",
          "2022-09-08",
          "2022-09-09",
          "2022-09-10",
          "2022-09-11",
          "2022-09-12",
          "2022-09-13",
          "2022-09-14",
          "2022-09-15",
          "2022-09-16",
          "2022-09-17",
          "2022-09-18",
          "2022-09-19",
          "2022-09-20",
          "2022-09-21",
          "2022-09-22",
          "2022-09-23",
          "2022-09-24",
          "2022-09-25",
          "2022-09-26",
          "2022-09-27",
          "2022-09-28",
          "2022-09-29",
          "2022-09-30",
          "2022-10-01",
          "2022-10-02",
          "2022-10-03",
          "2022-10-04",
          "2022-10-05",
          "2022-10-06",
          "2022-10-07",
          "2022-10-08",
          "2022-10-09",
          "2022-10-10",
          "2022-10-11",
          "2022-10-12",
          "2022-10-13",
          "2022-10-14",
          "2022-10-15",
          "2022-10-16",
          "2022-10-17",
          "2022-10-18",
          "2022-10-19",
          "2022-10-20",
          "2022-10-21",
          "2022-10-22",
          "2022-10-23",
          "2022-10-24",
          "2022-10-25",
          "2022-10-26",
          "2022-10-27",
          "2022-10-28",
          "2022-10-29",
          "2022-10-30",
          "2022-10-31",
          "2022-11-01",
          "2022-11-02",
          "2022-11-03",
          "2022-11-04",
          "2022-11-05",
          "2022-11-06",
          "2022-11-07",
          "2022-11-08",
          "2022-11-09",
          "2022-11-10",
          "2022-11-11",
          "2022-11-12",
          "2022-11-13",
          "2022-11-14",
          "2022-11-15",
          "2022-11-16",
          "2022-11-17",
          "2022-11-18",
          "2022-11-19",
          "2022-11-20",
          "2022-11-21",
          "2022-11-22",
          "2022-11-23",
          "2022-11-24",
          "2022-11-25",
          "2022-11-26",
          "2022-11-27",
          "2022-11-28",
          "2022-11-29",
          "2022-11-30",
          "2022-12-01",
          "2022-12-02",
          "2022-12-03",
          "2022-12-04",
          "2022-12-05",
          "2022-12-06",
          "2022-12-07",
          "2022-12-08",
          "2022-12-09",
          "2022-12-10",
          "2022-12-11",
          "2022-12-12",
          "2022-12-13",
          "2022-12-14",
          "2022-12-15",
          "2022-12-16",
          "2022-12-17",
          "2022-12-18",
          "2022-12-19",
          "2022-12-20",
          "2022-12-21",
          "2022-12-22",
          "2022-12-23",
          "2022-12-24",
          "2022-12-25",
          "2022-12-26",
          "2022-12-27",
          "2022-12-28",
          "2022-12-29",
          "2022-12-30",
          "2022-12-31",
          "2023-01-01",
          "2023-01-02",
          "2023-01-03",
          "2023-01-04",
          "2023-01-05",
          "2023-01-06",
          "2023-01-07",
          "2023-01-08",
          "2023-01-09",
          "2023-01-10",
          "2023-01-11",
          "2023-01-12",
          "2023-01-13",
          "2023-01-14",
          "2023-01-15",
          "2023-01-16",
          "2023-01-17",
          "2023-01-18",
          "2023-01-19",
          "2023-01-20",
          "2023-01-21",
          "2023-01-22",
          "2023-01-23",
          "2023-01-24",
          "2023-01-25",
          "2023-01-26",
          "2023-01-27",
          "2023-01-28",
          "2023-01-29",
          "2023-01-30",
          "2023-01-31",
          "2023-02-01",
          "2023-02-02",
          "2023-02-03",
          "2023-02-04",
          "2023-02-05",
          "2023-02-06",
          "2023-02-07",
          "2023-02-08",
          "2023-02-09",
          "2023-02-10",
          "2023-02-11",
          "2023-02-12",
          "2023-02-13",
          "2023-02-14",
          "2023-02-15",
          "2023-02-16",
          "2023-02-17",
          "2023-02-18",
          "2023-02-19",
          "2023-02-20",
          "2023-02-21",
          "2023-02-22",
          "2023-02-23",
          "2023-02-24",
          "2023-02-25",
          "2023-02-26",
          "2023-02-27",
          "2023-02-28",
          "2023-03-01",
          "2023-03-02",
          "2023-03-03",
          "2023-03-04",
          "2023-03-05",
          "2023-03-06",
          "2023-03-07",
          "2023-03-08",
          "2023-03-09",
          "2023-03-10",
          "2023-03-11",
          "2023-03-12",
          "2023-03-13",
          "2023-03-14",
          "2023-03-15",
          "2023-03-16",
          "2023-03-17",
          "2023-03-18",
          "2023-03-19",
          "2023-03-20",
          "2023-03-21",
          "2023-03-22",
          "2023-03-23",
          "2023-03-24",
          "2023-03-25",
          "2023-03-26",
          "2023-03-27",
          "2023-03-28",
          "2023-03-29",
          "2023-03-30",
          "2023-03-31",
          "2023-04-01",
          "2023-04-02",
          "2023-04-03",
          "2023-04-04",
          "2023-04-05",
          "2023-04-06",
          "2023-04-07",
          "2023-04-08",
          "2023-04-09",
          "2023-04-10",
          "2023-04-11",
          "2023-04-12",
          "2023-04-13",
          "2023-04-14",
          "2023-04-15",
          "2023-04-16",
          "2023-04-17",
          "2023-04-18",
          "2023-04-19",
          "2023-04-20",
          "2023-04-21",
          "2023-04-22",
          "2023-04-23",
          "2023-04-24",
          "2023-04-25",
          "2023-04-26",
          "2023-04-27",
          "2023-04-28",
          "2023-04-29",
          "2023-04-30",
          "2023-05-01",
          "2023-05-02",
          "2023-05-03",
          "2023-05-04",
          "2023-05-05",
          "2023-05-06",
          "2023-05-07",
          "2023-05-08",
          "2023-05-09",
          "2023-05-10",
          "2023-05-11",
          "2023-05-12",
          "2023-05-13",
          "2023-05-14",
          "2023-05-15",
          "2023-05-16",
          "2023-05-17",
          "2023-05-18",
          "2023-05-19",
          "2023-05-20",
          "2023-05-21",
          "2023-05-22",
          "2023-05-23",
          "2023-05-24",
          "2023-05-25",
          "2023-05-26",
          "2023-05-27",
          "2023-05-28",
          "2023-05-29",
          "2023-05-30",
          "2023-05-31",
          "2023-06-01",
          "2023-06-02",
          "2023-06-03",
          "2023-06-04",
          "2023-06-05",
          "2023-06-06",
          "2023-06-07",
          "2023-06-08",
          "2023-06-09",
          "2023-06-10",
          "2023-06-11",
          "2023-06-12",
          "2023-06-13",
          "2023-06-14",
          "2023-06-15",
          "2023-06-16",
          "2023-06-17",
          "2023-06-18",
          "2023-06-19",
          "2023-06-20",
          "2023-06-21",
          "2023-06-22",
          "2023-06-23",
          "2023-06-24",
          "2023-06-25",
          "2023-06-26",
          "2023-06-27",
          "2023-06-28",
          "2023-06-29",
          "2023-06-30"
         ],
         "xaxis": "x",
         "y": [
          286.5261161793333,
          278.1573253050167,
          261.47478813811665,
          235.8578475715167,
          229.31369943006663,
          219.45373283245,
          221.3451706969,
          225.09564642043333,
          223.12400189323333,
          208.5310715933,
          205.49424441326667,
          191.49858928411663,
          220.47191454488333,
          217.18447309706664,
          224.3223786053,
          240.05390966315,
          230.8898302425833,
          233.90920963756665,
          219.95736327173333,
          227.0308241033167,
          225.43219828715,
          227.4629556154333,
          214.0555688441167,
          200.8129511227,
          178.55722956681666,
          164.81647099756665,
          156.69595607803333,
          144.55619944011667,
          196.1848923010667,
          179.53787584173335,
          191.5018679344333,
          204.6111244799,
          200.5725120208,
          256.2079004091333,
          260.8138438411333,
          276.6830923548334,
          266.5984259776667,
          136.6151858857818,
          117.24140896644543,
          121.51404160410002,
          121.6087580619182,
          108.22972705617272,
          87.89678992392727,
          89.27961680499091,
          108.53990185171818,
          118.21287444517272,
          111.14315469432728,
          122.19192887397271,
          110.90622682725456,
          133.1954516644909,
          101.0222214665909,
          87.27784124622727,
          120.52724612992728,
          92.87421484555456,
          146.43394283750908,
          93.1630433407909,
          96.7735746118182,
          89.94239193313636,
          143.18719735811817,
          116.92075688436364,
          157.13289017218182,
          152.07792464679093,
          87.84928888169091,
          87.2552652234,
          87.56022412385454,
          574.83258567045,
          629.7531057923417,
          679.9537093796583,
          634.9486685760917,
          676.1453291944416,
          643.9751053751584,
          620.814194177125,
          556.7702112882668,
          481.7579258179833,
          422.86486397302497,
          364.557442976475,
          326.4741861571584,
          301.00230614165,
          347.09892871436665,
          343.44634212346665,
          339.2693636982833,
          316.8355334437084,
          318.4731121828583,
          303.47578139025,
          251.4285172684833,
          264.8336916230333,
          276.18328724943336,
          251.73531832876665,
          254.4742618483,
          242.8627564248833,
          251.3768528994167,
          239.15948298125,
          260.9013410045083,
          281.5059189245,
          236.7869147359333,
          148.96921426266667,
          175.25489261403334,
          198.21258047786668,
          191.269641414,
          262.9679488746333,
          155.8071632446,
          137.5929980581,
          124.94512254126666,
          138.55301482326666,
          129.71389086443335,
          132.89685578906668,
          121.88155799143333,
          106.9985935555,
          119.3985517558,
          109.60444239173334,
          138.77986288393336,
          186.71705213186667,
          145.06817902276666,
          134.4925834134667,
          114.9664079618,
          113.20638320070002,
          103.0190299081,
          101.22364771776668,
          106.0412902624,
          102.30829282893336,
          99.71598971303332,
          98.04276491406668,
          97.2173048629,
          96.83827014536666,
          98.6379675325,
          107.2514839083,
          133.7742698964,
          105.65651377003331,
          113.27988722723336,
          113.8085308241,
          109.56083914033331,
          102.96900438663332,
          107.4390905947,
          101.1283887161,
          100.3626710419,
          101.05507902326669,
          99.74965688743332,
          97.12685273583334,
          99.40693027983332,
          112.80171103206663,
          142.54899225213333,
          122.09234755316668,
          114.01577582223332,
          107.99845906976668,
          94.75545614193334,
          95.95410778386666,
          106.06156648843334,
          99.43857048456664,
          99.34446187036669,
          96.4486104796,
          95.86535293636666,
          96.55537735836668,
          96.52268669623334,
          95.4407350809,
          116.1275333405,
          104.4060742114,
          108.0229956427,
          103.76284299763334,
          101.2739031386,
          100.48935112566666,
          101.40952613713334,
          121.1464483358,
          107.04807132056663,
          107.43016573476666,
          105.99686014256667,
          103.56202369573332,
          101.47641312326664,
          101.89960776553336,
          102.13507965583334,
          102.21124502283334,
          101.50237157996668,
          100.51498157946666,
          100.08371477456666,
          97.7506625949,
          100.3569359424,
          105.6404049115,
          105.6461192301,
          102.3262533412,
          101.8994299161,
          103.3703179925,
          103.3026652704,
          102.222442387,
          104.28034345133334,
          103.67066312459998,
          103.41403763763331,
          104.30740167706666,
          101.36174571706668,
          104.56054160253336,
          104.50061156463332,
          105.48758301280002,
          108.24356443263332,
          105.90673284506666,
          109.7795287026,
          106.86524920756666,
          105.30795695463333,
          116.69532424916667,
          115.43205907413332,
          112.10918490053332,
          111.33500351683334,
          109.92047648036667,
          106.8036185547,
          120.46574198646664,
          118.69847274987085,
          106.74612964343332,
          107.12883518253334,
          103.49754494713332,
          103.7533367619,
          110.8507938536,
          107.63556779026668,
          130.636103706,
          106.4125778344,
          104.6208226925,
          109.89856387833332,
          106.2849330042,
          118.86402266526666,
          111.59073378603334,
          106.7048689376,
          112.1731836856,
          112.15362635406666,
          110.53839589653334,
          109.74198797543332,
          105.67941845366666,
          106.33572189046669,
          108.32807527056669,
          107.4484264971,
          107.8097583792,
          109.44817734046669,
          107.64706501696666,
          109.50142468013333,
          107.62571206213332,
          120.4719799521,
          147.56621963536668,
          119.15620876793332,
          125.89817941953334,
          108.6342623397,
          107.70839305636667,
          134.44052801216665,
          127.7737671822,
          167.67082691546668,
          202.77125651136663,
          236.2440918179,
          253.56647582180003,
          266.64281586826667,
          287.2065065897333,
          303.3401654812667,
          334.38045994973334,
          321.8879914711667,
          335.2388359877333,
          287.4074633302667,
          202.1438682634333,
          200.7256060527,
          210.3076924658667,
          201.5815019135,
          191.34755633673333,
          208.70656760263333,
          211.3363892950333,
          137.3675665684,
          209.80917733650003,
          271.8992538987333,
          332.5957400667333,
          434.0241668406,
          411.3418113613666,
          337.5237664415333,
          224.91087308343333,
          277.2270228648667,
          272.4116762438333,
          248.00393778426667,
          224.00260369696664,
          226.6025098270333,
          199.5820167503333,
          182.94380346596665,
          241.63649198756664,
          232.83510477666664,
          217.99648210433327,
          226.1721893805,
          239.35278300783327,
          151.60885155484445,
          152.49832810744445,
          156.38026261383334,
          169.8222878902889,
          176.7718551801778,
          177.1811389441222,
          172.6624002974,
          169.63443993466666,
          143.7311005684,
          177.15813917670002,
          195.73022481595555,
          185.574100134,
          177.50878236513333,
          178.56915131524443,
          169.0318371276,
          184.7431704089556,
          167.52188848586667,
          177.09594684367778,
          239.9145777426,
          210.1743305757111,
          219.63003686292225,
          175.20620168814446,
          133.85079334356666,
          147.8419875748889,
          158.64012517214445,
          177.9900003762222,
          166.35782411813335,
          169.70481861215555,
          120.35219211326664,
          101.11268580731112,
          121.37945495417776,
          200.736745175,
          224.36854415936668,
          223.58489587013327,
          180.38691703296664,
          173.37009246173332,
          114.2126595499,
          161.54418318086667,
          181.375653051,
          187.5463017727333,
          185.5893434249,
          165.87799864439998,
          167.9971178559,
          167.74615571763334,
          136.1720299063,
          160.05898493060002,
          165.7053903319,
          164.309055247,
          113.8978657953,
          121.39357856603334,
          111.50842822936666,
          121.96276779793334,
          164.3267622455,
          173.01798024863334,
          184.584252135,
          219.5569739768,
          248.80812348596663,
          251.23229482346665,
          274.012303675,
          286.1381870071,
          311.2777561574666,
          325.65837087483334,
          335.3460165459333,
          337.02038819176664,
          256.9089107462,
          299.0853359828333,
          246.8713280410333,
          253.4154844247333,
          242.2272007749,
          212.5537550452333,
          236.70622378776667,
          244.2799634802333,
          244.0393092397333,
          258.01204906566664,
          270.56638503663333,
          285.31787186746664,
          283.271270214,
          273.05082591086665,
          287.3321921675667,
          322.7368456294,
          326.2849457738,
          357.1352101584,
          400.58238712803336,
          419.113694959,
          420.61965224836666,
          429.7334954217333,
          444.5355751137667,
          467.5575736797,
          509.2616914702666,
          507.7130395607667,
          450.7930971015,
          523.0726980822,
          499.7962119735334,
          510.8509979227,
          531.0305672357,
          556.6253745001333,
          560.9106826756333,
          526.6652148232333,
          503.1934809124,
          415.8064971809,
          432.61928971466665,
          381.8508350045667,
          436.0338762112333,
          309.3528225253,
          256.55275899496667,
          250.0275534853,
          212.65986900166664,
          204.8056496120333,
          216.1465712030333,
          250.5803743439,
          235.7702636137,
          243.2981734820333,
          202.968121683,
          194.94165071756663,
          243.9196906469667,
          250.93103278116664,
          277.9080973694,
          348.9216554459333,
          375.9744406195,
          396.3932978743333,
          452.8826199384334,
          568.7788272762333,
          675.0510164512666,
          768.6838144923667,
          721.5205503904334,
          794.9294052108667,
          799.9009328050333,
          741.8818057063332,
          569.4053375572,
          682.3372145263667,
          621.2968903492666,
          561.624488399,
          556.9092336778667,
          604.8585322595667,
          573.2946676894334,
          572.7660878618666,
          562.8534410486667,
          547.7789099221001,
          515.8515977783667,
          496.16126738863335,
          429.38230709373335,
          418.8577930926001,
          410.9205700374,
          423.7087455614333,
          351.6163010174667,
          372.57516342446667,
          361.4122095290333,
          297.97839228056665,
          315.511962764,
          319.4327370885333,
          366.6270357873,
          374.0731976343666,
          372.13955998246666,
          435.5328814148666,
          450.0135043289333,
          463.7545105165,
          501.8976104556,
          487.8137558528,
          470.94714484176666,
          431.3983143267,
          313.6173168691667,
          312.0133821560333,
          287.9145897603,
          234.20115136966663,
          185.5636310353,
          164.92299893443334,
          168.05130423886666,
          219.3029585301,
          203.53429561523333,
          163.73357652546667,
          234.4922552514,
          291.23608951746667,
          341.55839888603333,
          321.62533798656665,
          329.27193836323335,
          236.03052647476667,
          186.2669153527333,
          180.38245627016667,
          188.87672340606665,
          153.32040885503335,
          168.90205633026667,
          163.32335787553333,
          149.59529507336666,
          153.88823286206664,
          147.18555320043333,
          150.28855113836667,
          144.2343309941,
          139.88260143969998,
          133.9439032891,
          141.84049052946668,
          133.08015810536668,
          143.43973677953332,
          145.75005667423332,
          263.44543922816666,
          242.1994135678,
          242.84623382786663,
          214.800520733,
          212.02258143863327,
          294.0202761736667,
          290.9840322788,
          262.3251726828,
          303.79650600099995,
          319.6270939814333,
          334.2317397834,
          341.2148204153,
          343.05637368949994,
          333.4545873304,
          323.327413014,
          249.317842336,
          254.6826009834,
          186.79008909516668,
          210.5781809513333,
          189.01870382113336,
          240.7723909257,
          255.105191346,
          257.89916929463334,
          321.68339539606666,
          321.9544497141,
          354.5173310422333,
          404.3975417612,
          514.3697640661667,
          582.1855448730333,
          629.9293873606,
          639.0584256112,
          692.2176118567,
          682.7860478941999,
          727.0558307901,
          776.6545298109668,
          811.1855775365999,
          820.3688887720333,
          834.1325286478333,
          836.8465536497333,
          781.1399254179,
          789.4337239329667,
          801.7243562416,
          741.2614393731333,
          765.2225726731334,
          669.8191737313,
          650.3343199944667,
          450.5935416651666,
          374.3725136908333,
          385.6183086151,
          360.3704527560666,
          308.91654787276667,
          253.708678186,
          246.6326825770333,
          206.9850470411333,
          266.10522138560003,
          302.2922313390667,
          346.08643039783334,
          329.4370321681333,
          310.7298592868,
          292.0219092928,
          281.5663019065667,
          295.7395729818666,
          327.5229819927,
          352.6390978964,
          363.4437399086334,
          409.9441384222,
          440.87588160436667,
          499.2802866515333,
          568.8711079990334,
          602.020597139,
          739.7786245499334,
          749.1596229890333,
          846.8458569028667,
          888.3327651133667,
          715.754742528,
          685.7912672841334,
          598.3499218381334,
          612.2174932613667,
          472.8369474031333,
          516.2033960732334
         ],
         "yaxis": "y"
        },
        {
         "mode": "lines",
         "name": "Valores reales",
         "type": "scatter",
         "x": [
          "2023-07-01",
          "2023-07-02",
          "2023-07-03",
          "2023-07-04",
          "2023-07-05",
          "2023-07-06",
          "2023-07-07",
          "2023-07-08",
          "2023-07-09",
          "2023-07-10",
          "2023-07-11",
          "2023-07-12",
          "2023-07-13",
          "2023-07-14",
          "2023-07-15",
          "2023-07-16",
          "2023-07-17",
          "2023-07-18",
          "2023-07-19",
          "2023-07-20",
          "2023-07-21",
          "2023-07-22",
          "2023-07-23",
          "2023-07-24",
          "2023-07-25",
          "2023-07-26",
          "2023-07-27",
          "2023-07-28",
          "2023-07-29",
          "2023-07-30",
          "2023-07-31",
          "2023-08-01",
          "2023-08-02",
          "2023-08-03",
          "2023-08-04",
          "2023-08-05",
          "2023-08-06",
          "2023-08-07",
          "2023-08-08",
          "2023-08-09",
          "2023-08-10",
          "2023-08-11",
          "2023-08-12",
          "2023-08-13",
          "2023-08-14",
          "2023-08-15",
          "2023-08-16",
          "2023-08-17",
          "2023-08-18",
          "2023-08-19",
          "2023-08-20",
          "2023-08-21",
          "2023-08-22",
          "2023-08-23",
          "2023-08-24",
          "2023-08-25",
          "2023-08-26",
          "2023-08-27",
          "2023-08-28",
          "2023-08-29",
          "2023-08-30",
          "2023-08-31",
          "2023-09-01",
          "2023-09-02",
          "2023-09-03",
          "2023-09-04",
          "2023-09-05",
          "2023-09-06",
          "2023-09-07",
          "2023-09-08",
          "2023-09-09",
          "2023-09-10",
          "2023-09-11",
          "2023-09-12",
          "2023-09-13",
          "2023-09-14",
          "2023-09-15",
          "2023-09-16",
          "2023-09-17",
          "2023-09-18",
          "2023-09-19",
          "2023-09-20",
          "2023-09-21",
          "2023-09-22",
          "2023-09-23",
          "2023-09-24",
          "2023-09-25",
          "2023-09-26",
          "2023-09-27",
          "2023-09-28",
          "2023-09-29",
          "2023-09-30"
         ],
         "y": [
          544.7705213565667,
          550.9924406845666,
          483.6502214998334,
          553.0780864147,
          604.0613552063,
          612.6520655029666,
          561.720197503,
          511.34744451383335,
          443.2304976700333,
          464.0946349298667,
          520.6698138396333,
          558.0087941169,
          623.2256895074667,
          667.2388902573667,
          627.5580529219334,
          655.8061852985,
          607.7387937565333,
          562.4534141153,
          452.60713804463336,
          355.5250355956,
          448.7364667266666,
          343.9170169912,
          368.67011887483335,
          505.73658042333335,
          501.0301570304,
          508.31399602706665,
          543.2798406008666,
          485.3597814536333,
          502.2773802097,
          503.4671490768667,
          493.9659789703334,
          547.1345043071,
          552.4892412716,
          502.80451949393336,
          534.6192562463666,
          464.1196171028666,
          492.90175899686665,
          407.4434403267667,
          520.8159737078333,
          615.0041053912,
          672.7727046824,
          743.8591253586001,
          765.2201509364668,
          662.3748478974667,
          648.2864592554333,
          743.5988251514667,
          684.1074411735334,
          695.5571388220666,
          718.1244276738333,
          688.8797853554333,
          429.54986892410005,
          427.4197187691333,
          333.6424985433667,
          240.48830502266665,
          199.1347986239333,
          201.7994960485,
          244.67607934786668,
          182.24162300086667,
          362.57467050660006,
          557.3878632841,
          752.3462168504999,
          804.1298802825668,
          840.0535151349333,
          897.7582867515666,
          940.0739380390668,
          965.3959244287,
          980.1408900017,
          938.9837728269,
          1002.4018762710666,
          1020.1230077620334,
          1042.4125910953665,
          1040.2309244287,
          1056.0735910953665,
          1055.8125910953663,
          1057.225091095367,
          1058.2146744287,
          1059.5459244287,
          1053.5576515038,
          980.9484479552332,
          1040.0333886235,
          1046.8870506150668,
          1040.3662577620337,
          1060.2107160953667,
          1059.9921744287,
          1061.2059358995332,
          999.485316434,
          1040.8716778893331,
          1061.5271744287,
          1041.1605757635332,
          1042.7696452357,
          1030.8072240289,
          1012.2209689485334
         ]
        },
        {
         "mode": "lines",
         "name": "Valores predichos",
         "type": "scatter",
         "x": [
          "2023-07-01",
          "2023-07-02",
          "2023-07-03",
          "2023-07-04",
          "2023-07-05",
          "2023-07-06",
          "2023-07-07",
          "2023-07-08",
          "2023-07-09",
          "2023-07-10",
          "2023-07-11",
          "2023-07-12",
          "2023-07-13",
          "2023-07-14",
          "2023-07-15",
          "2023-07-16",
          "2023-07-17",
          "2023-07-18",
          "2023-07-19",
          "2023-07-20",
          "2023-07-21",
          "2023-07-22",
          "2023-07-23",
          "2023-07-24",
          "2023-07-25",
          "2023-07-26",
          "2023-07-27",
          "2023-07-28",
          "2023-07-29",
          "2023-07-30",
          "2023-07-31",
          "2023-08-01",
          "2023-08-02",
          "2023-08-03",
          "2023-08-04",
          "2023-08-05",
          "2023-08-06",
          "2023-08-07",
          "2023-08-08",
          "2023-08-09",
          "2023-08-10",
          "2023-08-11",
          "2023-08-12",
          "2023-08-13",
          "2023-08-14",
          "2023-08-15",
          "2023-08-16",
          "2023-08-17",
          "2023-08-18",
          "2023-08-19",
          "2023-08-20",
          "2023-08-21",
          "2023-08-22",
          "2023-08-23",
          "2023-08-24",
          "2023-08-25",
          "2023-08-26",
          "2023-08-27",
          "2023-08-28",
          "2023-08-29",
          "2023-08-30",
          "2023-08-31",
          "2023-09-01",
          "2023-09-02",
          "2023-09-03",
          "2023-09-04",
          "2023-09-05",
          "2023-09-06",
          "2023-09-07",
          "2023-09-08",
          "2023-09-09",
          "2023-09-10",
          "2023-09-11",
          "2023-09-12",
          "2023-09-13",
          "2023-09-14",
          "2023-09-15",
          "2023-09-16",
          "2023-09-17",
          "2023-09-18",
          "2023-09-19",
          "2023-09-20",
          "2023-09-21",
          "2023-09-22",
          "2023-09-23",
          "2023-09-24",
          "2023-09-25",
          "2023-09-26",
          "2023-09-27",
          "2023-09-28",
          "2023-09-29",
          "2023-09-30"
         ],
         "y": [
          486.47607079524664,
          545.3256857634271,
          545.9929519569129,
          468.5267739588585,
          538.059329775417,
          609.6984424456791,
          609.620773342292,
          545.9533759661392,
          486.79660517595596,
          419.313390476274,
          446.64047470031267,
          521.3736328786841,
          561.4819293383453,
          623.9850644643002,
          668.8589218435192,
          617.0025691903361,
          636.9947035434203,
          594.100749026353,
          537.0533405457197,
          424.33508535785506,
          320.7920626621086,
          435.1463814686198,
          345.527070353423,
          348.69543588493764,
          517.2029013603712,
          516.3342956033753,
          499.05153345798817,
          538.105652877391,
          476.4908353883251,
          484.73643576757854,
          497.5930917524888,
          484.347342509368,
          540.9137652284651,
          551.7893712345219,
          488.86656135505916,
          519.0808106379499,
          454.0153370735379,
          474.8393042366863,
          397.20947278626545,
          508.93266633963503,
          633.2754572780229,
          681.0516838852355,
          744.3682716221363,
          761.4628004724976,
          638.9313615165573,
          613.3273010341403,
          733.9467430107308,
          678.3395323285279,
          669.6450783093229,
          705.5124283519264,
          673.3051899280683,
          387.46281187201544,
          374.0082422599928,
          319.66678576647803,
          213.56027816275613,
          180.01456528082662,
          197.15212166720644,
          251.0941075035611,
          185.94617841263857,
          368.84633429280814,
          601.8699026700102,
          791.963370356915,
          824.9122347654913,
          831.6314053497267,
          886.8054005511195,
          929.6269359197244,
          949.1823796817134,
          959.0331500368097,
          910.9577544518977,
          974.1206604642877,
          1004.731954258321,
          1018.4181559923742,
          1014.2656768792665,
          1027.1859312221447,
          1028.3050408312859,
          1026.9412481955935,
          1028.1462547439883,
          1029.389836346568,
          1022.8317681550071,
          943.8430330246633,
          1004.0914953342425,
          1028.3997241152517,
          1011.086594877777,
          1030.8486653428447,
          1033.0540851848327,
          1030.7530961224288,
          964.254408295515,
          1004.7861988407243,
          1040.893951460344,
          1012.7209853168442,
          1009.4210834509306,
          1000.3038855017668
         ]
        },
        {
         "mode": "lines",
         "name": "Valores predichos -1",
         "type": "scatter",
         "x": [
          "2023-07-01",
          "2023-07-02",
          "2023-07-03",
          "2023-07-04",
          "2023-07-05",
          "2023-07-06",
          "2023-07-07",
          "2023-07-08",
          "2023-07-09",
          "2023-07-10",
          "2023-07-11",
          "2023-07-12",
          "2023-07-13",
          "2023-07-14",
          "2023-07-15",
          "2023-07-16",
          "2023-07-17",
          "2023-07-18",
          "2023-07-19",
          "2023-07-20",
          "2023-07-21",
          "2023-07-22",
          "2023-07-23",
          "2023-07-24",
          "2023-07-25",
          "2023-07-26",
          "2023-07-27",
          "2023-07-28",
          "2023-07-29",
          "2023-07-30",
          "2023-07-31",
          "2023-08-01",
          "2023-08-02",
          "2023-08-03",
          "2023-08-04",
          "2023-08-05",
          "2023-08-06",
          "2023-08-07",
          "2023-08-08",
          "2023-08-09",
          "2023-08-10",
          "2023-08-11",
          "2023-08-12",
          "2023-08-13",
          "2023-08-14",
          "2023-08-15",
          "2023-08-16",
          "2023-08-17",
          "2023-08-18",
          "2023-08-19",
          "2023-08-20",
          "2023-08-21",
          "2023-08-22",
          "2023-08-23",
          "2023-08-24",
          "2023-08-25",
          "2023-08-26",
          "2023-08-27",
          "2023-08-28",
          "2023-08-29",
          "2023-08-30",
          "2023-08-31",
          "2023-09-01",
          "2023-09-02",
          "2023-09-03",
          "2023-09-04",
          "2023-09-05",
          "2023-09-06",
          "2023-09-07",
          "2023-09-08",
          "2023-09-09",
          "2023-09-10",
          "2023-09-11",
          "2023-09-12",
          "2023-09-13",
          "2023-09-14",
          "2023-09-15",
          "2023-09-16",
          "2023-09-17",
          "2023-09-18",
          "2023-09-19",
          "2023-09-20",
          "2023-09-21",
          "2023-09-22",
          "2023-09-23",
          "2023-09-24",
          "2023-09-25",
          "2023-09-26",
          "2023-09-27",
          "2023-09-28",
          "2023-09-29",
          "2023-09-30"
         ],
         "y": [
          545.3256857634271,
          545.9929519569129,
          468.5267739588585,
          538.059329775417,
          609.6984424456791,
          609.620773342292,
          545.9533759661392,
          486.79660517595596,
          419.313390476274,
          446.64047470031267,
          521.3736328786841,
          561.4819293383453,
          623.9850644643002,
          668.8589218435192,
          617.0025691903361,
          636.9947035434203,
          594.100749026353,
          537.0533405457197,
          424.33508535785506,
          320.7920626621086,
          435.1463814686198,
          345.527070353423,
          348.69543588493764,
          517.2029013603712,
          516.3342956033753,
          499.05153345798817,
          538.105652877391,
          476.4908353883251,
          484.73643576757854,
          497.5930917524888,
          484.347342509368,
          540.9137652284651,
          551.7893712345219,
          488.86656135505916,
          519.0808106379499,
          454.0153370735379,
          474.8393042366863,
          397.20947278626545,
          508.93266633963503,
          633.2754572780229,
          681.0516838852355,
          744.3682716221363,
          761.4628004724976,
          638.9313615165573,
          613.3273010341403,
          733.9467430107308,
          678.3395323285279,
          669.6450783093229,
          705.5124283519264,
          673.3051899280683,
          387.46281187201544,
          374.0082422599928,
          319.66678576647803,
          213.56027816275613,
          180.01456528082662,
          197.15212166720644,
          251.0941075035611,
          185.94617841263857,
          368.84633429280814,
          601.8699026700102,
          791.963370356915,
          824.9122347654913,
          831.6314053497267,
          886.8054005511195,
          929.6269359197244,
          949.1823796817134,
          959.0331500368097,
          910.9577544518977,
          974.1206604642877,
          1004.731954258321,
          1018.4181559923742,
          1014.2656768792665,
          1027.1859312221447,
          1028.3050408312859,
          1026.9412481955935,
          1028.1462547439883,
          1029.389836346568,
          1022.8317681550071,
          943.8430330246633,
          1004.0914953342425,
          1028.3997241152517,
          1011.086594877777,
          1030.8486653428447,
          1033.0540851848327,
          1030.7530961224288,
          964.254408295515,
          1004.7861988407243,
          1040.893951460344,
          1012.7209853168442,
          1009.4210834509306,
          1000.3038855017668
         ]
        }
       ],
       "layout": {
        "legend": {
         "tracegroupgap": 0
        },
        "template": {
         "data": {
          "bar": [
           {
            "error_x": {
             "color": "#2a3f5f"
            },
            "error_y": {
             "color": "#2a3f5f"
            },
            "marker": {
             "line": {
              "color": "#E5ECF6",
              "width": 0.5
             },
             "pattern": {
              "fillmode": "overlay",
              "size": 10,
              "solidity": 0.2
             }
            },
            "type": "bar"
           }
          ],
          "barpolar": [
           {
            "marker": {
             "line": {
              "color": "#E5ECF6",
              "width": 0.5
             },
             "pattern": {
              "fillmode": "overlay",
              "size": 10,
              "solidity": 0.2
             }
            },
            "type": "barpolar"
           }
          ],
          "carpet": [
           {
            "aaxis": {
             "endlinecolor": "#2a3f5f",
             "gridcolor": "white",
             "linecolor": "white",
             "minorgridcolor": "white",
             "startlinecolor": "#2a3f5f"
            },
            "baxis": {
             "endlinecolor": "#2a3f5f",
             "gridcolor": "white",
             "linecolor": "white",
             "minorgridcolor": "white",
             "startlinecolor": "#2a3f5f"
            },
            "type": "carpet"
           }
          ],
          "choropleth": [
           {
            "colorbar": {
             "outlinewidth": 0,
             "ticks": ""
            },
            "type": "choropleth"
           }
          ],
          "contour": [
           {
            "colorbar": {
             "outlinewidth": 0,
             "ticks": ""
            },
            "colorscale": [
             [
              0,
              "#0d0887"
             ],
             [
              0.1111111111111111,
              "#46039f"
             ],
             [
              0.2222222222222222,
              "#7201a8"
             ],
             [
              0.3333333333333333,
              "#9c179e"
             ],
             [
              0.4444444444444444,
              "#bd3786"
             ],
             [
              0.5555555555555556,
              "#d8576b"
             ],
             [
              0.6666666666666666,
              "#ed7953"
             ],
             [
              0.7777777777777778,
              "#fb9f3a"
             ],
             [
              0.8888888888888888,
              "#fdca26"
             ],
             [
              1,
              "#f0f921"
             ]
            ],
            "type": "contour"
           }
          ],
          "contourcarpet": [
           {
            "colorbar": {
             "outlinewidth": 0,
             "ticks": ""
            },
            "type": "contourcarpet"
           }
          ],
          "heatmap": [
           {
            "colorbar": {
             "outlinewidth": 0,
             "ticks": ""
            },
            "colorscale": [
             [
              0,
              "#0d0887"
             ],
             [
              0.1111111111111111,
              "#46039f"
             ],
             [
              0.2222222222222222,
              "#7201a8"
             ],
             [
              0.3333333333333333,
              "#9c179e"
             ],
             [
              0.4444444444444444,
              "#bd3786"
             ],
             [
              0.5555555555555556,
              "#d8576b"
             ],
             [
              0.6666666666666666,
              "#ed7953"
             ],
             [
              0.7777777777777778,
              "#fb9f3a"
             ],
             [
              0.8888888888888888,
              "#fdca26"
             ],
             [
              1,
              "#f0f921"
             ]
            ],
            "type": "heatmap"
           }
          ],
          "heatmapgl": [
           {
            "colorbar": {
             "outlinewidth": 0,
             "ticks": ""
            },
            "colorscale": [
             [
              0,
              "#0d0887"
             ],
             [
              0.1111111111111111,
              "#46039f"
             ],
             [
              0.2222222222222222,
              "#7201a8"
             ],
             [
              0.3333333333333333,
              "#9c179e"
             ],
             [
              0.4444444444444444,
              "#bd3786"
             ],
             [
              0.5555555555555556,
              "#d8576b"
             ],
             [
              0.6666666666666666,
              "#ed7953"
             ],
             [
              0.7777777777777778,
              "#fb9f3a"
             ],
             [
              0.8888888888888888,
              "#fdca26"
             ],
             [
              1,
              "#f0f921"
             ]
            ],
            "type": "heatmapgl"
           }
          ],
          "histogram": [
           {
            "marker": {
             "pattern": {
              "fillmode": "overlay",
              "size": 10,
              "solidity": 0.2
             }
            },
            "type": "histogram"
           }
          ],
          "histogram2d": [
           {
            "colorbar": {
             "outlinewidth": 0,
             "ticks": ""
            },
            "colorscale": [
             [
              0,
              "#0d0887"
             ],
             [
              0.1111111111111111,
              "#46039f"
             ],
             [
              0.2222222222222222,
              "#7201a8"
             ],
             [
              0.3333333333333333,
              "#9c179e"
             ],
             [
              0.4444444444444444,
              "#bd3786"
             ],
             [
              0.5555555555555556,
              "#d8576b"
             ],
             [
              0.6666666666666666,
              "#ed7953"
             ],
             [
              0.7777777777777778,
              "#fb9f3a"
             ],
             [
              0.8888888888888888,
              "#fdca26"
             ],
             [
              1,
              "#f0f921"
             ]
            ],
            "type": "histogram2d"
           }
          ],
          "histogram2dcontour": [
           {
            "colorbar": {
             "outlinewidth": 0,
             "ticks": ""
            },
            "colorscale": [
             [
              0,
              "#0d0887"
             ],
             [
              0.1111111111111111,
              "#46039f"
             ],
             [
              0.2222222222222222,
              "#7201a8"
             ],
             [
              0.3333333333333333,
              "#9c179e"
             ],
             [
              0.4444444444444444,
              "#bd3786"
             ],
             [
              0.5555555555555556,
              "#d8576b"
             ],
             [
              0.6666666666666666,
              "#ed7953"
             ],
             [
              0.7777777777777778,
              "#fb9f3a"
             ],
             [
              0.8888888888888888,
              "#fdca26"
             ],
             [
              1,
              "#f0f921"
             ]
            ],
            "type": "histogram2dcontour"
           }
          ],
          "mesh3d": [
           {
            "colorbar": {
             "outlinewidth": 0,
             "ticks": ""
            },
            "type": "mesh3d"
           }
          ],
          "parcoords": [
           {
            "line": {
             "colorbar": {
              "outlinewidth": 0,
              "ticks": ""
             }
            },
            "type": "parcoords"
           }
          ],
          "pie": [
           {
            "automargin": true,
            "type": "pie"
           }
          ],
          "scatter": [
           {
            "fillpattern": {
             "fillmode": "overlay",
             "size": 10,
             "solidity": 0.2
            },
            "type": "scatter"
           }
          ],
          "scatter3d": [
           {
            "line": {
             "colorbar": {
              "outlinewidth": 0,
              "ticks": ""
             }
            },
            "marker": {
             "colorbar": {
              "outlinewidth": 0,
              "ticks": ""
             }
            },
            "type": "scatter3d"
           }
          ],
          "scattercarpet": [
           {
            "marker": {
             "colorbar": {
              "outlinewidth": 0,
              "ticks": ""
             }
            },
            "type": "scattercarpet"
           }
          ],
          "scattergeo": [
           {
            "marker": {
             "colorbar": {
              "outlinewidth": 0,
              "ticks": ""
             }
            },
            "type": "scattergeo"
           }
          ],
          "scattergl": [
           {
            "marker": {
             "colorbar": {
              "outlinewidth": 0,
              "ticks": ""
             }
            },
            "type": "scattergl"
           }
          ],
          "scattermapbox": [
           {
            "marker": {
             "colorbar": {
              "outlinewidth": 0,
              "ticks": ""
             }
            },
            "type": "scattermapbox"
           }
          ],
          "scatterpolar": [
           {
            "marker": {
             "colorbar": {
              "outlinewidth": 0,
              "ticks": ""
             }
            },
            "type": "scatterpolar"
           }
          ],
          "scatterpolargl": [
           {
            "marker": {
             "colorbar": {
              "outlinewidth": 0,
              "ticks": ""
             }
            },
            "type": "scatterpolargl"
           }
          ],
          "scatterternary": [
           {
            "marker": {
             "colorbar": {
              "outlinewidth": 0,
              "ticks": ""
             }
            },
            "type": "scatterternary"
           }
          ],
          "surface": [
           {
            "colorbar": {
             "outlinewidth": 0,
             "ticks": ""
            },
            "colorscale": [
             [
              0,
              "#0d0887"
             ],
             [
              0.1111111111111111,
              "#46039f"
             ],
             [
              0.2222222222222222,
              "#7201a8"
             ],
             [
              0.3333333333333333,
              "#9c179e"
             ],
             [
              0.4444444444444444,
              "#bd3786"
             ],
             [
              0.5555555555555556,
              "#d8576b"
             ],
             [
              0.6666666666666666,
              "#ed7953"
             ],
             [
              0.7777777777777778,
              "#fb9f3a"
             ],
             [
              0.8888888888888888,
              "#fdca26"
             ],
             [
              1,
              "#f0f921"
             ]
            ],
            "type": "surface"
           }
          ],
          "table": [
           {
            "cells": {
             "fill": {
              "color": "#EBF0F8"
             },
             "line": {
              "color": "white"
             }
            },
            "header": {
             "fill": {
              "color": "#C8D4E3"
             },
             "line": {
              "color": "white"
             }
            },
            "type": "table"
           }
          ]
         },
         "layout": {
          "annotationdefaults": {
           "arrowcolor": "#2a3f5f",
           "arrowhead": 0,
           "arrowwidth": 1
          },
          "autotypenumbers": "strict",
          "coloraxis": {
           "colorbar": {
            "outlinewidth": 0,
            "ticks": ""
           }
          },
          "colorscale": {
           "diverging": [
            [
             0,
             "#8e0152"
            ],
            [
             0.1,
             "#c51b7d"
            ],
            [
             0.2,
             "#de77ae"
            ],
            [
             0.3,
             "#f1b6da"
            ],
            [
             0.4,
             "#fde0ef"
            ],
            [
             0.5,
             "#f7f7f7"
            ],
            [
             0.6,
             "#e6f5d0"
            ],
            [
             0.7,
             "#b8e186"
            ],
            [
             0.8,
             "#7fbc41"
            ],
            [
             0.9,
             "#4d9221"
            ],
            [
             1,
             "#276419"
            ]
           ],
           "sequential": [
            [
             0,
             "#0d0887"
            ],
            [
             0.1111111111111111,
             "#46039f"
            ],
            [
             0.2222222222222222,
             "#7201a8"
            ],
            [
             0.3333333333333333,
             "#9c179e"
            ],
            [
             0.4444444444444444,
             "#bd3786"
            ],
            [
             0.5555555555555556,
             "#d8576b"
            ],
            [
             0.6666666666666666,
             "#ed7953"
            ],
            [
             0.7777777777777778,
             "#fb9f3a"
            ],
            [
             0.8888888888888888,
             "#fdca26"
            ],
            [
             1,
             "#f0f921"
            ]
           ],
           "sequentialminus": [
            [
             0,
             "#0d0887"
            ],
            [
             0.1111111111111111,
             "#46039f"
            ],
            [
             0.2222222222222222,
             "#7201a8"
            ],
            [
             0.3333333333333333,
             "#9c179e"
            ],
            [
             0.4444444444444444,
             "#bd3786"
            ],
            [
             0.5555555555555556,
             "#d8576b"
            ],
            [
             0.6666666666666666,
             "#ed7953"
            ],
            [
             0.7777777777777778,
             "#fb9f3a"
            ],
            [
             0.8888888888888888,
             "#fdca26"
            ],
            [
             1,
             "#f0f921"
            ]
           ]
          },
          "colorway": [
           "#636efa",
           "#EF553B",
           "#00cc96",
           "#ab63fa",
           "#FFA15A",
           "#19d3f3",
           "#FF6692",
           "#B6E880",
           "#FF97FF",
           "#FECB52"
          ],
          "font": {
           "color": "#2a3f5f"
          },
          "geo": {
           "bgcolor": "white",
           "lakecolor": "white",
           "landcolor": "#E5ECF6",
           "showlakes": true,
           "showland": true,
           "subunitcolor": "white"
          },
          "hoverlabel": {
           "align": "left"
          },
          "hovermode": "closest",
          "mapbox": {
           "style": "light"
          },
          "paper_bgcolor": "white",
          "plot_bgcolor": "#E5ECF6",
          "polar": {
           "angularaxis": {
            "gridcolor": "white",
            "linecolor": "white",
            "ticks": ""
           },
           "bgcolor": "#E5ECF6",
           "radialaxis": {
            "gridcolor": "white",
            "linecolor": "white",
            "ticks": ""
           }
          },
          "scene": {
           "xaxis": {
            "backgroundcolor": "#E5ECF6",
            "gridcolor": "white",
            "gridwidth": 2,
            "linecolor": "white",
            "showbackground": true,
            "ticks": "",
            "zerolinecolor": "white"
           },
           "yaxis": {
            "backgroundcolor": "#E5ECF6",
            "gridcolor": "white",
            "gridwidth": 2,
            "linecolor": "white",
            "showbackground": true,
            "ticks": "",
            "zerolinecolor": "white"
           },
           "zaxis": {
            "backgroundcolor": "#E5ECF6",
            "gridcolor": "white",
            "gridwidth": 2,
            "linecolor": "white",
            "showbackground": true,
            "ticks": "",
            "zerolinecolor": "white"
           }
          },
          "shapedefaults": {
           "line": {
            "color": "#2a3f5f"
           }
          },
          "ternary": {
           "aaxis": {
            "gridcolor": "white",
            "linecolor": "white",
            "ticks": ""
           },
           "baxis": {
            "gridcolor": "white",
            "linecolor": "white",
            "ticks": ""
           },
           "bgcolor": "#E5ECF6",
           "caxis": {
            "gridcolor": "white",
            "linecolor": "white",
            "ticks": ""
           }
          },
          "title": {
           "x": 0.05
          },
          "xaxis": {
           "automargin": true,
           "gridcolor": "white",
           "linecolor": "white",
           "ticks": "",
           "title": {
            "standoff": 15
           },
           "zerolinecolor": "white",
           "zerolinewidth": 2
          },
          "yaxis": {
           "automargin": true,
           "gridcolor": "white",
           "linecolor": "white",
           "ticks": "",
           "title": {
            "standoff": 15
           },
           "zerolinecolor": "white",
           "zerolinewidth": 2
          }
         }
        },
        "title": {
         "text": "Forecasting of Energy Price with Regularizated MLR with 3 lags"
        },
        "xaxis": {
         "anchor": "y",
         "domain": [
          0,
          1
         ],
         "title": {
          "text": "Date"
         }
        },
        "yaxis": {
         "anchor": "x",
         "domain": [
          0,
          1
         ],
         "title": {
          "text": "Average Energy Price"
         }
        }
       }
      }
     },
     "metadata": {},
     "output_type": "display_data"
    }
   ],
   "source": [
    "fig_lag3 = px.line(\n",
    "    x=X_train_dates,\n",
    "    y=y_train,\n",
    "    title=\"Forecasting of Energy Price with Regularizated MLR with 3 lags\",\n",
    ")\n",
    "fig_lag3.update_layout(xaxis_title=\"Date\", yaxis_title=\"Average Energy Price\")\n",
    "fig_lag3.add_trace(\n",
    "    go.Scatter(x=X_test_dates, y=y_test, mode=\"lines\", name=\"Valores reales\")\n",
    ")\n",
    "fig_lag3.add_trace(\n",
    "    go.Scatter(x=X_test_dates, y=y_pred, mode=\"lines\", name=\"Valores predichos\")\n",
    ")\n",
    "fig_lag3.add_trace(\n",
    "    go.Scatter(x=X_test_dates, y=y_pred_1, mode=\"lines\", name=\"Valores predichos -1\")\n",
    ")\n",
    "fig_lag3.show()"
   ]
  },
  {
   "cell_type": "code",
   "execution_count": 11,
   "metadata": {},
   "outputs": [
    {
     "name": "stdout",
     "output_type": "stream",
     "text": [
      "Best parameters found: {'alpha': 4.281332398719396}\n",
      "Best cross-validation score: 0.9428893493581361\n",
      "Mean Squared Error on Test Data: 4536.290928974545\n",
      "Mean Absolute Percentage Error on Test Data: 0.0968714041645754\n",
      "energy_price_lag_1: 1.0801614200776162\n",
      "energy_price_lag_2: 0.06334192573406304\n",
      "energy_price_lag_3: -0.18492451020942136\n",
      "energy_price_lag_4: 0.0030420675747583675\n"
     ]
    }
   ],
   "source": [
    "results = perform_lasso_mlr({\"df\": df, \"lags\": 4})\n",
    "y_pred = results[\"y_pred\"]\n",
    "y_pred_1 = y_pred[1:]\n",
    "y_test = results[\"y_test\"]\n",
    "X_test_dates = results[\"X_test_dates\"]"
   ]
  },
  {
   "cell_type": "code",
   "execution_count": 12,
   "metadata": {},
   "outputs": [
    {
     "data": {
      "application/vnd.plotly.v1+json": {
       "config": {
        "plotlyServerURL": "https://plot.ly"
       },
       "data": [
        {
         "hovertemplate": "x=%{x}<br>y=%{y}<extra></extra>",
         "legendgroup": "",
         "line": {
          "color": "#636efa",
          "dash": "solid"
         },
         "marker": {
          "symbol": "circle"
         },
         "mode": "lines",
         "name": "",
         "orientation": "v",
         "showlegend": false,
         "type": "scatter",
         "x": [
          "2021-10-04",
          "2021-10-05",
          "2021-10-06",
          "2021-10-07",
          "2021-10-08",
          "2021-10-09",
          "2021-10-10",
          "2021-10-11",
          "2021-10-12",
          "2021-10-13",
          "2021-10-14",
          "2021-10-15",
          "2021-10-16",
          "2021-10-17",
          "2021-10-18",
          "2021-10-19",
          "2021-10-20",
          "2021-10-21",
          "2021-10-22",
          "2021-10-23",
          "2021-10-24",
          "2021-10-25",
          "2021-10-26",
          "2021-10-27",
          "2021-10-28",
          "2021-10-29",
          "2021-10-30",
          "2021-10-31",
          "2021-11-01",
          "2021-11-02",
          "2021-11-03",
          "2021-11-04",
          "2021-11-05",
          "2021-11-06",
          "2021-11-07",
          "2021-11-08",
          "2021-11-09",
          "2021-12-04",
          "2021-12-05",
          "2021-12-06",
          "2021-12-07",
          "2021-12-08",
          "2021-12-09",
          "2021-12-10",
          "2021-12-11",
          "2021-12-12",
          "2021-12-13",
          "2021-12-14",
          "2021-12-15",
          "2021-12-16",
          "2021-12-17",
          "2021-12-18",
          "2021-12-19",
          "2021-12-20",
          "2021-12-21",
          "2021-12-22",
          "2021-12-23",
          "2021-12-24",
          "2021-12-25",
          "2021-12-26",
          "2021-12-27",
          "2021-12-28",
          "2021-12-29",
          "2021-12-30",
          "2021-12-31",
          "2022-02-01",
          "2022-02-02",
          "2022-02-03",
          "2022-02-04",
          "2022-02-05",
          "2022-02-06",
          "2022-02-07",
          "2022-02-08",
          "2022-02-09",
          "2022-02-10",
          "2022-02-11",
          "2022-02-12",
          "2022-02-13",
          "2022-02-14",
          "2022-02-15",
          "2022-02-16",
          "2022-02-17",
          "2022-02-18",
          "2022-02-19",
          "2022-02-20",
          "2022-02-21",
          "2022-02-22",
          "2022-02-23",
          "2022-02-24",
          "2022-02-25",
          "2022-02-26",
          "2022-02-27",
          "2022-02-28",
          "2022-04-01",
          "2022-04-02",
          "2022-04-03",
          "2022-04-04",
          "2022-04-05",
          "2022-04-06",
          "2022-04-07",
          "2022-04-08",
          "2022-04-09",
          "2022-04-10",
          "2022-04-11",
          "2022-04-12",
          "2022-04-13",
          "2022-04-14",
          "2022-04-15",
          "2022-04-16",
          "2022-04-17",
          "2022-04-18",
          "2022-04-19",
          "2022-04-20",
          "2022-04-21",
          "2022-04-22",
          "2022-04-23",
          "2022-04-24",
          "2022-04-25",
          "2022-04-26",
          "2022-04-27",
          "2022-04-28",
          "2022-04-29",
          "2022-04-30",
          "2022-05-01",
          "2022-05-02",
          "2022-05-03",
          "2022-05-04",
          "2022-05-05",
          "2022-05-06",
          "2022-05-07",
          "2022-05-08",
          "2022-05-09",
          "2022-05-10",
          "2022-05-11",
          "2022-05-12",
          "2022-05-13",
          "2022-05-14",
          "2022-05-15",
          "2022-05-16",
          "2022-05-17",
          "2022-05-18",
          "2022-05-19",
          "2022-05-20",
          "2022-05-21",
          "2022-05-22",
          "2022-05-23",
          "2022-05-24",
          "2022-05-25",
          "2022-05-26",
          "2022-05-27",
          "2022-05-28",
          "2022-05-29",
          "2022-05-30",
          "2022-05-31",
          "2022-06-01",
          "2022-06-02",
          "2022-06-03",
          "2022-06-04",
          "2022-06-05",
          "2022-06-06",
          "2022-06-07",
          "2022-06-08",
          "2022-06-09",
          "2022-06-10",
          "2022-06-11",
          "2022-06-12",
          "2022-06-13",
          "2022-06-14",
          "2022-06-15",
          "2022-06-16",
          "2022-06-17",
          "2022-06-18",
          "2022-06-19",
          "2022-06-20",
          "2022-06-21",
          "2022-06-22",
          "2022-06-23",
          "2022-06-24",
          "2022-06-25",
          "2022-06-26",
          "2022-06-27",
          "2022-06-28",
          "2022-06-29",
          "2022-06-30",
          "2022-07-01",
          "2022-07-02",
          "2022-07-03",
          "2022-07-04",
          "2022-07-05",
          "2022-07-06",
          "2022-07-07",
          "2022-07-08",
          "2022-07-09",
          "2022-07-10",
          "2022-07-11",
          "2022-07-12",
          "2022-07-13",
          "2022-07-14",
          "2022-07-15",
          "2022-07-16",
          "2022-07-17",
          "2022-07-18",
          "2022-07-19",
          "2022-07-20",
          "2022-07-21",
          "2022-07-22",
          "2022-07-23",
          "2022-07-24",
          "2022-07-25",
          "2022-07-26",
          "2022-07-27",
          "2022-07-28",
          "2022-07-29",
          "2022-07-30",
          "2022-07-31",
          "2022-08-01",
          "2022-08-02",
          "2022-08-03",
          "2022-08-04",
          "2022-08-05",
          "2022-08-06",
          "2022-08-07",
          "2022-08-08",
          "2022-08-09",
          "2022-08-10",
          "2022-08-11",
          "2022-08-12",
          "2022-08-13",
          "2022-08-14",
          "2022-08-15",
          "2022-08-16",
          "2022-08-17",
          "2022-08-18",
          "2022-08-19",
          "2022-08-20",
          "2022-08-21",
          "2022-08-22",
          "2022-08-23",
          "2022-08-24",
          "2022-08-25",
          "2022-08-26",
          "2022-08-27",
          "2022-08-28",
          "2022-08-29",
          "2022-08-30",
          "2022-08-31",
          "2022-09-01",
          "2022-09-02",
          "2022-09-03",
          "2022-09-04",
          "2022-09-05",
          "2022-09-06",
          "2022-09-07",
          "2022-09-08",
          "2022-09-09",
          "2022-09-10",
          "2022-09-11",
          "2022-09-12",
          "2022-09-13",
          "2022-09-14",
          "2022-09-15",
          "2022-09-16",
          "2022-09-17",
          "2022-09-18",
          "2022-09-19",
          "2022-09-20",
          "2022-09-21",
          "2022-09-22",
          "2022-09-23",
          "2022-09-24",
          "2022-09-25",
          "2022-09-26",
          "2022-09-27",
          "2022-09-28",
          "2022-09-29",
          "2022-09-30",
          "2022-10-01",
          "2022-10-02",
          "2022-10-03",
          "2022-10-04",
          "2022-10-05",
          "2022-10-06",
          "2022-10-07",
          "2022-10-08",
          "2022-10-09",
          "2022-10-10",
          "2022-10-11",
          "2022-10-12",
          "2022-10-13",
          "2022-10-14",
          "2022-10-15",
          "2022-10-16",
          "2022-10-17",
          "2022-10-18",
          "2022-10-19",
          "2022-10-20",
          "2022-10-21",
          "2022-10-22",
          "2022-10-23",
          "2022-10-24",
          "2022-10-25",
          "2022-10-26",
          "2022-10-27",
          "2022-10-28",
          "2022-10-29",
          "2022-10-30",
          "2022-10-31",
          "2022-11-01",
          "2022-11-02",
          "2022-11-03",
          "2022-11-04",
          "2022-11-05",
          "2022-11-06",
          "2022-11-07",
          "2022-11-08",
          "2022-11-09",
          "2022-11-10",
          "2022-11-11",
          "2022-11-12",
          "2022-11-13",
          "2022-11-14",
          "2022-11-15",
          "2022-11-16",
          "2022-11-17",
          "2022-11-18",
          "2022-11-19",
          "2022-11-20",
          "2022-11-21",
          "2022-11-22",
          "2022-11-23",
          "2022-11-24",
          "2022-11-25",
          "2022-11-26",
          "2022-11-27",
          "2022-11-28",
          "2022-11-29",
          "2022-11-30",
          "2022-12-01",
          "2022-12-02",
          "2022-12-03",
          "2022-12-04",
          "2022-12-05",
          "2022-12-06",
          "2022-12-07",
          "2022-12-08",
          "2022-12-09",
          "2022-12-10",
          "2022-12-11",
          "2022-12-12",
          "2022-12-13",
          "2022-12-14",
          "2022-12-15",
          "2022-12-16",
          "2022-12-17",
          "2022-12-18",
          "2022-12-19",
          "2022-12-20",
          "2022-12-21",
          "2022-12-22",
          "2022-12-23",
          "2022-12-24",
          "2022-12-25",
          "2022-12-26",
          "2022-12-27",
          "2022-12-28",
          "2022-12-29",
          "2022-12-30",
          "2022-12-31",
          "2023-01-01",
          "2023-01-02",
          "2023-01-03",
          "2023-01-04",
          "2023-01-05",
          "2023-01-06",
          "2023-01-07",
          "2023-01-08",
          "2023-01-09",
          "2023-01-10",
          "2023-01-11",
          "2023-01-12",
          "2023-01-13",
          "2023-01-14",
          "2023-01-15",
          "2023-01-16",
          "2023-01-17",
          "2023-01-18",
          "2023-01-19",
          "2023-01-20",
          "2023-01-21",
          "2023-01-22",
          "2023-01-23",
          "2023-01-24",
          "2023-01-25",
          "2023-01-26",
          "2023-01-27",
          "2023-01-28",
          "2023-01-29",
          "2023-01-30",
          "2023-01-31",
          "2023-02-01",
          "2023-02-02",
          "2023-02-03",
          "2023-02-04",
          "2023-02-05",
          "2023-02-06",
          "2023-02-07",
          "2023-02-08",
          "2023-02-09",
          "2023-02-10",
          "2023-02-11",
          "2023-02-12",
          "2023-02-13",
          "2023-02-14",
          "2023-02-15",
          "2023-02-16",
          "2023-02-17",
          "2023-02-18",
          "2023-02-19",
          "2023-02-20",
          "2023-02-21",
          "2023-02-22",
          "2023-02-23",
          "2023-02-24",
          "2023-02-25",
          "2023-02-26",
          "2023-02-27",
          "2023-02-28",
          "2023-03-01",
          "2023-03-02",
          "2023-03-03",
          "2023-03-04",
          "2023-03-05",
          "2023-03-06",
          "2023-03-07",
          "2023-03-08",
          "2023-03-09",
          "2023-03-10",
          "2023-03-11",
          "2023-03-12",
          "2023-03-13",
          "2023-03-14",
          "2023-03-15",
          "2023-03-16",
          "2023-03-17",
          "2023-03-18",
          "2023-03-19",
          "2023-03-20",
          "2023-03-21",
          "2023-03-22",
          "2023-03-23",
          "2023-03-24",
          "2023-03-25",
          "2023-03-26",
          "2023-03-27",
          "2023-03-28",
          "2023-03-29",
          "2023-03-30",
          "2023-03-31",
          "2023-04-01",
          "2023-04-02",
          "2023-04-03",
          "2023-04-04",
          "2023-04-05",
          "2023-04-06",
          "2023-04-07",
          "2023-04-08",
          "2023-04-09",
          "2023-04-10",
          "2023-04-11",
          "2023-04-12",
          "2023-04-13",
          "2023-04-14",
          "2023-04-15",
          "2023-04-16",
          "2023-04-17",
          "2023-04-18",
          "2023-04-19",
          "2023-04-20",
          "2023-04-21",
          "2023-04-22",
          "2023-04-23",
          "2023-04-24",
          "2023-04-25",
          "2023-04-26",
          "2023-04-27",
          "2023-04-28",
          "2023-04-29",
          "2023-04-30",
          "2023-05-01",
          "2023-05-02",
          "2023-05-03",
          "2023-05-04",
          "2023-05-05",
          "2023-05-06",
          "2023-05-07",
          "2023-05-08",
          "2023-05-09",
          "2023-05-10",
          "2023-05-11",
          "2023-05-12",
          "2023-05-13",
          "2023-05-14",
          "2023-05-15",
          "2023-05-16",
          "2023-05-17",
          "2023-05-18",
          "2023-05-19",
          "2023-05-20",
          "2023-05-21",
          "2023-05-22",
          "2023-05-23",
          "2023-05-24",
          "2023-05-25",
          "2023-05-26",
          "2023-05-27",
          "2023-05-28",
          "2023-05-29",
          "2023-05-30",
          "2023-05-31",
          "2023-06-01",
          "2023-06-02",
          "2023-06-03",
          "2023-06-04",
          "2023-06-05",
          "2023-06-06",
          "2023-06-07",
          "2023-06-08",
          "2023-06-09",
          "2023-06-10",
          "2023-06-11",
          "2023-06-12",
          "2023-06-13",
          "2023-06-14",
          "2023-06-15",
          "2023-06-16",
          "2023-06-17",
          "2023-06-18",
          "2023-06-19",
          "2023-06-20",
          "2023-06-21",
          "2023-06-22",
          "2023-06-23",
          "2023-06-24",
          "2023-06-25",
          "2023-06-26",
          "2023-06-27",
          "2023-06-28",
          "2023-06-29",
          "2023-06-30"
         ],
         "xaxis": "x",
         "y": [
          286.5261161793333,
          278.1573253050167,
          261.47478813811665,
          235.8578475715167,
          229.31369943006663,
          219.45373283245,
          221.3451706969,
          225.09564642043333,
          223.12400189323333,
          208.5310715933,
          205.49424441326667,
          191.49858928411663,
          220.47191454488333,
          217.18447309706664,
          224.3223786053,
          240.05390966315,
          230.8898302425833,
          233.90920963756665,
          219.95736327173333,
          227.0308241033167,
          225.43219828715,
          227.4629556154333,
          214.0555688441167,
          200.8129511227,
          178.55722956681666,
          164.81647099756665,
          156.69595607803333,
          144.55619944011667,
          196.1848923010667,
          179.53787584173335,
          191.5018679344333,
          204.6111244799,
          200.5725120208,
          256.2079004091333,
          260.8138438411333,
          276.6830923548334,
          266.5984259776667,
          136.6151858857818,
          117.24140896644543,
          121.51404160410002,
          121.6087580619182,
          108.22972705617272,
          87.89678992392727,
          89.27961680499091,
          108.53990185171818,
          118.21287444517272,
          111.14315469432728,
          122.19192887397271,
          110.90622682725456,
          133.1954516644909,
          101.0222214665909,
          87.27784124622727,
          120.52724612992728,
          92.87421484555456,
          146.43394283750908,
          93.1630433407909,
          96.7735746118182,
          89.94239193313636,
          143.18719735811817,
          116.92075688436364,
          157.13289017218182,
          152.07792464679093,
          87.84928888169091,
          87.2552652234,
          87.56022412385454,
          574.83258567045,
          629.7531057923417,
          679.9537093796583,
          634.9486685760917,
          676.1453291944416,
          643.9751053751584,
          620.814194177125,
          556.7702112882668,
          481.7579258179833,
          422.86486397302497,
          364.557442976475,
          326.4741861571584,
          301.00230614165,
          347.09892871436665,
          343.44634212346665,
          339.2693636982833,
          316.8355334437084,
          318.4731121828583,
          303.47578139025,
          251.4285172684833,
          264.8336916230333,
          276.18328724943336,
          251.73531832876665,
          254.4742618483,
          242.8627564248833,
          251.3768528994167,
          239.15948298125,
          260.9013410045083,
          281.5059189245,
          236.7869147359333,
          148.96921426266667,
          175.25489261403334,
          198.21258047786668,
          191.269641414,
          262.9679488746333,
          155.8071632446,
          137.5929980581,
          124.94512254126666,
          138.55301482326666,
          129.71389086443335,
          132.89685578906668,
          121.88155799143333,
          106.9985935555,
          119.3985517558,
          109.60444239173334,
          138.77986288393336,
          186.71705213186667,
          145.06817902276666,
          134.4925834134667,
          114.9664079618,
          113.20638320070002,
          103.0190299081,
          101.22364771776668,
          106.0412902624,
          102.30829282893336,
          99.71598971303332,
          98.04276491406668,
          97.2173048629,
          96.83827014536666,
          98.6379675325,
          107.2514839083,
          133.7742698964,
          105.65651377003331,
          113.27988722723336,
          113.8085308241,
          109.56083914033331,
          102.96900438663332,
          107.4390905947,
          101.1283887161,
          100.3626710419,
          101.05507902326669,
          99.74965688743332,
          97.12685273583334,
          99.40693027983332,
          112.80171103206663,
          142.54899225213333,
          122.09234755316668,
          114.01577582223332,
          107.99845906976668,
          94.75545614193334,
          95.95410778386666,
          106.06156648843334,
          99.43857048456664,
          99.34446187036669,
          96.4486104796,
          95.86535293636666,
          96.55537735836668,
          96.52268669623334,
          95.4407350809,
          116.1275333405,
          104.4060742114,
          108.0229956427,
          103.76284299763334,
          101.2739031386,
          100.48935112566666,
          101.40952613713334,
          121.1464483358,
          107.04807132056663,
          107.43016573476666,
          105.99686014256667,
          103.56202369573332,
          101.47641312326664,
          101.89960776553336,
          102.13507965583334,
          102.21124502283334,
          101.50237157996668,
          100.51498157946666,
          100.08371477456666,
          97.7506625949,
          100.3569359424,
          105.6404049115,
          105.6461192301,
          102.3262533412,
          101.8994299161,
          103.3703179925,
          103.3026652704,
          102.222442387,
          104.28034345133334,
          103.67066312459998,
          103.41403763763331,
          104.30740167706666,
          101.36174571706668,
          104.56054160253336,
          104.50061156463332,
          105.48758301280002,
          108.24356443263332,
          105.90673284506666,
          109.7795287026,
          106.86524920756666,
          105.30795695463333,
          116.69532424916667,
          115.43205907413332,
          112.10918490053332,
          111.33500351683334,
          109.92047648036667,
          106.8036185547,
          120.46574198646664,
          118.69847274987085,
          106.74612964343332,
          107.12883518253334,
          103.49754494713332,
          103.7533367619,
          110.8507938536,
          107.63556779026668,
          130.636103706,
          106.4125778344,
          104.6208226925,
          109.89856387833332,
          106.2849330042,
          118.86402266526666,
          111.59073378603334,
          106.7048689376,
          112.1731836856,
          112.15362635406666,
          110.53839589653334,
          109.74198797543332,
          105.67941845366666,
          106.33572189046669,
          108.32807527056669,
          107.4484264971,
          107.8097583792,
          109.44817734046669,
          107.64706501696666,
          109.50142468013333,
          107.62571206213332,
          120.4719799521,
          147.56621963536668,
          119.15620876793332,
          125.89817941953334,
          108.6342623397,
          107.70839305636667,
          134.44052801216665,
          127.7737671822,
          167.67082691546668,
          202.77125651136663,
          236.2440918179,
          253.56647582180003,
          266.64281586826667,
          287.2065065897333,
          303.3401654812667,
          334.38045994973334,
          321.8879914711667,
          335.2388359877333,
          287.4074633302667,
          202.1438682634333,
          200.7256060527,
          210.3076924658667,
          201.5815019135,
          191.34755633673333,
          208.70656760263333,
          211.3363892950333,
          137.3675665684,
          209.80917733650003,
          271.8992538987333,
          332.5957400667333,
          434.0241668406,
          411.3418113613666,
          337.5237664415333,
          224.91087308343333,
          277.2270228648667,
          272.4116762438333,
          248.00393778426667,
          224.00260369696664,
          226.6025098270333,
          199.5820167503333,
          182.94380346596665,
          241.63649198756664,
          232.83510477666664,
          217.99648210433327,
          226.1721893805,
          239.35278300783327,
          151.60885155484445,
          152.49832810744445,
          156.38026261383334,
          169.8222878902889,
          176.7718551801778,
          177.1811389441222,
          172.6624002974,
          169.63443993466666,
          143.7311005684,
          177.15813917670002,
          195.73022481595555,
          185.574100134,
          177.50878236513333,
          178.56915131524443,
          169.0318371276,
          184.7431704089556,
          167.52188848586667,
          177.09594684367778,
          239.9145777426,
          210.1743305757111,
          219.63003686292225,
          175.20620168814446,
          133.85079334356666,
          147.8419875748889,
          158.64012517214445,
          177.9900003762222,
          166.35782411813335,
          169.70481861215555,
          120.35219211326664,
          101.11268580731112,
          121.37945495417776,
          200.736745175,
          224.36854415936668,
          223.58489587013327,
          180.38691703296664,
          173.37009246173332,
          114.2126595499,
          161.54418318086667,
          181.375653051,
          187.5463017727333,
          185.5893434249,
          165.87799864439998,
          167.9971178559,
          167.74615571763334,
          136.1720299063,
          160.05898493060002,
          165.7053903319,
          164.309055247,
          113.8978657953,
          121.39357856603334,
          111.50842822936666,
          121.96276779793334,
          164.3267622455,
          173.01798024863334,
          184.584252135,
          219.5569739768,
          248.80812348596663,
          251.23229482346665,
          274.012303675,
          286.1381870071,
          311.2777561574666,
          325.65837087483334,
          335.3460165459333,
          337.02038819176664,
          256.9089107462,
          299.0853359828333,
          246.8713280410333,
          253.4154844247333,
          242.2272007749,
          212.5537550452333,
          236.70622378776667,
          244.2799634802333,
          244.0393092397333,
          258.01204906566664,
          270.56638503663333,
          285.31787186746664,
          283.271270214,
          273.05082591086665,
          287.3321921675667,
          322.7368456294,
          326.2849457738,
          357.1352101584,
          400.58238712803336,
          419.113694959,
          420.61965224836666,
          429.7334954217333,
          444.5355751137667,
          467.5575736797,
          509.2616914702666,
          507.7130395607667,
          450.7930971015,
          523.0726980822,
          499.7962119735334,
          510.8509979227,
          531.0305672357,
          556.6253745001333,
          560.9106826756333,
          526.6652148232333,
          503.1934809124,
          415.8064971809,
          432.61928971466665,
          381.8508350045667,
          436.0338762112333,
          309.3528225253,
          256.55275899496667,
          250.0275534853,
          212.65986900166664,
          204.8056496120333,
          216.1465712030333,
          250.5803743439,
          235.7702636137,
          243.2981734820333,
          202.968121683,
          194.94165071756663,
          243.9196906469667,
          250.93103278116664,
          277.9080973694,
          348.9216554459333,
          375.9744406195,
          396.3932978743333,
          452.8826199384334,
          568.7788272762333,
          675.0510164512666,
          768.6838144923667,
          721.5205503904334,
          794.9294052108667,
          799.9009328050333,
          741.8818057063332,
          569.4053375572,
          682.3372145263667,
          621.2968903492666,
          561.624488399,
          556.9092336778667,
          604.8585322595667,
          573.2946676894334,
          572.7660878618666,
          562.8534410486667,
          547.7789099221001,
          515.8515977783667,
          496.16126738863335,
          429.38230709373335,
          418.8577930926001,
          410.9205700374,
          423.7087455614333,
          351.6163010174667,
          372.57516342446667,
          361.4122095290333,
          297.97839228056665,
          315.511962764,
          319.4327370885333,
          366.6270357873,
          374.0731976343666,
          372.13955998246666,
          435.5328814148666,
          450.0135043289333,
          463.7545105165,
          501.8976104556,
          487.8137558528,
          470.94714484176666,
          431.3983143267,
          313.6173168691667,
          312.0133821560333,
          287.9145897603,
          234.20115136966663,
          185.5636310353,
          164.92299893443334,
          168.05130423886666,
          219.3029585301,
          203.53429561523333,
          163.73357652546667,
          234.4922552514,
          291.23608951746667,
          341.55839888603333,
          321.62533798656665,
          329.27193836323335,
          236.03052647476667,
          186.2669153527333,
          180.38245627016667,
          188.87672340606665,
          153.32040885503335,
          168.90205633026667,
          163.32335787553333,
          149.59529507336666,
          153.88823286206664,
          147.18555320043333,
          150.28855113836667,
          144.2343309941,
          139.88260143969998,
          133.9439032891,
          141.84049052946668,
          133.08015810536668,
          143.43973677953332,
          145.75005667423332,
          263.44543922816666,
          242.1994135678,
          242.84623382786663,
          214.800520733,
          212.02258143863327,
          294.0202761736667,
          290.9840322788,
          262.3251726828,
          303.79650600099995,
          319.6270939814333,
          334.2317397834,
          341.2148204153,
          343.05637368949994,
          333.4545873304,
          323.327413014,
          249.317842336,
          254.6826009834,
          186.79008909516668,
          210.5781809513333,
          189.01870382113336,
          240.7723909257,
          255.105191346,
          257.89916929463334,
          321.68339539606666,
          321.9544497141,
          354.5173310422333,
          404.3975417612,
          514.3697640661667,
          582.1855448730333,
          629.9293873606,
          639.0584256112,
          692.2176118567,
          682.7860478941999,
          727.0558307901,
          776.6545298109668,
          811.1855775365999,
          820.3688887720333,
          834.1325286478333,
          836.8465536497333,
          781.1399254179,
          789.4337239329667,
          801.7243562416,
          741.2614393731333,
          765.2225726731334,
          669.8191737313,
          650.3343199944667,
          450.5935416651666,
          374.3725136908333,
          385.6183086151,
          360.3704527560666,
          308.91654787276667,
          253.708678186,
          246.6326825770333,
          206.9850470411333,
          266.10522138560003,
          302.2922313390667,
          346.08643039783334,
          329.4370321681333,
          310.7298592868,
          292.0219092928,
          281.5663019065667,
          295.7395729818666,
          327.5229819927,
          352.6390978964,
          363.4437399086334,
          409.9441384222,
          440.87588160436667,
          499.2802866515333,
          568.8711079990334,
          602.020597139,
          739.7786245499334,
          749.1596229890333,
          846.8458569028667,
          888.3327651133667,
          715.754742528,
          685.7912672841334,
          598.3499218381334,
          612.2174932613667,
          472.8369474031333,
          516.2033960732334
         ],
         "yaxis": "y"
        },
        {
         "mode": "lines",
         "name": "Valores reales",
         "type": "scatter",
         "x": [
          "2023-07-01",
          "2023-07-02",
          "2023-07-03",
          "2023-07-04",
          "2023-07-05",
          "2023-07-06",
          "2023-07-07",
          "2023-07-08",
          "2023-07-09",
          "2023-07-10",
          "2023-07-11",
          "2023-07-12",
          "2023-07-13",
          "2023-07-14",
          "2023-07-15",
          "2023-07-16",
          "2023-07-17",
          "2023-07-18",
          "2023-07-19",
          "2023-07-20",
          "2023-07-21",
          "2023-07-22",
          "2023-07-23",
          "2023-07-24",
          "2023-07-25",
          "2023-07-26",
          "2023-07-27",
          "2023-07-28",
          "2023-07-29",
          "2023-07-30",
          "2023-07-31",
          "2023-08-01",
          "2023-08-02",
          "2023-08-03",
          "2023-08-04",
          "2023-08-05",
          "2023-08-06",
          "2023-08-07",
          "2023-08-08",
          "2023-08-09",
          "2023-08-10",
          "2023-08-11",
          "2023-08-12",
          "2023-08-13",
          "2023-08-14",
          "2023-08-15",
          "2023-08-16",
          "2023-08-17",
          "2023-08-18",
          "2023-08-19",
          "2023-08-20",
          "2023-08-21",
          "2023-08-22",
          "2023-08-23",
          "2023-08-24",
          "2023-08-25",
          "2023-08-26",
          "2023-08-27",
          "2023-08-28",
          "2023-08-29",
          "2023-08-30",
          "2023-08-31",
          "2023-09-01",
          "2023-09-02",
          "2023-09-03",
          "2023-09-04",
          "2023-09-05",
          "2023-09-06",
          "2023-09-07",
          "2023-09-08",
          "2023-09-09",
          "2023-09-10",
          "2023-09-11",
          "2023-09-12",
          "2023-09-13",
          "2023-09-14",
          "2023-09-15",
          "2023-09-16",
          "2023-09-17",
          "2023-09-18",
          "2023-09-19",
          "2023-09-20",
          "2023-09-21",
          "2023-09-22",
          "2023-09-23",
          "2023-09-24",
          "2023-09-25",
          "2023-09-26",
          "2023-09-27",
          "2023-09-28",
          "2023-09-29",
          "2023-09-30"
         ],
         "y": [
          544.7705213565667,
          550.9924406845666,
          483.6502214998334,
          553.0780864147,
          604.0613552063,
          612.6520655029666,
          561.720197503,
          511.34744451383335,
          443.2304976700333,
          464.0946349298667,
          520.6698138396333,
          558.0087941169,
          623.2256895074667,
          667.2388902573667,
          627.5580529219334,
          655.8061852985,
          607.7387937565333,
          562.4534141153,
          452.60713804463336,
          355.5250355956,
          448.7364667266666,
          343.9170169912,
          368.67011887483335,
          505.73658042333335,
          501.0301570304,
          508.31399602706665,
          543.2798406008666,
          485.3597814536333,
          502.2773802097,
          503.4671490768667,
          493.9659789703334,
          547.1345043071,
          552.4892412716,
          502.80451949393336,
          534.6192562463666,
          464.1196171028666,
          492.90175899686665,
          407.4434403267667,
          520.8159737078333,
          615.0041053912,
          672.7727046824,
          743.8591253586001,
          765.2201509364668,
          662.3748478974667,
          648.2864592554333,
          743.5988251514667,
          684.1074411735334,
          695.5571388220666,
          718.1244276738333,
          688.8797853554333,
          429.54986892410005,
          427.4197187691333,
          333.6424985433667,
          240.48830502266665,
          199.1347986239333,
          201.7994960485,
          244.67607934786668,
          182.24162300086667,
          362.57467050660006,
          557.3878632841,
          752.3462168504999,
          804.1298802825668,
          840.0535151349333,
          897.7582867515666,
          940.0739380390668,
          965.3959244287,
          980.1408900017,
          938.9837728269,
          1002.4018762710666,
          1020.1230077620334,
          1042.4125910953665,
          1040.2309244287,
          1056.0735910953665,
          1055.8125910953663,
          1057.225091095367,
          1058.2146744287,
          1059.5459244287,
          1053.5576515038,
          980.9484479552332,
          1040.0333886235,
          1046.8870506150668,
          1040.3662577620337,
          1060.2107160953667,
          1059.9921744287,
          1061.2059358995332,
          999.485316434,
          1040.8716778893331,
          1061.5271744287,
          1041.1605757635332,
          1042.7696452357,
          1030.8072240289,
          1012.2209689485334
         ]
        },
        {
         "mode": "lines",
         "name": "Valores predichos",
         "type": "scatter",
         "x": [
          "2023-07-01",
          "2023-07-02",
          "2023-07-03",
          "2023-07-04",
          "2023-07-05",
          "2023-07-06",
          "2023-07-07",
          "2023-07-08",
          "2023-07-09",
          "2023-07-10",
          "2023-07-11",
          "2023-07-12",
          "2023-07-13",
          "2023-07-14",
          "2023-07-15",
          "2023-07-16",
          "2023-07-17",
          "2023-07-18",
          "2023-07-19",
          "2023-07-20",
          "2023-07-21",
          "2023-07-22",
          "2023-07-23",
          "2023-07-24",
          "2023-07-25",
          "2023-07-26",
          "2023-07-27",
          "2023-07-28",
          "2023-07-29",
          "2023-07-30",
          "2023-07-31",
          "2023-08-01",
          "2023-08-02",
          "2023-08-03",
          "2023-08-04",
          "2023-08-05",
          "2023-08-06",
          "2023-08-07",
          "2023-08-08",
          "2023-08-09",
          "2023-08-10",
          "2023-08-11",
          "2023-08-12",
          "2023-08-13",
          "2023-08-14",
          "2023-08-15",
          "2023-08-16",
          "2023-08-17",
          "2023-08-18",
          "2023-08-19",
          "2023-08-20",
          "2023-08-21",
          "2023-08-22",
          "2023-08-23",
          "2023-08-24",
          "2023-08-25",
          "2023-08-26",
          "2023-08-27",
          "2023-08-28",
          "2023-08-29",
          "2023-08-30",
          "2023-08-31",
          "2023-09-01",
          "2023-09-02",
          "2023-09-03",
          "2023-09-04",
          "2023-09-05",
          "2023-09-06",
          "2023-09-07",
          "2023-09-08",
          "2023-09-09",
          "2023-09-10",
          "2023-09-11",
          "2023-09-12",
          "2023-09-13",
          "2023-09-14",
          "2023-09-15",
          "2023-09-16",
          "2023-09-17",
          "2023-09-18",
          "2023-09-19",
          "2023-09-20",
          "2023-09-21",
          "2023-09-22",
          "2023-09-23",
          "2023-09-24",
          "2023-09-25",
          "2023-09-26",
          "2023-09-27",
          "2023-09-28",
          "2023-09-29",
          "2023-09-30"
         ],
         "y": [
          486.42270551159186,
          545.8437917611066,
          545.9304413872322,
          468.4332446496903,
          538.0972777039589,
          610.0372867835971,
          609.5022455469353,
          545.8149070609804,
          486.74454171351624,
          419.42122076568796,
          446.80341679901005,
          521.6785727376778,
          561.528772760112,
          623.9400028794826,
          668.879540925896,
          616.8590974767003,
          636.9174542189165,
          594.2580539544588,
          536.953368994484,
          424.407967855174,
          320.81390394526363,
          435.5234360555097,
          345.82440237660944,
          348.3898736941502,
          517.6789274615857,
          516.380961022785,
          498.678921316633,
          538.1963485135075,
          476.48686148737534,
          484.64794714757795,
          497.821889891811,
          484.3297793506189,
          540.9899938241339,
          551.9023894767809,
          488.7129824884239,
          519.1024278978335,
          454.1708565695699,
          474.7601640312963,
          397.4083952910995,
          508.91894931243337,
          633.7294649196791,
          680.8696046211596,
          744.2407808416425,
          761.4205840752292,
          638.7142184487225,
          613.2481375221315,
          734.3920913273727,
          678.4614883371866,
          669.3922607724451,
          705.7851831455679,
          673.327397763853,
          387.2184009172131,
          373.9677409682773,
          320.40577138594585,
          213.4491935514933,
          180.21539180517908,
          197.4155013980939,
          251.2618151338505,
          185.91984143236743,
          368.8330984394494,
          602.3615306262855,
          791.749935139719,
          824.5565391819216,
          831.1799974341371,
          886.8029455885187,
          929.6801797563888,
          949.150622872242,
          959.0318499320103,
          910.9555654525078,
          974.2007087249561,
          1005.0152309970185,
          1018.3613051286637,
          1014.3324686908209,
          1027.2389336461354,
          1028.4317665894112,
          1027.0046282014846,
          1028.2594681699313,
          1029.4981153241094,
          1022.9354365835917,
          943.8832970541374,
          1004.2167918828878,
          1028.7714117482626,
          1011.0148912113984,
          1030.9494002240108,
          1033.1970298804176,
          1030.804681914206,
          964.3141138270928,
          1004.8834428300619,
          1041.2335528070394,
          1012.7015866818709,
          1009.4557743953713,
          1000.4654687751254
         ]
        },
        {
         "mode": "lines",
         "name": "Valores predichos -1",
         "type": "scatter",
         "x": [
          "2023-07-01",
          "2023-07-02",
          "2023-07-03",
          "2023-07-04",
          "2023-07-05",
          "2023-07-06",
          "2023-07-07",
          "2023-07-08",
          "2023-07-09",
          "2023-07-10",
          "2023-07-11",
          "2023-07-12",
          "2023-07-13",
          "2023-07-14",
          "2023-07-15",
          "2023-07-16",
          "2023-07-17",
          "2023-07-18",
          "2023-07-19",
          "2023-07-20",
          "2023-07-21",
          "2023-07-22",
          "2023-07-23",
          "2023-07-24",
          "2023-07-25",
          "2023-07-26",
          "2023-07-27",
          "2023-07-28",
          "2023-07-29",
          "2023-07-30",
          "2023-07-31",
          "2023-08-01",
          "2023-08-02",
          "2023-08-03",
          "2023-08-04",
          "2023-08-05",
          "2023-08-06",
          "2023-08-07",
          "2023-08-08",
          "2023-08-09",
          "2023-08-10",
          "2023-08-11",
          "2023-08-12",
          "2023-08-13",
          "2023-08-14",
          "2023-08-15",
          "2023-08-16",
          "2023-08-17",
          "2023-08-18",
          "2023-08-19",
          "2023-08-20",
          "2023-08-21",
          "2023-08-22",
          "2023-08-23",
          "2023-08-24",
          "2023-08-25",
          "2023-08-26",
          "2023-08-27",
          "2023-08-28",
          "2023-08-29",
          "2023-08-30",
          "2023-08-31",
          "2023-09-01",
          "2023-09-02",
          "2023-09-03",
          "2023-09-04",
          "2023-09-05",
          "2023-09-06",
          "2023-09-07",
          "2023-09-08",
          "2023-09-09",
          "2023-09-10",
          "2023-09-11",
          "2023-09-12",
          "2023-09-13",
          "2023-09-14",
          "2023-09-15",
          "2023-09-16",
          "2023-09-17",
          "2023-09-18",
          "2023-09-19",
          "2023-09-20",
          "2023-09-21",
          "2023-09-22",
          "2023-09-23",
          "2023-09-24",
          "2023-09-25",
          "2023-09-26",
          "2023-09-27",
          "2023-09-28",
          "2023-09-29",
          "2023-09-30"
         ],
         "y": [
          545.8437917611066,
          545.9304413872322,
          468.4332446496903,
          538.0972777039589,
          610.0372867835971,
          609.5022455469353,
          545.8149070609804,
          486.74454171351624,
          419.42122076568796,
          446.80341679901005,
          521.6785727376778,
          561.528772760112,
          623.9400028794826,
          668.879540925896,
          616.8590974767003,
          636.9174542189165,
          594.2580539544588,
          536.953368994484,
          424.407967855174,
          320.81390394526363,
          435.5234360555097,
          345.82440237660944,
          348.3898736941502,
          517.6789274615857,
          516.380961022785,
          498.678921316633,
          538.1963485135075,
          476.48686148737534,
          484.64794714757795,
          497.821889891811,
          484.3297793506189,
          540.9899938241339,
          551.9023894767809,
          488.7129824884239,
          519.1024278978335,
          454.1708565695699,
          474.7601640312963,
          397.4083952910995,
          508.91894931243337,
          633.7294649196791,
          680.8696046211596,
          744.2407808416425,
          761.4205840752292,
          638.7142184487225,
          613.2481375221315,
          734.3920913273727,
          678.4614883371866,
          669.3922607724451,
          705.7851831455679,
          673.327397763853,
          387.2184009172131,
          373.9677409682773,
          320.40577138594585,
          213.4491935514933,
          180.21539180517908,
          197.4155013980939,
          251.2618151338505,
          185.91984143236743,
          368.8330984394494,
          602.3615306262855,
          791.749935139719,
          824.5565391819216,
          831.1799974341371,
          886.8029455885187,
          929.6801797563888,
          949.150622872242,
          959.0318499320103,
          910.9555654525078,
          974.2007087249561,
          1005.0152309970185,
          1018.3613051286637,
          1014.3324686908209,
          1027.2389336461354,
          1028.4317665894112,
          1027.0046282014846,
          1028.2594681699313,
          1029.4981153241094,
          1022.9354365835917,
          943.8832970541374,
          1004.2167918828878,
          1028.7714117482626,
          1011.0148912113984,
          1030.9494002240108,
          1033.1970298804176,
          1030.804681914206,
          964.3141138270928,
          1004.8834428300619,
          1041.2335528070394,
          1012.7015866818709,
          1009.4557743953713,
          1000.4654687751254
         ]
        }
       ],
       "layout": {
        "legend": {
         "tracegroupgap": 0
        },
        "template": {
         "data": {
          "bar": [
           {
            "error_x": {
             "color": "#2a3f5f"
            },
            "error_y": {
             "color": "#2a3f5f"
            },
            "marker": {
             "line": {
              "color": "#E5ECF6",
              "width": 0.5
             },
             "pattern": {
              "fillmode": "overlay",
              "size": 10,
              "solidity": 0.2
             }
            },
            "type": "bar"
           }
          ],
          "barpolar": [
           {
            "marker": {
             "line": {
              "color": "#E5ECF6",
              "width": 0.5
             },
             "pattern": {
              "fillmode": "overlay",
              "size": 10,
              "solidity": 0.2
             }
            },
            "type": "barpolar"
           }
          ],
          "carpet": [
           {
            "aaxis": {
             "endlinecolor": "#2a3f5f",
             "gridcolor": "white",
             "linecolor": "white",
             "minorgridcolor": "white",
             "startlinecolor": "#2a3f5f"
            },
            "baxis": {
             "endlinecolor": "#2a3f5f",
             "gridcolor": "white",
             "linecolor": "white",
             "minorgridcolor": "white",
             "startlinecolor": "#2a3f5f"
            },
            "type": "carpet"
           }
          ],
          "choropleth": [
           {
            "colorbar": {
             "outlinewidth": 0,
             "ticks": ""
            },
            "type": "choropleth"
           }
          ],
          "contour": [
           {
            "colorbar": {
             "outlinewidth": 0,
             "ticks": ""
            },
            "colorscale": [
             [
              0,
              "#0d0887"
             ],
             [
              0.1111111111111111,
              "#46039f"
             ],
             [
              0.2222222222222222,
              "#7201a8"
             ],
             [
              0.3333333333333333,
              "#9c179e"
             ],
             [
              0.4444444444444444,
              "#bd3786"
             ],
             [
              0.5555555555555556,
              "#d8576b"
             ],
             [
              0.6666666666666666,
              "#ed7953"
             ],
             [
              0.7777777777777778,
              "#fb9f3a"
             ],
             [
              0.8888888888888888,
              "#fdca26"
             ],
             [
              1,
              "#f0f921"
             ]
            ],
            "type": "contour"
           }
          ],
          "contourcarpet": [
           {
            "colorbar": {
             "outlinewidth": 0,
             "ticks": ""
            },
            "type": "contourcarpet"
           }
          ],
          "heatmap": [
           {
            "colorbar": {
             "outlinewidth": 0,
             "ticks": ""
            },
            "colorscale": [
             [
              0,
              "#0d0887"
             ],
             [
              0.1111111111111111,
              "#46039f"
             ],
             [
              0.2222222222222222,
              "#7201a8"
             ],
             [
              0.3333333333333333,
              "#9c179e"
             ],
             [
              0.4444444444444444,
              "#bd3786"
             ],
             [
              0.5555555555555556,
              "#d8576b"
             ],
             [
              0.6666666666666666,
              "#ed7953"
             ],
             [
              0.7777777777777778,
              "#fb9f3a"
             ],
             [
              0.8888888888888888,
              "#fdca26"
             ],
             [
              1,
              "#f0f921"
             ]
            ],
            "type": "heatmap"
           }
          ],
          "heatmapgl": [
           {
            "colorbar": {
             "outlinewidth": 0,
             "ticks": ""
            },
            "colorscale": [
             [
              0,
              "#0d0887"
             ],
             [
              0.1111111111111111,
              "#46039f"
             ],
             [
              0.2222222222222222,
              "#7201a8"
             ],
             [
              0.3333333333333333,
              "#9c179e"
             ],
             [
              0.4444444444444444,
              "#bd3786"
             ],
             [
              0.5555555555555556,
              "#d8576b"
             ],
             [
              0.6666666666666666,
              "#ed7953"
             ],
             [
              0.7777777777777778,
              "#fb9f3a"
             ],
             [
              0.8888888888888888,
              "#fdca26"
             ],
             [
              1,
              "#f0f921"
             ]
            ],
            "type": "heatmapgl"
           }
          ],
          "histogram": [
           {
            "marker": {
             "pattern": {
              "fillmode": "overlay",
              "size": 10,
              "solidity": 0.2
             }
            },
            "type": "histogram"
           }
          ],
          "histogram2d": [
           {
            "colorbar": {
             "outlinewidth": 0,
             "ticks": ""
            },
            "colorscale": [
             [
              0,
              "#0d0887"
             ],
             [
              0.1111111111111111,
              "#46039f"
             ],
             [
              0.2222222222222222,
              "#7201a8"
             ],
             [
              0.3333333333333333,
              "#9c179e"
             ],
             [
              0.4444444444444444,
              "#bd3786"
             ],
             [
              0.5555555555555556,
              "#d8576b"
             ],
             [
              0.6666666666666666,
              "#ed7953"
             ],
             [
              0.7777777777777778,
              "#fb9f3a"
             ],
             [
              0.8888888888888888,
              "#fdca26"
             ],
             [
              1,
              "#f0f921"
             ]
            ],
            "type": "histogram2d"
           }
          ],
          "histogram2dcontour": [
           {
            "colorbar": {
             "outlinewidth": 0,
             "ticks": ""
            },
            "colorscale": [
             [
              0,
              "#0d0887"
             ],
             [
              0.1111111111111111,
              "#46039f"
             ],
             [
              0.2222222222222222,
              "#7201a8"
             ],
             [
              0.3333333333333333,
              "#9c179e"
             ],
             [
              0.4444444444444444,
              "#bd3786"
             ],
             [
              0.5555555555555556,
              "#d8576b"
             ],
             [
              0.6666666666666666,
              "#ed7953"
             ],
             [
              0.7777777777777778,
              "#fb9f3a"
             ],
             [
              0.8888888888888888,
              "#fdca26"
             ],
             [
              1,
              "#f0f921"
             ]
            ],
            "type": "histogram2dcontour"
           }
          ],
          "mesh3d": [
           {
            "colorbar": {
             "outlinewidth": 0,
             "ticks": ""
            },
            "type": "mesh3d"
           }
          ],
          "parcoords": [
           {
            "line": {
             "colorbar": {
              "outlinewidth": 0,
              "ticks": ""
             }
            },
            "type": "parcoords"
           }
          ],
          "pie": [
           {
            "automargin": true,
            "type": "pie"
           }
          ],
          "scatter": [
           {
            "fillpattern": {
             "fillmode": "overlay",
             "size": 10,
             "solidity": 0.2
            },
            "type": "scatter"
           }
          ],
          "scatter3d": [
           {
            "line": {
             "colorbar": {
              "outlinewidth": 0,
              "ticks": ""
             }
            },
            "marker": {
             "colorbar": {
              "outlinewidth": 0,
              "ticks": ""
             }
            },
            "type": "scatter3d"
           }
          ],
          "scattercarpet": [
           {
            "marker": {
             "colorbar": {
              "outlinewidth": 0,
              "ticks": ""
             }
            },
            "type": "scattercarpet"
           }
          ],
          "scattergeo": [
           {
            "marker": {
             "colorbar": {
              "outlinewidth": 0,
              "ticks": ""
             }
            },
            "type": "scattergeo"
           }
          ],
          "scattergl": [
           {
            "marker": {
             "colorbar": {
              "outlinewidth": 0,
              "ticks": ""
             }
            },
            "type": "scattergl"
           }
          ],
          "scattermapbox": [
           {
            "marker": {
             "colorbar": {
              "outlinewidth": 0,
              "ticks": ""
             }
            },
            "type": "scattermapbox"
           }
          ],
          "scatterpolar": [
           {
            "marker": {
             "colorbar": {
              "outlinewidth": 0,
              "ticks": ""
             }
            },
            "type": "scatterpolar"
           }
          ],
          "scatterpolargl": [
           {
            "marker": {
             "colorbar": {
              "outlinewidth": 0,
              "ticks": ""
             }
            },
            "type": "scatterpolargl"
           }
          ],
          "scatterternary": [
           {
            "marker": {
             "colorbar": {
              "outlinewidth": 0,
              "ticks": ""
             }
            },
            "type": "scatterternary"
           }
          ],
          "surface": [
           {
            "colorbar": {
             "outlinewidth": 0,
             "ticks": ""
            },
            "colorscale": [
             [
              0,
              "#0d0887"
             ],
             [
              0.1111111111111111,
              "#46039f"
             ],
             [
              0.2222222222222222,
              "#7201a8"
             ],
             [
              0.3333333333333333,
              "#9c179e"
             ],
             [
              0.4444444444444444,
              "#bd3786"
             ],
             [
              0.5555555555555556,
              "#d8576b"
             ],
             [
              0.6666666666666666,
              "#ed7953"
             ],
             [
              0.7777777777777778,
              "#fb9f3a"
             ],
             [
              0.8888888888888888,
              "#fdca26"
             ],
             [
              1,
              "#f0f921"
             ]
            ],
            "type": "surface"
           }
          ],
          "table": [
           {
            "cells": {
             "fill": {
              "color": "#EBF0F8"
             },
             "line": {
              "color": "white"
             }
            },
            "header": {
             "fill": {
              "color": "#C8D4E3"
             },
             "line": {
              "color": "white"
             }
            },
            "type": "table"
           }
          ]
         },
         "layout": {
          "annotationdefaults": {
           "arrowcolor": "#2a3f5f",
           "arrowhead": 0,
           "arrowwidth": 1
          },
          "autotypenumbers": "strict",
          "coloraxis": {
           "colorbar": {
            "outlinewidth": 0,
            "ticks": ""
           }
          },
          "colorscale": {
           "diverging": [
            [
             0,
             "#8e0152"
            ],
            [
             0.1,
             "#c51b7d"
            ],
            [
             0.2,
             "#de77ae"
            ],
            [
             0.3,
             "#f1b6da"
            ],
            [
             0.4,
             "#fde0ef"
            ],
            [
             0.5,
             "#f7f7f7"
            ],
            [
             0.6,
             "#e6f5d0"
            ],
            [
             0.7,
             "#b8e186"
            ],
            [
             0.8,
             "#7fbc41"
            ],
            [
             0.9,
             "#4d9221"
            ],
            [
             1,
             "#276419"
            ]
           ],
           "sequential": [
            [
             0,
             "#0d0887"
            ],
            [
             0.1111111111111111,
             "#46039f"
            ],
            [
             0.2222222222222222,
             "#7201a8"
            ],
            [
             0.3333333333333333,
             "#9c179e"
            ],
            [
             0.4444444444444444,
             "#bd3786"
            ],
            [
             0.5555555555555556,
             "#d8576b"
            ],
            [
             0.6666666666666666,
             "#ed7953"
            ],
            [
             0.7777777777777778,
             "#fb9f3a"
            ],
            [
             0.8888888888888888,
             "#fdca26"
            ],
            [
             1,
             "#f0f921"
            ]
           ],
           "sequentialminus": [
            [
             0,
             "#0d0887"
            ],
            [
             0.1111111111111111,
             "#46039f"
            ],
            [
             0.2222222222222222,
             "#7201a8"
            ],
            [
             0.3333333333333333,
             "#9c179e"
            ],
            [
             0.4444444444444444,
             "#bd3786"
            ],
            [
             0.5555555555555556,
             "#d8576b"
            ],
            [
             0.6666666666666666,
             "#ed7953"
            ],
            [
             0.7777777777777778,
             "#fb9f3a"
            ],
            [
             0.8888888888888888,
             "#fdca26"
            ],
            [
             1,
             "#f0f921"
            ]
           ]
          },
          "colorway": [
           "#636efa",
           "#EF553B",
           "#00cc96",
           "#ab63fa",
           "#FFA15A",
           "#19d3f3",
           "#FF6692",
           "#B6E880",
           "#FF97FF",
           "#FECB52"
          ],
          "font": {
           "color": "#2a3f5f"
          },
          "geo": {
           "bgcolor": "white",
           "lakecolor": "white",
           "landcolor": "#E5ECF6",
           "showlakes": true,
           "showland": true,
           "subunitcolor": "white"
          },
          "hoverlabel": {
           "align": "left"
          },
          "hovermode": "closest",
          "mapbox": {
           "style": "light"
          },
          "paper_bgcolor": "white",
          "plot_bgcolor": "#E5ECF6",
          "polar": {
           "angularaxis": {
            "gridcolor": "white",
            "linecolor": "white",
            "ticks": ""
           },
           "bgcolor": "#E5ECF6",
           "radialaxis": {
            "gridcolor": "white",
            "linecolor": "white",
            "ticks": ""
           }
          },
          "scene": {
           "xaxis": {
            "backgroundcolor": "#E5ECF6",
            "gridcolor": "white",
            "gridwidth": 2,
            "linecolor": "white",
            "showbackground": true,
            "ticks": "",
            "zerolinecolor": "white"
           },
           "yaxis": {
            "backgroundcolor": "#E5ECF6",
            "gridcolor": "white",
            "gridwidth": 2,
            "linecolor": "white",
            "showbackground": true,
            "ticks": "",
            "zerolinecolor": "white"
           },
           "zaxis": {
            "backgroundcolor": "#E5ECF6",
            "gridcolor": "white",
            "gridwidth": 2,
            "linecolor": "white",
            "showbackground": true,
            "ticks": "",
            "zerolinecolor": "white"
           }
          },
          "shapedefaults": {
           "line": {
            "color": "#2a3f5f"
           }
          },
          "ternary": {
           "aaxis": {
            "gridcolor": "white",
            "linecolor": "white",
            "ticks": ""
           },
           "baxis": {
            "gridcolor": "white",
            "linecolor": "white",
            "ticks": ""
           },
           "bgcolor": "#E5ECF6",
           "caxis": {
            "gridcolor": "white",
            "linecolor": "white",
            "ticks": ""
           }
          },
          "title": {
           "x": 0.05
          },
          "xaxis": {
           "automargin": true,
           "gridcolor": "white",
           "linecolor": "white",
           "ticks": "",
           "title": {
            "standoff": 15
           },
           "zerolinecolor": "white",
           "zerolinewidth": 2
          },
          "yaxis": {
           "automargin": true,
           "gridcolor": "white",
           "linecolor": "white",
           "ticks": "",
           "title": {
            "standoff": 15
           },
           "zerolinecolor": "white",
           "zerolinewidth": 2
          }
         }
        },
        "title": {
         "text": "Forecasting of Energy Price with Regularizated MLR with 4 lags"
        },
        "xaxis": {
         "anchor": "y",
         "domain": [
          0,
          1
         ],
         "title": {
          "text": "Date"
         }
        },
        "yaxis": {
         "anchor": "x",
         "domain": [
          0,
          1
         ],
         "title": {
          "text": "Average Energy Price"
         }
        }
       }
      }
     },
     "metadata": {},
     "output_type": "display_data"
    }
   ],
   "source": [
    "fig_lag4 = px.line(\n",
    "    x=X_train_dates,\n",
    "    y=y_train,\n",
    "    title=\"Forecasting of Energy Price with Regularizated MLR with 4 lags\",\n",
    ")\n",
    "fig_lag4.update_layout(xaxis_title=\"Date\", yaxis_title=\"Average Energy Price\")\n",
    "fig_lag4.add_trace(\n",
    "    go.Scatter(x=X_test_dates, y=y_test, mode=\"lines\", name=\"Valores reales\")\n",
    ")\n",
    "fig_lag4.add_trace(\n",
    "    go.Scatter(x=X_test_dates, y=y_pred, mode=\"lines\", name=\"Valores predichos\")\n",
    ")\n",
    "fig_lag4.add_trace(\n",
    "    go.Scatter(x=X_test_dates, y=y_pred_1, mode=\"lines\", name=\"Valores predichos -1\")\n",
    ")\n",
    "fig_lag4.show()"
   ]
  }
 ],
 "metadata": {
  "kernelspec": {
   "display_name": "Proyecto-Integrador-Semestre1-ERzOjjfT",
   "language": "python",
   "name": "python3"
  },
  "language_info": {
   "codemirror_mode": {
    "name": "ipython",
    "version": 3
   },
   "file_extension": ".py",
   "mimetype": "text/x-python",
   "name": "python",
   "nbconvert_exporter": "python",
   "pygments_lexer": "ipython3",
   "version": "3.11.5"
  }
 },
 "nbformat": 4,
 "nbformat_minor": 2
}
