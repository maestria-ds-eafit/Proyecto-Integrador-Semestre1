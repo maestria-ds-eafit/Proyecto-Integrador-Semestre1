{
 "cells": [
  {
   "cell_type": "code",
   "execution_count": 9,
   "metadata": {},
   "outputs": [],
   "source": [
    "import sys\n",
    "\n",
    "sys.path.insert(0, \"..\")"
   ]
  },
  {
   "cell_type": "code",
   "execution_count": 10,
   "metadata": {},
   "outputs": [],
   "source": [
    "from lasso_mlr import perform_lasso_mlr\n",
    "import pandas as pd\n",
    "import plotly.graph_objects as go\n",
    "import plotly.express as px"
   ]
  },
  {
   "cell_type": "code",
   "execution_count": 11,
   "metadata": {},
   "outputs": [
    {
     "data": {
      "text/html": [
       "<div>\n",
       "<style scoped>\n",
       "    .dataframe tbody tr th:only-of-type {\n",
       "        vertical-align: middle;\n",
       "    }\n",
       "\n",
       "    .dataframe tbody tr th {\n",
       "        vertical-align: top;\n",
       "    }\n",
       "\n",
       "    .dataframe thead th {\n",
       "        text-align: right;\n",
       "    }\n",
       "</style>\n",
       "<table border=\"1\" class=\"dataframe\">\n",
       "  <thead>\n",
       "    <tr style=\"text-align: right;\">\n",
       "      <th></th>\n",
       "      <th>precipitacion_amazonas</th>\n",
       "      <th>precipitacion_arauca</th>\n",
       "      <th>precipitacion_atlantico</th>\n",
       "      <th>precipitacion_bogota</th>\n",
       "      <th>precipitacion_bolivar</th>\n",
       "      <th>precipitacion_caqueta</th>\n",
       "      <th>precipitacion_casanare</th>\n",
       "      <th>precipitacion_cesar</th>\n",
       "      <th>precipitacion_choco</th>\n",
       "      <th>precipitacion_guainia</th>\n",
       "      <th>...</th>\n",
       "      <th>temp_ARCHIPIELAGO DE SAN ANDRES PROVIDENCIA Y SANTA CATALINA</th>\n",
       "      <th>temp_CAQUETA</th>\n",
       "      <th>temp_CHOCO</th>\n",
       "      <th>temp_NARINO</th>\n",
       "      <th>temp_VICHADA</th>\n",
       "      <th>temp_avg_represas</th>\n",
       "      <th>brent_value</th>\n",
       "      <th>TRM</th>\n",
       "      <th>Date</th>\n",
       "      <th>energy_price</th>\n",
       "    </tr>\n",
       "  </thead>\n",
       "  <tbody>\n",
       "    <tr>\n",
       "      <th>0</th>\n",
       "      <td>-0.509005</td>\n",
       "      <td>0.759339</td>\n",
       "      <td>0.139390</td>\n",
       "      <td>-0.557688</td>\n",
       "      <td>4.888002</td>\n",
       "      <td>-0.530775</td>\n",
       "      <td>-0.284457</td>\n",
       "      <td>-0.030483</td>\n",
       "      <td>0.599807</td>\n",
       "      <td>-0.518613</td>\n",
       "      <td>...</td>\n",
       "      <td>0.940739</td>\n",
       "      <td>0.503965</td>\n",
       "      <td>0.994447</td>\n",
       "      <td>1.267949</td>\n",
       "      <td>0.323702</td>\n",
       "      <td>-0.114337</td>\n",
       "      <td>-0.917312</td>\n",
       "      <td>-1.339552</td>\n",
       "      <td>2021-10-01</td>\n",
       "      <td>216.929726</td>\n",
       "    </tr>\n",
       "    <tr>\n",
       "      <th>1</th>\n",
       "      <td>-0.593583</td>\n",
       "      <td>1.622908</td>\n",
       "      <td>-0.161734</td>\n",
       "      <td>-0.569948</td>\n",
       "      <td>5.703726</td>\n",
       "      <td>-0.437031</td>\n",
       "      <td>-0.355927</td>\n",
       "      <td>0.273823</td>\n",
       "      <td>1.312841</td>\n",
       "      <td>-0.217009</td>\n",
       "      <td>...</td>\n",
       "      <td>0.864493</td>\n",
       "      <td>0.594068</td>\n",
       "      <td>0.773896</td>\n",
       "      <td>1.044002</td>\n",
       "      <td>1.159376</td>\n",
       "      <td>0.619803</td>\n",
       "      <td>-0.917312</td>\n",
       "      <td>-1.423606</td>\n",
       "      <td>2021-10-02</td>\n",
       "      <td>256.940174</td>\n",
       "    </tr>\n",
       "    <tr>\n",
       "      <th>2</th>\n",
       "      <td>-0.538867</td>\n",
       "      <td>1.559410</td>\n",
       "      <td>-0.248126</td>\n",
       "      <td>-0.567816</td>\n",
       "      <td>3.445073</td>\n",
       "      <td>-0.527751</td>\n",
       "      <td>-0.198452</td>\n",
       "      <td>-0.324530</td>\n",
       "      <td>0.818475</td>\n",
       "      <td>-0.402611</td>\n",
       "      <td>...</td>\n",
       "      <td>0.902616</td>\n",
       "      <td>0.670510</td>\n",
       "      <td>1.083718</td>\n",
       "      <td>1.926640</td>\n",
       "      <td>1.159376</td>\n",
       "      <td>0.950203</td>\n",
       "      <td>-0.917312</td>\n",
       "      <td>-1.423606</td>\n",
       "      <td>2021-10-03</td>\n",
       "      <td>282.065065</td>\n",
       "    </tr>\n",
       "    <tr>\n",
       "      <th>3</th>\n",
       "      <td>-0.580600</td>\n",
       "      <td>1.718155</td>\n",
       "      <td>-0.183251</td>\n",
       "      <td>-0.287443</td>\n",
       "      <td>3.802742</td>\n",
       "      <td>-0.300951</td>\n",
       "      <td>0.339387</td>\n",
       "      <td>-0.336497</td>\n",
       "      <td>0.724237</td>\n",
       "      <td>-0.472212</td>\n",
       "      <td>...</td>\n",
       "      <td>0.063912</td>\n",
       "      <td>0.470931</td>\n",
       "      <td>1.293766</td>\n",
       "      <td>1.612333</td>\n",
       "      <td>0.057805</td>\n",
       "      <td>0.723472</td>\n",
       "      <td>-0.761153</td>\n",
       "      <td>-1.423606</td>\n",
       "      <td>2021-10-04</td>\n",
       "      <td>286.526116</td>\n",
       "    </tr>\n",
       "    <tr>\n",
       "      <th>4</th>\n",
       "      <td>0.016831</td>\n",
       "      <td>2.981760</td>\n",
       "      <td>0.521690</td>\n",
       "      <td>-0.560886</td>\n",
       "      <td>0.362265</td>\n",
       "      <td>0.158697</td>\n",
       "      <td>-0.180160</td>\n",
       "      <td>0.179796</td>\n",
       "      <td>0.586998</td>\n",
       "      <td>-0.565013</td>\n",
       "      <td>...</td>\n",
       "      <td>0.407018</td>\n",
       "      <td>-0.016688</td>\n",
       "      <td>-0.418129</td>\n",
       "      <td>0.717358</td>\n",
       "      <td>-0.701899</td>\n",
       "      <td>-0.197147</td>\n",
       "      <td>-0.614059</td>\n",
       "      <td>-1.411032</td>\n",
       "      <td>2021-10-05</td>\n",
       "      <td>278.157325</td>\n",
       "    </tr>\n",
       "  </tbody>\n",
       "</table>\n",
       "<p>5 rows × 34 columns</p>\n",
       "</div>"
      ],
      "text/plain": [
       "   precipitacion_amazonas  precipitacion_arauca  precipitacion_atlantico  \\\n",
       "0               -0.509005              0.759339                 0.139390   \n",
       "1               -0.593583              1.622908                -0.161734   \n",
       "2               -0.538867              1.559410                -0.248126   \n",
       "3               -0.580600              1.718155                -0.183251   \n",
       "4                0.016831              2.981760                 0.521690   \n",
       "\n",
       "   precipitacion_bogota  precipitacion_bolivar  precipitacion_caqueta  \\\n",
       "0             -0.557688               4.888002              -0.530775   \n",
       "1             -0.569948               5.703726              -0.437031   \n",
       "2             -0.567816               3.445073              -0.527751   \n",
       "3             -0.287443               3.802742              -0.300951   \n",
       "4             -0.560886               0.362265               0.158697   \n",
       "\n",
       "   precipitacion_casanare  precipitacion_cesar  precipitacion_choco  \\\n",
       "0               -0.284457            -0.030483             0.599807   \n",
       "1               -0.355927             0.273823             1.312841   \n",
       "2               -0.198452            -0.324530             0.818475   \n",
       "3                0.339387            -0.336497             0.724237   \n",
       "4               -0.180160             0.179796             0.586998   \n",
       "\n",
       "   precipitacion_guainia  ...  \\\n",
       "0              -0.518613  ...   \n",
       "1              -0.217009  ...   \n",
       "2              -0.402611  ...   \n",
       "3              -0.472212  ...   \n",
       "4              -0.565013  ...   \n",
       "\n",
       "   temp_ARCHIPIELAGO DE SAN ANDRES PROVIDENCIA Y SANTA CATALINA  temp_CAQUETA  \\\n",
       "0                                           0.940739                 0.503965   \n",
       "1                                           0.864493                 0.594068   \n",
       "2                                           0.902616                 0.670510   \n",
       "3                                           0.063912                 0.470931   \n",
       "4                                           0.407018                -0.016688   \n",
       "\n",
       "   temp_CHOCO  temp_NARINO  temp_VICHADA  temp_avg_represas  brent_value  \\\n",
       "0    0.994447     1.267949      0.323702          -0.114337    -0.917312   \n",
       "1    0.773896     1.044002      1.159376           0.619803    -0.917312   \n",
       "2    1.083718     1.926640      1.159376           0.950203    -0.917312   \n",
       "3    1.293766     1.612333      0.057805           0.723472    -0.761153   \n",
       "4   -0.418129     0.717358     -0.701899          -0.197147    -0.614059   \n",
       "\n",
       "        TRM        Date  energy_price  \n",
       "0 -1.339552  2021-10-01    216.929726  \n",
       "1 -1.423606  2021-10-02    256.940174  \n",
       "2 -1.423606  2021-10-03    282.065065  \n",
       "3 -1.423606  2021-10-04    286.526116  \n",
       "4 -1.411032  2021-10-05    278.157325  \n",
       "\n",
       "[5 rows x 34 columns]"
      ]
     },
     "execution_count": 11,
     "metadata": {},
     "output_type": "execute_result"
    }
   ],
   "source": [
    "df = pd.read_csv(\"../../processed_tables/merged_without_lags_represas_criterio.csv\")\n",
    "df.head()"
   ]
  },
  {
   "cell_type": "markdown",
   "metadata": {},
   "source": [
    "## Regresión lineal con Lasso\n",
    "\n",
    "Esta vez utilizaremos `sklearn` para hacer la regresión Lasso y poder ver qué coeficientes son cero. Adicionalmente, se va a revisar cuál es el valor óptimo para el número de lags del modelo.\n"
   ]
  },
  {
   "cell_type": "code",
   "execution_count": 12,
   "metadata": {},
   "outputs": [
    {
     "name": "stdout",
     "output_type": "stream",
     "text": [
      "Lags: 1\n",
      "Best parameters found: {'alpha': 4.281332398719396}\n",
      "Best cross-validation score: 0.9361042064920715\n",
      "Mean Squared Error on Test Data: 4630.277545452998\n",
      "Mean Absolute Percentage Error on Test Data: 0.09776550217291956\n",
      "precipitacion_meta: -1.0985842759564806\n",
      "temp_avg_represas: 1.8171824485455155\n",
      "energy_price_lag_1: 0.9693162391920747\n",
      "-----------------------\n",
      "Lags: 2\n",
      "Best parameters found: {'alpha': 4.281332398719396}\n",
      "Best cross-validation score: 0.93032768231703\n",
      "Mean Squared Error on Test Data: 4478.742557931561\n",
      "Mean Absolute Percentage Error on Test Data: 0.09813590906094909\n",
      "precipitacion_meta: -1.1302965935109013\n",
      "temp_avg_represas: 1.5823170542938891\n",
      "energy_price_lag_1: 1.0975861482566\n",
      "energy_price_lag_2: -0.1319605219342509\n",
      "-----------------------\n",
      "Lags: 3\n",
      "Best parameters found: {'alpha': 4.281332398719396}\n",
      "Best cross-validation score: 0.9406776374291278\n",
      "Mean Squared Error on Test Data: 4455.019598639417\n",
      "Mean Absolute Percentage Error on Test Data: 0.09599010577558753\n",
      "precipitacion_meta: -0.6476633883494876\n",
      "temp_avg_represas: 2.0545174969672444\n",
      "energy_price_lag_1: 1.0750939008205196\n",
      "energy_price_lag_2: 0.0658935963503055\n",
      "energy_price_lag_3: -0.18244362476272136\n",
      "-----------------------\n",
      "Lags: 4\n",
      "Best parameters found: {'alpha': 4.281332398719396}\n",
      "Best cross-validation score: 0.9430055760185592\n",
      "Mean Squared Error on Test Data: 4454.757889488515\n",
      "Mean Absolute Percentage Error on Test Data: 0.09598914073607966\n",
      "precipitacion_meta: -0.6492039475952551\n",
      "temp_avg_represas: 2.0752349022665033\n",
      "energy_price_lag_1: 1.0756034678724657\n",
      "energy_price_lag_2: 0.06596607491660796\n",
      "energy_price_lag_3: -0.1843891941358507\n",
      "energy_price_lag_4: 0.0013896635773296456\n",
      "-----------------------\n",
      "Lags: 5\n",
      "Best parameters found: {'alpha': 4.281332398719396}\n",
      "Best cross-validation score: 0.9444521884358409\n",
      "Mean Squared Error on Test Data: 4514.596814695543\n",
      "Mean Absolute Percentage Error on Test Data: 0.09664590549205332\n",
      "precipitacion_meta: -0.6233362928182872\n",
      "temp_avg_represas: 2.2787422038213156\n",
      "energy_price_lag_1: 1.0751594368855344\n",
      "energy_price_lag_2: 0.05250157103512483\n",
      "energy_price_lag_3: -0.1809007535266236\n",
      "energy_price_lag_4: 0.09068496027807635\n",
      "energy_price_lag_5: -0.0827344450078104\n",
      "-----------------------\n",
      "Lags: 6\n",
      "Best parameters found: {'alpha': 206.913808111479}\n",
      "Best cross-validation score: 0.9408324915300467\n",
      "Mean Squared Error on Test Data: 4727.374376403668\n",
      "Mean Absolute Percentage Error on Test Data: 0.09943560997800151\n",
      "energy_price_lag_1: 1.0059602582107818\n",
      "energy_price_lag_5: -0.031154062005820955\n",
      "energy_price_lag_6: -0.018474520956151822\n",
      "-----------------------\n",
      "Lags: 7\n",
      "Best parameters found: {'alpha': 4.281332398719396}\n",
      "Best cross-validation score: 0.9433699730998366\n",
      "Mean Squared Error on Test Data: 4569.670945823458\n",
      "Mean Absolute Percentage Error on Test Data: 0.09732591968207426\n",
      "precipitacion_meta: -0.5323034247100181\n",
      "temp_avg_represas: 2.4789117466358714\n",
      "energy_price_lag_1: 1.0717956595327887\n",
      "energy_price_lag_2: 0.055788762425940885\n",
      "energy_price_lag_3: -0.18466446205906972\n",
      "energy_price_lag_4: 0.09224266707172861\n",
      "energy_price_lag_5: -0.056488861155581\n",
      "energy_price_lag_6: -0.022858027683143288\n",
      "energy_price_lag_7: -0.0027474374794462545\n",
      "-----------------------\n",
      "Lags: 8\n",
      "Best parameters found: {'alpha': 4.281332398719396}\n",
      "Best cross-validation score: 0.9444516392046622\n",
      "Mean Squared Error on Test Data: 4629.380463647532\n",
      "Mean Absolute Percentage Error on Test Data: 0.09847668136930564\n",
      "precipitacion_meta: -0.8315328307661604\n",
      "temp_avg_represas: 2.7515668724106823\n",
      "energy_price_lag_1: 1.0713111737963288\n",
      "energy_price_lag_2: 0.05149556015825863\n",
      "energy_price_lag_3: -0.18624705886566587\n",
      "energy_price_lag_4: 0.09835183626974606\n",
      "energy_price_lag_5: -0.0718128600117939\n",
      "energy_price_lag_6: -0.01515344405130974\n",
      "energy_price_lag_7: 0.09813020864788112\n",
      "energy_price_lag_8: -0.09897099694588823\n",
      "-----------------------\n",
      "Lags: 9\n",
      "Best parameters found: {'alpha': 4.281332398719396}\n",
      "Best cross-validation score: 0.9449412509775061\n",
      "Mean Squared Error on Test Data: 4551.458896811297\n",
      "Mean Absolute Percentage Error on Test Data: 0.09751130577092539\n",
      "precipitacion_meta: -0.7358438091196717\n",
      "temp_avg_represas: 2.579278716266116\n",
      "energy_price_lag_1: 1.0777877641203053\n",
      "energy_price_lag_2: 0.04468030976641542\n",
      "energy_price_lag_3: -0.18408023758517367\n",
      "energy_price_lag_4: 0.10146063885989594\n",
      "energy_price_lag_5: -0.07779234957712797\n",
      "energy_price_lag_6: -0.0016183224354139947\n",
      "energy_price_lag_7: 0.09518785727329974\n",
      "energy_price_lag_8: -0.17658920674563872\n",
      "energy_price_lag_9: 0.07214281405142837\n",
      "-----------------------\n",
      "Lags: 10\n",
      "Best parameters found: {'alpha': 4.281332398719396}\n",
      "Best cross-validation score: 0.9426309372821716\n",
      "Mean Squared Error on Test Data: 4479.4855350302\n",
      "Mean Absolute Percentage Error on Test Data: 0.09722466485656309\n",
      "precipitacion_meta: -0.6262905365435939\n",
      "temp_avg_represas: 2.4377153163081187\n",
      "energy_price_lag_1: 1.0742256071479643\n",
      "energy_price_lag_2: 0.05341847186021999\n",
      "energy_price_lag_3: -0.18878595250403687\n",
      "energy_price_lag_4: 0.10210149474349256\n",
      "energy_price_lag_5: -0.07485703956827301\n",
      "energy_price_lag_6: -0.006732861915316054\n",
      "energy_price_lag_7: 0.10495078113091456\n",
      "energy_price_lag_8: -0.17825068403132333\n",
      "energy_price_lag_9: 0.014711917280427717\n",
      "energy_price_lag_10: 0.053361823466638376\n",
      "-----------------------\n",
      "Lags: 11\n",
      "Best parameters found: {'alpha': 206.913808111479}\n",
      "Best cross-validation score: 0.9398454289598901\n",
      "Mean Squared Error on Test Data: 4855.915440534761\n",
      "Mean Absolute Percentage Error on Test Data: 0.10120472447547187\n",
      "energy_price_lag_1: 1.0013367423478132\n",
      "energy_price_lag_5: -0.012393213670909892\n",
      "energy_price_lag_8: -0.043283353157199646\n",
      "energy_price_lag_11: 0.0066218093638991775\n",
      "-----------------------\n"
     ]
    }
   ],
   "source": [
    "mape_test=[]\n",
    "mse_test=[]\n",
    "\n",
    "for i in range(1, 12):\n",
    "    print(f\"Lags: {i}\")\n",
    "    results_i=perform_lasso_mlr({ \"df\": df, \"lags\": i })\n",
    "    mape_i=results_i[\"mape_test\"]\n",
    "    mse_i=results_i[\"mse_test\"]\n",
    "    mape_test.append(mape_i)\n",
    "    mse_test.append(mse_i)\n",
    "    print(\"-----------------------\")"
   ]
  },
  {
   "cell_type": "code",
   "execution_count": 13,
   "metadata": {},
   "outputs": [
    {
     "data": {
      "application/vnd.plotly.v1+json": {
       "config": {
        "plotlyServerURL": "https://plot.ly"
       },
       "data": [
        {
         "hovertemplate": "lag=%{x}<br>mse_test=%{y}<extra></extra>",
         "legendgroup": "",
         "line": {
          "color": "#636efa",
          "dash": "solid"
         },
         "marker": {
          "symbol": "circle"
         },
         "mode": "lines",
         "name": "",
         "orientation": "v",
         "showlegend": false,
         "type": "scatter",
         "x": [
          1,
          2,
          3,
          4,
          5,
          6,
          7,
          8,
          9,
          10,
          11
         ],
         "xaxis": "x",
         "y": [
          4630.277545452998,
          4478.742557931561,
          4455.019598639417,
          4454.757889488515,
          4514.596814695543,
          4727.374376403668,
          4569.670945823458,
          4629.380463647532,
          4551.458896811297,
          4479.4855350302,
          4855.915440534761
         ],
         "yaxis": "y"
        }
       ],
       "layout": {
        "legend": {
         "tracegroupgap": 0
        },
        "template": {
         "data": {
          "bar": [
           {
            "error_x": {
             "color": "#2a3f5f"
            },
            "error_y": {
             "color": "#2a3f5f"
            },
            "marker": {
             "line": {
              "color": "#E5ECF6",
              "width": 0.5
             },
             "pattern": {
              "fillmode": "overlay",
              "size": 10,
              "solidity": 0.2
             }
            },
            "type": "bar"
           }
          ],
          "barpolar": [
           {
            "marker": {
             "line": {
              "color": "#E5ECF6",
              "width": 0.5
             },
             "pattern": {
              "fillmode": "overlay",
              "size": 10,
              "solidity": 0.2
             }
            },
            "type": "barpolar"
           }
          ],
          "carpet": [
           {
            "aaxis": {
             "endlinecolor": "#2a3f5f",
             "gridcolor": "white",
             "linecolor": "white",
             "minorgridcolor": "white",
             "startlinecolor": "#2a3f5f"
            },
            "baxis": {
             "endlinecolor": "#2a3f5f",
             "gridcolor": "white",
             "linecolor": "white",
             "minorgridcolor": "white",
             "startlinecolor": "#2a3f5f"
            },
            "type": "carpet"
           }
          ],
          "choropleth": [
           {
            "colorbar": {
             "outlinewidth": 0,
             "ticks": ""
            },
            "type": "choropleth"
           }
          ],
          "contour": [
           {
            "colorbar": {
             "outlinewidth": 0,
             "ticks": ""
            },
            "colorscale": [
             [
              0,
              "#0d0887"
             ],
             [
              0.1111111111111111,
              "#46039f"
             ],
             [
              0.2222222222222222,
              "#7201a8"
             ],
             [
              0.3333333333333333,
              "#9c179e"
             ],
             [
              0.4444444444444444,
              "#bd3786"
             ],
             [
              0.5555555555555556,
              "#d8576b"
             ],
             [
              0.6666666666666666,
              "#ed7953"
             ],
             [
              0.7777777777777778,
              "#fb9f3a"
             ],
             [
              0.8888888888888888,
              "#fdca26"
             ],
             [
              1,
              "#f0f921"
             ]
            ],
            "type": "contour"
           }
          ],
          "contourcarpet": [
           {
            "colorbar": {
             "outlinewidth": 0,
             "ticks": ""
            },
            "type": "contourcarpet"
           }
          ],
          "heatmap": [
           {
            "colorbar": {
             "outlinewidth": 0,
             "ticks": ""
            },
            "colorscale": [
             [
              0,
              "#0d0887"
             ],
             [
              0.1111111111111111,
              "#46039f"
             ],
             [
              0.2222222222222222,
              "#7201a8"
             ],
             [
              0.3333333333333333,
              "#9c179e"
             ],
             [
              0.4444444444444444,
              "#bd3786"
             ],
             [
              0.5555555555555556,
              "#d8576b"
             ],
             [
              0.6666666666666666,
              "#ed7953"
             ],
             [
              0.7777777777777778,
              "#fb9f3a"
             ],
             [
              0.8888888888888888,
              "#fdca26"
             ],
             [
              1,
              "#f0f921"
             ]
            ],
            "type": "heatmap"
           }
          ],
          "heatmapgl": [
           {
            "colorbar": {
             "outlinewidth": 0,
             "ticks": ""
            },
            "colorscale": [
             [
              0,
              "#0d0887"
             ],
             [
              0.1111111111111111,
              "#46039f"
             ],
             [
              0.2222222222222222,
              "#7201a8"
             ],
             [
              0.3333333333333333,
              "#9c179e"
             ],
             [
              0.4444444444444444,
              "#bd3786"
             ],
             [
              0.5555555555555556,
              "#d8576b"
             ],
             [
              0.6666666666666666,
              "#ed7953"
             ],
             [
              0.7777777777777778,
              "#fb9f3a"
             ],
             [
              0.8888888888888888,
              "#fdca26"
             ],
             [
              1,
              "#f0f921"
             ]
            ],
            "type": "heatmapgl"
           }
          ],
          "histogram": [
           {
            "marker": {
             "pattern": {
              "fillmode": "overlay",
              "size": 10,
              "solidity": 0.2
             }
            },
            "type": "histogram"
           }
          ],
          "histogram2d": [
           {
            "colorbar": {
             "outlinewidth": 0,
             "ticks": ""
            },
            "colorscale": [
             [
              0,
              "#0d0887"
             ],
             [
              0.1111111111111111,
              "#46039f"
             ],
             [
              0.2222222222222222,
              "#7201a8"
             ],
             [
              0.3333333333333333,
              "#9c179e"
             ],
             [
              0.4444444444444444,
              "#bd3786"
             ],
             [
              0.5555555555555556,
              "#d8576b"
             ],
             [
              0.6666666666666666,
              "#ed7953"
             ],
             [
              0.7777777777777778,
              "#fb9f3a"
             ],
             [
              0.8888888888888888,
              "#fdca26"
             ],
             [
              1,
              "#f0f921"
             ]
            ],
            "type": "histogram2d"
           }
          ],
          "histogram2dcontour": [
           {
            "colorbar": {
             "outlinewidth": 0,
             "ticks": ""
            },
            "colorscale": [
             [
              0,
              "#0d0887"
             ],
             [
              0.1111111111111111,
              "#46039f"
             ],
             [
              0.2222222222222222,
              "#7201a8"
             ],
             [
              0.3333333333333333,
              "#9c179e"
             ],
             [
              0.4444444444444444,
              "#bd3786"
             ],
             [
              0.5555555555555556,
              "#d8576b"
             ],
             [
              0.6666666666666666,
              "#ed7953"
             ],
             [
              0.7777777777777778,
              "#fb9f3a"
             ],
             [
              0.8888888888888888,
              "#fdca26"
             ],
             [
              1,
              "#f0f921"
             ]
            ],
            "type": "histogram2dcontour"
           }
          ],
          "mesh3d": [
           {
            "colorbar": {
             "outlinewidth": 0,
             "ticks": ""
            },
            "type": "mesh3d"
           }
          ],
          "parcoords": [
           {
            "line": {
             "colorbar": {
              "outlinewidth": 0,
              "ticks": ""
             }
            },
            "type": "parcoords"
           }
          ],
          "pie": [
           {
            "automargin": true,
            "type": "pie"
           }
          ],
          "scatter": [
           {
            "fillpattern": {
             "fillmode": "overlay",
             "size": 10,
             "solidity": 0.2
            },
            "type": "scatter"
           }
          ],
          "scatter3d": [
           {
            "line": {
             "colorbar": {
              "outlinewidth": 0,
              "ticks": ""
             }
            },
            "marker": {
             "colorbar": {
              "outlinewidth": 0,
              "ticks": ""
             }
            },
            "type": "scatter3d"
           }
          ],
          "scattercarpet": [
           {
            "marker": {
             "colorbar": {
              "outlinewidth": 0,
              "ticks": ""
             }
            },
            "type": "scattercarpet"
           }
          ],
          "scattergeo": [
           {
            "marker": {
             "colorbar": {
              "outlinewidth": 0,
              "ticks": ""
             }
            },
            "type": "scattergeo"
           }
          ],
          "scattergl": [
           {
            "marker": {
             "colorbar": {
              "outlinewidth": 0,
              "ticks": ""
             }
            },
            "type": "scattergl"
           }
          ],
          "scattermapbox": [
           {
            "marker": {
             "colorbar": {
              "outlinewidth": 0,
              "ticks": ""
             }
            },
            "type": "scattermapbox"
           }
          ],
          "scatterpolar": [
           {
            "marker": {
             "colorbar": {
              "outlinewidth": 0,
              "ticks": ""
             }
            },
            "type": "scatterpolar"
           }
          ],
          "scatterpolargl": [
           {
            "marker": {
             "colorbar": {
              "outlinewidth": 0,
              "ticks": ""
             }
            },
            "type": "scatterpolargl"
           }
          ],
          "scatterternary": [
           {
            "marker": {
             "colorbar": {
              "outlinewidth": 0,
              "ticks": ""
             }
            },
            "type": "scatterternary"
           }
          ],
          "surface": [
           {
            "colorbar": {
             "outlinewidth": 0,
             "ticks": ""
            },
            "colorscale": [
             [
              0,
              "#0d0887"
             ],
             [
              0.1111111111111111,
              "#46039f"
             ],
             [
              0.2222222222222222,
              "#7201a8"
             ],
             [
              0.3333333333333333,
              "#9c179e"
             ],
             [
              0.4444444444444444,
              "#bd3786"
             ],
             [
              0.5555555555555556,
              "#d8576b"
             ],
             [
              0.6666666666666666,
              "#ed7953"
             ],
             [
              0.7777777777777778,
              "#fb9f3a"
             ],
             [
              0.8888888888888888,
              "#fdca26"
             ],
             [
              1,
              "#f0f921"
             ]
            ],
            "type": "surface"
           }
          ],
          "table": [
           {
            "cells": {
             "fill": {
              "color": "#EBF0F8"
             },
             "line": {
              "color": "white"
             }
            },
            "header": {
             "fill": {
              "color": "#C8D4E3"
             },
             "line": {
              "color": "white"
             }
            },
            "type": "table"
           }
          ]
         },
         "layout": {
          "annotationdefaults": {
           "arrowcolor": "#2a3f5f",
           "arrowhead": 0,
           "arrowwidth": 1
          },
          "autotypenumbers": "strict",
          "coloraxis": {
           "colorbar": {
            "outlinewidth": 0,
            "ticks": ""
           }
          },
          "colorscale": {
           "diverging": [
            [
             0,
             "#8e0152"
            ],
            [
             0.1,
             "#c51b7d"
            ],
            [
             0.2,
             "#de77ae"
            ],
            [
             0.3,
             "#f1b6da"
            ],
            [
             0.4,
             "#fde0ef"
            ],
            [
             0.5,
             "#f7f7f7"
            ],
            [
             0.6,
             "#e6f5d0"
            ],
            [
             0.7,
             "#b8e186"
            ],
            [
             0.8,
             "#7fbc41"
            ],
            [
             0.9,
             "#4d9221"
            ],
            [
             1,
             "#276419"
            ]
           ],
           "sequential": [
            [
             0,
             "#0d0887"
            ],
            [
             0.1111111111111111,
             "#46039f"
            ],
            [
             0.2222222222222222,
             "#7201a8"
            ],
            [
             0.3333333333333333,
             "#9c179e"
            ],
            [
             0.4444444444444444,
             "#bd3786"
            ],
            [
             0.5555555555555556,
             "#d8576b"
            ],
            [
             0.6666666666666666,
             "#ed7953"
            ],
            [
             0.7777777777777778,
             "#fb9f3a"
            ],
            [
             0.8888888888888888,
             "#fdca26"
            ],
            [
             1,
             "#f0f921"
            ]
           ],
           "sequentialminus": [
            [
             0,
             "#0d0887"
            ],
            [
             0.1111111111111111,
             "#46039f"
            ],
            [
             0.2222222222222222,
             "#7201a8"
            ],
            [
             0.3333333333333333,
             "#9c179e"
            ],
            [
             0.4444444444444444,
             "#bd3786"
            ],
            [
             0.5555555555555556,
             "#d8576b"
            ],
            [
             0.6666666666666666,
             "#ed7953"
            ],
            [
             0.7777777777777778,
             "#fb9f3a"
            ],
            [
             0.8888888888888888,
             "#fdca26"
            ],
            [
             1,
             "#f0f921"
            ]
           ]
          },
          "colorway": [
           "#636efa",
           "#EF553B",
           "#00cc96",
           "#ab63fa",
           "#FFA15A",
           "#19d3f3",
           "#FF6692",
           "#B6E880",
           "#FF97FF",
           "#FECB52"
          ],
          "font": {
           "color": "#2a3f5f"
          },
          "geo": {
           "bgcolor": "white",
           "lakecolor": "white",
           "landcolor": "#E5ECF6",
           "showlakes": true,
           "showland": true,
           "subunitcolor": "white"
          },
          "hoverlabel": {
           "align": "left"
          },
          "hovermode": "closest",
          "mapbox": {
           "style": "light"
          },
          "paper_bgcolor": "white",
          "plot_bgcolor": "#E5ECF6",
          "polar": {
           "angularaxis": {
            "gridcolor": "white",
            "linecolor": "white",
            "ticks": ""
           },
           "bgcolor": "#E5ECF6",
           "radialaxis": {
            "gridcolor": "white",
            "linecolor": "white",
            "ticks": ""
           }
          },
          "scene": {
           "xaxis": {
            "backgroundcolor": "#E5ECF6",
            "gridcolor": "white",
            "gridwidth": 2,
            "linecolor": "white",
            "showbackground": true,
            "ticks": "",
            "zerolinecolor": "white"
           },
           "yaxis": {
            "backgroundcolor": "#E5ECF6",
            "gridcolor": "white",
            "gridwidth": 2,
            "linecolor": "white",
            "showbackground": true,
            "ticks": "",
            "zerolinecolor": "white"
           },
           "zaxis": {
            "backgroundcolor": "#E5ECF6",
            "gridcolor": "white",
            "gridwidth": 2,
            "linecolor": "white",
            "showbackground": true,
            "ticks": "",
            "zerolinecolor": "white"
           }
          },
          "shapedefaults": {
           "line": {
            "color": "#2a3f5f"
           }
          },
          "ternary": {
           "aaxis": {
            "gridcolor": "white",
            "linecolor": "white",
            "ticks": ""
           },
           "baxis": {
            "gridcolor": "white",
            "linecolor": "white",
            "ticks": ""
           },
           "bgcolor": "#E5ECF6",
           "caxis": {
            "gridcolor": "white",
            "linecolor": "white",
            "ticks": ""
           }
          },
          "title": {
           "x": 0.05
          },
          "xaxis": {
           "automargin": true,
           "gridcolor": "white",
           "linecolor": "white",
           "ticks": "",
           "title": {
            "standoff": 15
           },
           "zerolinecolor": "white",
           "zerolinewidth": 2
          },
          "yaxis": {
           "automargin": true,
           "gridcolor": "white",
           "linecolor": "white",
           "ticks": "",
           "title": {
            "standoff": 15
           },
           "zerolinecolor": "white",
           "zerolinewidth": 2
          }
         }
        },
        "title": {
         "text": "MSE de la data de test vs Lags"
        },
        "xaxis": {
         "anchor": "y",
         "domain": [
          0,
          1
         ],
         "title": {
          "text": "lag"
         }
        },
        "yaxis": {
         "anchor": "x",
         "domain": [
          0,
          1
         ],
         "title": {
          "text": "mse_test"
         }
        }
       }
      }
     },
     "metadata": {},
     "output_type": "display_data"
    }
   ],
   "source": [
    "df_pruebas=pd.DataFrame({\"lag\":list(range(1,12)),\"mse_test\":mse_test,\"mape_test\":mape_test})\n",
    "\n",
    "fig_mse = px.line(df_pruebas,x=\"lag\", y=\"mse_test\", title='MSE de la data de test vs Lags')\n",
    "\n",
    "fig_mse.show()"
   ]
  },
  {
   "cell_type": "code",
   "execution_count": 14,
   "metadata": {},
   "outputs": [
    {
     "data": {
      "application/vnd.plotly.v1+json": {
       "config": {
        "plotlyServerURL": "https://plot.ly"
       },
       "data": [
        {
         "hovertemplate": "lag=%{x}<br>mape_test=%{y}<extra></extra>",
         "legendgroup": "",
         "line": {
          "color": "#636efa",
          "dash": "solid"
         },
         "marker": {
          "symbol": "circle"
         },
         "mode": "lines",
         "name": "",
         "orientation": "v",
         "showlegend": false,
         "type": "scatter",
         "x": [
          1,
          2,
          3,
          4,
          5,
          6,
          7,
          8,
          9,
          10,
          11
         ],
         "xaxis": "x",
         "y": [
          0.09776550217291956,
          0.09813590906094909,
          0.09599010577558753,
          0.09598914073607966,
          0.09664590549205332,
          0.09943560997800151,
          0.09732591968207426,
          0.09847668136930564,
          0.09751130577092539,
          0.09722466485656309,
          0.10120472447547187
         ],
         "yaxis": "y"
        }
       ],
       "layout": {
        "legend": {
         "tracegroupgap": 0
        },
        "template": {
         "data": {
          "bar": [
           {
            "error_x": {
             "color": "#2a3f5f"
            },
            "error_y": {
             "color": "#2a3f5f"
            },
            "marker": {
             "line": {
              "color": "#E5ECF6",
              "width": 0.5
             },
             "pattern": {
              "fillmode": "overlay",
              "size": 10,
              "solidity": 0.2
             }
            },
            "type": "bar"
           }
          ],
          "barpolar": [
           {
            "marker": {
             "line": {
              "color": "#E5ECF6",
              "width": 0.5
             },
             "pattern": {
              "fillmode": "overlay",
              "size": 10,
              "solidity": 0.2
             }
            },
            "type": "barpolar"
           }
          ],
          "carpet": [
           {
            "aaxis": {
             "endlinecolor": "#2a3f5f",
             "gridcolor": "white",
             "linecolor": "white",
             "minorgridcolor": "white",
             "startlinecolor": "#2a3f5f"
            },
            "baxis": {
             "endlinecolor": "#2a3f5f",
             "gridcolor": "white",
             "linecolor": "white",
             "minorgridcolor": "white",
             "startlinecolor": "#2a3f5f"
            },
            "type": "carpet"
           }
          ],
          "choropleth": [
           {
            "colorbar": {
             "outlinewidth": 0,
             "ticks": ""
            },
            "type": "choropleth"
           }
          ],
          "contour": [
           {
            "colorbar": {
             "outlinewidth": 0,
             "ticks": ""
            },
            "colorscale": [
             [
              0,
              "#0d0887"
             ],
             [
              0.1111111111111111,
              "#46039f"
             ],
             [
              0.2222222222222222,
              "#7201a8"
             ],
             [
              0.3333333333333333,
              "#9c179e"
             ],
             [
              0.4444444444444444,
              "#bd3786"
             ],
             [
              0.5555555555555556,
              "#d8576b"
             ],
             [
              0.6666666666666666,
              "#ed7953"
             ],
             [
              0.7777777777777778,
              "#fb9f3a"
             ],
             [
              0.8888888888888888,
              "#fdca26"
             ],
             [
              1,
              "#f0f921"
             ]
            ],
            "type": "contour"
           }
          ],
          "contourcarpet": [
           {
            "colorbar": {
             "outlinewidth": 0,
             "ticks": ""
            },
            "type": "contourcarpet"
           }
          ],
          "heatmap": [
           {
            "colorbar": {
             "outlinewidth": 0,
             "ticks": ""
            },
            "colorscale": [
             [
              0,
              "#0d0887"
             ],
             [
              0.1111111111111111,
              "#46039f"
             ],
             [
              0.2222222222222222,
              "#7201a8"
             ],
             [
              0.3333333333333333,
              "#9c179e"
             ],
             [
              0.4444444444444444,
              "#bd3786"
             ],
             [
              0.5555555555555556,
              "#d8576b"
             ],
             [
              0.6666666666666666,
              "#ed7953"
             ],
             [
              0.7777777777777778,
              "#fb9f3a"
             ],
             [
              0.8888888888888888,
              "#fdca26"
             ],
             [
              1,
              "#f0f921"
             ]
            ],
            "type": "heatmap"
           }
          ],
          "heatmapgl": [
           {
            "colorbar": {
             "outlinewidth": 0,
             "ticks": ""
            },
            "colorscale": [
             [
              0,
              "#0d0887"
             ],
             [
              0.1111111111111111,
              "#46039f"
             ],
             [
              0.2222222222222222,
              "#7201a8"
             ],
             [
              0.3333333333333333,
              "#9c179e"
             ],
             [
              0.4444444444444444,
              "#bd3786"
             ],
             [
              0.5555555555555556,
              "#d8576b"
             ],
             [
              0.6666666666666666,
              "#ed7953"
             ],
             [
              0.7777777777777778,
              "#fb9f3a"
             ],
             [
              0.8888888888888888,
              "#fdca26"
             ],
             [
              1,
              "#f0f921"
             ]
            ],
            "type": "heatmapgl"
           }
          ],
          "histogram": [
           {
            "marker": {
             "pattern": {
              "fillmode": "overlay",
              "size": 10,
              "solidity": 0.2
             }
            },
            "type": "histogram"
           }
          ],
          "histogram2d": [
           {
            "colorbar": {
             "outlinewidth": 0,
             "ticks": ""
            },
            "colorscale": [
             [
              0,
              "#0d0887"
             ],
             [
              0.1111111111111111,
              "#46039f"
             ],
             [
              0.2222222222222222,
              "#7201a8"
             ],
             [
              0.3333333333333333,
              "#9c179e"
             ],
             [
              0.4444444444444444,
              "#bd3786"
             ],
             [
              0.5555555555555556,
              "#d8576b"
             ],
             [
              0.6666666666666666,
              "#ed7953"
             ],
             [
              0.7777777777777778,
              "#fb9f3a"
             ],
             [
              0.8888888888888888,
              "#fdca26"
             ],
             [
              1,
              "#f0f921"
             ]
            ],
            "type": "histogram2d"
           }
          ],
          "histogram2dcontour": [
           {
            "colorbar": {
             "outlinewidth": 0,
             "ticks": ""
            },
            "colorscale": [
             [
              0,
              "#0d0887"
             ],
             [
              0.1111111111111111,
              "#46039f"
             ],
             [
              0.2222222222222222,
              "#7201a8"
             ],
             [
              0.3333333333333333,
              "#9c179e"
             ],
             [
              0.4444444444444444,
              "#bd3786"
             ],
             [
              0.5555555555555556,
              "#d8576b"
             ],
             [
              0.6666666666666666,
              "#ed7953"
             ],
             [
              0.7777777777777778,
              "#fb9f3a"
             ],
             [
              0.8888888888888888,
              "#fdca26"
             ],
             [
              1,
              "#f0f921"
             ]
            ],
            "type": "histogram2dcontour"
           }
          ],
          "mesh3d": [
           {
            "colorbar": {
             "outlinewidth": 0,
             "ticks": ""
            },
            "type": "mesh3d"
           }
          ],
          "parcoords": [
           {
            "line": {
             "colorbar": {
              "outlinewidth": 0,
              "ticks": ""
             }
            },
            "type": "parcoords"
           }
          ],
          "pie": [
           {
            "automargin": true,
            "type": "pie"
           }
          ],
          "scatter": [
           {
            "fillpattern": {
             "fillmode": "overlay",
             "size": 10,
             "solidity": 0.2
            },
            "type": "scatter"
           }
          ],
          "scatter3d": [
           {
            "line": {
             "colorbar": {
              "outlinewidth": 0,
              "ticks": ""
             }
            },
            "marker": {
             "colorbar": {
              "outlinewidth": 0,
              "ticks": ""
             }
            },
            "type": "scatter3d"
           }
          ],
          "scattercarpet": [
           {
            "marker": {
             "colorbar": {
              "outlinewidth": 0,
              "ticks": ""
             }
            },
            "type": "scattercarpet"
           }
          ],
          "scattergeo": [
           {
            "marker": {
             "colorbar": {
              "outlinewidth": 0,
              "ticks": ""
             }
            },
            "type": "scattergeo"
           }
          ],
          "scattergl": [
           {
            "marker": {
             "colorbar": {
              "outlinewidth": 0,
              "ticks": ""
             }
            },
            "type": "scattergl"
           }
          ],
          "scattermapbox": [
           {
            "marker": {
             "colorbar": {
              "outlinewidth": 0,
              "ticks": ""
             }
            },
            "type": "scattermapbox"
           }
          ],
          "scatterpolar": [
           {
            "marker": {
             "colorbar": {
              "outlinewidth": 0,
              "ticks": ""
             }
            },
            "type": "scatterpolar"
           }
          ],
          "scatterpolargl": [
           {
            "marker": {
             "colorbar": {
              "outlinewidth": 0,
              "ticks": ""
             }
            },
            "type": "scatterpolargl"
           }
          ],
          "scatterternary": [
           {
            "marker": {
             "colorbar": {
              "outlinewidth": 0,
              "ticks": ""
             }
            },
            "type": "scatterternary"
           }
          ],
          "surface": [
           {
            "colorbar": {
             "outlinewidth": 0,
             "ticks": ""
            },
            "colorscale": [
             [
              0,
              "#0d0887"
             ],
             [
              0.1111111111111111,
              "#46039f"
             ],
             [
              0.2222222222222222,
              "#7201a8"
             ],
             [
              0.3333333333333333,
              "#9c179e"
             ],
             [
              0.4444444444444444,
              "#bd3786"
             ],
             [
              0.5555555555555556,
              "#d8576b"
             ],
             [
              0.6666666666666666,
              "#ed7953"
             ],
             [
              0.7777777777777778,
              "#fb9f3a"
             ],
             [
              0.8888888888888888,
              "#fdca26"
             ],
             [
              1,
              "#f0f921"
             ]
            ],
            "type": "surface"
           }
          ],
          "table": [
           {
            "cells": {
             "fill": {
              "color": "#EBF0F8"
             },
             "line": {
              "color": "white"
             }
            },
            "header": {
             "fill": {
              "color": "#C8D4E3"
             },
             "line": {
              "color": "white"
             }
            },
            "type": "table"
           }
          ]
         },
         "layout": {
          "annotationdefaults": {
           "arrowcolor": "#2a3f5f",
           "arrowhead": 0,
           "arrowwidth": 1
          },
          "autotypenumbers": "strict",
          "coloraxis": {
           "colorbar": {
            "outlinewidth": 0,
            "ticks": ""
           }
          },
          "colorscale": {
           "diverging": [
            [
             0,
             "#8e0152"
            ],
            [
             0.1,
             "#c51b7d"
            ],
            [
             0.2,
             "#de77ae"
            ],
            [
             0.3,
             "#f1b6da"
            ],
            [
             0.4,
             "#fde0ef"
            ],
            [
             0.5,
             "#f7f7f7"
            ],
            [
             0.6,
             "#e6f5d0"
            ],
            [
             0.7,
             "#b8e186"
            ],
            [
             0.8,
             "#7fbc41"
            ],
            [
             0.9,
             "#4d9221"
            ],
            [
             1,
             "#276419"
            ]
           ],
           "sequential": [
            [
             0,
             "#0d0887"
            ],
            [
             0.1111111111111111,
             "#46039f"
            ],
            [
             0.2222222222222222,
             "#7201a8"
            ],
            [
             0.3333333333333333,
             "#9c179e"
            ],
            [
             0.4444444444444444,
             "#bd3786"
            ],
            [
             0.5555555555555556,
             "#d8576b"
            ],
            [
             0.6666666666666666,
             "#ed7953"
            ],
            [
             0.7777777777777778,
             "#fb9f3a"
            ],
            [
             0.8888888888888888,
             "#fdca26"
            ],
            [
             1,
             "#f0f921"
            ]
           ],
           "sequentialminus": [
            [
             0,
             "#0d0887"
            ],
            [
             0.1111111111111111,
             "#46039f"
            ],
            [
             0.2222222222222222,
             "#7201a8"
            ],
            [
             0.3333333333333333,
             "#9c179e"
            ],
            [
             0.4444444444444444,
             "#bd3786"
            ],
            [
             0.5555555555555556,
             "#d8576b"
            ],
            [
             0.6666666666666666,
             "#ed7953"
            ],
            [
             0.7777777777777778,
             "#fb9f3a"
            ],
            [
             0.8888888888888888,
             "#fdca26"
            ],
            [
             1,
             "#f0f921"
            ]
           ]
          },
          "colorway": [
           "#636efa",
           "#EF553B",
           "#00cc96",
           "#ab63fa",
           "#FFA15A",
           "#19d3f3",
           "#FF6692",
           "#B6E880",
           "#FF97FF",
           "#FECB52"
          ],
          "font": {
           "color": "#2a3f5f"
          },
          "geo": {
           "bgcolor": "white",
           "lakecolor": "white",
           "landcolor": "#E5ECF6",
           "showlakes": true,
           "showland": true,
           "subunitcolor": "white"
          },
          "hoverlabel": {
           "align": "left"
          },
          "hovermode": "closest",
          "mapbox": {
           "style": "light"
          },
          "paper_bgcolor": "white",
          "plot_bgcolor": "#E5ECF6",
          "polar": {
           "angularaxis": {
            "gridcolor": "white",
            "linecolor": "white",
            "ticks": ""
           },
           "bgcolor": "#E5ECF6",
           "radialaxis": {
            "gridcolor": "white",
            "linecolor": "white",
            "ticks": ""
           }
          },
          "scene": {
           "xaxis": {
            "backgroundcolor": "#E5ECF6",
            "gridcolor": "white",
            "gridwidth": 2,
            "linecolor": "white",
            "showbackground": true,
            "ticks": "",
            "zerolinecolor": "white"
           },
           "yaxis": {
            "backgroundcolor": "#E5ECF6",
            "gridcolor": "white",
            "gridwidth": 2,
            "linecolor": "white",
            "showbackground": true,
            "ticks": "",
            "zerolinecolor": "white"
           },
           "zaxis": {
            "backgroundcolor": "#E5ECF6",
            "gridcolor": "white",
            "gridwidth": 2,
            "linecolor": "white",
            "showbackground": true,
            "ticks": "",
            "zerolinecolor": "white"
           }
          },
          "shapedefaults": {
           "line": {
            "color": "#2a3f5f"
           }
          },
          "ternary": {
           "aaxis": {
            "gridcolor": "white",
            "linecolor": "white",
            "ticks": ""
           },
           "baxis": {
            "gridcolor": "white",
            "linecolor": "white",
            "ticks": ""
           },
           "bgcolor": "#E5ECF6",
           "caxis": {
            "gridcolor": "white",
            "linecolor": "white",
            "ticks": ""
           }
          },
          "title": {
           "x": 0.05
          },
          "xaxis": {
           "automargin": true,
           "gridcolor": "white",
           "linecolor": "white",
           "ticks": "",
           "title": {
            "standoff": 15
           },
           "zerolinecolor": "white",
           "zerolinewidth": 2
          },
          "yaxis": {
           "automargin": true,
           "gridcolor": "white",
           "linecolor": "white",
           "ticks": "",
           "title": {
            "standoff": 15
           },
           "zerolinecolor": "white",
           "zerolinewidth": 2
          }
         }
        },
        "title": {
         "text": "MAPE de la data de test vs Lags"
        },
        "xaxis": {
         "anchor": "y",
         "domain": [
          0,
          1
         ],
         "title": {
          "text": "lag"
         }
        },
        "yaxis": {
         "anchor": "x",
         "domain": [
          0,
          1
         ],
         "title": {
          "text": "mape_test"
         }
        }
       }
      }
     },
     "metadata": {},
     "output_type": "display_data"
    }
   ],
   "source": [
    "fig_mape = px.line(df_pruebas,x=\"lag\", y=\"mape_test\", title='MAPE de la data de test vs Lags')\n",
    "\n",
    "fig_mape.show()"
   ]
  },
  {
   "cell_type": "markdown",
   "metadata": {},
   "source": [
    "Usando como métrica de elección el MAPE, vemos que el mejor modelo es con lag = 4"
   ]
  },
  {
   "cell_type": "code",
   "execution_count": 15,
   "metadata": {},
   "outputs": [
    {
     "name": "stdout",
     "output_type": "stream",
     "text": [
      "Best parameters found: {'alpha': 4.281332398719396}\n",
      "Best cross-validation score: 0.9430055760185592\n",
      "Mean Squared Error on Test Data: 4454.757889488515\n",
      "Mean Absolute Percentage Error on Test Data: 0.09598914073607966\n",
      "precipitacion_meta: -0.6492039475952551\n",
      "temp_avg_represas: 2.0752349022665033\n",
      "energy_price_lag_1: 1.0756034678724657\n",
      "energy_price_lag_2: 0.06596607491660796\n",
      "energy_price_lag_3: -0.1843891941358507\n",
      "energy_price_lag_4: 0.0013896635773296456\n"
     ]
    }
   ],
   "source": [
    "results = perform_lasso_mlr({ \"df\": df, \"lags\": 4 })\n",
    "y_pred = results[\"y_pred\"]\n",
    "y_pred_1=y_pred[1:]\n",
    "y_test = results[\"y_test\"]\n",
    "X_test_dates = results[\"X_test_dates\"]\n",
    "X_train_dates=results[\"X_train_dates\"]\n",
    "y_train=results[\"y_train\"]\n",
    "y_pred_train=results[\"y_pred_train\"]\n",
    "y_pred_train_1=y_pred_train[1:]"
   ]
  },
  {
   "cell_type": "code",
   "execution_count": 16,
   "metadata": {},
   "outputs": [
    {
     "data": {
      "application/vnd.plotly.v1+json": {
       "config": {
        "plotlyServerURL": "https://plot.ly"
       },
       "data": [
        {
         "hovertemplate": "x=%{x}<br>y=%{y}<extra></extra>",
         "legendgroup": "",
         "line": {
          "color": "#636efa",
          "dash": "solid"
         },
         "marker": {
          "symbol": "circle"
         },
         "mode": "lines",
         "name": "",
         "orientation": "v",
         "showlegend": false,
         "type": "scatter",
         "x": [
          "2021-10-05",
          "2021-10-06",
          "2021-10-07",
          "2021-10-08",
          "2021-10-09",
          "2021-10-10",
          "2021-10-11",
          "2021-10-12",
          "2021-10-13",
          "2021-10-14",
          "2021-10-15",
          "2021-10-16",
          "2021-10-17",
          "2021-10-18",
          "2021-10-19",
          "2021-10-20",
          "2021-10-21",
          "2021-10-22",
          "2021-10-23",
          "2021-10-24",
          "2021-10-25",
          "2021-10-26",
          "2021-10-27",
          "2021-10-28",
          "2021-10-29",
          "2021-10-30",
          "2021-10-31",
          "2021-11-01",
          "2021-11-02",
          "2021-11-03",
          "2021-11-04",
          "2021-11-05",
          "2021-11-06",
          "2021-11-07",
          "2021-11-08",
          "2021-11-09",
          "2021-12-04",
          "2021-12-05",
          "2021-12-06",
          "2021-12-07",
          "2021-12-08",
          "2021-12-09",
          "2021-12-10",
          "2021-12-11",
          "2021-12-12",
          "2021-12-13",
          "2021-12-14",
          "2021-12-15",
          "2021-12-16",
          "2021-12-17",
          "2021-12-18",
          "2021-12-19",
          "2021-12-20",
          "2021-12-21",
          "2021-12-22",
          "2021-12-23",
          "2021-12-24",
          "2021-12-25",
          "2021-12-26",
          "2021-12-27",
          "2021-12-28",
          "2021-12-29",
          "2021-12-30",
          "2021-12-31",
          "2022-02-01",
          "2022-02-02",
          "2022-02-03",
          "2022-02-04",
          "2022-02-05",
          "2022-02-06",
          "2022-02-07",
          "2022-02-08",
          "2022-02-09",
          "2022-02-10",
          "2022-02-11",
          "2022-02-12",
          "2022-02-13",
          "2022-02-14",
          "2022-02-15",
          "2022-02-16",
          "2022-02-17",
          "2022-02-18",
          "2022-02-19",
          "2022-02-20",
          "2022-02-21",
          "2022-02-22",
          "2022-02-23",
          "2022-02-24",
          "2022-02-25",
          "2022-02-26",
          "2022-02-27",
          "2022-02-28",
          "2022-04-01",
          "2022-04-02",
          "2022-04-03",
          "2022-04-04",
          "2022-04-05",
          "2022-04-06",
          "2022-04-07",
          "2022-04-08",
          "2022-04-09",
          "2022-04-10",
          "2022-04-11",
          "2022-04-12",
          "2022-04-13",
          "2022-04-14",
          "2022-04-15",
          "2022-04-16",
          "2022-04-17",
          "2022-04-18",
          "2022-04-19",
          "2022-04-20",
          "2022-04-21",
          "2022-04-22",
          "2022-04-23",
          "2022-04-24",
          "2022-04-25",
          "2022-04-26",
          "2022-04-27",
          "2022-04-28",
          "2022-04-29",
          "2022-04-30",
          "2022-05-01",
          "2022-05-02",
          "2022-05-03",
          "2022-05-04",
          "2022-05-05",
          "2022-05-06",
          "2022-05-07",
          "2022-05-08",
          "2022-05-09",
          "2022-05-10",
          "2022-05-11",
          "2022-05-12",
          "2022-05-13",
          "2022-05-14",
          "2022-05-15",
          "2022-05-16",
          "2022-05-17",
          "2022-05-18",
          "2022-05-19",
          "2022-05-20",
          "2022-05-21",
          "2022-05-22",
          "2022-05-23",
          "2022-05-24",
          "2022-05-25",
          "2022-05-26",
          "2022-05-27",
          "2022-05-28",
          "2022-05-29",
          "2022-05-30",
          "2022-05-31",
          "2022-06-01",
          "2022-06-02",
          "2022-06-03",
          "2022-06-04",
          "2022-06-05",
          "2022-06-06",
          "2022-06-07",
          "2022-06-08",
          "2022-06-09",
          "2022-06-10",
          "2022-06-11",
          "2022-06-12",
          "2022-06-13",
          "2022-06-14",
          "2022-06-15",
          "2022-06-16",
          "2022-06-17",
          "2022-06-18",
          "2022-06-19",
          "2022-06-20",
          "2022-06-21",
          "2022-06-22",
          "2022-06-23",
          "2022-06-24",
          "2022-06-25",
          "2022-06-26",
          "2022-06-27",
          "2022-06-28",
          "2022-06-29",
          "2022-06-30",
          "2022-07-01",
          "2022-07-02",
          "2022-07-03",
          "2022-07-04",
          "2022-07-05",
          "2022-07-06",
          "2022-07-07",
          "2022-07-08",
          "2022-07-09",
          "2022-07-10",
          "2022-07-11",
          "2022-07-12",
          "2022-07-13",
          "2022-07-14",
          "2022-07-15",
          "2022-07-16",
          "2022-07-17",
          "2022-07-18",
          "2022-07-19",
          "2022-07-20",
          "2022-07-21",
          "2022-07-22",
          "2022-07-23",
          "2022-07-24",
          "2022-07-25",
          "2022-07-26",
          "2022-07-27",
          "2022-07-28",
          "2022-07-29",
          "2022-07-30",
          "2022-07-31",
          "2022-08-01",
          "2022-08-02",
          "2022-08-03",
          "2022-08-04",
          "2022-08-05",
          "2022-08-06",
          "2022-08-07",
          "2022-08-08",
          "2022-08-09",
          "2022-08-10",
          "2022-08-11",
          "2022-08-12",
          "2022-08-13",
          "2022-08-14",
          "2022-08-15",
          "2022-08-16",
          "2022-08-17",
          "2022-08-18",
          "2022-08-19",
          "2022-08-20",
          "2022-08-21",
          "2022-08-22",
          "2022-08-23",
          "2022-08-24",
          "2022-08-25",
          "2022-08-26",
          "2022-08-27",
          "2022-08-28",
          "2022-08-29",
          "2022-08-30",
          "2022-08-31",
          "2022-09-01",
          "2022-09-02",
          "2022-09-03",
          "2022-09-04",
          "2022-09-05",
          "2022-09-06",
          "2022-09-07",
          "2022-09-08",
          "2022-09-09",
          "2022-09-10",
          "2022-09-11",
          "2022-09-12",
          "2022-09-13",
          "2022-09-14",
          "2022-09-15",
          "2022-09-16",
          "2022-09-17",
          "2022-09-18",
          "2022-09-19",
          "2022-09-20",
          "2022-09-21",
          "2022-09-22",
          "2022-09-23",
          "2022-09-24",
          "2022-09-25",
          "2022-09-26",
          "2022-09-27",
          "2022-09-28",
          "2022-09-29",
          "2022-09-30",
          "2022-10-01",
          "2022-10-02",
          "2022-10-03",
          "2022-10-04",
          "2022-10-05",
          "2022-10-06",
          "2022-10-07",
          "2022-10-08",
          "2022-10-09",
          "2022-10-10",
          "2022-10-11",
          "2022-10-12",
          "2022-10-13",
          "2022-10-14",
          "2022-10-15",
          "2022-10-16",
          "2022-10-17",
          "2022-10-18",
          "2022-10-19",
          "2022-10-20",
          "2022-10-21",
          "2022-10-22",
          "2022-10-23",
          "2022-10-24",
          "2022-10-25",
          "2022-10-26",
          "2022-10-27",
          "2022-10-28",
          "2022-10-29",
          "2022-10-30",
          "2022-10-31",
          "2022-11-01",
          "2022-11-02",
          "2022-11-03",
          "2022-11-04",
          "2022-11-05",
          "2022-11-06",
          "2022-11-07",
          "2022-11-08",
          "2022-11-09",
          "2022-11-10",
          "2022-11-11",
          "2022-11-12",
          "2022-11-13",
          "2022-11-14",
          "2022-11-15",
          "2022-11-16",
          "2022-11-17",
          "2022-11-18",
          "2022-11-19",
          "2022-11-20",
          "2022-11-21",
          "2022-11-22",
          "2022-11-23",
          "2022-11-24",
          "2022-11-25",
          "2022-11-26",
          "2022-11-27",
          "2022-11-28",
          "2022-11-29",
          "2022-11-30",
          "2022-12-01",
          "2022-12-02",
          "2022-12-03",
          "2022-12-04",
          "2022-12-05",
          "2022-12-06",
          "2022-12-07",
          "2022-12-08",
          "2022-12-09",
          "2022-12-10",
          "2022-12-11",
          "2022-12-12",
          "2022-12-13",
          "2022-12-14",
          "2022-12-15",
          "2022-12-16",
          "2022-12-17",
          "2022-12-18",
          "2022-12-19",
          "2022-12-20",
          "2022-12-21",
          "2022-12-22",
          "2022-12-23",
          "2022-12-24",
          "2022-12-25",
          "2022-12-26",
          "2022-12-27",
          "2022-12-28",
          "2022-12-29",
          "2022-12-30",
          "2022-12-31",
          "2023-01-01",
          "2023-01-02",
          "2023-01-03",
          "2023-01-04",
          "2023-01-05",
          "2023-01-06",
          "2023-01-07",
          "2023-01-08",
          "2023-01-09",
          "2023-01-10",
          "2023-01-11",
          "2023-01-12",
          "2023-01-13",
          "2023-01-14",
          "2023-01-15",
          "2023-01-16",
          "2023-01-17",
          "2023-01-18",
          "2023-01-19",
          "2023-01-20",
          "2023-01-21",
          "2023-01-22",
          "2023-01-23",
          "2023-01-24",
          "2023-01-25",
          "2023-01-26",
          "2023-01-27",
          "2023-01-28",
          "2023-01-29",
          "2023-01-30",
          "2023-01-31",
          "2023-02-01",
          "2023-02-02",
          "2023-02-03",
          "2023-02-04",
          "2023-02-05",
          "2023-02-06",
          "2023-02-07",
          "2023-02-08",
          "2023-02-09",
          "2023-02-10",
          "2023-02-11",
          "2023-02-12",
          "2023-02-13",
          "2023-02-14",
          "2023-02-15",
          "2023-02-16",
          "2023-02-17",
          "2023-02-18",
          "2023-02-19",
          "2023-02-20",
          "2023-02-21",
          "2023-02-22",
          "2023-02-23",
          "2023-02-24",
          "2023-02-25",
          "2023-02-26",
          "2023-02-27",
          "2023-02-28",
          "2023-03-01",
          "2023-03-02",
          "2023-03-03",
          "2023-03-04",
          "2023-03-05",
          "2023-03-06",
          "2023-03-07",
          "2023-03-08",
          "2023-03-09",
          "2023-03-10",
          "2023-03-11",
          "2023-03-12",
          "2023-03-13",
          "2023-03-14",
          "2023-03-15",
          "2023-03-16",
          "2023-03-17",
          "2023-03-18",
          "2023-03-19",
          "2023-03-20",
          "2023-03-21",
          "2023-03-22",
          "2023-03-23",
          "2023-03-24",
          "2023-03-25",
          "2023-03-26",
          "2023-03-27",
          "2023-03-28",
          "2023-03-29",
          "2023-03-30",
          "2023-03-31",
          "2023-04-01",
          "2023-04-02",
          "2023-04-03",
          "2023-04-04",
          "2023-04-05",
          "2023-04-06",
          "2023-04-07",
          "2023-04-08",
          "2023-04-09",
          "2023-04-10",
          "2023-04-11",
          "2023-04-12",
          "2023-04-13",
          "2023-04-14",
          "2023-04-15",
          "2023-04-16",
          "2023-04-17",
          "2023-04-18",
          "2023-04-19",
          "2023-04-20",
          "2023-04-21",
          "2023-04-22",
          "2023-04-23",
          "2023-04-24",
          "2023-04-25",
          "2023-04-26",
          "2023-04-27",
          "2023-04-28",
          "2023-04-29",
          "2023-04-30",
          "2023-05-01",
          "2023-05-02",
          "2023-05-03",
          "2023-05-04",
          "2023-05-05",
          "2023-05-06",
          "2023-05-07",
          "2023-05-08",
          "2023-05-09",
          "2023-05-10",
          "2023-05-11",
          "2023-05-12",
          "2023-05-13",
          "2023-05-14",
          "2023-05-15",
          "2023-05-16",
          "2023-05-17",
          "2023-05-18",
          "2023-05-19",
          "2023-05-20",
          "2023-05-21",
          "2023-05-22",
          "2023-05-23",
          "2023-05-24",
          "2023-05-25",
          "2023-05-26",
          "2023-05-27",
          "2023-05-28",
          "2023-05-29",
          "2023-05-30",
          "2023-05-31",
          "2023-06-01",
          "2023-06-02",
          "2023-06-03",
          "2023-06-04",
          "2023-06-05",
          "2023-06-06",
          "2023-06-07",
          "2023-06-08",
          "2023-06-09",
          "2023-06-10",
          "2023-06-11",
          "2023-06-12",
          "2023-06-13",
          "2023-06-14",
          "2023-06-15",
          "2023-06-16",
          "2023-06-17",
          "2023-06-18",
          "2023-06-19",
          "2023-06-20",
          "2023-06-21",
          "2023-06-22",
          "2023-06-23",
          "2023-06-24",
          "2023-06-25",
          "2023-06-26",
          "2023-06-27",
          "2023-06-28",
          "2023-06-29",
          "2023-06-30"
         ],
         "xaxis": "x",
         "y": [
          278.1573253050167,
          261.47478813811665,
          235.8578475715167,
          229.31369943006663,
          219.45373283245,
          221.3451706969,
          225.09564642043333,
          223.12400189323333,
          208.5310715933,
          205.49424441326667,
          191.49858928411663,
          220.47191454488333,
          217.18447309706664,
          224.3223786053,
          240.05390966315,
          230.8898302425833,
          233.90920963756665,
          219.95736327173333,
          227.0308241033167,
          225.43219828715,
          227.4629556154333,
          214.0555688441167,
          200.8129511227,
          178.55722956681666,
          164.81647099756665,
          156.69595607803333,
          144.55619944011667,
          196.1848923010667,
          179.53787584173335,
          191.5018679344333,
          204.6111244799,
          200.5725120208,
          256.2079004091333,
          260.8138438411333,
          276.6830923548334,
          266.5984259776667,
          136.6151858857818,
          117.24140896644543,
          121.51404160410002,
          121.6087580619182,
          108.22972705617272,
          87.89678992392727,
          89.27961680499091,
          108.53990185171818,
          118.21287444517272,
          111.14315469432728,
          122.19192887397271,
          110.90622682725456,
          133.1954516644909,
          101.0222214665909,
          87.27784124622727,
          120.52724612992728,
          92.87421484555456,
          146.43394283750908,
          93.1630433407909,
          96.7735746118182,
          89.94239193313636,
          143.18719735811817,
          116.92075688436364,
          157.13289017218182,
          152.07792464679093,
          87.84928888169091,
          87.2552652234,
          87.56022412385454,
          574.83258567045,
          629.7531057923417,
          679.9537093796583,
          634.9486685760917,
          676.1453291944416,
          643.9751053751584,
          620.814194177125,
          556.7702112882668,
          481.7579258179833,
          422.86486397302497,
          364.557442976475,
          326.4741861571584,
          301.00230614165,
          347.09892871436665,
          343.44634212346665,
          339.2693636982833,
          316.8355334437084,
          318.4731121828583,
          303.47578139025,
          251.4285172684833,
          264.8336916230333,
          276.18328724943336,
          251.73531832876665,
          254.4742618483,
          242.8627564248833,
          251.3768528994167,
          239.15948298125,
          260.9013410045083,
          281.5059189245,
          236.7869147359333,
          148.96921426266667,
          175.25489261403334,
          198.21258047786668,
          191.269641414,
          262.9679488746333,
          155.8071632446,
          137.5929980581,
          124.94512254126666,
          138.55301482326666,
          129.71389086443335,
          132.89685578906668,
          121.88155799143333,
          106.9985935555,
          119.3985517558,
          109.60444239173334,
          138.77986288393336,
          186.71705213186667,
          145.06817902276666,
          134.4925834134667,
          114.9664079618,
          113.20638320070002,
          103.0190299081,
          101.22364771776668,
          106.0412902624,
          102.30829282893336,
          99.71598971303332,
          98.04276491406668,
          97.2173048629,
          96.83827014536666,
          98.6379675325,
          107.2514839083,
          133.7742698964,
          105.65651377003331,
          113.27988722723336,
          113.8085308241,
          109.56083914033331,
          102.96900438663332,
          107.4390905947,
          101.1283887161,
          100.3626710419,
          101.05507902326669,
          99.74965688743332,
          97.12685273583334,
          99.40693027983332,
          112.80171103206663,
          142.54899225213333,
          122.09234755316668,
          114.01577582223332,
          107.99845906976668,
          94.75545614193334,
          95.95410778386666,
          106.06156648843334,
          99.43857048456664,
          99.34446187036669,
          96.4486104796,
          95.86535293636666,
          96.55537735836668,
          96.52268669623334,
          95.4407350809,
          116.1275333405,
          104.4060742114,
          108.0229956427,
          103.76284299763334,
          101.2739031386,
          100.48935112566666,
          101.40952613713334,
          121.1464483358,
          107.04807132056663,
          107.43016573476666,
          105.99686014256667,
          103.56202369573332,
          101.47641312326664,
          101.89960776553336,
          102.13507965583334,
          102.21124502283334,
          101.50237157996668,
          100.51498157946666,
          100.08371477456666,
          97.7506625949,
          100.3569359424,
          105.6404049115,
          105.6461192301,
          102.3262533412,
          101.8994299161,
          103.3703179925,
          103.3026652704,
          102.222442387,
          104.28034345133334,
          103.67066312459998,
          103.41403763763331,
          104.30740167706666,
          101.36174571706668,
          104.56054160253336,
          104.50061156463332,
          105.48758301280002,
          108.24356443263332,
          105.90673284506666,
          109.7795287026,
          106.86524920756666,
          105.30795695463333,
          116.69532424916667,
          115.43205907413332,
          112.10918490053332,
          111.33500351683334,
          109.92047648036667,
          106.8036185547,
          120.46574198646664,
          118.69847274987085,
          106.74612964343332,
          107.12883518253334,
          103.49754494713332,
          103.7533367619,
          110.8507938536,
          107.63556779026668,
          130.636103706,
          106.4125778344,
          104.6208226925,
          109.89856387833332,
          106.2849330042,
          118.86402266526666,
          111.59073378603334,
          106.7048689376,
          112.1731836856,
          112.15362635406666,
          110.53839589653334,
          109.74198797543332,
          105.67941845366666,
          106.33572189046669,
          108.32807527056669,
          107.4484264971,
          107.8097583792,
          109.44817734046669,
          107.64706501696666,
          109.50142468013333,
          107.62571206213332,
          120.4719799521,
          147.56621963536668,
          119.15620876793332,
          125.89817941953334,
          108.6342623397,
          107.70839305636667,
          134.44052801216665,
          127.7737671822,
          167.67082691546668,
          202.77125651136663,
          236.2440918179,
          253.56647582180003,
          266.64281586826667,
          287.2065065897333,
          303.3401654812667,
          334.38045994973334,
          321.8879914711667,
          335.2388359877333,
          287.4074633302667,
          202.1438682634333,
          200.7256060527,
          210.3076924658667,
          201.5815019135,
          191.34755633673333,
          208.70656760263333,
          211.3363892950333,
          137.3675665684,
          209.80917733650003,
          271.8992538987333,
          332.5957400667333,
          434.0241668406,
          411.3418113613666,
          337.5237664415333,
          224.91087308343333,
          277.2270228648667,
          272.4116762438333,
          248.00393778426667,
          224.00260369696664,
          226.6025098270333,
          199.5820167503333,
          182.94380346596665,
          241.63649198756664,
          232.83510477666664,
          217.99648210433327,
          226.1721893805,
          239.35278300783327,
          151.60885155484445,
          152.49832810744445,
          156.38026261383334,
          169.8222878902889,
          176.7718551801778,
          177.1811389441222,
          172.6624002974,
          169.63443993466666,
          143.7311005684,
          177.15813917670002,
          195.73022481595555,
          185.574100134,
          177.50878236513333,
          178.56915131524443,
          169.0318371276,
          184.7431704089556,
          167.52188848586667,
          177.09594684367778,
          239.9145777426,
          210.1743305757111,
          219.63003686292225,
          175.20620168814446,
          133.85079334356666,
          147.8419875748889,
          158.64012517214445,
          177.9900003762222,
          166.35782411813335,
          169.70481861215555,
          120.35219211326664,
          101.11268580731112,
          121.37945495417776,
          200.736745175,
          224.36854415936668,
          223.58489587013327,
          180.38691703296664,
          173.37009246173332,
          114.2126595499,
          161.54418318086667,
          181.375653051,
          187.5463017727333,
          185.5893434249,
          165.87799864439998,
          167.9971178559,
          167.74615571763334,
          136.1720299063,
          160.05898493060002,
          165.7053903319,
          164.309055247,
          113.8978657953,
          121.39357856603334,
          111.50842822936666,
          121.96276779793334,
          164.3267622455,
          173.01798024863334,
          184.584252135,
          219.5569739768,
          248.80812348596663,
          251.23229482346665,
          274.012303675,
          286.1381870071,
          311.2777561574666,
          325.65837087483334,
          335.3460165459333,
          337.02038819176664,
          256.9089107462,
          299.0853359828333,
          246.8713280410333,
          253.4154844247333,
          242.2272007749,
          212.5537550452333,
          236.70622378776667,
          244.2799634802333,
          244.0393092397333,
          258.01204906566664,
          270.56638503663333,
          285.31787186746664,
          283.271270214,
          273.05082591086665,
          287.3321921675667,
          322.7368456294,
          326.2849457738,
          357.1352101584,
          400.58238712803336,
          419.113694959,
          420.61965224836666,
          429.7334954217333,
          444.5355751137667,
          467.5575736797,
          509.2616914702666,
          507.7130395607667,
          450.7930971015,
          523.0726980822,
          499.7962119735334,
          510.8509979227,
          531.0305672357,
          556.6253745001333,
          560.9106826756333,
          526.6652148232333,
          503.1934809124,
          415.8064971809,
          432.61928971466665,
          381.8508350045667,
          436.0338762112333,
          309.3528225253,
          256.55275899496667,
          250.0275534853,
          212.65986900166664,
          204.8056496120333,
          216.1465712030333,
          250.5803743439,
          235.7702636137,
          243.2981734820333,
          202.968121683,
          194.94165071756663,
          243.9196906469667,
          250.93103278116664,
          277.9080973694,
          348.9216554459333,
          375.9744406195,
          396.3932978743333,
          452.8826199384334,
          568.7788272762333,
          675.0510164512666,
          768.6838144923667,
          721.5205503904334,
          794.9294052108667,
          799.9009328050333,
          741.8818057063332,
          569.4053375572,
          682.3372145263667,
          621.2968903492666,
          561.624488399,
          556.9092336778667,
          604.8585322595667,
          573.2946676894334,
          572.7660878618666,
          562.8534410486667,
          547.7789099221001,
          515.8515977783667,
          496.16126738863335,
          429.38230709373335,
          418.8577930926001,
          410.9205700374,
          423.7087455614333,
          351.6163010174667,
          372.57516342446667,
          361.4122095290333,
          297.97839228056665,
          315.511962764,
          319.4327370885333,
          366.6270357873,
          374.0731976343666,
          372.13955998246666,
          435.5328814148666,
          450.0135043289333,
          463.7545105165,
          501.8976104556,
          487.8137558528,
          470.94714484176666,
          431.3983143267,
          313.6173168691667,
          312.0133821560333,
          287.9145897603,
          234.20115136966663,
          185.5636310353,
          164.92299893443334,
          168.05130423886666,
          219.3029585301,
          203.53429561523333,
          163.73357652546667,
          234.4922552514,
          291.23608951746667,
          341.55839888603333,
          321.62533798656665,
          329.27193836323335,
          236.03052647476667,
          186.2669153527333,
          180.38245627016667,
          188.87672340606665,
          153.32040885503335,
          168.90205633026667,
          163.32335787553333,
          149.59529507336666,
          153.88823286206664,
          147.18555320043333,
          150.28855113836667,
          144.2343309941,
          139.88260143969998,
          133.9439032891,
          141.84049052946668,
          133.08015810536668,
          143.43973677953332,
          145.75005667423332,
          263.44543922816666,
          242.1994135678,
          242.84623382786663,
          214.800520733,
          212.02258143863327,
          294.0202761736667,
          290.9840322788,
          262.3251726828,
          303.79650600099995,
          319.6270939814333,
          334.2317397834,
          341.2148204153,
          343.05637368949994,
          333.4545873304,
          323.327413014,
          249.317842336,
          254.6826009834,
          186.79008909516668,
          210.5781809513333,
          189.01870382113336,
          240.7723909257,
          255.105191346,
          257.89916929463334,
          321.68339539606666,
          321.9544497141,
          354.5173310422333,
          404.3975417612,
          514.3697640661667,
          582.1855448730333,
          629.9293873606,
          639.0584256112,
          692.2176118567,
          682.7860478941999,
          727.0558307901,
          776.6545298109668,
          811.1855775365999,
          820.3688887720333,
          834.1325286478333,
          836.8465536497333,
          781.1399254179,
          789.4337239329667,
          801.7243562416,
          741.2614393731333,
          765.2225726731334,
          669.8191737313,
          650.3343199944667,
          450.5935416651666,
          374.3725136908333,
          385.6183086151,
          360.3704527560666,
          308.91654787276667,
          253.708678186,
          246.6326825770333,
          206.9850470411333,
          266.10522138560003,
          302.2922313390667,
          346.08643039783334,
          329.4370321681333,
          310.7298592868,
          292.0219092928,
          281.5663019065667,
          295.7395729818666,
          327.5229819927,
          352.6390978964,
          363.4437399086334,
          409.9441384222,
          440.87588160436667,
          499.2802866515333,
          568.8711079990334,
          602.020597139,
          739.7786245499334,
          749.1596229890333,
          846.8458569028667,
          888.3327651133667,
          715.754742528,
          685.7912672841334,
          598.3499218381334,
          612.2174932613667,
          472.8369474031333,
          516.2033960732334
         ],
         "yaxis": "y"
        },
        {
         "mode": "lines",
         "name": "Valores predichos de train",
         "type": "scatter",
         "x": [
          "2021-10-05",
          "2021-10-06",
          "2021-10-07",
          "2021-10-08",
          "2021-10-09",
          "2021-10-10",
          "2021-10-11",
          "2021-10-12",
          "2021-10-13",
          "2021-10-14",
          "2021-10-15",
          "2021-10-16",
          "2021-10-17",
          "2021-10-18",
          "2021-10-19",
          "2021-10-20",
          "2021-10-21",
          "2021-10-22",
          "2021-10-23",
          "2021-10-24",
          "2021-10-25",
          "2021-10-26",
          "2021-10-27",
          "2021-10-28",
          "2021-10-29",
          "2021-10-30",
          "2021-10-31",
          "2021-11-01",
          "2021-11-02",
          "2021-11-03",
          "2021-11-04",
          "2021-11-05",
          "2021-11-06",
          "2021-11-07",
          "2021-11-08",
          "2021-11-09",
          "2021-12-04",
          "2021-12-05",
          "2021-12-06",
          "2021-12-07",
          "2021-12-08",
          "2021-12-09",
          "2021-12-10",
          "2021-12-11",
          "2021-12-12",
          "2021-12-13",
          "2021-12-14",
          "2021-12-15",
          "2021-12-16",
          "2021-12-17",
          "2021-12-18",
          "2021-12-19",
          "2021-12-20",
          "2021-12-21",
          "2021-12-22",
          "2021-12-23",
          "2021-12-24",
          "2021-12-25",
          "2021-12-26",
          "2021-12-27",
          "2021-12-28",
          "2021-12-29",
          "2021-12-30",
          "2021-12-31",
          "2022-02-01",
          "2022-02-02",
          "2022-02-03",
          "2022-02-04",
          "2022-02-05",
          "2022-02-06",
          "2022-02-07",
          "2022-02-08",
          "2022-02-09",
          "2022-02-10",
          "2022-02-11",
          "2022-02-12",
          "2022-02-13",
          "2022-02-14",
          "2022-02-15",
          "2022-02-16",
          "2022-02-17",
          "2022-02-18",
          "2022-02-19",
          "2022-02-20",
          "2022-02-21",
          "2022-02-22",
          "2022-02-23",
          "2022-02-24",
          "2022-02-25",
          "2022-02-26",
          "2022-02-27",
          "2022-02-28",
          "2022-04-01",
          "2022-04-02",
          "2022-04-03",
          "2022-04-04",
          "2022-04-05",
          "2022-04-06",
          "2022-04-07",
          "2022-04-08",
          "2022-04-09",
          "2022-04-10",
          "2022-04-11",
          "2022-04-12",
          "2022-04-13",
          "2022-04-14",
          "2022-04-15",
          "2022-04-16",
          "2022-04-17",
          "2022-04-18",
          "2022-04-19",
          "2022-04-20",
          "2022-04-21",
          "2022-04-22",
          "2022-04-23",
          "2022-04-24",
          "2022-04-25",
          "2022-04-26",
          "2022-04-27",
          "2022-04-28",
          "2022-04-29",
          "2022-04-30",
          "2022-05-01",
          "2022-05-02",
          "2022-05-03",
          "2022-05-04",
          "2022-05-05",
          "2022-05-06",
          "2022-05-07",
          "2022-05-08",
          "2022-05-09",
          "2022-05-10",
          "2022-05-11",
          "2022-05-12",
          "2022-05-13",
          "2022-05-14",
          "2022-05-15",
          "2022-05-16",
          "2022-05-17",
          "2022-05-18",
          "2022-05-19",
          "2022-05-20",
          "2022-05-21",
          "2022-05-22",
          "2022-05-23",
          "2022-05-24",
          "2022-05-25",
          "2022-05-26",
          "2022-05-27",
          "2022-05-28",
          "2022-05-29",
          "2022-05-30",
          "2022-05-31",
          "2022-06-01",
          "2022-06-02",
          "2022-06-03",
          "2022-06-04",
          "2022-06-05",
          "2022-06-06",
          "2022-06-07",
          "2022-06-08",
          "2022-06-09",
          "2022-06-10",
          "2022-06-11",
          "2022-06-12",
          "2022-06-13",
          "2022-06-14",
          "2022-06-15",
          "2022-06-16",
          "2022-06-17",
          "2022-06-18",
          "2022-06-19",
          "2022-06-20",
          "2022-06-21",
          "2022-06-22",
          "2022-06-23",
          "2022-06-24",
          "2022-06-25",
          "2022-06-26",
          "2022-06-27",
          "2022-06-28",
          "2022-06-29",
          "2022-06-30",
          "2022-07-01",
          "2022-07-02",
          "2022-07-03",
          "2022-07-04",
          "2022-07-05",
          "2022-07-06",
          "2022-07-07",
          "2022-07-08",
          "2022-07-09",
          "2022-07-10",
          "2022-07-11",
          "2022-07-12",
          "2022-07-13",
          "2022-07-14",
          "2022-07-15",
          "2022-07-16",
          "2022-07-17",
          "2022-07-18",
          "2022-07-19",
          "2022-07-20",
          "2022-07-21",
          "2022-07-22",
          "2022-07-23",
          "2022-07-24",
          "2022-07-25",
          "2022-07-26",
          "2022-07-27",
          "2022-07-28",
          "2022-07-29",
          "2022-07-30",
          "2022-07-31",
          "2022-08-01",
          "2022-08-02",
          "2022-08-03",
          "2022-08-04",
          "2022-08-05",
          "2022-08-06",
          "2022-08-07",
          "2022-08-08",
          "2022-08-09",
          "2022-08-10",
          "2022-08-11",
          "2022-08-12",
          "2022-08-13",
          "2022-08-14",
          "2022-08-15",
          "2022-08-16",
          "2022-08-17",
          "2022-08-18",
          "2022-08-19",
          "2022-08-20",
          "2022-08-21",
          "2022-08-22",
          "2022-08-23",
          "2022-08-24",
          "2022-08-25",
          "2022-08-26",
          "2022-08-27",
          "2022-08-28",
          "2022-08-29",
          "2022-08-30",
          "2022-08-31",
          "2022-09-01",
          "2022-09-02",
          "2022-09-03",
          "2022-09-04",
          "2022-09-05",
          "2022-09-06",
          "2022-09-07",
          "2022-09-08",
          "2022-09-09",
          "2022-09-10",
          "2022-09-11",
          "2022-09-12",
          "2022-09-13",
          "2022-09-14",
          "2022-09-15",
          "2022-09-16",
          "2022-09-17",
          "2022-09-18",
          "2022-09-19",
          "2022-09-20",
          "2022-09-21",
          "2022-09-22",
          "2022-09-23",
          "2022-09-24",
          "2022-09-25",
          "2022-09-26",
          "2022-09-27",
          "2022-09-28",
          "2022-09-29",
          "2022-09-30",
          "2022-10-01",
          "2022-10-02",
          "2022-10-03",
          "2022-10-04",
          "2022-10-05",
          "2022-10-06",
          "2022-10-07",
          "2022-10-08",
          "2022-10-09",
          "2022-10-10",
          "2022-10-11",
          "2022-10-12",
          "2022-10-13",
          "2022-10-14",
          "2022-10-15",
          "2022-10-16",
          "2022-10-17",
          "2022-10-18",
          "2022-10-19",
          "2022-10-20",
          "2022-10-21",
          "2022-10-22",
          "2022-10-23",
          "2022-10-24",
          "2022-10-25",
          "2022-10-26",
          "2022-10-27",
          "2022-10-28",
          "2022-10-29",
          "2022-10-30",
          "2022-10-31",
          "2022-11-01",
          "2022-11-02",
          "2022-11-03",
          "2022-11-04",
          "2022-11-05",
          "2022-11-06",
          "2022-11-07",
          "2022-11-08",
          "2022-11-09",
          "2022-11-10",
          "2022-11-11",
          "2022-11-12",
          "2022-11-13",
          "2022-11-14",
          "2022-11-15",
          "2022-11-16",
          "2022-11-17",
          "2022-11-18",
          "2022-11-19",
          "2022-11-20",
          "2022-11-21",
          "2022-11-22",
          "2022-11-23",
          "2022-11-24",
          "2022-11-25",
          "2022-11-26",
          "2022-11-27",
          "2022-11-28",
          "2022-11-29",
          "2022-11-30",
          "2022-12-01",
          "2022-12-02",
          "2022-12-03",
          "2022-12-04",
          "2022-12-05",
          "2022-12-06",
          "2022-12-07",
          "2022-12-08",
          "2022-12-09",
          "2022-12-10",
          "2022-12-11",
          "2022-12-12",
          "2022-12-13",
          "2022-12-14",
          "2022-12-15",
          "2022-12-16",
          "2022-12-17",
          "2022-12-18",
          "2022-12-19",
          "2022-12-20",
          "2022-12-21",
          "2022-12-22",
          "2022-12-23",
          "2022-12-24",
          "2022-12-25",
          "2022-12-26",
          "2022-12-27",
          "2022-12-28",
          "2022-12-29",
          "2022-12-30",
          "2022-12-31",
          "2023-01-01",
          "2023-01-02",
          "2023-01-03",
          "2023-01-04",
          "2023-01-05",
          "2023-01-06",
          "2023-01-07",
          "2023-01-08",
          "2023-01-09",
          "2023-01-10",
          "2023-01-11",
          "2023-01-12",
          "2023-01-13",
          "2023-01-14",
          "2023-01-15",
          "2023-01-16",
          "2023-01-17",
          "2023-01-18",
          "2023-01-19",
          "2023-01-20",
          "2023-01-21",
          "2023-01-22",
          "2023-01-23",
          "2023-01-24",
          "2023-01-25",
          "2023-01-26",
          "2023-01-27",
          "2023-01-28",
          "2023-01-29",
          "2023-01-30",
          "2023-01-31",
          "2023-02-01",
          "2023-02-02",
          "2023-02-03",
          "2023-02-04",
          "2023-02-05",
          "2023-02-06",
          "2023-02-07",
          "2023-02-08",
          "2023-02-09",
          "2023-02-10",
          "2023-02-11",
          "2023-02-12",
          "2023-02-13",
          "2023-02-14",
          "2023-02-15",
          "2023-02-16",
          "2023-02-17",
          "2023-02-18",
          "2023-02-19",
          "2023-02-20",
          "2023-02-21",
          "2023-02-22",
          "2023-02-23",
          "2023-02-24",
          "2023-02-25",
          "2023-02-26",
          "2023-02-27",
          "2023-02-28",
          "2023-03-01",
          "2023-03-02",
          "2023-03-03",
          "2023-03-04",
          "2023-03-05",
          "2023-03-06",
          "2023-03-07",
          "2023-03-08",
          "2023-03-09",
          "2023-03-10",
          "2023-03-11",
          "2023-03-12",
          "2023-03-13",
          "2023-03-14",
          "2023-03-15",
          "2023-03-16",
          "2023-03-17",
          "2023-03-18",
          "2023-03-19",
          "2023-03-20",
          "2023-03-21",
          "2023-03-22",
          "2023-03-23",
          "2023-03-24",
          "2023-03-25",
          "2023-03-26",
          "2023-03-27",
          "2023-03-28",
          "2023-03-29",
          "2023-03-30",
          "2023-03-31",
          "2023-04-01",
          "2023-04-02",
          "2023-04-03",
          "2023-04-04",
          "2023-04-05",
          "2023-04-06",
          "2023-04-07",
          "2023-04-08",
          "2023-04-09",
          "2023-04-10",
          "2023-04-11",
          "2023-04-12",
          "2023-04-13",
          "2023-04-14",
          "2023-04-15",
          "2023-04-16",
          "2023-04-17",
          "2023-04-18",
          "2023-04-19",
          "2023-04-20",
          "2023-04-21",
          "2023-04-22",
          "2023-04-23",
          "2023-04-24",
          "2023-04-25",
          "2023-04-26",
          "2023-04-27",
          "2023-04-28",
          "2023-04-29",
          "2023-04-30",
          "2023-05-01",
          "2023-05-02",
          "2023-05-03",
          "2023-05-04",
          "2023-05-05",
          "2023-05-06",
          "2023-05-07",
          "2023-05-08",
          "2023-05-09",
          "2023-05-10",
          "2023-05-11",
          "2023-05-12",
          "2023-05-13",
          "2023-05-14",
          "2023-05-15",
          "2023-05-16",
          "2023-05-17",
          "2023-05-18",
          "2023-05-19",
          "2023-05-20",
          "2023-05-21",
          "2023-05-22",
          "2023-05-23",
          "2023-05-24",
          "2023-05-25",
          "2023-05-26",
          "2023-05-27",
          "2023-05-28",
          "2023-05-29",
          "2023-05-30",
          "2023-05-31",
          "2023-06-01",
          "2023-06-02",
          "2023-06-03",
          "2023-06-04",
          "2023-06-05",
          "2023-06-06",
          "2023-06-07",
          "2023-06-08",
          "2023-06-09",
          "2023-06-10",
          "2023-06-11",
          "2023-06-12",
          "2023-06-13",
          "2023-06-14",
          "2023-06-15",
          "2023-06-16",
          "2023-06-17",
          "2023-06-18",
          "2023-06-19",
          "2023-06-20",
          "2023-06-21",
          "2023-06-22",
          "2023-06-23",
          "2023-06-24",
          "2023-06-25",
          "2023-06-26",
          "2023-06-27",
          "2023-06-28",
          "2023-06-29",
          "2023-06-30"
         ],
         "y": [
          289.2718522975827,
          275.94833551294164,
          259.0790453056124,
          231.3462698245638,
          225.60113172163372,
          219.68637476725362,
          219.34967912944165,
          228.53590203023163,
          227.25819382518085,
          211.26777074590743,
          207.04632240848775,
          192.00224110367506,
          221.72887941792615,
          224.88823893670644,
          226.9363026411861,
          244.28334746501886,
          234.02013638726808,
          234.70836003720265,
          220.76555275913466,
          227.98863097364747,
          228.41673759757225,
          227.63090690248106,
          213.00080203209637,
          199.92622080778733,
          175.70364601205569,
          163.30136991995087,
          155.97228957356845,
          146.9597979312167,
          203.29079585818832,
          190.36802871853388,
          192.3519247168113,
          211.92783628190685,
          206.4039599990301,
          264.0166712524725,
          271.3431013645793,
          278.54000597454234,
          269.44196088580065,
          125.15296925850065,
          99.38230944886351,
          126.85077574196745,
          130.51480570049333,
          114.33144646609742,
          91.0003122888526,
          92.0224408634922,
          115.94468084644771,
          129.28894860523923,
          119.68890619109293,
          129.00376079283143,
          119.03403460460727,
          140.09031911956438,
          107.62800213111154,
          88.53352362420772,
          129.33094344074541,
          102.94102517033824,
          153.29255042517374,
          104.87091962233262,
          96.18247645356686,
          97.84427555839908,
          154.88710462527504,
          130.34192231807424,
          162.5496900428008,
          163.369163562783,
          86.52632091000358,
          84.2482807912523,
          95.92147474556914,
          620.5132084172833,
          712.0579988679581,
          678.9432556517179,
          621.3794110111994,
          654.0070686775239,
          630.2149635897313,
          590.5278802682383,
          530.9685760351963,
          453.14672010753424,
          397.0372559231974,
          344.6859753732476,
          309.7260257565023,
          289.2488123911287,
          344.9176253267296,
          349.94146711484973,
          336.7978884466047,
          310.3235661620567,
          312.6144897246836,
          299.99279117975607,
          244.39511028473484,
          258.30290512565534,
          280.24494479537907,
          253.17073999520997,
          252.17593308934565,
          244.8963783041076,
          250.43441725246362,
          239.5842472427471,
          261.387482057704,
          288.27277088256477,
          237.2326808081461,
          134.60757828719807,
          166.25160078301198,
          209.87425971519565,
          197.16166969121943,
          269.8240697483943,
          162.09133851774817,
          121.87706092626833,
          127.2545550268863,
          144.60585003125888,
          137.61400166159825,
          138.84103531675692,
          128.83107035870933,
          108.99414618838794,
          124.03373707580027,
          115.77624689639761,
          143.22076787918155,
          197.90867939576253,
          152.15327746191443,
          129.52663102993532,
          117.2172861765092,
          115.16750080638353,
          103.81297916913437,
          105.99236978945702,
          112.56828697766889,
          107.40790234374347,
          103.29032014396918,
          103.0613378513669,
          104.53052017798775,
          104.6050002613557,
          108.76175423286927,
          117.19169810473223,
          138.92339878988238,
          112.56568440671688,
          112.70603984288714,
          122.52239254037065,
          116.42968394727669,
          108.43115311927154,
          113.71795256739975,
          108.7090205022951,
          100.44213767084146,
          108.09572575778787,
          108.39919375638013,
          102.85125663619878,
          103.93299074644568,
          115.24510657234877,
          152.29739546480843,
          127.84404239594222,
          115.83965818112694,
          115.00984250067434,
          97.44814451217782,
          100.94582671367658,
          113.0066445236128,
          106.14180376178658,
          100.4589133426077,
          102.53700484999334,
          102.02181191063829,
          100.04590333522083,
          103.59828949611118,
          102.62592173635231,
          123.51045349445855,
          110.31666265289584,
          111.07365843631355,
          110.48801070967905,
          106.9821874863914,
          104.19258796812606,
          107.27922490449667,
          128.16073049729422,
          116.26275445185593,
          107.57456897418999,
          111.14119068853914,
          108.04347489083322,
          106.63478637999742,
          108.28838492467767,
          109.28982745451795,
          102.52105484906603,
          107.54368894104176,
          105.1858552552408,
          105.21294606624149,
          103.51948568749786,
          107.15980718511788,
          111.0491092620844,
          111.69065986304031,
          106.28794978040915,
          104.87862226146791,
          109.75078954344896,
          109.85877308558122,
          108.26060843874636,
          110.70674189351848,
          108.63860695003861,
          108.89764797667353,
          111.32206443499685,
          106.95560729752583,
          103.51467722980291,
          112.23274253067828,
          112.89227221033957,
          108.28960801390758,
          112.19399152613813,
          114.00315279983002,
          110.26148157981186,
          110.81926466575516,
          124.3819109780203,
          124.30185146755403,
          118.40155711253922,
          118.67559771835414,
          115.01213630331092,
          112.59401124821926,
          128.4419614357692,
          124.6886894514338,
          110.83963174468938,
          111.30702775847301,
          107.9063290713936,
          108.96745638845198,
          116.4159712978895,
          114.004181969328,
          134.68188732008366,
          113.23350072003413,
          104.16211697243443,
          116.4683948105633,
          112.21640165718168,
          122.24846482531399,
          115.26125085484719,
          111.06176450913101,
          117.14963706117663,
          116.83105638995433,
          108.83202864120689,
          116.92359293454746,
          113.99354686878824,
          109.36406334499672,
          114.67159350821522,
          115.01499407361337,
          106.83930563849607,
          117.74099473962252,
          113.27866804940577,
          112.347097612012,
          114.657549352291,
          129.46325626406423,
          160.49092236049074,
          128.16511441155848,
          127.69845978394521,
          110.35238773082567,
          108.04782959540776,
          143.31807465056718,
          138.2049834610865,
          174.4915649335924,
          216.8832787420625,
          244.1469347592206,
          261.19656121705793,
          267.27083748877,
          291.0481269492033,
          307.51281457895163,
          335.2172273284306,
          322.0226956016652,
          329.6346643105084,
          282.4329331642301,
          185.58208622997773,
          187.3045117660852,
          214.39828955027164,
          206.4457913430327,
          190.81075598727523,
          206.63243758972416,
          217.45091258649055,
          131.3628078992491,
          207.12595056640265,
          291.7075224501735,
          349.38565039553026,
          439.9009416133888,
          420.9615760163133,
          321.88684699130323,
          198.04067358203508,
          262.48659011798725,
          274.5624870661363,
          244.48850964352374,
          217.31985746188298,
          221.27383627659148,
          200.63387430531944,
          181.46198408034724,
          247.81160630682032,
          243.14078032139162,
          217.00458857290394,
          223.80100711780713,
          241.8147759306314,
          149.31499168089638,
          143.25586719870873,
          161.8413666563704,
          174.2048961248228,
          183.8920676505571,
          181.27951413331382,
          172.0986764569253,
          172.6557636943989,
          146.24662800010506,
          179.48815790425246,
          207.55456396901425,
          191.76717366596787,
          178.34687984681858,
          179.4762301700569,
          164.60548052085608,
          188.10492631379168,
          171.7239419971729,
          177.2784098586232,
          248.50019307660273,
          214.3630990856959,
          217.3830865793064,
          173.0739739448083,
          125.46841292091358,
          147.97244818281672,
          164.45232180756787,
          182.71468459035233,
          172.49757679070046,
          169.68336541487614,
          123.14487136113515,
          99.2317686037029,
          128.19229241328154,
          213.45407719682365,
          240.58268913121083,
          225.1985517998412,
          178.95931175318782,
          168.73972632955096,
          112.61106546240535,
          160.8524287385025,
          196.73021752494077,
          195.757560437155,
          190.05069509272087,
          167.0224788606044,
          169.7679486244746,
          173.9182027208216,
          139.48117046342878,
          162.62044805407055,
          175.1938940878258,
          169.61608862999103,
          114.66148662070802,
          119.67778129726133,
          116.47727391464329,
          127.06613502705434,
          175.68126617328915,
          186.22206786086335,
          193.69985256950082,
          227.93593292310248,
          259.3962806727304,
          257.3357260628303,
          277.22489368120245,
          285.59384519346406,
          314.0468069829281,
          330.10019159141405,
          327.5314212178469,
          329.02098307212583,
          248.83928673342203,
          287.1308354399699,
          241.69940814248784,
          245.3462980024651,
          243.43014350840147,
          209.49600359346084,
          235.5891347683008,
          250.78463380381848,
          246.5307047935591,
          260.23296429047207,
          275.5938571230659,
          286.73821757531675,
          285.25557169751005,
          271.0304276414084,
          287.62086685803206,
          329.31983844099045,
          332.664824687582,
          359.9166843329058,
          408.1978517512651,
          423.962105713305,
          419.162700567365,
          424.38038287854636,
          441.3093785248642,
          466.28056840154426,
          509.89840009922665,
          507.1543690804103,
          437.47035241200626,
          510.8985030558896,
          500.2626793795257,
          496.8201057491094,
          523.453072921348,
          551.5358260193425,
          554.1862840260583,
          511.2711587179011,
          481.62333511725154,
          393.01188801209275,
          408.96141380565894,
          373.0657494946243,
          420.1000618856413,
          303.1328740708543,
          226.55618283049347,
          239.86567994656957,
          209.79281942141728,
          198.69140366513716,
          217.78964402864975,
          256.8638252795127,
          240.96155286773276,
          242.28723260801965,
          201.9852007028283,
          189.56394749373612,
          249.43363977870342,
          263.53967995843885,
          284.1323290240401,
          361.1967475414093,
          389.8393404966879,
          400.7897652043237,
          458.0096933891315,
          581.8561678901776,
          693.5197227643405,
          780.0391976294461,
          716.1444974019055,
          774.1979702295471,
          793.4255581109164,
          717.3534521399113,
          528.5658999906577,
          649.5193513791812,
          621.9707079211958,
          532.7376600038106,
          535.3317128804586,
          596.4543990264417,
          567.0255174761257,
          555.295928299977,
          550.3272754503266,
          530.4976685927634,
          500.9106336303993,
          478.9690063007117,
          413.0212520985302,
          400.0224548386445,
          401.93588194564984,
          415.0592764182795,
          344.3263104093172,
          359.9363931880928,
          362.49805702286335,
          289.54394341126635,
          306.50251563619554,
          323.5574085735938,
          367.5175554772282,
          380.6047917362938,
          370.9087886670886,
          436.5738288669112,
          455.6454151173547,
          461.51571734255634,
          499.10491663747933,
          483.39168029459415,
          451.762699678156,
          414.2714572284966,
          283.745788536446,
          286.2212850948917,
          281.299452034983,
          224.77928736484327,
          172.63505973842794,
          157.8874073413698,
          164.96585515978035,
          228.84531768413515,
          216.09787488759414,
          163.40800305944867,
          240.02286677350517,
          312.4802854304772,
          356.2059429592859,
          326.06900642034805,
          324.9861635434561,
          229.76968271794206,
          168.73656061808708,
          177.2914581173024,
          192.1184904224763,
          158.70030084403683,
          171.02380185055452,
          171.77557288159952,
          152.5797663325767,
          160.53942248960306,
          154.7128042385278,
          157.78338802785953,
          148.65407846706123,
          144.52384721028807,
          139.05151439342745,
          149.3980376859631,
          141.47879491728773,
          150.51588148573657,
          154.3909846762767,
          280.1267405553676,
          264.46186799797744,
          243.08635842462817,
          212.4896375437808,
          209.43614870449917,
          303.86616123132205,
          307.35695719376275,
          258.7873489239601,
          301.3870163149915,
          326.44106717792266,
          335.71297868762747,
          342.758777686797,
          343.8335309393755,
          331.29765599195565,
          317.9077521278397,
          242.2785718967132,
          244.00229089952558,
          184.17207304327005,
          205.9724927320137,
          198.16430174690115,
          248.00143151498398,
          271.90543525912625,
          265.81925143043395,
          330.66294774291094,
          336.46533433636563,
          358.5937083167361,
          414.2659222672496,
          526.2489867789814,
          600.7762505290689,
          636.0102817466247,
          636.6776160215022,
          684.4218740317292,
          674.215910802335,
          712.6168189407342,
          772.0505415946668,
          806.5093680864502,
          807.4985844811338,
          814.1418379989886,
          816.3066863996407,
          755.0292783128598,
          759.3628337257842,
          783.0006459535866,
          718.754079190802,
          735.6358414244723,
          649.0143899078375,
          617.0176687791866,
          418.99352123675453,
          325.9229756650957,
          371.07458975854075,
          354.7984659156781,
          298.8625340911472,
          242.5558537668259,
          238.82771575725766,
          205.8777682397213,
          267.40654745537813,
          317.0168055804717,
          355.3563228474866,
          333.30176163068535,
          304.34399734256976,
          286.2298170699502,
          279.0194207030085,
          298.5144411458706,
          331.55934151926294,
          359.2123849489146,
          367.6428052844158,
          413.05370682216954,
          448.4535519779165,
          504.67010563902596,
          579.3664612637101,
          608.2578062745447,
          744.5391673804156,
          757.2797816381635,
          836.8227989545369,
          885.2770955718931,
          684.5626363301737,
          635.4737085284248,
          571.6406380869892,
          587.4729270616247,
          453.9536580981398
         ]
        },
        {
         "mode": "lines",
         "name": "Valores reales de test",
         "type": "scatter",
         "x": [
          "2023-07-01",
          "2023-07-02",
          "2023-07-03",
          "2023-07-04",
          "2023-07-05",
          "2023-07-06",
          "2023-07-07",
          "2023-07-08",
          "2023-07-09",
          "2023-07-10",
          "2023-07-11",
          "2023-07-12",
          "2023-07-13",
          "2023-07-14",
          "2023-07-15",
          "2023-07-16",
          "2023-07-17",
          "2023-07-18",
          "2023-07-19",
          "2023-07-20",
          "2023-07-21",
          "2023-07-22",
          "2023-07-23",
          "2023-07-24",
          "2023-07-25",
          "2023-07-26",
          "2023-07-27",
          "2023-07-28",
          "2023-07-29",
          "2023-07-30",
          "2023-07-31",
          "2023-08-01",
          "2023-08-02",
          "2023-08-03",
          "2023-08-04",
          "2023-08-05",
          "2023-08-06",
          "2023-08-07",
          "2023-08-08",
          "2023-08-09",
          "2023-08-10",
          "2023-08-11",
          "2023-08-12",
          "2023-08-13",
          "2023-08-14",
          "2023-08-15",
          "2023-08-16",
          "2023-08-17",
          "2023-08-18",
          "2023-08-19",
          "2023-08-20",
          "2023-08-21",
          "2023-08-22",
          "2023-08-23",
          "2023-08-24",
          "2023-08-25",
          "2023-08-26",
          "2023-08-27",
          "2023-08-28",
          "2023-08-29",
          "2023-08-30",
          "2023-08-31",
          "2023-09-01",
          "2023-09-02",
          "2023-09-03",
          "2023-09-04",
          "2023-09-05",
          "2023-09-06",
          "2023-09-07",
          "2023-09-08",
          "2023-09-09",
          "2023-09-10",
          "2023-09-11",
          "2023-09-12",
          "2023-09-13",
          "2023-09-14",
          "2023-09-15",
          "2023-09-16",
          "2023-09-17",
          "2023-09-18",
          "2023-09-19",
          "2023-09-20",
          "2023-09-21",
          "2023-09-22",
          "2023-09-23",
          "2023-09-24",
          "2023-09-25",
          "2023-09-26",
          "2023-09-27",
          "2023-09-28",
          "2023-09-29",
          "2023-09-30"
         ],
         "y": [
          544.7705213565667,
          550.9924406845666,
          483.6502214998334,
          553.0780864147,
          604.0613552063,
          612.6520655029666,
          561.720197503,
          511.34744451383335,
          443.2304976700333,
          464.0946349298667,
          520.6698138396333,
          558.0087941169,
          623.2256895074667,
          667.2388902573667,
          627.5580529219334,
          655.8061852985,
          607.7387937565333,
          562.4534141153,
          452.60713804463336,
          355.5250355956,
          448.7364667266666,
          343.9170169912,
          368.67011887483335,
          505.73658042333335,
          501.0301570304,
          508.31399602706665,
          543.2798406008666,
          485.3597814536333,
          502.2773802097,
          503.4671490768667,
          493.9659789703334,
          547.1345043071,
          552.4892412716,
          502.80451949393336,
          534.6192562463666,
          464.1196171028666,
          492.90175899686665,
          407.4434403267667,
          520.8159737078333,
          615.0041053912,
          672.7727046824,
          743.8591253586001,
          765.2201509364668,
          662.3748478974667,
          648.2864592554333,
          743.5988251514667,
          684.1074411735334,
          695.5571388220666,
          718.1244276738333,
          688.8797853554333,
          429.54986892410005,
          427.4197187691333,
          333.6424985433667,
          240.48830502266665,
          199.1347986239333,
          201.7994960485,
          244.67607934786668,
          182.24162300086667,
          362.57467050660006,
          557.3878632841,
          752.3462168504999,
          804.1298802825668,
          840.0535151349333,
          897.7582867515666,
          940.0739380390668,
          965.3959244287,
          980.1408900017,
          938.9837728269,
          1002.4018762710666,
          1020.1230077620334,
          1042.4125910953665,
          1040.2309244287,
          1056.0735910953665,
          1055.8125910953663,
          1057.225091095367,
          1058.2146744287,
          1059.5459244287,
          1053.5576515038,
          980.9484479552332,
          1040.0333886235,
          1046.8870506150668,
          1040.3662577620337,
          1060.2107160953667,
          1059.9921744287,
          1061.2059358995332,
          999.485316434,
          1040.8716778893331,
          1061.5271744287,
          1041.1605757635332,
          1042.7696452357,
          1030.8072240289,
          1012.2209689485334
         ]
        },
        {
         "mode": "lines",
         "name": "Valores predichos de test",
         "type": "scatter",
         "x": [
          "2023-07-01",
          "2023-07-02",
          "2023-07-03",
          "2023-07-04",
          "2023-07-05",
          "2023-07-06",
          "2023-07-07",
          "2023-07-08",
          "2023-07-09",
          "2023-07-10",
          "2023-07-11",
          "2023-07-12",
          "2023-07-13",
          "2023-07-14",
          "2023-07-15",
          "2023-07-16",
          "2023-07-17",
          "2023-07-18",
          "2023-07-19",
          "2023-07-20",
          "2023-07-21",
          "2023-07-22",
          "2023-07-23",
          "2023-07-24",
          "2023-07-25",
          "2023-07-26",
          "2023-07-27",
          "2023-07-28",
          "2023-07-29",
          "2023-07-30",
          "2023-07-31",
          "2023-08-01",
          "2023-08-02",
          "2023-08-03",
          "2023-08-04",
          "2023-08-05",
          "2023-08-06",
          "2023-08-07",
          "2023-08-08",
          "2023-08-09",
          "2023-08-10",
          "2023-08-11",
          "2023-08-12",
          "2023-08-13",
          "2023-08-14",
          "2023-08-15",
          "2023-08-16",
          "2023-08-17",
          "2023-08-18",
          "2023-08-19",
          "2023-08-20",
          "2023-08-21",
          "2023-08-22",
          "2023-08-23",
          "2023-08-24",
          "2023-08-25",
          "2023-08-26",
          "2023-08-27",
          "2023-08-28",
          "2023-08-29",
          "2023-08-30",
          "2023-08-31",
          "2023-09-01",
          "2023-09-02",
          "2023-09-03",
          "2023-09-04",
          "2023-09-05",
          "2023-09-06",
          "2023-09-07",
          "2023-09-08",
          "2023-09-09",
          "2023-09-10",
          "2023-09-11",
          "2023-09-12",
          "2023-09-13",
          "2023-09-14",
          "2023-09-15",
          "2023-09-16",
          "2023-09-17",
          "2023-09-18",
          "2023-09-19",
          "2023-09-20",
          "2023-09-21",
          "2023-09-22",
          "2023-09-23",
          "2023-09-24",
          "2023-09-25",
          "2023-09-26",
          "2023-09-27",
          "2023-09-28",
          "2023-09-29",
          "2023-09-30"
         ],
         "y": [
          488.19400981130593,
          544.8986069216946,
          546.8790818950858,
          468.9985703739583,
          539.160783796229,
          609.5524977177231,
          608.396449100595,
          546.0625313761097,
          488.23934870739845,
          420.8359427409688,
          448.3211529040128,
          522.9967806726447,
          564.484379771355,
          623.776520288656,
          669.7446262454846,
          617.761869213158,
          636.2921614431448,
          594.3285782570188,
          539.3437668208173,
          428.1660521349788,
          321.93036928438806,
          434.88608973301706,
          347.5014133845752,
          351.2186722111821,
          520.1274072232966,
          517.8552680145942,
          500.9613087398017,
          540.1592083087617,
          479.3871090945863,
          485.93737472837125,
          498.7770676317432,
          485.08998852180184,
          543.1172102750634,
          554.5995958371748,
          492.3506698055771,
          522.8726217305602,
          455.7816308513826,
          475.8561421086808,
          401.585939504694,
          510.34242879188474,
          635.6082165699365,
          683.3582841564296,
          746.4204836228016,
          761.4169314964008,
          640.0381099323013,
          611.6393220690245,
          735.4723723825928,
          681.5074176781936,
          671.342190382057,
          706.7246866970506,
          673.9952094374139,
          388.08683841601527,
          372.1780376647386,
          322.3560951864281,
          214.87374027791338,
          183.57513376459,
          201.26207707125684,
          255.6335917269662,
          190.6200923762242,
          371.7021206364267,
          605.454671733054,
          794.3393863573699,
          828.1017139086744,
          831.9469744218579,
          887.3981074319715,
          929.6423339025987,
          951.1232341233272,
          961.6432677312785,
          912.128911972705,
          975.2273219283027,
          1004.7754813657457,
          1016.8701755317084,
          1015.726183248911,
          1029.3535570730419,
          1023.2136669082176,
          1029.633738422337,
          1031.5595819816174,
          1031.761141997811,
          1024.666086885477,
          942.4508452720363,
          1005.7247579980067,
          1030.9270438147553,
          1012.1804885721679,
          1034.0408381849736,
          1034.1261474948167,
          1032.2197925004202,
          966.5673161070665,
          1006.593828194565,
          1042.869347468602,
          1013.5187880811754,
          1011.5934604599286,
          1003.5155782712334
         ]
        },
        {
         "mode": "lines",
         "name": "Valores predichos de test -1",
         "type": "scatter",
         "x": [
          "2023-07-01",
          "2023-07-02",
          "2023-07-03",
          "2023-07-04",
          "2023-07-05",
          "2023-07-06",
          "2023-07-07",
          "2023-07-08",
          "2023-07-09",
          "2023-07-10",
          "2023-07-11",
          "2023-07-12",
          "2023-07-13",
          "2023-07-14",
          "2023-07-15",
          "2023-07-16",
          "2023-07-17",
          "2023-07-18",
          "2023-07-19",
          "2023-07-20",
          "2023-07-21",
          "2023-07-22",
          "2023-07-23",
          "2023-07-24",
          "2023-07-25",
          "2023-07-26",
          "2023-07-27",
          "2023-07-28",
          "2023-07-29",
          "2023-07-30",
          "2023-07-31",
          "2023-08-01",
          "2023-08-02",
          "2023-08-03",
          "2023-08-04",
          "2023-08-05",
          "2023-08-06",
          "2023-08-07",
          "2023-08-08",
          "2023-08-09",
          "2023-08-10",
          "2023-08-11",
          "2023-08-12",
          "2023-08-13",
          "2023-08-14",
          "2023-08-15",
          "2023-08-16",
          "2023-08-17",
          "2023-08-18",
          "2023-08-19",
          "2023-08-20",
          "2023-08-21",
          "2023-08-22",
          "2023-08-23",
          "2023-08-24",
          "2023-08-25",
          "2023-08-26",
          "2023-08-27",
          "2023-08-28",
          "2023-08-29",
          "2023-08-30",
          "2023-08-31",
          "2023-09-01",
          "2023-09-02",
          "2023-09-03",
          "2023-09-04",
          "2023-09-05",
          "2023-09-06",
          "2023-09-07",
          "2023-09-08",
          "2023-09-09",
          "2023-09-10",
          "2023-09-11",
          "2023-09-12",
          "2023-09-13",
          "2023-09-14",
          "2023-09-15",
          "2023-09-16",
          "2023-09-17",
          "2023-09-18",
          "2023-09-19",
          "2023-09-20",
          "2023-09-21",
          "2023-09-22",
          "2023-09-23",
          "2023-09-24",
          "2023-09-25",
          "2023-09-26",
          "2023-09-27",
          "2023-09-28",
          "2023-09-29",
          "2023-09-30"
         ],
         "y": [
          544.8986069216946,
          546.8790818950858,
          468.9985703739583,
          539.160783796229,
          609.5524977177231,
          608.396449100595,
          546.0625313761097,
          488.23934870739845,
          420.8359427409688,
          448.3211529040128,
          522.9967806726447,
          564.484379771355,
          623.776520288656,
          669.7446262454846,
          617.761869213158,
          636.2921614431448,
          594.3285782570188,
          539.3437668208173,
          428.1660521349788,
          321.93036928438806,
          434.88608973301706,
          347.5014133845752,
          351.2186722111821,
          520.1274072232966,
          517.8552680145942,
          500.9613087398017,
          540.1592083087617,
          479.3871090945863,
          485.93737472837125,
          498.7770676317432,
          485.08998852180184,
          543.1172102750634,
          554.5995958371748,
          492.3506698055771,
          522.8726217305602,
          455.7816308513826,
          475.8561421086808,
          401.585939504694,
          510.34242879188474,
          635.6082165699365,
          683.3582841564296,
          746.4204836228016,
          761.4169314964008,
          640.0381099323013,
          611.6393220690245,
          735.4723723825928,
          681.5074176781936,
          671.342190382057,
          706.7246866970506,
          673.9952094374139,
          388.08683841601527,
          372.1780376647386,
          322.3560951864281,
          214.87374027791338,
          183.57513376459,
          201.26207707125684,
          255.6335917269662,
          190.6200923762242,
          371.7021206364267,
          605.454671733054,
          794.3393863573699,
          828.1017139086744,
          831.9469744218579,
          887.3981074319715,
          929.6423339025987,
          951.1232341233272,
          961.6432677312785,
          912.128911972705,
          975.2273219283027,
          1004.7754813657457,
          1016.8701755317084,
          1015.726183248911,
          1029.3535570730419,
          1023.2136669082176,
          1029.633738422337,
          1031.5595819816174,
          1031.761141997811,
          1024.666086885477,
          942.4508452720363,
          1005.7247579980067,
          1030.9270438147553,
          1012.1804885721679,
          1034.0408381849736,
          1034.1261474948167,
          1032.2197925004202,
          966.5673161070665,
          1006.593828194565,
          1042.869347468602,
          1013.5187880811754,
          1011.5934604599286,
          1003.5155782712334
         ]
        },
        {
         "mode": "lines",
         "name": "Valores predichos de train -1",
         "type": "scatter",
         "x": [
          "2021-10-05",
          "2021-10-06",
          "2021-10-07",
          "2021-10-08",
          "2021-10-09",
          "2021-10-10",
          "2021-10-11",
          "2021-10-12",
          "2021-10-13",
          "2021-10-14",
          "2021-10-15",
          "2021-10-16",
          "2021-10-17",
          "2021-10-18",
          "2021-10-19",
          "2021-10-20",
          "2021-10-21",
          "2021-10-22",
          "2021-10-23",
          "2021-10-24",
          "2021-10-25",
          "2021-10-26",
          "2021-10-27",
          "2021-10-28",
          "2021-10-29",
          "2021-10-30",
          "2021-10-31",
          "2021-11-01",
          "2021-11-02",
          "2021-11-03",
          "2021-11-04",
          "2021-11-05",
          "2021-11-06",
          "2021-11-07",
          "2021-11-08",
          "2021-11-09",
          "2021-12-04",
          "2021-12-05",
          "2021-12-06",
          "2021-12-07",
          "2021-12-08",
          "2021-12-09",
          "2021-12-10",
          "2021-12-11",
          "2021-12-12",
          "2021-12-13",
          "2021-12-14",
          "2021-12-15",
          "2021-12-16",
          "2021-12-17",
          "2021-12-18",
          "2021-12-19",
          "2021-12-20",
          "2021-12-21",
          "2021-12-22",
          "2021-12-23",
          "2021-12-24",
          "2021-12-25",
          "2021-12-26",
          "2021-12-27",
          "2021-12-28",
          "2021-12-29",
          "2021-12-30",
          "2021-12-31",
          "2022-02-01",
          "2022-02-02",
          "2022-02-03",
          "2022-02-04",
          "2022-02-05",
          "2022-02-06",
          "2022-02-07",
          "2022-02-08",
          "2022-02-09",
          "2022-02-10",
          "2022-02-11",
          "2022-02-12",
          "2022-02-13",
          "2022-02-14",
          "2022-02-15",
          "2022-02-16",
          "2022-02-17",
          "2022-02-18",
          "2022-02-19",
          "2022-02-20",
          "2022-02-21",
          "2022-02-22",
          "2022-02-23",
          "2022-02-24",
          "2022-02-25",
          "2022-02-26",
          "2022-02-27",
          "2022-02-28",
          "2022-04-01",
          "2022-04-02",
          "2022-04-03",
          "2022-04-04",
          "2022-04-05",
          "2022-04-06",
          "2022-04-07",
          "2022-04-08",
          "2022-04-09",
          "2022-04-10",
          "2022-04-11",
          "2022-04-12",
          "2022-04-13",
          "2022-04-14",
          "2022-04-15",
          "2022-04-16",
          "2022-04-17",
          "2022-04-18",
          "2022-04-19",
          "2022-04-20",
          "2022-04-21",
          "2022-04-22",
          "2022-04-23",
          "2022-04-24",
          "2022-04-25",
          "2022-04-26",
          "2022-04-27",
          "2022-04-28",
          "2022-04-29",
          "2022-04-30",
          "2022-05-01",
          "2022-05-02",
          "2022-05-03",
          "2022-05-04",
          "2022-05-05",
          "2022-05-06",
          "2022-05-07",
          "2022-05-08",
          "2022-05-09",
          "2022-05-10",
          "2022-05-11",
          "2022-05-12",
          "2022-05-13",
          "2022-05-14",
          "2022-05-15",
          "2022-05-16",
          "2022-05-17",
          "2022-05-18",
          "2022-05-19",
          "2022-05-20",
          "2022-05-21",
          "2022-05-22",
          "2022-05-23",
          "2022-05-24",
          "2022-05-25",
          "2022-05-26",
          "2022-05-27",
          "2022-05-28",
          "2022-05-29",
          "2022-05-30",
          "2022-05-31",
          "2022-06-01",
          "2022-06-02",
          "2022-06-03",
          "2022-06-04",
          "2022-06-05",
          "2022-06-06",
          "2022-06-07",
          "2022-06-08",
          "2022-06-09",
          "2022-06-10",
          "2022-06-11",
          "2022-06-12",
          "2022-06-13",
          "2022-06-14",
          "2022-06-15",
          "2022-06-16",
          "2022-06-17",
          "2022-06-18",
          "2022-06-19",
          "2022-06-20",
          "2022-06-21",
          "2022-06-22",
          "2022-06-23",
          "2022-06-24",
          "2022-06-25",
          "2022-06-26",
          "2022-06-27",
          "2022-06-28",
          "2022-06-29",
          "2022-06-30",
          "2022-07-01",
          "2022-07-02",
          "2022-07-03",
          "2022-07-04",
          "2022-07-05",
          "2022-07-06",
          "2022-07-07",
          "2022-07-08",
          "2022-07-09",
          "2022-07-10",
          "2022-07-11",
          "2022-07-12",
          "2022-07-13",
          "2022-07-14",
          "2022-07-15",
          "2022-07-16",
          "2022-07-17",
          "2022-07-18",
          "2022-07-19",
          "2022-07-20",
          "2022-07-21",
          "2022-07-22",
          "2022-07-23",
          "2022-07-24",
          "2022-07-25",
          "2022-07-26",
          "2022-07-27",
          "2022-07-28",
          "2022-07-29",
          "2022-07-30",
          "2022-07-31",
          "2022-08-01",
          "2022-08-02",
          "2022-08-03",
          "2022-08-04",
          "2022-08-05",
          "2022-08-06",
          "2022-08-07",
          "2022-08-08",
          "2022-08-09",
          "2022-08-10",
          "2022-08-11",
          "2022-08-12",
          "2022-08-13",
          "2022-08-14",
          "2022-08-15",
          "2022-08-16",
          "2022-08-17",
          "2022-08-18",
          "2022-08-19",
          "2022-08-20",
          "2022-08-21",
          "2022-08-22",
          "2022-08-23",
          "2022-08-24",
          "2022-08-25",
          "2022-08-26",
          "2022-08-27",
          "2022-08-28",
          "2022-08-29",
          "2022-08-30",
          "2022-08-31",
          "2022-09-01",
          "2022-09-02",
          "2022-09-03",
          "2022-09-04",
          "2022-09-05",
          "2022-09-06",
          "2022-09-07",
          "2022-09-08",
          "2022-09-09",
          "2022-09-10",
          "2022-09-11",
          "2022-09-12",
          "2022-09-13",
          "2022-09-14",
          "2022-09-15",
          "2022-09-16",
          "2022-09-17",
          "2022-09-18",
          "2022-09-19",
          "2022-09-20",
          "2022-09-21",
          "2022-09-22",
          "2022-09-23",
          "2022-09-24",
          "2022-09-25",
          "2022-09-26",
          "2022-09-27",
          "2022-09-28",
          "2022-09-29",
          "2022-09-30",
          "2022-10-01",
          "2022-10-02",
          "2022-10-03",
          "2022-10-04",
          "2022-10-05",
          "2022-10-06",
          "2022-10-07",
          "2022-10-08",
          "2022-10-09",
          "2022-10-10",
          "2022-10-11",
          "2022-10-12",
          "2022-10-13",
          "2022-10-14",
          "2022-10-15",
          "2022-10-16",
          "2022-10-17",
          "2022-10-18",
          "2022-10-19",
          "2022-10-20",
          "2022-10-21",
          "2022-10-22",
          "2022-10-23",
          "2022-10-24",
          "2022-10-25",
          "2022-10-26",
          "2022-10-27",
          "2022-10-28",
          "2022-10-29",
          "2022-10-30",
          "2022-10-31",
          "2022-11-01",
          "2022-11-02",
          "2022-11-03",
          "2022-11-04",
          "2022-11-05",
          "2022-11-06",
          "2022-11-07",
          "2022-11-08",
          "2022-11-09",
          "2022-11-10",
          "2022-11-11",
          "2022-11-12",
          "2022-11-13",
          "2022-11-14",
          "2022-11-15",
          "2022-11-16",
          "2022-11-17",
          "2022-11-18",
          "2022-11-19",
          "2022-11-20",
          "2022-11-21",
          "2022-11-22",
          "2022-11-23",
          "2022-11-24",
          "2022-11-25",
          "2022-11-26",
          "2022-11-27",
          "2022-11-28",
          "2022-11-29",
          "2022-11-30",
          "2022-12-01",
          "2022-12-02",
          "2022-12-03",
          "2022-12-04",
          "2022-12-05",
          "2022-12-06",
          "2022-12-07",
          "2022-12-08",
          "2022-12-09",
          "2022-12-10",
          "2022-12-11",
          "2022-12-12",
          "2022-12-13",
          "2022-12-14",
          "2022-12-15",
          "2022-12-16",
          "2022-12-17",
          "2022-12-18",
          "2022-12-19",
          "2022-12-20",
          "2022-12-21",
          "2022-12-22",
          "2022-12-23",
          "2022-12-24",
          "2022-12-25",
          "2022-12-26",
          "2022-12-27",
          "2022-12-28",
          "2022-12-29",
          "2022-12-30",
          "2022-12-31",
          "2023-01-01",
          "2023-01-02",
          "2023-01-03",
          "2023-01-04",
          "2023-01-05",
          "2023-01-06",
          "2023-01-07",
          "2023-01-08",
          "2023-01-09",
          "2023-01-10",
          "2023-01-11",
          "2023-01-12",
          "2023-01-13",
          "2023-01-14",
          "2023-01-15",
          "2023-01-16",
          "2023-01-17",
          "2023-01-18",
          "2023-01-19",
          "2023-01-20",
          "2023-01-21",
          "2023-01-22",
          "2023-01-23",
          "2023-01-24",
          "2023-01-25",
          "2023-01-26",
          "2023-01-27",
          "2023-01-28",
          "2023-01-29",
          "2023-01-30",
          "2023-01-31",
          "2023-02-01",
          "2023-02-02",
          "2023-02-03",
          "2023-02-04",
          "2023-02-05",
          "2023-02-06",
          "2023-02-07",
          "2023-02-08",
          "2023-02-09",
          "2023-02-10",
          "2023-02-11",
          "2023-02-12",
          "2023-02-13",
          "2023-02-14",
          "2023-02-15",
          "2023-02-16",
          "2023-02-17",
          "2023-02-18",
          "2023-02-19",
          "2023-02-20",
          "2023-02-21",
          "2023-02-22",
          "2023-02-23",
          "2023-02-24",
          "2023-02-25",
          "2023-02-26",
          "2023-02-27",
          "2023-02-28",
          "2023-03-01",
          "2023-03-02",
          "2023-03-03",
          "2023-03-04",
          "2023-03-05",
          "2023-03-06",
          "2023-03-07",
          "2023-03-08",
          "2023-03-09",
          "2023-03-10",
          "2023-03-11",
          "2023-03-12",
          "2023-03-13",
          "2023-03-14",
          "2023-03-15",
          "2023-03-16",
          "2023-03-17",
          "2023-03-18",
          "2023-03-19",
          "2023-03-20",
          "2023-03-21",
          "2023-03-22",
          "2023-03-23",
          "2023-03-24",
          "2023-03-25",
          "2023-03-26",
          "2023-03-27",
          "2023-03-28",
          "2023-03-29",
          "2023-03-30",
          "2023-03-31",
          "2023-04-01",
          "2023-04-02",
          "2023-04-03",
          "2023-04-04",
          "2023-04-05",
          "2023-04-06",
          "2023-04-07",
          "2023-04-08",
          "2023-04-09",
          "2023-04-10",
          "2023-04-11",
          "2023-04-12",
          "2023-04-13",
          "2023-04-14",
          "2023-04-15",
          "2023-04-16",
          "2023-04-17",
          "2023-04-18",
          "2023-04-19",
          "2023-04-20",
          "2023-04-21",
          "2023-04-22",
          "2023-04-23",
          "2023-04-24",
          "2023-04-25",
          "2023-04-26",
          "2023-04-27",
          "2023-04-28",
          "2023-04-29",
          "2023-04-30",
          "2023-05-01",
          "2023-05-02",
          "2023-05-03",
          "2023-05-04",
          "2023-05-05",
          "2023-05-06",
          "2023-05-07",
          "2023-05-08",
          "2023-05-09",
          "2023-05-10",
          "2023-05-11",
          "2023-05-12",
          "2023-05-13",
          "2023-05-14",
          "2023-05-15",
          "2023-05-16",
          "2023-05-17",
          "2023-05-18",
          "2023-05-19",
          "2023-05-20",
          "2023-05-21",
          "2023-05-22",
          "2023-05-23",
          "2023-05-24",
          "2023-05-25",
          "2023-05-26",
          "2023-05-27",
          "2023-05-28",
          "2023-05-29",
          "2023-05-30",
          "2023-05-31",
          "2023-06-01",
          "2023-06-02",
          "2023-06-03",
          "2023-06-04",
          "2023-06-05",
          "2023-06-06",
          "2023-06-07",
          "2023-06-08",
          "2023-06-09",
          "2023-06-10",
          "2023-06-11",
          "2023-06-12",
          "2023-06-13",
          "2023-06-14",
          "2023-06-15",
          "2023-06-16",
          "2023-06-17",
          "2023-06-18",
          "2023-06-19",
          "2023-06-20",
          "2023-06-21",
          "2023-06-22",
          "2023-06-23",
          "2023-06-24",
          "2023-06-25",
          "2023-06-26",
          "2023-06-27",
          "2023-06-28",
          "2023-06-29",
          "2023-06-30"
         ],
         "y": [
          275.94833551294164,
          259.0790453056124,
          231.3462698245638,
          225.60113172163372,
          219.68637476725362,
          219.34967912944165,
          228.53590203023163,
          227.25819382518085,
          211.26777074590743,
          207.04632240848775,
          192.00224110367506,
          221.72887941792615,
          224.88823893670644,
          226.9363026411861,
          244.28334746501886,
          234.02013638726808,
          234.70836003720265,
          220.76555275913466,
          227.98863097364747,
          228.41673759757225,
          227.63090690248106,
          213.00080203209637,
          199.92622080778733,
          175.70364601205569,
          163.30136991995087,
          155.97228957356845,
          146.9597979312167,
          203.29079585818832,
          190.36802871853388,
          192.3519247168113,
          211.92783628190685,
          206.4039599990301,
          264.0166712524725,
          271.3431013645793,
          278.54000597454234,
          269.44196088580065,
          125.15296925850065,
          99.38230944886351,
          126.85077574196745,
          130.51480570049333,
          114.33144646609742,
          91.0003122888526,
          92.0224408634922,
          115.94468084644771,
          129.28894860523923,
          119.68890619109293,
          129.00376079283143,
          119.03403460460727,
          140.09031911956438,
          107.62800213111154,
          88.53352362420772,
          129.33094344074541,
          102.94102517033824,
          153.29255042517374,
          104.87091962233262,
          96.18247645356686,
          97.84427555839908,
          154.88710462527504,
          130.34192231807424,
          162.5496900428008,
          163.369163562783,
          86.52632091000358,
          84.2482807912523,
          95.92147474556914,
          620.5132084172833,
          712.0579988679581,
          678.9432556517179,
          621.3794110111994,
          654.0070686775239,
          630.2149635897313,
          590.5278802682383,
          530.9685760351963,
          453.14672010753424,
          397.0372559231974,
          344.6859753732476,
          309.7260257565023,
          289.2488123911287,
          344.9176253267296,
          349.94146711484973,
          336.7978884466047,
          310.3235661620567,
          312.6144897246836,
          299.99279117975607,
          244.39511028473484,
          258.30290512565534,
          280.24494479537907,
          253.17073999520997,
          252.17593308934565,
          244.8963783041076,
          250.43441725246362,
          239.5842472427471,
          261.387482057704,
          288.27277088256477,
          237.2326808081461,
          134.60757828719807,
          166.25160078301198,
          209.87425971519565,
          197.16166969121943,
          269.8240697483943,
          162.09133851774817,
          121.87706092626833,
          127.2545550268863,
          144.60585003125888,
          137.61400166159825,
          138.84103531675692,
          128.83107035870933,
          108.99414618838794,
          124.03373707580027,
          115.77624689639761,
          143.22076787918155,
          197.90867939576253,
          152.15327746191443,
          129.52663102993532,
          117.2172861765092,
          115.16750080638353,
          103.81297916913437,
          105.99236978945702,
          112.56828697766889,
          107.40790234374347,
          103.29032014396918,
          103.0613378513669,
          104.53052017798775,
          104.6050002613557,
          108.76175423286927,
          117.19169810473223,
          138.92339878988238,
          112.56568440671688,
          112.70603984288714,
          122.52239254037065,
          116.42968394727669,
          108.43115311927154,
          113.71795256739975,
          108.7090205022951,
          100.44213767084146,
          108.09572575778787,
          108.39919375638013,
          102.85125663619878,
          103.93299074644568,
          115.24510657234877,
          152.29739546480843,
          127.84404239594222,
          115.83965818112694,
          115.00984250067434,
          97.44814451217782,
          100.94582671367658,
          113.0066445236128,
          106.14180376178658,
          100.4589133426077,
          102.53700484999334,
          102.02181191063829,
          100.04590333522083,
          103.59828949611118,
          102.62592173635231,
          123.51045349445855,
          110.31666265289584,
          111.07365843631355,
          110.48801070967905,
          106.9821874863914,
          104.19258796812606,
          107.27922490449667,
          128.16073049729422,
          116.26275445185593,
          107.57456897418999,
          111.14119068853914,
          108.04347489083322,
          106.63478637999742,
          108.28838492467767,
          109.28982745451795,
          102.52105484906603,
          107.54368894104176,
          105.1858552552408,
          105.21294606624149,
          103.51948568749786,
          107.15980718511788,
          111.0491092620844,
          111.69065986304031,
          106.28794978040915,
          104.87862226146791,
          109.75078954344896,
          109.85877308558122,
          108.26060843874636,
          110.70674189351848,
          108.63860695003861,
          108.89764797667353,
          111.32206443499685,
          106.95560729752583,
          103.51467722980291,
          112.23274253067828,
          112.89227221033957,
          108.28960801390758,
          112.19399152613813,
          114.00315279983002,
          110.26148157981186,
          110.81926466575516,
          124.3819109780203,
          124.30185146755403,
          118.40155711253922,
          118.67559771835414,
          115.01213630331092,
          112.59401124821926,
          128.4419614357692,
          124.6886894514338,
          110.83963174468938,
          111.30702775847301,
          107.9063290713936,
          108.96745638845198,
          116.4159712978895,
          114.004181969328,
          134.68188732008366,
          113.23350072003413,
          104.16211697243443,
          116.4683948105633,
          112.21640165718168,
          122.24846482531399,
          115.26125085484719,
          111.06176450913101,
          117.14963706117663,
          116.83105638995433,
          108.83202864120689,
          116.92359293454746,
          113.99354686878824,
          109.36406334499672,
          114.67159350821522,
          115.01499407361337,
          106.83930563849607,
          117.74099473962252,
          113.27866804940577,
          112.347097612012,
          114.657549352291,
          129.46325626406423,
          160.49092236049074,
          128.16511441155848,
          127.69845978394521,
          110.35238773082567,
          108.04782959540776,
          143.31807465056718,
          138.2049834610865,
          174.4915649335924,
          216.8832787420625,
          244.1469347592206,
          261.19656121705793,
          267.27083748877,
          291.0481269492033,
          307.51281457895163,
          335.2172273284306,
          322.0226956016652,
          329.6346643105084,
          282.4329331642301,
          185.58208622997773,
          187.3045117660852,
          214.39828955027164,
          206.4457913430327,
          190.81075598727523,
          206.63243758972416,
          217.45091258649055,
          131.3628078992491,
          207.12595056640265,
          291.7075224501735,
          349.38565039553026,
          439.9009416133888,
          420.9615760163133,
          321.88684699130323,
          198.04067358203508,
          262.48659011798725,
          274.5624870661363,
          244.48850964352374,
          217.31985746188298,
          221.27383627659148,
          200.63387430531944,
          181.46198408034724,
          247.81160630682032,
          243.14078032139162,
          217.00458857290394,
          223.80100711780713,
          241.8147759306314,
          149.31499168089638,
          143.25586719870873,
          161.8413666563704,
          174.2048961248228,
          183.8920676505571,
          181.27951413331382,
          172.0986764569253,
          172.6557636943989,
          146.24662800010506,
          179.48815790425246,
          207.55456396901425,
          191.76717366596787,
          178.34687984681858,
          179.4762301700569,
          164.60548052085608,
          188.10492631379168,
          171.7239419971729,
          177.2784098586232,
          248.50019307660273,
          214.3630990856959,
          217.3830865793064,
          173.0739739448083,
          125.46841292091358,
          147.97244818281672,
          164.45232180756787,
          182.71468459035233,
          172.49757679070046,
          169.68336541487614,
          123.14487136113515,
          99.2317686037029,
          128.19229241328154,
          213.45407719682365,
          240.58268913121083,
          225.1985517998412,
          178.95931175318782,
          168.73972632955096,
          112.61106546240535,
          160.8524287385025,
          196.73021752494077,
          195.757560437155,
          190.05069509272087,
          167.0224788606044,
          169.7679486244746,
          173.9182027208216,
          139.48117046342878,
          162.62044805407055,
          175.1938940878258,
          169.61608862999103,
          114.66148662070802,
          119.67778129726133,
          116.47727391464329,
          127.06613502705434,
          175.68126617328915,
          186.22206786086335,
          193.69985256950082,
          227.93593292310248,
          259.3962806727304,
          257.3357260628303,
          277.22489368120245,
          285.59384519346406,
          314.0468069829281,
          330.10019159141405,
          327.5314212178469,
          329.02098307212583,
          248.83928673342203,
          287.1308354399699,
          241.69940814248784,
          245.3462980024651,
          243.43014350840147,
          209.49600359346084,
          235.5891347683008,
          250.78463380381848,
          246.5307047935591,
          260.23296429047207,
          275.5938571230659,
          286.73821757531675,
          285.25557169751005,
          271.0304276414084,
          287.62086685803206,
          329.31983844099045,
          332.664824687582,
          359.9166843329058,
          408.1978517512651,
          423.962105713305,
          419.162700567365,
          424.38038287854636,
          441.3093785248642,
          466.28056840154426,
          509.89840009922665,
          507.1543690804103,
          437.47035241200626,
          510.8985030558896,
          500.2626793795257,
          496.8201057491094,
          523.453072921348,
          551.5358260193425,
          554.1862840260583,
          511.2711587179011,
          481.62333511725154,
          393.01188801209275,
          408.96141380565894,
          373.0657494946243,
          420.1000618856413,
          303.1328740708543,
          226.55618283049347,
          239.86567994656957,
          209.79281942141728,
          198.69140366513716,
          217.78964402864975,
          256.8638252795127,
          240.96155286773276,
          242.28723260801965,
          201.9852007028283,
          189.56394749373612,
          249.43363977870342,
          263.53967995843885,
          284.1323290240401,
          361.1967475414093,
          389.8393404966879,
          400.7897652043237,
          458.0096933891315,
          581.8561678901776,
          693.5197227643405,
          780.0391976294461,
          716.1444974019055,
          774.1979702295471,
          793.4255581109164,
          717.3534521399113,
          528.5658999906577,
          649.5193513791812,
          621.9707079211958,
          532.7376600038106,
          535.3317128804586,
          596.4543990264417,
          567.0255174761257,
          555.295928299977,
          550.3272754503266,
          530.4976685927634,
          500.9106336303993,
          478.9690063007117,
          413.0212520985302,
          400.0224548386445,
          401.93588194564984,
          415.0592764182795,
          344.3263104093172,
          359.9363931880928,
          362.49805702286335,
          289.54394341126635,
          306.50251563619554,
          323.5574085735938,
          367.5175554772282,
          380.6047917362938,
          370.9087886670886,
          436.5738288669112,
          455.6454151173547,
          461.51571734255634,
          499.10491663747933,
          483.39168029459415,
          451.762699678156,
          414.2714572284966,
          283.745788536446,
          286.2212850948917,
          281.299452034983,
          224.77928736484327,
          172.63505973842794,
          157.8874073413698,
          164.96585515978035,
          228.84531768413515,
          216.09787488759414,
          163.40800305944867,
          240.02286677350517,
          312.4802854304772,
          356.2059429592859,
          326.06900642034805,
          324.9861635434561,
          229.76968271794206,
          168.73656061808708,
          177.2914581173024,
          192.1184904224763,
          158.70030084403683,
          171.02380185055452,
          171.77557288159952,
          152.5797663325767,
          160.53942248960306,
          154.7128042385278,
          157.78338802785953,
          148.65407846706123,
          144.52384721028807,
          139.05151439342745,
          149.3980376859631,
          141.47879491728773,
          150.51588148573657,
          154.3909846762767,
          280.1267405553676,
          264.46186799797744,
          243.08635842462817,
          212.4896375437808,
          209.43614870449917,
          303.86616123132205,
          307.35695719376275,
          258.7873489239601,
          301.3870163149915,
          326.44106717792266,
          335.71297868762747,
          342.758777686797,
          343.8335309393755,
          331.29765599195565,
          317.9077521278397,
          242.2785718967132,
          244.00229089952558,
          184.17207304327005,
          205.9724927320137,
          198.16430174690115,
          248.00143151498398,
          271.90543525912625,
          265.81925143043395,
          330.66294774291094,
          336.46533433636563,
          358.5937083167361,
          414.2659222672496,
          526.2489867789814,
          600.7762505290689,
          636.0102817466247,
          636.6776160215022,
          684.4218740317292,
          674.215910802335,
          712.6168189407342,
          772.0505415946668,
          806.5093680864502,
          807.4985844811338,
          814.1418379989886,
          816.3066863996407,
          755.0292783128598,
          759.3628337257842,
          783.0006459535866,
          718.754079190802,
          735.6358414244723,
          649.0143899078375,
          617.0176687791866,
          418.99352123675453,
          325.9229756650957,
          371.07458975854075,
          354.7984659156781,
          298.8625340911472,
          242.5558537668259,
          238.82771575725766,
          205.8777682397213,
          267.40654745537813,
          317.0168055804717,
          355.3563228474866,
          333.30176163068535,
          304.34399734256976,
          286.2298170699502,
          279.0194207030085,
          298.5144411458706,
          331.55934151926294,
          359.2123849489146,
          367.6428052844158,
          413.05370682216954,
          448.4535519779165,
          504.67010563902596,
          579.3664612637101,
          608.2578062745447,
          744.5391673804156,
          757.2797816381635,
          836.8227989545369,
          885.2770955718931,
          684.5626363301737,
          635.4737085284248,
          571.6406380869892,
          587.4729270616247,
          453.9536580981398
         ]
        }
       ],
       "layout": {
        "legend": {
         "tracegroupgap": 0
        },
        "template": {
         "data": {
          "bar": [
           {
            "error_x": {
             "color": "#2a3f5f"
            },
            "error_y": {
             "color": "#2a3f5f"
            },
            "marker": {
             "line": {
              "color": "#E5ECF6",
              "width": 0.5
             },
             "pattern": {
              "fillmode": "overlay",
              "size": 10,
              "solidity": 0.2
             }
            },
            "type": "bar"
           }
          ],
          "barpolar": [
           {
            "marker": {
             "line": {
              "color": "#E5ECF6",
              "width": 0.5
             },
             "pattern": {
              "fillmode": "overlay",
              "size": 10,
              "solidity": 0.2
             }
            },
            "type": "barpolar"
           }
          ],
          "carpet": [
           {
            "aaxis": {
             "endlinecolor": "#2a3f5f",
             "gridcolor": "white",
             "linecolor": "white",
             "minorgridcolor": "white",
             "startlinecolor": "#2a3f5f"
            },
            "baxis": {
             "endlinecolor": "#2a3f5f",
             "gridcolor": "white",
             "linecolor": "white",
             "minorgridcolor": "white",
             "startlinecolor": "#2a3f5f"
            },
            "type": "carpet"
           }
          ],
          "choropleth": [
           {
            "colorbar": {
             "outlinewidth": 0,
             "ticks": ""
            },
            "type": "choropleth"
           }
          ],
          "contour": [
           {
            "colorbar": {
             "outlinewidth": 0,
             "ticks": ""
            },
            "colorscale": [
             [
              0,
              "#0d0887"
             ],
             [
              0.1111111111111111,
              "#46039f"
             ],
             [
              0.2222222222222222,
              "#7201a8"
             ],
             [
              0.3333333333333333,
              "#9c179e"
             ],
             [
              0.4444444444444444,
              "#bd3786"
             ],
             [
              0.5555555555555556,
              "#d8576b"
             ],
             [
              0.6666666666666666,
              "#ed7953"
             ],
             [
              0.7777777777777778,
              "#fb9f3a"
             ],
             [
              0.8888888888888888,
              "#fdca26"
             ],
             [
              1,
              "#f0f921"
             ]
            ],
            "type": "contour"
           }
          ],
          "contourcarpet": [
           {
            "colorbar": {
             "outlinewidth": 0,
             "ticks": ""
            },
            "type": "contourcarpet"
           }
          ],
          "heatmap": [
           {
            "colorbar": {
             "outlinewidth": 0,
             "ticks": ""
            },
            "colorscale": [
             [
              0,
              "#0d0887"
             ],
             [
              0.1111111111111111,
              "#46039f"
             ],
             [
              0.2222222222222222,
              "#7201a8"
             ],
             [
              0.3333333333333333,
              "#9c179e"
             ],
             [
              0.4444444444444444,
              "#bd3786"
             ],
             [
              0.5555555555555556,
              "#d8576b"
             ],
             [
              0.6666666666666666,
              "#ed7953"
             ],
             [
              0.7777777777777778,
              "#fb9f3a"
             ],
             [
              0.8888888888888888,
              "#fdca26"
             ],
             [
              1,
              "#f0f921"
             ]
            ],
            "type": "heatmap"
           }
          ],
          "heatmapgl": [
           {
            "colorbar": {
             "outlinewidth": 0,
             "ticks": ""
            },
            "colorscale": [
             [
              0,
              "#0d0887"
             ],
             [
              0.1111111111111111,
              "#46039f"
             ],
             [
              0.2222222222222222,
              "#7201a8"
             ],
             [
              0.3333333333333333,
              "#9c179e"
             ],
             [
              0.4444444444444444,
              "#bd3786"
             ],
             [
              0.5555555555555556,
              "#d8576b"
             ],
             [
              0.6666666666666666,
              "#ed7953"
             ],
             [
              0.7777777777777778,
              "#fb9f3a"
             ],
             [
              0.8888888888888888,
              "#fdca26"
             ],
             [
              1,
              "#f0f921"
             ]
            ],
            "type": "heatmapgl"
           }
          ],
          "histogram": [
           {
            "marker": {
             "pattern": {
              "fillmode": "overlay",
              "size": 10,
              "solidity": 0.2
             }
            },
            "type": "histogram"
           }
          ],
          "histogram2d": [
           {
            "colorbar": {
             "outlinewidth": 0,
             "ticks": ""
            },
            "colorscale": [
             [
              0,
              "#0d0887"
             ],
             [
              0.1111111111111111,
              "#46039f"
             ],
             [
              0.2222222222222222,
              "#7201a8"
             ],
             [
              0.3333333333333333,
              "#9c179e"
             ],
             [
              0.4444444444444444,
              "#bd3786"
             ],
             [
              0.5555555555555556,
              "#d8576b"
             ],
             [
              0.6666666666666666,
              "#ed7953"
             ],
             [
              0.7777777777777778,
              "#fb9f3a"
             ],
             [
              0.8888888888888888,
              "#fdca26"
             ],
             [
              1,
              "#f0f921"
             ]
            ],
            "type": "histogram2d"
           }
          ],
          "histogram2dcontour": [
           {
            "colorbar": {
             "outlinewidth": 0,
             "ticks": ""
            },
            "colorscale": [
             [
              0,
              "#0d0887"
             ],
             [
              0.1111111111111111,
              "#46039f"
             ],
             [
              0.2222222222222222,
              "#7201a8"
             ],
             [
              0.3333333333333333,
              "#9c179e"
             ],
             [
              0.4444444444444444,
              "#bd3786"
             ],
             [
              0.5555555555555556,
              "#d8576b"
             ],
             [
              0.6666666666666666,
              "#ed7953"
             ],
             [
              0.7777777777777778,
              "#fb9f3a"
             ],
             [
              0.8888888888888888,
              "#fdca26"
             ],
             [
              1,
              "#f0f921"
             ]
            ],
            "type": "histogram2dcontour"
           }
          ],
          "mesh3d": [
           {
            "colorbar": {
             "outlinewidth": 0,
             "ticks": ""
            },
            "type": "mesh3d"
           }
          ],
          "parcoords": [
           {
            "line": {
             "colorbar": {
              "outlinewidth": 0,
              "ticks": ""
             }
            },
            "type": "parcoords"
           }
          ],
          "pie": [
           {
            "automargin": true,
            "type": "pie"
           }
          ],
          "scatter": [
           {
            "fillpattern": {
             "fillmode": "overlay",
             "size": 10,
             "solidity": 0.2
            },
            "type": "scatter"
           }
          ],
          "scatter3d": [
           {
            "line": {
             "colorbar": {
              "outlinewidth": 0,
              "ticks": ""
             }
            },
            "marker": {
             "colorbar": {
              "outlinewidth": 0,
              "ticks": ""
             }
            },
            "type": "scatter3d"
           }
          ],
          "scattercarpet": [
           {
            "marker": {
             "colorbar": {
              "outlinewidth": 0,
              "ticks": ""
             }
            },
            "type": "scattercarpet"
           }
          ],
          "scattergeo": [
           {
            "marker": {
             "colorbar": {
              "outlinewidth": 0,
              "ticks": ""
             }
            },
            "type": "scattergeo"
           }
          ],
          "scattergl": [
           {
            "marker": {
             "colorbar": {
              "outlinewidth": 0,
              "ticks": ""
             }
            },
            "type": "scattergl"
           }
          ],
          "scattermapbox": [
           {
            "marker": {
             "colorbar": {
              "outlinewidth": 0,
              "ticks": ""
             }
            },
            "type": "scattermapbox"
           }
          ],
          "scatterpolar": [
           {
            "marker": {
             "colorbar": {
              "outlinewidth": 0,
              "ticks": ""
             }
            },
            "type": "scatterpolar"
           }
          ],
          "scatterpolargl": [
           {
            "marker": {
             "colorbar": {
              "outlinewidth": 0,
              "ticks": ""
             }
            },
            "type": "scatterpolargl"
           }
          ],
          "scatterternary": [
           {
            "marker": {
             "colorbar": {
              "outlinewidth": 0,
              "ticks": ""
             }
            },
            "type": "scatterternary"
           }
          ],
          "surface": [
           {
            "colorbar": {
             "outlinewidth": 0,
             "ticks": ""
            },
            "colorscale": [
             [
              0,
              "#0d0887"
             ],
             [
              0.1111111111111111,
              "#46039f"
             ],
             [
              0.2222222222222222,
              "#7201a8"
             ],
             [
              0.3333333333333333,
              "#9c179e"
             ],
             [
              0.4444444444444444,
              "#bd3786"
             ],
             [
              0.5555555555555556,
              "#d8576b"
             ],
             [
              0.6666666666666666,
              "#ed7953"
             ],
             [
              0.7777777777777778,
              "#fb9f3a"
             ],
             [
              0.8888888888888888,
              "#fdca26"
             ],
             [
              1,
              "#f0f921"
             ]
            ],
            "type": "surface"
           }
          ],
          "table": [
           {
            "cells": {
             "fill": {
              "color": "#EBF0F8"
             },
             "line": {
              "color": "white"
             }
            },
            "header": {
             "fill": {
              "color": "#C8D4E3"
             },
             "line": {
              "color": "white"
             }
            },
            "type": "table"
           }
          ]
         },
         "layout": {
          "annotationdefaults": {
           "arrowcolor": "#2a3f5f",
           "arrowhead": 0,
           "arrowwidth": 1
          },
          "autotypenumbers": "strict",
          "coloraxis": {
           "colorbar": {
            "outlinewidth": 0,
            "ticks": ""
           }
          },
          "colorscale": {
           "diverging": [
            [
             0,
             "#8e0152"
            ],
            [
             0.1,
             "#c51b7d"
            ],
            [
             0.2,
             "#de77ae"
            ],
            [
             0.3,
             "#f1b6da"
            ],
            [
             0.4,
             "#fde0ef"
            ],
            [
             0.5,
             "#f7f7f7"
            ],
            [
             0.6,
             "#e6f5d0"
            ],
            [
             0.7,
             "#b8e186"
            ],
            [
             0.8,
             "#7fbc41"
            ],
            [
             0.9,
             "#4d9221"
            ],
            [
             1,
             "#276419"
            ]
           ],
           "sequential": [
            [
             0,
             "#0d0887"
            ],
            [
             0.1111111111111111,
             "#46039f"
            ],
            [
             0.2222222222222222,
             "#7201a8"
            ],
            [
             0.3333333333333333,
             "#9c179e"
            ],
            [
             0.4444444444444444,
             "#bd3786"
            ],
            [
             0.5555555555555556,
             "#d8576b"
            ],
            [
             0.6666666666666666,
             "#ed7953"
            ],
            [
             0.7777777777777778,
             "#fb9f3a"
            ],
            [
             0.8888888888888888,
             "#fdca26"
            ],
            [
             1,
             "#f0f921"
            ]
           ],
           "sequentialminus": [
            [
             0,
             "#0d0887"
            ],
            [
             0.1111111111111111,
             "#46039f"
            ],
            [
             0.2222222222222222,
             "#7201a8"
            ],
            [
             0.3333333333333333,
             "#9c179e"
            ],
            [
             0.4444444444444444,
             "#bd3786"
            ],
            [
             0.5555555555555556,
             "#d8576b"
            ],
            [
             0.6666666666666666,
             "#ed7953"
            ],
            [
             0.7777777777777778,
             "#fb9f3a"
            ],
            [
             0.8888888888888888,
             "#fdca26"
            ],
            [
             1,
             "#f0f921"
            ]
           ]
          },
          "colorway": [
           "#636efa",
           "#EF553B",
           "#00cc96",
           "#ab63fa",
           "#FFA15A",
           "#19d3f3",
           "#FF6692",
           "#B6E880",
           "#FF97FF",
           "#FECB52"
          ],
          "font": {
           "color": "#2a3f5f"
          },
          "geo": {
           "bgcolor": "white",
           "lakecolor": "white",
           "landcolor": "#E5ECF6",
           "showlakes": true,
           "showland": true,
           "subunitcolor": "white"
          },
          "hoverlabel": {
           "align": "left"
          },
          "hovermode": "closest",
          "mapbox": {
           "style": "light"
          },
          "paper_bgcolor": "white",
          "plot_bgcolor": "#E5ECF6",
          "polar": {
           "angularaxis": {
            "gridcolor": "white",
            "linecolor": "white",
            "ticks": ""
           },
           "bgcolor": "#E5ECF6",
           "radialaxis": {
            "gridcolor": "white",
            "linecolor": "white",
            "ticks": ""
           }
          },
          "scene": {
           "xaxis": {
            "backgroundcolor": "#E5ECF6",
            "gridcolor": "white",
            "gridwidth": 2,
            "linecolor": "white",
            "showbackground": true,
            "ticks": "",
            "zerolinecolor": "white"
           },
           "yaxis": {
            "backgroundcolor": "#E5ECF6",
            "gridcolor": "white",
            "gridwidth": 2,
            "linecolor": "white",
            "showbackground": true,
            "ticks": "",
            "zerolinecolor": "white"
           },
           "zaxis": {
            "backgroundcolor": "#E5ECF6",
            "gridcolor": "white",
            "gridwidth": 2,
            "linecolor": "white",
            "showbackground": true,
            "ticks": "",
            "zerolinecolor": "white"
           }
          },
          "shapedefaults": {
           "line": {
            "color": "#2a3f5f"
           }
          },
          "ternary": {
           "aaxis": {
            "gridcolor": "white",
            "linecolor": "white",
            "ticks": ""
           },
           "baxis": {
            "gridcolor": "white",
            "linecolor": "white",
            "ticks": ""
           },
           "bgcolor": "#E5ECF6",
           "caxis": {
            "gridcolor": "white",
            "linecolor": "white",
            "ticks": ""
           }
          },
          "title": {
           "x": 0.05
          },
          "xaxis": {
           "automargin": true,
           "gridcolor": "white",
           "linecolor": "white",
           "ticks": "",
           "title": {
            "standoff": 15
           },
           "zerolinecolor": "white",
           "zerolinewidth": 2
          },
          "yaxis": {
           "automargin": true,
           "gridcolor": "white",
           "linecolor": "white",
           "ticks": "",
           "title": {
            "standoff": 15
           },
           "zerolinecolor": "white",
           "zerolinewidth": 2
          }
         }
        },
        "title": {
         "text": "Forecasting of Energy Price with Regularizated MLR with 4 lags"
        },
        "xaxis": {
         "anchor": "y",
         "domain": [
          0,
          1
         ],
         "title": {
          "text": "Date"
         }
        },
        "yaxis": {
         "anchor": "x",
         "domain": [
          0,
          1
         ],
         "title": {
          "text": "Average Energy Price"
         }
        }
       }
      }
     },
     "metadata": {},
     "output_type": "display_data"
    }
   ],
   "source": [
    "fig_lag4 = px.line(x=X_train_dates, y=y_train,title=\"Forecasting of Energy Price with Regularizated MLR with 4 lags\")\n",
    "fig_lag4.update_layout(xaxis_title='Date', yaxis_title='Average Energy Price')\n",
    "fig_lag4.add_trace(go.Scatter(x=X_train_dates, y=y_pred_train, mode='lines', name='Valores predichos de train'))\n",
    "fig_lag4.add_trace(go.Scatter(x=X_test_dates, y=y_test, mode='lines', name='Valores reales de test'))\n",
    "fig_lag4.add_trace(go.Scatter(x=X_test_dates, y=y_pred, mode='lines', name='Valores predichos de test'))\n",
    "fig_lag4.add_trace(go.Scatter(x=X_test_dates, y=y_pred_1, mode='lines', name='Valores predichos de test -1'))\n",
    "fig_lag4.add_trace(go.Scatter(x=X_train_dates, y=y_pred_train_1, mode='lines', name='Valores predichos de train -1'))\n",
    "fig_lag4.show()"
   ]
  }
 ],
 "metadata": {
  "kernelspec": {
   "display_name": "Proyecto-Integrador-Semestre1-ERzOjjfT",
   "language": "python",
   "name": "python3"
  },
  "language_info": {
   "codemirror_mode": {
    "name": "ipython",
    "version": 3
   },
   "file_extension": ".py",
   "mimetype": "text/x-python",
   "name": "python",
   "nbconvert_exporter": "python",
   "pygments_lexer": "ipython3",
   "version": "3.11.5"
  }
 },
 "nbformat": 4,
 "nbformat_minor": 2
}
