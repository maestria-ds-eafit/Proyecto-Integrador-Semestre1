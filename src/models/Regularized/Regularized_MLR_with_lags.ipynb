{
 "cells": [
  {
   "cell_type": "code",
   "execution_count": 1,
   "metadata": {},
   "outputs": [],
   "source": [
    "import sys\n",
    "\n",
    "sys.path.insert(0, \"..\")"
   ]
  },
  {
   "cell_type": "code",
   "execution_count": 2,
   "metadata": {},
   "outputs": [],
   "source": [
    "from lasso_mlr import perform_lasso_mlr\n",
    "import pandas as pd\n",
    "import plotly.graph_objects as go\n",
    "import plotly.express as px"
   ]
  },
  {
   "cell_type": "code",
   "execution_count": 3,
   "metadata": {},
   "outputs": [
    {
     "data": {
      "text/html": [
       "<div>\n",
       "<style scoped>\n",
       "    .dataframe tbody tr th:only-of-type {\n",
       "        vertical-align: middle;\n",
       "    }\n",
       "\n",
       "    .dataframe tbody tr th {\n",
       "        vertical-align: top;\n",
       "    }\n",
       "\n",
       "    .dataframe thead th {\n",
       "        text-align: right;\n",
       "    }\n",
       "</style>\n",
       "<table border=\"1\" class=\"dataframe\">\n",
       "  <thead>\n",
       "    <tr style=\"text-align: right;\">\n",
       "      <th></th>\n",
       "      <th>precipitacion_amazonas</th>\n",
       "      <th>precipitacion_antioquia</th>\n",
       "      <th>precipitacion_arauca</th>\n",
       "      <th>precipitacion_atlantico</th>\n",
       "      <th>precipitacion_bogota</th>\n",
       "      <th>precipitacion_bolivar</th>\n",
       "      <th>precipitacion_boyaca</th>\n",
       "      <th>precipitacion_caldas</th>\n",
       "      <th>precipitacion_caqueta</th>\n",
       "      <th>precipitacion_casanare</th>\n",
       "      <th>...</th>\n",
       "      <th>temp_SUCRE</th>\n",
       "      <th>temp_TOLIMA</th>\n",
       "      <th>temp_VALLE DEL CAUCA</th>\n",
       "      <th>temp_VICHADA</th>\n",
       "      <th>temp_avg_pais</th>\n",
       "      <th>temp_avg_represas</th>\n",
       "      <th>brent_value</th>\n",
       "      <th>TRM</th>\n",
       "      <th>Date</th>\n",
       "      <th>energy_price</th>\n",
       "    </tr>\n",
       "  </thead>\n",
       "  <tbody>\n",
       "    <tr>\n",
       "      <th>0</th>\n",
       "      <td>-0.509005</td>\n",
       "      <td>0.912201</td>\n",
       "      <td>0.759339</td>\n",
       "      <td>0.139390</td>\n",
       "      <td>-0.557688</td>\n",
       "      <td>4.888002</td>\n",
       "      <td>-0.561178</td>\n",
       "      <td>-0.735298</td>\n",
       "      <td>-0.530775</td>\n",
       "      <td>-0.284457</td>\n",
       "      <td>...</td>\n",
       "      <td>1.422880</td>\n",
       "      <td>0.612716</td>\n",
       "      <td>0.616277</td>\n",
       "      <td>0.323702</td>\n",
       "      <td>0.546827</td>\n",
       "      <td>-0.114337</td>\n",
       "      <td>-0.917312</td>\n",
       "      <td>-1.339552</td>\n",
       "      <td>2021-10-01</td>\n",
       "      <td>216.929726</td>\n",
       "    </tr>\n",
       "    <tr>\n",
       "      <th>1</th>\n",
       "      <td>-0.593583</td>\n",
       "      <td>0.814967</td>\n",
       "      <td>1.622908</td>\n",
       "      <td>-0.161734</td>\n",
       "      <td>-0.569948</td>\n",
       "      <td>5.703726</td>\n",
       "      <td>-0.349135</td>\n",
       "      <td>-0.046788</td>\n",
       "      <td>-0.437031</td>\n",
       "      <td>-0.355927</td>\n",
       "      <td>...</td>\n",
       "      <td>0.203140</td>\n",
       "      <td>1.370869</td>\n",
       "      <td>0.499932</td>\n",
       "      <td>1.159376</td>\n",
       "      <td>1.154362</td>\n",
       "      <td>0.619803</td>\n",
       "      <td>-0.917312</td>\n",
       "      <td>-1.423606</td>\n",
       "      <td>2021-10-02</td>\n",
       "      <td>256.940174</td>\n",
       "    </tr>\n",
       "    <tr>\n",
       "      <th>2</th>\n",
       "      <td>-0.538867</td>\n",
       "      <td>0.403339</td>\n",
       "      <td>1.559410</td>\n",
       "      <td>-0.248126</td>\n",
       "      <td>-0.567816</td>\n",
       "      <td>3.445073</td>\n",
       "      <td>0.004270</td>\n",
       "      <td>-0.665300</td>\n",
       "      <td>-0.527751</td>\n",
       "      <td>-0.198452</td>\n",
       "      <td>...</td>\n",
       "      <td>1.939212</td>\n",
       "      <td>1.655371</td>\n",
       "      <td>0.645312</td>\n",
       "      <td>1.159376</td>\n",
       "      <td>1.495428</td>\n",
       "      <td>0.950203</td>\n",
       "      <td>-0.917312</td>\n",
       "      <td>-1.423606</td>\n",
       "      <td>2021-10-03</td>\n",
       "      <td>282.065065</td>\n",
       "    </tr>\n",
       "    <tr>\n",
       "      <th>3</th>\n",
       "      <td>-0.580600</td>\n",
       "      <td>-0.100687</td>\n",
       "      <td>1.718155</td>\n",
       "      <td>-0.183251</td>\n",
       "      <td>-0.287443</td>\n",
       "      <td>3.802742</td>\n",
       "      <td>0.274778</td>\n",
       "      <td>-0.533335</td>\n",
       "      <td>-0.300951</td>\n",
       "      <td>0.339387</td>\n",
       "      <td>...</td>\n",
       "      <td>2.107581</td>\n",
       "      <td>1.504325</td>\n",
       "      <td>0.896644</td>\n",
       "      <td>0.057805</td>\n",
       "      <td>1.150745</td>\n",
       "      <td>0.723472</td>\n",
       "      <td>-0.761153</td>\n",
       "      <td>-1.423606</td>\n",
       "      <td>2021-10-04</td>\n",
       "      <td>286.526116</td>\n",
       "    </tr>\n",
       "    <tr>\n",
       "      <th>4</th>\n",
       "      <td>0.016831</td>\n",
       "      <td>1.136810</td>\n",
       "      <td>2.981760</td>\n",
       "      <td>0.521690</td>\n",
       "      <td>-0.560886</td>\n",
       "      <td>0.362265</td>\n",
       "      <td>1.586688</td>\n",
       "      <td>0.365171</td>\n",
       "      <td>0.158697</td>\n",
       "      <td>-0.180160</td>\n",
       "      <td>...</td>\n",
       "      <td>-0.365573</td>\n",
       "      <td>0.219063</td>\n",
       "      <td>-0.446079</td>\n",
       "      <td>-0.701899</td>\n",
       "      <td>0.112145</td>\n",
       "      <td>-0.197147</td>\n",
       "      <td>-0.614059</td>\n",
       "      <td>-1.411032</td>\n",
       "      <td>2021-10-05</td>\n",
       "      <td>278.157325</td>\n",
       "    </tr>\n",
       "  </tbody>\n",
       "</table>\n",
       "<p>5 rows × 73 columns</p>\n",
       "</div>"
      ],
      "text/plain": [
       "   precipitacion_amazonas  precipitacion_antioquia  precipitacion_arauca  \\\n",
       "0               -0.509005                 0.912201              0.759339   \n",
       "1               -0.593583                 0.814967              1.622908   \n",
       "2               -0.538867                 0.403339              1.559410   \n",
       "3               -0.580600                -0.100687              1.718155   \n",
       "4                0.016831                 1.136810              2.981760   \n",
       "\n",
       "   precipitacion_atlantico  precipitacion_bogota  precipitacion_bolivar  \\\n",
       "0                 0.139390             -0.557688               4.888002   \n",
       "1                -0.161734             -0.569948               5.703726   \n",
       "2                -0.248126             -0.567816               3.445073   \n",
       "3                -0.183251             -0.287443               3.802742   \n",
       "4                 0.521690             -0.560886               0.362265   \n",
       "\n",
       "   precipitacion_boyaca  precipitacion_caldas  precipitacion_caqueta  \\\n",
       "0             -0.561178             -0.735298              -0.530775   \n",
       "1             -0.349135             -0.046788              -0.437031   \n",
       "2              0.004270             -0.665300              -0.527751   \n",
       "3              0.274778             -0.533335              -0.300951   \n",
       "4              1.586688              0.365171               0.158697   \n",
       "\n",
       "   precipitacion_casanare  ...  temp_SUCRE  temp_TOLIMA  temp_VALLE DEL CAUCA  \\\n",
       "0               -0.284457  ...    1.422880     0.612716              0.616277   \n",
       "1               -0.355927  ...    0.203140     1.370869              0.499932   \n",
       "2               -0.198452  ...    1.939212     1.655371              0.645312   \n",
       "3                0.339387  ...    2.107581     1.504325              0.896644   \n",
       "4               -0.180160  ...   -0.365573     0.219063             -0.446079   \n",
       "\n",
       "   temp_VICHADA  temp_avg_pais  temp_avg_represas  brent_value       TRM  \\\n",
       "0      0.323702       0.546827          -0.114337    -0.917312 -1.339552   \n",
       "1      1.159376       1.154362           0.619803    -0.917312 -1.423606   \n",
       "2      1.159376       1.495428           0.950203    -0.917312 -1.423606   \n",
       "3      0.057805       1.150745           0.723472    -0.761153 -1.423606   \n",
       "4     -0.701899       0.112145          -0.197147    -0.614059 -1.411032   \n",
       "\n",
       "         Date  energy_price  \n",
       "0  2021-10-01    216.929726  \n",
       "1  2021-10-02    256.940174  \n",
       "2  2021-10-03    282.065065  \n",
       "3  2021-10-04    286.526116  \n",
       "4  2021-10-05    278.157325  \n",
       "\n",
       "[5 rows x 73 columns]"
      ]
     },
     "execution_count": 3,
     "metadata": {},
     "output_type": "execute_result"
    }
   ],
   "source": [
    "df = pd.read_csv(\"../../processed_tables/merged_standardized.csv\")\n",
    "df.head()"
   ]
  },
  {
   "cell_type": "markdown",
   "metadata": {},
   "source": [
    "## Regresión lineal con Lasso\n",
    "\n",
    "Esta vez utilizaremos `sklearn` para hacer la regresión Lasso y poder ver qué coeficientes son cero. Adicionalmente, se va a revisar cuál es el valor óptimo para el número de lags del modelo.\n"
   ]
  },
  {
   "cell_type": "code",
   "execution_count": 4,
   "metadata": {},
   "outputs": [
    {
     "name": "stdout",
     "output_type": "stream",
     "text": [
      "Lags: 1\n"
     ]
    },
    {
     "name": "stderr",
     "output_type": "stream",
     "text": [
      "/Users/david/.local/share/virtualenvs/Proyecto-Integrador-Semestre1-8hKWhZbI/lib/python3.11/site-packages/sklearn/linear_model/_coordinate_descent.py:628: ConvergenceWarning: Objective did not converge. You might want to increase the number of iterations, check the scale of the features or consider increasing regularisation. Duality gap: 1.428e+05, tolerance: 1.243e+03\n",
      "  model = cd_fast.enet_coordinate_descent(\n",
      "/Users/david/.local/share/virtualenvs/Proyecto-Integrador-Semestre1-8hKWhZbI/lib/python3.11/site-packages/sklearn/linear_model/_coordinate_descent.py:628: ConvergenceWarning: Objective did not converge. You might want to increase the number of iterations, check the scale of the features or consider increasing regularisation. Duality gap: 1.199e+05, tolerance: 1.371e+03\n",
      "  model = cd_fast.enet_coordinate_descent(\n",
      "/Users/david/.local/share/virtualenvs/Proyecto-Integrador-Semestre1-8hKWhZbI/lib/python3.11/site-packages/sklearn/linear_model/_coordinate_descent.py:628: ConvergenceWarning: Objective did not converge. You might want to increase the number of iterations, check the scale of the features or consider increasing regularisation. Duality gap: 9.425e+04, tolerance: 1.422e+03\n",
      "  model = cd_fast.enet_coordinate_descent(\n",
      "/Users/david/.local/share/virtualenvs/Proyecto-Integrador-Semestre1-8hKWhZbI/lib/python3.11/site-packages/sklearn/linear_model/_coordinate_descent.py:628: ConvergenceWarning: Objective did not converge. You might want to increase the number of iterations, check the scale of the features or consider increasing regularisation. Duality gap: 1.216e+05, tolerance: 1.462e+03\n",
      "  model = cd_fast.enet_coordinate_descent(\n",
      "/Users/david/.local/share/virtualenvs/Proyecto-Integrador-Semestre1-8hKWhZbI/lib/python3.11/site-packages/sklearn/linear_model/_coordinate_descent.py:628: ConvergenceWarning: Objective did not converge. You might want to increase the number of iterations, check the scale of the features or consider increasing regularisation. Duality gap: 1.634e+05, tolerance: 1.335e+03\n",
      "  model = cd_fast.enet_coordinate_descent(\n",
      "/Users/david/.local/share/virtualenvs/Proyecto-Integrador-Semestre1-8hKWhZbI/lib/python3.11/site-packages/sklearn/linear_model/_coordinate_descent.py:628: ConvergenceWarning: Objective did not converge. You might want to increase the number of iterations, check the scale of the features or consider increasing regularisation. Duality gap: 1.428e+05, tolerance: 1.243e+03\n",
      "  model = cd_fast.enet_coordinate_descent(\n",
      "/Users/david/.local/share/virtualenvs/Proyecto-Integrador-Semestre1-8hKWhZbI/lib/python3.11/site-packages/sklearn/linear_model/_coordinate_descent.py:628: ConvergenceWarning: Objective did not converge. You might want to increase the number of iterations, check the scale of the features or consider increasing regularisation. Duality gap: 1.199e+05, tolerance: 1.371e+03\n",
      "  model = cd_fast.enet_coordinate_descent(\n",
      "/Users/david/.local/share/virtualenvs/Proyecto-Integrador-Semestre1-8hKWhZbI/lib/python3.11/site-packages/sklearn/linear_model/_coordinate_descent.py:628: ConvergenceWarning: Objective did not converge. You might want to increase the number of iterations, check the scale of the features or consider increasing regularisation. Duality gap: 9.426e+04, tolerance: 1.422e+03\n",
      "  model = cd_fast.enet_coordinate_descent(\n",
      "/Users/david/.local/share/virtualenvs/Proyecto-Integrador-Semestre1-8hKWhZbI/lib/python3.11/site-packages/sklearn/linear_model/_coordinate_descent.py:628: ConvergenceWarning: Objective did not converge. You might want to increase the number of iterations, check the scale of the features or consider increasing regularisation. Duality gap: 1.216e+05, tolerance: 1.462e+03\n",
      "  model = cd_fast.enet_coordinate_descent(\n",
      "/Users/david/.local/share/virtualenvs/Proyecto-Integrador-Semestre1-8hKWhZbI/lib/python3.11/site-packages/sklearn/linear_model/_coordinate_descent.py:628: ConvergenceWarning: Objective did not converge. You might want to increase the number of iterations, check the scale of the features or consider increasing regularisation. Duality gap: 1.634e+05, tolerance: 1.335e+03\n",
      "  model = cd_fast.enet_coordinate_descent(\n",
      "/Users/david/.local/share/virtualenvs/Proyecto-Integrador-Semestre1-8hKWhZbI/lib/python3.11/site-packages/sklearn/linear_model/_coordinate_descent.py:628: ConvergenceWarning: Objective did not converge. You might want to increase the number of iterations, check the scale of the features or consider increasing regularisation. Duality gap: 1.224e+05, tolerance: 1.243e+03\n",
      "  model = cd_fast.enet_coordinate_descent(\n",
      "/Users/david/.local/share/virtualenvs/Proyecto-Integrador-Semestre1-8hKWhZbI/lib/python3.11/site-packages/sklearn/linear_model/_coordinate_descent.py:628: ConvergenceWarning: Objective did not converge. You might want to increase the number of iterations, check the scale of the features or consider increasing regularisation. Duality gap: 1.200e+05, tolerance: 1.371e+03\n",
      "  model = cd_fast.enet_coordinate_descent(\n",
      "/Users/david/.local/share/virtualenvs/Proyecto-Integrador-Semestre1-8hKWhZbI/lib/python3.11/site-packages/sklearn/linear_model/_coordinate_descent.py:628: ConvergenceWarning: Objective did not converge. You might want to increase the number of iterations, check the scale of the features or consider increasing regularisation. Duality gap: 7.167e+04, tolerance: 1.422e+03\n",
      "  model = cd_fast.enet_coordinate_descent(\n",
      "/Users/david/.local/share/virtualenvs/Proyecto-Integrador-Semestre1-8hKWhZbI/lib/python3.11/site-packages/sklearn/linear_model/_coordinate_descent.py:628: ConvergenceWarning: Objective did not converge. You might want to increase the number of iterations, check the scale of the features or consider increasing regularisation. Duality gap: 1.217e+05, tolerance: 1.462e+03\n",
      "  model = cd_fast.enet_coordinate_descent(\n",
      "/Users/david/.local/share/virtualenvs/Proyecto-Integrador-Semestre1-8hKWhZbI/lib/python3.11/site-packages/sklearn/linear_model/_coordinate_descent.py:628: ConvergenceWarning: Objective did not converge. You might want to increase the number of iterations, check the scale of the features or consider increasing regularisation. Duality gap: 1.398e+05, tolerance: 1.335e+03\n",
      "  model = cd_fast.enet_coordinate_descent(\n"
     ]
    },
    {
     "name": "stdout",
     "output_type": "stream",
     "text": [
      "Best parameters found: {'alpha': 4.281332398719396}\n",
      "Best cross-validation score: 0.9362187116965254\n"
     ]
    },
    {
     "name": "stderr",
     "output_type": "stream",
     "text": [
      "/Users/david/.local/share/virtualenvs/Proyecto-Integrador-Semestre1-8hKWhZbI/lib/python3.11/site-packages/sklearn/linear_model/_coordinate_descent.py:628: ConvergenceWarning: Objective did not converge. You might want to increase the number of iterations, check the scale of the features or consider increasing regularisation. Duality gap: 1.428e+05, tolerance: 1.243e+03\n",
      "  model = cd_fast.enet_coordinate_descent(\n",
      "/Users/david/.local/share/virtualenvs/Proyecto-Integrador-Semestre1-8hKWhZbI/lib/python3.11/site-packages/sklearn/linear_model/_coordinate_descent.py:628: ConvergenceWarning: Objective did not converge. You might want to increase the number of iterations, check the scale of the features or consider increasing regularisation. Duality gap: 1.199e+05, tolerance: 1.371e+03\n",
      "  model = cd_fast.enet_coordinate_descent(\n",
      "/Users/david/.local/share/virtualenvs/Proyecto-Integrador-Semestre1-8hKWhZbI/lib/python3.11/site-packages/sklearn/linear_model/_coordinate_descent.py:628: ConvergenceWarning: Objective did not converge. You might want to increase the number of iterations, check the scale of the features or consider increasing regularisation. Duality gap: 9.425e+04, tolerance: 1.422e+03\n",
      "  model = cd_fast.enet_coordinate_descent(\n",
      "/Users/david/.local/share/virtualenvs/Proyecto-Integrador-Semestre1-8hKWhZbI/lib/python3.11/site-packages/sklearn/linear_model/_coordinate_descent.py:628: ConvergenceWarning: Objective did not converge. You might want to increase the number of iterations, check the scale of the features or consider increasing regularisation. Duality gap: 1.216e+05, tolerance: 1.462e+03\n",
      "  model = cd_fast.enet_coordinate_descent(\n",
      "/Users/david/.local/share/virtualenvs/Proyecto-Integrador-Semestre1-8hKWhZbI/lib/python3.11/site-packages/sklearn/linear_model/_coordinate_descent.py:628: ConvergenceWarning: Objective did not converge. You might want to increase the number of iterations, check the scale of the features or consider increasing regularisation. Duality gap: 1.634e+05, tolerance: 1.335e+03\n",
      "  model = cd_fast.enet_coordinate_descent(\n",
      "/Users/david/.local/share/virtualenvs/Proyecto-Integrador-Semestre1-8hKWhZbI/lib/python3.11/site-packages/sklearn/linear_model/_coordinate_descent.py:628: ConvergenceWarning: Objective did not converge. You might want to increase the number of iterations, check the scale of the features or consider increasing regularisation. Duality gap: 1.428e+05, tolerance: 1.243e+03\n",
      "  model = cd_fast.enet_coordinate_descent(\n",
      "/Users/david/.local/share/virtualenvs/Proyecto-Integrador-Semestre1-8hKWhZbI/lib/python3.11/site-packages/sklearn/linear_model/_coordinate_descent.py:628: ConvergenceWarning: Objective did not converge. You might want to increase the number of iterations, check the scale of the features or consider increasing regularisation. Duality gap: 1.199e+05, tolerance: 1.371e+03\n",
      "  model = cd_fast.enet_coordinate_descent(\n",
      "/Users/david/.local/share/virtualenvs/Proyecto-Integrador-Semestre1-8hKWhZbI/lib/python3.11/site-packages/sklearn/linear_model/_coordinate_descent.py:628: ConvergenceWarning: Objective did not converge. You might want to increase the number of iterations, check the scale of the features or consider increasing regularisation. Duality gap: 9.426e+04, tolerance: 1.422e+03\n",
      "  model = cd_fast.enet_coordinate_descent(\n",
      "/Users/david/.local/share/virtualenvs/Proyecto-Integrador-Semestre1-8hKWhZbI/lib/python3.11/site-packages/sklearn/linear_model/_coordinate_descent.py:628: ConvergenceWarning: Objective did not converge. You might want to increase the number of iterations, check the scale of the features or consider increasing regularisation. Duality gap: 1.216e+05, tolerance: 1.462e+03\n",
      "  model = cd_fast.enet_coordinate_descent(\n",
      "/Users/david/.local/share/virtualenvs/Proyecto-Integrador-Semestre1-8hKWhZbI/lib/python3.11/site-packages/sklearn/linear_model/_coordinate_descent.py:628: ConvergenceWarning: Objective did not converge. You might want to increase the number of iterations, check the scale of the features or consider increasing regularisation. Duality gap: 1.634e+05, tolerance: 1.335e+03\n",
      "  model = cd_fast.enet_coordinate_descent(\n",
      "/Users/david/.local/share/virtualenvs/Proyecto-Integrador-Semestre1-8hKWhZbI/lib/python3.11/site-packages/sklearn/linear_model/_coordinate_descent.py:628: ConvergenceWarning: Objective did not converge. You might want to increase the number of iterations, check the scale of the features or consider increasing regularisation. Duality gap: 1.224e+05, tolerance: 1.243e+03\n",
      "  model = cd_fast.enet_coordinate_descent(\n",
      "/Users/david/.local/share/virtualenvs/Proyecto-Integrador-Semestre1-8hKWhZbI/lib/python3.11/site-packages/sklearn/linear_model/_coordinate_descent.py:628: ConvergenceWarning: Objective did not converge. You might want to increase the number of iterations, check the scale of the features or consider increasing regularisation. Duality gap: 1.200e+05, tolerance: 1.371e+03\n",
      "  model = cd_fast.enet_coordinate_descent(\n",
      "/Users/david/.local/share/virtualenvs/Proyecto-Integrador-Semestre1-8hKWhZbI/lib/python3.11/site-packages/sklearn/linear_model/_coordinate_descent.py:628: ConvergenceWarning: Objective did not converge. You might want to increase the number of iterations, check the scale of the features or consider increasing regularisation. Duality gap: 7.167e+04, tolerance: 1.422e+03\n",
      "  model = cd_fast.enet_coordinate_descent(\n",
      "/Users/david/.local/share/virtualenvs/Proyecto-Integrador-Semestre1-8hKWhZbI/lib/python3.11/site-packages/sklearn/linear_model/_coordinate_descent.py:628: ConvergenceWarning: Objective did not converge. You might want to increase the number of iterations, check the scale of the features or consider increasing regularisation. Duality gap: 1.217e+05, tolerance: 1.462e+03\n",
      "  model = cd_fast.enet_coordinate_descent(\n",
      "/Users/david/.local/share/virtualenvs/Proyecto-Integrador-Semestre1-8hKWhZbI/lib/python3.11/site-packages/sklearn/linear_model/_coordinate_descent.py:628: ConvergenceWarning: Objective did not converge. You might want to increase the number of iterations, check the scale of the features or consider increasing regularisation. Duality gap: 1.398e+05, tolerance: 1.335e+03\n",
      "  model = cd_fast.enet_coordinate_descent(\n"
     ]
    },
    {
     "name": "stdout",
     "output_type": "stream",
     "text": [
      "Mean Squared Error on Test Data: 4614.763663333484\n",
      "Mean Absolute Percentage Error on Test Data: 0.09753735253270678\n",
      "precipitacion_meta: -0.8984836841439573\n",
      "precipitacion_tolima: -1.2320852025426918\n",
      "temp_BOYACA: 0.3879099263829591\n",
      "temp_VALLE DEL CAUCA: 1.6644474404624259\n",
      "energy_price_lag_1: 0.9692729184080626\n",
      "-----------------------\n",
      "Lags: 2\n"
     ]
    },
    {
     "name": "stderr",
     "output_type": "stream",
     "text": [
      "/Users/david/.local/share/virtualenvs/Proyecto-Integrador-Semestre1-8hKWhZbI/lib/python3.11/site-packages/sklearn/linear_model/_coordinate_descent.py:628: ConvergenceWarning: Objective did not converge. You might want to increase the number of iterations, check the scale of the features or consider increasing regularisation. Duality gap: 1.131e+05, tolerance: 1.194e+03\n",
      "  model = cd_fast.enet_coordinate_descent(\n",
      "/Users/david/.local/share/virtualenvs/Proyecto-Integrador-Semestre1-8hKWhZbI/lib/python3.11/site-packages/sklearn/linear_model/_coordinate_descent.py:628: ConvergenceWarning: Objective did not converge. You might want to increase the number of iterations, check the scale of the features or consider increasing regularisation. Duality gap: 1.017e+05, tolerance: 1.494e+03\n",
      "  model = cd_fast.enet_coordinate_descent(\n",
      "/Users/david/.local/share/virtualenvs/Proyecto-Integrador-Semestre1-8hKWhZbI/lib/python3.11/site-packages/sklearn/linear_model/_coordinate_descent.py:628: ConvergenceWarning: Objective did not converge. You might want to increase the number of iterations, check the scale of the features or consider increasing regularisation. Duality gap: 1.172e+05, tolerance: 1.371e+03\n",
      "  model = cd_fast.enet_coordinate_descent(\n",
      "/Users/david/.local/share/virtualenvs/Proyecto-Integrador-Semestre1-8hKWhZbI/lib/python3.11/site-packages/sklearn/linear_model/_coordinate_descent.py:628: ConvergenceWarning: Objective did not converge. You might want to increase the number of iterations, check the scale of the features or consider increasing regularisation. Duality gap: 1.219e+05, tolerance: 1.419e+03\n",
      "  model = cd_fast.enet_coordinate_descent(\n",
      "/Users/david/.local/share/virtualenvs/Proyecto-Integrador-Semestre1-8hKWhZbI/lib/python3.11/site-packages/sklearn/linear_model/_coordinate_descent.py:628: ConvergenceWarning: Objective did not converge. You might want to increase the number of iterations, check the scale of the features or consider increasing regularisation. Duality gap: 1.411e+05, tolerance: 1.358e+03\n",
      "  model = cd_fast.enet_coordinate_descent(\n",
      "/Users/david/.local/share/virtualenvs/Proyecto-Integrador-Semestre1-8hKWhZbI/lib/python3.11/site-packages/sklearn/linear_model/_coordinate_descent.py:628: ConvergenceWarning: Objective did not converge. You might want to increase the number of iterations, check the scale of the features or consider increasing regularisation. Duality gap: 1.131e+05, tolerance: 1.194e+03\n",
      "  model = cd_fast.enet_coordinate_descent(\n",
      "/Users/david/.local/share/virtualenvs/Proyecto-Integrador-Semestre1-8hKWhZbI/lib/python3.11/site-packages/sklearn/linear_model/_coordinate_descent.py:628: ConvergenceWarning: Objective did not converge. You might want to increase the number of iterations, check the scale of the features or consider increasing regularisation. Duality gap: 1.017e+05, tolerance: 1.494e+03\n",
      "  model = cd_fast.enet_coordinate_descent(\n",
      "/Users/david/.local/share/virtualenvs/Proyecto-Integrador-Semestre1-8hKWhZbI/lib/python3.11/site-packages/sklearn/linear_model/_coordinate_descent.py:628: ConvergenceWarning: Objective did not converge. You might want to increase the number of iterations, check the scale of the features or consider increasing regularisation. Duality gap: 1.173e+05, tolerance: 1.371e+03\n",
      "  model = cd_fast.enet_coordinate_descent(\n",
      "/Users/david/.local/share/virtualenvs/Proyecto-Integrador-Semestre1-8hKWhZbI/lib/python3.11/site-packages/sklearn/linear_model/_coordinate_descent.py:628: ConvergenceWarning: Objective did not converge. You might want to increase the number of iterations, check the scale of the features or consider increasing regularisation. Duality gap: 1.219e+05, tolerance: 1.419e+03\n",
      "  model = cd_fast.enet_coordinate_descent(\n",
      "/Users/david/.local/share/virtualenvs/Proyecto-Integrador-Semestre1-8hKWhZbI/lib/python3.11/site-packages/sklearn/linear_model/_coordinate_descent.py:628: ConvergenceWarning: Objective did not converge. You might want to increase the number of iterations, check the scale of the features or consider increasing regularisation. Duality gap: 1.411e+05, tolerance: 1.358e+03\n",
      "  model = cd_fast.enet_coordinate_descent(\n",
      "/Users/david/.local/share/virtualenvs/Proyecto-Integrador-Semestre1-8hKWhZbI/lib/python3.11/site-packages/sklearn/linear_model/_coordinate_descent.py:628: ConvergenceWarning: Objective did not converge. You might want to increase the number of iterations, check the scale of the features or consider increasing regularisation. Duality gap: 1.130e+05, tolerance: 1.194e+03\n",
      "  model = cd_fast.enet_coordinate_descent(\n",
      "/Users/david/.local/share/virtualenvs/Proyecto-Integrador-Semestre1-8hKWhZbI/lib/python3.11/site-packages/sklearn/linear_model/_coordinate_descent.py:628: ConvergenceWarning: Objective did not converge. You might want to increase the number of iterations, check the scale of the features or consider increasing regularisation. Duality gap: 9.364e+04, tolerance: 1.494e+03\n",
      "  model = cd_fast.enet_coordinate_descent(\n",
      "/Users/david/.local/share/virtualenvs/Proyecto-Integrador-Semestre1-8hKWhZbI/lib/python3.11/site-packages/sklearn/linear_model/_coordinate_descent.py:628: ConvergenceWarning: Objective did not converge. You might want to increase the number of iterations, check the scale of the features or consider increasing regularisation. Duality gap: 7.661e+04, tolerance: 1.371e+03\n",
      "  model = cd_fast.enet_coordinate_descent(\n",
      "/Users/david/.local/share/virtualenvs/Proyecto-Integrador-Semestre1-8hKWhZbI/lib/python3.11/site-packages/sklearn/linear_model/_coordinate_descent.py:628: ConvergenceWarning: Objective did not converge. You might want to increase the number of iterations, check the scale of the features or consider increasing regularisation. Duality gap: 1.220e+05, tolerance: 1.419e+03\n",
      "  model = cd_fast.enet_coordinate_descent(\n",
      "/Users/david/.local/share/virtualenvs/Proyecto-Integrador-Semestre1-8hKWhZbI/lib/python3.11/site-packages/sklearn/linear_model/_coordinate_descent.py:628: ConvergenceWarning: Objective did not converge. You might want to increase the number of iterations, check the scale of the features or consider increasing regularisation. Duality gap: 1.420e+05, tolerance: 1.358e+03\n",
      "  model = cd_fast.enet_coordinate_descent(\n"
     ]
    },
    {
     "name": "stdout",
     "output_type": "stream",
     "text": [
      "Best parameters found: {'alpha': 4.281332398719396}\n",
      "Best cross-validation score: 0.9301670118907224\n"
     ]
    },
    {
     "name": "stderr",
     "output_type": "stream",
     "text": [
      "/Users/david/.local/share/virtualenvs/Proyecto-Integrador-Semestre1-8hKWhZbI/lib/python3.11/site-packages/sklearn/linear_model/_coordinate_descent.py:628: ConvergenceWarning: Objective did not converge. You might want to increase the number of iterations, check the scale of the features or consider increasing regularisation. Duality gap: 1.131e+05, tolerance: 1.194e+03\n",
      "  model = cd_fast.enet_coordinate_descent(\n",
      "/Users/david/.local/share/virtualenvs/Proyecto-Integrador-Semestre1-8hKWhZbI/lib/python3.11/site-packages/sklearn/linear_model/_coordinate_descent.py:628: ConvergenceWarning: Objective did not converge. You might want to increase the number of iterations, check the scale of the features or consider increasing regularisation. Duality gap: 1.017e+05, tolerance: 1.494e+03\n",
      "  model = cd_fast.enet_coordinate_descent(\n",
      "/Users/david/.local/share/virtualenvs/Proyecto-Integrador-Semestre1-8hKWhZbI/lib/python3.11/site-packages/sklearn/linear_model/_coordinate_descent.py:628: ConvergenceWarning: Objective did not converge. You might want to increase the number of iterations, check the scale of the features or consider increasing regularisation. Duality gap: 1.172e+05, tolerance: 1.371e+03\n",
      "  model = cd_fast.enet_coordinate_descent(\n",
      "/Users/david/.local/share/virtualenvs/Proyecto-Integrador-Semestre1-8hKWhZbI/lib/python3.11/site-packages/sklearn/linear_model/_coordinate_descent.py:628: ConvergenceWarning: Objective did not converge. You might want to increase the number of iterations, check the scale of the features or consider increasing regularisation. Duality gap: 1.219e+05, tolerance: 1.419e+03\n",
      "  model = cd_fast.enet_coordinate_descent(\n",
      "/Users/david/.local/share/virtualenvs/Proyecto-Integrador-Semestre1-8hKWhZbI/lib/python3.11/site-packages/sklearn/linear_model/_coordinate_descent.py:628: ConvergenceWarning: Objective did not converge. You might want to increase the number of iterations, check the scale of the features or consider increasing regularisation. Duality gap: 1.411e+05, tolerance: 1.358e+03\n",
      "  model = cd_fast.enet_coordinate_descent(\n",
      "/Users/david/.local/share/virtualenvs/Proyecto-Integrador-Semestre1-8hKWhZbI/lib/python3.11/site-packages/sklearn/linear_model/_coordinate_descent.py:628: ConvergenceWarning: Objective did not converge. You might want to increase the number of iterations, check the scale of the features or consider increasing regularisation. Duality gap: 1.131e+05, tolerance: 1.194e+03\n",
      "  model = cd_fast.enet_coordinate_descent(\n",
      "/Users/david/.local/share/virtualenvs/Proyecto-Integrador-Semestre1-8hKWhZbI/lib/python3.11/site-packages/sklearn/linear_model/_coordinate_descent.py:628: ConvergenceWarning: Objective did not converge. You might want to increase the number of iterations, check the scale of the features or consider increasing regularisation. Duality gap: 1.017e+05, tolerance: 1.494e+03\n",
      "  model = cd_fast.enet_coordinate_descent(\n",
      "/Users/david/.local/share/virtualenvs/Proyecto-Integrador-Semestre1-8hKWhZbI/lib/python3.11/site-packages/sklearn/linear_model/_coordinate_descent.py:628: ConvergenceWarning: Objective did not converge. You might want to increase the number of iterations, check the scale of the features or consider increasing regularisation. Duality gap: 1.173e+05, tolerance: 1.371e+03\n",
      "  model = cd_fast.enet_coordinate_descent(\n",
      "/Users/david/.local/share/virtualenvs/Proyecto-Integrador-Semestre1-8hKWhZbI/lib/python3.11/site-packages/sklearn/linear_model/_coordinate_descent.py:628: ConvergenceWarning: Objective did not converge. You might want to increase the number of iterations, check the scale of the features or consider increasing regularisation. Duality gap: 1.219e+05, tolerance: 1.419e+03\n",
      "  model = cd_fast.enet_coordinate_descent(\n",
      "/Users/david/.local/share/virtualenvs/Proyecto-Integrador-Semestre1-8hKWhZbI/lib/python3.11/site-packages/sklearn/linear_model/_coordinate_descent.py:628: ConvergenceWarning: Objective did not converge. You might want to increase the number of iterations, check the scale of the features or consider increasing regularisation. Duality gap: 1.411e+05, tolerance: 1.358e+03\n",
      "  model = cd_fast.enet_coordinate_descent(\n",
      "/Users/david/.local/share/virtualenvs/Proyecto-Integrador-Semestre1-8hKWhZbI/lib/python3.11/site-packages/sklearn/linear_model/_coordinate_descent.py:628: ConvergenceWarning: Objective did not converge. You might want to increase the number of iterations, check the scale of the features or consider increasing regularisation. Duality gap: 1.130e+05, tolerance: 1.194e+03\n",
      "  model = cd_fast.enet_coordinate_descent(\n",
      "/Users/david/.local/share/virtualenvs/Proyecto-Integrador-Semestre1-8hKWhZbI/lib/python3.11/site-packages/sklearn/linear_model/_coordinate_descent.py:628: ConvergenceWarning: Objective did not converge. You might want to increase the number of iterations, check the scale of the features or consider increasing regularisation. Duality gap: 9.364e+04, tolerance: 1.494e+03\n",
      "  model = cd_fast.enet_coordinate_descent(\n",
      "/Users/david/.local/share/virtualenvs/Proyecto-Integrador-Semestre1-8hKWhZbI/lib/python3.11/site-packages/sklearn/linear_model/_coordinate_descent.py:628: ConvergenceWarning: Objective did not converge. You might want to increase the number of iterations, check the scale of the features or consider increasing regularisation. Duality gap: 7.661e+04, tolerance: 1.371e+03\n",
      "  model = cd_fast.enet_coordinate_descent(\n",
      "/Users/david/.local/share/virtualenvs/Proyecto-Integrador-Semestre1-8hKWhZbI/lib/python3.11/site-packages/sklearn/linear_model/_coordinate_descent.py:628: ConvergenceWarning: Objective did not converge. You might want to increase the number of iterations, check the scale of the features or consider increasing regularisation. Duality gap: 1.220e+05, tolerance: 1.419e+03\n",
      "  model = cd_fast.enet_coordinate_descent(\n",
      "/Users/david/.local/share/virtualenvs/Proyecto-Integrador-Semestre1-8hKWhZbI/lib/python3.11/site-packages/sklearn/linear_model/_coordinate_descent.py:628: ConvergenceWarning: Objective did not converge. You might want to increase the number of iterations, check the scale of the features or consider increasing regularisation. Duality gap: 1.420e+05, tolerance: 1.358e+03\n",
      "  model = cd_fast.enet_coordinate_descent(\n"
     ]
    },
    {
     "name": "stdout",
     "output_type": "stream",
     "text": [
      "Mean Squared Error on Test Data: 4470.506134896634\n",
      "Mean Absolute Percentage Error on Test Data: 0.09790856395832793\n",
      "precipitacion_meta: -0.9928909471372075\n",
      "precipitacion_tolima: -0.9321752964063686\n",
      "temp_BOYACA: 0.30535810599432\n",
      "temp_VALLE DEL CAUCA: 1.4986398896016795\n",
      "energy_price_lag_1: 1.0957991268046676\n",
      "energy_price_lag_2: -0.13016787566285845\n",
      "-----------------------\n",
      "Lags: 3\n"
     ]
    },
    {
     "name": "stderr",
     "output_type": "stream",
     "text": [
      "/Users/david/.local/share/virtualenvs/Proyecto-Integrador-Semestre1-8hKWhZbI/lib/python3.11/site-packages/sklearn/linear_model/_coordinate_descent.py:628: ConvergenceWarning: Objective did not converge. You might want to increase the number of iterations, check the scale of the features or consider increasing regularisation. Duality gap: 1.326e+05, tolerance: 1.280e+03\n",
      "  model = cd_fast.enet_coordinate_descent(\n",
      "/Users/david/.local/share/virtualenvs/Proyecto-Integrador-Semestre1-8hKWhZbI/lib/python3.11/site-packages/sklearn/linear_model/_coordinate_descent.py:628: ConvergenceWarning: Objective did not converge. You might want to increase the number of iterations, check the scale of the features or consider increasing regularisation. Duality gap: 1.834e+05, tolerance: 1.412e+03\n",
      "  model = cd_fast.enet_coordinate_descent(\n",
      "/Users/david/.local/share/virtualenvs/Proyecto-Integrador-Semestre1-8hKWhZbI/lib/python3.11/site-packages/sklearn/linear_model/_coordinate_descent.py:628: ConvergenceWarning: Objective did not converge. You might want to increase the number of iterations, check the scale of the features or consider increasing regularisation. Duality gap: 1.077e+05, tolerance: 1.385e+03\n",
      "  model = cd_fast.enet_coordinate_descent(\n",
      "/Users/david/.local/share/virtualenvs/Proyecto-Integrador-Semestre1-8hKWhZbI/lib/python3.11/site-packages/sklearn/linear_model/_coordinate_descent.py:628: ConvergenceWarning: Objective did not converge. You might want to increase the number of iterations, check the scale of the features or consider increasing regularisation. Duality gap: 9.233e+04, tolerance: 1.403e+03\n",
      "  model = cd_fast.enet_coordinate_descent(\n",
      "/Users/david/.local/share/virtualenvs/Proyecto-Integrador-Semestre1-8hKWhZbI/lib/python3.11/site-packages/sklearn/linear_model/_coordinate_descent.py:628: ConvergenceWarning: Objective did not converge. You might want to increase the number of iterations, check the scale of the features or consider increasing regularisation. Duality gap: 1.103e+05, tolerance: 1.359e+03\n",
      "  model = cd_fast.enet_coordinate_descent(\n",
      "/Users/david/.local/share/virtualenvs/Proyecto-Integrador-Semestre1-8hKWhZbI/lib/python3.11/site-packages/sklearn/linear_model/_coordinate_descent.py:628: ConvergenceWarning: Objective did not converge. You might want to increase the number of iterations, check the scale of the features or consider increasing regularisation. Duality gap: 1.326e+05, tolerance: 1.280e+03\n",
      "  model = cd_fast.enet_coordinate_descent(\n",
      "/Users/david/.local/share/virtualenvs/Proyecto-Integrador-Semestre1-8hKWhZbI/lib/python3.11/site-packages/sklearn/linear_model/_coordinate_descent.py:628: ConvergenceWarning: Objective did not converge. You might want to increase the number of iterations, check the scale of the features or consider increasing regularisation. Duality gap: 9.204e+04, tolerance: 1.412e+03\n",
      "  model = cd_fast.enet_coordinate_descent(\n",
      "/Users/david/.local/share/virtualenvs/Proyecto-Integrador-Semestre1-8hKWhZbI/lib/python3.11/site-packages/sklearn/linear_model/_coordinate_descent.py:628: ConvergenceWarning: Objective did not converge. You might want to increase the number of iterations, check the scale of the features or consider increasing regularisation. Duality gap: 1.077e+05, tolerance: 1.385e+03\n",
      "  model = cd_fast.enet_coordinate_descent(\n",
      "/Users/david/.local/share/virtualenvs/Proyecto-Integrador-Semestre1-8hKWhZbI/lib/python3.11/site-packages/sklearn/linear_model/_coordinate_descent.py:628: ConvergenceWarning: Objective did not converge. You might want to increase the number of iterations, check the scale of the features or consider increasing regularisation. Duality gap: 8.269e+04, tolerance: 1.403e+03\n",
      "  model = cd_fast.enet_coordinate_descent(\n",
      "/Users/david/.local/share/virtualenvs/Proyecto-Integrador-Semestre1-8hKWhZbI/lib/python3.11/site-packages/sklearn/linear_model/_coordinate_descent.py:628: ConvergenceWarning: Objective did not converge. You might want to increase the number of iterations, check the scale of the features or consider increasing regularisation. Duality gap: 1.103e+05, tolerance: 1.359e+03\n",
      "  model = cd_fast.enet_coordinate_descent(\n",
      "/Users/david/.local/share/virtualenvs/Proyecto-Integrador-Semestre1-8hKWhZbI/lib/python3.11/site-packages/sklearn/linear_model/_coordinate_descent.py:628: ConvergenceWarning: Objective did not converge. You might want to increase the number of iterations, check the scale of the features or consider increasing regularisation. Duality gap: 1.327e+05, tolerance: 1.280e+03\n",
      "  model = cd_fast.enet_coordinate_descent(\n",
      "/Users/david/.local/share/virtualenvs/Proyecto-Integrador-Semestre1-8hKWhZbI/lib/python3.11/site-packages/sklearn/linear_model/_coordinate_descent.py:628: ConvergenceWarning: Objective did not converge. You might want to increase the number of iterations, check the scale of the features or consider increasing regularisation. Duality gap: 8.359e+04, tolerance: 1.412e+03\n",
      "  model = cd_fast.enet_coordinate_descent(\n",
      "/Users/david/.local/share/virtualenvs/Proyecto-Integrador-Semestre1-8hKWhZbI/lib/python3.11/site-packages/sklearn/linear_model/_coordinate_descent.py:628: ConvergenceWarning: Objective did not converge. You might want to increase the number of iterations, check the scale of the features or consider increasing regularisation. Duality gap: 1.078e+05, tolerance: 1.385e+03\n",
      "  model = cd_fast.enet_coordinate_descent(\n",
      "/Users/david/.local/share/virtualenvs/Proyecto-Integrador-Semestre1-8hKWhZbI/lib/python3.11/site-packages/sklearn/linear_model/_coordinate_descent.py:628: ConvergenceWarning: Objective did not converge. You might want to increase the number of iterations, check the scale of the features or consider increasing regularisation. Duality gap: 3.906e+04, tolerance: 1.403e+03\n",
      "  model = cd_fast.enet_coordinate_descent(\n",
      "/Users/david/.local/share/virtualenvs/Proyecto-Integrador-Semestre1-8hKWhZbI/lib/python3.11/site-packages/sklearn/linear_model/_coordinate_descent.py:628: ConvergenceWarning: Objective did not converge. You might want to increase the number of iterations, check the scale of the features or consider increasing regularisation. Duality gap: 1.104e+05, tolerance: 1.359e+03\n",
      "  model = cd_fast.enet_coordinate_descent(\n"
     ]
    },
    {
     "name": "stdout",
     "output_type": "stream",
     "text": [
      "Best parameters found: {'alpha': 4.281332398719396}\n",
      "Best cross-validation score: 0.9406517684146577\n"
     ]
    },
    {
     "name": "stderr",
     "output_type": "stream",
     "text": [
      "/Users/david/.local/share/virtualenvs/Proyecto-Integrador-Semestre1-8hKWhZbI/lib/python3.11/site-packages/sklearn/linear_model/_coordinate_descent.py:628: ConvergenceWarning: Objective did not converge. You might want to increase the number of iterations, check the scale of the features or consider increasing regularisation. Duality gap: 1.326e+05, tolerance: 1.280e+03\n",
      "  model = cd_fast.enet_coordinate_descent(\n",
      "/Users/david/.local/share/virtualenvs/Proyecto-Integrador-Semestre1-8hKWhZbI/lib/python3.11/site-packages/sklearn/linear_model/_coordinate_descent.py:628: ConvergenceWarning: Objective did not converge. You might want to increase the number of iterations, check the scale of the features or consider increasing regularisation. Duality gap: 1.834e+05, tolerance: 1.412e+03\n",
      "  model = cd_fast.enet_coordinate_descent(\n",
      "/Users/david/.local/share/virtualenvs/Proyecto-Integrador-Semestre1-8hKWhZbI/lib/python3.11/site-packages/sklearn/linear_model/_coordinate_descent.py:628: ConvergenceWarning: Objective did not converge. You might want to increase the number of iterations, check the scale of the features or consider increasing regularisation. Duality gap: 1.077e+05, tolerance: 1.385e+03\n",
      "  model = cd_fast.enet_coordinate_descent(\n",
      "/Users/david/.local/share/virtualenvs/Proyecto-Integrador-Semestre1-8hKWhZbI/lib/python3.11/site-packages/sklearn/linear_model/_coordinate_descent.py:628: ConvergenceWarning: Objective did not converge. You might want to increase the number of iterations, check the scale of the features or consider increasing regularisation. Duality gap: 9.233e+04, tolerance: 1.403e+03\n",
      "  model = cd_fast.enet_coordinate_descent(\n",
      "/Users/david/.local/share/virtualenvs/Proyecto-Integrador-Semestre1-8hKWhZbI/lib/python3.11/site-packages/sklearn/linear_model/_coordinate_descent.py:628: ConvergenceWarning: Objective did not converge. You might want to increase the number of iterations, check the scale of the features or consider increasing regularisation. Duality gap: 1.103e+05, tolerance: 1.359e+03\n",
      "  model = cd_fast.enet_coordinate_descent(\n",
      "/Users/david/.local/share/virtualenvs/Proyecto-Integrador-Semestre1-8hKWhZbI/lib/python3.11/site-packages/sklearn/linear_model/_coordinate_descent.py:628: ConvergenceWarning: Objective did not converge. You might want to increase the number of iterations, check the scale of the features or consider increasing regularisation. Duality gap: 1.326e+05, tolerance: 1.280e+03\n",
      "  model = cd_fast.enet_coordinate_descent(\n",
      "/Users/david/.local/share/virtualenvs/Proyecto-Integrador-Semestre1-8hKWhZbI/lib/python3.11/site-packages/sklearn/linear_model/_coordinate_descent.py:628: ConvergenceWarning: Objective did not converge. You might want to increase the number of iterations, check the scale of the features or consider increasing regularisation. Duality gap: 9.204e+04, tolerance: 1.412e+03\n",
      "  model = cd_fast.enet_coordinate_descent(\n",
      "/Users/david/.local/share/virtualenvs/Proyecto-Integrador-Semestre1-8hKWhZbI/lib/python3.11/site-packages/sklearn/linear_model/_coordinate_descent.py:628: ConvergenceWarning: Objective did not converge. You might want to increase the number of iterations, check the scale of the features or consider increasing regularisation. Duality gap: 1.077e+05, tolerance: 1.385e+03\n",
      "  model = cd_fast.enet_coordinate_descent(\n",
      "/Users/david/.local/share/virtualenvs/Proyecto-Integrador-Semestre1-8hKWhZbI/lib/python3.11/site-packages/sklearn/linear_model/_coordinate_descent.py:628: ConvergenceWarning: Objective did not converge. You might want to increase the number of iterations, check the scale of the features or consider increasing regularisation. Duality gap: 8.269e+04, tolerance: 1.403e+03\n",
      "  model = cd_fast.enet_coordinate_descent(\n",
      "/Users/david/.local/share/virtualenvs/Proyecto-Integrador-Semestre1-8hKWhZbI/lib/python3.11/site-packages/sklearn/linear_model/_coordinate_descent.py:628: ConvergenceWarning: Objective did not converge. You might want to increase the number of iterations, check the scale of the features or consider increasing regularisation. Duality gap: 1.103e+05, tolerance: 1.359e+03\n",
      "  model = cd_fast.enet_coordinate_descent(\n",
      "/Users/david/.local/share/virtualenvs/Proyecto-Integrador-Semestre1-8hKWhZbI/lib/python3.11/site-packages/sklearn/linear_model/_coordinate_descent.py:628: ConvergenceWarning: Objective did not converge. You might want to increase the number of iterations, check the scale of the features or consider increasing regularisation. Duality gap: 1.327e+05, tolerance: 1.280e+03\n",
      "  model = cd_fast.enet_coordinate_descent(\n",
      "/Users/david/.local/share/virtualenvs/Proyecto-Integrador-Semestre1-8hKWhZbI/lib/python3.11/site-packages/sklearn/linear_model/_coordinate_descent.py:628: ConvergenceWarning: Objective did not converge. You might want to increase the number of iterations, check the scale of the features or consider increasing regularisation. Duality gap: 8.359e+04, tolerance: 1.412e+03\n",
      "  model = cd_fast.enet_coordinate_descent(\n",
      "/Users/david/.local/share/virtualenvs/Proyecto-Integrador-Semestre1-8hKWhZbI/lib/python3.11/site-packages/sklearn/linear_model/_coordinate_descent.py:628: ConvergenceWarning: Objective did not converge. You might want to increase the number of iterations, check the scale of the features or consider increasing regularisation. Duality gap: 1.078e+05, tolerance: 1.385e+03\n",
      "  model = cd_fast.enet_coordinate_descent(\n",
      "/Users/david/.local/share/virtualenvs/Proyecto-Integrador-Semestre1-8hKWhZbI/lib/python3.11/site-packages/sklearn/linear_model/_coordinate_descent.py:628: ConvergenceWarning: Objective did not converge. You might want to increase the number of iterations, check the scale of the features or consider increasing regularisation. Duality gap: 3.906e+04, tolerance: 1.403e+03\n",
      "  model = cd_fast.enet_coordinate_descent(\n",
      "/Users/david/.local/share/virtualenvs/Proyecto-Integrador-Semestre1-8hKWhZbI/lib/python3.11/site-packages/sklearn/linear_model/_coordinate_descent.py:628: ConvergenceWarning: Objective did not converge. You might want to increase the number of iterations, check the scale of the features or consider increasing regularisation. Duality gap: 1.104e+05, tolerance: 1.359e+03\n",
      "  model = cd_fast.enet_coordinate_descent(\n"
     ]
    },
    {
     "name": "stdout",
     "output_type": "stream",
     "text": [
      "Mean Squared Error on Test Data: 4491.26487661298\n",
      "Mean Absolute Percentage Error on Test Data: 0.09635049842643047\n",
      "precipitacion_meta: -0.6033561644760496\n",
      "precipitacion_tolima: -0.3456955105210255\n",
      "temp_BOYACA: 0.7436602031153036\n",
      "temp_QUINDIO: 0.5733149923544517\n",
      "temp_VALLE DEL CAUCA: 1.1499119615723965\n",
      "energy_price_lag_1: 1.0746413836470612\n",
      "energy_price_lag_2: 0.06520560726103804\n",
      "energy_price_lag_3: -0.18143605444202746\n",
      "-----------------------\n",
      "Lags: 4\n"
     ]
    },
    {
     "name": "stderr",
     "output_type": "stream",
     "text": [
      "/Users/david/.local/share/virtualenvs/Proyecto-Integrador-Semestre1-8hKWhZbI/lib/python3.11/site-packages/sklearn/linear_model/_coordinate_descent.py:628: ConvergenceWarning: Objective did not converge. You might want to increase the number of iterations, check the scale of the features or consider increasing regularisation. Duality gap: 1.280e+05, tolerance: 1.336e+03\n",
      "  model = cd_fast.enet_coordinate_descent(\n",
      "/Users/david/.local/share/virtualenvs/Proyecto-Integrador-Semestre1-8hKWhZbI/lib/python3.11/site-packages/sklearn/linear_model/_coordinate_descent.py:628: ConvergenceWarning: Objective did not converge. You might want to increase the number of iterations, check the scale of the features or consider increasing regularisation. Duality gap: 1.295e+05, tolerance: 1.315e+03\n",
      "  model = cd_fast.enet_coordinate_descent(\n",
      "/Users/david/.local/share/virtualenvs/Proyecto-Integrador-Semestre1-8hKWhZbI/lib/python3.11/site-packages/sklearn/linear_model/_coordinate_descent.py:628: ConvergenceWarning: Objective did not converge. You might want to increase the number of iterations, check the scale of the features or consider increasing regularisation. Duality gap: 1.172e+05, tolerance: 1.430e+03\n",
      "  model = cd_fast.enet_coordinate_descent(\n",
      "/Users/david/.local/share/virtualenvs/Proyecto-Integrador-Semestre1-8hKWhZbI/lib/python3.11/site-packages/sklearn/linear_model/_coordinate_descent.py:628: ConvergenceWarning: Objective did not converge. You might want to increase the number of iterations, check the scale of the features or consider increasing regularisation. Duality gap: 1.534e+05, tolerance: 1.388e+03\n",
      "  model = cd_fast.enet_coordinate_descent(\n",
      "/Users/david/.local/share/virtualenvs/Proyecto-Integrador-Semestre1-8hKWhZbI/lib/python3.11/site-packages/sklearn/linear_model/_coordinate_descent.py:628: ConvergenceWarning: Objective did not converge. You might want to increase the number of iterations, check the scale of the features or consider increasing regularisation. Duality gap: 1.043e+05, tolerance: 1.368e+03\n",
      "  model = cd_fast.enet_coordinate_descent(\n",
      "/Users/david/.local/share/virtualenvs/Proyecto-Integrador-Semestre1-8hKWhZbI/lib/python3.11/site-packages/sklearn/linear_model/_coordinate_descent.py:628: ConvergenceWarning: Objective did not converge. You might want to increase the number of iterations, check the scale of the features or consider increasing regularisation. Duality gap: 1.280e+05, tolerance: 1.336e+03\n",
      "  model = cd_fast.enet_coordinate_descent(\n",
      "/Users/david/.local/share/virtualenvs/Proyecto-Integrador-Semestre1-8hKWhZbI/lib/python3.11/site-packages/sklearn/linear_model/_coordinate_descent.py:628: ConvergenceWarning: Objective did not converge. You might want to increase the number of iterations, check the scale of the features or consider increasing regularisation. Duality gap: 1.295e+05, tolerance: 1.315e+03\n",
      "  model = cd_fast.enet_coordinate_descent(\n",
      "/Users/david/.local/share/virtualenvs/Proyecto-Integrador-Semestre1-8hKWhZbI/lib/python3.11/site-packages/sklearn/linear_model/_coordinate_descent.py:628: ConvergenceWarning: Objective did not converge. You might want to increase the number of iterations, check the scale of the features or consider increasing regularisation. Duality gap: 1.173e+05, tolerance: 1.430e+03\n",
      "  model = cd_fast.enet_coordinate_descent(\n",
      "/Users/david/.local/share/virtualenvs/Proyecto-Integrador-Semestre1-8hKWhZbI/lib/python3.11/site-packages/sklearn/linear_model/_coordinate_descent.py:628: ConvergenceWarning: Objective did not converge. You might want to increase the number of iterations, check the scale of the features or consider increasing regularisation. Duality gap: 1.534e+05, tolerance: 1.388e+03\n",
      "  model = cd_fast.enet_coordinate_descent(\n",
      "/Users/david/.local/share/virtualenvs/Proyecto-Integrador-Semestre1-8hKWhZbI/lib/python3.11/site-packages/sklearn/linear_model/_coordinate_descent.py:628: ConvergenceWarning: Objective did not converge. You might want to increase the number of iterations, check the scale of the features or consider increasing regularisation. Duality gap: 1.043e+05, tolerance: 1.368e+03\n",
      "  model = cd_fast.enet_coordinate_descent(\n",
      "/Users/david/.local/share/virtualenvs/Proyecto-Integrador-Semestre1-8hKWhZbI/lib/python3.11/site-packages/sklearn/linear_model/_coordinate_descent.py:628: ConvergenceWarning: Objective did not converge. You might want to increase the number of iterations, check the scale of the features or consider increasing regularisation. Duality gap: 1.701e+05, tolerance: 1.336e+03\n",
      "  model = cd_fast.enet_coordinate_descent(\n",
      "/Users/david/.local/share/virtualenvs/Proyecto-Integrador-Semestre1-8hKWhZbI/lib/python3.11/site-packages/sklearn/linear_model/_coordinate_descent.py:628: ConvergenceWarning: Objective did not converge. You might want to increase the number of iterations, check the scale of the features or consider increasing regularisation. Duality gap: 1.535e+05, tolerance: 1.315e+03\n",
      "  model = cd_fast.enet_coordinate_descent(\n",
      "/Users/david/.local/share/virtualenvs/Proyecto-Integrador-Semestre1-8hKWhZbI/lib/python3.11/site-packages/sklearn/linear_model/_coordinate_descent.py:628: ConvergenceWarning: Objective did not converge. You might want to increase the number of iterations, check the scale of the features or consider increasing regularisation. Duality gap: 1.174e+05, tolerance: 1.430e+03\n",
      "  model = cd_fast.enet_coordinate_descent(\n",
      "/Users/david/.local/share/virtualenvs/Proyecto-Integrador-Semestre1-8hKWhZbI/lib/python3.11/site-packages/sklearn/linear_model/_coordinate_descent.py:628: ConvergenceWarning: Objective did not converge. You might want to increase the number of iterations, check the scale of the features or consider increasing regularisation. Duality gap: 1.324e+05, tolerance: 1.388e+03\n",
      "  model = cd_fast.enet_coordinate_descent(\n",
      "/Users/david/.local/share/virtualenvs/Proyecto-Integrador-Semestre1-8hKWhZbI/lib/python3.11/site-packages/sklearn/linear_model/_coordinate_descent.py:628: ConvergenceWarning: Objective did not converge. You might want to increase the number of iterations, check the scale of the features or consider increasing regularisation. Duality gap: 5.822e+04, tolerance: 1.368e+03\n",
      "  model = cd_fast.enet_coordinate_descent(\n"
     ]
    },
    {
     "name": "stdout",
     "output_type": "stream",
     "text": [
      "Best parameters found: {'alpha': 4.281332398719396}\n",
      "Best cross-validation score: 0.9428680668510527\n"
     ]
    },
    {
     "name": "stderr",
     "output_type": "stream",
     "text": [
      "/Users/david/.local/share/virtualenvs/Proyecto-Integrador-Semestre1-8hKWhZbI/lib/python3.11/site-packages/sklearn/linear_model/_coordinate_descent.py:628: ConvergenceWarning: Objective did not converge. You might want to increase the number of iterations, check the scale of the features or consider increasing regularisation. Duality gap: 1.280e+05, tolerance: 1.336e+03\n",
      "  model = cd_fast.enet_coordinate_descent(\n",
      "/Users/david/.local/share/virtualenvs/Proyecto-Integrador-Semestre1-8hKWhZbI/lib/python3.11/site-packages/sklearn/linear_model/_coordinate_descent.py:628: ConvergenceWarning: Objective did not converge. You might want to increase the number of iterations, check the scale of the features or consider increasing regularisation. Duality gap: 1.295e+05, tolerance: 1.315e+03\n",
      "  model = cd_fast.enet_coordinate_descent(\n",
      "/Users/david/.local/share/virtualenvs/Proyecto-Integrador-Semestre1-8hKWhZbI/lib/python3.11/site-packages/sklearn/linear_model/_coordinate_descent.py:628: ConvergenceWarning: Objective did not converge. You might want to increase the number of iterations, check the scale of the features or consider increasing regularisation. Duality gap: 1.172e+05, tolerance: 1.430e+03\n",
      "  model = cd_fast.enet_coordinate_descent(\n",
      "/Users/david/.local/share/virtualenvs/Proyecto-Integrador-Semestre1-8hKWhZbI/lib/python3.11/site-packages/sklearn/linear_model/_coordinate_descent.py:628: ConvergenceWarning: Objective did not converge. You might want to increase the number of iterations, check the scale of the features or consider increasing regularisation. Duality gap: 1.534e+05, tolerance: 1.388e+03\n",
      "  model = cd_fast.enet_coordinate_descent(\n",
      "/Users/david/.local/share/virtualenvs/Proyecto-Integrador-Semestre1-8hKWhZbI/lib/python3.11/site-packages/sklearn/linear_model/_coordinate_descent.py:628: ConvergenceWarning: Objective did not converge. You might want to increase the number of iterations, check the scale of the features or consider increasing regularisation. Duality gap: 1.043e+05, tolerance: 1.368e+03\n",
      "  model = cd_fast.enet_coordinate_descent(\n",
      "/Users/david/.local/share/virtualenvs/Proyecto-Integrador-Semestre1-8hKWhZbI/lib/python3.11/site-packages/sklearn/linear_model/_coordinate_descent.py:628: ConvergenceWarning: Objective did not converge. You might want to increase the number of iterations, check the scale of the features or consider increasing regularisation. Duality gap: 1.280e+05, tolerance: 1.336e+03\n",
      "  model = cd_fast.enet_coordinate_descent(\n",
      "/Users/david/.local/share/virtualenvs/Proyecto-Integrador-Semestre1-8hKWhZbI/lib/python3.11/site-packages/sklearn/linear_model/_coordinate_descent.py:628: ConvergenceWarning: Objective did not converge. You might want to increase the number of iterations, check the scale of the features or consider increasing regularisation. Duality gap: 1.295e+05, tolerance: 1.315e+03\n",
      "  model = cd_fast.enet_coordinate_descent(\n",
      "/Users/david/.local/share/virtualenvs/Proyecto-Integrador-Semestre1-8hKWhZbI/lib/python3.11/site-packages/sklearn/linear_model/_coordinate_descent.py:628: ConvergenceWarning: Objective did not converge. You might want to increase the number of iterations, check the scale of the features or consider increasing regularisation. Duality gap: 1.173e+05, tolerance: 1.430e+03\n",
      "  model = cd_fast.enet_coordinate_descent(\n",
      "/Users/david/.local/share/virtualenvs/Proyecto-Integrador-Semestre1-8hKWhZbI/lib/python3.11/site-packages/sklearn/linear_model/_coordinate_descent.py:628: ConvergenceWarning: Objective did not converge. You might want to increase the number of iterations, check the scale of the features or consider increasing regularisation. Duality gap: 1.534e+05, tolerance: 1.388e+03\n",
      "  model = cd_fast.enet_coordinate_descent(\n",
      "/Users/david/.local/share/virtualenvs/Proyecto-Integrador-Semestre1-8hKWhZbI/lib/python3.11/site-packages/sklearn/linear_model/_coordinate_descent.py:628: ConvergenceWarning: Objective did not converge. You might want to increase the number of iterations, check the scale of the features or consider increasing regularisation. Duality gap: 1.043e+05, tolerance: 1.368e+03\n",
      "  model = cd_fast.enet_coordinate_descent(\n",
      "/Users/david/.local/share/virtualenvs/Proyecto-Integrador-Semestre1-8hKWhZbI/lib/python3.11/site-packages/sklearn/linear_model/_coordinate_descent.py:628: ConvergenceWarning: Objective did not converge. You might want to increase the number of iterations, check the scale of the features or consider increasing regularisation. Duality gap: 1.701e+05, tolerance: 1.336e+03\n",
      "  model = cd_fast.enet_coordinate_descent(\n",
      "/Users/david/.local/share/virtualenvs/Proyecto-Integrador-Semestre1-8hKWhZbI/lib/python3.11/site-packages/sklearn/linear_model/_coordinate_descent.py:628: ConvergenceWarning: Objective did not converge. You might want to increase the number of iterations, check the scale of the features or consider increasing regularisation. Duality gap: 1.535e+05, tolerance: 1.315e+03\n",
      "  model = cd_fast.enet_coordinate_descent(\n",
      "/Users/david/.local/share/virtualenvs/Proyecto-Integrador-Semestre1-8hKWhZbI/lib/python3.11/site-packages/sklearn/linear_model/_coordinate_descent.py:628: ConvergenceWarning: Objective did not converge. You might want to increase the number of iterations, check the scale of the features or consider increasing regularisation. Duality gap: 1.174e+05, tolerance: 1.430e+03\n",
      "  model = cd_fast.enet_coordinate_descent(\n",
      "/Users/david/.local/share/virtualenvs/Proyecto-Integrador-Semestre1-8hKWhZbI/lib/python3.11/site-packages/sklearn/linear_model/_coordinate_descent.py:628: ConvergenceWarning: Objective did not converge. You might want to increase the number of iterations, check the scale of the features or consider increasing regularisation. Duality gap: 1.324e+05, tolerance: 1.388e+03\n",
      "  model = cd_fast.enet_coordinate_descent(\n",
      "/Users/david/.local/share/virtualenvs/Proyecto-Integrador-Semestre1-8hKWhZbI/lib/python3.11/site-packages/sklearn/linear_model/_coordinate_descent.py:628: ConvergenceWarning: Objective did not converge. You might want to increase the number of iterations, check the scale of the features or consider increasing regularisation. Duality gap: 5.822e+04, tolerance: 1.368e+03\n",
      "  model = cd_fast.enet_coordinate_descent(\n"
     ]
    },
    {
     "name": "stdout",
     "output_type": "stream",
     "text": [
      "Mean Squared Error on Test Data: 4491.717646868369\n",
      "Mean Absolute Percentage Error on Test Data: 0.09635002701025151\n",
      "precipitacion_meta: -0.6083826862311931\n",
      "precipitacion_tolima: -0.3398684611828244\n",
      "temp_BOYACA: 0.7548634470789101\n",
      "temp_QUINDIO: 0.5513228659279308\n",
      "temp_VALLE DEL CAUCA: 1.1848023613138532\n",
      "energy_price_lag_1: 1.0748659008294785\n",
      "energy_price_lag_2: 0.06551704316531713\n",
      "energy_price_lag_3: -0.18270983380115788\n",
      "energy_price_lag_4: 0.0007455975748930554\n",
      "-----------------------\n",
      "Lags: 5\n"
     ]
    },
    {
     "name": "stderr",
     "output_type": "stream",
     "text": [
      "/Users/david/.local/share/virtualenvs/Proyecto-Integrador-Semestre1-8hKWhZbI/lib/python3.11/site-packages/sklearn/linear_model/_coordinate_descent.py:628: ConvergenceWarning: Objective did not converge. You might want to increase the number of iterations, check the scale of the features or consider increasing regularisation. Duality gap: 9.587e+04, tolerance: 1.334e+03\n",
      "  model = cd_fast.enet_coordinate_descent(\n",
      "/Users/david/.local/share/virtualenvs/Proyecto-Integrador-Semestre1-8hKWhZbI/lib/python3.11/site-packages/sklearn/linear_model/_coordinate_descent.py:628: ConvergenceWarning: Objective did not converge. You might want to increase the number of iterations, check the scale of the features or consider increasing regularisation. Duality gap: 1.063e+05, tolerance: 1.380e+03\n",
      "  model = cd_fast.enet_coordinate_descent(\n",
      "/Users/david/.local/share/virtualenvs/Proyecto-Integrador-Semestre1-8hKWhZbI/lib/python3.11/site-packages/sklearn/linear_model/_coordinate_descent.py:628: ConvergenceWarning: Objective did not converge. You might want to increase the number of iterations, check the scale of the features or consider increasing regularisation. Duality gap: 1.538e+05, tolerance: 1.370e+03\n",
      "  model = cd_fast.enet_coordinate_descent(\n",
      "/Users/david/.local/share/virtualenvs/Proyecto-Integrador-Semestre1-8hKWhZbI/lib/python3.11/site-packages/sklearn/linear_model/_coordinate_descent.py:628: ConvergenceWarning: Objective did not converge. You might want to increase the number of iterations, check the scale of the features or consider increasing regularisation. Duality gap: 1.109e+05, tolerance: 1.358e+03\n",
      "  model = cd_fast.enet_coordinate_descent(\n",
      "/Users/david/.local/share/virtualenvs/Proyecto-Integrador-Semestre1-8hKWhZbI/lib/python3.11/site-packages/sklearn/linear_model/_coordinate_descent.py:628: ConvergenceWarning: Objective did not converge. You might want to increase the number of iterations, check the scale of the features or consider increasing regularisation. Duality gap: 1.144e+05, tolerance: 1.398e+03\n",
      "  model = cd_fast.enet_coordinate_descent(\n",
      "/Users/david/.local/share/virtualenvs/Proyecto-Integrador-Semestre1-8hKWhZbI/lib/python3.11/site-packages/sklearn/linear_model/_coordinate_descent.py:628: ConvergenceWarning: Objective did not converge. You might want to increase the number of iterations, check the scale of the features or consider increasing regularisation. Duality gap: 9.588e+04, tolerance: 1.334e+03\n",
      "  model = cd_fast.enet_coordinate_descent(\n",
      "/Users/david/.local/share/virtualenvs/Proyecto-Integrador-Semestre1-8hKWhZbI/lib/python3.11/site-packages/sklearn/linear_model/_coordinate_descent.py:628: ConvergenceWarning: Objective did not converge. You might want to increase the number of iterations, check the scale of the features or consider increasing regularisation. Duality gap: 1.063e+05, tolerance: 1.380e+03\n",
      "  model = cd_fast.enet_coordinate_descent(\n",
      "/Users/david/.local/share/virtualenvs/Proyecto-Integrador-Semestre1-8hKWhZbI/lib/python3.11/site-packages/sklearn/linear_model/_coordinate_descent.py:628: ConvergenceWarning: Objective did not converge. You might want to increase the number of iterations, check the scale of the features or consider increasing regularisation. Duality gap: 1.538e+05, tolerance: 1.370e+03\n",
      "  model = cd_fast.enet_coordinate_descent(\n",
      "/Users/david/.local/share/virtualenvs/Proyecto-Integrador-Semestre1-8hKWhZbI/lib/python3.11/site-packages/sklearn/linear_model/_coordinate_descent.py:628: ConvergenceWarning: Objective did not converge. You might want to increase the number of iterations, check the scale of the features or consider increasing regularisation. Duality gap: 1.109e+05, tolerance: 1.358e+03\n",
      "  model = cd_fast.enet_coordinate_descent(\n",
      "/Users/david/.local/share/virtualenvs/Proyecto-Integrador-Semestre1-8hKWhZbI/lib/python3.11/site-packages/sklearn/linear_model/_coordinate_descent.py:628: ConvergenceWarning: Objective did not converge. You might want to increase the number of iterations, check the scale of the features or consider increasing regularisation. Duality gap: 1.144e+05, tolerance: 1.398e+03\n",
      "  model = cd_fast.enet_coordinate_descent(\n",
      "/Users/david/.local/share/virtualenvs/Proyecto-Integrador-Semestre1-8hKWhZbI/lib/python3.11/site-packages/sklearn/linear_model/_coordinate_descent.py:628: ConvergenceWarning: Objective did not converge. You might want to increase the number of iterations, check the scale of the features or consider increasing regularisation. Duality gap: 4.827e+04, tolerance: 1.334e+03\n",
      "  model = cd_fast.enet_coordinate_descent(\n",
      "/Users/david/.local/share/virtualenvs/Proyecto-Integrador-Semestre1-8hKWhZbI/lib/python3.11/site-packages/sklearn/linear_model/_coordinate_descent.py:628: ConvergenceWarning: Objective did not converge. You might want to increase the number of iterations, check the scale of the features or consider increasing regularisation. Duality gap: 1.049e+05, tolerance: 1.380e+03\n",
      "  model = cd_fast.enet_coordinate_descent(\n",
      "/Users/david/.local/share/virtualenvs/Proyecto-Integrador-Semestre1-8hKWhZbI/lib/python3.11/site-packages/sklearn/linear_model/_coordinate_descent.py:628: ConvergenceWarning: Objective did not converge. You might want to increase the number of iterations, check the scale of the features or consider increasing regularisation. Duality gap: 1.359e+05, tolerance: 1.370e+03\n",
      "  model = cd_fast.enet_coordinate_descent(\n",
      "/Users/david/.local/share/virtualenvs/Proyecto-Integrador-Semestre1-8hKWhZbI/lib/python3.11/site-packages/sklearn/linear_model/_coordinate_descent.py:628: ConvergenceWarning: Objective did not converge. You might want to increase the number of iterations, check the scale of the features or consider increasing regularisation. Duality gap: 3.326e+04, tolerance: 1.358e+03\n",
      "  model = cd_fast.enet_coordinate_descent(\n",
      "/Users/david/.local/share/virtualenvs/Proyecto-Integrador-Semestre1-8hKWhZbI/lib/python3.11/site-packages/sklearn/linear_model/_coordinate_descent.py:628: ConvergenceWarning: Objective did not converge. You might want to increase the number of iterations, check the scale of the features or consider increasing regularisation. Duality gap: 1.145e+05, tolerance: 1.398e+03\n",
      "  model = cd_fast.enet_coordinate_descent(\n"
     ]
    },
    {
     "name": "stdout",
     "output_type": "stream",
     "text": [
      "Best parameters found: {'alpha': 4.281332398719396}\n",
      "Best cross-validation score: 0.9440887360535294\n"
     ]
    },
    {
     "name": "stderr",
     "output_type": "stream",
     "text": [
      "/Users/david/.local/share/virtualenvs/Proyecto-Integrador-Semestre1-8hKWhZbI/lib/python3.11/site-packages/sklearn/linear_model/_coordinate_descent.py:628: ConvergenceWarning: Objective did not converge. You might want to increase the number of iterations, check the scale of the features or consider increasing regularisation. Duality gap: 9.587e+04, tolerance: 1.334e+03\n",
      "  model = cd_fast.enet_coordinate_descent(\n",
      "/Users/david/.local/share/virtualenvs/Proyecto-Integrador-Semestre1-8hKWhZbI/lib/python3.11/site-packages/sklearn/linear_model/_coordinate_descent.py:628: ConvergenceWarning: Objective did not converge. You might want to increase the number of iterations, check the scale of the features or consider increasing regularisation. Duality gap: 1.063e+05, tolerance: 1.380e+03\n",
      "  model = cd_fast.enet_coordinate_descent(\n",
      "/Users/david/.local/share/virtualenvs/Proyecto-Integrador-Semestre1-8hKWhZbI/lib/python3.11/site-packages/sklearn/linear_model/_coordinate_descent.py:628: ConvergenceWarning: Objective did not converge. You might want to increase the number of iterations, check the scale of the features or consider increasing regularisation. Duality gap: 1.538e+05, tolerance: 1.370e+03\n",
      "  model = cd_fast.enet_coordinate_descent(\n",
      "/Users/david/.local/share/virtualenvs/Proyecto-Integrador-Semestre1-8hKWhZbI/lib/python3.11/site-packages/sklearn/linear_model/_coordinate_descent.py:628: ConvergenceWarning: Objective did not converge. You might want to increase the number of iterations, check the scale of the features or consider increasing regularisation. Duality gap: 1.109e+05, tolerance: 1.358e+03\n",
      "  model = cd_fast.enet_coordinate_descent(\n",
      "/Users/david/.local/share/virtualenvs/Proyecto-Integrador-Semestre1-8hKWhZbI/lib/python3.11/site-packages/sklearn/linear_model/_coordinate_descent.py:628: ConvergenceWarning: Objective did not converge. You might want to increase the number of iterations, check the scale of the features or consider increasing regularisation. Duality gap: 1.144e+05, tolerance: 1.398e+03\n",
      "  model = cd_fast.enet_coordinate_descent(\n",
      "/Users/david/.local/share/virtualenvs/Proyecto-Integrador-Semestre1-8hKWhZbI/lib/python3.11/site-packages/sklearn/linear_model/_coordinate_descent.py:628: ConvergenceWarning: Objective did not converge. You might want to increase the number of iterations, check the scale of the features or consider increasing regularisation. Duality gap: 9.588e+04, tolerance: 1.334e+03\n",
      "  model = cd_fast.enet_coordinate_descent(\n",
      "/Users/david/.local/share/virtualenvs/Proyecto-Integrador-Semestre1-8hKWhZbI/lib/python3.11/site-packages/sklearn/linear_model/_coordinate_descent.py:628: ConvergenceWarning: Objective did not converge. You might want to increase the number of iterations, check the scale of the features or consider increasing regularisation. Duality gap: 1.063e+05, tolerance: 1.380e+03\n",
      "  model = cd_fast.enet_coordinate_descent(\n",
      "/Users/david/.local/share/virtualenvs/Proyecto-Integrador-Semestre1-8hKWhZbI/lib/python3.11/site-packages/sklearn/linear_model/_coordinate_descent.py:628: ConvergenceWarning: Objective did not converge. You might want to increase the number of iterations, check the scale of the features or consider increasing regularisation. Duality gap: 1.538e+05, tolerance: 1.370e+03\n",
      "  model = cd_fast.enet_coordinate_descent(\n",
      "/Users/david/.local/share/virtualenvs/Proyecto-Integrador-Semestre1-8hKWhZbI/lib/python3.11/site-packages/sklearn/linear_model/_coordinate_descent.py:628: ConvergenceWarning: Objective did not converge. You might want to increase the number of iterations, check the scale of the features or consider increasing regularisation. Duality gap: 1.109e+05, tolerance: 1.358e+03\n",
      "  model = cd_fast.enet_coordinate_descent(\n",
      "/Users/david/.local/share/virtualenvs/Proyecto-Integrador-Semestre1-8hKWhZbI/lib/python3.11/site-packages/sklearn/linear_model/_coordinate_descent.py:628: ConvergenceWarning: Objective did not converge. You might want to increase the number of iterations, check the scale of the features or consider increasing regularisation. Duality gap: 1.144e+05, tolerance: 1.398e+03\n",
      "  model = cd_fast.enet_coordinate_descent(\n",
      "/Users/david/.local/share/virtualenvs/Proyecto-Integrador-Semestre1-8hKWhZbI/lib/python3.11/site-packages/sklearn/linear_model/_coordinate_descent.py:628: ConvergenceWarning: Objective did not converge. You might want to increase the number of iterations, check the scale of the features or consider increasing regularisation. Duality gap: 4.827e+04, tolerance: 1.334e+03\n",
      "  model = cd_fast.enet_coordinate_descent(\n",
      "/Users/david/.local/share/virtualenvs/Proyecto-Integrador-Semestre1-8hKWhZbI/lib/python3.11/site-packages/sklearn/linear_model/_coordinate_descent.py:628: ConvergenceWarning: Objective did not converge. You might want to increase the number of iterations, check the scale of the features or consider increasing regularisation. Duality gap: 1.049e+05, tolerance: 1.380e+03\n",
      "  model = cd_fast.enet_coordinate_descent(\n",
      "/Users/david/.local/share/virtualenvs/Proyecto-Integrador-Semestre1-8hKWhZbI/lib/python3.11/site-packages/sklearn/linear_model/_coordinate_descent.py:628: ConvergenceWarning: Objective did not converge. You might want to increase the number of iterations, check the scale of the features or consider increasing regularisation. Duality gap: 1.359e+05, tolerance: 1.370e+03\n",
      "  model = cd_fast.enet_coordinate_descent(\n",
      "/Users/david/.local/share/virtualenvs/Proyecto-Integrador-Semestre1-8hKWhZbI/lib/python3.11/site-packages/sklearn/linear_model/_coordinate_descent.py:628: ConvergenceWarning: Objective did not converge. You might want to increase the number of iterations, check the scale of the features or consider increasing regularisation. Duality gap: 3.326e+04, tolerance: 1.358e+03\n",
      "  model = cd_fast.enet_coordinate_descent(\n",
      "/Users/david/.local/share/virtualenvs/Proyecto-Integrador-Semestre1-8hKWhZbI/lib/python3.11/site-packages/sklearn/linear_model/_coordinate_descent.py:628: ConvergenceWarning: Objective did not converge. You might want to increase the number of iterations, check the scale of the features or consider increasing regularisation. Duality gap: 1.145e+05, tolerance: 1.398e+03\n",
      "  model = cd_fast.enet_coordinate_descent(\n"
     ]
    },
    {
     "name": "stdout",
     "output_type": "stream",
     "text": [
      "Mean Squared Error on Test Data: 4574.794605686089\n",
      "Mean Absolute Percentage Error on Test Data: 0.09743003609720527\n",
      "precipitacion_meta: -0.6434305299467613\n",
      "precipitacion_tolima: -0.08970679302772433\n",
      "temp_BOYACA: 0.9322919690118244\n",
      "temp_QUINDIO: 0.5072403787524699\n",
      "temp_VALLE DEL CAUCA: 1.324328281281704\n",
      "energy_price_lag_1: 1.0747859852417176\n",
      "energy_price_lag_2: 0.05215418275188653\n",
      "energy_price_lag_3: -0.1796717087678458\n",
      "energy_price_lag_4: 0.09004445695021686\n",
      "energy_price_lag_5: -0.08271839470383935\n",
      "-----------------------\n",
      "Lags: 6\n"
     ]
    },
    {
     "name": "stderr",
     "output_type": "stream",
     "text": [
      "/Users/david/.local/share/virtualenvs/Proyecto-Integrador-Semestre1-8hKWhZbI/lib/python3.11/site-packages/sklearn/linear_model/_coordinate_descent.py:628: ConvergenceWarning: Objective did not converge. You might want to increase the number of iterations, check the scale of the features or consider increasing regularisation. Duality gap: 1.438e+05, tolerance: 1.329e+03\n",
      "  model = cd_fast.enet_coordinate_descent(\n",
      "/Users/david/.local/share/virtualenvs/Proyecto-Integrador-Semestre1-8hKWhZbI/lib/python3.11/site-packages/sklearn/linear_model/_coordinate_descent.py:628: ConvergenceWarning: Objective did not converge. You might want to increase the number of iterations, check the scale of the features or consider increasing regularisation. Duality gap: 1.082e+05, tolerance: 1.427e+03\n",
      "  model = cd_fast.enet_coordinate_descent(\n",
      "/Users/david/.local/share/virtualenvs/Proyecto-Integrador-Semestre1-8hKWhZbI/lib/python3.11/site-packages/sklearn/linear_model/_coordinate_descent.py:628: ConvergenceWarning: Objective did not converge. You might want to increase the number of iterations, check the scale of the features or consider increasing regularisation. Duality gap: 1.255e+05, tolerance: 1.323e+03\n",
      "  model = cd_fast.enet_coordinate_descent(\n",
      "/Users/david/.local/share/virtualenvs/Proyecto-Integrador-Semestre1-8hKWhZbI/lib/python3.11/site-packages/sklearn/linear_model/_coordinate_descent.py:628: ConvergenceWarning: Objective did not converge. You might want to increase the number of iterations, check the scale of the features or consider increasing regularisation. Duality gap: 8.313e+04, tolerance: 1.366e+03\n",
      "  model = cd_fast.enet_coordinate_descent(\n",
      "/Users/david/.local/share/virtualenvs/Proyecto-Integrador-Semestre1-8hKWhZbI/lib/python3.11/site-packages/sklearn/linear_model/_coordinate_descent.py:628: ConvergenceWarning: Objective did not converge. You might want to increase the number of iterations, check the scale of the features or consider increasing regularisation. Duality gap: 1.244e+05, tolerance: 1.393e+03\n",
      "  model = cd_fast.enet_coordinate_descent(\n",
      "/Users/david/.local/share/virtualenvs/Proyecto-Integrador-Semestre1-8hKWhZbI/lib/python3.11/site-packages/sklearn/linear_model/_coordinate_descent.py:628: ConvergenceWarning: Objective did not converge. You might want to increase the number of iterations, check the scale of the features or consider increasing regularisation. Duality gap: 1.438e+05, tolerance: 1.329e+03\n",
      "  model = cd_fast.enet_coordinate_descent(\n",
      "/Users/david/.local/share/virtualenvs/Proyecto-Integrador-Semestre1-8hKWhZbI/lib/python3.11/site-packages/sklearn/linear_model/_coordinate_descent.py:628: ConvergenceWarning: Objective did not converge. You might want to increase the number of iterations, check the scale of the features or consider increasing regularisation. Duality gap: 1.072e+05, tolerance: 1.427e+03\n",
      "  model = cd_fast.enet_coordinate_descent(\n",
      "/Users/david/.local/share/virtualenvs/Proyecto-Integrador-Semestre1-8hKWhZbI/lib/python3.11/site-packages/sklearn/linear_model/_coordinate_descent.py:628: ConvergenceWarning: Objective did not converge. You might want to increase the number of iterations, check the scale of the features or consider increasing regularisation. Duality gap: 1.255e+05, tolerance: 1.323e+03\n",
      "  model = cd_fast.enet_coordinate_descent(\n",
      "/Users/david/.local/share/virtualenvs/Proyecto-Integrador-Semestre1-8hKWhZbI/lib/python3.11/site-packages/sklearn/linear_model/_coordinate_descent.py:628: ConvergenceWarning: Objective did not converge. You might want to increase the number of iterations, check the scale of the features or consider increasing regularisation. Duality gap: 8.314e+04, tolerance: 1.366e+03\n",
      "  model = cd_fast.enet_coordinate_descent(\n",
      "/Users/david/.local/share/virtualenvs/Proyecto-Integrador-Semestre1-8hKWhZbI/lib/python3.11/site-packages/sklearn/linear_model/_coordinate_descent.py:628: ConvergenceWarning: Objective did not converge. You might want to increase the number of iterations, check the scale of the features or consider increasing regularisation. Duality gap: 1.244e+05, tolerance: 1.393e+03\n",
      "  model = cd_fast.enet_coordinate_descent(\n",
      "/Users/david/.local/share/virtualenvs/Proyecto-Integrador-Semestre1-8hKWhZbI/lib/python3.11/site-packages/sklearn/linear_model/_coordinate_descent.py:628: ConvergenceWarning: Objective did not converge. You might want to increase the number of iterations, check the scale of the features or consider increasing regularisation. Duality gap: 1.153e+05, tolerance: 1.329e+03\n",
      "  model = cd_fast.enet_coordinate_descent(\n",
      "/Users/david/.local/share/virtualenvs/Proyecto-Integrador-Semestre1-8hKWhZbI/lib/python3.11/site-packages/sklearn/linear_model/_coordinate_descent.py:628: ConvergenceWarning: Objective did not converge. You might want to increase the number of iterations, check the scale of the features or consider increasing regularisation. Duality gap: 1.086e+05, tolerance: 1.427e+03\n",
      "  model = cd_fast.enet_coordinate_descent(\n",
      "/Users/david/.local/share/virtualenvs/Proyecto-Integrador-Semestre1-8hKWhZbI/lib/python3.11/site-packages/sklearn/linear_model/_coordinate_descent.py:628: ConvergenceWarning: Objective did not converge. You might want to increase the number of iterations, check the scale of the features or consider increasing regularisation. Duality gap: 1.256e+05, tolerance: 1.323e+03\n",
      "  model = cd_fast.enet_coordinate_descent(\n",
      "/Users/david/.local/share/virtualenvs/Proyecto-Integrador-Semestre1-8hKWhZbI/lib/python3.11/site-packages/sklearn/linear_model/_coordinate_descent.py:628: ConvergenceWarning: Objective did not converge. You might want to increase the number of iterations, check the scale of the features or consider increasing regularisation. Duality gap: 1.599e+05, tolerance: 1.366e+03\n",
      "  model = cd_fast.enet_coordinate_descent(\n",
      "/Users/david/.local/share/virtualenvs/Proyecto-Integrador-Semestre1-8hKWhZbI/lib/python3.11/site-packages/sklearn/linear_model/_coordinate_descent.py:628: ConvergenceWarning: Objective did not converge. You might want to increase the number of iterations, check the scale of the features or consider increasing regularisation. Duality gap: 1.245e+05, tolerance: 1.393e+03\n",
      "  model = cd_fast.enet_coordinate_descent(\n"
     ]
    },
    {
     "name": "stdout",
     "output_type": "stream",
     "text": [
      "Best parameters found: {'alpha': 206.913808111479}\n",
      "Best cross-validation score: 0.9408324915300467\n"
     ]
    },
    {
     "name": "stderr",
     "output_type": "stream",
     "text": [
      "/Users/david/.local/share/virtualenvs/Proyecto-Integrador-Semestre1-8hKWhZbI/lib/python3.11/site-packages/sklearn/linear_model/_coordinate_descent.py:628: ConvergenceWarning: Objective did not converge. You might want to increase the number of iterations, check the scale of the features or consider increasing regularisation. Duality gap: 1.438e+05, tolerance: 1.329e+03\n",
      "  model = cd_fast.enet_coordinate_descent(\n",
      "/Users/david/.local/share/virtualenvs/Proyecto-Integrador-Semestre1-8hKWhZbI/lib/python3.11/site-packages/sklearn/linear_model/_coordinate_descent.py:628: ConvergenceWarning: Objective did not converge. You might want to increase the number of iterations, check the scale of the features or consider increasing regularisation. Duality gap: 1.082e+05, tolerance: 1.427e+03\n",
      "  model = cd_fast.enet_coordinate_descent(\n",
      "/Users/david/.local/share/virtualenvs/Proyecto-Integrador-Semestre1-8hKWhZbI/lib/python3.11/site-packages/sklearn/linear_model/_coordinate_descent.py:628: ConvergenceWarning: Objective did not converge. You might want to increase the number of iterations, check the scale of the features or consider increasing regularisation. Duality gap: 1.255e+05, tolerance: 1.323e+03\n",
      "  model = cd_fast.enet_coordinate_descent(\n",
      "/Users/david/.local/share/virtualenvs/Proyecto-Integrador-Semestre1-8hKWhZbI/lib/python3.11/site-packages/sklearn/linear_model/_coordinate_descent.py:628: ConvergenceWarning: Objective did not converge. You might want to increase the number of iterations, check the scale of the features or consider increasing regularisation. Duality gap: 8.313e+04, tolerance: 1.366e+03\n",
      "  model = cd_fast.enet_coordinate_descent(\n",
      "/Users/david/.local/share/virtualenvs/Proyecto-Integrador-Semestre1-8hKWhZbI/lib/python3.11/site-packages/sklearn/linear_model/_coordinate_descent.py:628: ConvergenceWarning: Objective did not converge. You might want to increase the number of iterations, check the scale of the features or consider increasing regularisation. Duality gap: 1.244e+05, tolerance: 1.393e+03\n",
      "  model = cd_fast.enet_coordinate_descent(\n",
      "/Users/david/.local/share/virtualenvs/Proyecto-Integrador-Semestre1-8hKWhZbI/lib/python3.11/site-packages/sklearn/linear_model/_coordinate_descent.py:628: ConvergenceWarning: Objective did not converge. You might want to increase the number of iterations, check the scale of the features or consider increasing regularisation. Duality gap: 1.438e+05, tolerance: 1.329e+03\n",
      "  model = cd_fast.enet_coordinate_descent(\n",
      "/Users/david/.local/share/virtualenvs/Proyecto-Integrador-Semestre1-8hKWhZbI/lib/python3.11/site-packages/sklearn/linear_model/_coordinate_descent.py:628: ConvergenceWarning: Objective did not converge. You might want to increase the number of iterations, check the scale of the features or consider increasing regularisation. Duality gap: 1.072e+05, tolerance: 1.427e+03\n",
      "  model = cd_fast.enet_coordinate_descent(\n",
      "/Users/david/.local/share/virtualenvs/Proyecto-Integrador-Semestre1-8hKWhZbI/lib/python3.11/site-packages/sklearn/linear_model/_coordinate_descent.py:628: ConvergenceWarning: Objective did not converge. You might want to increase the number of iterations, check the scale of the features or consider increasing regularisation. Duality gap: 1.255e+05, tolerance: 1.323e+03\n",
      "  model = cd_fast.enet_coordinate_descent(\n",
      "/Users/david/.local/share/virtualenvs/Proyecto-Integrador-Semestre1-8hKWhZbI/lib/python3.11/site-packages/sklearn/linear_model/_coordinate_descent.py:628: ConvergenceWarning: Objective did not converge. You might want to increase the number of iterations, check the scale of the features or consider increasing regularisation. Duality gap: 8.314e+04, tolerance: 1.366e+03\n",
      "  model = cd_fast.enet_coordinate_descent(\n",
      "/Users/david/.local/share/virtualenvs/Proyecto-Integrador-Semestre1-8hKWhZbI/lib/python3.11/site-packages/sklearn/linear_model/_coordinate_descent.py:628: ConvergenceWarning: Objective did not converge. You might want to increase the number of iterations, check the scale of the features or consider increasing regularisation. Duality gap: 1.244e+05, tolerance: 1.393e+03\n",
      "  model = cd_fast.enet_coordinate_descent(\n",
      "/Users/david/.local/share/virtualenvs/Proyecto-Integrador-Semestre1-8hKWhZbI/lib/python3.11/site-packages/sklearn/linear_model/_coordinate_descent.py:628: ConvergenceWarning: Objective did not converge. You might want to increase the number of iterations, check the scale of the features or consider increasing regularisation. Duality gap: 1.153e+05, tolerance: 1.329e+03\n",
      "  model = cd_fast.enet_coordinate_descent(\n",
      "/Users/david/.local/share/virtualenvs/Proyecto-Integrador-Semestre1-8hKWhZbI/lib/python3.11/site-packages/sklearn/linear_model/_coordinate_descent.py:628: ConvergenceWarning: Objective did not converge. You might want to increase the number of iterations, check the scale of the features or consider increasing regularisation. Duality gap: 1.086e+05, tolerance: 1.427e+03\n",
      "  model = cd_fast.enet_coordinate_descent(\n",
      "/Users/david/.local/share/virtualenvs/Proyecto-Integrador-Semestre1-8hKWhZbI/lib/python3.11/site-packages/sklearn/linear_model/_coordinate_descent.py:628: ConvergenceWarning: Objective did not converge. You might want to increase the number of iterations, check the scale of the features or consider increasing regularisation. Duality gap: 1.256e+05, tolerance: 1.323e+03\n",
      "  model = cd_fast.enet_coordinate_descent(\n",
      "/Users/david/.local/share/virtualenvs/Proyecto-Integrador-Semestre1-8hKWhZbI/lib/python3.11/site-packages/sklearn/linear_model/_coordinate_descent.py:628: ConvergenceWarning: Objective did not converge. You might want to increase the number of iterations, check the scale of the features or consider increasing regularisation. Duality gap: 1.599e+05, tolerance: 1.366e+03\n",
      "  model = cd_fast.enet_coordinate_descent(\n",
      "/Users/david/.local/share/virtualenvs/Proyecto-Integrador-Semestre1-8hKWhZbI/lib/python3.11/site-packages/sklearn/linear_model/_coordinate_descent.py:628: ConvergenceWarning: Objective did not converge. You might want to increase the number of iterations, check the scale of the features or consider increasing regularisation. Duality gap: 1.245e+05, tolerance: 1.393e+03\n",
      "  model = cd_fast.enet_coordinate_descent(\n"
     ]
    },
    {
     "name": "stdout",
     "output_type": "stream",
     "text": [
      "Mean Squared Error on Test Data: 4727.374376403668\n",
      "Mean Absolute Percentage Error on Test Data: 0.09943560997800151\n",
      "energy_price_lag_1: 1.0059602582107818\n",
      "energy_price_lag_5: -0.031154062005820955\n",
      "energy_price_lag_6: -0.018474520956151822\n",
      "-----------------------\n",
      "Lags: 7\n"
     ]
    },
    {
     "name": "stderr",
     "output_type": "stream",
     "text": [
      "/Users/david/.local/share/virtualenvs/Proyecto-Integrador-Semestre1-8hKWhZbI/lib/python3.11/site-packages/sklearn/linear_model/_coordinate_descent.py:628: ConvergenceWarning: Objective did not converge. You might want to increase the number of iterations, check the scale of the features or consider increasing regularisation. Duality gap: 1.650e+05, tolerance: 1.290e+03\n",
      "  model = cd_fast.enet_coordinate_descent(\n",
      "/Users/david/.local/share/virtualenvs/Proyecto-Integrador-Semestre1-8hKWhZbI/lib/python3.11/site-packages/sklearn/linear_model/_coordinate_descent.py:628: ConvergenceWarning: Objective did not converge. You might want to increase the number of iterations, check the scale of the features or consider increasing regularisation. Duality gap: 1.333e+05, tolerance: 1.404e+03\n",
      "  model = cd_fast.enet_coordinate_descent(\n",
      "/Users/david/.local/share/virtualenvs/Proyecto-Integrador-Semestre1-8hKWhZbI/lib/python3.11/site-packages/sklearn/linear_model/_coordinate_descent.py:628: ConvergenceWarning: Objective did not converge. You might want to increase the number of iterations, check the scale of the features or consider increasing regularisation. Duality gap: 1.304e+05, tolerance: 1.421e+03\n",
      "  model = cd_fast.enet_coordinate_descent(\n",
      "/Users/david/.local/share/virtualenvs/Proyecto-Integrador-Semestre1-8hKWhZbI/lib/python3.11/site-packages/sklearn/linear_model/_coordinate_descent.py:628: ConvergenceWarning: Objective did not converge. You might want to increase the number of iterations, check the scale of the features or consider increasing regularisation. Duality gap: 6.198e+04, tolerance: 1.339e+03\n",
      "  model = cd_fast.enet_coordinate_descent(\n",
      "/Users/david/.local/share/virtualenvs/Proyecto-Integrador-Semestre1-8hKWhZbI/lib/python3.11/site-packages/sklearn/linear_model/_coordinate_descent.py:628: ConvergenceWarning: Objective did not converge. You might want to increase the number of iterations, check the scale of the features or consider increasing regularisation. Duality gap: 1.064e+05, tolerance: 1.384e+03\n",
      "  model = cd_fast.enet_coordinate_descent(\n",
      "/Users/david/.local/share/virtualenvs/Proyecto-Integrador-Semestre1-8hKWhZbI/lib/python3.11/site-packages/sklearn/linear_model/_coordinate_descent.py:628: ConvergenceWarning: Objective did not converge. You might want to increase the number of iterations, check the scale of the features or consider increasing regularisation. Duality gap: 1.645e+05, tolerance: 1.290e+03\n",
      "  model = cd_fast.enet_coordinate_descent(\n",
      "/Users/david/.local/share/virtualenvs/Proyecto-Integrador-Semestre1-8hKWhZbI/lib/python3.11/site-packages/sklearn/linear_model/_coordinate_descent.py:628: ConvergenceWarning: Objective did not converge. You might want to increase the number of iterations, check the scale of the features or consider increasing regularisation. Duality gap: 1.333e+05, tolerance: 1.404e+03\n",
      "  model = cd_fast.enet_coordinate_descent(\n",
      "/Users/david/.local/share/virtualenvs/Proyecto-Integrador-Semestre1-8hKWhZbI/lib/python3.11/site-packages/sklearn/linear_model/_coordinate_descent.py:628: ConvergenceWarning: Objective did not converge. You might want to increase the number of iterations, check the scale of the features or consider increasing regularisation. Duality gap: 1.304e+05, tolerance: 1.421e+03\n",
      "  model = cd_fast.enet_coordinate_descent(\n",
      "/Users/david/.local/share/virtualenvs/Proyecto-Integrador-Semestre1-8hKWhZbI/lib/python3.11/site-packages/sklearn/linear_model/_coordinate_descent.py:628: ConvergenceWarning: Objective did not converge. You might want to increase the number of iterations, check the scale of the features or consider increasing regularisation. Duality gap: 8.825e+04, tolerance: 1.339e+03\n",
      "  model = cd_fast.enet_coordinate_descent(\n",
      "/Users/david/.local/share/virtualenvs/Proyecto-Integrador-Semestre1-8hKWhZbI/lib/python3.11/site-packages/sklearn/linear_model/_coordinate_descent.py:628: ConvergenceWarning: Objective did not converge. You might want to increase the number of iterations, check the scale of the features or consider increasing regularisation. Duality gap: 1.064e+05, tolerance: 1.384e+03\n",
      "  model = cd_fast.enet_coordinate_descent(\n",
      "/Users/david/.local/share/virtualenvs/Proyecto-Integrador-Semestre1-8hKWhZbI/lib/python3.11/site-packages/sklearn/linear_model/_coordinate_descent.py:628: ConvergenceWarning: Objective did not converge. You might want to increase the number of iterations, check the scale of the features or consider increasing regularisation. Duality gap: 1.497e+05, tolerance: 1.290e+03\n",
      "  model = cd_fast.enet_coordinate_descent(\n",
      "/Users/david/.local/share/virtualenvs/Proyecto-Integrador-Semestre1-8hKWhZbI/lib/python3.11/site-packages/sklearn/linear_model/_coordinate_descent.py:628: ConvergenceWarning: Objective did not converge. You might want to increase the number of iterations, check the scale of the features or consider increasing regularisation. Duality gap: 1.338e+05, tolerance: 1.404e+03\n",
      "  model = cd_fast.enet_coordinate_descent(\n",
      "/Users/david/.local/share/virtualenvs/Proyecto-Integrador-Semestre1-8hKWhZbI/lib/python3.11/site-packages/sklearn/linear_model/_coordinate_descent.py:628: ConvergenceWarning: Objective did not converge. You might want to increase the number of iterations, check the scale of the features or consider increasing regularisation. Duality gap: 1.911e+05, tolerance: 1.421e+03\n",
      "  model = cd_fast.enet_coordinate_descent(\n",
      "/Users/david/.local/share/virtualenvs/Proyecto-Integrador-Semestre1-8hKWhZbI/lib/python3.11/site-packages/sklearn/linear_model/_coordinate_descent.py:628: ConvergenceWarning: Objective did not converge. You might want to increase the number of iterations, check the scale of the features or consider increasing regularisation. Duality gap: 8.831e+04, tolerance: 1.339e+03\n",
      "  model = cd_fast.enet_coordinate_descent(\n",
      "/Users/david/.local/share/virtualenvs/Proyecto-Integrador-Semestre1-8hKWhZbI/lib/python3.11/site-packages/sklearn/linear_model/_coordinate_descent.py:628: ConvergenceWarning: Objective did not converge. You might want to increase the number of iterations, check the scale of the features or consider increasing regularisation. Duality gap: 1.065e+05, tolerance: 1.384e+03\n",
      "  model = cd_fast.enet_coordinate_descent(\n"
     ]
    },
    {
     "name": "stdout",
     "output_type": "stream",
     "text": [
      "Best parameters found: {'alpha': 4.281332398719396}\n",
      "Best cross-validation score: 0.9430478956967308\n"
     ]
    },
    {
     "name": "stderr",
     "output_type": "stream",
     "text": [
      "/Users/david/.local/share/virtualenvs/Proyecto-Integrador-Semestre1-8hKWhZbI/lib/python3.11/site-packages/sklearn/linear_model/_coordinate_descent.py:628: ConvergenceWarning: Objective did not converge. You might want to increase the number of iterations, check the scale of the features or consider increasing regularisation. Duality gap: 1.650e+05, tolerance: 1.290e+03\n",
      "  model = cd_fast.enet_coordinate_descent(\n",
      "/Users/david/.local/share/virtualenvs/Proyecto-Integrador-Semestre1-8hKWhZbI/lib/python3.11/site-packages/sklearn/linear_model/_coordinate_descent.py:628: ConvergenceWarning: Objective did not converge. You might want to increase the number of iterations, check the scale of the features or consider increasing regularisation. Duality gap: 1.333e+05, tolerance: 1.404e+03\n",
      "  model = cd_fast.enet_coordinate_descent(\n",
      "/Users/david/.local/share/virtualenvs/Proyecto-Integrador-Semestre1-8hKWhZbI/lib/python3.11/site-packages/sklearn/linear_model/_coordinate_descent.py:628: ConvergenceWarning: Objective did not converge. You might want to increase the number of iterations, check the scale of the features or consider increasing regularisation. Duality gap: 1.304e+05, tolerance: 1.421e+03\n",
      "  model = cd_fast.enet_coordinate_descent(\n",
      "/Users/david/.local/share/virtualenvs/Proyecto-Integrador-Semestre1-8hKWhZbI/lib/python3.11/site-packages/sklearn/linear_model/_coordinate_descent.py:628: ConvergenceWarning: Objective did not converge. You might want to increase the number of iterations, check the scale of the features or consider increasing regularisation. Duality gap: 6.198e+04, tolerance: 1.339e+03\n",
      "  model = cd_fast.enet_coordinate_descent(\n",
      "/Users/david/.local/share/virtualenvs/Proyecto-Integrador-Semestre1-8hKWhZbI/lib/python3.11/site-packages/sklearn/linear_model/_coordinate_descent.py:628: ConvergenceWarning: Objective did not converge. You might want to increase the number of iterations, check the scale of the features or consider increasing regularisation. Duality gap: 1.064e+05, tolerance: 1.384e+03\n",
      "  model = cd_fast.enet_coordinate_descent(\n",
      "/Users/david/.local/share/virtualenvs/Proyecto-Integrador-Semestre1-8hKWhZbI/lib/python3.11/site-packages/sklearn/linear_model/_coordinate_descent.py:628: ConvergenceWarning: Objective did not converge. You might want to increase the number of iterations, check the scale of the features or consider increasing regularisation. Duality gap: 1.645e+05, tolerance: 1.290e+03\n",
      "  model = cd_fast.enet_coordinate_descent(\n",
      "/Users/david/.local/share/virtualenvs/Proyecto-Integrador-Semestre1-8hKWhZbI/lib/python3.11/site-packages/sklearn/linear_model/_coordinate_descent.py:628: ConvergenceWarning: Objective did not converge. You might want to increase the number of iterations, check the scale of the features or consider increasing regularisation. Duality gap: 1.333e+05, tolerance: 1.404e+03\n",
      "  model = cd_fast.enet_coordinate_descent(\n",
      "/Users/david/.local/share/virtualenvs/Proyecto-Integrador-Semestre1-8hKWhZbI/lib/python3.11/site-packages/sklearn/linear_model/_coordinate_descent.py:628: ConvergenceWarning: Objective did not converge. You might want to increase the number of iterations, check the scale of the features or consider increasing regularisation. Duality gap: 1.304e+05, tolerance: 1.421e+03\n",
      "  model = cd_fast.enet_coordinate_descent(\n",
      "/Users/david/.local/share/virtualenvs/Proyecto-Integrador-Semestre1-8hKWhZbI/lib/python3.11/site-packages/sklearn/linear_model/_coordinate_descent.py:628: ConvergenceWarning: Objective did not converge. You might want to increase the number of iterations, check the scale of the features or consider increasing regularisation. Duality gap: 8.825e+04, tolerance: 1.339e+03\n",
      "  model = cd_fast.enet_coordinate_descent(\n",
      "/Users/david/.local/share/virtualenvs/Proyecto-Integrador-Semestre1-8hKWhZbI/lib/python3.11/site-packages/sklearn/linear_model/_coordinate_descent.py:628: ConvergenceWarning: Objective did not converge. You might want to increase the number of iterations, check the scale of the features or consider increasing regularisation. Duality gap: 1.064e+05, tolerance: 1.384e+03\n",
      "  model = cd_fast.enet_coordinate_descent(\n",
      "/Users/david/.local/share/virtualenvs/Proyecto-Integrador-Semestre1-8hKWhZbI/lib/python3.11/site-packages/sklearn/linear_model/_coordinate_descent.py:628: ConvergenceWarning: Objective did not converge. You might want to increase the number of iterations, check the scale of the features or consider increasing regularisation. Duality gap: 1.497e+05, tolerance: 1.290e+03\n",
      "  model = cd_fast.enet_coordinate_descent(\n",
      "/Users/david/.local/share/virtualenvs/Proyecto-Integrador-Semestre1-8hKWhZbI/lib/python3.11/site-packages/sklearn/linear_model/_coordinate_descent.py:628: ConvergenceWarning: Objective did not converge. You might want to increase the number of iterations, check the scale of the features or consider increasing regularisation. Duality gap: 1.338e+05, tolerance: 1.404e+03\n",
      "  model = cd_fast.enet_coordinate_descent(\n",
      "/Users/david/.local/share/virtualenvs/Proyecto-Integrador-Semestre1-8hKWhZbI/lib/python3.11/site-packages/sklearn/linear_model/_coordinate_descent.py:628: ConvergenceWarning: Objective did not converge. You might want to increase the number of iterations, check the scale of the features or consider increasing regularisation. Duality gap: 1.911e+05, tolerance: 1.421e+03\n",
      "  model = cd_fast.enet_coordinate_descent(\n",
      "/Users/david/.local/share/virtualenvs/Proyecto-Integrador-Semestre1-8hKWhZbI/lib/python3.11/site-packages/sklearn/linear_model/_coordinate_descent.py:628: ConvergenceWarning: Objective did not converge. You might want to increase the number of iterations, check the scale of the features or consider increasing regularisation. Duality gap: 8.831e+04, tolerance: 1.339e+03\n",
      "  model = cd_fast.enet_coordinate_descent(\n",
      "/Users/david/.local/share/virtualenvs/Proyecto-Integrador-Semestre1-8hKWhZbI/lib/python3.11/site-packages/sklearn/linear_model/_coordinate_descent.py:628: ConvergenceWarning: Objective did not converge. You might want to increase the number of iterations, check the scale of the features or consider increasing regularisation. Duality gap: 1.065e+05, tolerance: 1.384e+03\n",
      "  model = cd_fast.enet_coordinate_descent(\n"
     ]
    },
    {
     "name": "stdout",
     "output_type": "stream",
     "text": [
      "Mean Squared Error on Test Data: 4636.735640537828\n",
      "Mean Absolute Percentage Error on Test Data: 0.09815915300186548\n",
      "precipitacion_meta: -0.5760488000847842\n",
      "precipitacion_tolima: -0.03441788964406442\n",
      "temp_BOYACA: 0.9952460228019431\n",
      "temp_QUINDIO: 0.4856534210887799\n",
      "temp_VALLE DEL CAUCA: 1.5108130469367975\n",
      "energy_price_lag_1: 1.0714289048690004\n",
      "energy_price_lag_2: 0.05552223097365196\n",
      "energy_price_lag_3: -0.18349888379133572\n",
      "energy_price_lag_4: 0.09183626622476261\n",
      "energy_price_lag_5: -0.05637145680160101\n",
      "energy_price_lag_6: -0.024220569332786296\n",
      "energy_price_lag_7: -0.0016727502725999543\n",
      "-----------------------\n",
      "Lags: 8\n"
     ]
    },
    {
     "name": "stderr",
     "output_type": "stream",
     "text": [
      "/Users/david/.local/share/virtualenvs/Proyecto-Integrador-Semestre1-8hKWhZbI/lib/python3.11/site-packages/sklearn/linear_model/_coordinate_descent.py:628: ConvergenceWarning: Objective did not converge. You might want to increase the number of iterations, check the scale of the features or consider increasing regularisation. Duality gap: 1.219e+05, tolerance: 1.407e+03\n",
      "  model = cd_fast.enet_coordinate_descent(\n",
      "/Users/david/.local/share/virtualenvs/Proyecto-Integrador-Semestre1-8hKWhZbI/lib/python3.11/site-packages/sklearn/linear_model/_coordinate_descent.py:628: ConvergenceWarning: Objective did not converge. You might want to increase the number of iterations, check the scale of the features or consider increasing regularisation. Duality gap: 5.541e+04, tolerance: 1.336e+03\n",
      "  model = cd_fast.enet_coordinate_descent(\n",
      "/Users/david/.local/share/virtualenvs/Proyecto-Integrador-Semestre1-8hKWhZbI/lib/python3.11/site-packages/sklearn/linear_model/_coordinate_descent.py:628: ConvergenceWarning: Objective did not converge. You might want to increase the number of iterations, check the scale of the features or consider increasing regularisation. Duality gap: 1.053e+05, tolerance: 1.310e+03\n",
      "  model = cd_fast.enet_coordinate_descent(\n",
      "/Users/david/.local/share/virtualenvs/Proyecto-Integrador-Semestre1-8hKWhZbI/lib/python3.11/site-packages/sklearn/linear_model/_coordinate_descent.py:628: ConvergenceWarning: Objective did not converge. You might want to increase the number of iterations, check the scale of the features or consider increasing regularisation. Duality gap: 1.529e+05, tolerance: 1.367e+03\n",
      "  model = cd_fast.enet_coordinate_descent(\n",
      "/Users/david/.local/share/virtualenvs/Proyecto-Integrador-Semestre1-8hKWhZbI/lib/python3.11/site-packages/sklearn/linear_model/_coordinate_descent.py:628: ConvergenceWarning: Objective did not converge. You might want to increase the number of iterations, check the scale of the features or consider increasing regularisation. Duality gap: 1.105e+05, tolerance: 1.420e+03\n",
      "  model = cd_fast.enet_coordinate_descent(\n",
      "/Users/david/.local/share/virtualenvs/Proyecto-Integrador-Semestre1-8hKWhZbI/lib/python3.11/site-packages/sklearn/linear_model/_coordinate_descent.py:628: ConvergenceWarning: Objective did not converge. You might want to increase the number of iterations, check the scale of the features or consider increasing regularisation. Duality gap: 1.219e+05, tolerance: 1.407e+03\n",
      "  model = cd_fast.enet_coordinate_descent(\n",
      "/Users/david/.local/share/virtualenvs/Proyecto-Integrador-Semestre1-8hKWhZbI/lib/python3.11/site-packages/sklearn/linear_model/_coordinate_descent.py:628: ConvergenceWarning: Objective did not converge. You might want to increase the number of iterations, check the scale of the features or consider increasing regularisation. Duality gap: 5.639e+04, tolerance: 1.336e+03\n",
      "  model = cd_fast.enet_coordinate_descent(\n",
      "/Users/david/.local/share/virtualenvs/Proyecto-Integrador-Semestre1-8hKWhZbI/lib/python3.11/site-packages/sklearn/linear_model/_coordinate_descent.py:628: ConvergenceWarning: Objective did not converge. You might want to increase the number of iterations, check the scale of the features or consider increasing regularisation. Duality gap: 1.053e+05, tolerance: 1.310e+03\n",
      "  model = cd_fast.enet_coordinate_descent(\n",
      "/Users/david/.local/share/virtualenvs/Proyecto-Integrador-Semestre1-8hKWhZbI/lib/python3.11/site-packages/sklearn/linear_model/_coordinate_descent.py:628: ConvergenceWarning: Objective did not converge. You might want to increase the number of iterations, check the scale of the features or consider increasing regularisation. Duality gap: 1.529e+05, tolerance: 1.367e+03\n",
      "  model = cd_fast.enet_coordinate_descent(\n",
      "/Users/david/.local/share/virtualenvs/Proyecto-Integrador-Semestre1-8hKWhZbI/lib/python3.11/site-packages/sklearn/linear_model/_coordinate_descent.py:628: ConvergenceWarning: Objective did not converge. You might want to increase the number of iterations, check the scale of the features or consider increasing regularisation. Duality gap: 1.105e+05, tolerance: 1.420e+03\n",
      "  model = cd_fast.enet_coordinate_descent(\n",
      "/Users/david/.local/share/virtualenvs/Proyecto-Integrador-Semestre1-8hKWhZbI/lib/python3.11/site-packages/sklearn/linear_model/_coordinate_descent.py:628: ConvergenceWarning: Objective did not converge. You might want to increase the number of iterations, check the scale of the features or consider increasing regularisation. Duality gap: 1.037e+04, tolerance: 1.407e+03\n",
      "  model = cd_fast.enet_coordinate_descent(\n",
      "/Users/david/.local/share/virtualenvs/Proyecto-Integrador-Semestre1-8hKWhZbI/lib/python3.11/site-packages/sklearn/linear_model/_coordinate_descent.py:628: ConvergenceWarning: Objective did not converge. You might want to increase the number of iterations, check the scale of the features or consider increasing regularisation. Duality gap: 2.550e+03, tolerance: 1.420e+03\n",
      "  model = cd_fast.enet_coordinate_descent(\n",
      "/Users/david/.local/share/virtualenvs/Proyecto-Integrador-Semestre1-8hKWhZbI/lib/python3.11/site-packages/sklearn/linear_model/_coordinate_descent.py:628: ConvergenceWarning: Objective did not converge. You might want to increase the number of iterations, check the scale of the features or consider increasing regularisation. Duality gap: 1.220e+05, tolerance: 1.407e+03\n",
      "  model = cd_fast.enet_coordinate_descent(\n",
      "/Users/david/.local/share/virtualenvs/Proyecto-Integrador-Semestre1-8hKWhZbI/lib/python3.11/site-packages/sklearn/linear_model/_coordinate_descent.py:628: ConvergenceWarning: Objective did not converge. You might want to increase the number of iterations, check the scale of the features or consider increasing regularisation. Duality gap: 5.830e+04, tolerance: 1.336e+03\n",
      "  model = cd_fast.enet_coordinate_descent(\n",
      "/Users/david/.local/share/virtualenvs/Proyecto-Integrador-Semestre1-8hKWhZbI/lib/python3.11/site-packages/sklearn/linear_model/_coordinate_descent.py:628: ConvergenceWarning: Objective did not converge. You might want to increase the number of iterations, check the scale of the features or consider increasing regularisation. Duality gap: 1.054e+05, tolerance: 1.310e+03\n",
      "  model = cd_fast.enet_coordinate_descent(\n",
      "/Users/david/.local/share/virtualenvs/Proyecto-Integrador-Semestre1-8hKWhZbI/lib/python3.11/site-packages/sklearn/linear_model/_coordinate_descent.py:628: ConvergenceWarning: Objective did not converge. You might want to increase the number of iterations, check the scale of the features or consider increasing regularisation. Duality gap: 1.513e+05, tolerance: 1.367e+03\n",
      "  model = cd_fast.enet_coordinate_descent(\n",
      "/Users/david/.local/share/virtualenvs/Proyecto-Integrador-Semestre1-8hKWhZbI/lib/python3.11/site-packages/sklearn/linear_model/_coordinate_descent.py:628: ConvergenceWarning: Objective did not converge. You might want to increase the number of iterations, check the scale of the features or consider increasing regularisation. Duality gap: 1.106e+05, tolerance: 1.420e+03\n",
      "  model = cd_fast.enet_coordinate_descent(\n",
      "/Users/david/.local/share/virtualenvs/Proyecto-Integrador-Semestre1-8hKWhZbI/lib/python3.11/site-packages/sklearn/linear_model/_coordinate_descent.py:628: ConvergenceWarning: Objective did not converge. You might want to increase the number of iterations, check the scale of the features or consider increasing regularisation. Duality gap: 1.219e+05, tolerance: 1.407e+03\n",
      "  model = cd_fast.enet_coordinate_descent(\n"
     ]
    },
    {
     "name": "stdout",
     "output_type": "stream",
     "text": [
      "Best parameters found: {'alpha': 4.281332398719396}\n",
      "Best cross-validation score: 0.9438640354049477\n"
     ]
    },
    {
     "name": "stderr",
     "output_type": "stream",
     "text": [
      "/Users/david/.local/share/virtualenvs/Proyecto-Integrador-Semestre1-8hKWhZbI/lib/python3.11/site-packages/sklearn/linear_model/_coordinate_descent.py:628: ConvergenceWarning: Objective did not converge. You might want to increase the number of iterations, check the scale of the features or consider increasing regularisation. Duality gap: 5.541e+04, tolerance: 1.336e+03\n",
      "  model = cd_fast.enet_coordinate_descent(\n",
      "/Users/david/.local/share/virtualenvs/Proyecto-Integrador-Semestre1-8hKWhZbI/lib/python3.11/site-packages/sklearn/linear_model/_coordinate_descent.py:628: ConvergenceWarning: Objective did not converge. You might want to increase the number of iterations, check the scale of the features or consider increasing regularisation. Duality gap: 1.053e+05, tolerance: 1.310e+03\n",
      "  model = cd_fast.enet_coordinate_descent(\n",
      "/Users/david/.local/share/virtualenvs/Proyecto-Integrador-Semestre1-8hKWhZbI/lib/python3.11/site-packages/sklearn/linear_model/_coordinate_descent.py:628: ConvergenceWarning: Objective did not converge. You might want to increase the number of iterations, check the scale of the features or consider increasing regularisation. Duality gap: 1.529e+05, tolerance: 1.367e+03\n",
      "  model = cd_fast.enet_coordinate_descent(\n",
      "/Users/david/.local/share/virtualenvs/Proyecto-Integrador-Semestre1-8hKWhZbI/lib/python3.11/site-packages/sklearn/linear_model/_coordinate_descent.py:628: ConvergenceWarning: Objective did not converge. You might want to increase the number of iterations, check the scale of the features or consider increasing regularisation. Duality gap: 1.105e+05, tolerance: 1.420e+03\n",
      "  model = cd_fast.enet_coordinate_descent(\n",
      "/Users/david/.local/share/virtualenvs/Proyecto-Integrador-Semestre1-8hKWhZbI/lib/python3.11/site-packages/sklearn/linear_model/_coordinate_descent.py:628: ConvergenceWarning: Objective did not converge. You might want to increase the number of iterations, check the scale of the features or consider increasing regularisation. Duality gap: 1.219e+05, tolerance: 1.407e+03\n",
      "  model = cd_fast.enet_coordinate_descent(\n",
      "/Users/david/.local/share/virtualenvs/Proyecto-Integrador-Semestre1-8hKWhZbI/lib/python3.11/site-packages/sklearn/linear_model/_coordinate_descent.py:628: ConvergenceWarning: Objective did not converge. You might want to increase the number of iterations, check the scale of the features or consider increasing regularisation. Duality gap: 5.639e+04, tolerance: 1.336e+03\n",
      "  model = cd_fast.enet_coordinate_descent(\n",
      "/Users/david/.local/share/virtualenvs/Proyecto-Integrador-Semestre1-8hKWhZbI/lib/python3.11/site-packages/sklearn/linear_model/_coordinate_descent.py:628: ConvergenceWarning: Objective did not converge. You might want to increase the number of iterations, check the scale of the features or consider increasing regularisation. Duality gap: 1.053e+05, tolerance: 1.310e+03\n",
      "  model = cd_fast.enet_coordinate_descent(\n",
      "/Users/david/.local/share/virtualenvs/Proyecto-Integrador-Semestre1-8hKWhZbI/lib/python3.11/site-packages/sklearn/linear_model/_coordinate_descent.py:628: ConvergenceWarning: Objective did not converge. You might want to increase the number of iterations, check the scale of the features or consider increasing regularisation. Duality gap: 1.529e+05, tolerance: 1.367e+03\n",
      "  model = cd_fast.enet_coordinate_descent(\n",
      "/Users/david/.local/share/virtualenvs/Proyecto-Integrador-Semestre1-8hKWhZbI/lib/python3.11/site-packages/sklearn/linear_model/_coordinate_descent.py:628: ConvergenceWarning: Objective did not converge. You might want to increase the number of iterations, check the scale of the features or consider increasing regularisation. Duality gap: 1.105e+05, tolerance: 1.420e+03\n",
      "  model = cd_fast.enet_coordinate_descent(\n",
      "/Users/david/.local/share/virtualenvs/Proyecto-Integrador-Semestre1-8hKWhZbI/lib/python3.11/site-packages/sklearn/linear_model/_coordinate_descent.py:628: ConvergenceWarning: Objective did not converge. You might want to increase the number of iterations, check the scale of the features or consider increasing regularisation. Duality gap: 1.037e+04, tolerance: 1.407e+03\n",
      "  model = cd_fast.enet_coordinate_descent(\n",
      "/Users/david/.local/share/virtualenvs/Proyecto-Integrador-Semestre1-8hKWhZbI/lib/python3.11/site-packages/sklearn/linear_model/_coordinate_descent.py:628: ConvergenceWarning: Objective did not converge. You might want to increase the number of iterations, check the scale of the features or consider increasing regularisation. Duality gap: 2.550e+03, tolerance: 1.420e+03\n",
      "  model = cd_fast.enet_coordinate_descent(\n",
      "/Users/david/.local/share/virtualenvs/Proyecto-Integrador-Semestre1-8hKWhZbI/lib/python3.11/site-packages/sklearn/linear_model/_coordinate_descent.py:628: ConvergenceWarning: Objective did not converge. You might want to increase the number of iterations, check the scale of the features or consider increasing regularisation. Duality gap: 1.220e+05, tolerance: 1.407e+03\n",
      "  model = cd_fast.enet_coordinate_descent(\n",
      "/Users/david/.local/share/virtualenvs/Proyecto-Integrador-Semestre1-8hKWhZbI/lib/python3.11/site-packages/sklearn/linear_model/_coordinate_descent.py:628: ConvergenceWarning: Objective did not converge. You might want to increase the number of iterations, check the scale of the features or consider increasing regularisation. Duality gap: 5.830e+04, tolerance: 1.336e+03\n",
      "  model = cd_fast.enet_coordinate_descent(\n",
      "/Users/david/.local/share/virtualenvs/Proyecto-Integrador-Semestre1-8hKWhZbI/lib/python3.11/site-packages/sklearn/linear_model/_coordinate_descent.py:628: ConvergenceWarning: Objective did not converge. You might want to increase the number of iterations, check the scale of the features or consider increasing regularisation. Duality gap: 1.054e+05, tolerance: 1.310e+03\n",
      "  model = cd_fast.enet_coordinate_descent(\n",
      "/Users/david/.local/share/virtualenvs/Proyecto-Integrador-Semestre1-8hKWhZbI/lib/python3.11/site-packages/sklearn/linear_model/_coordinate_descent.py:628: ConvergenceWarning: Objective did not converge. You might want to increase the number of iterations, check the scale of the features or consider increasing regularisation. Duality gap: 1.513e+05, tolerance: 1.367e+03\n",
      "  model = cd_fast.enet_coordinate_descent(\n",
      "/Users/david/.local/share/virtualenvs/Proyecto-Integrador-Semestre1-8hKWhZbI/lib/python3.11/site-packages/sklearn/linear_model/_coordinate_descent.py:628: ConvergenceWarning: Objective did not converge. You might want to increase the number of iterations, check the scale of the features or consider increasing regularisation. Duality gap: 1.106e+05, tolerance: 1.420e+03\n",
      "  model = cd_fast.enet_coordinate_descent(\n"
     ]
    },
    {
     "name": "stdout",
     "output_type": "stream",
     "text": [
      "Mean Squared Error on Test Data: 4726.243405427455\n",
      "Mean Absolute Percentage Error on Test Data: 0.09961570064878052\n",
      "precipitacion_meta: -0.8518533681571515\n",
      "temp_BOYACA: 1.267556759763203\n",
      "temp_QUINDIO: 0.8118230561681158\n",
      "temp_VALLE DEL CAUCA: 1.3112687701255912\n",
      "energy_price_lag_1: 1.0710837321583224\n",
      "energy_price_lag_2: 0.05117491236053048\n",
      "energy_price_lag_3: -0.18530276032213955\n",
      "energy_price_lag_4: 0.09797679966377054\n",
      "energy_price_lag_5: -0.07154069287564231\n",
      "energy_price_lag_6: -0.01635875792881521\n",
      "energy_price_lag_7: 0.0994647983480371\n",
      "energy_price_lag_8: -0.09968132867922751\n",
      "-----------------------\n",
      "Lags: 9\n"
     ]
    },
    {
     "name": "stderr",
     "output_type": "stream",
     "text": [
      "/Users/david/.local/share/virtualenvs/Proyecto-Integrador-Semestre1-8hKWhZbI/lib/python3.11/site-packages/sklearn/linear_model/_coordinate_descent.py:628: ConvergenceWarning: Objective did not converge. You might want to increase the number of iterations, check the scale of the features or consider increasing regularisation. Duality gap: 1.305e+05, tolerance: 1.436e+03\n",
      "  model = cd_fast.enet_coordinate_descent(\n",
      "/Users/david/.local/share/virtualenvs/Proyecto-Integrador-Semestre1-8hKWhZbI/lib/python3.11/site-packages/sklearn/linear_model/_coordinate_descent.py:628: ConvergenceWarning: Objective did not converge. You might want to increase the number of iterations, check the scale of the features or consider increasing regularisation. Duality gap: 1.173e+05, tolerance: 1.364e+03\n",
      "  model = cd_fast.enet_coordinate_descent(\n",
      "/Users/david/.local/share/virtualenvs/Proyecto-Integrador-Semestre1-8hKWhZbI/lib/python3.11/site-packages/sklearn/linear_model/_coordinate_descent.py:628: ConvergenceWarning: Objective did not converge. You might want to increase the number of iterations, check the scale of the features or consider increasing regularisation. Duality gap: 8.286e+04, tolerance: 1.317e+03\n",
      "  model = cd_fast.enet_coordinate_descent(\n",
      "/Users/david/.local/share/virtualenvs/Proyecto-Integrador-Semestre1-8hKWhZbI/lib/python3.11/site-packages/sklearn/linear_model/_coordinate_descent.py:628: ConvergenceWarning: Objective did not converge. You might want to increase the number of iterations, check the scale of the features or consider increasing regularisation. Duality gap: 9.597e+04, tolerance: 1.315e+03\n",
      "  model = cd_fast.enet_coordinate_descent(\n",
      "/Users/david/.local/share/virtualenvs/Proyecto-Integrador-Semestre1-8hKWhZbI/lib/python3.11/site-packages/sklearn/linear_model/_coordinate_descent.py:628: ConvergenceWarning: Objective did not converge. You might want to increase the number of iterations, check the scale of the features or consider increasing regularisation. Duality gap: 1.033e+05, tolerance: 1.407e+03\n",
      "  model = cd_fast.enet_coordinate_descent(\n",
      "/Users/david/.local/share/virtualenvs/Proyecto-Integrador-Semestre1-8hKWhZbI/lib/python3.11/site-packages/sklearn/linear_model/_coordinate_descent.py:628: ConvergenceWarning: Objective did not converge. You might want to increase the number of iterations, check the scale of the features or consider increasing regularisation. Duality gap: 1.306e+05, tolerance: 1.436e+03\n",
      "  model = cd_fast.enet_coordinate_descent(\n",
      "/Users/david/.local/share/virtualenvs/Proyecto-Integrador-Semestre1-8hKWhZbI/lib/python3.11/site-packages/sklearn/linear_model/_coordinate_descent.py:628: ConvergenceWarning: Objective did not converge. You might want to increase the number of iterations, check the scale of the features or consider increasing regularisation. Duality gap: 1.173e+05, tolerance: 1.364e+03\n",
      "  model = cd_fast.enet_coordinate_descent(\n",
      "/Users/david/.local/share/virtualenvs/Proyecto-Integrador-Semestre1-8hKWhZbI/lib/python3.11/site-packages/sklearn/linear_model/_coordinate_descent.py:628: ConvergenceWarning: Objective did not converge. You might want to increase the number of iterations, check the scale of the features or consider increasing regularisation. Duality gap: 8.287e+04, tolerance: 1.317e+03\n",
      "  model = cd_fast.enet_coordinate_descent(\n",
      "/Users/david/.local/share/virtualenvs/Proyecto-Integrador-Semestre1-8hKWhZbI/lib/python3.11/site-packages/sklearn/linear_model/_coordinate_descent.py:628: ConvergenceWarning: Objective did not converge. You might want to increase the number of iterations, check the scale of the features or consider increasing regularisation. Duality gap: 9.598e+04, tolerance: 1.315e+03\n",
      "  model = cd_fast.enet_coordinate_descent(\n",
      "/Users/david/.local/share/virtualenvs/Proyecto-Integrador-Semestre1-8hKWhZbI/lib/python3.11/site-packages/sklearn/linear_model/_coordinate_descent.py:628: ConvergenceWarning: Objective did not converge. You might want to increase the number of iterations, check the scale of the features or consider increasing regularisation. Duality gap: 1.034e+05, tolerance: 1.407e+03\n",
      "  model = cd_fast.enet_coordinate_descent(\n",
      "/Users/david/.local/share/virtualenvs/Proyecto-Integrador-Semestre1-8hKWhZbI/lib/python3.11/site-packages/sklearn/linear_model/_coordinate_descent.py:628: ConvergenceWarning: Objective did not converge. You might want to increase the number of iterations, check the scale of the features or consider increasing regularisation. Duality gap: 1.294e+05, tolerance: 1.436e+03\n",
      "  model = cd_fast.enet_coordinate_descent(\n",
      "/Users/david/.local/share/virtualenvs/Proyecto-Integrador-Semestre1-8hKWhZbI/lib/python3.11/site-packages/sklearn/linear_model/_coordinate_descent.py:628: ConvergenceWarning: Objective did not converge. You might want to increase the number of iterations, check the scale of the features or consider increasing regularisation. Duality gap: 1.163e+05, tolerance: 1.364e+03\n",
      "  model = cd_fast.enet_coordinate_descent(\n",
      "/Users/david/.local/share/virtualenvs/Proyecto-Integrador-Semestre1-8hKWhZbI/lib/python3.11/site-packages/sklearn/linear_model/_coordinate_descent.py:628: ConvergenceWarning: Objective did not converge. You might want to increase the number of iterations, check the scale of the features or consider increasing regularisation. Duality gap: 8.031e+04, tolerance: 1.317e+03\n",
      "  model = cd_fast.enet_coordinate_descent(\n",
      "/Users/david/.local/share/virtualenvs/Proyecto-Integrador-Semestre1-8hKWhZbI/lib/python3.11/site-packages/sklearn/linear_model/_coordinate_descent.py:628: ConvergenceWarning: Objective did not converge. You might want to increase the number of iterations, check the scale of the features or consider increasing regularisation. Duality gap: 9.606e+04, tolerance: 1.315e+03\n",
      "  model = cd_fast.enet_coordinate_descent(\n",
      "/Users/david/.local/share/virtualenvs/Proyecto-Integrador-Semestre1-8hKWhZbI/lib/python3.11/site-packages/sklearn/linear_model/_coordinate_descent.py:628: ConvergenceWarning: Objective did not converge. You might want to increase the number of iterations, check the scale of the features or consider increasing regularisation. Duality gap: 1.034e+05, tolerance: 1.407e+03\n",
      "  model = cd_fast.enet_coordinate_descent(\n"
     ]
    },
    {
     "name": "stdout",
     "output_type": "stream",
     "text": [
      "Best parameters found: {'alpha': 4.281332398719396}\n",
      "Best cross-validation score: 0.9446131005786269\n"
     ]
    },
    {
     "name": "stderr",
     "output_type": "stream",
     "text": [
      "/Users/david/.local/share/virtualenvs/Proyecto-Integrador-Semestre1-8hKWhZbI/lib/python3.11/site-packages/sklearn/linear_model/_coordinate_descent.py:628: ConvergenceWarning: Objective did not converge. You might want to increase the number of iterations, check the scale of the features or consider increasing regularisation. Duality gap: 1.305e+05, tolerance: 1.436e+03\n",
      "  model = cd_fast.enet_coordinate_descent(\n",
      "/Users/david/.local/share/virtualenvs/Proyecto-Integrador-Semestre1-8hKWhZbI/lib/python3.11/site-packages/sklearn/linear_model/_coordinate_descent.py:628: ConvergenceWarning: Objective did not converge. You might want to increase the number of iterations, check the scale of the features or consider increasing regularisation. Duality gap: 1.173e+05, tolerance: 1.364e+03\n",
      "  model = cd_fast.enet_coordinate_descent(\n",
      "/Users/david/.local/share/virtualenvs/Proyecto-Integrador-Semestre1-8hKWhZbI/lib/python3.11/site-packages/sklearn/linear_model/_coordinate_descent.py:628: ConvergenceWarning: Objective did not converge. You might want to increase the number of iterations, check the scale of the features or consider increasing regularisation. Duality gap: 8.286e+04, tolerance: 1.317e+03\n",
      "  model = cd_fast.enet_coordinate_descent(\n",
      "/Users/david/.local/share/virtualenvs/Proyecto-Integrador-Semestre1-8hKWhZbI/lib/python3.11/site-packages/sklearn/linear_model/_coordinate_descent.py:628: ConvergenceWarning: Objective did not converge. You might want to increase the number of iterations, check the scale of the features or consider increasing regularisation. Duality gap: 9.597e+04, tolerance: 1.315e+03\n",
      "  model = cd_fast.enet_coordinate_descent(\n",
      "/Users/david/.local/share/virtualenvs/Proyecto-Integrador-Semestre1-8hKWhZbI/lib/python3.11/site-packages/sklearn/linear_model/_coordinate_descent.py:628: ConvergenceWarning: Objective did not converge. You might want to increase the number of iterations, check the scale of the features or consider increasing regularisation. Duality gap: 1.033e+05, tolerance: 1.407e+03\n",
      "  model = cd_fast.enet_coordinate_descent(\n",
      "/Users/david/.local/share/virtualenvs/Proyecto-Integrador-Semestre1-8hKWhZbI/lib/python3.11/site-packages/sklearn/linear_model/_coordinate_descent.py:628: ConvergenceWarning: Objective did not converge. You might want to increase the number of iterations, check the scale of the features or consider increasing regularisation. Duality gap: 1.306e+05, tolerance: 1.436e+03\n",
      "  model = cd_fast.enet_coordinate_descent(\n",
      "/Users/david/.local/share/virtualenvs/Proyecto-Integrador-Semestre1-8hKWhZbI/lib/python3.11/site-packages/sklearn/linear_model/_coordinate_descent.py:628: ConvergenceWarning: Objective did not converge. You might want to increase the number of iterations, check the scale of the features or consider increasing regularisation. Duality gap: 1.173e+05, tolerance: 1.364e+03\n",
      "  model = cd_fast.enet_coordinate_descent(\n",
      "/Users/david/.local/share/virtualenvs/Proyecto-Integrador-Semestre1-8hKWhZbI/lib/python3.11/site-packages/sklearn/linear_model/_coordinate_descent.py:628: ConvergenceWarning: Objective did not converge. You might want to increase the number of iterations, check the scale of the features or consider increasing regularisation. Duality gap: 8.287e+04, tolerance: 1.317e+03\n",
      "  model = cd_fast.enet_coordinate_descent(\n",
      "/Users/david/.local/share/virtualenvs/Proyecto-Integrador-Semestre1-8hKWhZbI/lib/python3.11/site-packages/sklearn/linear_model/_coordinate_descent.py:628: ConvergenceWarning: Objective did not converge. You might want to increase the number of iterations, check the scale of the features or consider increasing regularisation. Duality gap: 9.598e+04, tolerance: 1.315e+03\n",
      "  model = cd_fast.enet_coordinate_descent(\n",
      "/Users/david/.local/share/virtualenvs/Proyecto-Integrador-Semestre1-8hKWhZbI/lib/python3.11/site-packages/sklearn/linear_model/_coordinate_descent.py:628: ConvergenceWarning: Objective did not converge. You might want to increase the number of iterations, check the scale of the features or consider increasing regularisation. Duality gap: 1.034e+05, tolerance: 1.407e+03\n",
      "  model = cd_fast.enet_coordinate_descent(\n",
      "/Users/david/.local/share/virtualenvs/Proyecto-Integrador-Semestre1-8hKWhZbI/lib/python3.11/site-packages/sklearn/linear_model/_coordinate_descent.py:628: ConvergenceWarning: Objective did not converge. You might want to increase the number of iterations, check the scale of the features or consider increasing regularisation. Duality gap: 1.294e+05, tolerance: 1.436e+03\n",
      "  model = cd_fast.enet_coordinate_descent(\n",
      "/Users/david/.local/share/virtualenvs/Proyecto-Integrador-Semestre1-8hKWhZbI/lib/python3.11/site-packages/sklearn/linear_model/_coordinate_descent.py:628: ConvergenceWarning: Objective did not converge. You might want to increase the number of iterations, check the scale of the features or consider increasing regularisation. Duality gap: 1.163e+05, tolerance: 1.364e+03\n",
      "  model = cd_fast.enet_coordinate_descent(\n",
      "/Users/david/.local/share/virtualenvs/Proyecto-Integrador-Semestre1-8hKWhZbI/lib/python3.11/site-packages/sklearn/linear_model/_coordinate_descent.py:628: ConvergenceWarning: Objective did not converge. You might want to increase the number of iterations, check the scale of the features or consider increasing regularisation. Duality gap: 8.031e+04, tolerance: 1.317e+03\n",
      "  model = cd_fast.enet_coordinate_descent(\n",
      "/Users/david/.local/share/virtualenvs/Proyecto-Integrador-Semestre1-8hKWhZbI/lib/python3.11/site-packages/sklearn/linear_model/_coordinate_descent.py:628: ConvergenceWarning: Objective did not converge. You might want to increase the number of iterations, check the scale of the features or consider increasing regularisation. Duality gap: 9.606e+04, tolerance: 1.315e+03\n",
      "  model = cd_fast.enet_coordinate_descent(\n",
      "/Users/david/.local/share/virtualenvs/Proyecto-Integrador-Semestre1-8hKWhZbI/lib/python3.11/site-packages/sklearn/linear_model/_coordinate_descent.py:628: ConvergenceWarning: Objective did not converge. You might want to increase the number of iterations, check the scale of the features or consider increasing regularisation. Duality gap: 1.034e+05, tolerance: 1.407e+03\n",
      "  model = cd_fast.enet_coordinate_descent(\n"
     ]
    },
    {
     "name": "stdout",
     "output_type": "stream",
     "text": [
      "Mean Squared Error on Test Data: 4631.3180199648605\n",
      "Mean Absolute Percentage Error on Test Data: 0.09850444914717485\n",
      "precipitacion_meta: -0.7513912068647067\n",
      "temp_BOYACA: 1.1627844459176973\n",
      "temp_QUINDIO: 0.702170193433619\n",
      "temp_VALLE DEL CAUCA: 1.3889976594482836\n",
      "energy_price_lag_1: 1.0774060782695352\n",
      "energy_price_lag_2: 0.04445698812063409\n",
      "energy_price_lag_3: -0.1831301656384252\n",
      "energy_price_lag_4: 0.10124751437031058\n",
      "energy_price_lag_5: -0.07764010737217193\n",
      "energy_price_lag_6: -0.0027369708434425853\n",
      "energy_price_lag_7: 0.09649968244601616\n",
      "energy_price_lag_8: -0.1783569353370676\n",
      "energy_price_lag_9: 0.07315259801329371\n",
      "-----------------------\n",
      "Lags: 10\n"
     ]
    },
    {
     "name": "stderr",
     "output_type": "stream",
     "text": [
      "/Users/david/.local/share/virtualenvs/Proyecto-Integrador-Semestre1-8hKWhZbI/lib/python3.11/site-packages/sklearn/linear_model/_coordinate_descent.py:628: ConvergenceWarning: Objective did not converge. You might want to increase the number of iterations, check the scale of the features or consider increasing regularisation. Duality gap: 8.066e+04, tolerance: 1.314e+03\n",
      "  model = cd_fast.enet_coordinate_descent(\n",
      "/Users/david/.local/share/virtualenvs/Proyecto-Integrador-Semestre1-8hKWhZbI/lib/python3.11/site-packages/sklearn/linear_model/_coordinate_descent.py:628: ConvergenceWarning: Objective did not converge. You might want to increase the number of iterations, check the scale of the features or consider increasing regularisation. Duality gap: 1.215e+05, tolerance: 1.345e+03\n",
      "  model = cd_fast.enet_coordinate_descent(\n",
      "/Users/david/.local/share/virtualenvs/Proyecto-Integrador-Semestre1-8hKWhZbI/lib/python3.11/site-packages/sklearn/linear_model/_coordinate_descent.py:628: ConvergenceWarning: Objective did not converge. You might want to increase the number of iterations, check the scale of the features or consider increasing regularisation. Duality gap: 1.460e+05, tolerance: 1.397e+03\n",
      "  model = cd_fast.enet_coordinate_descent(\n",
      "/Users/david/.local/share/virtualenvs/Proyecto-Integrador-Semestre1-8hKWhZbI/lib/python3.11/site-packages/sklearn/linear_model/_coordinate_descent.py:628: ConvergenceWarning: Objective did not converge. You might want to increase the number of iterations, check the scale of the features or consider increasing regularisation. Duality gap: 1.321e+05, tolerance: 1.387e+03\n",
      "  model = cd_fast.enet_coordinate_descent(\n",
      "/Users/david/.local/share/virtualenvs/Proyecto-Integrador-Semestre1-8hKWhZbI/lib/python3.11/site-packages/sklearn/linear_model/_coordinate_descent.py:628: ConvergenceWarning: Objective did not converge. You might want to increase the number of iterations, check the scale of the features or consider increasing regularisation. Duality gap: 8.816e+04, tolerance: 1.395e+03\n",
      "  model = cd_fast.enet_coordinate_descent(\n",
      "/Users/david/.local/share/virtualenvs/Proyecto-Integrador-Semestre1-8hKWhZbI/lib/python3.11/site-packages/sklearn/linear_model/_coordinate_descent.py:628: ConvergenceWarning: Objective did not converge. You might want to increase the number of iterations, check the scale of the features or consider increasing regularisation. Duality gap: 8.067e+04, tolerance: 1.314e+03\n",
      "  model = cd_fast.enet_coordinate_descent(\n",
      "/Users/david/.local/share/virtualenvs/Proyecto-Integrador-Semestre1-8hKWhZbI/lib/python3.11/site-packages/sklearn/linear_model/_coordinate_descent.py:628: ConvergenceWarning: Objective did not converge. You might want to increase the number of iterations, check the scale of the features or consider increasing regularisation. Duality gap: 1.215e+05, tolerance: 1.345e+03\n",
      "  model = cd_fast.enet_coordinate_descent(\n",
      "/Users/david/.local/share/virtualenvs/Proyecto-Integrador-Semestre1-8hKWhZbI/lib/python3.11/site-packages/sklearn/linear_model/_coordinate_descent.py:628: ConvergenceWarning: Objective did not converge. You might want to increase the number of iterations, check the scale of the features or consider increasing regularisation. Duality gap: 1.460e+05, tolerance: 1.397e+03\n",
      "  model = cd_fast.enet_coordinate_descent(\n",
      "/Users/david/.local/share/virtualenvs/Proyecto-Integrador-Semestre1-8hKWhZbI/lib/python3.11/site-packages/sklearn/linear_model/_coordinate_descent.py:628: ConvergenceWarning: Objective did not converge. You might want to increase the number of iterations, check the scale of the features or consider increasing regularisation. Duality gap: 1.321e+05, tolerance: 1.387e+03\n",
      "  model = cd_fast.enet_coordinate_descent(\n",
      "/Users/david/.local/share/virtualenvs/Proyecto-Integrador-Semestre1-8hKWhZbI/lib/python3.11/site-packages/sklearn/linear_model/_coordinate_descent.py:628: ConvergenceWarning: Objective did not converge. You might want to increase the number of iterations, check the scale of the features or consider increasing regularisation. Duality gap: 8.816e+04, tolerance: 1.395e+03\n",
      "  model = cd_fast.enet_coordinate_descent(\n",
      "/Users/david/.local/share/virtualenvs/Proyecto-Integrador-Semestre1-8hKWhZbI/lib/python3.11/site-packages/sklearn/linear_model/_coordinate_descent.py:628: ConvergenceWarning: Objective did not converge. You might want to increase the number of iterations, check the scale of the features or consider increasing regularisation. Duality gap: 8.861e+04, tolerance: 1.314e+03\n",
      "  model = cd_fast.enet_coordinate_descent(\n",
      "/Users/david/.local/share/virtualenvs/Proyecto-Integrador-Semestre1-8hKWhZbI/lib/python3.11/site-packages/sklearn/linear_model/_coordinate_descent.py:628: ConvergenceWarning: Objective did not converge. You might want to increase the number of iterations, check the scale of the features or consider increasing regularisation. Duality gap: 1.334e+05, tolerance: 1.314e+03\n",
      "  model = cd_fast.enet_coordinate_descent(\n",
      "/Users/david/.local/share/virtualenvs/Proyecto-Integrador-Semestre1-8hKWhZbI/lib/python3.11/site-packages/sklearn/linear_model/_coordinate_descent.py:628: ConvergenceWarning: Objective did not converge. You might want to increase the number of iterations, check the scale of the features or consider increasing regularisation. Duality gap: 1.216e+05, tolerance: 1.345e+03\n",
      "  model = cd_fast.enet_coordinate_descent(\n",
      "/Users/david/.local/share/virtualenvs/Proyecto-Integrador-Semestre1-8hKWhZbI/lib/python3.11/site-packages/sklearn/linear_model/_coordinate_descent.py:628: ConvergenceWarning: Objective did not converge. You might want to increase the number of iterations, check the scale of the features or consider increasing regularisation. Duality gap: 1.454e+05, tolerance: 1.397e+03\n",
      "  model = cd_fast.enet_coordinate_descent(\n",
      "/Users/david/.local/share/virtualenvs/Proyecto-Integrador-Semestre1-8hKWhZbI/lib/python3.11/site-packages/sklearn/linear_model/_coordinate_descent.py:628: ConvergenceWarning: Objective did not converge. You might want to increase the number of iterations, check the scale of the features or consider increasing regularisation. Duality gap: 1.154e+05, tolerance: 1.387e+03\n",
      "  model = cd_fast.enet_coordinate_descent(\n",
      "/Users/david/.local/share/virtualenvs/Proyecto-Integrador-Semestre1-8hKWhZbI/lib/python3.11/site-packages/sklearn/linear_model/_coordinate_descent.py:628: ConvergenceWarning: Objective did not converge. You might want to increase the number of iterations, check the scale of the features or consider increasing regularisation. Duality gap: 5.144e+04, tolerance: 1.395e+03\n",
      "  model = cd_fast.enet_coordinate_descent(\n"
     ]
    },
    {
     "name": "stdout",
     "output_type": "stream",
     "text": [
      "Best parameters found: {'alpha': 4.281332398719396}\n",
      "Best cross-validation score: 0.9424956013378241\n"
     ]
    },
    {
     "name": "stderr",
     "output_type": "stream",
     "text": [
      "/Users/david/.local/share/virtualenvs/Proyecto-Integrador-Semestre1-8hKWhZbI/lib/python3.11/site-packages/sklearn/linear_model/_coordinate_descent.py:628: ConvergenceWarning: Objective did not converge. You might want to increase the number of iterations, check the scale of the features or consider increasing regularisation. Duality gap: 8.066e+04, tolerance: 1.314e+03\n",
      "  model = cd_fast.enet_coordinate_descent(\n",
      "/Users/david/.local/share/virtualenvs/Proyecto-Integrador-Semestre1-8hKWhZbI/lib/python3.11/site-packages/sklearn/linear_model/_coordinate_descent.py:628: ConvergenceWarning: Objective did not converge. You might want to increase the number of iterations, check the scale of the features or consider increasing regularisation. Duality gap: 1.215e+05, tolerance: 1.345e+03\n",
      "  model = cd_fast.enet_coordinate_descent(\n",
      "/Users/david/.local/share/virtualenvs/Proyecto-Integrador-Semestre1-8hKWhZbI/lib/python3.11/site-packages/sklearn/linear_model/_coordinate_descent.py:628: ConvergenceWarning: Objective did not converge. You might want to increase the number of iterations, check the scale of the features or consider increasing regularisation. Duality gap: 1.460e+05, tolerance: 1.397e+03\n",
      "  model = cd_fast.enet_coordinate_descent(\n",
      "/Users/david/.local/share/virtualenvs/Proyecto-Integrador-Semestre1-8hKWhZbI/lib/python3.11/site-packages/sklearn/linear_model/_coordinate_descent.py:628: ConvergenceWarning: Objective did not converge. You might want to increase the number of iterations, check the scale of the features or consider increasing regularisation. Duality gap: 1.321e+05, tolerance: 1.387e+03\n",
      "  model = cd_fast.enet_coordinate_descent(\n",
      "/Users/david/.local/share/virtualenvs/Proyecto-Integrador-Semestre1-8hKWhZbI/lib/python3.11/site-packages/sklearn/linear_model/_coordinate_descent.py:628: ConvergenceWarning: Objective did not converge. You might want to increase the number of iterations, check the scale of the features or consider increasing regularisation. Duality gap: 8.816e+04, tolerance: 1.395e+03\n",
      "  model = cd_fast.enet_coordinate_descent(\n",
      "/Users/david/.local/share/virtualenvs/Proyecto-Integrador-Semestre1-8hKWhZbI/lib/python3.11/site-packages/sklearn/linear_model/_coordinate_descent.py:628: ConvergenceWarning: Objective did not converge. You might want to increase the number of iterations, check the scale of the features or consider increasing regularisation. Duality gap: 8.067e+04, tolerance: 1.314e+03\n",
      "  model = cd_fast.enet_coordinate_descent(\n",
      "/Users/david/.local/share/virtualenvs/Proyecto-Integrador-Semestre1-8hKWhZbI/lib/python3.11/site-packages/sklearn/linear_model/_coordinate_descent.py:628: ConvergenceWarning: Objective did not converge. You might want to increase the number of iterations, check the scale of the features or consider increasing regularisation. Duality gap: 1.215e+05, tolerance: 1.345e+03\n",
      "  model = cd_fast.enet_coordinate_descent(\n",
      "/Users/david/.local/share/virtualenvs/Proyecto-Integrador-Semestre1-8hKWhZbI/lib/python3.11/site-packages/sklearn/linear_model/_coordinate_descent.py:628: ConvergenceWarning: Objective did not converge. You might want to increase the number of iterations, check the scale of the features or consider increasing regularisation. Duality gap: 1.460e+05, tolerance: 1.397e+03\n",
      "  model = cd_fast.enet_coordinate_descent(\n",
      "/Users/david/.local/share/virtualenvs/Proyecto-Integrador-Semestre1-8hKWhZbI/lib/python3.11/site-packages/sklearn/linear_model/_coordinate_descent.py:628: ConvergenceWarning: Objective did not converge. You might want to increase the number of iterations, check the scale of the features or consider increasing regularisation. Duality gap: 1.321e+05, tolerance: 1.387e+03\n",
      "  model = cd_fast.enet_coordinate_descent(\n",
      "/Users/david/.local/share/virtualenvs/Proyecto-Integrador-Semestre1-8hKWhZbI/lib/python3.11/site-packages/sklearn/linear_model/_coordinate_descent.py:628: ConvergenceWarning: Objective did not converge. You might want to increase the number of iterations, check the scale of the features or consider increasing regularisation. Duality gap: 8.816e+04, tolerance: 1.395e+03\n",
      "  model = cd_fast.enet_coordinate_descent(\n",
      "/Users/david/.local/share/virtualenvs/Proyecto-Integrador-Semestre1-8hKWhZbI/lib/python3.11/site-packages/sklearn/linear_model/_coordinate_descent.py:628: ConvergenceWarning: Objective did not converge. You might want to increase the number of iterations, check the scale of the features or consider increasing regularisation. Duality gap: 8.861e+04, tolerance: 1.314e+03\n",
      "  model = cd_fast.enet_coordinate_descent(\n",
      "/Users/david/.local/share/virtualenvs/Proyecto-Integrador-Semestre1-8hKWhZbI/lib/python3.11/site-packages/sklearn/linear_model/_coordinate_descent.py:628: ConvergenceWarning: Objective did not converge. You might want to increase the number of iterations, check the scale of the features or consider increasing regularisation. Duality gap: 1.334e+05, tolerance: 1.314e+03\n",
      "  model = cd_fast.enet_coordinate_descent(\n",
      "/Users/david/.local/share/virtualenvs/Proyecto-Integrador-Semestre1-8hKWhZbI/lib/python3.11/site-packages/sklearn/linear_model/_coordinate_descent.py:628: ConvergenceWarning: Objective did not converge. You might want to increase the number of iterations, check the scale of the features or consider increasing regularisation. Duality gap: 1.216e+05, tolerance: 1.345e+03\n",
      "  model = cd_fast.enet_coordinate_descent(\n",
      "/Users/david/.local/share/virtualenvs/Proyecto-Integrador-Semestre1-8hKWhZbI/lib/python3.11/site-packages/sklearn/linear_model/_coordinate_descent.py:628: ConvergenceWarning: Objective did not converge. You might want to increase the number of iterations, check the scale of the features or consider increasing regularisation. Duality gap: 1.454e+05, tolerance: 1.397e+03\n",
      "  model = cd_fast.enet_coordinate_descent(\n",
      "/Users/david/.local/share/virtualenvs/Proyecto-Integrador-Semestre1-8hKWhZbI/lib/python3.11/site-packages/sklearn/linear_model/_coordinate_descent.py:628: ConvergenceWarning: Objective did not converge. You might want to increase the number of iterations, check the scale of the features or consider increasing regularisation. Duality gap: 1.154e+05, tolerance: 1.387e+03\n",
      "  model = cd_fast.enet_coordinate_descent(\n",
      "/Users/david/.local/share/virtualenvs/Proyecto-Integrador-Semestre1-8hKWhZbI/lib/python3.11/site-packages/sklearn/linear_model/_coordinate_descent.py:628: ConvergenceWarning: Objective did not converge. You might want to increase the number of iterations, check the scale of the features or consider increasing regularisation. Duality gap: 5.144e+04, tolerance: 1.395e+03\n",
      "  model = cd_fast.enet_coordinate_descent(\n"
     ]
    },
    {
     "name": "stdout",
     "output_type": "stream",
     "text": [
      "Mean Squared Error on Test Data: 4558.975582484484\n",
      "Mean Absolute Percentage Error on Test Data: 0.09816258252407042\n",
      "precipitacion_meta: -0.6574909537496402\n",
      "precipitacion_tolima: -0.011486994657924514\n",
      "temp_BOYACA: 1.1343140303080226\n",
      "temp_QUINDIO: 0.44805858777101243\n",
      "temp_VALLE DEL CAUCA: 1.4295322966148825\n",
      "energy_price_lag_1: 1.0739808053410937\n",
      "energy_price_lag_2: 0.053029348118586186\n",
      "energy_price_lag_3: -0.18772158345087336\n",
      "energy_price_lag_4: 0.10191089873098279\n",
      "energy_price_lag_5: -0.07490756746613957\n",
      "energy_price_lag_6: -0.007518401125067665\n",
      "energy_price_lag_7: 0.10580973974038228\n",
      "energy_price_lag_8: -0.1797864748176326\n",
      "energy_price_lag_9: 0.017428150470526968\n",
      "energy_price_lag_10: 0.051754352471962674\n",
      "-----------------------\n",
      "Lags: 11\n"
     ]
    },
    {
     "name": "stderr",
     "output_type": "stream",
     "text": [
      "/Users/david/.local/share/virtualenvs/Proyecto-Integrador-Semestre1-8hKWhZbI/lib/python3.11/site-packages/sklearn/linear_model/_coordinate_descent.py:628: ConvergenceWarning: Objective did not converge. You might want to increase the number of iterations, check the scale of the features or consider increasing regularisation. Duality gap: 1.026e+05, tolerance: 1.356e+03\n",
      "  model = cd_fast.enet_coordinate_descent(\n",
      "/Users/david/.local/share/virtualenvs/Proyecto-Integrador-Semestre1-8hKWhZbI/lib/python3.11/site-packages/sklearn/linear_model/_coordinate_descent.py:628: ConvergenceWarning: Objective did not converge. You might want to increase the number of iterations, check the scale of the features or consider increasing regularisation. Duality gap: 8.942e+04, tolerance: 1.414e+03\n",
      "  model = cd_fast.enet_coordinate_descent(\n",
      "/Users/david/.local/share/virtualenvs/Proyecto-Integrador-Semestre1-8hKWhZbI/lib/python3.11/site-packages/sklearn/linear_model/_coordinate_descent.py:628: ConvergenceWarning: Objective did not converge. You might want to increase the number of iterations, check the scale of the features or consider increasing regularisation. Duality gap: 1.413e+05, tolerance: 1.334e+03\n",
      "  model = cd_fast.enet_coordinate_descent(\n",
      "/Users/david/.local/share/virtualenvs/Proyecto-Integrador-Semestre1-8hKWhZbI/lib/python3.11/site-packages/sklearn/linear_model/_coordinate_descent.py:628: ConvergenceWarning: Objective did not converge. You might want to increase the number of iterations, check the scale of the features or consider increasing regularisation. Duality gap: 8.283e+04, tolerance: 1.358e+03\n",
      "  model = cd_fast.enet_coordinate_descent(\n",
      "/Users/david/.local/share/virtualenvs/Proyecto-Integrador-Semestre1-8hKWhZbI/lib/python3.11/site-packages/sklearn/linear_model/_coordinate_descent.py:628: ConvergenceWarning: Objective did not converge. You might want to increase the number of iterations, check the scale of the features or consider increasing regularisation. Duality gap: 1.755e+05, tolerance: 1.375e+03\n",
      "  model = cd_fast.enet_coordinate_descent(\n",
      "/Users/david/.local/share/virtualenvs/Proyecto-Integrador-Semestre1-8hKWhZbI/lib/python3.11/site-packages/sklearn/linear_model/_coordinate_descent.py:628: ConvergenceWarning: Objective did not converge. You might want to increase the number of iterations, check the scale of the features or consider increasing regularisation. Duality gap: 1.026e+05, tolerance: 1.356e+03\n",
      "  model = cd_fast.enet_coordinate_descent(\n",
      "/Users/david/.local/share/virtualenvs/Proyecto-Integrador-Semestre1-8hKWhZbI/lib/python3.11/site-packages/sklearn/linear_model/_coordinate_descent.py:628: ConvergenceWarning: Objective did not converge. You might want to increase the number of iterations, check the scale of the features or consider increasing regularisation. Duality gap: 8.943e+04, tolerance: 1.414e+03\n",
      "  model = cd_fast.enet_coordinate_descent(\n",
      "/Users/david/.local/share/virtualenvs/Proyecto-Integrador-Semestre1-8hKWhZbI/lib/python3.11/site-packages/sklearn/linear_model/_coordinate_descent.py:628: ConvergenceWarning: Objective did not converge. You might want to increase the number of iterations, check the scale of the features or consider increasing regularisation. Duality gap: 1.413e+05, tolerance: 1.334e+03\n",
      "  model = cd_fast.enet_coordinate_descent(\n",
      "/Users/david/.local/share/virtualenvs/Proyecto-Integrador-Semestre1-8hKWhZbI/lib/python3.11/site-packages/sklearn/linear_model/_coordinate_descent.py:628: ConvergenceWarning: Objective did not converge. You might want to increase the number of iterations, check the scale of the features or consider increasing regularisation. Duality gap: 8.284e+04, tolerance: 1.358e+03\n",
      "  model = cd_fast.enet_coordinate_descent(\n",
      "/Users/david/.local/share/virtualenvs/Proyecto-Integrador-Semestre1-8hKWhZbI/lib/python3.11/site-packages/sklearn/linear_model/_coordinate_descent.py:628: ConvergenceWarning: Objective did not converge. You might want to increase the number of iterations, check the scale of the features or consider increasing regularisation. Duality gap: 1.139e+05, tolerance: 1.375e+03\n",
      "  model = cd_fast.enet_coordinate_descent(\n",
      "/Users/david/.local/share/virtualenvs/Proyecto-Integrador-Semestre1-8hKWhZbI/lib/python3.11/site-packages/sklearn/linear_model/_coordinate_descent.py:628: ConvergenceWarning: Objective did not converge. You might want to increase the number of iterations, check the scale of the features or consider increasing regularisation. Duality gap: 1.027e+05, tolerance: 1.356e+03\n",
      "  model = cd_fast.enet_coordinate_descent(\n",
      "/Users/david/.local/share/virtualenvs/Proyecto-Integrador-Semestre1-8hKWhZbI/lib/python3.11/site-packages/sklearn/linear_model/_coordinate_descent.py:628: ConvergenceWarning: Objective did not converge. You might want to increase the number of iterations, check the scale of the features or consider increasing regularisation. Duality gap: 7.504e+04, tolerance: 1.414e+03\n",
      "  model = cd_fast.enet_coordinate_descent(\n",
      "/Users/david/.local/share/virtualenvs/Proyecto-Integrador-Semestre1-8hKWhZbI/lib/python3.11/site-packages/sklearn/linear_model/_coordinate_descent.py:628: ConvergenceWarning: Objective did not converge. You might want to increase the number of iterations, check the scale of the features or consider increasing regularisation. Duality gap: 1.403e+05, tolerance: 1.334e+03\n",
      "  model = cd_fast.enet_coordinate_descent(\n",
      "/Users/david/.local/share/virtualenvs/Proyecto-Integrador-Semestre1-8hKWhZbI/lib/python3.11/site-packages/sklearn/linear_model/_coordinate_descent.py:628: ConvergenceWarning: Objective did not converge. You might want to increase the number of iterations, check the scale of the features or consider increasing regularisation. Duality gap: 8.292e+04, tolerance: 1.358e+03\n",
      "  model = cd_fast.enet_coordinate_descent(\n",
      "/Users/david/.local/share/virtualenvs/Proyecto-Integrador-Semestre1-8hKWhZbI/lib/python3.11/site-packages/sklearn/linear_model/_coordinate_descent.py:628: ConvergenceWarning: Objective did not converge. You might want to increase the number of iterations, check the scale of the features or consider increasing regularisation. Duality gap: 1.134e+05, tolerance: 1.375e+03\n",
      "  model = cd_fast.enet_coordinate_descent(\n"
     ]
    },
    {
     "name": "stdout",
     "output_type": "stream",
     "text": [
      "Best parameters found: {'alpha': 206.913808111479}\n",
      "Best cross-validation score: 0.9398454289598901\n"
     ]
    },
    {
     "name": "stderr",
     "output_type": "stream",
     "text": [
      "/Users/david/.local/share/virtualenvs/Proyecto-Integrador-Semestre1-8hKWhZbI/lib/python3.11/site-packages/sklearn/linear_model/_coordinate_descent.py:628: ConvergenceWarning: Objective did not converge. You might want to increase the number of iterations, check the scale of the features or consider increasing regularisation. Duality gap: 1.026e+05, tolerance: 1.356e+03\n",
      "  model = cd_fast.enet_coordinate_descent(\n",
      "/Users/david/.local/share/virtualenvs/Proyecto-Integrador-Semestre1-8hKWhZbI/lib/python3.11/site-packages/sklearn/linear_model/_coordinate_descent.py:628: ConvergenceWarning: Objective did not converge. You might want to increase the number of iterations, check the scale of the features or consider increasing regularisation. Duality gap: 8.942e+04, tolerance: 1.414e+03\n",
      "  model = cd_fast.enet_coordinate_descent(\n",
      "/Users/david/.local/share/virtualenvs/Proyecto-Integrador-Semestre1-8hKWhZbI/lib/python3.11/site-packages/sklearn/linear_model/_coordinate_descent.py:628: ConvergenceWarning: Objective did not converge. You might want to increase the number of iterations, check the scale of the features or consider increasing regularisation. Duality gap: 1.413e+05, tolerance: 1.334e+03\n",
      "  model = cd_fast.enet_coordinate_descent(\n",
      "/Users/david/.local/share/virtualenvs/Proyecto-Integrador-Semestre1-8hKWhZbI/lib/python3.11/site-packages/sklearn/linear_model/_coordinate_descent.py:628: ConvergenceWarning: Objective did not converge. You might want to increase the number of iterations, check the scale of the features or consider increasing regularisation. Duality gap: 8.283e+04, tolerance: 1.358e+03\n",
      "  model = cd_fast.enet_coordinate_descent(\n",
      "/Users/david/.local/share/virtualenvs/Proyecto-Integrador-Semestre1-8hKWhZbI/lib/python3.11/site-packages/sklearn/linear_model/_coordinate_descent.py:628: ConvergenceWarning: Objective did not converge. You might want to increase the number of iterations, check the scale of the features or consider increasing regularisation. Duality gap: 1.755e+05, tolerance: 1.375e+03\n",
      "  model = cd_fast.enet_coordinate_descent(\n",
      "/Users/david/.local/share/virtualenvs/Proyecto-Integrador-Semestre1-8hKWhZbI/lib/python3.11/site-packages/sklearn/linear_model/_coordinate_descent.py:628: ConvergenceWarning: Objective did not converge. You might want to increase the number of iterations, check the scale of the features or consider increasing regularisation. Duality gap: 1.026e+05, tolerance: 1.356e+03\n",
      "  model = cd_fast.enet_coordinate_descent(\n",
      "/Users/david/.local/share/virtualenvs/Proyecto-Integrador-Semestre1-8hKWhZbI/lib/python3.11/site-packages/sklearn/linear_model/_coordinate_descent.py:628: ConvergenceWarning: Objective did not converge. You might want to increase the number of iterations, check the scale of the features or consider increasing regularisation. Duality gap: 8.943e+04, tolerance: 1.414e+03\n",
      "  model = cd_fast.enet_coordinate_descent(\n",
      "/Users/david/.local/share/virtualenvs/Proyecto-Integrador-Semestre1-8hKWhZbI/lib/python3.11/site-packages/sklearn/linear_model/_coordinate_descent.py:628: ConvergenceWarning: Objective did not converge. You might want to increase the number of iterations, check the scale of the features or consider increasing regularisation. Duality gap: 1.413e+05, tolerance: 1.334e+03\n",
      "  model = cd_fast.enet_coordinate_descent(\n",
      "/Users/david/.local/share/virtualenvs/Proyecto-Integrador-Semestre1-8hKWhZbI/lib/python3.11/site-packages/sklearn/linear_model/_coordinate_descent.py:628: ConvergenceWarning: Objective did not converge. You might want to increase the number of iterations, check the scale of the features or consider increasing regularisation. Duality gap: 8.284e+04, tolerance: 1.358e+03\n",
      "  model = cd_fast.enet_coordinate_descent(\n",
      "/Users/david/.local/share/virtualenvs/Proyecto-Integrador-Semestre1-8hKWhZbI/lib/python3.11/site-packages/sklearn/linear_model/_coordinate_descent.py:628: ConvergenceWarning: Objective did not converge. You might want to increase the number of iterations, check the scale of the features or consider increasing regularisation. Duality gap: 1.139e+05, tolerance: 1.375e+03\n",
      "  model = cd_fast.enet_coordinate_descent(\n",
      "/Users/david/.local/share/virtualenvs/Proyecto-Integrador-Semestre1-8hKWhZbI/lib/python3.11/site-packages/sklearn/linear_model/_coordinate_descent.py:628: ConvergenceWarning: Objective did not converge. You might want to increase the number of iterations, check the scale of the features or consider increasing regularisation. Duality gap: 1.027e+05, tolerance: 1.356e+03\n",
      "  model = cd_fast.enet_coordinate_descent(\n",
      "/Users/david/.local/share/virtualenvs/Proyecto-Integrador-Semestre1-8hKWhZbI/lib/python3.11/site-packages/sklearn/linear_model/_coordinate_descent.py:628: ConvergenceWarning: Objective did not converge. You might want to increase the number of iterations, check the scale of the features or consider increasing regularisation. Duality gap: 7.504e+04, tolerance: 1.414e+03\n",
      "  model = cd_fast.enet_coordinate_descent(\n",
      "/Users/david/.local/share/virtualenvs/Proyecto-Integrador-Semestre1-8hKWhZbI/lib/python3.11/site-packages/sklearn/linear_model/_coordinate_descent.py:628: ConvergenceWarning: Objective did not converge. You might want to increase the number of iterations, check the scale of the features or consider increasing regularisation. Duality gap: 1.403e+05, tolerance: 1.334e+03\n",
      "  model = cd_fast.enet_coordinate_descent(\n",
      "/Users/david/.local/share/virtualenvs/Proyecto-Integrador-Semestre1-8hKWhZbI/lib/python3.11/site-packages/sklearn/linear_model/_coordinate_descent.py:628: ConvergenceWarning: Objective did not converge. You might want to increase the number of iterations, check the scale of the features or consider increasing regularisation. Duality gap: 8.292e+04, tolerance: 1.358e+03\n",
      "  model = cd_fast.enet_coordinate_descent(\n",
      "/Users/david/.local/share/virtualenvs/Proyecto-Integrador-Semestre1-8hKWhZbI/lib/python3.11/site-packages/sklearn/linear_model/_coordinate_descent.py:628: ConvergenceWarning: Objective did not converge. You might want to increase the number of iterations, check the scale of the features or consider increasing regularisation. Duality gap: 1.134e+05, tolerance: 1.375e+03\n",
      "  model = cd_fast.enet_coordinate_descent(\n"
     ]
    },
    {
     "name": "stdout",
     "output_type": "stream",
     "text": [
      "Mean Squared Error on Test Data: 4855.915440534761\n",
      "Mean Absolute Percentage Error on Test Data: 0.10120472447547187\n",
      "energy_price_lag_1: 1.0013367423478132\n",
      "energy_price_lag_5: -0.012393213670909892\n",
      "energy_price_lag_8: -0.043283353157199646\n",
      "energy_price_lag_11: 0.0066218093638991775\n",
      "-----------------------\n"
     ]
    }
   ],
   "source": [
    "mape_test = []\n",
    "mse_test = []\n",
    "\n",
    "for i in range(1, 12):\n",
    "    print(f\"Lags: {i}\")\n",
    "    results_i = perform_lasso_mlr({\"df\": df, \"lags\": i})\n",
    "    mape_i = results_i[\"mape_test\"]\n",
    "    mse_i = results_i[\"mse_test\"]\n",
    "    mape_test.append(mape_i)\n",
    "    mse_test.append(mse_i)\n",
    "    print(\"-----------------------\")"
   ]
  },
  {
   "cell_type": "code",
   "execution_count": 5,
   "metadata": {},
   "outputs": [
    {
     "data": {
      "application/vnd.plotly.v1+json": {
       "config": {
        "plotlyServerURL": "https://plot.ly"
       },
       "data": [
        {
         "hovertemplate": "lag=%{x}<br>mse_test=%{y}<extra></extra>",
         "legendgroup": "",
         "line": {
          "color": "#636efa",
          "dash": "solid"
         },
         "marker": {
          "symbol": "circle"
         },
         "mode": "lines",
         "name": "",
         "orientation": "v",
         "showlegend": false,
         "type": "scatter",
         "x": [
          1,
          2,
          3,
          4,
          5,
          6,
          7,
          8,
          9,
          10,
          11
         ],
         "xaxis": "x",
         "y": [
          4614.763663333484,
          4470.506134896634,
          4491.26487661298,
          4491.717646868369,
          4574.794605686089,
          4727.374376403668,
          4636.735640537828,
          4726.243405427455,
          4631.3180199648605,
          4558.975582484484,
          4855.915440534761
         ],
         "yaxis": "y"
        }
       ],
       "layout": {
        "legend": {
         "tracegroupgap": 0
        },
        "template": {
         "data": {
          "bar": [
           {
            "error_x": {
             "color": "#2a3f5f"
            },
            "error_y": {
             "color": "#2a3f5f"
            },
            "marker": {
             "line": {
              "color": "#E5ECF6",
              "width": 0.5
             },
             "pattern": {
              "fillmode": "overlay",
              "size": 10,
              "solidity": 0.2
             }
            },
            "type": "bar"
           }
          ],
          "barpolar": [
           {
            "marker": {
             "line": {
              "color": "#E5ECF6",
              "width": 0.5
             },
             "pattern": {
              "fillmode": "overlay",
              "size": 10,
              "solidity": 0.2
             }
            },
            "type": "barpolar"
           }
          ],
          "carpet": [
           {
            "aaxis": {
             "endlinecolor": "#2a3f5f",
             "gridcolor": "white",
             "linecolor": "white",
             "minorgridcolor": "white",
             "startlinecolor": "#2a3f5f"
            },
            "baxis": {
             "endlinecolor": "#2a3f5f",
             "gridcolor": "white",
             "linecolor": "white",
             "minorgridcolor": "white",
             "startlinecolor": "#2a3f5f"
            },
            "type": "carpet"
           }
          ],
          "choropleth": [
           {
            "colorbar": {
             "outlinewidth": 0,
             "ticks": ""
            },
            "type": "choropleth"
           }
          ],
          "contour": [
           {
            "colorbar": {
             "outlinewidth": 0,
             "ticks": ""
            },
            "colorscale": [
             [
              0,
              "#0d0887"
             ],
             [
              0.1111111111111111,
              "#46039f"
             ],
             [
              0.2222222222222222,
              "#7201a8"
             ],
             [
              0.3333333333333333,
              "#9c179e"
             ],
             [
              0.4444444444444444,
              "#bd3786"
             ],
             [
              0.5555555555555556,
              "#d8576b"
             ],
             [
              0.6666666666666666,
              "#ed7953"
             ],
             [
              0.7777777777777778,
              "#fb9f3a"
             ],
             [
              0.8888888888888888,
              "#fdca26"
             ],
             [
              1,
              "#f0f921"
             ]
            ],
            "type": "contour"
           }
          ],
          "contourcarpet": [
           {
            "colorbar": {
             "outlinewidth": 0,
             "ticks": ""
            },
            "type": "contourcarpet"
           }
          ],
          "heatmap": [
           {
            "colorbar": {
             "outlinewidth": 0,
             "ticks": ""
            },
            "colorscale": [
             [
              0,
              "#0d0887"
             ],
             [
              0.1111111111111111,
              "#46039f"
             ],
             [
              0.2222222222222222,
              "#7201a8"
             ],
             [
              0.3333333333333333,
              "#9c179e"
             ],
             [
              0.4444444444444444,
              "#bd3786"
             ],
             [
              0.5555555555555556,
              "#d8576b"
             ],
             [
              0.6666666666666666,
              "#ed7953"
             ],
             [
              0.7777777777777778,
              "#fb9f3a"
             ],
             [
              0.8888888888888888,
              "#fdca26"
             ],
             [
              1,
              "#f0f921"
             ]
            ],
            "type": "heatmap"
           }
          ],
          "heatmapgl": [
           {
            "colorbar": {
             "outlinewidth": 0,
             "ticks": ""
            },
            "colorscale": [
             [
              0,
              "#0d0887"
             ],
             [
              0.1111111111111111,
              "#46039f"
             ],
             [
              0.2222222222222222,
              "#7201a8"
             ],
             [
              0.3333333333333333,
              "#9c179e"
             ],
             [
              0.4444444444444444,
              "#bd3786"
             ],
             [
              0.5555555555555556,
              "#d8576b"
             ],
             [
              0.6666666666666666,
              "#ed7953"
             ],
             [
              0.7777777777777778,
              "#fb9f3a"
             ],
             [
              0.8888888888888888,
              "#fdca26"
             ],
             [
              1,
              "#f0f921"
             ]
            ],
            "type": "heatmapgl"
           }
          ],
          "histogram": [
           {
            "marker": {
             "pattern": {
              "fillmode": "overlay",
              "size": 10,
              "solidity": 0.2
             }
            },
            "type": "histogram"
           }
          ],
          "histogram2d": [
           {
            "colorbar": {
             "outlinewidth": 0,
             "ticks": ""
            },
            "colorscale": [
             [
              0,
              "#0d0887"
             ],
             [
              0.1111111111111111,
              "#46039f"
             ],
             [
              0.2222222222222222,
              "#7201a8"
             ],
             [
              0.3333333333333333,
              "#9c179e"
             ],
             [
              0.4444444444444444,
              "#bd3786"
             ],
             [
              0.5555555555555556,
              "#d8576b"
             ],
             [
              0.6666666666666666,
              "#ed7953"
             ],
             [
              0.7777777777777778,
              "#fb9f3a"
             ],
             [
              0.8888888888888888,
              "#fdca26"
             ],
             [
              1,
              "#f0f921"
             ]
            ],
            "type": "histogram2d"
           }
          ],
          "histogram2dcontour": [
           {
            "colorbar": {
             "outlinewidth": 0,
             "ticks": ""
            },
            "colorscale": [
             [
              0,
              "#0d0887"
             ],
             [
              0.1111111111111111,
              "#46039f"
             ],
             [
              0.2222222222222222,
              "#7201a8"
             ],
             [
              0.3333333333333333,
              "#9c179e"
             ],
             [
              0.4444444444444444,
              "#bd3786"
             ],
             [
              0.5555555555555556,
              "#d8576b"
             ],
             [
              0.6666666666666666,
              "#ed7953"
             ],
             [
              0.7777777777777778,
              "#fb9f3a"
             ],
             [
              0.8888888888888888,
              "#fdca26"
             ],
             [
              1,
              "#f0f921"
             ]
            ],
            "type": "histogram2dcontour"
           }
          ],
          "mesh3d": [
           {
            "colorbar": {
             "outlinewidth": 0,
             "ticks": ""
            },
            "type": "mesh3d"
           }
          ],
          "parcoords": [
           {
            "line": {
             "colorbar": {
              "outlinewidth": 0,
              "ticks": ""
             }
            },
            "type": "parcoords"
           }
          ],
          "pie": [
           {
            "automargin": true,
            "type": "pie"
           }
          ],
          "scatter": [
           {
            "fillpattern": {
             "fillmode": "overlay",
             "size": 10,
             "solidity": 0.2
            },
            "type": "scatter"
           }
          ],
          "scatter3d": [
           {
            "line": {
             "colorbar": {
              "outlinewidth": 0,
              "ticks": ""
             }
            },
            "marker": {
             "colorbar": {
              "outlinewidth": 0,
              "ticks": ""
             }
            },
            "type": "scatter3d"
           }
          ],
          "scattercarpet": [
           {
            "marker": {
             "colorbar": {
              "outlinewidth": 0,
              "ticks": ""
             }
            },
            "type": "scattercarpet"
           }
          ],
          "scattergeo": [
           {
            "marker": {
             "colorbar": {
              "outlinewidth": 0,
              "ticks": ""
             }
            },
            "type": "scattergeo"
           }
          ],
          "scattergl": [
           {
            "marker": {
             "colorbar": {
              "outlinewidth": 0,
              "ticks": ""
             }
            },
            "type": "scattergl"
           }
          ],
          "scattermapbox": [
           {
            "marker": {
             "colorbar": {
              "outlinewidth": 0,
              "ticks": ""
             }
            },
            "type": "scattermapbox"
           }
          ],
          "scatterpolar": [
           {
            "marker": {
             "colorbar": {
              "outlinewidth": 0,
              "ticks": ""
             }
            },
            "type": "scatterpolar"
           }
          ],
          "scatterpolargl": [
           {
            "marker": {
             "colorbar": {
              "outlinewidth": 0,
              "ticks": ""
             }
            },
            "type": "scatterpolargl"
           }
          ],
          "scatterternary": [
           {
            "marker": {
             "colorbar": {
              "outlinewidth": 0,
              "ticks": ""
             }
            },
            "type": "scatterternary"
           }
          ],
          "surface": [
           {
            "colorbar": {
             "outlinewidth": 0,
             "ticks": ""
            },
            "colorscale": [
             [
              0,
              "#0d0887"
             ],
             [
              0.1111111111111111,
              "#46039f"
             ],
             [
              0.2222222222222222,
              "#7201a8"
             ],
             [
              0.3333333333333333,
              "#9c179e"
             ],
             [
              0.4444444444444444,
              "#bd3786"
             ],
             [
              0.5555555555555556,
              "#d8576b"
             ],
             [
              0.6666666666666666,
              "#ed7953"
             ],
             [
              0.7777777777777778,
              "#fb9f3a"
             ],
             [
              0.8888888888888888,
              "#fdca26"
             ],
             [
              1,
              "#f0f921"
             ]
            ],
            "type": "surface"
           }
          ],
          "table": [
           {
            "cells": {
             "fill": {
              "color": "#EBF0F8"
             },
             "line": {
              "color": "white"
             }
            },
            "header": {
             "fill": {
              "color": "#C8D4E3"
             },
             "line": {
              "color": "white"
             }
            },
            "type": "table"
           }
          ]
         },
         "layout": {
          "annotationdefaults": {
           "arrowcolor": "#2a3f5f",
           "arrowhead": 0,
           "arrowwidth": 1
          },
          "autotypenumbers": "strict",
          "coloraxis": {
           "colorbar": {
            "outlinewidth": 0,
            "ticks": ""
           }
          },
          "colorscale": {
           "diverging": [
            [
             0,
             "#8e0152"
            ],
            [
             0.1,
             "#c51b7d"
            ],
            [
             0.2,
             "#de77ae"
            ],
            [
             0.3,
             "#f1b6da"
            ],
            [
             0.4,
             "#fde0ef"
            ],
            [
             0.5,
             "#f7f7f7"
            ],
            [
             0.6,
             "#e6f5d0"
            ],
            [
             0.7,
             "#b8e186"
            ],
            [
             0.8,
             "#7fbc41"
            ],
            [
             0.9,
             "#4d9221"
            ],
            [
             1,
             "#276419"
            ]
           ],
           "sequential": [
            [
             0,
             "#0d0887"
            ],
            [
             0.1111111111111111,
             "#46039f"
            ],
            [
             0.2222222222222222,
             "#7201a8"
            ],
            [
             0.3333333333333333,
             "#9c179e"
            ],
            [
             0.4444444444444444,
             "#bd3786"
            ],
            [
             0.5555555555555556,
             "#d8576b"
            ],
            [
             0.6666666666666666,
             "#ed7953"
            ],
            [
             0.7777777777777778,
             "#fb9f3a"
            ],
            [
             0.8888888888888888,
             "#fdca26"
            ],
            [
             1,
             "#f0f921"
            ]
           ],
           "sequentialminus": [
            [
             0,
             "#0d0887"
            ],
            [
             0.1111111111111111,
             "#46039f"
            ],
            [
             0.2222222222222222,
             "#7201a8"
            ],
            [
             0.3333333333333333,
             "#9c179e"
            ],
            [
             0.4444444444444444,
             "#bd3786"
            ],
            [
             0.5555555555555556,
             "#d8576b"
            ],
            [
             0.6666666666666666,
             "#ed7953"
            ],
            [
             0.7777777777777778,
             "#fb9f3a"
            ],
            [
             0.8888888888888888,
             "#fdca26"
            ],
            [
             1,
             "#f0f921"
            ]
           ]
          },
          "colorway": [
           "#636efa",
           "#EF553B",
           "#00cc96",
           "#ab63fa",
           "#FFA15A",
           "#19d3f3",
           "#FF6692",
           "#B6E880",
           "#FF97FF",
           "#FECB52"
          ],
          "font": {
           "color": "#2a3f5f"
          },
          "geo": {
           "bgcolor": "white",
           "lakecolor": "white",
           "landcolor": "#E5ECF6",
           "showlakes": true,
           "showland": true,
           "subunitcolor": "white"
          },
          "hoverlabel": {
           "align": "left"
          },
          "hovermode": "closest",
          "mapbox": {
           "style": "light"
          },
          "paper_bgcolor": "white",
          "plot_bgcolor": "#E5ECF6",
          "polar": {
           "angularaxis": {
            "gridcolor": "white",
            "linecolor": "white",
            "ticks": ""
           },
           "bgcolor": "#E5ECF6",
           "radialaxis": {
            "gridcolor": "white",
            "linecolor": "white",
            "ticks": ""
           }
          },
          "scene": {
           "xaxis": {
            "backgroundcolor": "#E5ECF6",
            "gridcolor": "white",
            "gridwidth": 2,
            "linecolor": "white",
            "showbackground": true,
            "ticks": "",
            "zerolinecolor": "white"
           },
           "yaxis": {
            "backgroundcolor": "#E5ECF6",
            "gridcolor": "white",
            "gridwidth": 2,
            "linecolor": "white",
            "showbackground": true,
            "ticks": "",
            "zerolinecolor": "white"
           },
           "zaxis": {
            "backgroundcolor": "#E5ECF6",
            "gridcolor": "white",
            "gridwidth": 2,
            "linecolor": "white",
            "showbackground": true,
            "ticks": "",
            "zerolinecolor": "white"
           }
          },
          "shapedefaults": {
           "line": {
            "color": "#2a3f5f"
           }
          },
          "ternary": {
           "aaxis": {
            "gridcolor": "white",
            "linecolor": "white",
            "ticks": ""
           },
           "baxis": {
            "gridcolor": "white",
            "linecolor": "white",
            "ticks": ""
           },
           "bgcolor": "#E5ECF6",
           "caxis": {
            "gridcolor": "white",
            "linecolor": "white",
            "ticks": ""
           }
          },
          "title": {
           "x": 0.05
          },
          "xaxis": {
           "automargin": true,
           "gridcolor": "white",
           "linecolor": "white",
           "ticks": "",
           "title": {
            "standoff": 15
           },
           "zerolinecolor": "white",
           "zerolinewidth": 2
          },
          "yaxis": {
           "automargin": true,
           "gridcolor": "white",
           "linecolor": "white",
           "ticks": "",
           "title": {
            "standoff": 15
           },
           "zerolinecolor": "white",
           "zerolinewidth": 2
          }
         }
        },
        "title": {
         "text": "MSE de la data de test vs Lags"
        },
        "xaxis": {
         "anchor": "y",
         "domain": [
          0,
          1
         ],
         "title": {
          "text": "lag"
         }
        },
        "yaxis": {
         "anchor": "x",
         "domain": [
          0,
          1
         ],
         "title": {
          "text": "mse_test"
         }
        }
       }
      }
     },
     "metadata": {},
     "output_type": "display_data"
    }
   ],
   "source": [
    "df_pruebas = pd.DataFrame(\n",
    "    {\"lag\": list(range(1, 12)), \"mse_test\": mse_test, \"mape_test\": mape_test}\n",
    ")\n",
    "\n",
    "fig_mse = px.line(\n",
    "    df_pruebas, x=\"lag\", y=\"mse_test\", title=\"MSE de la data de test vs Lags\"\n",
    ")\n",
    "\n",
    "fig_mse.show()"
   ]
  },
  {
   "cell_type": "code",
   "execution_count": 6,
   "metadata": {},
   "outputs": [
    {
     "data": {
      "application/vnd.plotly.v1+json": {
       "config": {
        "plotlyServerURL": "https://plot.ly"
       },
       "data": [
        {
         "hovertemplate": "lag=%{x}<br>mape_test=%{y}<extra></extra>",
         "legendgroup": "",
         "line": {
          "color": "#636efa",
          "dash": "solid"
         },
         "marker": {
          "symbol": "circle"
         },
         "mode": "lines",
         "name": "",
         "orientation": "v",
         "showlegend": false,
         "type": "scatter",
         "x": [
          1,
          2,
          3,
          4,
          5,
          6,
          7,
          8,
          9,
          10,
          11
         ],
         "xaxis": "x",
         "y": [
          0.09753735253270678,
          0.09790856395832793,
          0.09635049842643047,
          0.09635002701025151,
          0.09743003609720527,
          0.09943560997800151,
          0.09815915300186548,
          0.09961570064878052,
          0.09850444914717485,
          0.09816258252407042,
          0.10120472447547187
         ],
         "yaxis": "y"
        }
       ],
       "layout": {
        "legend": {
         "tracegroupgap": 0
        },
        "template": {
         "data": {
          "bar": [
           {
            "error_x": {
             "color": "#2a3f5f"
            },
            "error_y": {
             "color": "#2a3f5f"
            },
            "marker": {
             "line": {
              "color": "#E5ECF6",
              "width": 0.5
             },
             "pattern": {
              "fillmode": "overlay",
              "size": 10,
              "solidity": 0.2
             }
            },
            "type": "bar"
           }
          ],
          "barpolar": [
           {
            "marker": {
             "line": {
              "color": "#E5ECF6",
              "width": 0.5
             },
             "pattern": {
              "fillmode": "overlay",
              "size": 10,
              "solidity": 0.2
             }
            },
            "type": "barpolar"
           }
          ],
          "carpet": [
           {
            "aaxis": {
             "endlinecolor": "#2a3f5f",
             "gridcolor": "white",
             "linecolor": "white",
             "minorgridcolor": "white",
             "startlinecolor": "#2a3f5f"
            },
            "baxis": {
             "endlinecolor": "#2a3f5f",
             "gridcolor": "white",
             "linecolor": "white",
             "minorgridcolor": "white",
             "startlinecolor": "#2a3f5f"
            },
            "type": "carpet"
           }
          ],
          "choropleth": [
           {
            "colorbar": {
             "outlinewidth": 0,
             "ticks": ""
            },
            "type": "choropleth"
           }
          ],
          "contour": [
           {
            "colorbar": {
             "outlinewidth": 0,
             "ticks": ""
            },
            "colorscale": [
             [
              0,
              "#0d0887"
             ],
             [
              0.1111111111111111,
              "#46039f"
             ],
             [
              0.2222222222222222,
              "#7201a8"
             ],
             [
              0.3333333333333333,
              "#9c179e"
             ],
             [
              0.4444444444444444,
              "#bd3786"
             ],
             [
              0.5555555555555556,
              "#d8576b"
             ],
             [
              0.6666666666666666,
              "#ed7953"
             ],
             [
              0.7777777777777778,
              "#fb9f3a"
             ],
             [
              0.8888888888888888,
              "#fdca26"
             ],
             [
              1,
              "#f0f921"
             ]
            ],
            "type": "contour"
           }
          ],
          "contourcarpet": [
           {
            "colorbar": {
             "outlinewidth": 0,
             "ticks": ""
            },
            "type": "contourcarpet"
           }
          ],
          "heatmap": [
           {
            "colorbar": {
             "outlinewidth": 0,
             "ticks": ""
            },
            "colorscale": [
             [
              0,
              "#0d0887"
             ],
             [
              0.1111111111111111,
              "#46039f"
             ],
             [
              0.2222222222222222,
              "#7201a8"
             ],
             [
              0.3333333333333333,
              "#9c179e"
             ],
             [
              0.4444444444444444,
              "#bd3786"
             ],
             [
              0.5555555555555556,
              "#d8576b"
             ],
             [
              0.6666666666666666,
              "#ed7953"
             ],
             [
              0.7777777777777778,
              "#fb9f3a"
             ],
             [
              0.8888888888888888,
              "#fdca26"
             ],
             [
              1,
              "#f0f921"
             ]
            ],
            "type": "heatmap"
           }
          ],
          "heatmapgl": [
           {
            "colorbar": {
             "outlinewidth": 0,
             "ticks": ""
            },
            "colorscale": [
             [
              0,
              "#0d0887"
             ],
             [
              0.1111111111111111,
              "#46039f"
             ],
             [
              0.2222222222222222,
              "#7201a8"
             ],
             [
              0.3333333333333333,
              "#9c179e"
             ],
             [
              0.4444444444444444,
              "#bd3786"
             ],
             [
              0.5555555555555556,
              "#d8576b"
             ],
             [
              0.6666666666666666,
              "#ed7953"
             ],
             [
              0.7777777777777778,
              "#fb9f3a"
             ],
             [
              0.8888888888888888,
              "#fdca26"
             ],
             [
              1,
              "#f0f921"
             ]
            ],
            "type": "heatmapgl"
           }
          ],
          "histogram": [
           {
            "marker": {
             "pattern": {
              "fillmode": "overlay",
              "size": 10,
              "solidity": 0.2
             }
            },
            "type": "histogram"
           }
          ],
          "histogram2d": [
           {
            "colorbar": {
             "outlinewidth": 0,
             "ticks": ""
            },
            "colorscale": [
             [
              0,
              "#0d0887"
             ],
             [
              0.1111111111111111,
              "#46039f"
             ],
             [
              0.2222222222222222,
              "#7201a8"
             ],
             [
              0.3333333333333333,
              "#9c179e"
             ],
             [
              0.4444444444444444,
              "#bd3786"
             ],
             [
              0.5555555555555556,
              "#d8576b"
             ],
             [
              0.6666666666666666,
              "#ed7953"
             ],
             [
              0.7777777777777778,
              "#fb9f3a"
             ],
             [
              0.8888888888888888,
              "#fdca26"
             ],
             [
              1,
              "#f0f921"
             ]
            ],
            "type": "histogram2d"
           }
          ],
          "histogram2dcontour": [
           {
            "colorbar": {
             "outlinewidth": 0,
             "ticks": ""
            },
            "colorscale": [
             [
              0,
              "#0d0887"
             ],
             [
              0.1111111111111111,
              "#46039f"
             ],
             [
              0.2222222222222222,
              "#7201a8"
             ],
             [
              0.3333333333333333,
              "#9c179e"
             ],
             [
              0.4444444444444444,
              "#bd3786"
             ],
             [
              0.5555555555555556,
              "#d8576b"
             ],
             [
              0.6666666666666666,
              "#ed7953"
             ],
             [
              0.7777777777777778,
              "#fb9f3a"
             ],
             [
              0.8888888888888888,
              "#fdca26"
             ],
             [
              1,
              "#f0f921"
             ]
            ],
            "type": "histogram2dcontour"
           }
          ],
          "mesh3d": [
           {
            "colorbar": {
             "outlinewidth": 0,
             "ticks": ""
            },
            "type": "mesh3d"
           }
          ],
          "parcoords": [
           {
            "line": {
             "colorbar": {
              "outlinewidth": 0,
              "ticks": ""
             }
            },
            "type": "parcoords"
           }
          ],
          "pie": [
           {
            "automargin": true,
            "type": "pie"
           }
          ],
          "scatter": [
           {
            "fillpattern": {
             "fillmode": "overlay",
             "size": 10,
             "solidity": 0.2
            },
            "type": "scatter"
           }
          ],
          "scatter3d": [
           {
            "line": {
             "colorbar": {
              "outlinewidth": 0,
              "ticks": ""
             }
            },
            "marker": {
             "colorbar": {
              "outlinewidth": 0,
              "ticks": ""
             }
            },
            "type": "scatter3d"
           }
          ],
          "scattercarpet": [
           {
            "marker": {
             "colorbar": {
              "outlinewidth": 0,
              "ticks": ""
             }
            },
            "type": "scattercarpet"
           }
          ],
          "scattergeo": [
           {
            "marker": {
             "colorbar": {
              "outlinewidth": 0,
              "ticks": ""
             }
            },
            "type": "scattergeo"
           }
          ],
          "scattergl": [
           {
            "marker": {
             "colorbar": {
              "outlinewidth": 0,
              "ticks": ""
             }
            },
            "type": "scattergl"
           }
          ],
          "scattermapbox": [
           {
            "marker": {
             "colorbar": {
              "outlinewidth": 0,
              "ticks": ""
             }
            },
            "type": "scattermapbox"
           }
          ],
          "scatterpolar": [
           {
            "marker": {
             "colorbar": {
              "outlinewidth": 0,
              "ticks": ""
             }
            },
            "type": "scatterpolar"
           }
          ],
          "scatterpolargl": [
           {
            "marker": {
             "colorbar": {
              "outlinewidth": 0,
              "ticks": ""
             }
            },
            "type": "scatterpolargl"
           }
          ],
          "scatterternary": [
           {
            "marker": {
             "colorbar": {
              "outlinewidth": 0,
              "ticks": ""
             }
            },
            "type": "scatterternary"
           }
          ],
          "surface": [
           {
            "colorbar": {
             "outlinewidth": 0,
             "ticks": ""
            },
            "colorscale": [
             [
              0,
              "#0d0887"
             ],
             [
              0.1111111111111111,
              "#46039f"
             ],
             [
              0.2222222222222222,
              "#7201a8"
             ],
             [
              0.3333333333333333,
              "#9c179e"
             ],
             [
              0.4444444444444444,
              "#bd3786"
             ],
             [
              0.5555555555555556,
              "#d8576b"
             ],
             [
              0.6666666666666666,
              "#ed7953"
             ],
             [
              0.7777777777777778,
              "#fb9f3a"
             ],
             [
              0.8888888888888888,
              "#fdca26"
             ],
             [
              1,
              "#f0f921"
             ]
            ],
            "type": "surface"
           }
          ],
          "table": [
           {
            "cells": {
             "fill": {
              "color": "#EBF0F8"
             },
             "line": {
              "color": "white"
             }
            },
            "header": {
             "fill": {
              "color": "#C8D4E3"
             },
             "line": {
              "color": "white"
             }
            },
            "type": "table"
           }
          ]
         },
         "layout": {
          "annotationdefaults": {
           "arrowcolor": "#2a3f5f",
           "arrowhead": 0,
           "arrowwidth": 1
          },
          "autotypenumbers": "strict",
          "coloraxis": {
           "colorbar": {
            "outlinewidth": 0,
            "ticks": ""
           }
          },
          "colorscale": {
           "diverging": [
            [
             0,
             "#8e0152"
            ],
            [
             0.1,
             "#c51b7d"
            ],
            [
             0.2,
             "#de77ae"
            ],
            [
             0.3,
             "#f1b6da"
            ],
            [
             0.4,
             "#fde0ef"
            ],
            [
             0.5,
             "#f7f7f7"
            ],
            [
             0.6,
             "#e6f5d0"
            ],
            [
             0.7,
             "#b8e186"
            ],
            [
             0.8,
             "#7fbc41"
            ],
            [
             0.9,
             "#4d9221"
            ],
            [
             1,
             "#276419"
            ]
           ],
           "sequential": [
            [
             0,
             "#0d0887"
            ],
            [
             0.1111111111111111,
             "#46039f"
            ],
            [
             0.2222222222222222,
             "#7201a8"
            ],
            [
             0.3333333333333333,
             "#9c179e"
            ],
            [
             0.4444444444444444,
             "#bd3786"
            ],
            [
             0.5555555555555556,
             "#d8576b"
            ],
            [
             0.6666666666666666,
             "#ed7953"
            ],
            [
             0.7777777777777778,
             "#fb9f3a"
            ],
            [
             0.8888888888888888,
             "#fdca26"
            ],
            [
             1,
             "#f0f921"
            ]
           ],
           "sequentialminus": [
            [
             0,
             "#0d0887"
            ],
            [
             0.1111111111111111,
             "#46039f"
            ],
            [
             0.2222222222222222,
             "#7201a8"
            ],
            [
             0.3333333333333333,
             "#9c179e"
            ],
            [
             0.4444444444444444,
             "#bd3786"
            ],
            [
             0.5555555555555556,
             "#d8576b"
            ],
            [
             0.6666666666666666,
             "#ed7953"
            ],
            [
             0.7777777777777778,
             "#fb9f3a"
            ],
            [
             0.8888888888888888,
             "#fdca26"
            ],
            [
             1,
             "#f0f921"
            ]
           ]
          },
          "colorway": [
           "#636efa",
           "#EF553B",
           "#00cc96",
           "#ab63fa",
           "#FFA15A",
           "#19d3f3",
           "#FF6692",
           "#B6E880",
           "#FF97FF",
           "#FECB52"
          ],
          "font": {
           "color": "#2a3f5f"
          },
          "geo": {
           "bgcolor": "white",
           "lakecolor": "white",
           "landcolor": "#E5ECF6",
           "showlakes": true,
           "showland": true,
           "subunitcolor": "white"
          },
          "hoverlabel": {
           "align": "left"
          },
          "hovermode": "closest",
          "mapbox": {
           "style": "light"
          },
          "paper_bgcolor": "white",
          "plot_bgcolor": "#E5ECF6",
          "polar": {
           "angularaxis": {
            "gridcolor": "white",
            "linecolor": "white",
            "ticks": ""
           },
           "bgcolor": "#E5ECF6",
           "radialaxis": {
            "gridcolor": "white",
            "linecolor": "white",
            "ticks": ""
           }
          },
          "scene": {
           "xaxis": {
            "backgroundcolor": "#E5ECF6",
            "gridcolor": "white",
            "gridwidth": 2,
            "linecolor": "white",
            "showbackground": true,
            "ticks": "",
            "zerolinecolor": "white"
           },
           "yaxis": {
            "backgroundcolor": "#E5ECF6",
            "gridcolor": "white",
            "gridwidth": 2,
            "linecolor": "white",
            "showbackground": true,
            "ticks": "",
            "zerolinecolor": "white"
           },
           "zaxis": {
            "backgroundcolor": "#E5ECF6",
            "gridcolor": "white",
            "gridwidth": 2,
            "linecolor": "white",
            "showbackground": true,
            "ticks": "",
            "zerolinecolor": "white"
           }
          },
          "shapedefaults": {
           "line": {
            "color": "#2a3f5f"
           }
          },
          "ternary": {
           "aaxis": {
            "gridcolor": "white",
            "linecolor": "white",
            "ticks": ""
           },
           "baxis": {
            "gridcolor": "white",
            "linecolor": "white",
            "ticks": ""
           },
           "bgcolor": "#E5ECF6",
           "caxis": {
            "gridcolor": "white",
            "linecolor": "white",
            "ticks": ""
           }
          },
          "title": {
           "x": 0.05
          },
          "xaxis": {
           "automargin": true,
           "gridcolor": "white",
           "linecolor": "white",
           "ticks": "",
           "title": {
            "standoff": 15
           },
           "zerolinecolor": "white",
           "zerolinewidth": 2
          },
          "yaxis": {
           "automargin": true,
           "gridcolor": "white",
           "linecolor": "white",
           "ticks": "",
           "title": {
            "standoff": 15
           },
           "zerolinecolor": "white",
           "zerolinewidth": 2
          }
         }
        },
        "title": {
         "text": "MAPE de la data de test vs Lags"
        },
        "xaxis": {
         "anchor": "y",
         "domain": [
          0,
          1
         ],
         "title": {
          "text": "lag"
         }
        },
        "yaxis": {
         "anchor": "x",
         "domain": [
          0,
          1
         ],
         "title": {
          "text": "mape_test"
         }
        }
       }
      }
     },
     "metadata": {},
     "output_type": "display_data"
    }
   ],
   "source": [
    "fig_mape = px.line(\n",
    "    df_pruebas, x=\"lag\", y=\"mape_test\", title=\"MAPE de la data de test vs Lags\"\n",
    ")\n",
    "\n",
    "fig_mape.show()"
   ]
  },
  {
   "cell_type": "markdown",
   "metadata": {},
   "source": [
    "Usando como métrica de elección el MAPE, vemos que el mejor modelo es con lag = 4\n"
   ]
  },
  {
   "cell_type": "code",
   "execution_count": 7,
   "metadata": {},
   "outputs": [
    {
     "name": "stderr",
     "output_type": "stream",
     "text": [
      "/Users/david/.local/share/virtualenvs/Proyecto-Integrador-Semestre1-8hKWhZbI/lib/python3.11/site-packages/sklearn/linear_model/_coordinate_descent.py:628: ConvergenceWarning:\n",
      "\n",
      "Objective did not converge. You might want to increase the number of iterations, check the scale of the features or consider increasing regularisation. Duality gap: 1.280e+05, tolerance: 1.336e+03\n",
      "\n",
      "/Users/david/.local/share/virtualenvs/Proyecto-Integrador-Semestre1-8hKWhZbI/lib/python3.11/site-packages/sklearn/linear_model/_coordinate_descent.py:628: ConvergenceWarning:\n",
      "\n",
      "Objective did not converge. You might want to increase the number of iterations, check the scale of the features or consider increasing regularisation. Duality gap: 1.295e+05, tolerance: 1.315e+03\n",
      "\n",
      "/Users/david/.local/share/virtualenvs/Proyecto-Integrador-Semestre1-8hKWhZbI/lib/python3.11/site-packages/sklearn/linear_model/_coordinate_descent.py:628: ConvergenceWarning:\n",
      "\n",
      "Objective did not converge. You might want to increase the number of iterations, check the scale of the features or consider increasing regularisation. Duality gap: 1.172e+05, tolerance: 1.430e+03\n",
      "\n",
      "/Users/david/.local/share/virtualenvs/Proyecto-Integrador-Semestre1-8hKWhZbI/lib/python3.11/site-packages/sklearn/linear_model/_coordinate_descent.py:628: ConvergenceWarning:\n",
      "\n",
      "Objective did not converge. You might want to increase the number of iterations, check the scale of the features or consider increasing regularisation. Duality gap: 1.534e+05, tolerance: 1.388e+03\n",
      "\n",
      "/Users/david/.local/share/virtualenvs/Proyecto-Integrador-Semestre1-8hKWhZbI/lib/python3.11/site-packages/sklearn/linear_model/_coordinate_descent.py:628: ConvergenceWarning:\n",
      "\n",
      "Objective did not converge. You might want to increase the number of iterations, check the scale of the features or consider increasing regularisation. Duality gap: 1.043e+05, tolerance: 1.368e+03\n",
      "\n",
      "/Users/david/.local/share/virtualenvs/Proyecto-Integrador-Semestre1-8hKWhZbI/lib/python3.11/site-packages/sklearn/linear_model/_coordinate_descent.py:628: ConvergenceWarning:\n",
      "\n",
      "Objective did not converge. You might want to increase the number of iterations, check the scale of the features or consider increasing regularisation. Duality gap: 1.280e+05, tolerance: 1.336e+03\n",
      "\n",
      "/Users/david/.local/share/virtualenvs/Proyecto-Integrador-Semestre1-8hKWhZbI/lib/python3.11/site-packages/sklearn/linear_model/_coordinate_descent.py:628: ConvergenceWarning:\n",
      "\n",
      "Objective did not converge. You might want to increase the number of iterations, check the scale of the features or consider increasing regularisation. Duality gap: 1.295e+05, tolerance: 1.315e+03\n",
      "\n",
      "/Users/david/.local/share/virtualenvs/Proyecto-Integrador-Semestre1-8hKWhZbI/lib/python3.11/site-packages/sklearn/linear_model/_coordinate_descent.py:628: ConvergenceWarning:\n",
      "\n",
      "Objective did not converge. You might want to increase the number of iterations, check the scale of the features or consider increasing regularisation. Duality gap: 1.173e+05, tolerance: 1.430e+03\n",
      "\n",
      "/Users/david/.local/share/virtualenvs/Proyecto-Integrador-Semestre1-8hKWhZbI/lib/python3.11/site-packages/sklearn/linear_model/_coordinate_descent.py:628: ConvergenceWarning:\n",
      "\n",
      "Objective did not converge. You might want to increase the number of iterations, check the scale of the features or consider increasing regularisation. Duality gap: 1.534e+05, tolerance: 1.388e+03\n",
      "\n",
      "/Users/david/.local/share/virtualenvs/Proyecto-Integrador-Semestre1-8hKWhZbI/lib/python3.11/site-packages/sklearn/linear_model/_coordinate_descent.py:628: ConvergenceWarning:\n",
      "\n",
      "Objective did not converge. You might want to increase the number of iterations, check the scale of the features or consider increasing regularisation. Duality gap: 1.043e+05, tolerance: 1.368e+03\n",
      "\n",
      "/Users/david/.local/share/virtualenvs/Proyecto-Integrador-Semestre1-8hKWhZbI/lib/python3.11/site-packages/sklearn/linear_model/_coordinate_descent.py:628: ConvergenceWarning:\n",
      "\n",
      "Objective did not converge. You might want to increase the number of iterations, check the scale of the features or consider increasing regularisation. Duality gap: 1.701e+05, tolerance: 1.336e+03\n",
      "\n",
      "/Users/david/.local/share/virtualenvs/Proyecto-Integrador-Semestre1-8hKWhZbI/lib/python3.11/site-packages/sklearn/linear_model/_coordinate_descent.py:628: ConvergenceWarning:\n",
      "\n",
      "Objective did not converge. You might want to increase the number of iterations, check the scale of the features or consider increasing regularisation. Duality gap: 1.535e+05, tolerance: 1.315e+03\n",
      "\n",
      "/Users/david/.local/share/virtualenvs/Proyecto-Integrador-Semestre1-8hKWhZbI/lib/python3.11/site-packages/sklearn/linear_model/_coordinate_descent.py:628: ConvergenceWarning:\n",
      "\n",
      "Objective did not converge. You might want to increase the number of iterations, check the scale of the features or consider increasing regularisation. Duality gap: 1.174e+05, tolerance: 1.430e+03\n",
      "\n",
      "/Users/david/.local/share/virtualenvs/Proyecto-Integrador-Semestre1-8hKWhZbI/lib/python3.11/site-packages/sklearn/linear_model/_coordinate_descent.py:628: ConvergenceWarning:\n",
      "\n",
      "Objective did not converge. You might want to increase the number of iterations, check the scale of the features or consider increasing regularisation. Duality gap: 1.324e+05, tolerance: 1.388e+03\n",
      "\n",
      "/Users/david/.local/share/virtualenvs/Proyecto-Integrador-Semestre1-8hKWhZbI/lib/python3.11/site-packages/sklearn/linear_model/_coordinate_descent.py:628: ConvergenceWarning:\n",
      "\n",
      "Objective did not converge. You might want to increase the number of iterations, check the scale of the features or consider increasing regularisation. Duality gap: 5.822e+04, tolerance: 1.368e+03\n",
      "\n"
     ]
    },
    {
     "name": "stdout",
     "output_type": "stream",
     "text": [
      "Best parameters found: {'alpha': 4.281332398719396}\n",
      "Best cross-validation score: 0.9428680668510527\n"
     ]
    },
    {
     "name": "stderr",
     "output_type": "stream",
     "text": [
      "/Users/david/.local/share/virtualenvs/Proyecto-Integrador-Semestre1-8hKWhZbI/lib/python3.11/site-packages/sklearn/linear_model/_coordinate_descent.py:628: ConvergenceWarning:\n",
      "\n",
      "Objective did not converge. You might want to increase the number of iterations, check the scale of the features or consider increasing regularisation. Duality gap: 1.280e+05, tolerance: 1.336e+03\n",
      "\n",
      "/Users/david/.local/share/virtualenvs/Proyecto-Integrador-Semestre1-8hKWhZbI/lib/python3.11/site-packages/sklearn/linear_model/_coordinate_descent.py:628: ConvergenceWarning:\n",
      "\n",
      "Objective did not converge. You might want to increase the number of iterations, check the scale of the features or consider increasing regularisation. Duality gap: 1.295e+05, tolerance: 1.315e+03\n",
      "\n",
      "/Users/david/.local/share/virtualenvs/Proyecto-Integrador-Semestre1-8hKWhZbI/lib/python3.11/site-packages/sklearn/linear_model/_coordinate_descent.py:628: ConvergenceWarning:\n",
      "\n",
      "Objective did not converge. You might want to increase the number of iterations, check the scale of the features or consider increasing regularisation. Duality gap: 1.172e+05, tolerance: 1.430e+03\n",
      "\n",
      "/Users/david/.local/share/virtualenvs/Proyecto-Integrador-Semestre1-8hKWhZbI/lib/python3.11/site-packages/sklearn/linear_model/_coordinate_descent.py:628: ConvergenceWarning:\n",
      "\n",
      "Objective did not converge. You might want to increase the number of iterations, check the scale of the features or consider increasing regularisation. Duality gap: 1.534e+05, tolerance: 1.388e+03\n",
      "\n",
      "/Users/david/.local/share/virtualenvs/Proyecto-Integrador-Semestre1-8hKWhZbI/lib/python3.11/site-packages/sklearn/linear_model/_coordinate_descent.py:628: ConvergenceWarning:\n",
      "\n",
      "Objective did not converge. You might want to increase the number of iterations, check the scale of the features or consider increasing regularisation. Duality gap: 1.043e+05, tolerance: 1.368e+03\n",
      "\n",
      "/Users/david/.local/share/virtualenvs/Proyecto-Integrador-Semestre1-8hKWhZbI/lib/python3.11/site-packages/sklearn/linear_model/_coordinate_descent.py:628: ConvergenceWarning:\n",
      "\n",
      "Objective did not converge. You might want to increase the number of iterations, check the scale of the features or consider increasing regularisation. Duality gap: 1.280e+05, tolerance: 1.336e+03\n",
      "\n",
      "/Users/david/.local/share/virtualenvs/Proyecto-Integrador-Semestre1-8hKWhZbI/lib/python3.11/site-packages/sklearn/linear_model/_coordinate_descent.py:628: ConvergenceWarning:\n",
      "\n",
      "Objective did not converge. You might want to increase the number of iterations, check the scale of the features or consider increasing regularisation. Duality gap: 1.295e+05, tolerance: 1.315e+03\n",
      "\n",
      "/Users/david/.local/share/virtualenvs/Proyecto-Integrador-Semestre1-8hKWhZbI/lib/python3.11/site-packages/sklearn/linear_model/_coordinate_descent.py:628: ConvergenceWarning:\n",
      "\n",
      "Objective did not converge. You might want to increase the number of iterations, check the scale of the features or consider increasing regularisation. Duality gap: 1.173e+05, tolerance: 1.430e+03\n",
      "\n",
      "/Users/david/.local/share/virtualenvs/Proyecto-Integrador-Semestre1-8hKWhZbI/lib/python3.11/site-packages/sklearn/linear_model/_coordinate_descent.py:628: ConvergenceWarning:\n",
      "\n",
      "Objective did not converge. You might want to increase the number of iterations, check the scale of the features or consider increasing regularisation. Duality gap: 1.534e+05, tolerance: 1.388e+03\n",
      "\n",
      "/Users/david/.local/share/virtualenvs/Proyecto-Integrador-Semestre1-8hKWhZbI/lib/python3.11/site-packages/sklearn/linear_model/_coordinate_descent.py:628: ConvergenceWarning:\n",
      "\n",
      "Objective did not converge. You might want to increase the number of iterations, check the scale of the features or consider increasing regularisation. Duality gap: 1.043e+05, tolerance: 1.368e+03\n",
      "\n",
      "/Users/david/.local/share/virtualenvs/Proyecto-Integrador-Semestre1-8hKWhZbI/lib/python3.11/site-packages/sklearn/linear_model/_coordinate_descent.py:628: ConvergenceWarning:\n",
      "\n",
      "Objective did not converge. You might want to increase the number of iterations, check the scale of the features or consider increasing regularisation. Duality gap: 1.701e+05, tolerance: 1.336e+03\n",
      "\n",
      "/Users/david/.local/share/virtualenvs/Proyecto-Integrador-Semestre1-8hKWhZbI/lib/python3.11/site-packages/sklearn/linear_model/_coordinate_descent.py:628: ConvergenceWarning:\n",
      "\n",
      "Objective did not converge. You might want to increase the number of iterations, check the scale of the features or consider increasing regularisation. Duality gap: 1.535e+05, tolerance: 1.315e+03\n",
      "\n",
      "/Users/david/.local/share/virtualenvs/Proyecto-Integrador-Semestre1-8hKWhZbI/lib/python3.11/site-packages/sklearn/linear_model/_coordinate_descent.py:628: ConvergenceWarning:\n",
      "\n",
      "Objective did not converge. You might want to increase the number of iterations, check the scale of the features or consider increasing regularisation. Duality gap: 1.174e+05, tolerance: 1.430e+03\n",
      "\n",
      "/Users/david/.local/share/virtualenvs/Proyecto-Integrador-Semestre1-8hKWhZbI/lib/python3.11/site-packages/sklearn/linear_model/_coordinate_descent.py:628: ConvergenceWarning:\n",
      "\n",
      "Objective did not converge. You might want to increase the number of iterations, check the scale of the features or consider increasing regularisation. Duality gap: 1.324e+05, tolerance: 1.388e+03\n",
      "\n",
      "/Users/david/.local/share/virtualenvs/Proyecto-Integrador-Semestre1-8hKWhZbI/lib/python3.11/site-packages/sklearn/linear_model/_coordinate_descent.py:628: ConvergenceWarning:\n",
      "\n",
      "Objective did not converge. You might want to increase the number of iterations, check the scale of the features or consider increasing regularisation. Duality gap: 5.822e+04, tolerance: 1.368e+03\n",
      "\n"
     ]
    },
    {
     "name": "stdout",
     "output_type": "stream",
     "text": [
      "Mean Squared Error on Test Data: 4491.717646868369\n",
      "Mean Absolute Percentage Error on Test Data: 0.09635002701025151\n",
      "precipitacion_meta: -0.6083826862311931\n",
      "precipitacion_tolima: -0.3398684611828244\n",
      "temp_BOYACA: 0.7548634470789101\n",
      "temp_QUINDIO: 0.5513228659279308\n",
      "temp_VALLE DEL CAUCA: 1.1848023613138532\n",
      "energy_price_lag_1: 1.0748659008294785\n",
      "energy_price_lag_2: 0.06551704316531713\n",
      "energy_price_lag_3: -0.18270983380115788\n",
      "energy_price_lag_4: 0.0007455975748930554\n"
     ]
    }
   ],
   "source": [
    "results = perform_lasso_mlr({\"df\": df, \"lags\": 4})\n",
    "y_pred = results[\"y_pred\"]\n",
    "y_pred_1 = y_pred[1:]\n",
    "y_test = results[\"y_test\"]\n",
    "X_test_dates = results[\"X_test_dates\"]\n",
    "X_train_dates = results[\"X_train_dates\"]\n",
    "y_train = results[\"y_train\"]\n",
    "y_pred_train = results[\"y_pred_train\"]"
   ]
  },
  {
   "cell_type": "code",
   "execution_count": 8,
   "metadata": {},
   "outputs": [
    {
     "data": {
      "application/vnd.plotly.v1+json": {
       "config": {
        "plotlyServerURL": "https://plot.ly"
       },
       "data": [
        {
         "hovertemplate": "x=%{x}<br>y=%{y}<extra></extra>",
         "legendgroup": "",
         "line": {
          "color": "#636efa",
          "dash": "solid"
         },
         "marker": {
          "symbol": "circle"
         },
         "mode": "lines",
         "name": "",
         "orientation": "v",
         "showlegend": false,
         "type": "scatter",
         "x": [
          "2021-10-05",
          "2021-10-06",
          "2021-10-07",
          "2021-10-08",
          "2021-10-09",
          "2021-10-10",
          "2021-10-11",
          "2021-10-12",
          "2021-10-13",
          "2021-10-14",
          "2021-10-15",
          "2021-10-16",
          "2021-10-17",
          "2021-10-18",
          "2021-10-19",
          "2021-10-20",
          "2021-10-21",
          "2021-10-22",
          "2021-10-23",
          "2021-10-24",
          "2021-10-25",
          "2021-10-26",
          "2021-10-27",
          "2021-10-28",
          "2021-10-29",
          "2021-10-30",
          "2021-10-31",
          "2021-11-01",
          "2021-11-02",
          "2021-11-03",
          "2021-11-04",
          "2021-11-05",
          "2021-11-06",
          "2021-11-07",
          "2021-11-08",
          "2021-11-09",
          "2021-12-04",
          "2021-12-05",
          "2021-12-06",
          "2021-12-07",
          "2021-12-08",
          "2021-12-09",
          "2021-12-10",
          "2021-12-11",
          "2021-12-12",
          "2021-12-13",
          "2021-12-14",
          "2021-12-15",
          "2021-12-16",
          "2021-12-17",
          "2021-12-18",
          "2021-12-19",
          "2021-12-20",
          "2021-12-21",
          "2021-12-22",
          "2021-12-23",
          "2021-12-24",
          "2021-12-25",
          "2021-12-26",
          "2021-12-27",
          "2021-12-28",
          "2021-12-29",
          "2021-12-30",
          "2021-12-31",
          "2022-02-01",
          "2022-02-02",
          "2022-02-03",
          "2022-02-04",
          "2022-02-05",
          "2022-02-06",
          "2022-02-07",
          "2022-02-08",
          "2022-02-09",
          "2022-02-10",
          "2022-02-11",
          "2022-02-12",
          "2022-02-13",
          "2022-02-14",
          "2022-02-15",
          "2022-02-16",
          "2022-02-17",
          "2022-02-18",
          "2022-02-19",
          "2022-02-20",
          "2022-02-21",
          "2022-02-22",
          "2022-02-23",
          "2022-02-24",
          "2022-02-25",
          "2022-02-26",
          "2022-02-27",
          "2022-02-28",
          "2022-04-01",
          "2022-04-02",
          "2022-04-03",
          "2022-04-04",
          "2022-04-05",
          "2022-04-06",
          "2022-04-07",
          "2022-04-08",
          "2022-04-09",
          "2022-04-10",
          "2022-04-11",
          "2022-04-12",
          "2022-04-13",
          "2022-04-14",
          "2022-04-15",
          "2022-04-16",
          "2022-04-17",
          "2022-04-18",
          "2022-04-19",
          "2022-04-20",
          "2022-04-21",
          "2022-04-22",
          "2022-04-23",
          "2022-04-24",
          "2022-04-25",
          "2022-04-26",
          "2022-04-27",
          "2022-04-28",
          "2022-04-29",
          "2022-04-30",
          "2022-05-01",
          "2022-05-02",
          "2022-05-03",
          "2022-05-04",
          "2022-05-05",
          "2022-05-06",
          "2022-05-07",
          "2022-05-08",
          "2022-05-09",
          "2022-05-10",
          "2022-05-11",
          "2022-05-12",
          "2022-05-13",
          "2022-05-14",
          "2022-05-15",
          "2022-05-16",
          "2022-05-17",
          "2022-05-18",
          "2022-05-19",
          "2022-05-20",
          "2022-05-21",
          "2022-05-22",
          "2022-05-23",
          "2022-05-24",
          "2022-05-25",
          "2022-05-26",
          "2022-05-27",
          "2022-05-28",
          "2022-05-29",
          "2022-05-30",
          "2022-05-31",
          "2022-06-01",
          "2022-06-02",
          "2022-06-03",
          "2022-06-04",
          "2022-06-05",
          "2022-06-06",
          "2022-06-07",
          "2022-06-08",
          "2022-06-09",
          "2022-06-10",
          "2022-06-11",
          "2022-06-12",
          "2022-06-13",
          "2022-06-14",
          "2022-06-15",
          "2022-06-16",
          "2022-06-17",
          "2022-06-18",
          "2022-06-19",
          "2022-06-20",
          "2022-06-21",
          "2022-06-22",
          "2022-06-23",
          "2022-06-24",
          "2022-06-25",
          "2022-06-26",
          "2022-06-27",
          "2022-06-28",
          "2022-06-29",
          "2022-06-30",
          "2022-07-01",
          "2022-07-02",
          "2022-07-03",
          "2022-07-04",
          "2022-07-05",
          "2022-07-06",
          "2022-07-07",
          "2022-07-08",
          "2022-07-09",
          "2022-07-10",
          "2022-07-11",
          "2022-07-12",
          "2022-07-13",
          "2022-07-14",
          "2022-07-15",
          "2022-07-16",
          "2022-07-17",
          "2022-07-18",
          "2022-07-19",
          "2022-07-20",
          "2022-07-21",
          "2022-07-22",
          "2022-07-23",
          "2022-07-24",
          "2022-07-25",
          "2022-07-26",
          "2022-07-27",
          "2022-07-28",
          "2022-07-29",
          "2022-07-30",
          "2022-07-31",
          "2022-08-01",
          "2022-08-02",
          "2022-08-03",
          "2022-08-04",
          "2022-08-05",
          "2022-08-06",
          "2022-08-07",
          "2022-08-08",
          "2022-08-09",
          "2022-08-10",
          "2022-08-11",
          "2022-08-12",
          "2022-08-13",
          "2022-08-14",
          "2022-08-15",
          "2022-08-16",
          "2022-08-17",
          "2022-08-18",
          "2022-08-19",
          "2022-08-20",
          "2022-08-21",
          "2022-08-22",
          "2022-08-23",
          "2022-08-24",
          "2022-08-25",
          "2022-08-26",
          "2022-08-27",
          "2022-08-28",
          "2022-08-29",
          "2022-08-30",
          "2022-08-31",
          "2022-09-01",
          "2022-09-02",
          "2022-09-03",
          "2022-09-04",
          "2022-09-05",
          "2022-09-06",
          "2022-09-07",
          "2022-09-08",
          "2022-09-09",
          "2022-09-10",
          "2022-09-11",
          "2022-09-12",
          "2022-09-13",
          "2022-09-14",
          "2022-09-15",
          "2022-09-16",
          "2022-09-17",
          "2022-09-18",
          "2022-09-19",
          "2022-09-20",
          "2022-09-21",
          "2022-09-22",
          "2022-09-23",
          "2022-09-24",
          "2022-09-25",
          "2022-09-26",
          "2022-09-27",
          "2022-09-28",
          "2022-09-29",
          "2022-09-30",
          "2022-10-01",
          "2022-10-02",
          "2022-10-03",
          "2022-10-04",
          "2022-10-05",
          "2022-10-06",
          "2022-10-07",
          "2022-10-08",
          "2022-10-09",
          "2022-10-10",
          "2022-10-11",
          "2022-10-12",
          "2022-10-13",
          "2022-10-14",
          "2022-10-15",
          "2022-10-16",
          "2022-10-17",
          "2022-10-18",
          "2022-10-19",
          "2022-10-20",
          "2022-10-21",
          "2022-10-22",
          "2022-10-23",
          "2022-10-24",
          "2022-10-25",
          "2022-10-26",
          "2022-10-27",
          "2022-10-28",
          "2022-10-29",
          "2022-10-30",
          "2022-10-31",
          "2022-11-01",
          "2022-11-02",
          "2022-11-03",
          "2022-11-04",
          "2022-11-05",
          "2022-11-06",
          "2022-11-07",
          "2022-11-08",
          "2022-11-09",
          "2022-11-10",
          "2022-11-11",
          "2022-11-12",
          "2022-11-13",
          "2022-11-14",
          "2022-11-15",
          "2022-11-16",
          "2022-11-17",
          "2022-11-18",
          "2022-11-19",
          "2022-11-20",
          "2022-11-21",
          "2022-11-22",
          "2022-11-23",
          "2022-11-24",
          "2022-11-25",
          "2022-11-26",
          "2022-11-27",
          "2022-11-28",
          "2022-11-29",
          "2022-11-30",
          "2022-12-01",
          "2022-12-02",
          "2022-12-03",
          "2022-12-04",
          "2022-12-05",
          "2022-12-06",
          "2022-12-07",
          "2022-12-08",
          "2022-12-09",
          "2022-12-10",
          "2022-12-11",
          "2022-12-12",
          "2022-12-13",
          "2022-12-14",
          "2022-12-15",
          "2022-12-16",
          "2022-12-17",
          "2022-12-18",
          "2022-12-19",
          "2022-12-20",
          "2022-12-21",
          "2022-12-22",
          "2022-12-23",
          "2022-12-24",
          "2022-12-25",
          "2022-12-26",
          "2022-12-27",
          "2022-12-28",
          "2022-12-29",
          "2022-12-30",
          "2022-12-31",
          "2023-01-01",
          "2023-01-02",
          "2023-01-03",
          "2023-01-04",
          "2023-01-05",
          "2023-01-06",
          "2023-01-07",
          "2023-01-08",
          "2023-01-09",
          "2023-01-10",
          "2023-01-11",
          "2023-01-12",
          "2023-01-13",
          "2023-01-14",
          "2023-01-15",
          "2023-01-16",
          "2023-01-17",
          "2023-01-18",
          "2023-01-19",
          "2023-01-20",
          "2023-01-21",
          "2023-01-22",
          "2023-01-23",
          "2023-01-24",
          "2023-01-25",
          "2023-01-26",
          "2023-01-27",
          "2023-01-28",
          "2023-01-29",
          "2023-01-30",
          "2023-01-31",
          "2023-02-01",
          "2023-02-02",
          "2023-02-03",
          "2023-02-04",
          "2023-02-05",
          "2023-02-06",
          "2023-02-07",
          "2023-02-08",
          "2023-02-09",
          "2023-02-10",
          "2023-02-11",
          "2023-02-12",
          "2023-02-13",
          "2023-02-14",
          "2023-02-15",
          "2023-02-16",
          "2023-02-17",
          "2023-02-18",
          "2023-02-19",
          "2023-02-20",
          "2023-02-21",
          "2023-02-22",
          "2023-02-23",
          "2023-02-24",
          "2023-02-25",
          "2023-02-26",
          "2023-02-27",
          "2023-02-28",
          "2023-03-01",
          "2023-03-02",
          "2023-03-03",
          "2023-03-04",
          "2023-03-05",
          "2023-03-06",
          "2023-03-07",
          "2023-03-08",
          "2023-03-09",
          "2023-03-10",
          "2023-03-11",
          "2023-03-12",
          "2023-03-13",
          "2023-03-14",
          "2023-03-15",
          "2023-03-16",
          "2023-03-17",
          "2023-03-18",
          "2023-03-19",
          "2023-03-20",
          "2023-03-21",
          "2023-03-22",
          "2023-03-23",
          "2023-03-24",
          "2023-03-25",
          "2023-03-26",
          "2023-03-27",
          "2023-03-28",
          "2023-03-29",
          "2023-03-30",
          "2023-03-31",
          "2023-04-01",
          "2023-04-02",
          "2023-04-03",
          "2023-04-04",
          "2023-04-05",
          "2023-04-06",
          "2023-04-07",
          "2023-04-08",
          "2023-04-09",
          "2023-04-10",
          "2023-04-11",
          "2023-04-12",
          "2023-04-13",
          "2023-04-14",
          "2023-04-15",
          "2023-04-16",
          "2023-04-17",
          "2023-04-18",
          "2023-04-19",
          "2023-04-20",
          "2023-04-21",
          "2023-04-22",
          "2023-04-23",
          "2023-04-24",
          "2023-04-25",
          "2023-04-26",
          "2023-04-27",
          "2023-04-28",
          "2023-04-29",
          "2023-04-30",
          "2023-05-01",
          "2023-05-02",
          "2023-05-03",
          "2023-05-04",
          "2023-05-05",
          "2023-05-06",
          "2023-05-07",
          "2023-05-08",
          "2023-05-09",
          "2023-05-10",
          "2023-05-11",
          "2023-05-12",
          "2023-05-13",
          "2023-05-14",
          "2023-05-15",
          "2023-05-16",
          "2023-05-17",
          "2023-05-18",
          "2023-05-19",
          "2023-05-20",
          "2023-05-21",
          "2023-05-22",
          "2023-05-23",
          "2023-05-24",
          "2023-05-25",
          "2023-05-26",
          "2023-05-27",
          "2023-05-28",
          "2023-05-29",
          "2023-05-30",
          "2023-05-31",
          "2023-06-01",
          "2023-06-02",
          "2023-06-03",
          "2023-06-04",
          "2023-06-05",
          "2023-06-06",
          "2023-06-07",
          "2023-06-08",
          "2023-06-09",
          "2023-06-10",
          "2023-06-11",
          "2023-06-12",
          "2023-06-13",
          "2023-06-14",
          "2023-06-15",
          "2023-06-16",
          "2023-06-17",
          "2023-06-18",
          "2023-06-19",
          "2023-06-20",
          "2023-06-21",
          "2023-06-22",
          "2023-06-23",
          "2023-06-24",
          "2023-06-25",
          "2023-06-26",
          "2023-06-27",
          "2023-06-28",
          "2023-06-29",
          "2023-06-30"
         ],
         "xaxis": "x",
         "y": [
          278.1573253050167,
          261.47478813811665,
          235.8578475715167,
          229.31369943006663,
          219.45373283245,
          221.3451706969,
          225.09564642043333,
          223.12400189323333,
          208.5310715933,
          205.49424441326667,
          191.49858928411663,
          220.47191454488333,
          217.18447309706664,
          224.3223786053,
          240.05390966315,
          230.8898302425833,
          233.90920963756665,
          219.95736327173333,
          227.0308241033167,
          225.43219828715,
          227.4629556154333,
          214.0555688441167,
          200.8129511227,
          178.55722956681666,
          164.81647099756665,
          156.69595607803333,
          144.55619944011667,
          196.1848923010667,
          179.53787584173335,
          191.5018679344333,
          204.6111244799,
          200.5725120208,
          256.2079004091333,
          260.8138438411333,
          276.6830923548334,
          266.5984259776667,
          136.6151858857818,
          117.24140896644543,
          121.51404160410002,
          121.6087580619182,
          108.22972705617272,
          87.89678992392727,
          89.27961680499091,
          108.53990185171818,
          118.21287444517272,
          111.14315469432728,
          122.19192887397271,
          110.90622682725456,
          133.1954516644909,
          101.0222214665909,
          87.27784124622727,
          120.52724612992728,
          92.87421484555456,
          146.43394283750908,
          93.1630433407909,
          96.7735746118182,
          89.94239193313636,
          143.18719735811817,
          116.92075688436364,
          157.13289017218182,
          152.07792464679093,
          87.84928888169091,
          87.2552652234,
          87.56022412385454,
          574.83258567045,
          629.7531057923417,
          679.9537093796583,
          634.9486685760917,
          676.1453291944416,
          643.9751053751584,
          620.814194177125,
          556.7702112882668,
          481.7579258179833,
          422.86486397302497,
          364.557442976475,
          326.4741861571584,
          301.00230614165,
          347.09892871436665,
          343.44634212346665,
          339.2693636982833,
          316.8355334437084,
          318.4731121828583,
          303.47578139025,
          251.4285172684833,
          264.8336916230333,
          276.18328724943336,
          251.73531832876665,
          254.4742618483,
          242.8627564248833,
          251.3768528994167,
          239.15948298125,
          260.9013410045083,
          281.5059189245,
          236.7869147359333,
          148.96921426266667,
          175.25489261403334,
          198.21258047786668,
          191.269641414,
          262.9679488746333,
          155.8071632446,
          137.5929980581,
          124.94512254126666,
          138.55301482326666,
          129.71389086443335,
          132.89685578906668,
          121.88155799143333,
          106.9985935555,
          119.3985517558,
          109.60444239173334,
          138.77986288393336,
          186.71705213186667,
          145.06817902276666,
          134.4925834134667,
          114.9664079618,
          113.20638320070002,
          103.0190299081,
          101.22364771776668,
          106.0412902624,
          102.30829282893336,
          99.71598971303332,
          98.04276491406668,
          97.2173048629,
          96.83827014536666,
          98.6379675325,
          107.2514839083,
          133.7742698964,
          105.65651377003331,
          113.27988722723336,
          113.8085308241,
          109.56083914033331,
          102.96900438663332,
          107.4390905947,
          101.1283887161,
          100.3626710419,
          101.05507902326669,
          99.74965688743332,
          97.12685273583334,
          99.40693027983332,
          112.80171103206663,
          142.54899225213333,
          122.09234755316668,
          114.01577582223332,
          107.99845906976668,
          94.75545614193334,
          95.95410778386666,
          106.06156648843334,
          99.43857048456664,
          99.34446187036669,
          96.4486104796,
          95.86535293636666,
          96.55537735836668,
          96.52268669623334,
          95.4407350809,
          116.1275333405,
          104.4060742114,
          108.0229956427,
          103.76284299763334,
          101.2739031386,
          100.48935112566666,
          101.40952613713334,
          121.1464483358,
          107.04807132056663,
          107.43016573476666,
          105.99686014256667,
          103.56202369573332,
          101.47641312326664,
          101.89960776553336,
          102.13507965583334,
          102.21124502283334,
          101.50237157996668,
          100.51498157946666,
          100.08371477456666,
          97.7506625949,
          100.3569359424,
          105.6404049115,
          105.6461192301,
          102.3262533412,
          101.8994299161,
          103.3703179925,
          103.3026652704,
          102.222442387,
          104.28034345133334,
          103.67066312459998,
          103.41403763763331,
          104.30740167706666,
          101.36174571706668,
          104.56054160253336,
          104.50061156463332,
          105.48758301280002,
          108.24356443263332,
          105.90673284506666,
          109.7795287026,
          106.86524920756666,
          105.30795695463333,
          116.69532424916667,
          115.43205907413332,
          112.10918490053332,
          111.33500351683334,
          109.92047648036667,
          106.8036185547,
          120.46574198646664,
          118.69847274987085,
          106.74612964343332,
          107.12883518253334,
          103.49754494713332,
          103.7533367619,
          110.8507938536,
          107.63556779026668,
          130.636103706,
          106.4125778344,
          104.6208226925,
          109.89856387833332,
          106.2849330042,
          118.86402266526666,
          111.59073378603334,
          106.7048689376,
          112.1731836856,
          112.15362635406666,
          110.53839589653334,
          109.74198797543332,
          105.67941845366666,
          106.33572189046669,
          108.32807527056669,
          107.4484264971,
          107.8097583792,
          109.44817734046669,
          107.64706501696666,
          109.50142468013333,
          107.62571206213332,
          120.4719799521,
          147.56621963536668,
          119.15620876793332,
          125.89817941953334,
          108.6342623397,
          107.70839305636667,
          134.44052801216665,
          127.7737671822,
          167.67082691546668,
          202.77125651136663,
          236.2440918179,
          253.56647582180003,
          266.64281586826667,
          287.2065065897333,
          303.3401654812667,
          334.38045994973334,
          321.8879914711667,
          335.2388359877333,
          287.4074633302667,
          202.1438682634333,
          200.7256060527,
          210.3076924658667,
          201.5815019135,
          191.34755633673333,
          208.70656760263333,
          211.3363892950333,
          137.3675665684,
          209.80917733650003,
          271.8992538987333,
          332.5957400667333,
          434.0241668406,
          411.3418113613666,
          337.5237664415333,
          224.91087308343333,
          277.2270228648667,
          272.4116762438333,
          248.00393778426667,
          224.00260369696664,
          226.6025098270333,
          199.5820167503333,
          182.94380346596665,
          241.63649198756664,
          232.83510477666664,
          217.99648210433327,
          226.1721893805,
          239.35278300783327,
          151.60885155484445,
          152.49832810744445,
          156.38026261383334,
          169.8222878902889,
          176.7718551801778,
          177.1811389441222,
          172.6624002974,
          169.63443993466666,
          143.7311005684,
          177.15813917670002,
          195.73022481595555,
          185.574100134,
          177.50878236513333,
          178.56915131524443,
          169.0318371276,
          184.7431704089556,
          167.52188848586667,
          177.09594684367778,
          239.9145777426,
          210.1743305757111,
          219.63003686292225,
          175.20620168814446,
          133.85079334356666,
          147.8419875748889,
          158.64012517214445,
          177.9900003762222,
          166.35782411813335,
          169.70481861215555,
          120.35219211326664,
          101.11268580731112,
          121.37945495417776,
          200.736745175,
          224.36854415936668,
          223.58489587013327,
          180.38691703296664,
          173.37009246173332,
          114.2126595499,
          161.54418318086667,
          181.375653051,
          187.5463017727333,
          185.5893434249,
          165.87799864439998,
          167.9971178559,
          167.74615571763334,
          136.1720299063,
          160.05898493060002,
          165.7053903319,
          164.309055247,
          113.8978657953,
          121.39357856603334,
          111.50842822936666,
          121.96276779793334,
          164.3267622455,
          173.01798024863334,
          184.584252135,
          219.5569739768,
          248.80812348596663,
          251.23229482346665,
          274.012303675,
          286.1381870071,
          311.2777561574666,
          325.65837087483334,
          335.3460165459333,
          337.02038819176664,
          256.9089107462,
          299.0853359828333,
          246.8713280410333,
          253.4154844247333,
          242.2272007749,
          212.5537550452333,
          236.70622378776667,
          244.2799634802333,
          244.0393092397333,
          258.01204906566664,
          270.56638503663333,
          285.31787186746664,
          283.271270214,
          273.05082591086665,
          287.3321921675667,
          322.7368456294,
          326.2849457738,
          357.1352101584,
          400.58238712803336,
          419.113694959,
          420.61965224836666,
          429.7334954217333,
          444.5355751137667,
          467.5575736797,
          509.2616914702666,
          507.7130395607667,
          450.7930971015,
          523.0726980822,
          499.7962119735334,
          510.8509979227,
          531.0305672357,
          556.6253745001333,
          560.9106826756333,
          526.6652148232333,
          503.1934809124,
          415.8064971809,
          432.61928971466665,
          381.8508350045667,
          436.0338762112333,
          309.3528225253,
          256.55275899496667,
          250.0275534853,
          212.65986900166664,
          204.8056496120333,
          216.1465712030333,
          250.5803743439,
          235.7702636137,
          243.2981734820333,
          202.968121683,
          194.94165071756663,
          243.9196906469667,
          250.93103278116664,
          277.9080973694,
          348.9216554459333,
          375.9744406195,
          396.3932978743333,
          452.8826199384334,
          568.7788272762333,
          675.0510164512666,
          768.6838144923667,
          721.5205503904334,
          794.9294052108667,
          799.9009328050333,
          741.8818057063332,
          569.4053375572,
          682.3372145263667,
          621.2968903492666,
          561.624488399,
          556.9092336778667,
          604.8585322595667,
          573.2946676894334,
          572.7660878618666,
          562.8534410486667,
          547.7789099221001,
          515.8515977783667,
          496.16126738863335,
          429.38230709373335,
          418.8577930926001,
          410.9205700374,
          423.7087455614333,
          351.6163010174667,
          372.57516342446667,
          361.4122095290333,
          297.97839228056665,
          315.511962764,
          319.4327370885333,
          366.6270357873,
          374.0731976343666,
          372.13955998246666,
          435.5328814148666,
          450.0135043289333,
          463.7545105165,
          501.8976104556,
          487.8137558528,
          470.94714484176666,
          431.3983143267,
          313.6173168691667,
          312.0133821560333,
          287.9145897603,
          234.20115136966663,
          185.5636310353,
          164.92299893443334,
          168.05130423886666,
          219.3029585301,
          203.53429561523333,
          163.73357652546667,
          234.4922552514,
          291.23608951746667,
          341.55839888603333,
          321.62533798656665,
          329.27193836323335,
          236.03052647476667,
          186.2669153527333,
          180.38245627016667,
          188.87672340606665,
          153.32040885503335,
          168.90205633026667,
          163.32335787553333,
          149.59529507336666,
          153.88823286206664,
          147.18555320043333,
          150.28855113836667,
          144.2343309941,
          139.88260143969998,
          133.9439032891,
          141.84049052946668,
          133.08015810536668,
          143.43973677953332,
          145.75005667423332,
          263.44543922816666,
          242.1994135678,
          242.84623382786663,
          214.800520733,
          212.02258143863327,
          294.0202761736667,
          290.9840322788,
          262.3251726828,
          303.79650600099995,
          319.6270939814333,
          334.2317397834,
          341.2148204153,
          343.05637368949994,
          333.4545873304,
          323.327413014,
          249.317842336,
          254.6826009834,
          186.79008909516668,
          210.5781809513333,
          189.01870382113336,
          240.7723909257,
          255.105191346,
          257.89916929463334,
          321.68339539606666,
          321.9544497141,
          354.5173310422333,
          404.3975417612,
          514.3697640661667,
          582.1855448730333,
          629.9293873606,
          639.0584256112,
          692.2176118567,
          682.7860478941999,
          727.0558307901,
          776.6545298109668,
          811.1855775365999,
          820.3688887720333,
          834.1325286478333,
          836.8465536497333,
          781.1399254179,
          789.4337239329667,
          801.7243562416,
          741.2614393731333,
          765.2225726731334,
          669.8191737313,
          650.3343199944667,
          450.5935416651666,
          374.3725136908333,
          385.6183086151,
          360.3704527560666,
          308.91654787276667,
          253.708678186,
          246.6326825770333,
          206.9850470411333,
          266.10522138560003,
          302.2922313390667,
          346.08643039783334,
          329.4370321681333,
          310.7298592868,
          292.0219092928,
          281.5663019065667,
          295.7395729818666,
          327.5229819927,
          352.6390978964,
          363.4437399086334,
          409.9441384222,
          440.87588160436667,
          499.2802866515333,
          568.8711079990334,
          602.020597139,
          739.7786245499334,
          749.1596229890333,
          846.8458569028667,
          888.3327651133667,
          715.754742528,
          685.7912672841334,
          598.3499218381334,
          612.2174932613667,
          472.8369474031333,
          516.2033960732334
         ],
         "yaxis": "y"
        },
        {
         "mode": "lines",
         "name": "Valores predichos de train",
         "type": "scatter",
         "x": [
          "2021-10-05",
          "2021-10-06",
          "2021-10-07",
          "2021-10-08",
          "2021-10-09",
          "2021-10-10",
          "2021-10-11",
          "2021-10-12",
          "2021-10-13",
          "2021-10-14",
          "2021-10-15",
          "2021-10-16",
          "2021-10-17",
          "2021-10-18",
          "2021-10-19",
          "2021-10-20",
          "2021-10-21",
          "2021-10-22",
          "2021-10-23",
          "2021-10-24",
          "2021-10-25",
          "2021-10-26",
          "2021-10-27",
          "2021-10-28",
          "2021-10-29",
          "2021-10-30",
          "2021-10-31",
          "2021-11-01",
          "2021-11-02",
          "2021-11-03",
          "2021-11-04",
          "2021-11-05",
          "2021-11-06",
          "2021-11-07",
          "2021-11-08",
          "2021-11-09",
          "2021-12-04",
          "2021-12-05",
          "2021-12-06",
          "2021-12-07",
          "2021-12-08",
          "2021-12-09",
          "2021-12-10",
          "2021-12-11",
          "2021-12-12",
          "2021-12-13",
          "2021-12-14",
          "2021-12-15",
          "2021-12-16",
          "2021-12-17",
          "2021-12-18",
          "2021-12-19",
          "2021-12-20",
          "2021-12-21",
          "2021-12-22",
          "2021-12-23",
          "2021-12-24",
          "2021-12-25",
          "2021-12-26",
          "2021-12-27",
          "2021-12-28",
          "2021-12-29",
          "2021-12-30",
          "2021-12-31",
          "2022-02-01",
          "2022-02-02",
          "2022-02-03",
          "2022-02-04",
          "2022-02-05",
          "2022-02-06",
          "2022-02-07",
          "2022-02-08",
          "2022-02-09",
          "2022-02-10",
          "2022-02-11",
          "2022-02-12",
          "2022-02-13",
          "2022-02-14",
          "2022-02-15",
          "2022-02-16",
          "2022-02-17",
          "2022-02-18",
          "2022-02-19",
          "2022-02-20",
          "2022-02-21",
          "2022-02-22",
          "2022-02-23",
          "2022-02-24",
          "2022-02-25",
          "2022-02-26",
          "2022-02-27",
          "2022-02-28",
          "2022-04-01",
          "2022-04-02",
          "2022-04-03",
          "2022-04-04",
          "2022-04-05",
          "2022-04-06",
          "2022-04-07",
          "2022-04-08",
          "2022-04-09",
          "2022-04-10",
          "2022-04-11",
          "2022-04-12",
          "2022-04-13",
          "2022-04-14",
          "2022-04-15",
          "2022-04-16",
          "2022-04-17",
          "2022-04-18",
          "2022-04-19",
          "2022-04-20",
          "2022-04-21",
          "2022-04-22",
          "2022-04-23",
          "2022-04-24",
          "2022-04-25",
          "2022-04-26",
          "2022-04-27",
          "2022-04-28",
          "2022-04-29",
          "2022-04-30",
          "2022-05-01",
          "2022-05-02",
          "2022-05-03",
          "2022-05-04",
          "2022-05-05",
          "2022-05-06",
          "2022-05-07",
          "2022-05-08",
          "2022-05-09",
          "2022-05-10",
          "2022-05-11",
          "2022-05-12",
          "2022-05-13",
          "2022-05-14",
          "2022-05-15",
          "2022-05-16",
          "2022-05-17",
          "2022-05-18",
          "2022-05-19",
          "2022-05-20",
          "2022-05-21",
          "2022-05-22",
          "2022-05-23",
          "2022-05-24",
          "2022-05-25",
          "2022-05-26",
          "2022-05-27",
          "2022-05-28",
          "2022-05-29",
          "2022-05-30",
          "2022-05-31",
          "2022-06-01",
          "2022-06-02",
          "2022-06-03",
          "2022-06-04",
          "2022-06-05",
          "2022-06-06",
          "2022-06-07",
          "2022-06-08",
          "2022-06-09",
          "2022-06-10",
          "2022-06-11",
          "2022-06-12",
          "2022-06-13",
          "2022-06-14",
          "2022-06-15",
          "2022-06-16",
          "2022-06-17",
          "2022-06-18",
          "2022-06-19",
          "2022-06-20",
          "2022-06-21",
          "2022-06-22",
          "2022-06-23",
          "2022-06-24",
          "2022-06-25",
          "2022-06-26",
          "2022-06-27",
          "2022-06-28",
          "2022-06-29",
          "2022-06-30",
          "2022-07-01",
          "2022-07-02",
          "2022-07-03",
          "2022-07-04",
          "2022-07-05",
          "2022-07-06",
          "2022-07-07",
          "2022-07-08",
          "2022-07-09",
          "2022-07-10",
          "2022-07-11",
          "2022-07-12",
          "2022-07-13",
          "2022-07-14",
          "2022-07-15",
          "2022-07-16",
          "2022-07-17",
          "2022-07-18",
          "2022-07-19",
          "2022-07-20",
          "2022-07-21",
          "2022-07-22",
          "2022-07-23",
          "2022-07-24",
          "2022-07-25",
          "2022-07-26",
          "2022-07-27",
          "2022-07-28",
          "2022-07-29",
          "2022-07-30",
          "2022-07-31",
          "2022-08-01",
          "2022-08-02",
          "2022-08-03",
          "2022-08-04",
          "2022-08-05",
          "2022-08-06",
          "2022-08-07",
          "2022-08-08",
          "2022-08-09",
          "2022-08-10",
          "2022-08-11",
          "2022-08-12",
          "2022-08-13",
          "2022-08-14",
          "2022-08-15",
          "2022-08-16",
          "2022-08-17",
          "2022-08-18",
          "2022-08-19",
          "2022-08-20",
          "2022-08-21",
          "2022-08-22",
          "2022-08-23",
          "2022-08-24",
          "2022-08-25",
          "2022-08-26",
          "2022-08-27",
          "2022-08-28",
          "2022-08-29",
          "2022-08-30",
          "2022-08-31",
          "2022-09-01",
          "2022-09-02",
          "2022-09-03",
          "2022-09-04",
          "2022-09-05",
          "2022-09-06",
          "2022-09-07",
          "2022-09-08",
          "2022-09-09",
          "2022-09-10",
          "2022-09-11",
          "2022-09-12",
          "2022-09-13",
          "2022-09-14",
          "2022-09-15",
          "2022-09-16",
          "2022-09-17",
          "2022-09-18",
          "2022-09-19",
          "2022-09-20",
          "2022-09-21",
          "2022-09-22",
          "2022-09-23",
          "2022-09-24",
          "2022-09-25",
          "2022-09-26",
          "2022-09-27",
          "2022-09-28",
          "2022-09-29",
          "2022-09-30",
          "2022-10-01",
          "2022-10-02",
          "2022-10-03",
          "2022-10-04",
          "2022-10-05",
          "2022-10-06",
          "2022-10-07",
          "2022-10-08",
          "2022-10-09",
          "2022-10-10",
          "2022-10-11",
          "2022-10-12",
          "2022-10-13",
          "2022-10-14",
          "2022-10-15",
          "2022-10-16",
          "2022-10-17",
          "2022-10-18",
          "2022-10-19",
          "2022-10-20",
          "2022-10-21",
          "2022-10-22",
          "2022-10-23",
          "2022-10-24",
          "2022-10-25",
          "2022-10-26",
          "2022-10-27",
          "2022-10-28",
          "2022-10-29",
          "2022-10-30",
          "2022-10-31",
          "2022-11-01",
          "2022-11-02",
          "2022-11-03",
          "2022-11-04",
          "2022-11-05",
          "2022-11-06",
          "2022-11-07",
          "2022-11-08",
          "2022-11-09",
          "2022-11-10",
          "2022-11-11",
          "2022-11-12",
          "2022-11-13",
          "2022-11-14",
          "2022-11-15",
          "2022-11-16",
          "2022-11-17",
          "2022-11-18",
          "2022-11-19",
          "2022-11-20",
          "2022-11-21",
          "2022-11-22",
          "2022-11-23",
          "2022-11-24",
          "2022-11-25",
          "2022-11-26",
          "2022-11-27",
          "2022-11-28",
          "2022-11-29",
          "2022-11-30",
          "2022-12-01",
          "2022-12-02",
          "2022-12-03",
          "2022-12-04",
          "2022-12-05",
          "2022-12-06",
          "2022-12-07",
          "2022-12-08",
          "2022-12-09",
          "2022-12-10",
          "2022-12-11",
          "2022-12-12",
          "2022-12-13",
          "2022-12-14",
          "2022-12-15",
          "2022-12-16",
          "2022-12-17",
          "2022-12-18",
          "2022-12-19",
          "2022-12-20",
          "2022-12-21",
          "2022-12-22",
          "2022-12-23",
          "2022-12-24",
          "2022-12-25",
          "2022-12-26",
          "2022-12-27",
          "2022-12-28",
          "2022-12-29",
          "2022-12-30",
          "2022-12-31",
          "2023-01-01",
          "2023-01-02",
          "2023-01-03",
          "2023-01-04",
          "2023-01-05",
          "2023-01-06",
          "2023-01-07",
          "2023-01-08",
          "2023-01-09",
          "2023-01-10",
          "2023-01-11",
          "2023-01-12",
          "2023-01-13",
          "2023-01-14",
          "2023-01-15",
          "2023-01-16",
          "2023-01-17",
          "2023-01-18",
          "2023-01-19",
          "2023-01-20",
          "2023-01-21",
          "2023-01-22",
          "2023-01-23",
          "2023-01-24",
          "2023-01-25",
          "2023-01-26",
          "2023-01-27",
          "2023-01-28",
          "2023-01-29",
          "2023-01-30",
          "2023-01-31",
          "2023-02-01",
          "2023-02-02",
          "2023-02-03",
          "2023-02-04",
          "2023-02-05",
          "2023-02-06",
          "2023-02-07",
          "2023-02-08",
          "2023-02-09",
          "2023-02-10",
          "2023-02-11",
          "2023-02-12",
          "2023-02-13",
          "2023-02-14",
          "2023-02-15",
          "2023-02-16",
          "2023-02-17",
          "2023-02-18",
          "2023-02-19",
          "2023-02-20",
          "2023-02-21",
          "2023-02-22",
          "2023-02-23",
          "2023-02-24",
          "2023-02-25",
          "2023-02-26",
          "2023-02-27",
          "2023-02-28",
          "2023-03-01",
          "2023-03-02",
          "2023-03-03",
          "2023-03-04",
          "2023-03-05",
          "2023-03-06",
          "2023-03-07",
          "2023-03-08",
          "2023-03-09",
          "2023-03-10",
          "2023-03-11",
          "2023-03-12",
          "2023-03-13",
          "2023-03-14",
          "2023-03-15",
          "2023-03-16",
          "2023-03-17",
          "2023-03-18",
          "2023-03-19",
          "2023-03-20",
          "2023-03-21",
          "2023-03-22",
          "2023-03-23",
          "2023-03-24",
          "2023-03-25",
          "2023-03-26",
          "2023-03-27",
          "2023-03-28",
          "2023-03-29",
          "2023-03-30",
          "2023-03-31",
          "2023-04-01",
          "2023-04-02",
          "2023-04-03",
          "2023-04-04",
          "2023-04-05",
          "2023-04-06",
          "2023-04-07",
          "2023-04-08",
          "2023-04-09",
          "2023-04-10",
          "2023-04-11",
          "2023-04-12",
          "2023-04-13",
          "2023-04-14",
          "2023-04-15",
          "2023-04-16",
          "2023-04-17",
          "2023-04-18",
          "2023-04-19",
          "2023-04-20",
          "2023-04-21",
          "2023-04-22",
          "2023-04-23",
          "2023-04-24",
          "2023-04-25",
          "2023-04-26",
          "2023-04-27",
          "2023-04-28",
          "2023-04-29",
          "2023-04-30",
          "2023-05-01",
          "2023-05-02",
          "2023-05-03",
          "2023-05-04",
          "2023-05-05",
          "2023-05-06",
          "2023-05-07",
          "2023-05-08",
          "2023-05-09",
          "2023-05-10",
          "2023-05-11",
          "2023-05-12",
          "2023-05-13",
          "2023-05-14",
          "2023-05-15",
          "2023-05-16",
          "2023-05-17",
          "2023-05-18",
          "2023-05-19",
          "2023-05-20",
          "2023-05-21",
          "2023-05-22",
          "2023-05-23",
          "2023-05-24",
          "2023-05-25",
          "2023-05-26",
          "2023-05-27",
          "2023-05-28",
          "2023-05-29",
          "2023-05-30",
          "2023-05-31",
          "2023-06-01",
          "2023-06-02",
          "2023-06-03",
          "2023-06-04",
          "2023-06-05",
          "2023-06-06",
          "2023-06-07",
          "2023-06-08",
          "2023-06-09",
          "2023-06-10",
          "2023-06-11",
          "2023-06-12",
          "2023-06-13",
          "2023-06-14",
          "2023-06-15",
          "2023-06-16",
          "2023-06-17",
          "2023-06-18",
          "2023-06-19",
          "2023-06-20",
          "2023-06-21",
          "2023-06-22",
          "2023-06-23",
          "2023-06-24",
          "2023-06-25",
          "2023-06-26",
          "2023-06-27",
          "2023-06-28",
          "2023-06-29",
          "2023-06-30"
         ],
         "y": [
          288.24238238807743,
          275.84109662987464,
          259.5136283766082,
          232.37713549348078,
          224.19211387286623,
          219.31279333463232,
          218.25741054087916,
          229.1130869568928,
          227.8354675958168,
          210.22434921625197,
          207.37315906668505,
          191.22888199122178,
          221.6174787255025,
          224.9739914719667,
          226.31624798703078,
          243.27969463543732,
          232.4586451159299,
          233.87191584132495,
          219.9568521208371,
          228.67581063672347,
          227.7288946825452,
          225.96918851578312,
          213.2188392373994,
          199.95174459563418,
          175.5286584227964,
          164.0024770588243,
          155.80828898368586,
          147.23993971362168,
          203.87241121354984,
          189.8984446219062,
          192.05868475090875,
          211.41729669336613,
          206.02014818996233,
          263.802084217803,
          270.94022633187114,
          277.14203179493404,
          269.37130898412215,
          125.18241786205382,
          99.24156060368661,
          126.7370669208743,
          130.47489696197528,
          113.15553629778172,
          90.10902636298977,
          89.1908842712716,
          114.30932003549869,
          129.22844314012875,
          119.60578355914937,
          128.4469922514142,
          118.17318269096418,
          139.86072374060726,
          107.29467576683288,
          88.49964862388413,
          128.8276310979161,
          101.78743507052262,
          153.3582765685044,
          105.3398268293107,
          97.13161350306565,
          97.51314182646543,
          154.13363723541178,
          130.51696190480445,
          162.73989962717306,
          162.4206730905743,
          86.94893363707781,
          83.7844119262314,
          97.602572882305,
          621.102988312402,
          711.7499863965918,
          679.0744836688964,
          621.8356958776144,
          654.6576198218903,
          630.5720261749527,
          590.7068680304601,
          532.30391690259,
          453.1936237821659,
          397.9722047080245,
          345.2021745072626,
          309.4877945355007,
          289.14298836747867,
          345.63561536921327,
          350.22440011620745,
          337.1357534536796,
          308.4957676995966,
          313.2248211915595,
          301.94220113531617,
          245.25343312899133,
          258.9230366612961,
          280.3280725580381,
          253.92355468975012,
          252.74350993532943,
          245.82398319505242,
          251.92245413542076,
          239.85929598037205,
          260.72815130548867,
          288.4988006638466,
          237.17228222792338,
          134.0884664269301,
          166.39547716356515,
          208.70846963433138,
          196.03458259105486,
          269.3936372621994,
          160.94117068286093,
          122.19394533327586,
          127.5900163762914,
          143.72434276181588,
          137.1961711471866,
          138.8978062325773,
          128.87015749820597,
          106.94193375095826,
          124.0052241026646,
          115.23961744449332,
          141.84182416520207,
          197.7661476719281,
          152.63210168886084,
          130.35171832414733,
          117.9611499566522,
          114.83541340358252,
          102.91408040772035,
          105.93151946287077,
          112.05608229207246,
          105.12497049890987,
          103.20677637909444,
          102.75600131410665,
          104.30819690851762,
          105.07792074258401,
          108.97161714359679,
          116.13047893076437,
          138.2429053452815,
          111.50680634797402,
          110.4856294404164,
          122.23106255843935,
          115.86356766645945,
          108.37742942755166,
          111.82769817342975,
          107.38790572750094,
          100.90566685707515,
          108.0300113147124,
          108.09925819349796,
          101.86749700928284,
          101.7393655001979,
          114.93305569831875,
          150.70200648559896,
          127.52406459687165,
          115.82073327764931,
          114.60870121918047,
          96.27653030896838,
          101.711415156338,
          112.97743334124853,
          106.42022733630456,
          101.07880126264071,
          102.82146976931573,
          102.47624100870463,
          100.33817693510409,
          103.37266977592748,
          101.6020737342228,
          123.12978341056247,
          110.57407220479634,
          110.97162941425228,
          110.77093895752178,
          106.44031569721265,
          103.83191024482873,
          107.84684745953399,
          128.77292743431389,
          115.94168622148729,
          107.40340255976788,
          111.22979240723254,
          107.50500605749087,
          106.7323519230068,
          108.5417349225656,
          108.98588076430781,
          102.00752107023399,
          106.80563169889916,
          105.00829379137949,
          104.89727639872018,
          103.29345582934876,
          106.66853839161261,
          110.88440926410357,
          112.87705214316081,
          106.55592546880278,
          105.23438146413582,
          109.78346054794798,
          110.31062662579014,
          108.31005985345217,
          111.21889033094283,
          109.01840680434844,
          109.99561563595427,
          111.25888486187932,
          108.48626525803417,
          103.64601575127601,
          113.72000344135816,
          113.21613394899794,
          109.47872552119671,
          113.28177243265884,
          114.42356953406309,
          110.81578684940763,
          111.38650362800644,
          125.27924964409175,
          125.3961400047367,
          118.81745692774241,
          119.44775191311913,
          115.03790381647606,
          112.738368245779,
          129.7093683167995,
          125.54911485680068,
          111.07150202320521,
          111.6833737861981,
          107.32038748088033,
          109.2251751086841,
          115.61301180769898,
          114.74439623572958,
          135.10765786010077,
          113.61898616611911,
          103.22219857325862,
          116.83686835395886,
          112.3842346199192,
          121.31285034135509,
          115.17630677777494,
          111.58161056158181,
          117.76281765478662,
          116.39398813550082,
          107.9140677865845,
          117.9040870830019,
          114.45269311982804,
          109.8666693297425,
          115.53076496866963,
          115.466356884307,
          106.42839747790342,
          117.78752110299531,
          113.33986844850074,
          112.74637675409278,
          116.277041798482,
          130.15303021225571,
          160.63941937735564,
          128.34188476732726,
          127.81815809311418,
          110.95952186065836,
          108.82648928163964,
          144.44500807712757,
          138.41790734524434,
          174.65757434909617,
          217.50351583208604,
          244.14919950205547,
          260.88163933175906,
          269.281095853392,
          292.4860484344231,
          307.9268016508928,
          334.92529297523686,
          322.03087891720384,
          331.89782049375196,
          283.7025094449185,
          187.4717807683711,
          187.90811639100457,
          215.25443748734355,
          207.1863227540367,
          191.21672767217953,
          207.46556690661865,
          217.52853857349973,
          132.26419453358324,
          207.35663974576553,
          291.7087394484514,
          349.3708424168449,
          439.7782294226254,
          421.3816717942383,
          321.9211177519185,
          198.89314625689985,
          262.59317737993047,
          274.5617210586822,
          244.60415039483112,
          217.69553732301904,
          221.15692334736826,
          200.89048951326,
          182.68846912246,
          248.72159566321116,
          242.3677656815784,
          216.92848414912768,
          223.78072059782272,
          242.47027340462301,
          150.48165921065245,
          143.72486411052466,
          161.73383541505407,
          173.22746950074054,
          183.66634288738308,
          181.91749475372046,
          171.59019139283475,
          172.44665990065138,
          147.14004663688542,
          180.195542402569,
          207.0665284321432,
          192.49008845736813,
          179.59766288885848,
          178.95973065640018,
          164.3037704978805,
          186.5063874114111,
          172.16572119500546,
          176.7306501433413,
          247.68338038443014,
          214.10290279714462,
          216.61292623778164,
          173.7058798918269,
          124.25519458442609,
          148.13359732016696,
          163.19841021497248,
          182.3927656128069,
          171.72970601918652,
          169.34325869692697,
          124.19164410741499,
          99.15297943088561,
          129.15274035416058,
          214.17113695453557,
          241.38802967673143,
          224.92521454477455,
          178.92662885079474,
          168.715079603642,
          112.56116183540853,
          160.81021707796597,
          197.68419527058282,
          195.95977649845756,
          189.9833995658268,
          166.3871341487661,
          169.5205864458481,
          173.0835913158246,
          143.28581554545468,
          162.72662952109255,
          175.0736993360848,
          169.5548389794599,
          114.90513439941368,
          119.85735383187169,
          116.16679941259108,
          127.25372147991207,
          175.56762970798758,
          186.32314799508967,
          195.97448432055603,
          227.82908633695197,
          260.3046723389765,
          258.3753449601586,
          277.7082213576434,
          286.5374863815139,
          314.3690844191967,
          330.8401837764652,
          328.27174549570316,
          329.1101644041139,
          249.23181177433412,
          287.70416978652224,
          241.45598371965175,
          245.33859312254447,
          243.31290166831485,
          209.45029106761854,
          235.51592846839392,
          250.65236972315716,
          246.45488971749722,
          260.2912724245284,
          276.4238486380017,
          286.63679137515305,
          285.1599783661495,
          270.3533296874415,
          287.96446707749897,
          329.8423864005932,
          333.72288691563347,
          360.31585550939894,
          408.92526954060304,
          423.2561092241391,
          419.37007136618934,
          425.0421717355266,
          441.80647282990935,
          467.1220311213523,
          510.51981552987854,
          508.46087289368177,
          437.0202193339261,
          510.45570354108315,
          501.5259972527606,
          497.8496369260988,
          525.3603054520881,
          552.535721503427,
          554.503155992344,
          511.33925385251985,
          481.31874410378805,
          393.53262689149983,
          409.3553929672281,
          373.1694308677917,
          419.2191956354319,
          303.41512357795386,
          227.51622846654033,
          240.6297291503849,
          210.6004917434749,
          199.09456763482254,
          218.0315754516331,
          256.4378036746883,
          241.80626487186447,
          243.199057368296,
          202.5057760656266,
          190.1262505267612,
          249.2930153436318,
          264.25428957440863,
          284.74370019542926,
          361.6826019367452,
          390.7888685409673,
          401.6551477916149,
          458.5641328723724,
          582.8235964024706,
          694.5698137247772,
          780.6352824672115,
          716.7210324083601,
          774.806262379701,
          793.6952244261599,
          718.2243881747052,
          529.234519451611,
          649.0313166828795,
          621.9196132360636,
          533.6861935626891,
          535.7291209008738,
          595.9921405569463,
          567.1486879248574,
          554.8354207397856,
          550.4124582261347,
          529.5153709942284,
          501.0335488769823,
          477.62096458135045,
          413.26064222436776,
          399.04647356682256,
          400.0377901373662,
          413.0434608534356,
          344.14071260478465,
          359.9757502966154,
          362.14686876395433,
          289.75691051528975,
          306.73060764713694,
          324.68528602124593,
          368.88060353101673,
          380.6293917630346,
          371.35432641075386,
          434.94456349286645,
          454.1115630424242,
          461.3635076986633,
          497.72385503687326,
          482.16521838395806,
          451.6297969494327,
          414.1043577218592,
          282.20060793966536,
          287.068040112037,
          279.99813762259964,
          224.00909846085162,
          171.81024905485464,
          158.14233637993345,
          165.57697213777,
          227.63168703252904,
          216.93545660148393,
          163.85689282928146,
          240.57891140559215,
          312.5038741055499,
          357.17270227167023,
          324.2488209582257,
          324.75195721015257,
          230.80779568654495,
          167.45306529539351,
          177.51629843374943,
          190.41704703335236,
          158.73837187497315,
          169.9986466812265,
          171.03270217394294,
          151.4599514972595,
          160.28823459071074,
          151.87965595122154,
          157.5294978698251,
          146.9009574772248,
          144.29039530488785,
          138.74772726890706,
          149.67975273277074,
          140.8049426380488,
          149.34354860400677,
          154.25279453898978,
          278.8229294445829,
          263.6515050252574,
          242.78413036988795,
          210.64448565241725,
          208.88405210878224,
          304.91152025428266,
          307.6546178377504,
          257.0854723234548,
          301.6454954064518,
          327.2035172260338,
          336.7461986969173,
          343.28928995001104,
          344.1522168880341,
          330.5509492609925,
          316.1458890581331,
          242.10449046823297,
          243.60464101820773,
          184.91465600976534,
          206.12172421707038,
          199.1543779888358,
          247.84876521610403,
          272.2393163345207,
          265.87526033529184,
          331.5961614359875,
          336.60505067876807,
          358.57702411432786,
          413.99344130603697,
          525.1507311765184,
          601.036664653036,
          635.5644100337074,
          636.480327872875,
          683.864398620489,
          673.6161818175503,
          712.0410643701033,
          772.5507597141138,
          806.2987009336958,
          807.1043318142854,
          812.7679678847239,
          816.0393834858073,
          754.2619637043068,
          758.8223254419394,
          782.920870676551,
          719.1828373681396,
          734.4786400731831,
          648.408519278801,
          616.4346173885169,
          418.3743103991253,
          325.61141301348766,
          370.93582554390036,
          355.19390657083534,
          299.15789582936293,
          242.96120709008275,
          240.19417822797084,
          206.32369356406977,
          267.9180470277523,
          316.85678878182773,
          354.74530327701154,
          332.3976626306363,
          303.6130662128784,
          286.412213647666,
          278.27838853026697,
          297.0935257632266,
          331.4229981383522,
          360.13275395666267,
          367.0020279763661,
          413.1000098952537,
          448.8436622278281,
          504.1127604519187,
          579.0662963527044,
          608.319103867399,
          744.041761924079,
          756.4500357377229,
          835.7140752883956,
          884.716247456995,
          684.3234227222047,
          635.0039074895426,
          571.450750060044,
          587.4632528045014,
          454.10564472143733
         ]
        },
        {
         "mode": "lines",
         "name": "Valores reales de test",
         "type": "scatter",
         "x": [
          "2023-07-01",
          "2023-07-02",
          "2023-07-03",
          "2023-07-04",
          "2023-07-05",
          "2023-07-06",
          "2023-07-07",
          "2023-07-08",
          "2023-07-09",
          "2023-07-10",
          "2023-07-11",
          "2023-07-12",
          "2023-07-13",
          "2023-07-14",
          "2023-07-15",
          "2023-07-16",
          "2023-07-17",
          "2023-07-18",
          "2023-07-19",
          "2023-07-20",
          "2023-07-21",
          "2023-07-22",
          "2023-07-23",
          "2023-07-24",
          "2023-07-25",
          "2023-07-26",
          "2023-07-27",
          "2023-07-28",
          "2023-07-29",
          "2023-07-30",
          "2023-07-31",
          "2023-08-01",
          "2023-08-02",
          "2023-08-03",
          "2023-08-04",
          "2023-08-05",
          "2023-08-06",
          "2023-08-07",
          "2023-08-08",
          "2023-08-09",
          "2023-08-10",
          "2023-08-11",
          "2023-08-12",
          "2023-08-13",
          "2023-08-14",
          "2023-08-15",
          "2023-08-16",
          "2023-08-17",
          "2023-08-18",
          "2023-08-19",
          "2023-08-20",
          "2023-08-21",
          "2023-08-22",
          "2023-08-23",
          "2023-08-24",
          "2023-08-25",
          "2023-08-26",
          "2023-08-27",
          "2023-08-28",
          "2023-08-29",
          "2023-08-30",
          "2023-08-31",
          "2023-09-01",
          "2023-09-02",
          "2023-09-03",
          "2023-09-04",
          "2023-09-05",
          "2023-09-06",
          "2023-09-07",
          "2023-09-08",
          "2023-09-09",
          "2023-09-10",
          "2023-09-11",
          "2023-09-12",
          "2023-09-13",
          "2023-09-14",
          "2023-09-15",
          "2023-09-16",
          "2023-09-17",
          "2023-09-18",
          "2023-09-19",
          "2023-09-20",
          "2023-09-21",
          "2023-09-22",
          "2023-09-23",
          "2023-09-24",
          "2023-09-25",
          "2023-09-26",
          "2023-09-27",
          "2023-09-28",
          "2023-09-29",
          "2023-09-30"
         ],
         "y": [
          544.7705213565667,
          550.9924406845666,
          483.6502214998334,
          553.0780864147,
          604.0613552063,
          612.6520655029666,
          561.720197503,
          511.34744451383335,
          443.2304976700333,
          464.0946349298667,
          520.6698138396333,
          558.0087941169,
          623.2256895074667,
          667.2388902573667,
          627.5580529219334,
          655.8061852985,
          607.7387937565333,
          562.4534141153,
          452.60713804463336,
          355.5250355956,
          448.7364667266666,
          343.9170169912,
          368.67011887483335,
          505.73658042333335,
          501.0301570304,
          508.31399602706665,
          543.2798406008666,
          485.3597814536333,
          502.2773802097,
          503.4671490768667,
          493.9659789703334,
          547.1345043071,
          552.4892412716,
          502.80451949393336,
          534.6192562463666,
          464.1196171028666,
          492.90175899686665,
          407.4434403267667,
          520.8159737078333,
          615.0041053912,
          672.7727046824,
          743.8591253586001,
          765.2201509364668,
          662.3748478974667,
          648.2864592554333,
          743.5988251514667,
          684.1074411735334,
          695.5571388220666,
          718.1244276738333,
          688.8797853554333,
          429.54986892410005,
          427.4197187691333,
          333.6424985433667,
          240.48830502266665,
          199.1347986239333,
          201.7994960485,
          244.67607934786668,
          182.24162300086667,
          362.57467050660006,
          557.3878632841,
          752.3462168504999,
          804.1298802825668,
          840.0535151349333,
          897.7582867515666,
          940.0739380390668,
          965.3959244287,
          980.1408900017,
          938.9837728269,
          1002.4018762710666,
          1020.1230077620334,
          1042.4125910953665,
          1040.2309244287,
          1056.0735910953665,
          1055.8125910953663,
          1057.225091095367,
          1058.2146744287,
          1059.5459244287,
          1053.5576515038,
          980.9484479552332,
          1040.0333886235,
          1046.8870506150668,
          1040.3662577620337,
          1060.2107160953667,
          1059.9921744287,
          1061.2059358995332,
          999.485316434,
          1040.8716778893331,
          1061.5271744287,
          1041.1605757635332,
          1042.7696452357,
          1030.8072240289,
          1012.2209689485334
         ]
        },
        {
         "mode": "lines",
         "name": "Valores predichos de test",
         "type": "scatter",
         "x": [
          "2023-07-01",
          "2023-07-02",
          "2023-07-03",
          "2023-07-04",
          "2023-07-05",
          "2023-07-06",
          "2023-07-07",
          "2023-07-08",
          "2023-07-09",
          "2023-07-10",
          "2023-07-11",
          "2023-07-12",
          "2023-07-13",
          "2023-07-14",
          "2023-07-15",
          "2023-07-16",
          "2023-07-17",
          "2023-07-18",
          "2023-07-19",
          "2023-07-20",
          "2023-07-21",
          "2023-07-22",
          "2023-07-23",
          "2023-07-24",
          "2023-07-25",
          "2023-07-26",
          "2023-07-27",
          "2023-07-28",
          "2023-07-29",
          "2023-07-30",
          "2023-07-31",
          "2023-08-01",
          "2023-08-02",
          "2023-08-03",
          "2023-08-04",
          "2023-08-05",
          "2023-08-06",
          "2023-08-07",
          "2023-08-08",
          "2023-08-09",
          "2023-08-10",
          "2023-08-11",
          "2023-08-12",
          "2023-08-13",
          "2023-08-14",
          "2023-08-15",
          "2023-08-16",
          "2023-08-17",
          "2023-08-18",
          "2023-08-19",
          "2023-08-20",
          "2023-08-21",
          "2023-08-22",
          "2023-08-23",
          "2023-08-24",
          "2023-08-25",
          "2023-08-26",
          "2023-08-27",
          "2023-08-28",
          "2023-08-29",
          "2023-08-30",
          "2023-08-31",
          "2023-09-01",
          "2023-09-02",
          "2023-09-03",
          "2023-09-04",
          "2023-09-05",
          "2023-09-06",
          "2023-09-07",
          "2023-09-08",
          "2023-09-09",
          "2023-09-10",
          "2023-09-11",
          "2023-09-12",
          "2023-09-13",
          "2023-09-14",
          "2023-09-15",
          "2023-09-16",
          "2023-09-17",
          "2023-09-18",
          "2023-09-19",
          "2023-09-20",
          "2023-09-21",
          "2023-09-22",
          "2023-09-23",
          "2023-09-24",
          "2023-09-25",
          "2023-09-26",
          "2023-09-27",
          "2023-09-28",
          "2023-09-29",
          "2023-09-30"
         ],
         "y": [
          488.4474638710061,
          543.3816234365106,
          546.2718988238405,
          467.86272064077093,
          538.6707693491104,
          609.158385924335,
          606.4615644505808,
          545.3338196080457,
          488.4313913916345,
          420.3319199496051,
          447.71651720762,
          523.0393375989808,
          563.7661894298675,
          623.2467866332702,
          669.1489171576009,
          616.887221090895,
          634.9422210627723,
          594.069111749976,
          540.0048451094801,
          428.84244086394426,
          321.45625069463745,
          434.13056321501824,
          346.9123983611271,
          351.34603544408753,
          519.8966406671099,
          516.6794774509978,
          499.4155605467836,
          540.6499011715455,
          478.17166555284996,
          485.1663632393862,
          498.08083872978887,
          485.08354388505006,
          542.4947004687016,
          553.9859499292895,
          492.3618918716372,
          522.785533963581,
          454.7843502550859,
          475.1889023864786,
          401.51293402336455,
          509.8208321989466,
          635.412022327374,
          683.12717938692,
          746.2322342956352,
          758.5481048191593,
          640.0235741424241,
          609.7995692493132,
          734.721523890264,
          680.6873014443789,
          671.5949022591667,
          706.9498122533363,
          672.9113976045035,
          386.8929400830913,
          370.85841968002387,
          320.9535937320817,
          213.83742402213127,
          182.4753107280241,
          200.07195576954285,
          254.05900789958923,
          189.3084894966619,
          371.22007647649104,
          603.4539613631064,
          793.1348486920871,
          826.9032641599023,
          831.2008479749621,
          885.467643663706,
          927.968259402841,
          949.9273973456123,
          960.4129334646648,
          910.5807977212753,
          974.4342056302088,
          1004.1875665004164,
          1015.5530022190185,
          1014.5594476358802,
          1028.29670704257,
          1020.1239900701089,
          1027.8734096020246,
          1028.9003157384025,
          1030.309564556404,
          1024.0030849154502,
          940.6728043794399,
          1005.6524952438172,
          1030.519566214451,
          1010.738226839415,
          1032.988915251166,
          1033.1640159529145,
          1030.480619370997,
          965.6539907039656,
          1005.5489516475716,
          1041.793075191106,
          1011.7528408903811,
          1010.575531743114,
          1002.3721717871043
         ]
        },
        {
         "mode": "lines",
         "name": "Valores predichos de test -1",
         "type": "scatter",
         "x": [
          "2023-07-01",
          "2023-07-02",
          "2023-07-03",
          "2023-07-04",
          "2023-07-05",
          "2023-07-06",
          "2023-07-07",
          "2023-07-08",
          "2023-07-09",
          "2023-07-10",
          "2023-07-11",
          "2023-07-12",
          "2023-07-13",
          "2023-07-14",
          "2023-07-15",
          "2023-07-16",
          "2023-07-17",
          "2023-07-18",
          "2023-07-19",
          "2023-07-20",
          "2023-07-21",
          "2023-07-22",
          "2023-07-23",
          "2023-07-24",
          "2023-07-25",
          "2023-07-26",
          "2023-07-27",
          "2023-07-28",
          "2023-07-29",
          "2023-07-30",
          "2023-07-31",
          "2023-08-01",
          "2023-08-02",
          "2023-08-03",
          "2023-08-04",
          "2023-08-05",
          "2023-08-06",
          "2023-08-07",
          "2023-08-08",
          "2023-08-09",
          "2023-08-10",
          "2023-08-11",
          "2023-08-12",
          "2023-08-13",
          "2023-08-14",
          "2023-08-15",
          "2023-08-16",
          "2023-08-17",
          "2023-08-18",
          "2023-08-19",
          "2023-08-20",
          "2023-08-21",
          "2023-08-22",
          "2023-08-23",
          "2023-08-24",
          "2023-08-25",
          "2023-08-26",
          "2023-08-27",
          "2023-08-28",
          "2023-08-29",
          "2023-08-30",
          "2023-08-31",
          "2023-09-01",
          "2023-09-02",
          "2023-09-03",
          "2023-09-04",
          "2023-09-05",
          "2023-09-06",
          "2023-09-07",
          "2023-09-08",
          "2023-09-09",
          "2023-09-10",
          "2023-09-11",
          "2023-09-12",
          "2023-09-13",
          "2023-09-14",
          "2023-09-15",
          "2023-09-16",
          "2023-09-17",
          "2023-09-18",
          "2023-09-19",
          "2023-09-20",
          "2023-09-21",
          "2023-09-22",
          "2023-09-23",
          "2023-09-24",
          "2023-09-25",
          "2023-09-26",
          "2023-09-27",
          "2023-09-28",
          "2023-09-29",
          "2023-09-30"
         ],
         "y": [
          543.3816234365106,
          546.2718988238405,
          467.86272064077093,
          538.6707693491104,
          609.158385924335,
          606.4615644505808,
          545.3338196080457,
          488.4313913916345,
          420.3319199496051,
          447.71651720762,
          523.0393375989808,
          563.7661894298675,
          623.2467866332702,
          669.1489171576009,
          616.887221090895,
          634.9422210627723,
          594.069111749976,
          540.0048451094801,
          428.84244086394426,
          321.45625069463745,
          434.13056321501824,
          346.9123983611271,
          351.34603544408753,
          519.8966406671099,
          516.6794774509978,
          499.4155605467836,
          540.6499011715455,
          478.17166555284996,
          485.1663632393862,
          498.08083872978887,
          485.08354388505006,
          542.4947004687016,
          553.9859499292895,
          492.3618918716372,
          522.785533963581,
          454.7843502550859,
          475.1889023864786,
          401.51293402336455,
          509.8208321989466,
          635.412022327374,
          683.12717938692,
          746.2322342956352,
          758.5481048191593,
          640.0235741424241,
          609.7995692493132,
          734.721523890264,
          680.6873014443789,
          671.5949022591667,
          706.9498122533363,
          672.9113976045035,
          386.8929400830913,
          370.85841968002387,
          320.9535937320817,
          213.83742402213127,
          182.4753107280241,
          200.07195576954285,
          254.05900789958923,
          189.3084894966619,
          371.22007647649104,
          603.4539613631064,
          793.1348486920871,
          826.9032641599023,
          831.2008479749621,
          885.467643663706,
          927.968259402841,
          949.9273973456123,
          960.4129334646648,
          910.5807977212753,
          974.4342056302088,
          1004.1875665004164,
          1015.5530022190185,
          1014.5594476358802,
          1028.29670704257,
          1020.1239900701089,
          1027.8734096020246,
          1028.9003157384025,
          1030.309564556404,
          1024.0030849154502,
          940.6728043794399,
          1005.6524952438172,
          1030.519566214451,
          1010.738226839415,
          1032.988915251166,
          1033.1640159529145,
          1030.480619370997,
          965.6539907039656,
          1005.5489516475716,
          1041.793075191106,
          1011.7528408903811,
          1010.575531743114,
          1002.3721717871043
         ]
        }
       ],
       "layout": {
        "legend": {
         "tracegroupgap": 0
        },
        "template": {
         "data": {
          "bar": [
           {
            "error_x": {
             "color": "#2a3f5f"
            },
            "error_y": {
             "color": "#2a3f5f"
            },
            "marker": {
             "line": {
              "color": "#E5ECF6",
              "width": 0.5
             },
             "pattern": {
              "fillmode": "overlay",
              "size": 10,
              "solidity": 0.2
             }
            },
            "type": "bar"
           }
          ],
          "barpolar": [
           {
            "marker": {
             "line": {
              "color": "#E5ECF6",
              "width": 0.5
             },
             "pattern": {
              "fillmode": "overlay",
              "size": 10,
              "solidity": 0.2
             }
            },
            "type": "barpolar"
           }
          ],
          "carpet": [
           {
            "aaxis": {
             "endlinecolor": "#2a3f5f",
             "gridcolor": "white",
             "linecolor": "white",
             "minorgridcolor": "white",
             "startlinecolor": "#2a3f5f"
            },
            "baxis": {
             "endlinecolor": "#2a3f5f",
             "gridcolor": "white",
             "linecolor": "white",
             "minorgridcolor": "white",
             "startlinecolor": "#2a3f5f"
            },
            "type": "carpet"
           }
          ],
          "choropleth": [
           {
            "colorbar": {
             "outlinewidth": 0,
             "ticks": ""
            },
            "type": "choropleth"
           }
          ],
          "contour": [
           {
            "colorbar": {
             "outlinewidth": 0,
             "ticks": ""
            },
            "colorscale": [
             [
              0,
              "#0d0887"
             ],
             [
              0.1111111111111111,
              "#46039f"
             ],
             [
              0.2222222222222222,
              "#7201a8"
             ],
             [
              0.3333333333333333,
              "#9c179e"
             ],
             [
              0.4444444444444444,
              "#bd3786"
             ],
             [
              0.5555555555555556,
              "#d8576b"
             ],
             [
              0.6666666666666666,
              "#ed7953"
             ],
             [
              0.7777777777777778,
              "#fb9f3a"
             ],
             [
              0.8888888888888888,
              "#fdca26"
             ],
             [
              1,
              "#f0f921"
             ]
            ],
            "type": "contour"
           }
          ],
          "contourcarpet": [
           {
            "colorbar": {
             "outlinewidth": 0,
             "ticks": ""
            },
            "type": "contourcarpet"
           }
          ],
          "heatmap": [
           {
            "colorbar": {
             "outlinewidth": 0,
             "ticks": ""
            },
            "colorscale": [
             [
              0,
              "#0d0887"
             ],
             [
              0.1111111111111111,
              "#46039f"
             ],
             [
              0.2222222222222222,
              "#7201a8"
             ],
             [
              0.3333333333333333,
              "#9c179e"
             ],
             [
              0.4444444444444444,
              "#bd3786"
             ],
             [
              0.5555555555555556,
              "#d8576b"
             ],
             [
              0.6666666666666666,
              "#ed7953"
             ],
             [
              0.7777777777777778,
              "#fb9f3a"
             ],
             [
              0.8888888888888888,
              "#fdca26"
             ],
             [
              1,
              "#f0f921"
             ]
            ],
            "type": "heatmap"
           }
          ],
          "heatmapgl": [
           {
            "colorbar": {
             "outlinewidth": 0,
             "ticks": ""
            },
            "colorscale": [
             [
              0,
              "#0d0887"
             ],
             [
              0.1111111111111111,
              "#46039f"
             ],
             [
              0.2222222222222222,
              "#7201a8"
             ],
             [
              0.3333333333333333,
              "#9c179e"
             ],
             [
              0.4444444444444444,
              "#bd3786"
             ],
             [
              0.5555555555555556,
              "#d8576b"
             ],
             [
              0.6666666666666666,
              "#ed7953"
             ],
             [
              0.7777777777777778,
              "#fb9f3a"
             ],
             [
              0.8888888888888888,
              "#fdca26"
             ],
             [
              1,
              "#f0f921"
             ]
            ],
            "type": "heatmapgl"
           }
          ],
          "histogram": [
           {
            "marker": {
             "pattern": {
              "fillmode": "overlay",
              "size": 10,
              "solidity": 0.2
             }
            },
            "type": "histogram"
           }
          ],
          "histogram2d": [
           {
            "colorbar": {
             "outlinewidth": 0,
             "ticks": ""
            },
            "colorscale": [
             [
              0,
              "#0d0887"
             ],
             [
              0.1111111111111111,
              "#46039f"
             ],
             [
              0.2222222222222222,
              "#7201a8"
             ],
             [
              0.3333333333333333,
              "#9c179e"
             ],
             [
              0.4444444444444444,
              "#bd3786"
             ],
             [
              0.5555555555555556,
              "#d8576b"
             ],
             [
              0.6666666666666666,
              "#ed7953"
             ],
             [
              0.7777777777777778,
              "#fb9f3a"
             ],
             [
              0.8888888888888888,
              "#fdca26"
             ],
             [
              1,
              "#f0f921"
             ]
            ],
            "type": "histogram2d"
           }
          ],
          "histogram2dcontour": [
           {
            "colorbar": {
             "outlinewidth": 0,
             "ticks": ""
            },
            "colorscale": [
             [
              0,
              "#0d0887"
             ],
             [
              0.1111111111111111,
              "#46039f"
             ],
             [
              0.2222222222222222,
              "#7201a8"
             ],
             [
              0.3333333333333333,
              "#9c179e"
             ],
             [
              0.4444444444444444,
              "#bd3786"
             ],
             [
              0.5555555555555556,
              "#d8576b"
             ],
             [
              0.6666666666666666,
              "#ed7953"
             ],
             [
              0.7777777777777778,
              "#fb9f3a"
             ],
             [
              0.8888888888888888,
              "#fdca26"
             ],
             [
              1,
              "#f0f921"
             ]
            ],
            "type": "histogram2dcontour"
           }
          ],
          "mesh3d": [
           {
            "colorbar": {
             "outlinewidth": 0,
             "ticks": ""
            },
            "type": "mesh3d"
           }
          ],
          "parcoords": [
           {
            "line": {
             "colorbar": {
              "outlinewidth": 0,
              "ticks": ""
             }
            },
            "type": "parcoords"
           }
          ],
          "pie": [
           {
            "automargin": true,
            "type": "pie"
           }
          ],
          "scatter": [
           {
            "fillpattern": {
             "fillmode": "overlay",
             "size": 10,
             "solidity": 0.2
            },
            "type": "scatter"
           }
          ],
          "scatter3d": [
           {
            "line": {
             "colorbar": {
              "outlinewidth": 0,
              "ticks": ""
             }
            },
            "marker": {
             "colorbar": {
              "outlinewidth": 0,
              "ticks": ""
             }
            },
            "type": "scatter3d"
           }
          ],
          "scattercarpet": [
           {
            "marker": {
             "colorbar": {
              "outlinewidth": 0,
              "ticks": ""
             }
            },
            "type": "scattercarpet"
           }
          ],
          "scattergeo": [
           {
            "marker": {
             "colorbar": {
              "outlinewidth": 0,
              "ticks": ""
             }
            },
            "type": "scattergeo"
           }
          ],
          "scattergl": [
           {
            "marker": {
             "colorbar": {
              "outlinewidth": 0,
              "ticks": ""
             }
            },
            "type": "scattergl"
           }
          ],
          "scattermapbox": [
           {
            "marker": {
             "colorbar": {
              "outlinewidth": 0,
              "ticks": ""
             }
            },
            "type": "scattermapbox"
           }
          ],
          "scatterpolar": [
           {
            "marker": {
             "colorbar": {
              "outlinewidth": 0,
              "ticks": ""
             }
            },
            "type": "scatterpolar"
           }
          ],
          "scatterpolargl": [
           {
            "marker": {
             "colorbar": {
              "outlinewidth": 0,
              "ticks": ""
             }
            },
            "type": "scatterpolargl"
           }
          ],
          "scatterternary": [
           {
            "marker": {
             "colorbar": {
              "outlinewidth": 0,
              "ticks": ""
             }
            },
            "type": "scatterternary"
           }
          ],
          "surface": [
           {
            "colorbar": {
             "outlinewidth": 0,
             "ticks": ""
            },
            "colorscale": [
             [
              0,
              "#0d0887"
             ],
             [
              0.1111111111111111,
              "#46039f"
             ],
             [
              0.2222222222222222,
              "#7201a8"
             ],
             [
              0.3333333333333333,
              "#9c179e"
             ],
             [
              0.4444444444444444,
              "#bd3786"
             ],
             [
              0.5555555555555556,
              "#d8576b"
             ],
             [
              0.6666666666666666,
              "#ed7953"
             ],
             [
              0.7777777777777778,
              "#fb9f3a"
             ],
             [
              0.8888888888888888,
              "#fdca26"
             ],
             [
              1,
              "#f0f921"
             ]
            ],
            "type": "surface"
           }
          ],
          "table": [
           {
            "cells": {
             "fill": {
              "color": "#EBF0F8"
             },
             "line": {
              "color": "white"
             }
            },
            "header": {
             "fill": {
              "color": "#C8D4E3"
             },
             "line": {
              "color": "white"
             }
            },
            "type": "table"
           }
          ]
         },
         "layout": {
          "annotationdefaults": {
           "arrowcolor": "#2a3f5f",
           "arrowhead": 0,
           "arrowwidth": 1
          },
          "autotypenumbers": "strict",
          "coloraxis": {
           "colorbar": {
            "outlinewidth": 0,
            "ticks": ""
           }
          },
          "colorscale": {
           "diverging": [
            [
             0,
             "#8e0152"
            ],
            [
             0.1,
             "#c51b7d"
            ],
            [
             0.2,
             "#de77ae"
            ],
            [
             0.3,
             "#f1b6da"
            ],
            [
             0.4,
             "#fde0ef"
            ],
            [
             0.5,
             "#f7f7f7"
            ],
            [
             0.6,
             "#e6f5d0"
            ],
            [
             0.7,
             "#b8e186"
            ],
            [
             0.8,
             "#7fbc41"
            ],
            [
             0.9,
             "#4d9221"
            ],
            [
             1,
             "#276419"
            ]
           ],
           "sequential": [
            [
             0,
             "#0d0887"
            ],
            [
             0.1111111111111111,
             "#46039f"
            ],
            [
             0.2222222222222222,
             "#7201a8"
            ],
            [
             0.3333333333333333,
             "#9c179e"
            ],
            [
             0.4444444444444444,
             "#bd3786"
            ],
            [
             0.5555555555555556,
             "#d8576b"
            ],
            [
             0.6666666666666666,
             "#ed7953"
            ],
            [
             0.7777777777777778,
             "#fb9f3a"
            ],
            [
             0.8888888888888888,
             "#fdca26"
            ],
            [
             1,
             "#f0f921"
            ]
           ],
           "sequentialminus": [
            [
             0,
             "#0d0887"
            ],
            [
             0.1111111111111111,
             "#46039f"
            ],
            [
             0.2222222222222222,
             "#7201a8"
            ],
            [
             0.3333333333333333,
             "#9c179e"
            ],
            [
             0.4444444444444444,
             "#bd3786"
            ],
            [
             0.5555555555555556,
             "#d8576b"
            ],
            [
             0.6666666666666666,
             "#ed7953"
            ],
            [
             0.7777777777777778,
             "#fb9f3a"
            ],
            [
             0.8888888888888888,
             "#fdca26"
            ],
            [
             1,
             "#f0f921"
            ]
           ]
          },
          "colorway": [
           "#636efa",
           "#EF553B",
           "#00cc96",
           "#ab63fa",
           "#FFA15A",
           "#19d3f3",
           "#FF6692",
           "#B6E880",
           "#FF97FF",
           "#FECB52"
          ],
          "font": {
           "color": "#2a3f5f"
          },
          "geo": {
           "bgcolor": "white",
           "lakecolor": "white",
           "landcolor": "#E5ECF6",
           "showlakes": true,
           "showland": true,
           "subunitcolor": "white"
          },
          "hoverlabel": {
           "align": "left"
          },
          "hovermode": "closest",
          "mapbox": {
           "style": "light"
          },
          "paper_bgcolor": "white",
          "plot_bgcolor": "#E5ECF6",
          "polar": {
           "angularaxis": {
            "gridcolor": "white",
            "linecolor": "white",
            "ticks": ""
           },
           "bgcolor": "#E5ECF6",
           "radialaxis": {
            "gridcolor": "white",
            "linecolor": "white",
            "ticks": ""
           }
          },
          "scene": {
           "xaxis": {
            "backgroundcolor": "#E5ECF6",
            "gridcolor": "white",
            "gridwidth": 2,
            "linecolor": "white",
            "showbackground": true,
            "ticks": "",
            "zerolinecolor": "white"
           },
           "yaxis": {
            "backgroundcolor": "#E5ECF6",
            "gridcolor": "white",
            "gridwidth": 2,
            "linecolor": "white",
            "showbackground": true,
            "ticks": "",
            "zerolinecolor": "white"
           },
           "zaxis": {
            "backgroundcolor": "#E5ECF6",
            "gridcolor": "white",
            "gridwidth": 2,
            "linecolor": "white",
            "showbackground": true,
            "ticks": "",
            "zerolinecolor": "white"
           }
          },
          "shapedefaults": {
           "line": {
            "color": "#2a3f5f"
           }
          },
          "ternary": {
           "aaxis": {
            "gridcolor": "white",
            "linecolor": "white",
            "ticks": ""
           },
           "baxis": {
            "gridcolor": "white",
            "linecolor": "white",
            "ticks": ""
           },
           "bgcolor": "#E5ECF6",
           "caxis": {
            "gridcolor": "white",
            "linecolor": "white",
            "ticks": ""
           }
          },
          "title": {
           "x": 0.05
          },
          "xaxis": {
           "automargin": true,
           "gridcolor": "white",
           "linecolor": "white",
           "ticks": "",
           "title": {
            "standoff": 15
           },
           "zerolinecolor": "white",
           "zerolinewidth": 2
          },
          "yaxis": {
           "automargin": true,
           "gridcolor": "white",
           "linecolor": "white",
           "ticks": "",
           "title": {
            "standoff": 15
           },
           "zerolinecolor": "white",
           "zerolinewidth": 2
          }
         }
        },
        "title": {
         "text": "Forecasting of Energy Price with Regularizated MLR with 4 lags"
        },
        "xaxis": {
         "anchor": "y",
         "domain": [
          0,
          1
         ],
         "title": {
          "text": "Date"
         }
        },
        "yaxis": {
         "anchor": "x",
         "domain": [
          0,
          1
         ],
         "title": {
          "text": "Average Energy Price"
         }
        }
       }
      }
     },
     "metadata": {},
     "output_type": "display_data"
    }
   ],
   "source": [
    "fig_lag4 = px.line(\n",
    "    x=X_train_dates,\n",
    "    y=y_train,\n",
    "    title=\"Forecasting of Energy Price with Regularizated MLR with 4 lags\",\n",
    ")\n",
    "fig_lag4.update_layout(xaxis_title=\"Date\", yaxis_title=\"Average Energy Price\")\n",
    "fig_lag4.add_trace(\n",
    "    go.Scatter(\n",
    "        x=X_train_dates, y=y_pred_train, mode=\"lines\", name=\"Valores predichos de train\"\n",
    "    )\n",
    ")\n",
    "fig_lag4.add_trace(\n",
    "    go.Scatter(x=X_test_dates, y=y_test, mode=\"lines\", name=\"Valores reales de test\")\n",
    ")\n",
    "fig_lag4.add_trace(\n",
    "    go.Scatter(x=X_test_dates, y=y_pred, mode=\"lines\", name=\"Valores predichos de test\")\n",
    ")\n",
    "fig_lag4.add_trace(\n",
    "    go.Scatter(\n",
    "        x=X_test_dates, y=y_pred_1, mode=\"lines\", name=\"Valores predichos de test -1\"\n",
    "    )\n",
    ")\n",
    "fig_lag4.show()"
   ]
  }
 ],
 "metadata": {
  "kernelspec": {
   "display_name": "Proyecto-Integrador-Semestre1-ERzOjjfT",
   "language": "python",
   "name": "python3"
  },
  "language_info": {
   "codemirror_mode": {
    "name": "ipython",
    "version": 3
   },
   "file_extension": ".py",
   "mimetype": "text/x-python",
   "name": "python",
   "nbconvert_exporter": "python",
   "pygments_lexer": "ipython3",
   "version": "3.11.5"
  }
 },
 "nbformat": 4,
 "nbformat_minor": 2
}
