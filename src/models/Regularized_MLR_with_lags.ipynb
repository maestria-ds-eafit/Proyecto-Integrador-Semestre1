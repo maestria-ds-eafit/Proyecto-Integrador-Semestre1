{
 "cells": [
  {
   "cell_type": "code",
   "execution_count": 10,
   "metadata": {},
   "outputs": [],
   "source": [
    "from lasso_mlr import perform_lasso_mlr\n",
    "import pandas as pd\n",
    "from sklearn.metrics import mean_squared_error"
   ]
  },
  {
   "cell_type": "code",
   "execution_count": 11,
   "metadata": {},
   "outputs": [],
   "source": [
    "df = pd.read_csv(\"../processed_tables/merged_standardized.csv\")"
   ]
  },
  {
   "cell_type": "markdown",
   "metadata": {},
   "source": [
    "## Regresión lineal con Lasso\n",
    "\n",
    "Esta vez utilizaremos `sklearn` para hacer la regresión Lasso y poder ver qué coeficientes son cero.\n"
   ]
  },
  {
   "cell_type": "code",
   "execution_count": 12,
   "metadata": {},
   "outputs": [
    {
     "name": "stderr",
     "output_type": "stream",
     "text": [
      "/home/david/.local/share/virtualenvs/Proyecto-Integrador-Semestre1-ERzOjjfT/lib/python3.11/site-packages/sklearn/linear_model/_coordinate_descent.py:628: ConvergenceWarning: Objective did not converge. You might want to increase the number of iterations, check the scale of the features or consider increasing regularisation. Duality gap: 1.326e+05, tolerance: 1.280e+03\n",
      "  model = cd_fast.enet_coordinate_descent(\n"
     ]
    },
    {
     "name": "stderr",
     "output_type": "stream",
     "text": [
      "/home/david/.local/share/virtualenvs/Proyecto-Integrador-Semestre1-ERzOjjfT/lib/python3.11/site-packages/sklearn/linear_model/_coordinate_descent.py:628: ConvergenceWarning: Objective did not converge. You might want to increase the number of iterations, check the scale of the features or consider increasing regularisation. Duality gap: 1.834e+05, tolerance: 1.412e+03\n",
      "  model = cd_fast.enet_coordinate_descent(\n",
      "/home/david/.local/share/virtualenvs/Proyecto-Integrador-Semestre1-ERzOjjfT/lib/python3.11/site-packages/sklearn/linear_model/_coordinate_descent.py:628: ConvergenceWarning: Objective did not converge. You might want to increase the number of iterations, check the scale of the features or consider increasing regularisation. Duality gap: 1.077e+05, tolerance: 1.385e+03\n",
      "  model = cd_fast.enet_coordinate_descent(\n",
      "/home/david/.local/share/virtualenvs/Proyecto-Integrador-Semestre1-ERzOjjfT/lib/python3.11/site-packages/sklearn/linear_model/_coordinate_descent.py:628: ConvergenceWarning: Objective did not converge. You might want to increase the number of iterations, check the scale of the features or consider increasing regularisation. Duality gap: 9.233e+04, tolerance: 1.403e+03\n",
      "  model = cd_fast.enet_coordinate_descent(\n",
      "/home/david/.local/share/virtualenvs/Proyecto-Integrador-Semestre1-ERzOjjfT/lib/python3.11/site-packages/sklearn/linear_model/_coordinate_descent.py:628: ConvergenceWarning: Objective did not converge. You might want to increase the number of iterations, check the scale of the features or consider increasing regularisation. Duality gap: 1.103e+05, tolerance: 1.359e+03\n",
      "  model = cd_fast.enet_coordinate_descent(\n",
      "/home/david/.local/share/virtualenvs/Proyecto-Integrador-Semestre1-ERzOjjfT/lib/python3.11/site-packages/sklearn/linear_model/_coordinate_descent.py:628: ConvergenceWarning: Objective did not converge. You might want to increase the number of iterations, check the scale of the features or consider increasing regularisation. Duality gap: 1.326e+05, tolerance: 1.280e+03\n",
      "  model = cd_fast.enet_coordinate_descent(\n",
      "/home/david/.local/share/virtualenvs/Proyecto-Integrador-Semestre1-ERzOjjfT/lib/python3.11/site-packages/sklearn/linear_model/_coordinate_descent.py:628: ConvergenceWarning: Objective did not converge. You might want to increase the number of iterations, check the scale of the features or consider increasing regularisation. Duality gap: 9.204e+04, tolerance: 1.412e+03\n",
      "  model = cd_fast.enet_coordinate_descent(\n",
      "/home/david/.local/share/virtualenvs/Proyecto-Integrador-Semestre1-ERzOjjfT/lib/python3.11/site-packages/sklearn/linear_model/_coordinate_descent.py:628: ConvergenceWarning: Objective did not converge. You might want to increase the number of iterations, check the scale of the features or consider increasing regularisation. Duality gap: 1.077e+05, tolerance: 1.385e+03\n",
      "  model = cd_fast.enet_coordinate_descent(\n",
      "/home/david/.local/share/virtualenvs/Proyecto-Integrador-Semestre1-ERzOjjfT/lib/python3.11/site-packages/sklearn/linear_model/_coordinate_descent.py:628: ConvergenceWarning: Objective did not converge. You might want to increase the number of iterations, check the scale of the features or consider increasing regularisation. Duality gap: 8.269e+04, tolerance: 1.403e+03\n",
      "  model = cd_fast.enet_coordinate_descent(\n",
      "/home/david/.local/share/virtualenvs/Proyecto-Integrador-Semestre1-ERzOjjfT/lib/python3.11/site-packages/sklearn/linear_model/_coordinate_descent.py:628: ConvergenceWarning: Objective did not converge. You might want to increase the number of iterations, check the scale of the features or consider increasing regularisation. Duality gap: 1.103e+05, tolerance: 1.359e+03\n",
      "  model = cd_fast.enet_coordinate_descent(\n",
      "/home/david/.local/share/virtualenvs/Proyecto-Integrador-Semestre1-ERzOjjfT/lib/python3.11/site-packages/sklearn/linear_model/_coordinate_descent.py:628: ConvergenceWarning: Objective did not converge. You might want to increase the number of iterations, check the scale of the features or consider increasing regularisation. Duality gap: 1.327e+05, tolerance: 1.280e+03\n",
      "  model = cd_fast.enet_coordinate_descent(\n",
      "/home/david/.local/share/virtualenvs/Proyecto-Integrador-Semestre1-ERzOjjfT/lib/python3.11/site-packages/sklearn/linear_model/_coordinate_descent.py:628: ConvergenceWarning: Objective did not converge. You might want to increase the number of iterations, check the scale of the features or consider increasing regularisation. Duality gap: 8.359e+04, tolerance: 1.412e+03\n",
      "  model = cd_fast.enet_coordinate_descent(\n",
      "/home/david/.local/share/virtualenvs/Proyecto-Integrador-Semestre1-ERzOjjfT/lib/python3.11/site-packages/sklearn/linear_model/_coordinate_descent.py:628: ConvergenceWarning: Objective did not converge. You might want to increase the number of iterations, check the scale of the features or consider increasing regularisation. Duality gap: 1.078e+05, tolerance: 1.385e+03\n",
      "  model = cd_fast.enet_coordinate_descent(\n",
      "/home/david/.local/share/virtualenvs/Proyecto-Integrador-Semestre1-ERzOjjfT/lib/python3.11/site-packages/sklearn/linear_model/_coordinate_descent.py:628: ConvergenceWarning: Objective did not converge. You might want to increase the number of iterations, check the scale of the features or consider increasing regularisation. Duality gap: 3.906e+04, tolerance: 1.403e+03\n",
      "  model = cd_fast.enet_coordinate_descent(\n",
      "/home/david/.local/share/virtualenvs/Proyecto-Integrador-Semestre1-ERzOjjfT/lib/python3.11/site-packages/sklearn/linear_model/_coordinate_descent.py:628: ConvergenceWarning: Objective did not converge. You might want to increase the number of iterations, check the scale of the features or consider increasing regularisation. Duality gap: 1.104e+05, tolerance: 1.359e+03\n",
      "  model = cd_fast.enet_coordinate_descent(\n"
     ]
    },
    {
     "name": "stdout",
     "output_type": "stream",
     "text": [
      "Best parameters found: {'alpha': 4.281332398719396}\n",
      "Best cross-validation score: 0.9406517684146578\n"
     ]
    },
    {
     "name": "stderr",
     "output_type": "stream",
     "text": [
      "/home/david/.local/share/virtualenvs/Proyecto-Integrador-Semestre1-ERzOjjfT/lib/python3.11/site-packages/sklearn/linear_model/_coordinate_descent.py:628: ConvergenceWarning: Objective did not converge. You might want to increase the number of iterations, check the scale of the features or consider increasing regularisation. Duality gap: 1.326e+05, tolerance: 1.280e+03\n",
      "  model = cd_fast.enet_coordinate_descent(\n",
      "/home/david/.local/share/virtualenvs/Proyecto-Integrador-Semestre1-ERzOjjfT/lib/python3.11/site-packages/sklearn/linear_model/_coordinate_descent.py:628: ConvergenceWarning: Objective did not converge. You might want to increase the number of iterations, check the scale of the features or consider increasing regularisation. Duality gap: 1.834e+05, tolerance: 1.412e+03\n",
      "  model = cd_fast.enet_coordinate_descent(\n",
      "/home/david/.local/share/virtualenvs/Proyecto-Integrador-Semestre1-ERzOjjfT/lib/python3.11/site-packages/sklearn/linear_model/_coordinate_descent.py:628: ConvergenceWarning: Objective did not converge. You might want to increase the number of iterations, check the scale of the features or consider increasing regularisation. Duality gap: 1.077e+05, tolerance: 1.385e+03\n",
      "  model = cd_fast.enet_coordinate_descent(\n",
      "/home/david/.local/share/virtualenvs/Proyecto-Integrador-Semestre1-ERzOjjfT/lib/python3.11/site-packages/sklearn/linear_model/_coordinate_descent.py:628: ConvergenceWarning: Objective did not converge. You might want to increase the number of iterations, check the scale of the features or consider increasing regularisation. Duality gap: 9.233e+04, tolerance: 1.403e+03\n",
      "  model = cd_fast.enet_coordinate_descent(\n",
      "/home/david/.local/share/virtualenvs/Proyecto-Integrador-Semestre1-ERzOjjfT/lib/python3.11/site-packages/sklearn/linear_model/_coordinate_descent.py:628: ConvergenceWarning: Objective did not converge. You might want to increase the number of iterations, check the scale of the features or consider increasing regularisation. Duality gap: 1.103e+05, tolerance: 1.359e+03\n",
      "  model = cd_fast.enet_coordinate_descent(\n",
      "/home/david/.local/share/virtualenvs/Proyecto-Integrador-Semestre1-ERzOjjfT/lib/python3.11/site-packages/sklearn/linear_model/_coordinate_descent.py:628: ConvergenceWarning: Objective did not converge. You might want to increase the number of iterations, check the scale of the features or consider increasing regularisation. Duality gap: 1.326e+05, tolerance: 1.280e+03\n",
      "  model = cd_fast.enet_coordinate_descent(\n",
      "/home/david/.local/share/virtualenvs/Proyecto-Integrador-Semestre1-ERzOjjfT/lib/python3.11/site-packages/sklearn/linear_model/_coordinate_descent.py:628: ConvergenceWarning: Objective did not converge. You might want to increase the number of iterations, check the scale of the features or consider increasing regularisation. Duality gap: 9.204e+04, tolerance: 1.412e+03\n",
      "  model = cd_fast.enet_coordinate_descent(\n",
      "/home/david/.local/share/virtualenvs/Proyecto-Integrador-Semestre1-ERzOjjfT/lib/python3.11/site-packages/sklearn/linear_model/_coordinate_descent.py:628: ConvergenceWarning: Objective did not converge. You might want to increase the number of iterations, check the scale of the features or consider increasing regularisation. Duality gap: 1.077e+05, tolerance: 1.385e+03\n",
      "  model = cd_fast.enet_coordinate_descent(\n",
      "/home/david/.local/share/virtualenvs/Proyecto-Integrador-Semestre1-ERzOjjfT/lib/python3.11/site-packages/sklearn/linear_model/_coordinate_descent.py:628: ConvergenceWarning: Objective did not converge. You might want to increase the number of iterations, check the scale of the features or consider increasing regularisation. Duality gap: 8.269e+04, tolerance: 1.403e+03\n",
      "  model = cd_fast.enet_coordinate_descent(\n",
      "/home/david/.local/share/virtualenvs/Proyecto-Integrador-Semestre1-ERzOjjfT/lib/python3.11/site-packages/sklearn/linear_model/_coordinate_descent.py:628: ConvergenceWarning: Objective did not converge. You might want to increase the number of iterations, check the scale of the features or consider increasing regularisation. Duality gap: 1.103e+05, tolerance: 1.359e+03\n",
      "  model = cd_fast.enet_coordinate_descent(\n",
      "/home/david/.local/share/virtualenvs/Proyecto-Integrador-Semestre1-ERzOjjfT/lib/python3.11/site-packages/sklearn/linear_model/_coordinate_descent.py:628: ConvergenceWarning: Objective did not converge. You might want to increase the number of iterations, check the scale of the features or consider increasing regularisation. Duality gap: 1.327e+05, tolerance: 1.280e+03\n",
      "  model = cd_fast.enet_coordinate_descent(\n",
      "/home/david/.local/share/virtualenvs/Proyecto-Integrador-Semestre1-ERzOjjfT/lib/python3.11/site-packages/sklearn/linear_model/_coordinate_descent.py:628: ConvergenceWarning: Objective did not converge. You might want to increase the number of iterations, check the scale of the features or consider increasing regularisation. Duality gap: 8.359e+04, tolerance: 1.412e+03\n",
      "  model = cd_fast.enet_coordinate_descent(\n",
      "/home/david/.local/share/virtualenvs/Proyecto-Integrador-Semestre1-ERzOjjfT/lib/python3.11/site-packages/sklearn/linear_model/_coordinate_descent.py:628: ConvergenceWarning: Objective did not converge. You might want to increase the number of iterations, check the scale of the features or consider increasing regularisation. Duality gap: 1.078e+05, tolerance: 1.385e+03\n",
      "  model = cd_fast.enet_coordinate_descent(\n",
      "/home/david/.local/share/virtualenvs/Proyecto-Integrador-Semestre1-ERzOjjfT/lib/python3.11/site-packages/sklearn/linear_model/_coordinate_descent.py:628: ConvergenceWarning: Objective did not converge. You might want to increase the number of iterations, check the scale of the features or consider increasing regularisation. Duality gap: 3.906e+04, tolerance: 1.403e+03\n",
      "  model = cd_fast.enet_coordinate_descent(\n",
      "/home/david/.local/share/virtualenvs/Proyecto-Integrador-Semestre1-ERzOjjfT/lib/python3.11/site-packages/sklearn/linear_model/_coordinate_descent.py:628: ConvergenceWarning: Objective did not converge. You might want to increase the number of iterations, check the scale of the features or consider increasing regularisation. Duality gap: 1.104e+05, tolerance: 1.359e+03\n",
      "  model = cd_fast.enet_coordinate_descent(\n"
     ]
    },
    {
     "name": "stdout",
     "output_type": "stream",
     "text": [
      "Mean Squared Error on Test Data: 4491.264876612977\n",
      "precipitacion_meta: -0.6033561644760532\n",
      "precipitacion_tolima: -0.34569551052102393\n",
      "temp_BOYACA: 0.7436602031153009\n",
      "temp_QUINDIO: 0.5733149923544618\n",
      "temp_VALLE DEL CAUCA: 1.149911961572405\n",
      "energy_price_lag_1: 1.0746413836470614\n",
      "energy_price_lag_2: 0.06520560726103745\n",
      "energy_price_lag_3: -0.18143605444202718\n"
     ]
    }
   ],
   "source": [
    "perform_lasso_mlr({ \"df\": df, \"lags\": 3 })"
   ]
  }
 ],
 "metadata": {
  "kernelspec": {
   "display_name": "Proyecto-Integrador-Semestre1-ERzOjjfT",
   "language": "python",
   "name": "python3"
  },
  "language_info": {
   "codemirror_mode": {
    "name": "ipython",
    "version": 3
   },
   "file_extension": ".py",
   "mimetype": "text/x-python",
   "name": "python",
   "nbconvert_exporter": "python",
   "pygments_lexer": "ipython3",
   "version": "3.11.5"
  }
 },
 "nbformat": 4,
 "nbformat_minor": 2
}
