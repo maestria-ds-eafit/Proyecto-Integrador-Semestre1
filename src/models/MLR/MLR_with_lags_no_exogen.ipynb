{
 "cells": [
  {
   "cell_type": "code",
   "execution_count": 1,
   "metadata": {},
   "outputs": [],
   "source": [
    "import sys\n",
    "\n",
    "sys.path.insert(0, \"..\")"
   ]
  },
  {
   "cell_type": "code",
   "execution_count": 2,
   "metadata": {},
   "outputs": [],
   "source": [
    "from mlr import perform_mlr\n",
    "import pandas as pd\n",
    "import plotly.express as px\n",
    "from forward_backward import forward_selection, backward_selection\n",
    "import plotly.graph_objects as go"
   ]
  },
  {
   "cell_type": "code",
   "execution_count": 3,
   "metadata": {},
   "outputs": [],
   "source": [
    "df = pd.read_csv(\"../../processed_tables/merged_standardized.csv\")"
   ]
  },
  {
   "cell_type": "markdown",
   "metadata": {},
   "source": [
    "## Sacamos las variables exógenas\n"
   ]
  },
  {
   "cell_type": "code",
   "execution_count": 4,
   "metadata": {},
   "outputs": [
    {
     "data": {
      "text/html": [
       "<div>\n",
       "<style scoped>\n",
       "    .dataframe tbody tr th:only-of-type {\n",
       "        vertical-align: middle;\n",
       "    }\n",
       "\n",
       "    .dataframe tbody tr th {\n",
       "        vertical-align: top;\n",
       "    }\n",
       "\n",
       "    .dataframe thead th {\n",
       "        text-align: right;\n",
       "    }\n",
       "</style>\n",
       "<table border=\"1\" class=\"dataframe\">\n",
       "  <thead>\n",
       "    <tr style=\"text-align: right;\">\n",
       "      <th></th>\n",
       "      <th>Date</th>\n",
       "      <th>energy_price</th>\n",
       "    </tr>\n",
       "  </thead>\n",
       "  <tbody>\n",
       "    <tr>\n",
       "      <th>0</th>\n",
       "      <td>2021-10-01</td>\n",
       "      <td>216.929726</td>\n",
       "    </tr>\n",
       "    <tr>\n",
       "      <th>1</th>\n",
       "      <td>2021-10-02</td>\n",
       "      <td>256.940174</td>\n",
       "    </tr>\n",
       "    <tr>\n",
       "      <th>2</th>\n",
       "      <td>2021-10-03</td>\n",
       "      <td>282.065065</td>\n",
       "    </tr>\n",
       "    <tr>\n",
       "      <th>3</th>\n",
       "      <td>2021-10-04</td>\n",
       "      <td>286.526116</td>\n",
       "    </tr>\n",
       "    <tr>\n",
       "      <th>4</th>\n",
       "      <td>2021-10-05</td>\n",
       "      <td>278.157325</td>\n",
       "    </tr>\n",
       "  </tbody>\n",
       "</table>\n",
       "</div>"
      ],
      "text/plain": [
       "         Date  energy_price\n",
       "0  2021-10-01    216.929726\n",
       "1  2021-10-02    256.940174\n",
       "2  2021-10-03    282.065065\n",
       "3  2021-10-04    286.526116\n",
       "4  2021-10-05    278.157325"
      ]
     },
     "execution_count": 4,
     "metadata": {},
     "output_type": "execute_result"
    }
   ],
   "source": [
    "lag_columns = df.filter(like=\"lag_\")\n",
    "price = df[[\"Date\", \"energy_price\"]]\n",
    "df = pd.concat([price, lag_columns], axis=1)\n",
    "df.head()"
   ]
  },
  {
   "cell_type": "markdown",
   "metadata": {},
   "source": [
    "## Regresión lineal múltiple\n",
    "\n",
    "Usando `statsmodels` se puede realizar una regresión lineal. Nuestro módulo se encarga de hacer todo este análisis.\n"
   ]
  },
  {
   "cell_type": "code",
   "execution_count": 5,
   "metadata": {},
   "outputs": [
    {
     "name": "stdout",
     "output_type": "stream",
     "text": [
      "Lags: 1\n",
      "Mean Squared Error on Test Data: 4699.708443116314\n",
      "Mean Absolute Percentage Error: 0.09828100720305545\n",
      "-----------------------\n",
      "Lags: 2\n",
      "Mean Squared Error on Test Data: 4536.701919616192\n",
      "Mean Absolute Percentage Error: 0.09886013116486614\n",
      "-----------------------\n",
      "Lags: 3\n",
      "Mean Squared Error on Test Data: 4537.096764793275\n",
      "Mean Absolute Percentage Error: 0.09678106898815365\n",
      "-----------------------\n",
      "Lags: 4\n",
      "Mean Squared Error on Test Data: 4543.017051091168\n",
      "Mean Absolute Percentage Error: 0.09687890352808762\n",
      "-----------------------\n",
      "Lags: 5\n",
      "Mean Squared Error on Test Data: 4617.394467324015\n",
      "Mean Absolute Percentage Error: 0.09797100504809433\n",
      "-----------------------\n",
      "Lags: 6\n",
      "Mean Squared Error on Test Data: 4663.594649947829\n",
      "Mean Absolute Percentage Error: 0.0985183035930273\n",
      "-----------------------\n",
      "Lags: 7\n",
      "Mean Squared Error on Test Data: 4660.80203342627\n",
      "Mean Absolute Percentage Error: 0.09851381568493117\n",
      "-----------------------\n",
      "Lags: 8\n",
      "Mean Squared Error on Test Data: 4727.570330934948\n",
      "Mean Absolute Percentage Error: 0.09976944262476593\n",
      "-----------------------\n",
      "Lags: 9\n",
      "Mean Squared Error on Test Data: 4633.803077328718\n",
      "Mean Absolute Percentage Error: 0.0985979522744113\n",
      "-----------------------\n",
      "Lags: 10\n",
      "Mean Squared Error on Test Data: 4548.319081298284\n",
      "Mean Absolute Percentage Error: 0.09814212425259479\n",
      "-----------------------\n",
      "Lags: 11\n",
      "Mean Squared Error on Test Data: 4564.486220402709\n",
      "Mean Absolute Percentage Error: 0.09834148257659522\n",
      "-----------------------\n"
     ]
    }
   ],
   "source": [
    "mape_test = []\n",
    "mse_test = []\n",
    "\n",
    "for i in range(1, 12):\n",
    "    print(f\"Lags: {i}\")\n",
    "    results_i = perform_mlr({\"df\": df, \"lags\": i})\n",
    "    mape_i = results_i[\"mape_test\"]\n",
    "    mse_test_i = results_i[\"mse_test\"]\n",
    "    mape_test.append(mape_i)\n",
    "    mse_test.append(mse_test_i)\n",
    "    print(\"-----------------------\")"
   ]
  },
  {
   "cell_type": "code",
   "execution_count": 6,
   "metadata": {},
   "outputs": [
    {
     "data": {
      "application/vnd.plotly.v1+json": {
       "config": {
        "plotlyServerURL": "https://plot.ly"
       },
       "data": [
        {
         "hovertemplate": "lag=%{x}<br>mse_test=%{y}<extra></extra>",
         "legendgroup": "",
         "line": {
          "color": "#636efa",
          "dash": "solid"
         },
         "marker": {
          "symbol": "circle"
         },
         "mode": "lines",
         "name": "",
         "orientation": "v",
         "showlegend": false,
         "type": "scatter",
         "x": [
          1,
          2,
          3,
          4,
          5,
          6,
          7,
          8,
          9,
          10,
          11
         ],
         "xaxis": "x",
         "y": [
          4699.708443116314,
          4536.701919616192,
          4537.096764793275,
          4543.017051091168,
          4617.394467324015,
          4663.594649947829,
          4660.80203342627,
          4727.570330934948,
          4633.803077328718,
          4548.319081298284,
          4564.486220402709
         ],
         "yaxis": "y"
        }
       ],
       "layout": {
        "legend": {
         "tracegroupgap": 0
        },
        "template": {
         "data": {
          "bar": [
           {
            "error_x": {
             "color": "#2a3f5f"
            },
            "error_y": {
             "color": "#2a3f5f"
            },
            "marker": {
             "line": {
              "color": "#E5ECF6",
              "width": 0.5
             },
             "pattern": {
              "fillmode": "overlay",
              "size": 10,
              "solidity": 0.2
             }
            },
            "type": "bar"
           }
          ],
          "barpolar": [
           {
            "marker": {
             "line": {
              "color": "#E5ECF6",
              "width": 0.5
             },
             "pattern": {
              "fillmode": "overlay",
              "size": 10,
              "solidity": 0.2
             }
            },
            "type": "barpolar"
           }
          ],
          "carpet": [
           {
            "aaxis": {
             "endlinecolor": "#2a3f5f",
             "gridcolor": "white",
             "linecolor": "white",
             "minorgridcolor": "white",
             "startlinecolor": "#2a3f5f"
            },
            "baxis": {
             "endlinecolor": "#2a3f5f",
             "gridcolor": "white",
             "linecolor": "white",
             "minorgridcolor": "white",
             "startlinecolor": "#2a3f5f"
            },
            "type": "carpet"
           }
          ],
          "choropleth": [
           {
            "colorbar": {
             "outlinewidth": 0,
             "ticks": ""
            },
            "type": "choropleth"
           }
          ],
          "contour": [
           {
            "colorbar": {
             "outlinewidth": 0,
             "ticks": ""
            },
            "colorscale": [
             [
              0,
              "#0d0887"
             ],
             [
              0.1111111111111111,
              "#46039f"
             ],
             [
              0.2222222222222222,
              "#7201a8"
             ],
             [
              0.3333333333333333,
              "#9c179e"
             ],
             [
              0.4444444444444444,
              "#bd3786"
             ],
             [
              0.5555555555555556,
              "#d8576b"
             ],
             [
              0.6666666666666666,
              "#ed7953"
             ],
             [
              0.7777777777777778,
              "#fb9f3a"
             ],
             [
              0.8888888888888888,
              "#fdca26"
             ],
             [
              1,
              "#f0f921"
             ]
            ],
            "type": "contour"
           }
          ],
          "contourcarpet": [
           {
            "colorbar": {
             "outlinewidth": 0,
             "ticks": ""
            },
            "type": "contourcarpet"
           }
          ],
          "heatmap": [
           {
            "colorbar": {
             "outlinewidth": 0,
             "ticks": ""
            },
            "colorscale": [
             [
              0,
              "#0d0887"
             ],
             [
              0.1111111111111111,
              "#46039f"
             ],
             [
              0.2222222222222222,
              "#7201a8"
             ],
             [
              0.3333333333333333,
              "#9c179e"
             ],
             [
              0.4444444444444444,
              "#bd3786"
             ],
             [
              0.5555555555555556,
              "#d8576b"
             ],
             [
              0.6666666666666666,
              "#ed7953"
             ],
             [
              0.7777777777777778,
              "#fb9f3a"
             ],
             [
              0.8888888888888888,
              "#fdca26"
             ],
             [
              1,
              "#f0f921"
             ]
            ],
            "type": "heatmap"
           }
          ],
          "heatmapgl": [
           {
            "colorbar": {
             "outlinewidth": 0,
             "ticks": ""
            },
            "colorscale": [
             [
              0,
              "#0d0887"
             ],
             [
              0.1111111111111111,
              "#46039f"
             ],
             [
              0.2222222222222222,
              "#7201a8"
             ],
             [
              0.3333333333333333,
              "#9c179e"
             ],
             [
              0.4444444444444444,
              "#bd3786"
             ],
             [
              0.5555555555555556,
              "#d8576b"
             ],
             [
              0.6666666666666666,
              "#ed7953"
             ],
             [
              0.7777777777777778,
              "#fb9f3a"
             ],
             [
              0.8888888888888888,
              "#fdca26"
             ],
             [
              1,
              "#f0f921"
             ]
            ],
            "type": "heatmapgl"
           }
          ],
          "histogram": [
           {
            "marker": {
             "pattern": {
              "fillmode": "overlay",
              "size": 10,
              "solidity": 0.2
             }
            },
            "type": "histogram"
           }
          ],
          "histogram2d": [
           {
            "colorbar": {
             "outlinewidth": 0,
             "ticks": ""
            },
            "colorscale": [
             [
              0,
              "#0d0887"
             ],
             [
              0.1111111111111111,
              "#46039f"
             ],
             [
              0.2222222222222222,
              "#7201a8"
             ],
             [
              0.3333333333333333,
              "#9c179e"
             ],
             [
              0.4444444444444444,
              "#bd3786"
             ],
             [
              0.5555555555555556,
              "#d8576b"
             ],
             [
              0.6666666666666666,
              "#ed7953"
             ],
             [
              0.7777777777777778,
              "#fb9f3a"
             ],
             [
              0.8888888888888888,
              "#fdca26"
             ],
             [
              1,
              "#f0f921"
             ]
            ],
            "type": "histogram2d"
           }
          ],
          "histogram2dcontour": [
           {
            "colorbar": {
             "outlinewidth": 0,
             "ticks": ""
            },
            "colorscale": [
             [
              0,
              "#0d0887"
             ],
             [
              0.1111111111111111,
              "#46039f"
             ],
             [
              0.2222222222222222,
              "#7201a8"
             ],
             [
              0.3333333333333333,
              "#9c179e"
             ],
             [
              0.4444444444444444,
              "#bd3786"
             ],
             [
              0.5555555555555556,
              "#d8576b"
             ],
             [
              0.6666666666666666,
              "#ed7953"
             ],
             [
              0.7777777777777778,
              "#fb9f3a"
             ],
             [
              0.8888888888888888,
              "#fdca26"
             ],
             [
              1,
              "#f0f921"
             ]
            ],
            "type": "histogram2dcontour"
           }
          ],
          "mesh3d": [
           {
            "colorbar": {
             "outlinewidth": 0,
             "ticks": ""
            },
            "type": "mesh3d"
           }
          ],
          "parcoords": [
           {
            "line": {
             "colorbar": {
              "outlinewidth": 0,
              "ticks": ""
             }
            },
            "type": "parcoords"
           }
          ],
          "pie": [
           {
            "automargin": true,
            "type": "pie"
           }
          ],
          "scatter": [
           {
            "fillpattern": {
             "fillmode": "overlay",
             "size": 10,
             "solidity": 0.2
            },
            "type": "scatter"
           }
          ],
          "scatter3d": [
           {
            "line": {
             "colorbar": {
              "outlinewidth": 0,
              "ticks": ""
             }
            },
            "marker": {
             "colorbar": {
              "outlinewidth": 0,
              "ticks": ""
             }
            },
            "type": "scatter3d"
           }
          ],
          "scattercarpet": [
           {
            "marker": {
             "colorbar": {
              "outlinewidth": 0,
              "ticks": ""
             }
            },
            "type": "scattercarpet"
           }
          ],
          "scattergeo": [
           {
            "marker": {
             "colorbar": {
              "outlinewidth": 0,
              "ticks": ""
             }
            },
            "type": "scattergeo"
           }
          ],
          "scattergl": [
           {
            "marker": {
             "colorbar": {
              "outlinewidth": 0,
              "ticks": ""
             }
            },
            "type": "scattergl"
           }
          ],
          "scattermapbox": [
           {
            "marker": {
             "colorbar": {
              "outlinewidth": 0,
              "ticks": ""
             }
            },
            "type": "scattermapbox"
           }
          ],
          "scatterpolar": [
           {
            "marker": {
             "colorbar": {
              "outlinewidth": 0,
              "ticks": ""
             }
            },
            "type": "scatterpolar"
           }
          ],
          "scatterpolargl": [
           {
            "marker": {
             "colorbar": {
              "outlinewidth": 0,
              "ticks": ""
             }
            },
            "type": "scatterpolargl"
           }
          ],
          "scatterternary": [
           {
            "marker": {
             "colorbar": {
              "outlinewidth": 0,
              "ticks": ""
             }
            },
            "type": "scatterternary"
           }
          ],
          "surface": [
           {
            "colorbar": {
             "outlinewidth": 0,
             "ticks": ""
            },
            "colorscale": [
             [
              0,
              "#0d0887"
             ],
             [
              0.1111111111111111,
              "#46039f"
             ],
             [
              0.2222222222222222,
              "#7201a8"
             ],
             [
              0.3333333333333333,
              "#9c179e"
             ],
             [
              0.4444444444444444,
              "#bd3786"
             ],
             [
              0.5555555555555556,
              "#d8576b"
             ],
             [
              0.6666666666666666,
              "#ed7953"
             ],
             [
              0.7777777777777778,
              "#fb9f3a"
             ],
             [
              0.8888888888888888,
              "#fdca26"
             ],
             [
              1,
              "#f0f921"
             ]
            ],
            "type": "surface"
           }
          ],
          "table": [
           {
            "cells": {
             "fill": {
              "color": "#EBF0F8"
             },
             "line": {
              "color": "white"
             }
            },
            "header": {
             "fill": {
              "color": "#C8D4E3"
             },
             "line": {
              "color": "white"
             }
            },
            "type": "table"
           }
          ]
         },
         "layout": {
          "annotationdefaults": {
           "arrowcolor": "#2a3f5f",
           "arrowhead": 0,
           "arrowwidth": 1
          },
          "autotypenumbers": "strict",
          "coloraxis": {
           "colorbar": {
            "outlinewidth": 0,
            "ticks": ""
           }
          },
          "colorscale": {
           "diverging": [
            [
             0,
             "#8e0152"
            ],
            [
             0.1,
             "#c51b7d"
            ],
            [
             0.2,
             "#de77ae"
            ],
            [
             0.3,
             "#f1b6da"
            ],
            [
             0.4,
             "#fde0ef"
            ],
            [
             0.5,
             "#f7f7f7"
            ],
            [
             0.6,
             "#e6f5d0"
            ],
            [
             0.7,
             "#b8e186"
            ],
            [
             0.8,
             "#7fbc41"
            ],
            [
             0.9,
             "#4d9221"
            ],
            [
             1,
             "#276419"
            ]
           ],
           "sequential": [
            [
             0,
             "#0d0887"
            ],
            [
             0.1111111111111111,
             "#46039f"
            ],
            [
             0.2222222222222222,
             "#7201a8"
            ],
            [
             0.3333333333333333,
             "#9c179e"
            ],
            [
             0.4444444444444444,
             "#bd3786"
            ],
            [
             0.5555555555555556,
             "#d8576b"
            ],
            [
             0.6666666666666666,
             "#ed7953"
            ],
            [
             0.7777777777777778,
             "#fb9f3a"
            ],
            [
             0.8888888888888888,
             "#fdca26"
            ],
            [
             1,
             "#f0f921"
            ]
           ],
           "sequentialminus": [
            [
             0,
             "#0d0887"
            ],
            [
             0.1111111111111111,
             "#46039f"
            ],
            [
             0.2222222222222222,
             "#7201a8"
            ],
            [
             0.3333333333333333,
             "#9c179e"
            ],
            [
             0.4444444444444444,
             "#bd3786"
            ],
            [
             0.5555555555555556,
             "#d8576b"
            ],
            [
             0.6666666666666666,
             "#ed7953"
            ],
            [
             0.7777777777777778,
             "#fb9f3a"
            ],
            [
             0.8888888888888888,
             "#fdca26"
            ],
            [
             1,
             "#f0f921"
            ]
           ]
          },
          "colorway": [
           "#636efa",
           "#EF553B",
           "#00cc96",
           "#ab63fa",
           "#FFA15A",
           "#19d3f3",
           "#FF6692",
           "#B6E880",
           "#FF97FF",
           "#FECB52"
          ],
          "font": {
           "color": "#2a3f5f"
          },
          "geo": {
           "bgcolor": "white",
           "lakecolor": "white",
           "landcolor": "#E5ECF6",
           "showlakes": true,
           "showland": true,
           "subunitcolor": "white"
          },
          "hoverlabel": {
           "align": "left"
          },
          "hovermode": "closest",
          "mapbox": {
           "style": "light"
          },
          "paper_bgcolor": "white",
          "plot_bgcolor": "#E5ECF6",
          "polar": {
           "angularaxis": {
            "gridcolor": "white",
            "linecolor": "white",
            "ticks": ""
           },
           "bgcolor": "#E5ECF6",
           "radialaxis": {
            "gridcolor": "white",
            "linecolor": "white",
            "ticks": ""
           }
          },
          "scene": {
           "xaxis": {
            "backgroundcolor": "#E5ECF6",
            "gridcolor": "white",
            "gridwidth": 2,
            "linecolor": "white",
            "showbackground": true,
            "ticks": "",
            "zerolinecolor": "white"
           },
           "yaxis": {
            "backgroundcolor": "#E5ECF6",
            "gridcolor": "white",
            "gridwidth": 2,
            "linecolor": "white",
            "showbackground": true,
            "ticks": "",
            "zerolinecolor": "white"
           },
           "zaxis": {
            "backgroundcolor": "#E5ECF6",
            "gridcolor": "white",
            "gridwidth": 2,
            "linecolor": "white",
            "showbackground": true,
            "ticks": "",
            "zerolinecolor": "white"
           }
          },
          "shapedefaults": {
           "line": {
            "color": "#2a3f5f"
           }
          },
          "ternary": {
           "aaxis": {
            "gridcolor": "white",
            "linecolor": "white",
            "ticks": ""
           },
           "baxis": {
            "gridcolor": "white",
            "linecolor": "white",
            "ticks": ""
           },
           "bgcolor": "#E5ECF6",
           "caxis": {
            "gridcolor": "white",
            "linecolor": "white",
            "ticks": ""
           }
          },
          "title": {
           "x": 0.05
          },
          "xaxis": {
           "automargin": true,
           "gridcolor": "white",
           "linecolor": "white",
           "ticks": "",
           "title": {
            "standoff": 15
           },
           "zerolinecolor": "white",
           "zerolinewidth": 2
          },
          "yaxis": {
           "automargin": true,
           "gridcolor": "white",
           "linecolor": "white",
           "ticks": "",
           "title": {
            "standoff": 15
           },
           "zerolinecolor": "white",
           "zerolinewidth": 2
          }
         }
        },
        "title": {
         "text": "MSE de la data de test vs Lags"
        },
        "xaxis": {
         "anchor": "y",
         "domain": [
          0,
          1
         ],
         "title": {
          "text": "lag"
         }
        },
        "yaxis": {
         "anchor": "x",
         "domain": [
          0,
          1
         ],
         "title": {
          "text": "mse_test"
         }
        }
       }
      }
     },
     "metadata": {},
     "output_type": "display_data"
    }
   ],
   "source": [
    "df_pruebas = pd.DataFrame(\n",
    "    {\"lag\": list(range(1, 12)), \"mse_test\": mse_test, \"mape_test\": mape_test}\n",
    ")\n",
    "\n",
    "fig_mse = px.line(\n",
    "    df_pruebas, x=\"lag\", y=\"mse_test\", title=\"MSE de la data de test vs Lags\"\n",
    ")\n",
    "\n",
    "fig_mse.show()"
   ]
  },
  {
   "cell_type": "code",
   "execution_count": 7,
   "metadata": {},
   "outputs": [
    {
     "data": {
      "application/vnd.plotly.v1+json": {
       "config": {
        "plotlyServerURL": "https://plot.ly"
       },
       "data": [
        {
         "hovertemplate": "lag=%{x}<br>mape_test=%{y}<extra></extra>",
         "legendgroup": "",
         "line": {
          "color": "#636efa",
          "dash": "solid"
         },
         "marker": {
          "symbol": "circle"
         },
         "mode": "lines",
         "name": "",
         "orientation": "v",
         "showlegend": false,
         "type": "scatter",
         "x": [
          1,
          2,
          3,
          4,
          5,
          6,
          7,
          8,
          9,
          10,
          11
         ],
         "xaxis": "x",
         "y": [
          0.09828100720305545,
          0.09886013116486614,
          0.09678106898815365,
          0.09687890352808762,
          0.09797100504809433,
          0.0985183035930273,
          0.09851381568493117,
          0.09976944262476593,
          0.0985979522744113,
          0.09814212425259479,
          0.09834148257659522
         ],
         "yaxis": "y"
        }
       ],
       "layout": {
        "legend": {
         "tracegroupgap": 0
        },
        "template": {
         "data": {
          "bar": [
           {
            "error_x": {
             "color": "#2a3f5f"
            },
            "error_y": {
             "color": "#2a3f5f"
            },
            "marker": {
             "line": {
              "color": "#E5ECF6",
              "width": 0.5
             },
             "pattern": {
              "fillmode": "overlay",
              "size": 10,
              "solidity": 0.2
             }
            },
            "type": "bar"
           }
          ],
          "barpolar": [
           {
            "marker": {
             "line": {
              "color": "#E5ECF6",
              "width": 0.5
             },
             "pattern": {
              "fillmode": "overlay",
              "size": 10,
              "solidity": 0.2
             }
            },
            "type": "barpolar"
           }
          ],
          "carpet": [
           {
            "aaxis": {
             "endlinecolor": "#2a3f5f",
             "gridcolor": "white",
             "linecolor": "white",
             "minorgridcolor": "white",
             "startlinecolor": "#2a3f5f"
            },
            "baxis": {
             "endlinecolor": "#2a3f5f",
             "gridcolor": "white",
             "linecolor": "white",
             "minorgridcolor": "white",
             "startlinecolor": "#2a3f5f"
            },
            "type": "carpet"
           }
          ],
          "choropleth": [
           {
            "colorbar": {
             "outlinewidth": 0,
             "ticks": ""
            },
            "type": "choropleth"
           }
          ],
          "contour": [
           {
            "colorbar": {
             "outlinewidth": 0,
             "ticks": ""
            },
            "colorscale": [
             [
              0,
              "#0d0887"
             ],
             [
              0.1111111111111111,
              "#46039f"
             ],
             [
              0.2222222222222222,
              "#7201a8"
             ],
             [
              0.3333333333333333,
              "#9c179e"
             ],
             [
              0.4444444444444444,
              "#bd3786"
             ],
             [
              0.5555555555555556,
              "#d8576b"
             ],
             [
              0.6666666666666666,
              "#ed7953"
             ],
             [
              0.7777777777777778,
              "#fb9f3a"
             ],
             [
              0.8888888888888888,
              "#fdca26"
             ],
             [
              1,
              "#f0f921"
             ]
            ],
            "type": "contour"
           }
          ],
          "contourcarpet": [
           {
            "colorbar": {
             "outlinewidth": 0,
             "ticks": ""
            },
            "type": "contourcarpet"
           }
          ],
          "heatmap": [
           {
            "colorbar": {
             "outlinewidth": 0,
             "ticks": ""
            },
            "colorscale": [
             [
              0,
              "#0d0887"
             ],
             [
              0.1111111111111111,
              "#46039f"
             ],
             [
              0.2222222222222222,
              "#7201a8"
             ],
             [
              0.3333333333333333,
              "#9c179e"
             ],
             [
              0.4444444444444444,
              "#bd3786"
             ],
             [
              0.5555555555555556,
              "#d8576b"
             ],
             [
              0.6666666666666666,
              "#ed7953"
             ],
             [
              0.7777777777777778,
              "#fb9f3a"
             ],
             [
              0.8888888888888888,
              "#fdca26"
             ],
             [
              1,
              "#f0f921"
             ]
            ],
            "type": "heatmap"
           }
          ],
          "heatmapgl": [
           {
            "colorbar": {
             "outlinewidth": 0,
             "ticks": ""
            },
            "colorscale": [
             [
              0,
              "#0d0887"
             ],
             [
              0.1111111111111111,
              "#46039f"
             ],
             [
              0.2222222222222222,
              "#7201a8"
             ],
             [
              0.3333333333333333,
              "#9c179e"
             ],
             [
              0.4444444444444444,
              "#bd3786"
             ],
             [
              0.5555555555555556,
              "#d8576b"
             ],
             [
              0.6666666666666666,
              "#ed7953"
             ],
             [
              0.7777777777777778,
              "#fb9f3a"
             ],
             [
              0.8888888888888888,
              "#fdca26"
             ],
             [
              1,
              "#f0f921"
             ]
            ],
            "type": "heatmapgl"
           }
          ],
          "histogram": [
           {
            "marker": {
             "pattern": {
              "fillmode": "overlay",
              "size": 10,
              "solidity": 0.2
             }
            },
            "type": "histogram"
           }
          ],
          "histogram2d": [
           {
            "colorbar": {
             "outlinewidth": 0,
             "ticks": ""
            },
            "colorscale": [
             [
              0,
              "#0d0887"
             ],
             [
              0.1111111111111111,
              "#46039f"
             ],
             [
              0.2222222222222222,
              "#7201a8"
             ],
             [
              0.3333333333333333,
              "#9c179e"
             ],
             [
              0.4444444444444444,
              "#bd3786"
             ],
             [
              0.5555555555555556,
              "#d8576b"
             ],
             [
              0.6666666666666666,
              "#ed7953"
             ],
             [
              0.7777777777777778,
              "#fb9f3a"
             ],
             [
              0.8888888888888888,
              "#fdca26"
             ],
             [
              1,
              "#f0f921"
             ]
            ],
            "type": "histogram2d"
           }
          ],
          "histogram2dcontour": [
           {
            "colorbar": {
             "outlinewidth": 0,
             "ticks": ""
            },
            "colorscale": [
             [
              0,
              "#0d0887"
             ],
             [
              0.1111111111111111,
              "#46039f"
             ],
             [
              0.2222222222222222,
              "#7201a8"
             ],
             [
              0.3333333333333333,
              "#9c179e"
             ],
             [
              0.4444444444444444,
              "#bd3786"
             ],
             [
              0.5555555555555556,
              "#d8576b"
             ],
             [
              0.6666666666666666,
              "#ed7953"
             ],
             [
              0.7777777777777778,
              "#fb9f3a"
             ],
             [
              0.8888888888888888,
              "#fdca26"
             ],
             [
              1,
              "#f0f921"
             ]
            ],
            "type": "histogram2dcontour"
           }
          ],
          "mesh3d": [
           {
            "colorbar": {
             "outlinewidth": 0,
             "ticks": ""
            },
            "type": "mesh3d"
           }
          ],
          "parcoords": [
           {
            "line": {
             "colorbar": {
              "outlinewidth": 0,
              "ticks": ""
             }
            },
            "type": "parcoords"
           }
          ],
          "pie": [
           {
            "automargin": true,
            "type": "pie"
           }
          ],
          "scatter": [
           {
            "fillpattern": {
             "fillmode": "overlay",
             "size": 10,
             "solidity": 0.2
            },
            "type": "scatter"
           }
          ],
          "scatter3d": [
           {
            "line": {
             "colorbar": {
              "outlinewidth": 0,
              "ticks": ""
             }
            },
            "marker": {
             "colorbar": {
              "outlinewidth": 0,
              "ticks": ""
             }
            },
            "type": "scatter3d"
           }
          ],
          "scattercarpet": [
           {
            "marker": {
             "colorbar": {
              "outlinewidth": 0,
              "ticks": ""
             }
            },
            "type": "scattercarpet"
           }
          ],
          "scattergeo": [
           {
            "marker": {
             "colorbar": {
              "outlinewidth": 0,
              "ticks": ""
             }
            },
            "type": "scattergeo"
           }
          ],
          "scattergl": [
           {
            "marker": {
             "colorbar": {
              "outlinewidth": 0,
              "ticks": ""
             }
            },
            "type": "scattergl"
           }
          ],
          "scattermapbox": [
           {
            "marker": {
             "colorbar": {
              "outlinewidth": 0,
              "ticks": ""
             }
            },
            "type": "scattermapbox"
           }
          ],
          "scatterpolar": [
           {
            "marker": {
             "colorbar": {
              "outlinewidth": 0,
              "ticks": ""
             }
            },
            "type": "scatterpolar"
           }
          ],
          "scatterpolargl": [
           {
            "marker": {
             "colorbar": {
              "outlinewidth": 0,
              "ticks": ""
             }
            },
            "type": "scatterpolargl"
           }
          ],
          "scatterternary": [
           {
            "marker": {
             "colorbar": {
              "outlinewidth": 0,
              "ticks": ""
             }
            },
            "type": "scatterternary"
           }
          ],
          "surface": [
           {
            "colorbar": {
             "outlinewidth": 0,
             "ticks": ""
            },
            "colorscale": [
             [
              0,
              "#0d0887"
             ],
             [
              0.1111111111111111,
              "#46039f"
             ],
             [
              0.2222222222222222,
              "#7201a8"
             ],
             [
              0.3333333333333333,
              "#9c179e"
             ],
             [
              0.4444444444444444,
              "#bd3786"
             ],
             [
              0.5555555555555556,
              "#d8576b"
             ],
             [
              0.6666666666666666,
              "#ed7953"
             ],
             [
              0.7777777777777778,
              "#fb9f3a"
             ],
             [
              0.8888888888888888,
              "#fdca26"
             ],
             [
              1,
              "#f0f921"
             ]
            ],
            "type": "surface"
           }
          ],
          "table": [
           {
            "cells": {
             "fill": {
              "color": "#EBF0F8"
             },
             "line": {
              "color": "white"
             }
            },
            "header": {
             "fill": {
              "color": "#C8D4E3"
             },
             "line": {
              "color": "white"
             }
            },
            "type": "table"
           }
          ]
         },
         "layout": {
          "annotationdefaults": {
           "arrowcolor": "#2a3f5f",
           "arrowhead": 0,
           "arrowwidth": 1
          },
          "autotypenumbers": "strict",
          "coloraxis": {
           "colorbar": {
            "outlinewidth": 0,
            "ticks": ""
           }
          },
          "colorscale": {
           "diverging": [
            [
             0,
             "#8e0152"
            ],
            [
             0.1,
             "#c51b7d"
            ],
            [
             0.2,
             "#de77ae"
            ],
            [
             0.3,
             "#f1b6da"
            ],
            [
             0.4,
             "#fde0ef"
            ],
            [
             0.5,
             "#f7f7f7"
            ],
            [
             0.6,
             "#e6f5d0"
            ],
            [
             0.7,
             "#b8e186"
            ],
            [
             0.8,
             "#7fbc41"
            ],
            [
             0.9,
             "#4d9221"
            ],
            [
             1,
             "#276419"
            ]
           ],
           "sequential": [
            [
             0,
             "#0d0887"
            ],
            [
             0.1111111111111111,
             "#46039f"
            ],
            [
             0.2222222222222222,
             "#7201a8"
            ],
            [
             0.3333333333333333,
             "#9c179e"
            ],
            [
             0.4444444444444444,
             "#bd3786"
            ],
            [
             0.5555555555555556,
             "#d8576b"
            ],
            [
             0.6666666666666666,
             "#ed7953"
            ],
            [
             0.7777777777777778,
             "#fb9f3a"
            ],
            [
             0.8888888888888888,
             "#fdca26"
            ],
            [
             1,
             "#f0f921"
            ]
           ],
           "sequentialminus": [
            [
             0,
             "#0d0887"
            ],
            [
             0.1111111111111111,
             "#46039f"
            ],
            [
             0.2222222222222222,
             "#7201a8"
            ],
            [
             0.3333333333333333,
             "#9c179e"
            ],
            [
             0.4444444444444444,
             "#bd3786"
            ],
            [
             0.5555555555555556,
             "#d8576b"
            ],
            [
             0.6666666666666666,
             "#ed7953"
            ],
            [
             0.7777777777777778,
             "#fb9f3a"
            ],
            [
             0.8888888888888888,
             "#fdca26"
            ],
            [
             1,
             "#f0f921"
            ]
           ]
          },
          "colorway": [
           "#636efa",
           "#EF553B",
           "#00cc96",
           "#ab63fa",
           "#FFA15A",
           "#19d3f3",
           "#FF6692",
           "#B6E880",
           "#FF97FF",
           "#FECB52"
          ],
          "font": {
           "color": "#2a3f5f"
          },
          "geo": {
           "bgcolor": "white",
           "lakecolor": "white",
           "landcolor": "#E5ECF6",
           "showlakes": true,
           "showland": true,
           "subunitcolor": "white"
          },
          "hoverlabel": {
           "align": "left"
          },
          "hovermode": "closest",
          "mapbox": {
           "style": "light"
          },
          "paper_bgcolor": "white",
          "plot_bgcolor": "#E5ECF6",
          "polar": {
           "angularaxis": {
            "gridcolor": "white",
            "linecolor": "white",
            "ticks": ""
           },
           "bgcolor": "#E5ECF6",
           "radialaxis": {
            "gridcolor": "white",
            "linecolor": "white",
            "ticks": ""
           }
          },
          "scene": {
           "xaxis": {
            "backgroundcolor": "#E5ECF6",
            "gridcolor": "white",
            "gridwidth": 2,
            "linecolor": "white",
            "showbackground": true,
            "ticks": "",
            "zerolinecolor": "white"
           },
           "yaxis": {
            "backgroundcolor": "#E5ECF6",
            "gridcolor": "white",
            "gridwidth": 2,
            "linecolor": "white",
            "showbackground": true,
            "ticks": "",
            "zerolinecolor": "white"
           },
           "zaxis": {
            "backgroundcolor": "#E5ECF6",
            "gridcolor": "white",
            "gridwidth": 2,
            "linecolor": "white",
            "showbackground": true,
            "ticks": "",
            "zerolinecolor": "white"
           }
          },
          "shapedefaults": {
           "line": {
            "color": "#2a3f5f"
           }
          },
          "ternary": {
           "aaxis": {
            "gridcolor": "white",
            "linecolor": "white",
            "ticks": ""
           },
           "baxis": {
            "gridcolor": "white",
            "linecolor": "white",
            "ticks": ""
           },
           "bgcolor": "#E5ECF6",
           "caxis": {
            "gridcolor": "white",
            "linecolor": "white",
            "ticks": ""
           }
          },
          "title": {
           "x": 0.05
          },
          "xaxis": {
           "automargin": true,
           "gridcolor": "white",
           "linecolor": "white",
           "ticks": "",
           "title": {
            "standoff": 15
           },
           "zerolinecolor": "white",
           "zerolinewidth": 2
          },
          "yaxis": {
           "automargin": true,
           "gridcolor": "white",
           "linecolor": "white",
           "ticks": "",
           "title": {
            "standoff": 15
           },
           "zerolinecolor": "white",
           "zerolinewidth": 2
          }
         }
        },
        "title": {
         "text": "MAPE de la data de test vs Lags"
        },
        "xaxis": {
         "anchor": "y",
         "domain": [
          0,
          1
         ],
         "title": {
          "text": "lag"
         }
        },
        "yaxis": {
         "anchor": "x",
         "domain": [
          0,
          1
         ],
         "title": {
          "text": "mape_test"
         }
        }
       }
      }
     },
     "metadata": {},
     "output_type": "display_data"
    }
   ],
   "source": [
    "fig_mape = px.line(\n",
    "    df_pruebas, x=\"lag\", y=\"mape_test\", title=\"MAPE de la data de test vs Lags\"\n",
    ")\n",
    "\n",
    "fig_mape.show()"
   ]
  },
  {
   "cell_type": "markdown",
   "metadata": {},
   "source": [
    "Usando como métrica de elección el MAPE, vemos que el mejor modelo es con lag = 3\n"
   ]
  },
  {
   "cell_type": "code",
   "execution_count": 8,
   "metadata": {},
   "outputs": [
    {
     "name": "stdout",
     "output_type": "stream",
     "text": [
      "Mean Squared Error on Test Data: 4537.096764793275\n",
      "Mean Absolute Percentage Error: 0.09678106898815365\n"
     ]
    }
   ],
   "source": [
    "fecha_corte = \"2023-07-01\"\n",
    "\n",
    "results = perform_mlr({\"df\": df, \"fecha_corte\": fecha_corte, \"lags\": 3})\n",
    "y_pred = results[\"y_pred\"]\n",
    "y_test = results[\"y_test\"]\n",
    "X_test_dates = results[\"X_test_dates\"]\n",
    "X_train = results[\"X_train\"]\n",
    "X_train_dates = results[\"X_train_dates\"]\n",
    "y_train = results[\"y_train\"]\n",
    "y_pred_train = results[\"y_pred_train\"]\n",
    "X_test = results[\"X_test\"]\n",
    "mse = results[\"mse_test\"]\n",
    "mape = results[\"mape_test\"]\n",
    "significant_variables = results[\"significant_variables\"]\n",
    "df_with_lags = results[\"df_with_lags\"]"
   ]
  },
  {
   "cell_type": "code",
   "execution_count": 9,
   "metadata": {},
   "outputs": [],
   "source": [
    "significant_variables.remove(\"const\")\n",
    "significant_variables.append(\"Date\")\n",
    "significant_variables.append(\"energy_price\")"
   ]
  },
  {
   "cell_type": "markdown",
   "metadata": {},
   "source": [
    "## MLR with selected variables\n"
   ]
  },
  {
   "cell_type": "code",
   "execution_count": 10,
   "metadata": {},
   "outputs": [
    {
     "name": "stdout",
     "output_type": "stream",
     "text": [
      "Mean Squared Error on Test Data: 4534.432108792191\n",
      "Mean Absolute Percentage Error: 0.09674438896074171\n"
     ]
    }
   ],
   "source": [
    "# Selecciona las columnas significativas del DataFrame original\n",
    "df_selected_variables = df_with_lags[significant_variables].copy()\n",
    "\n",
    "fecha_corte = \"2023-07-01\"\n",
    "\n",
    "results = perform_mlr(\n",
    "    {\"df\": df_selected_variables, \"fecha_corte\": fecha_corte, \"lags\": 3}\n",
    ")\n",
    "y_pred_MRL_selection = results[\"y_pred\"]\n",
    "y_pred_1_MRL_selection = y_pred[1:]\n",
    "y_test_MRL_selection = results[\"y_test\"]\n",
    "X_test_dates_MRL_selection = results[\"X_test_dates\"]\n",
    "X_train_MRL_selection = results[\"X_train\"]\n",
    "X_train_dates_MRL_selection = results[\"X_train_dates\"]\n",
    "y_train_MRL_selection = results[\"y_train\"]\n",
    "y_pred_train_MRL_selection = results[\"y_pred_train\"]\n",
    "mse_MRL_selection = results[\"mse_test\"]\n",
    "mape_MRL_selection = results[\"mape_test\"]"
   ]
  },
  {
   "cell_type": "markdown",
   "metadata": {},
   "source": [
    "## Forward selection\n"
   ]
  },
  {
   "cell_type": "code",
   "execution_count": 11,
   "metadata": {},
   "outputs": [
    {
     "name": "stdout",
     "output_type": "stream",
     "text": [
      "Forward Selection Result: ['energy_price_lag_1', 'Date', 'energy_price']\n"
     ]
    }
   ],
   "source": [
    "# all_features = list(df.columns[:])\n",
    "selected_features_forward = forward_selection(X_train, y_train)\n",
    "print(\"Forward Selection Result:\", selected_features_forward)"
   ]
  },
  {
   "cell_type": "code",
   "execution_count": 12,
   "metadata": {},
   "outputs": [
    {
     "name": "stdout",
     "output_type": "stream",
     "text": [
      "3\n",
      "Forward Selection Result: ['energy_price_lag_1', 'Date', 'energy_price']\n"
     ]
    }
   ],
   "source": [
    "print(len(selected_features_forward))\n",
    "print(\"Forward Selection Result:\", selected_features_forward)"
   ]
  },
  {
   "cell_type": "code",
   "execution_count": 13,
   "metadata": {},
   "outputs": [
    {
     "name": "stdout",
     "output_type": "stream",
     "text": [
      "Mean Squared Error on Test Data: 4534.432108792162\n",
      "Mean Absolute Percentage Error: 0.09674438896074138\n"
     ]
    }
   ],
   "source": [
    "df_selected_variables_forward = df_with_lags[selected_features_forward]\n",
    "\n",
    "fecha_corte = \"2023-07-01\"\n",
    "\n",
    "results = perform_mlr(\n",
    "    {\"df\": df_selected_variables_forward, \"fecha_corte\": fecha_corte, \"lags\": 3}\n",
    ")\n",
    "mse_f = results[\"mse_test\"]\n",
    "mape_f = results[\"mape_test\"]"
   ]
  },
  {
   "cell_type": "markdown",
   "metadata": {},
   "source": [
    "## Backward selection\n"
   ]
  },
  {
   "cell_type": "code",
   "execution_count": 14,
   "metadata": {},
   "outputs": [],
   "source": [
    "selected_features_backward = backward_selection(X_train, y_train)"
   ]
  },
  {
   "cell_type": "code",
   "execution_count": 15,
   "metadata": {},
   "outputs": [
    {
     "name": "stdout",
     "output_type": "stream",
     "text": [
      "4\n",
      "Backward Selection Result: ['energy_price_lag_1', 'energy_price_lag_2', 'Date', 'energy_price']\n"
     ]
    }
   ],
   "source": [
    "print(len(selected_features_backward))\n",
    "print(\"Backward Selection Result:\", selected_features_backward)"
   ]
  },
  {
   "cell_type": "code",
   "execution_count": 16,
   "metadata": {},
   "outputs": [
    {
     "name": "stdout",
     "output_type": "stream",
     "text": [
      "Mean Squared Error on Test Data: 4534.432108792162\n",
      "Mean Absolute Percentage Error: 0.09674438896074138\n"
     ]
    }
   ],
   "source": [
    "df_selected_variables_backward = df_with_lags[selected_features_backward]\n",
    "\n",
    "fecha_corte = \"2023-07-01\"\n",
    "\n",
    "results = perform_mlr(\n",
    "    {\"df\": df_selected_variables_backward, \"fecha_corte\": fecha_corte, \"lags\": 3}\n",
    ")\n",
    "mse_b = results[\"mse_test\"]\n",
    "mape_b = results[\"mape_test\"]"
   ]
  },
  {
   "cell_type": "code",
   "execution_count": 17,
   "metadata": {},
   "outputs": [
    {
     "data": {
      "text/html": [
       "<div>\n",
       "<style scoped>\n",
       "    .dataframe tbody tr th:only-of-type {\n",
       "        vertical-align: middle;\n",
       "    }\n",
       "\n",
       "    .dataframe tbody tr th {\n",
       "        vertical-align: top;\n",
       "    }\n",
       "\n",
       "    .dataframe thead th {\n",
       "        text-align: right;\n",
       "    }\n",
       "</style>\n",
       "<table border=\"1\" class=\"dataframe\">\n",
       "  <thead>\n",
       "    <tr style=\"text-align: right;\">\n",
       "      <th></th>\n",
       "      <th>Modelo</th>\n",
       "      <th>MSE</th>\n",
       "      <th>MAPE</th>\n",
       "    </tr>\n",
       "  </thead>\n",
       "  <tbody>\n",
       "    <tr>\n",
       "      <th>0</th>\n",
       "      <td>MLR</td>\n",
       "      <td>4537.096765</td>\n",
       "      <td>0.096781</td>\n",
       "    </tr>\n",
       "    <tr>\n",
       "      <th>1</th>\n",
       "      <td>MLR_selection</td>\n",
       "      <td>4534.432109</td>\n",
       "      <td>0.096744</td>\n",
       "    </tr>\n",
       "    <tr>\n",
       "      <th>2</th>\n",
       "      <td>MLR_forward</td>\n",
       "      <td>4534.432109</td>\n",
       "      <td>0.096744</td>\n",
       "    </tr>\n",
       "    <tr>\n",
       "      <th>3</th>\n",
       "      <td>MLR_backward</td>\n",
       "      <td>4534.432109</td>\n",
       "      <td>0.096744</td>\n",
       "    </tr>\n",
       "  </tbody>\n",
       "</table>\n",
       "</div>"
      ],
      "text/plain": [
       "          Modelo          MSE      MAPE\n",
       "0            MLR  4537.096765  0.096781\n",
       "1  MLR_selection  4534.432109  0.096744\n",
       "2    MLR_forward  4534.432109  0.096744\n",
       "3   MLR_backward  4534.432109  0.096744"
      ]
     },
     "execution_count": 17,
     "metadata": {},
     "output_type": "execute_result"
    }
   ],
   "source": [
    "results_MRL_with_lags = pd.DataFrame(\n",
    "    {\n",
    "        \"Modelo\": [\"MLR\", \"MLR_selection\", \"MLR_forward\", \"MLR_backward\"],\n",
    "        \"MSE\": [mse, mse_MRL_selection, mse_f, mse_b],\n",
    "        \"MAPE\": [mape, mape_MRL_selection, mape_f, mape_b],\n",
    "    }\n",
    ")\n",
    "\n",
    "results_MRL_with_lags"
   ]
  },
  {
   "cell_type": "markdown",
   "metadata": {},
   "source": [
    "Se identifica que la seleccion de variablesque obtuvo mejor desempeño en cuanto a la metrica seleccionada MAPE es el Backward selection.\n"
   ]
  },
  {
   "cell_type": "code",
   "execution_count": 18,
   "metadata": {},
   "outputs": [
    {
     "data": {
      "application/vnd.plotly.v1+json": {
       "config": {
        "plotlyServerURL": "https://plot.ly"
       },
       "data": [
        {
         "hovertemplate": "x=%{x}<br>y=%{y}<extra></extra>",
         "legendgroup": "",
         "line": {
          "color": "#636efa",
          "dash": "solid"
         },
         "marker": {
          "symbol": "circle"
         },
         "mode": "lines",
         "name": "",
         "orientation": "v",
         "showlegend": false,
         "type": "scatter",
         "x": [
          "2021-10-07",
          "2021-10-08",
          "2021-10-09",
          "2021-10-10",
          "2021-10-11",
          "2021-10-12",
          "2021-10-13",
          "2021-10-14",
          "2021-10-15",
          "2021-10-16",
          "2021-10-17",
          "2021-10-18",
          "2021-10-19",
          "2021-10-20",
          "2021-10-21",
          "2021-10-22",
          "2021-10-23",
          "2021-10-24",
          "2021-10-25",
          "2021-10-26",
          "2021-10-27",
          "2021-10-28",
          "2021-10-29",
          "2021-10-30",
          "2021-10-31",
          "2021-11-01",
          "2021-11-02",
          "2021-11-03",
          "2021-11-04",
          "2021-11-05",
          "2021-11-06",
          "2021-11-07",
          "2021-11-08",
          "2021-11-09",
          "2021-12-04",
          "2021-12-05",
          "2021-12-06",
          "2021-12-07",
          "2021-12-08",
          "2021-12-09",
          "2021-12-10",
          "2021-12-11",
          "2021-12-12",
          "2021-12-13",
          "2021-12-14",
          "2021-12-15",
          "2021-12-16",
          "2021-12-17",
          "2021-12-18",
          "2021-12-19",
          "2021-12-20",
          "2021-12-21",
          "2021-12-22",
          "2021-12-23",
          "2021-12-24",
          "2021-12-25",
          "2021-12-26",
          "2021-12-27",
          "2021-12-28",
          "2021-12-29",
          "2021-12-30",
          "2021-12-31",
          "2022-02-01",
          "2022-02-02",
          "2022-02-03",
          "2022-02-04",
          "2022-02-05",
          "2022-02-06",
          "2022-02-07",
          "2022-02-08",
          "2022-02-09",
          "2022-02-10",
          "2022-02-11",
          "2022-02-12",
          "2022-02-13",
          "2022-02-14",
          "2022-02-15",
          "2022-02-16",
          "2022-02-17",
          "2022-02-18",
          "2022-02-19",
          "2022-02-20",
          "2022-02-21",
          "2022-02-22",
          "2022-02-23",
          "2022-02-24",
          "2022-02-25",
          "2022-02-26",
          "2022-02-27",
          "2022-02-28",
          "2022-04-01",
          "2022-04-02",
          "2022-04-03",
          "2022-04-04",
          "2022-04-05",
          "2022-04-06",
          "2022-04-07",
          "2022-04-08",
          "2022-04-09",
          "2022-04-10",
          "2022-04-11",
          "2022-04-12",
          "2022-04-13",
          "2022-04-14",
          "2022-04-15",
          "2022-04-16",
          "2022-04-17",
          "2022-04-18",
          "2022-04-19",
          "2022-04-20",
          "2022-04-21",
          "2022-04-22",
          "2022-04-23",
          "2022-04-24",
          "2022-04-25",
          "2022-04-26",
          "2022-04-27",
          "2022-04-28",
          "2022-04-29",
          "2022-04-30",
          "2022-05-01",
          "2022-05-02",
          "2022-05-03",
          "2022-05-04",
          "2022-05-05",
          "2022-05-06",
          "2022-05-07",
          "2022-05-08",
          "2022-05-09",
          "2022-05-10",
          "2022-05-11",
          "2022-05-12",
          "2022-05-13",
          "2022-05-14",
          "2022-05-15",
          "2022-05-16",
          "2022-05-17",
          "2022-05-18",
          "2022-05-19",
          "2022-05-20",
          "2022-05-21",
          "2022-05-22",
          "2022-05-23",
          "2022-05-24",
          "2022-05-25",
          "2022-05-26",
          "2022-05-27",
          "2022-05-28",
          "2022-05-29",
          "2022-05-30",
          "2022-05-31",
          "2022-06-01",
          "2022-06-02",
          "2022-06-03",
          "2022-06-04",
          "2022-06-05",
          "2022-06-06",
          "2022-06-07",
          "2022-06-08",
          "2022-06-09",
          "2022-06-10",
          "2022-06-11",
          "2022-06-12",
          "2022-06-13",
          "2022-06-14",
          "2022-06-15",
          "2022-06-16",
          "2022-06-17",
          "2022-06-18",
          "2022-06-19",
          "2022-06-20",
          "2022-06-21",
          "2022-06-22",
          "2022-06-23",
          "2022-06-24",
          "2022-06-25",
          "2022-06-26",
          "2022-06-27",
          "2022-06-28",
          "2022-06-29",
          "2022-06-30",
          "2022-07-01",
          "2022-07-02",
          "2022-07-03",
          "2022-07-04",
          "2022-07-05",
          "2022-07-06",
          "2022-07-07",
          "2022-07-08",
          "2022-07-09",
          "2022-07-10",
          "2022-07-11",
          "2022-07-12",
          "2022-07-13",
          "2022-07-14",
          "2022-07-15",
          "2022-07-16",
          "2022-07-17",
          "2022-07-18",
          "2022-07-19",
          "2022-07-20",
          "2022-07-21",
          "2022-07-22",
          "2022-07-23",
          "2022-07-24",
          "2022-07-25",
          "2022-07-26",
          "2022-07-27",
          "2022-07-28",
          "2022-07-29",
          "2022-07-30",
          "2022-07-31",
          "2022-08-01",
          "2022-08-02",
          "2022-08-03",
          "2022-08-04",
          "2022-08-05",
          "2022-08-06",
          "2022-08-07",
          "2022-08-08",
          "2022-08-09",
          "2022-08-10",
          "2022-08-11",
          "2022-08-12",
          "2022-08-13",
          "2022-08-14",
          "2022-08-15",
          "2022-08-16",
          "2022-08-17",
          "2022-08-18",
          "2022-08-19",
          "2022-08-20",
          "2022-08-21",
          "2022-08-22",
          "2022-08-23",
          "2022-08-24",
          "2022-08-25",
          "2022-08-26",
          "2022-08-27",
          "2022-08-28",
          "2022-08-29",
          "2022-08-30",
          "2022-08-31",
          "2022-09-01",
          "2022-09-02",
          "2022-09-03",
          "2022-09-04",
          "2022-09-05",
          "2022-09-06",
          "2022-09-07",
          "2022-09-08",
          "2022-09-09",
          "2022-09-10",
          "2022-09-11",
          "2022-09-12",
          "2022-09-13",
          "2022-09-14",
          "2022-09-15",
          "2022-09-16",
          "2022-09-17",
          "2022-09-18",
          "2022-09-19",
          "2022-09-20",
          "2022-09-21",
          "2022-09-22",
          "2022-09-23",
          "2022-09-24",
          "2022-09-25",
          "2022-09-26",
          "2022-09-27",
          "2022-09-28",
          "2022-09-29",
          "2022-09-30",
          "2022-10-01",
          "2022-10-02",
          "2022-10-03",
          "2022-10-04",
          "2022-10-05",
          "2022-10-06",
          "2022-10-07",
          "2022-10-08",
          "2022-10-09",
          "2022-10-10",
          "2022-10-11",
          "2022-10-12",
          "2022-10-13",
          "2022-10-14",
          "2022-10-15",
          "2022-10-16",
          "2022-10-17",
          "2022-10-18",
          "2022-10-19",
          "2022-10-20",
          "2022-10-21",
          "2022-10-22",
          "2022-10-23",
          "2022-10-24",
          "2022-10-25",
          "2022-10-26",
          "2022-10-27",
          "2022-10-28",
          "2022-10-29",
          "2022-10-30",
          "2022-10-31",
          "2022-11-01",
          "2022-11-02",
          "2022-11-03",
          "2022-11-04",
          "2022-11-05",
          "2022-11-06",
          "2022-11-07",
          "2022-11-08",
          "2022-11-09",
          "2022-11-10",
          "2022-11-11",
          "2022-11-12",
          "2022-11-13",
          "2022-11-14",
          "2022-11-15",
          "2022-11-16",
          "2022-11-17",
          "2022-11-18",
          "2022-11-19",
          "2022-11-20",
          "2022-11-21",
          "2022-11-22",
          "2022-11-23",
          "2022-11-24",
          "2022-11-25",
          "2022-11-26",
          "2022-11-27",
          "2022-11-28",
          "2022-11-29",
          "2022-11-30",
          "2022-12-01",
          "2022-12-02",
          "2022-12-03",
          "2022-12-04",
          "2022-12-05",
          "2022-12-06",
          "2022-12-07",
          "2022-12-08",
          "2022-12-09",
          "2022-12-10",
          "2022-12-11",
          "2022-12-12",
          "2022-12-13",
          "2022-12-14",
          "2022-12-15",
          "2022-12-16",
          "2022-12-17",
          "2022-12-18",
          "2022-12-19",
          "2022-12-20",
          "2022-12-21",
          "2022-12-22",
          "2022-12-23",
          "2022-12-24",
          "2022-12-25",
          "2022-12-26",
          "2022-12-27",
          "2022-12-28",
          "2022-12-29",
          "2022-12-30",
          "2022-12-31",
          "2023-01-01",
          "2023-01-02",
          "2023-01-03",
          "2023-01-04",
          "2023-01-05",
          "2023-01-06",
          "2023-01-07",
          "2023-01-08",
          "2023-01-09",
          "2023-01-10",
          "2023-01-11",
          "2023-01-12",
          "2023-01-13",
          "2023-01-14",
          "2023-01-15",
          "2023-01-16",
          "2023-01-17",
          "2023-01-18",
          "2023-01-19",
          "2023-01-20",
          "2023-01-21",
          "2023-01-22",
          "2023-01-23",
          "2023-01-24",
          "2023-01-25",
          "2023-01-26",
          "2023-01-27",
          "2023-01-28",
          "2023-01-29",
          "2023-01-30",
          "2023-01-31",
          "2023-02-01",
          "2023-02-02",
          "2023-02-03",
          "2023-02-04",
          "2023-02-05",
          "2023-02-06",
          "2023-02-07",
          "2023-02-08",
          "2023-02-09",
          "2023-02-10",
          "2023-02-11",
          "2023-02-12",
          "2023-02-13",
          "2023-02-14",
          "2023-02-15",
          "2023-02-16",
          "2023-02-17",
          "2023-02-18",
          "2023-02-19",
          "2023-02-20",
          "2023-02-21",
          "2023-02-22",
          "2023-02-23",
          "2023-02-24",
          "2023-02-25",
          "2023-02-26",
          "2023-02-27",
          "2023-02-28",
          "2023-03-01",
          "2023-03-02",
          "2023-03-03",
          "2023-03-04",
          "2023-03-05",
          "2023-03-06",
          "2023-03-07",
          "2023-03-08",
          "2023-03-09",
          "2023-03-10",
          "2023-03-11",
          "2023-03-12",
          "2023-03-13",
          "2023-03-14",
          "2023-03-15",
          "2023-03-16",
          "2023-03-17",
          "2023-03-18",
          "2023-03-19",
          "2023-03-20",
          "2023-03-21",
          "2023-03-22",
          "2023-03-23",
          "2023-03-24",
          "2023-03-25",
          "2023-03-26",
          "2023-03-27",
          "2023-03-28",
          "2023-03-29",
          "2023-03-30",
          "2023-03-31",
          "2023-04-01",
          "2023-04-02",
          "2023-04-03",
          "2023-04-04",
          "2023-04-05",
          "2023-04-06",
          "2023-04-07",
          "2023-04-08",
          "2023-04-09",
          "2023-04-10",
          "2023-04-11",
          "2023-04-12",
          "2023-04-13",
          "2023-04-14",
          "2023-04-15",
          "2023-04-16",
          "2023-04-17",
          "2023-04-18",
          "2023-04-19",
          "2023-04-20",
          "2023-04-21",
          "2023-04-22",
          "2023-04-23",
          "2023-04-24",
          "2023-04-25",
          "2023-04-26",
          "2023-04-27",
          "2023-04-28",
          "2023-04-29",
          "2023-04-30",
          "2023-05-01",
          "2023-05-02",
          "2023-05-03",
          "2023-05-04",
          "2023-05-05",
          "2023-05-06",
          "2023-05-07",
          "2023-05-08",
          "2023-05-09",
          "2023-05-10",
          "2023-05-11",
          "2023-05-12",
          "2023-05-13",
          "2023-05-14",
          "2023-05-15",
          "2023-05-16",
          "2023-05-17",
          "2023-05-18",
          "2023-05-19",
          "2023-05-20",
          "2023-05-21",
          "2023-05-22",
          "2023-05-23",
          "2023-05-24",
          "2023-05-25",
          "2023-05-26",
          "2023-05-27",
          "2023-05-28",
          "2023-05-29",
          "2023-05-30",
          "2023-05-31",
          "2023-06-01",
          "2023-06-02",
          "2023-06-03",
          "2023-06-04",
          "2023-06-05",
          "2023-06-06",
          "2023-06-07",
          "2023-06-08",
          "2023-06-09",
          "2023-06-10",
          "2023-06-11",
          "2023-06-12",
          "2023-06-13",
          "2023-06-14",
          "2023-06-15",
          "2023-06-16",
          "2023-06-17",
          "2023-06-18",
          "2023-06-19",
          "2023-06-20",
          "2023-06-21",
          "2023-06-22",
          "2023-06-23",
          "2023-06-24",
          "2023-06-25",
          "2023-06-26",
          "2023-06-27",
          "2023-06-28",
          "2023-06-29",
          "2023-06-30"
         ],
         "xaxis": "x",
         "y": [
          235.8578475715167,
          229.31369943006663,
          219.45373283245,
          221.3451706969,
          225.09564642043333,
          223.12400189323333,
          208.5310715933,
          205.49424441326667,
          191.49858928411663,
          220.47191454488333,
          217.18447309706664,
          224.3223786053,
          240.05390966315,
          230.8898302425833,
          233.90920963756665,
          219.95736327173333,
          227.0308241033167,
          225.43219828715,
          227.4629556154333,
          214.0555688441167,
          200.8129511227,
          178.55722956681666,
          164.81647099756665,
          156.69595607803333,
          144.55619944011667,
          196.1848923010667,
          179.53787584173335,
          191.5018679344333,
          204.6111244799,
          200.5725120208,
          256.2079004091333,
          260.8138438411333,
          276.6830923548334,
          266.5984259776667,
          136.6151858857818,
          117.24140896644543,
          121.51404160410002,
          121.6087580619182,
          108.22972705617272,
          87.89678992392727,
          89.27961680499091,
          108.53990185171818,
          118.21287444517272,
          111.14315469432728,
          122.19192887397271,
          110.90622682725456,
          133.1954516644909,
          101.0222214665909,
          87.27784124622727,
          120.52724612992728,
          92.87421484555456,
          146.43394283750908,
          93.1630433407909,
          96.7735746118182,
          89.94239193313636,
          143.18719735811817,
          116.92075688436364,
          157.13289017218182,
          152.07792464679093,
          87.84928888169091,
          87.2552652234,
          87.56022412385454,
          574.83258567045,
          629.7531057923417,
          679.9537093796583,
          634.9486685760917,
          676.1453291944416,
          643.9751053751584,
          620.814194177125,
          556.7702112882668,
          481.7579258179833,
          422.86486397302497,
          364.557442976475,
          326.4741861571584,
          301.00230614165,
          347.09892871436665,
          343.44634212346665,
          339.2693636982833,
          316.8355334437084,
          318.4731121828583,
          303.47578139025,
          251.4285172684833,
          264.8336916230333,
          276.18328724943336,
          251.73531832876665,
          254.4742618483,
          242.8627564248833,
          251.3768528994167,
          239.15948298125,
          260.9013410045083,
          281.5059189245,
          236.7869147359333,
          148.96921426266667,
          175.25489261403334,
          198.21258047786668,
          191.269641414,
          262.9679488746333,
          155.8071632446,
          137.5929980581,
          124.94512254126666,
          138.55301482326666,
          129.71389086443335,
          132.89685578906668,
          121.88155799143333,
          106.9985935555,
          119.3985517558,
          109.60444239173334,
          138.77986288393336,
          186.71705213186667,
          145.06817902276666,
          134.4925834134667,
          114.9664079618,
          113.20638320070002,
          103.0190299081,
          101.22364771776668,
          106.0412902624,
          102.30829282893336,
          99.71598971303332,
          98.04276491406668,
          97.2173048629,
          96.83827014536666,
          98.6379675325,
          107.2514839083,
          133.7742698964,
          105.65651377003331,
          113.27988722723336,
          113.8085308241,
          109.56083914033331,
          102.96900438663332,
          107.4390905947,
          101.1283887161,
          100.3626710419,
          101.05507902326669,
          99.74965688743332,
          97.12685273583334,
          99.40693027983332,
          112.80171103206663,
          142.54899225213333,
          122.09234755316668,
          114.01577582223332,
          107.99845906976668,
          94.75545614193334,
          95.95410778386666,
          106.06156648843334,
          99.43857048456664,
          99.34446187036669,
          96.4486104796,
          95.86535293636666,
          96.55537735836668,
          96.52268669623334,
          95.4407350809,
          116.1275333405,
          104.4060742114,
          108.0229956427,
          103.76284299763334,
          101.2739031386,
          100.48935112566666,
          101.40952613713334,
          121.1464483358,
          107.04807132056663,
          107.43016573476666,
          105.99686014256667,
          103.56202369573332,
          101.47641312326664,
          101.89960776553336,
          102.13507965583334,
          102.21124502283334,
          101.50237157996668,
          100.51498157946666,
          100.08371477456666,
          97.7506625949,
          100.3569359424,
          105.6404049115,
          105.6461192301,
          102.3262533412,
          101.8994299161,
          103.3703179925,
          103.3026652704,
          102.222442387,
          104.28034345133334,
          103.67066312459998,
          103.41403763763331,
          104.30740167706666,
          101.36174571706668,
          104.56054160253336,
          104.50061156463332,
          105.48758301280002,
          108.24356443263332,
          105.90673284506666,
          109.7795287026,
          106.86524920756666,
          105.30795695463333,
          116.69532424916667,
          115.43205907413332,
          112.10918490053332,
          111.33500351683334,
          109.92047648036667,
          106.8036185547,
          120.46574198646664,
          118.69847274987085,
          106.74612964343332,
          107.12883518253334,
          103.49754494713332,
          103.7533367619,
          110.8507938536,
          107.63556779026668,
          130.636103706,
          106.4125778344,
          104.6208226925,
          109.89856387833332,
          106.2849330042,
          118.86402266526666,
          111.59073378603334,
          106.7048689376,
          112.1731836856,
          112.15362635406666,
          110.53839589653334,
          109.74198797543332,
          105.67941845366666,
          106.33572189046669,
          108.32807527056669,
          107.4484264971,
          107.8097583792,
          109.44817734046669,
          107.64706501696666,
          109.50142468013333,
          107.62571206213332,
          120.4719799521,
          147.56621963536668,
          119.15620876793332,
          125.89817941953334,
          108.6342623397,
          107.70839305636667,
          134.44052801216665,
          127.7737671822,
          167.67082691546668,
          202.77125651136663,
          236.2440918179,
          253.56647582180003,
          266.64281586826667,
          287.2065065897333,
          303.3401654812667,
          334.38045994973334,
          321.8879914711667,
          335.2388359877333,
          287.4074633302667,
          202.1438682634333,
          200.7256060527,
          210.3076924658667,
          201.5815019135,
          191.34755633673333,
          208.70656760263333,
          211.3363892950333,
          137.3675665684,
          209.80917733650003,
          271.8992538987333,
          332.5957400667333,
          434.0241668406,
          411.3418113613666,
          337.5237664415333,
          224.91087308343333,
          277.2270228648667,
          272.4116762438333,
          248.00393778426667,
          224.00260369696664,
          226.6025098270333,
          199.5820167503333,
          182.94380346596665,
          241.63649198756664,
          232.83510477666664,
          217.99648210433327,
          226.1721893805,
          239.35278300783327,
          151.60885155484445,
          152.49832810744445,
          156.38026261383334,
          169.8222878902889,
          176.7718551801778,
          177.1811389441222,
          172.6624002974,
          169.63443993466666,
          143.7311005684,
          177.15813917670002,
          195.73022481595555,
          185.574100134,
          177.50878236513333,
          178.56915131524443,
          169.0318371276,
          184.7431704089556,
          167.52188848586667,
          177.09594684367778,
          239.9145777426,
          210.1743305757111,
          219.63003686292225,
          175.20620168814446,
          133.85079334356666,
          147.8419875748889,
          158.64012517214445,
          177.9900003762222,
          166.35782411813335,
          169.70481861215555,
          120.35219211326664,
          101.11268580731112,
          121.37945495417776,
          200.736745175,
          224.36854415936668,
          223.58489587013327,
          180.38691703296664,
          173.37009246173332,
          114.2126595499,
          161.54418318086667,
          181.375653051,
          187.5463017727333,
          185.5893434249,
          165.87799864439998,
          167.9971178559,
          167.74615571763334,
          136.1720299063,
          160.05898493060002,
          165.7053903319,
          164.309055247,
          113.8978657953,
          121.39357856603334,
          111.50842822936666,
          121.96276779793334,
          164.3267622455,
          173.01798024863334,
          184.584252135,
          219.5569739768,
          248.80812348596663,
          251.23229482346665,
          274.012303675,
          286.1381870071,
          311.2777561574666,
          325.65837087483334,
          335.3460165459333,
          337.02038819176664,
          256.9089107462,
          299.0853359828333,
          246.8713280410333,
          253.4154844247333,
          242.2272007749,
          212.5537550452333,
          236.70622378776667,
          244.2799634802333,
          244.0393092397333,
          258.01204906566664,
          270.56638503663333,
          285.31787186746664,
          283.271270214,
          273.05082591086665,
          287.3321921675667,
          322.7368456294,
          326.2849457738,
          357.1352101584,
          400.58238712803336,
          419.113694959,
          420.61965224836666,
          429.7334954217333,
          444.5355751137667,
          467.5575736797,
          509.2616914702666,
          507.7130395607667,
          450.7930971015,
          523.0726980822,
          499.7962119735334,
          510.8509979227,
          531.0305672357,
          556.6253745001333,
          560.9106826756333,
          526.6652148232333,
          503.1934809124,
          415.8064971809,
          432.61928971466665,
          381.8508350045667,
          436.0338762112333,
          309.3528225253,
          256.55275899496667,
          250.0275534853,
          212.65986900166664,
          204.8056496120333,
          216.1465712030333,
          250.5803743439,
          235.7702636137,
          243.2981734820333,
          202.968121683,
          194.94165071756663,
          243.9196906469667,
          250.93103278116664,
          277.9080973694,
          348.9216554459333,
          375.9744406195,
          396.3932978743333,
          452.8826199384334,
          568.7788272762333,
          675.0510164512666,
          768.6838144923667,
          721.5205503904334,
          794.9294052108667,
          799.9009328050333,
          741.8818057063332,
          569.4053375572,
          682.3372145263667,
          621.2968903492666,
          561.624488399,
          556.9092336778667,
          604.8585322595667,
          573.2946676894334,
          572.7660878618666,
          562.8534410486667,
          547.7789099221001,
          515.8515977783667,
          496.16126738863335,
          429.38230709373335,
          418.8577930926001,
          410.9205700374,
          423.7087455614333,
          351.6163010174667,
          372.57516342446667,
          361.4122095290333,
          297.97839228056665,
          315.511962764,
          319.4327370885333,
          366.6270357873,
          374.0731976343666,
          372.13955998246666,
          435.5328814148666,
          450.0135043289333,
          463.7545105165,
          501.8976104556,
          487.8137558528,
          470.94714484176666,
          431.3983143267,
          313.6173168691667,
          312.0133821560333,
          287.9145897603,
          234.20115136966663,
          185.5636310353,
          164.92299893443334,
          168.05130423886666,
          219.3029585301,
          203.53429561523333,
          163.73357652546667,
          234.4922552514,
          291.23608951746667,
          341.55839888603333,
          321.62533798656665,
          329.27193836323335,
          236.03052647476667,
          186.2669153527333,
          180.38245627016667,
          188.87672340606665,
          153.32040885503335,
          168.90205633026667,
          163.32335787553333,
          149.59529507336666,
          153.88823286206664,
          147.18555320043333,
          150.28855113836667,
          144.2343309941,
          139.88260143969998,
          133.9439032891,
          141.84049052946668,
          133.08015810536668,
          143.43973677953332,
          145.75005667423332,
          263.44543922816666,
          242.1994135678,
          242.84623382786663,
          214.800520733,
          212.02258143863327,
          294.0202761736667,
          290.9840322788,
          262.3251726828,
          303.79650600099995,
          319.6270939814333,
          334.2317397834,
          341.2148204153,
          343.05637368949994,
          333.4545873304,
          323.327413014,
          249.317842336,
          254.6826009834,
          186.79008909516668,
          210.5781809513333,
          189.01870382113336,
          240.7723909257,
          255.105191346,
          257.89916929463334,
          321.68339539606666,
          321.9544497141,
          354.5173310422333,
          404.3975417612,
          514.3697640661667,
          582.1855448730333,
          629.9293873606,
          639.0584256112,
          692.2176118567,
          682.7860478941999,
          727.0558307901,
          776.6545298109668,
          811.1855775365999,
          820.3688887720333,
          834.1325286478333,
          836.8465536497333,
          781.1399254179,
          789.4337239329667,
          801.7243562416,
          741.2614393731333,
          765.2225726731334,
          669.8191737313,
          650.3343199944667,
          450.5935416651666,
          374.3725136908333,
          385.6183086151,
          360.3704527560666,
          308.91654787276667,
          253.708678186,
          246.6326825770333,
          206.9850470411333,
          266.10522138560003,
          302.2922313390667,
          346.08643039783334,
          329.4370321681333,
          310.7298592868,
          292.0219092928,
          281.5663019065667,
          295.7395729818666,
          327.5229819927,
          352.6390978964,
          363.4437399086334,
          409.9441384222,
          440.87588160436667,
          499.2802866515333,
          568.8711079990334,
          602.020597139,
          739.7786245499334,
          749.1596229890333,
          846.8458569028667,
          888.3327651133667,
          715.754742528,
          685.7912672841334,
          598.3499218381334,
          612.2174932613667,
          472.8369474031333,
          516.2033960732334
         ],
         "yaxis": "y"
        },
        {
         "mode": "lines",
         "name": "Valores predichos de train",
         "type": "scatter",
         "x": [
          "2021-10-07",
          "2021-10-08",
          "2021-10-09",
          "2021-10-10",
          "2021-10-11",
          "2021-10-12",
          "2021-10-13",
          "2021-10-14",
          "2021-10-15",
          "2021-10-16",
          "2021-10-17",
          "2021-10-18",
          "2021-10-19",
          "2021-10-20",
          "2021-10-21",
          "2021-10-22",
          "2021-10-23",
          "2021-10-24",
          "2021-10-25",
          "2021-10-26",
          "2021-10-27",
          "2021-10-28",
          "2021-10-29",
          "2021-10-30",
          "2021-10-31",
          "2021-11-01",
          "2021-11-02",
          "2021-11-03",
          "2021-11-04",
          "2021-11-05",
          "2021-11-06",
          "2021-11-07",
          "2021-11-08",
          "2021-11-09",
          "2021-12-04",
          "2021-12-05",
          "2021-12-06",
          "2021-12-07",
          "2021-12-08",
          "2021-12-09",
          "2021-12-10",
          "2021-12-11",
          "2021-12-12",
          "2021-12-13",
          "2021-12-14",
          "2021-12-15",
          "2021-12-16",
          "2021-12-17",
          "2021-12-18",
          "2021-12-19",
          "2021-12-20",
          "2021-12-21",
          "2021-12-22",
          "2021-12-23",
          "2021-12-24",
          "2021-12-25",
          "2021-12-26",
          "2021-12-27",
          "2021-12-28",
          "2021-12-29",
          "2021-12-30",
          "2021-12-31",
          "2022-02-01",
          "2022-02-02",
          "2022-02-03",
          "2022-02-04",
          "2022-02-05",
          "2022-02-06",
          "2022-02-07",
          "2022-02-08",
          "2022-02-09",
          "2022-02-10",
          "2022-02-11",
          "2022-02-12",
          "2022-02-13",
          "2022-02-14",
          "2022-02-15",
          "2022-02-16",
          "2022-02-17",
          "2022-02-18",
          "2022-02-19",
          "2022-02-20",
          "2022-02-21",
          "2022-02-22",
          "2022-02-23",
          "2022-02-24",
          "2022-02-25",
          "2022-02-26",
          "2022-02-27",
          "2022-02-28",
          "2022-04-01",
          "2022-04-02",
          "2022-04-03",
          "2022-04-04",
          "2022-04-05",
          "2022-04-06",
          "2022-04-07",
          "2022-04-08",
          "2022-04-09",
          "2022-04-10",
          "2022-04-11",
          "2022-04-12",
          "2022-04-13",
          "2022-04-14",
          "2022-04-15",
          "2022-04-16",
          "2022-04-17",
          "2022-04-18",
          "2022-04-19",
          "2022-04-20",
          "2022-04-21",
          "2022-04-22",
          "2022-04-23",
          "2022-04-24",
          "2022-04-25",
          "2022-04-26",
          "2022-04-27",
          "2022-04-28",
          "2022-04-29",
          "2022-04-30",
          "2022-05-01",
          "2022-05-02",
          "2022-05-03",
          "2022-05-04",
          "2022-05-05",
          "2022-05-06",
          "2022-05-07",
          "2022-05-08",
          "2022-05-09",
          "2022-05-10",
          "2022-05-11",
          "2022-05-12",
          "2022-05-13",
          "2022-05-14",
          "2022-05-15",
          "2022-05-16",
          "2022-05-17",
          "2022-05-18",
          "2022-05-19",
          "2022-05-20",
          "2022-05-21",
          "2022-05-22",
          "2022-05-23",
          "2022-05-24",
          "2022-05-25",
          "2022-05-26",
          "2022-05-27",
          "2022-05-28",
          "2022-05-29",
          "2022-05-30",
          "2022-05-31",
          "2022-06-01",
          "2022-06-02",
          "2022-06-03",
          "2022-06-04",
          "2022-06-05",
          "2022-06-06",
          "2022-06-07",
          "2022-06-08",
          "2022-06-09",
          "2022-06-10",
          "2022-06-11",
          "2022-06-12",
          "2022-06-13",
          "2022-06-14",
          "2022-06-15",
          "2022-06-16",
          "2022-06-17",
          "2022-06-18",
          "2022-06-19",
          "2022-06-20",
          "2022-06-21",
          "2022-06-22",
          "2022-06-23",
          "2022-06-24",
          "2022-06-25",
          "2022-06-26",
          "2022-06-27",
          "2022-06-28",
          "2022-06-29",
          "2022-06-30",
          "2022-07-01",
          "2022-07-02",
          "2022-07-03",
          "2022-07-04",
          "2022-07-05",
          "2022-07-06",
          "2022-07-07",
          "2022-07-08",
          "2022-07-09",
          "2022-07-10",
          "2022-07-11",
          "2022-07-12",
          "2022-07-13",
          "2022-07-14",
          "2022-07-15",
          "2022-07-16",
          "2022-07-17",
          "2022-07-18",
          "2022-07-19",
          "2022-07-20",
          "2022-07-21",
          "2022-07-22",
          "2022-07-23",
          "2022-07-24",
          "2022-07-25",
          "2022-07-26",
          "2022-07-27",
          "2022-07-28",
          "2022-07-29",
          "2022-07-30",
          "2022-07-31",
          "2022-08-01",
          "2022-08-02",
          "2022-08-03",
          "2022-08-04",
          "2022-08-05",
          "2022-08-06",
          "2022-08-07",
          "2022-08-08",
          "2022-08-09",
          "2022-08-10",
          "2022-08-11",
          "2022-08-12",
          "2022-08-13",
          "2022-08-14",
          "2022-08-15",
          "2022-08-16",
          "2022-08-17",
          "2022-08-18",
          "2022-08-19",
          "2022-08-20",
          "2022-08-21",
          "2022-08-22",
          "2022-08-23",
          "2022-08-24",
          "2022-08-25",
          "2022-08-26",
          "2022-08-27",
          "2022-08-28",
          "2022-08-29",
          "2022-08-30",
          "2022-08-31",
          "2022-09-01",
          "2022-09-02",
          "2022-09-03",
          "2022-09-04",
          "2022-09-05",
          "2022-09-06",
          "2022-09-07",
          "2022-09-08",
          "2022-09-09",
          "2022-09-10",
          "2022-09-11",
          "2022-09-12",
          "2022-09-13",
          "2022-09-14",
          "2022-09-15",
          "2022-09-16",
          "2022-09-17",
          "2022-09-18",
          "2022-09-19",
          "2022-09-20",
          "2022-09-21",
          "2022-09-22",
          "2022-09-23",
          "2022-09-24",
          "2022-09-25",
          "2022-09-26",
          "2022-09-27",
          "2022-09-28",
          "2022-09-29",
          "2022-09-30",
          "2022-10-01",
          "2022-10-02",
          "2022-10-03",
          "2022-10-04",
          "2022-10-05",
          "2022-10-06",
          "2022-10-07",
          "2022-10-08",
          "2022-10-09",
          "2022-10-10",
          "2022-10-11",
          "2022-10-12",
          "2022-10-13",
          "2022-10-14",
          "2022-10-15",
          "2022-10-16",
          "2022-10-17",
          "2022-10-18",
          "2022-10-19",
          "2022-10-20",
          "2022-10-21",
          "2022-10-22",
          "2022-10-23",
          "2022-10-24",
          "2022-10-25",
          "2022-10-26",
          "2022-10-27",
          "2022-10-28",
          "2022-10-29",
          "2022-10-30",
          "2022-10-31",
          "2022-11-01",
          "2022-11-02",
          "2022-11-03",
          "2022-11-04",
          "2022-11-05",
          "2022-11-06",
          "2022-11-07",
          "2022-11-08",
          "2022-11-09",
          "2022-11-10",
          "2022-11-11",
          "2022-11-12",
          "2022-11-13",
          "2022-11-14",
          "2022-11-15",
          "2022-11-16",
          "2022-11-17",
          "2022-11-18",
          "2022-11-19",
          "2022-11-20",
          "2022-11-21",
          "2022-11-22",
          "2022-11-23",
          "2022-11-24",
          "2022-11-25",
          "2022-11-26",
          "2022-11-27",
          "2022-11-28",
          "2022-11-29",
          "2022-11-30",
          "2022-12-01",
          "2022-12-02",
          "2022-12-03",
          "2022-12-04",
          "2022-12-05",
          "2022-12-06",
          "2022-12-07",
          "2022-12-08",
          "2022-12-09",
          "2022-12-10",
          "2022-12-11",
          "2022-12-12",
          "2022-12-13",
          "2022-12-14",
          "2022-12-15",
          "2022-12-16",
          "2022-12-17",
          "2022-12-18",
          "2022-12-19",
          "2022-12-20",
          "2022-12-21",
          "2022-12-22",
          "2022-12-23",
          "2022-12-24",
          "2022-12-25",
          "2022-12-26",
          "2022-12-27",
          "2022-12-28",
          "2022-12-29",
          "2022-12-30",
          "2022-12-31",
          "2023-01-01",
          "2023-01-02",
          "2023-01-03",
          "2023-01-04",
          "2023-01-05",
          "2023-01-06",
          "2023-01-07",
          "2023-01-08",
          "2023-01-09",
          "2023-01-10",
          "2023-01-11",
          "2023-01-12",
          "2023-01-13",
          "2023-01-14",
          "2023-01-15",
          "2023-01-16",
          "2023-01-17",
          "2023-01-18",
          "2023-01-19",
          "2023-01-20",
          "2023-01-21",
          "2023-01-22",
          "2023-01-23",
          "2023-01-24",
          "2023-01-25",
          "2023-01-26",
          "2023-01-27",
          "2023-01-28",
          "2023-01-29",
          "2023-01-30",
          "2023-01-31",
          "2023-02-01",
          "2023-02-02",
          "2023-02-03",
          "2023-02-04",
          "2023-02-05",
          "2023-02-06",
          "2023-02-07",
          "2023-02-08",
          "2023-02-09",
          "2023-02-10",
          "2023-02-11",
          "2023-02-12",
          "2023-02-13",
          "2023-02-14",
          "2023-02-15",
          "2023-02-16",
          "2023-02-17",
          "2023-02-18",
          "2023-02-19",
          "2023-02-20",
          "2023-02-21",
          "2023-02-22",
          "2023-02-23",
          "2023-02-24",
          "2023-02-25",
          "2023-02-26",
          "2023-02-27",
          "2023-02-28",
          "2023-03-01",
          "2023-03-02",
          "2023-03-03",
          "2023-03-04",
          "2023-03-05",
          "2023-03-06",
          "2023-03-07",
          "2023-03-08",
          "2023-03-09",
          "2023-03-10",
          "2023-03-11",
          "2023-03-12",
          "2023-03-13",
          "2023-03-14",
          "2023-03-15",
          "2023-03-16",
          "2023-03-17",
          "2023-03-18",
          "2023-03-19",
          "2023-03-20",
          "2023-03-21",
          "2023-03-22",
          "2023-03-23",
          "2023-03-24",
          "2023-03-25",
          "2023-03-26",
          "2023-03-27",
          "2023-03-28",
          "2023-03-29",
          "2023-03-30",
          "2023-03-31",
          "2023-04-01",
          "2023-04-02",
          "2023-04-03",
          "2023-04-04",
          "2023-04-05",
          "2023-04-06",
          "2023-04-07",
          "2023-04-08",
          "2023-04-09",
          "2023-04-10",
          "2023-04-11",
          "2023-04-12",
          "2023-04-13",
          "2023-04-14",
          "2023-04-15",
          "2023-04-16",
          "2023-04-17",
          "2023-04-18",
          "2023-04-19",
          "2023-04-20",
          "2023-04-21",
          "2023-04-22",
          "2023-04-23",
          "2023-04-24",
          "2023-04-25",
          "2023-04-26",
          "2023-04-27",
          "2023-04-28",
          "2023-04-29",
          "2023-04-30",
          "2023-05-01",
          "2023-05-02",
          "2023-05-03",
          "2023-05-04",
          "2023-05-05",
          "2023-05-06",
          "2023-05-07",
          "2023-05-08",
          "2023-05-09",
          "2023-05-10",
          "2023-05-11",
          "2023-05-12",
          "2023-05-13",
          "2023-05-14",
          "2023-05-15",
          "2023-05-16",
          "2023-05-17",
          "2023-05-18",
          "2023-05-19",
          "2023-05-20",
          "2023-05-21",
          "2023-05-22",
          "2023-05-23",
          "2023-05-24",
          "2023-05-25",
          "2023-05-26",
          "2023-05-27",
          "2023-05-28",
          "2023-05-29",
          "2023-05-30",
          "2023-05-31",
          "2023-06-01",
          "2023-06-02",
          "2023-06-03",
          "2023-06-04",
          "2023-06-05",
          "2023-06-06",
          "2023-06-07",
          "2023-06-08",
          "2023-06-09",
          "2023-06-10",
          "2023-06-11",
          "2023-06-12",
          "2023-06-13",
          "2023-06-14",
          "2023-06-15",
          "2023-06-16",
          "2023-06-17",
          "2023-06-18",
          "2023-06-19",
          "2023-06-20",
          "2023-06-21",
          "2023-06-22",
          "2023-06-23",
          "2023-06-24",
          "2023-06-25",
          "2023-06-26",
          "2023-06-27",
          "2023-06-28",
          "2023-06-29",
          "2023-06-30"
         ],
         "y": [
          258.2591944023849,
          231.03231656204906,
          225.29663619396132,
          218.99491811298776,
          221.56541610997792,
          227.58512706410542,
          225.36901225363593,
          208.79541951990993,
          204.86524795058492,
          192.2898797351563,
          223.11408168233476,
          224.2197890513589,
          226.26897241376315,
          244.3463221841269,
          234.23566163692118,
          233.9070593641771,
          220.7892355434434,
          226.87197860104857,
          228.2529884602452,
          229.00804939116622,
          214.99361350959273,
          199.39460371084652,
          176.97516355387486,
          163.07302257064876,
          157.5132437610118,
          146.4227246111001,
          202.75453188621805,
          190.69944757923236,
          192.7791865311376,
          210.86536527820496,
          205.1947308170734,
          262.4466798707471,
          272.0734106307722,
          279.1067786837556,
          268.4865214056639,
          124.66421469779955,
          96.53566840572509,
          124.08074425274441,
          128.1044413073658,
          112.88712490762742,
          90.00724137812162,
          92.57182137648806,
          117.23625518522041,
          128.7592367482067,
          118.2153040782664,
          127.8235704955778,
          117.75254306958236,
          138.92710536183563,
          107.91236132607722,
          86.66796332572774,
          127.56687652976038,
          102.65483363162228,
          152.24616292547486,
          103.73876260926224,
          93.87980235402395,
          96.72606879086385,
          152.98009381759775,
          129.6744486452032,
          161.23391550245458,
          163.5166887698965,
          86.39351056968194,
          82.1890816280529,
          94.4827493509299,
          619.9919318106719,
          713.3571016100008,
          680.2506993691967,
          624.9838651951056,
          656.8584510451531,
          633.4775808223499,
          598.5460402910694,
          533.8816786388899,
          452.8371228774494,
          396.0447851504516,
          343.06582397827907,
          308.92041280199214,
          289.68285545522065,
          344.7151393941103,
          348.7745215963373,
          335.39743245327605,
          311.59885988761283,
          312.5704456470762,
          300.70895489824636,
          243.23268500016022,
          256.8358972042953,
          279.7435183466648,
          251.67459295107335,
          250.7898195200118,
          243.03275253334098,
          250.88550497499855,
          240.4810349206051,
          261.4738421270547,
          287.4998305725823,
          236.66598018538116,
          134.9899740512285,
          165.52583645809176,
          208.5402530588732,
          197.75232293388495,
          270.27840063778126,
          161.068869017664,
          120.50469238304657,
          125.62118427740745,
          142.81017345527005,
          136.59944800391492,
          136.86701749634017,
          126.86611673060676,
          109.45102516707108,
          123.83499733051613,
          116.92762504870078,
          145.37900662594484,
          200.94384860123688,
          153.94939171192473,
          130.66188232219582,
          116.65197841409433,
          115.36051379737619,
          107.9030814075946,
          105.5811509340363,
          112.55386265615482,
          109.20276898113465,
          105.24510543950939,
          103.95688067905179,
          103.4339999537381,
          103.28016083471817,
          105.3482919444647,
          114.83257441743454,
          143.69767412935673,
          113.63288400622977,
          114.92048150693756,
          121.28181651848499,
          115.31399622427914,
          107.80967125585894,
          112.96060417185753,
          107.70245610280892,
          105.59822918135276,
          107.4707183070448,
          106.25495985848444,
          103.20597742542525,
          105.72426126492996,
          120.81686123975787,
          153.4044583814926,
          130.9324512318298,
          115.22742448640419,
          111.99663303199758,
          98.80540748008532,
          100.29296890482809,
          113.75054741624247,
          107.09511968207303,
          104.63927723606305,
          102.74843364390712,
          101.93386683896388,
          103.17824073269537,
          103.30046503609138,
          102.00262110244515,
          124.2372701368915,
          113.25368494750357,
          112.46351049520044,
          110.31527527937989,
          106.65650768146139,
          106.43224911379973,
          107.83457429042569,
          129.32616748231797,
          115.33884199273446,
          111.07158252024382,
          112.18849292393804,
          109.39120800245858,
          107.2395112109294,
          108.00454333182012,
          108.6780105998213,
          108.69755258918818,
          107.89457472013872,
          106.76597005534973,
          106.36417597032172,
          104.00298288978536,
          106.72990166021121,
          113.04562526186254,
          112.93548720052715,
          108.36874739204161,
          107.6744212182337,
          109.8509666082994,
          109.96106912709608,
          108.51666421622484,
          110.67230588334161,
          110.36134643315454,
          109.65715979651543,
          110.71633940722383,
          107.65102222897039,
          110.72617362460363,
          111.43676050670719,
          111.8987392976128,
          114.9507257895221,
          112.44012842022651,
          115.93653822516843,
          113.50307237663081,
          110.89545615412068,
          123.60876473023237,
          123.33722736151678,
          117.53713010961278,
          116.705287964944,
          115.74695827934625,
          112.43178462556034,
          127.2078951624694,
          126.8441676318732,
          111.27917042195035,
          111.18310321138642,
          109.52902270934798,
          109.47835683790144,
          117.82760129200894,
          114.81137752016551,
          138.05806716780017,
          114.15597137803609,
          106.22399251259364,
          116.31688492064191,
          113.1261134604945,
          125.44860655992886,
          119.16512665288066,
          111.03513115189331,
          117.94770302712278,
          119.22383418299462,
          116.45870295861178,
          115.49028195115439,
          111.35605642574714,
          111.92736301024638,
          114.8810254072453,
          113.94976759550725,
          113.90516331320039,
          115.8615082146275,
          113.9670229731275,
          115.53367538783245,
          113.97815127597697,
          127.35066788648763,
          157.81611287611136,
          126.68508216739615,
          126.89501070527876,
          114.06517621325621,
          110.59465537881385,
          142.57945397458516,
          137.44105133525267,
          174.99285797595334,
          216.8851720042389,
          247.98149284069848,
          262.44680631333466,
          271.50451734965276,
          291.3560892604891,
          307.7505549046113,
          338.50670734343373,
          324.20044874528736,
          331.91583016612776,
          283.6165926259945,
          185.8319050943462,
          187.25850751362927,
          213.4290699084344,
          204.9582897441515,
          191.52024633085458,
          211.14951736969604,
          217.11668558864278,
          134.30316462318603,
          206.7253848129921,
          292.5836636905392,
          348.843494665495,
          450.8577064457615,
          422.1756820414168,
          322.0323016923775,
          199.67119029910148,
          261.97206810282614,
          281.5040601272199,
          245.06990693169246,
          218.3783974793096,
          224.05935546267025,
          199.59507632197491,
          179.27289305956666,
          246.43836258506036,
          244.17924631359463,
          216.5906875483207,
          226.00933129111615,
          243.56843341692172,
          148.35995055462308,
          140.69537878491835,
          161.34570735185798,
          175.9451307634693,
          183.65612209150564,
          182.0724954921693,
          175.93001115883206,
          172.2715379304404,
          144.97471886959383,
          179.7633250588411,
          206.9765736232416,
          191.08134795973143,
          178.20059205431127,
          180.67622172461898,
          171.9752227064373,
          188.04742475712658,
          172.36525358453355,
          178.54205533818705,
          250.16442276672095,
          220.7187026012284,
          217.08306626777267,
          175.4086002319974,
          125.93303834871291,
          146.41950903560894,
          166.77500847966158,
          185.78062872116436,
          172.57865401919634,
          171.7536295946414,
          120.95108043076655,
          96.11679440615512,
          125.84350197144886,
          216.42575375348665,
          243.68792582287935,
          229.66733496547107,
          178.61868690477382,
          168.16710980491365,
          111.96622114663559,
          160.15782693085976,
          195.92139342856453,
          195.11886253616981,
          189.7348655370917,
          167.1912183889956,
          168.45812258176383,
          172.02103399710887,
          137.56407821160587,
          161.1493616006611,
          174.8164958690865,
          169.24204920187802,
          113.73520578665875,
          118.53919590788387,
          117.83084022935122,
          127.00754763186896,
          175.2661586070676,
          185.656731213741,
          190.81830666060642,
          227.71314279901964,
          259.5446876328821,
          257.67426558447664,
          276.93777897361053,
          291.15791122511814,
          314.856249755231,
          329.8594880451718,
          336.6147733353283,
          336.41192397048013,
          248.34236808230958,
          287.88007322813445,
          249.519400767468,
          245.0256022933388,
          243.18241851235712,
          209.1797728909186,
          235.22932741097125,
          250.63784838030926,
          246.3951226933098,
          260.02783227244475,
          274.58979296707275,
          288.7641702764121,
          285.24625062871667,
          271.3253363330281,
          286.38859331130277,
          327.4749859649083,
          331.1162969020655,
          358.0097514952284,
          406.3569184248582,
          423.6204029662476,
          418.4232517768686,
          424.8913658450612,
          441.2092415256422,
          465.3669688934962,
          509.1814605336502,
          506.1357566188995,
          436.86004890713036,
          511.0855370886529,
          501.703244955155,
          498.47691261485977,
          525.3617488710682,
          552.3081513112018,
          554.9530814487044,
          513.5459150645269,
          485.03357531534107,
          395.5669211157904,
          411.9475085396641,
          374.72492803531327,
          426.4381655617289,
          303.14481902074056,
          227.1940231951772,
          240.13303190131197,
          209.25531033717922,
          199.38344244198674,
          218.04516165727173,
          257.4360329873964,
          241.76505012096194,
          242.40508240403338,
          202.21823707673065,
          189.32567187568029,
          249.1093837246633,
          261.60773177182125,
          282.03089009638455,
          359.18080857656764,
          388.29136175512224,
          398.93118724329497,
          456.2142512977545,
          581.3220658067587,
          693.480858999378,
          780.2310458607916,
          716.0867815969232,
          774.4220392325053,
          793.7521489216789,
          717.8223066860814,
          526.855955188069,
          647.356831871867,
          621.7129444034249,
          531.978232377868,
          534.1157536142323,
          596.6384841181663,
          566.8538706487751,
          555.1047588876012,
          550.2802253277492,
          533.4298102560845,
          499.8005776431843,
          479.1471071767204,
          411.7321236587697,
          399.37746979190655,
          402.56403834939226,
          417.76243823718374,
          342.41389605714284,
          357.5602260041889,
          360.47224666366515,
          287.37636042243554,
          303.914683220745,
          321.23091311839335,
          369.1133824042084,
          379.72197773183683,
          369.33760432963396,
          436.16055149030575,
          456.5852752101975,
          460.5669571686392,
          499.9505201153677,
          484.8743225694022,
          458.569786344444,
          417.3769759090697,
          290.76217986250236,
          288.1575479410662,
          284.0790068196814,
          224.77329048359928,
          173.06652369121375,
          157.43832197281336,
          168.45431109801055,
          227.79187043080628,
          213.8032269953398,
          160.20243210428217,
          236.64805992106383,
          310.2366758386906,
          355.2503643569904,
          326.6838250681342,
          324.1220806803729,
          227.85223214784483,
          166.22210349347546,
          173.81409580463196,
          191.86206196376457,
          155.2215817493389,
          167.9377483203346,
          169.66335331949446,
          151.55738526160002,
          156.2651593348902,
          151.9059539319126,
          153.97857160188204,
          148.9217120370981,
          143.22461102209115,
          137.6477597595651,
          146.5584427721311,
          138.7775539108613,
          147.8561159408539,
          152.71196230533351,
          277.83666546760287,
          262.7596459784555,
          239.964205515432,
          213.74236383937156,
          208.65744691188436,
          302.11500990579964,
          305.1169308685267,
          258.67560481732255,
          301.94567287407654,
          327.2828588502583,
          336.38846584046024,
          341.98358990525327,
          341.7292538411258,
          330.200512562405,
          318.26309673508393,
          239.54999924325216,
          242.03186783658583,
          183.0417763430176,
          202.9211125706636,
          194.03710984104478,
          243.8775873702737,
          266.9945681855834,
          261.3386462566291,
          327.6275970959495,
          331.8752598839602,
          355.08007814286856,
          411.09615843779795,
          527.0826316245142,
          598.5973552447989,
          634.2778291490619,
          634.7952838081314,
          683.8273663018405,
          675.6835435914662,
          712.8157925059495,
          771.1639371857119,
          803.6015982586566,
          806.6554263727185,
          815.684997556098,
          817.8607962721304,
          755.4155719432661,
          759.9399445147798,
          784.1874303112933,
          718.3087675619133,
          737.6015542026727,
          647.7223833176154,
          615.5372644853742,
          416.6432480180465,
          324.082220534778,
          368.1951387665381,
          356.0107381498888,
          296.6585234988595,
          238.24103140022146,
          236.35458251852603,
          203.43005594200415,
          265.712841451799,
          316.29145435807544,
          354.99907382934106,
          333.35748308331455,
          303.8319644368755,
          285.4601575443631,
          276.3706358454506,
          294.4154205578961,
          331.6337616725296,
          358.2956850903957,
          365.76699149276567,
          411.96711006591147,
          446.5622970535669,
          503.01278109072996,
          576.3633767105018,
          606.0726535675035,
          743.921445298272,
          757.5099646511039,
          837.7419909681402,
          887.5771647535214,
          686.1551227485246,
          633.978065119676,
          569.8562304005726,
          584.2709980425853,
          451.31032604533993
         ]
        },
        {
         "mode": "lines",
         "name": "Valores reales de test",
         "type": "scatter",
         "x": [
          "2023-07-01",
          "2023-07-02",
          "2023-07-03",
          "2023-07-04",
          "2023-07-05",
          "2023-07-06",
          "2023-07-07",
          "2023-07-08",
          "2023-07-09",
          "2023-07-10",
          "2023-07-11",
          "2023-07-12",
          "2023-07-13",
          "2023-07-14",
          "2023-07-15",
          "2023-07-16",
          "2023-07-17",
          "2023-07-18",
          "2023-07-19",
          "2023-07-20",
          "2023-07-21",
          "2023-07-22",
          "2023-07-23",
          "2023-07-24",
          "2023-07-25",
          "2023-07-26",
          "2023-07-27",
          "2023-07-28",
          "2023-07-29",
          "2023-07-30",
          "2023-07-31",
          "2023-08-01",
          "2023-08-02",
          "2023-08-03",
          "2023-08-04",
          "2023-08-05",
          "2023-08-06",
          "2023-08-07",
          "2023-08-08",
          "2023-08-09",
          "2023-08-10",
          "2023-08-11",
          "2023-08-12",
          "2023-08-13",
          "2023-08-14",
          "2023-08-15",
          "2023-08-16",
          "2023-08-17",
          "2023-08-18",
          "2023-08-19",
          "2023-08-20",
          "2023-08-21",
          "2023-08-22",
          "2023-08-23",
          "2023-08-24",
          "2023-08-25",
          "2023-08-26",
          "2023-08-27",
          "2023-08-28",
          "2023-08-29",
          "2023-08-30",
          "2023-08-31",
          "2023-09-01",
          "2023-09-02",
          "2023-09-03",
          "2023-09-04",
          "2023-09-05",
          "2023-09-06",
          "2023-09-07",
          "2023-09-08",
          "2023-09-09",
          "2023-09-10",
          "2023-09-11",
          "2023-09-12",
          "2023-09-13",
          "2023-09-14",
          "2023-09-15",
          "2023-09-16",
          "2023-09-17",
          "2023-09-18",
          "2023-09-19",
          "2023-09-20",
          "2023-09-21",
          "2023-09-22",
          "2023-09-23",
          "2023-09-24",
          "2023-09-25",
          "2023-09-26",
          "2023-09-27",
          "2023-09-28",
          "2023-09-29",
          "2023-09-30"
         ],
         "y": [
          544.7705213565667,
          550.9924406845666,
          483.6502214998334,
          553.0780864147,
          604.0613552063,
          612.6520655029666,
          561.720197503,
          511.34744451383335,
          443.2304976700333,
          464.0946349298667,
          520.6698138396333,
          558.0087941169,
          623.2256895074667,
          667.2388902573667,
          627.5580529219334,
          655.8061852985,
          607.7387937565333,
          562.4534141153,
          452.60713804463336,
          355.5250355956,
          448.7364667266666,
          343.9170169912,
          368.67011887483335,
          505.73658042333335,
          501.0301570304,
          508.31399602706665,
          543.2798406008666,
          485.3597814536333,
          502.2773802097,
          503.4671490768667,
          493.9659789703334,
          547.1345043071,
          552.4892412716,
          502.80451949393336,
          534.6192562463666,
          464.1196171028666,
          492.90175899686665,
          407.4434403267667,
          520.8159737078333,
          615.0041053912,
          672.7727046824,
          743.8591253586001,
          765.2201509364668,
          662.3748478974667,
          648.2864592554333,
          743.5988251514667,
          684.1074411735334,
          695.5571388220666,
          718.1244276738333,
          688.8797853554333,
          429.54986892410005,
          427.4197187691333,
          333.6424985433667,
          240.48830502266665,
          199.1347986239333,
          201.7994960485,
          244.67607934786668,
          182.24162300086667,
          362.57467050660006,
          557.3878632841,
          752.3462168504999,
          804.1298802825668,
          840.0535151349333,
          897.7582867515666,
          940.0739380390668,
          965.3959244287,
          980.1408900017,
          938.9837728269,
          1002.4018762710666,
          1020.1230077620334,
          1042.4125910953665,
          1040.2309244287,
          1056.0735910953665,
          1055.8125910953663,
          1057.225091095367,
          1058.2146744287,
          1059.5459244287,
          1053.5576515038,
          980.9484479552332,
          1040.0333886235,
          1046.8870506150668,
          1040.3662577620337,
          1060.2107160953667,
          1059.9921744287,
          1061.2059358995332,
          999.485316434,
          1040.8716778893331,
          1061.5271744287,
          1041.1605757635332,
          1042.7696452357,
          1030.8072240289,
          1012.2209689485334
         ]
        },
        {
         "mode": "lines",
         "name": "Valores predichos de test",
         "type": "scatter",
         "x": [
          "2023-07-01",
          "2023-07-02",
          "2023-07-03",
          "2023-07-04",
          "2023-07-05",
          "2023-07-06",
          "2023-07-07",
          "2023-07-08",
          "2023-07-09",
          "2023-07-10",
          "2023-07-11",
          "2023-07-12",
          "2023-07-13",
          "2023-07-14",
          "2023-07-15",
          "2023-07-16",
          "2023-07-17",
          "2023-07-18",
          "2023-07-19",
          "2023-07-20",
          "2023-07-21",
          "2023-07-22",
          "2023-07-23",
          "2023-07-24",
          "2023-07-25",
          "2023-07-26",
          "2023-07-27",
          "2023-07-28",
          "2023-07-29",
          "2023-07-30",
          "2023-07-31",
          "2023-08-01",
          "2023-08-02",
          "2023-08-03",
          "2023-08-04",
          "2023-08-05",
          "2023-08-06",
          "2023-08-07",
          "2023-08-08",
          "2023-08-09",
          "2023-08-10",
          "2023-08-11",
          "2023-08-12",
          "2023-08-13",
          "2023-08-14",
          "2023-08-15",
          "2023-08-16",
          "2023-08-17",
          "2023-08-18",
          "2023-08-19",
          "2023-08-20",
          "2023-08-21",
          "2023-08-22",
          "2023-08-23",
          "2023-08-24",
          "2023-08-25",
          "2023-08-26",
          "2023-08-27",
          "2023-08-28",
          "2023-08-29",
          "2023-08-30",
          "2023-08-31",
          "2023-09-01",
          "2023-09-02",
          "2023-09-03",
          "2023-09-04",
          "2023-09-05",
          "2023-09-06",
          "2023-09-07",
          "2023-09-08",
          "2023-09-09",
          "2023-09-10",
          "2023-09-11",
          "2023-09-12",
          "2023-09-13",
          "2023-09-14",
          "2023-09-15",
          "2023-09-16",
          "2023-09-17",
          "2023-09-18",
          "2023-09-19",
          "2023-09-20",
          "2023-09-21",
          "2023-09-22",
          "2023-09-23",
          "2023-09-24",
          "2023-09-25",
          "2023-09-26",
          "2023-09-27",
          "2023-09-28",
          "2023-09-29",
          "2023-09-30"
         ],
         "y": [
          485.69104522416626,
          545.5915233684069,
          546.198732593165,
          468.6869935302037,
          537.6535000769626,
          610.0861166713786,
          609.9492023180309,
          546.1070282598824,
          486.61380015800233,
          419.1548812052876,
          446.2851323019177,
          521.4825535705846,
          561.812807952497,
          624.1749813633422,
          669.2283109505818,
          617.3429186740867,
          636.786813909542,
          594.3613526699949,
          536.8797608736772,
          424.24997495729417,
          320.3302312043803,
          434.5495750074576,
          346.22484811505245,
          348.1307636145008,
          517.2478119577482,
          517.168310466868,
          499.0688651552001,
          538.1601403846928,
          476.8037996516551,
          484.441978256372,
          497.7396853716238,
          484.4165662966299,
          540.8534354778344,
          552.1354808541142,
          489.00231076723503,
          518.8160449217116,
          454.32460133806404,
          474.46107721071,
          397.5193356935897,
          508.3779004283042,
          633.8654498568256,
          681.5703336846602,
          744.6640340090969,
          761.8868438730018,
          639.2101485258969,
          612.8071175004266,
          733.8091878979702,
          678.9902313022247,
          669.3417541789498,
          705.5985730128953,
          673.5109151388407,
          387.62996759070535,
          372.5949126333079,
          319.8126048706695,
          213.18877960898266,
          179.59217669535855,
          196.9759557047705,
          251.1229289191542,
          186.31798631350725,
          368.35488512702614,
          602.7330296801567,
          792.9025284071539,
          826.0045215969941,
          831.9281293323671,
          886.9870782073582,
          929.9473312184439,
          949.4330469310229,
          959.1984180194886,
          911.1243920244573,
          973.8561396474,
          1005.1087474840452,
          1018.5303532116179,
          1014.4301334779773,
          1027.1918341445062,
          1028.4304212467352,
          1026.9735108910747,
          1028.188427563782,
          1029.4292046594815,
          1022.8811201739906,
          943.9246876483436,
          1003.6522226521765,
          1028.7628277623282,
          1011.1682189104517,
          1030.8255481809847,
          1033.2019761536403,
          1030.7856928461104,
          964.3646227603135,
          1004.4276386490492,
          1041.1414635693836,
          1012.8956950743802,
          1009.339611665744,
          1000.3619196423606
         ]
        },
        {
         "mode": "lines",
         "name": "Valores predichos de test -1",
         "type": "scatter",
         "x": [
          "2023-07-01",
          "2023-07-02",
          "2023-07-03",
          "2023-07-04",
          "2023-07-05",
          "2023-07-06",
          "2023-07-07",
          "2023-07-08",
          "2023-07-09",
          "2023-07-10",
          "2023-07-11",
          "2023-07-12",
          "2023-07-13",
          "2023-07-14",
          "2023-07-15",
          "2023-07-16",
          "2023-07-17",
          "2023-07-18",
          "2023-07-19",
          "2023-07-20",
          "2023-07-21",
          "2023-07-22",
          "2023-07-23",
          "2023-07-24",
          "2023-07-25",
          "2023-07-26",
          "2023-07-27",
          "2023-07-28",
          "2023-07-29",
          "2023-07-30",
          "2023-07-31",
          "2023-08-01",
          "2023-08-02",
          "2023-08-03",
          "2023-08-04",
          "2023-08-05",
          "2023-08-06",
          "2023-08-07",
          "2023-08-08",
          "2023-08-09",
          "2023-08-10",
          "2023-08-11",
          "2023-08-12",
          "2023-08-13",
          "2023-08-14",
          "2023-08-15",
          "2023-08-16",
          "2023-08-17",
          "2023-08-18",
          "2023-08-19",
          "2023-08-20",
          "2023-08-21",
          "2023-08-22",
          "2023-08-23",
          "2023-08-24",
          "2023-08-25",
          "2023-08-26",
          "2023-08-27",
          "2023-08-28",
          "2023-08-29",
          "2023-08-30",
          "2023-08-31",
          "2023-09-01",
          "2023-09-02",
          "2023-09-03",
          "2023-09-04",
          "2023-09-05",
          "2023-09-06",
          "2023-09-07",
          "2023-09-08",
          "2023-09-09",
          "2023-09-10",
          "2023-09-11",
          "2023-09-12",
          "2023-09-13",
          "2023-09-14",
          "2023-09-15",
          "2023-09-16",
          "2023-09-17",
          "2023-09-18",
          "2023-09-19",
          "2023-09-20",
          "2023-09-21",
          "2023-09-22",
          "2023-09-23",
          "2023-09-24",
          "2023-09-25",
          "2023-09-26",
          "2023-09-27",
          "2023-09-28",
          "2023-09-29",
          "2023-09-30"
         ],
         "y": [
          545.498871906033,
          546.1138169366459,
          468.6136720483125,
          537.6278249574065,
          609.9777772147345,
          609.8499035876793,
          546.0314246982574,
          486.5744281938686,
          419.1158092183079,
          446.25972019366594,
          521.4048153126488,
          561.7124329002469,
          624.0858205168868,
          669.1209370459469,
          617.2455112907194,
          636.741093753682,
          594.2733265556177,
          536.83789061995,
          424.2060324503036,
          320.32691241736063,
          434.5445078834336,
          346.10131111568626,
          348.12910408257085,
          517.1712996341948,
          517.0197490533621,
          499.0045196556037,
          538.0891230752816,
          476.713816856436,
          484.40962181559274,
          497.66239716763465,
          484.34834131106925,
          540.793003747221,
          552.0359457609411,
          488.92983367627386,
          518.7787765674178,
          454.2363965697789,
          474.4368246535266,
          397.4334421266189,
          508.3653443860274,
          633.7326302943817,
          681.4462625736189,
          744.5606429548097,
          761.7731554214537,
          639.1229198880585,
          612.7972159558394,
          733.7492880620596,
          678.8605627062773,
          669.3062961739188,
          705.5211450527921,
          673.4254057169037,
          387.5709866785384,
          372.6824290431119,
          319.7461215104272,
          213.17838013284697,
          179.58430430349748,
          196.93915120863525,
          251.06085085918272,
          186.22911969966196,
          368.3345169110191,
          602.5657708578068,
          792.7228636799612,
          825.818000294835,
          831.8249701166162,
          886.8930390476404,
          929.8389530526417,
          949.3325917490655,
          959.107301390567,
          911.0380999415428,
          973.805870070406,
          1004.9944228205266,
          1018.4428084467094,
          1014.3389461795646,
          1027.1155363126459,
          1028.3428180262742,
          1026.8954745404408,
          1028.1093646103473,
          1029.3503793860657,
          1022.8019169213819,
          943.8485715107566,
          1003.6196451558027,
          1028.650102542073,
          1011.0859871565783,
          1030.7518966486061,
          1033.1119246057642,
          1030.707544889123,
          964.2843173242344,
          1004.3878918103993,
          1041.0394750060916,
          1012.8047259750763,
          1009.2737634957614,
          1000.2827607753061
         ]
        }
       ],
       "layout": {
        "legend": {
         "tracegroupgap": 0
        },
        "template": {
         "data": {
          "bar": [
           {
            "error_x": {
             "color": "#2a3f5f"
            },
            "error_y": {
             "color": "#2a3f5f"
            },
            "marker": {
             "line": {
              "color": "#E5ECF6",
              "width": 0.5
             },
             "pattern": {
              "fillmode": "overlay",
              "size": 10,
              "solidity": 0.2
             }
            },
            "type": "bar"
           }
          ],
          "barpolar": [
           {
            "marker": {
             "line": {
              "color": "#E5ECF6",
              "width": 0.5
             },
             "pattern": {
              "fillmode": "overlay",
              "size": 10,
              "solidity": 0.2
             }
            },
            "type": "barpolar"
           }
          ],
          "carpet": [
           {
            "aaxis": {
             "endlinecolor": "#2a3f5f",
             "gridcolor": "white",
             "linecolor": "white",
             "minorgridcolor": "white",
             "startlinecolor": "#2a3f5f"
            },
            "baxis": {
             "endlinecolor": "#2a3f5f",
             "gridcolor": "white",
             "linecolor": "white",
             "minorgridcolor": "white",
             "startlinecolor": "#2a3f5f"
            },
            "type": "carpet"
           }
          ],
          "choropleth": [
           {
            "colorbar": {
             "outlinewidth": 0,
             "ticks": ""
            },
            "type": "choropleth"
           }
          ],
          "contour": [
           {
            "colorbar": {
             "outlinewidth": 0,
             "ticks": ""
            },
            "colorscale": [
             [
              0,
              "#0d0887"
             ],
             [
              0.1111111111111111,
              "#46039f"
             ],
             [
              0.2222222222222222,
              "#7201a8"
             ],
             [
              0.3333333333333333,
              "#9c179e"
             ],
             [
              0.4444444444444444,
              "#bd3786"
             ],
             [
              0.5555555555555556,
              "#d8576b"
             ],
             [
              0.6666666666666666,
              "#ed7953"
             ],
             [
              0.7777777777777778,
              "#fb9f3a"
             ],
             [
              0.8888888888888888,
              "#fdca26"
             ],
             [
              1,
              "#f0f921"
             ]
            ],
            "type": "contour"
           }
          ],
          "contourcarpet": [
           {
            "colorbar": {
             "outlinewidth": 0,
             "ticks": ""
            },
            "type": "contourcarpet"
           }
          ],
          "heatmap": [
           {
            "colorbar": {
             "outlinewidth": 0,
             "ticks": ""
            },
            "colorscale": [
             [
              0,
              "#0d0887"
             ],
             [
              0.1111111111111111,
              "#46039f"
             ],
             [
              0.2222222222222222,
              "#7201a8"
             ],
             [
              0.3333333333333333,
              "#9c179e"
             ],
             [
              0.4444444444444444,
              "#bd3786"
             ],
             [
              0.5555555555555556,
              "#d8576b"
             ],
             [
              0.6666666666666666,
              "#ed7953"
             ],
             [
              0.7777777777777778,
              "#fb9f3a"
             ],
             [
              0.8888888888888888,
              "#fdca26"
             ],
             [
              1,
              "#f0f921"
             ]
            ],
            "type": "heatmap"
           }
          ],
          "heatmapgl": [
           {
            "colorbar": {
             "outlinewidth": 0,
             "ticks": ""
            },
            "colorscale": [
             [
              0,
              "#0d0887"
             ],
             [
              0.1111111111111111,
              "#46039f"
             ],
             [
              0.2222222222222222,
              "#7201a8"
             ],
             [
              0.3333333333333333,
              "#9c179e"
             ],
             [
              0.4444444444444444,
              "#bd3786"
             ],
             [
              0.5555555555555556,
              "#d8576b"
             ],
             [
              0.6666666666666666,
              "#ed7953"
             ],
             [
              0.7777777777777778,
              "#fb9f3a"
             ],
             [
              0.8888888888888888,
              "#fdca26"
             ],
             [
              1,
              "#f0f921"
             ]
            ],
            "type": "heatmapgl"
           }
          ],
          "histogram": [
           {
            "marker": {
             "pattern": {
              "fillmode": "overlay",
              "size": 10,
              "solidity": 0.2
             }
            },
            "type": "histogram"
           }
          ],
          "histogram2d": [
           {
            "colorbar": {
             "outlinewidth": 0,
             "ticks": ""
            },
            "colorscale": [
             [
              0,
              "#0d0887"
             ],
             [
              0.1111111111111111,
              "#46039f"
             ],
             [
              0.2222222222222222,
              "#7201a8"
             ],
             [
              0.3333333333333333,
              "#9c179e"
             ],
             [
              0.4444444444444444,
              "#bd3786"
             ],
             [
              0.5555555555555556,
              "#d8576b"
             ],
             [
              0.6666666666666666,
              "#ed7953"
             ],
             [
              0.7777777777777778,
              "#fb9f3a"
             ],
             [
              0.8888888888888888,
              "#fdca26"
             ],
             [
              1,
              "#f0f921"
             ]
            ],
            "type": "histogram2d"
           }
          ],
          "histogram2dcontour": [
           {
            "colorbar": {
             "outlinewidth": 0,
             "ticks": ""
            },
            "colorscale": [
             [
              0,
              "#0d0887"
             ],
             [
              0.1111111111111111,
              "#46039f"
             ],
             [
              0.2222222222222222,
              "#7201a8"
             ],
             [
              0.3333333333333333,
              "#9c179e"
             ],
             [
              0.4444444444444444,
              "#bd3786"
             ],
             [
              0.5555555555555556,
              "#d8576b"
             ],
             [
              0.6666666666666666,
              "#ed7953"
             ],
             [
              0.7777777777777778,
              "#fb9f3a"
             ],
             [
              0.8888888888888888,
              "#fdca26"
             ],
             [
              1,
              "#f0f921"
             ]
            ],
            "type": "histogram2dcontour"
           }
          ],
          "mesh3d": [
           {
            "colorbar": {
             "outlinewidth": 0,
             "ticks": ""
            },
            "type": "mesh3d"
           }
          ],
          "parcoords": [
           {
            "line": {
             "colorbar": {
              "outlinewidth": 0,
              "ticks": ""
             }
            },
            "type": "parcoords"
           }
          ],
          "pie": [
           {
            "automargin": true,
            "type": "pie"
           }
          ],
          "scatter": [
           {
            "fillpattern": {
             "fillmode": "overlay",
             "size": 10,
             "solidity": 0.2
            },
            "type": "scatter"
           }
          ],
          "scatter3d": [
           {
            "line": {
             "colorbar": {
              "outlinewidth": 0,
              "ticks": ""
             }
            },
            "marker": {
             "colorbar": {
              "outlinewidth": 0,
              "ticks": ""
             }
            },
            "type": "scatter3d"
           }
          ],
          "scattercarpet": [
           {
            "marker": {
             "colorbar": {
              "outlinewidth": 0,
              "ticks": ""
             }
            },
            "type": "scattercarpet"
           }
          ],
          "scattergeo": [
           {
            "marker": {
             "colorbar": {
              "outlinewidth": 0,
              "ticks": ""
             }
            },
            "type": "scattergeo"
           }
          ],
          "scattergl": [
           {
            "marker": {
             "colorbar": {
              "outlinewidth": 0,
              "ticks": ""
             }
            },
            "type": "scattergl"
           }
          ],
          "scattermapbox": [
           {
            "marker": {
             "colorbar": {
              "outlinewidth": 0,
              "ticks": ""
             }
            },
            "type": "scattermapbox"
           }
          ],
          "scatterpolar": [
           {
            "marker": {
             "colorbar": {
              "outlinewidth": 0,
              "ticks": ""
             }
            },
            "type": "scatterpolar"
           }
          ],
          "scatterpolargl": [
           {
            "marker": {
             "colorbar": {
              "outlinewidth": 0,
              "ticks": ""
             }
            },
            "type": "scatterpolargl"
           }
          ],
          "scatterternary": [
           {
            "marker": {
             "colorbar": {
              "outlinewidth": 0,
              "ticks": ""
             }
            },
            "type": "scatterternary"
           }
          ],
          "surface": [
           {
            "colorbar": {
             "outlinewidth": 0,
             "ticks": ""
            },
            "colorscale": [
             [
              0,
              "#0d0887"
             ],
             [
              0.1111111111111111,
              "#46039f"
             ],
             [
              0.2222222222222222,
              "#7201a8"
             ],
             [
              0.3333333333333333,
              "#9c179e"
             ],
             [
              0.4444444444444444,
              "#bd3786"
             ],
             [
              0.5555555555555556,
              "#d8576b"
             ],
             [
              0.6666666666666666,
              "#ed7953"
             ],
             [
              0.7777777777777778,
              "#fb9f3a"
             ],
             [
              0.8888888888888888,
              "#fdca26"
             ],
             [
              1,
              "#f0f921"
             ]
            ],
            "type": "surface"
           }
          ],
          "table": [
           {
            "cells": {
             "fill": {
              "color": "#EBF0F8"
             },
             "line": {
              "color": "white"
             }
            },
            "header": {
             "fill": {
              "color": "#C8D4E3"
             },
             "line": {
              "color": "white"
             }
            },
            "type": "table"
           }
          ]
         },
         "layout": {
          "annotationdefaults": {
           "arrowcolor": "#2a3f5f",
           "arrowhead": 0,
           "arrowwidth": 1
          },
          "autotypenumbers": "strict",
          "coloraxis": {
           "colorbar": {
            "outlinewidth": 0,
            "ticks": ""
           }
          },
          "colorscale": {
           "diverging": [
            [
             0,
             "#8e0152"
            ],
            [
             0.1,
             "#c51b7d"
            ],
            [
             0.2,
             "#de77ae"
            ],
            [
             0.3,
             "#f1b6da"
            ],
            [
             0.4,
             "#fde0ef"
            ],
            [
             0.5,
             "#f7f7f7"
            ],
            [
             0.6,
             "#e6f5d0"
            ],
            [
             0.7,
             "#b8e186"
            ],
            [
             0.8,
             "#7fbc41"
            ],
            [
             0.9,
             "#4d9221"
            ],
            [
             1,
             "#276419"
            ]
           ],
           "sequential": [
            [
             0,
             "#0d0887"
            ],
            [
             0.1111111111111111,
             "#46039f"
            ],
            [
             0.2222222222222222,
             "#7201a8"
            ],
            [
             0.3333333333333333,
             "#9c179e"
            ],
            [
             0.4444444444444444,
             "#bd3786"
            ],
            [
             0.5555555555555556,
             "#d8576b"
            ],
            [
             0.6666666666666666,
             "#ed7953"
            ],
            [
             0.7777777777777778,
             "#fb9f3a"
            ],
            [
             0.8888888888888888,
             "#fdca26"
            ],
            [
             1,
             "#f0f921"
            ]
           ],
           "sequentialminus": [
            [
             0,
             "#0d0887"
            ],
            [
             0.1111111111111111,
             "#46039f"
            ],
            [
             0.2222222222222222,
             "#7201a8"
            ],
            [
             0.3333333333333333,
             "#9c179e"
            ],
            [
             0.4444444444444444,
             "#bd3786"
            ],
            [
             0.5555555555555556,
             "#d8576b"
            ],
            [
             0.6666666666666666,
             "#ed7953"
            ],
            [
             0.7777777777777778,
             "#fb9f3a"
            ],
            [
             0.8888888888888888,
             "#fdca26"
            ],
            [
             1,
             "#f0f921"
            ]
           ]
          },
          "colorway": [
           "#636efa",
           "#EF553B",
           "#00cc96",
           "#ab63fa",
           "#FFA15A",
           "#19d3f3",
           "#FF6692",
           "#B6E880",
           "#FF97FF",
           "#FECB52"
          ],
          "font": {
           "color": "#2a3f5f"
          },
          "geo": {
           "bgcolor": "white",
           "lakecolor": "white",
           "landcolor": "#E5ECF6",
           "showlakes": true,
           "showland": true,
           "subunitcolor": "white"
          },
          "hoverlabel": {
           "align": "left"
          },
          "hovermode": "closest",
          "mapbox": {
           "style": "light"
          },
          "paper_bgcolor": "white",
          "plot_bgcolor": "#E5ECF6",
          "polar": {
           "angularaxis": {
            "gridcolor": "white",
            "linecolor": "white",
            "ticks": ""
           },
           "bgcolor": "#E5ECF6",
           "radialaxis": {
            "gridcolor": "white",
            "linecolor": "white",
            "ticks": ""
           }
          },
          "scene": {
           "xaxis": {
            "backgroundcolor": "#E5ECF6",
            "gridcolor": "white",
            "gridwidth": 2,
            "linecolor": "white",
            "showbackground": true,
            "ticks": "",
            "zerolinecolor": "white"
           },
           "yaxis": {
            "backgroundcolor": "#E5ECF6",
            "gridcolor": "white",
            "gridwidth": 2,
            "linecolor": "white",
            "showbackground": true,
            "ticks": "",
            "zerolinecolor": "white"
           },
           "zaxis": {
            "backgroundcolor": "#E5ECF6",
            "gridcolor": "white",
            "gridwidth": 2,
            "linecolor": "white",
            "showbackground": true,
            "ticks": "",
            "zerolinecolor": "white"
           }
          },
          "shapedefaults": {
           "line": {
            "color": "#2a3f5f"
           }
          },
          "ternary": {
           "aaxis": {
            "gridcolor": "white",
            "linecolor": "white",
            "ticks": ""
           },
           "baxis": {
            "gridcolor": "white",
            "linecolor": "white",
            "ticks": ""
           },
           "bgcolor": "#E5ECF6",
           "caxis": {
            "gridcolor": "white",
            "linecolor": "white",
            "ticks": ""
           }
          },
          "title": {
           "x": 0.05
          },
          "xaxis": {
           "automargin": true,
           "gridcolor": "white",
           "linecolor": "white",
           "ticks": "",
           "title": {
            "standoff": 15
           },
           "zerolinecolor": "white",
           "zerolinewidth": 2
          },
          "yaxis": {
           "automargin": true,
           "gridcolor": "white",
           "linecolor": "white",
           "ticks": "",
           "title": {
            "standoff": 15
           },
           "zerolinecolor": "white",
           "zerolinewidth": 2
          }
         }
        },
        "title": {
         "text": "Forecasting of Energy Price with Forward MLR Selection"
        },
        "xaxis": {
         "anchor": "y",
         "domain": [
          0,
          1
         ],
         "title": {
          "text": "Date"
         }
        },
        "yaxis": {
         "anchor": "x",
         "domain": [
          0,
          1
         ],
         "title": {
          "text": "Average Energy Price"
         }
        }
       }
      }
     },
     "metadata": {},
     "output_type": "display_data"
    }
   ],
   "source": [
    "fig = px.line(\n",
    "    x=X_train_dates_MRL_selection,\n",
    "    y=y_train_MRL_selection,\n",
    "    title=\"Forecasting of Energy Price with Forward MLR Selection\",\n",
    ")\n",
    "fig.update_layout(xaxis_title=\"Date\", yaxis_title=\"Average Energy Price\")\n",
    "fig.add_trace(\n",
    "    go.Scatter(\n",
    "        x=X_train_dates_MRL_selection,\n",
    "        y=y_pred_train_MRL_selection,\n",
    "        mode=\"lines\",\n",
    "        name=\"Valores predichos de train\",\n",
    "    )\n",
    ")\n",
    "fig.add_trace(\n",
    "    go.Scatter(\n",
    "        x=X_test_dates_MRL_selection,\n",
    "        y=y_test_MRL_selection,\n",
    "        mode=\"lines\",\n",
    "        name=\"Valores reales de test\",\n",
    "    )\n",
    ")\n",
    "fig.add_trace(\n",
    "    go.Scatter(\n",
    "        x=X_test_dates_MRL_selection,\n",
    "        y=y_pred_MRL_selection,\n",
    "        mode=\"lines\",\n",
    "        name=\"Valores predichos de test\",\n",
    "    )\n",
    ")\n",
    "fig.add_trace(\n",
    "    go.Scatter(\n",
    "        x=X_test_dates_MRL_selection,\n",
    "        y=y_pred_1_MRL_selection,\n",
    "        mode=\"lines\",\n",
    "        name=\"Valores predichos de test -1\",\n",
    "    )\n",
    ")\n",
    "fig.show()"
   ]
  },
  {
   "cell_type": "markdown",
   "metadata": {},
   "source": [
    "Matriz de correlacion de las variables seleccionadas por el mejor modelo, selección Forward\n"
   ]
  },
  {
   "cell_type": "code",
   "execution_count": 19,
   "metadata": {},
   "outputs": [
    {
     "data": {
      "text/html": [
       "<div>\n",
       "<style scoped>\n",
       "    .dataframe tbody tr th:only-of-type {\n",
       "        vertical-align: middle;\n",
       "    }\n",
       "\n",
       "    .dataframe tbody tr th {\n",
       "        vertical-align: top;\n",
       "    }\n",
       "\n",
       "    .dataframe thead th {\n",
       "        text-align: right;\n",
       "    }\n",
       "</style>\n",
       "<table border=\"1\" class=\"dataframe\">\n",
       "  <thead>\n",
       "    <tr style=\"text-align: right;\">\n",
       "      <th></th>\n",
       "      <th>energy_price_lag_1</th>\n",
       "      <th>energy_price_lag_3</th>\n",
       "      <th>energy_price</th>\n",
       "    </tr>\n",
       "  </thead>\n",
       "  <tbody>\n",
       "    <tr>\n",
       "      <th>energy_price_lag_1</th>\n",
       "      <td>1.000000</td>\n",
       "      <td>0.955537</td>\n",
       "      <td>0.981022</td>\n",
       "    </tr>\n",
       "    <tr>\n",
       "      <th>energy_price_lag_3</th>\n",
       "      <td>0.955537</td>\n",
       "      <td>1.000000</td>\n",
       "      <td>0.924551</td>\n",
       "    </tr>\n",
       "    <tr>\n",
       "      <th>energy_price</th>\n",
       "      <td>0.981022</td>\n",
       "      <td>0.924551</td>\n",
       "      <td>1.000000</td>\n",
       "    </tr>\n",
       "  </tbody>\n",
       "</table>\n",
       "</div>"
      ],
      "text/plain": [
       "                    energy_price_lag_1  energy_price_lag_3  energy_price\n",
       "energy_price_lag_1            1.000000            0.955537      0.981022\n",
       "energy_price_lag_3            0.955537            1.000000      0.924551\n",
       "energy_price                  0.981022            0.924551      1.000000"
      ]
     },
     "execution_count": 19,
     "metadata": {},
     "output_type": "execute_result"
    }
   ],
   "source": [
    "numeric_columns = df_selected_variables.select_dtypes(include=[\"float64\", \"int64\"])\n",
    "correlation_matrix = numeric_columns.corr()\n",
    "correlation_matrix"
   ]
  }
 ],
 "metadata": {
  "kernelspec": {
   "display_name": "Proyecto-Integrador-Semestre1-ERzOjjfT",
   "language": "python",
   "name": "python3"
  },
  "language_info": {
   "codemirror_mode": {
    "name": "ipython",
    "version": 3
   },
   "file_extension": ".py",
   "mimetype": "text/x-python",
   "name": "python",
   "nbconvert_exporter": "python",
   "pygments_lexer": "ipython3",
   "version": "3.11.5"
  }
 },
 "nbformat": 4,
 "nbformat_minor": 2
}
