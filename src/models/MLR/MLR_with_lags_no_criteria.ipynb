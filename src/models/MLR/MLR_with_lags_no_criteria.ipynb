{
 "cells": [
  {
   "cell_type": "code",
   "execution_count": 1,
   "metadata": {},
   "outputs": [],
   "source": [
    "import sys\n",
    "\n",
    "sys.path.insert(0, \"..\")"
   ]
  },
  {
   "cell_type": "code",
   "execution_count": 2,
   "metadata": {},
   "outputs": [],
   "source": [
    "import pandas as pd\n",
    "from mlr import perform_mlr\n",
    "import plotly.graph_objects as go\n",
    "from forward_backward import forward_selection, backward_selection\n",
    "import plotly.express as px"
   ]
  },
  {
   "cell_type": "code",
   "execution_count": 3,
   "metadata": {},
   "outputs": [],
   "source": [
    "df = pd.read_csv(\"../../processed_tables/merged_no_damns_standardized.csv\")"
   ]
  },
  {
   "cell_type": "markdown",
   "metadata": {},
   "source": [
    "## Regresión lineal múltiple\n",
    "\n",
    "Usando `statsmodels` se puede realizar una regresión lineal. Nuestro módulo se encarga de hacer todo este análisis.\n"
   ]
  },
  {
   "cell_type": "code",
   "execution_count": 4,
   "metadata": {},
   "outputs": [
    {
     "name": "stdout",
     "output_type": "stream",
     "text": [
      "Lags: 1\n",
      "Mean Squared Error on Test Data: 4590.231728734916\n",
      "Mean Absolute Percentage Error: 0.09698183327122548\n",
      "-----------------------\n",
      "Lags: 2\n",
      "Mean Squared Error on Test Data: 4488.26027812589\n",
      "Mean Absolute Percentage Error: 0.0976079025645777\n",
      "-----------------------\n",
      "Lags: 3\n",
      "Mean Squared Error on Test Data: 4498.4269647473275\n",
      "Mean Absolute Percentage Error: 0.09627604130701675\n",
      "-----------------------\n",
      "Lags: 4\n",
      "Mean Squared Error on Test Data: 4494.097011910895\n",
      "Mean Absolute Percentage Error: 0.09619779024089208\n",
      "-----------------------\n",
      "Lags: 5\n",
      "Mean Squared Error on Test Data: 4565.825498839827\n",
      "Mean Absolute Percentage Error: 0.09650747751726266\n",
      "-----------------------\n",
      "Lags: 6\n",
      "Mean Squared Error on Test Data: 4659.251311518415\n",
      "Mean Absolute Percentage Error: 0.09764519401345485\n",
      "-----------------------\n",
      "Lags: 7\n",
      "Mean Squared Error on Test Data: 4698.809949443617\n",
      "Mean Absolute Percentage Error: 0.09793933544284252\n",
      "-----------------------\n",
      "Lags: 8\n",
      "Mean Squared Error on Test Data: 4886.644467872923\n",
      "Mean Absolute Percentage Error: 0.09998837275668128\n",
      "-----------------------\n",
      "Lags: 9\n",
      "Mean Squared Error on Test Data: 4794.238101492569\n",
      "Mean Absolute Percentage Error: 0.09938158959907427\n",
      "-----------------------\n",
      "Lags: 10\n",
      "Mean Squared Error on Test Data: 4718.916231771392\n",
      "Mean Absolute Percentage Error: 0.09874228929497791\n",
      "-----------------------\n",
      "Lags: 11\n",
      "Mean Squared Error on Test Data: 4707.170257385171\n",
      "Mean Absolute Percentage Error: 0.09904403513762981\n",
      "-----------------------\n"
     ]
    }
   ],
   "source": [
    "mape_test = []\n",
    "mse_test = []\n",
    "\n",
    "for i in range(1, 12):\n",
    "    print(f\"Lags: {i}\")\n",
    "    results_i = perform_mlr({\"df\": df, \"lags\": i})\n",
    "    mape_i = results_i[\"mape_test\"]\n",
    "    mse_test_i = results_i[\"mse_test\"]\n",
    "    mape_test.append(mape_i)\n",
    "    mse_test.append(mse_test_i)\n",
    "    print(\"-----------------------\")"
   ]
  },
  {
   "cell_type": "code",
   "execution_count": 5,
   "metadata": {},
   "outputs": [
    {
     "data": {
      "application/vnd.plotly.v1+json": {
       "config": {
        "plotlyServerURL": "https://plot.ly"
       },
       "data": [
        {
         "hovertemplate": "lag=%{x}<br>mse_test=%{y}<extra></extra>",
         "legendgroup": "",
         "line": {
          "color": "#636efa",
          "dash": "solid"
         },
         "marker": {
          "symbol": "circle"
         },
         "mode": "lines",
         "name": "",
         "orientation": "v",
         "showlegend": false,
         "type": "scatter",
         "x": [
          1,
          2,
          3,
          4,
          5,
          6,
          7,
          8,
          9,
          10,
          11
         ],
         "xaxis": "x",
         "y": [
          4590.231728734916,
          4488.26027812589,
          4498.4269647473275,
          4494.097011910895,
          4565.825498839827,
          4659.251311518415,
          4698.809949443617,
          4886.644467872923,
          4794.238101492569,
          4718.916231771392,
          4707.170257385171
         ],
         "yaxis": "y"
        }
       ],
       "layout": {
        "legend": {
         "tracegroupgap": 0
        },
        "template": {
         "data": {
          "bar": [
           {
            "error_x": {
             "color": "#2a3f5f"
            },
            "error_y": {
             "color": "#2a3f5f"
            },
            "marker": {
             "line": {
              "color": "#E5ECF6",
              "width": 0.5
             },
             "pattern": {
              "fillmode": "overlay",
              "size": 10,
              "solidity": 0.2
             }
            },
            "type": "bar"
           }
          ],
          "barpolar": [
           {
            "marker": {
             "line": {
              "color": "#E5ECF6",
              "width": 0.5
             },
             "pattern": {
              "fillmode": "overlay",
              "size": 10,
              "solidity": 0.2
             }
            },
            "type": "barpolar"
           }
          ],
          "carpet": [
           {
            "aaxis": {
             "endlinecolor": "#2a3f5f",
             "gridcolor": "white",
             "linecolor": "white",
             "minorgridcolor": "white",
             "startlinecolor": "#2a3f5f"
            },
            "baxis": {
             "endlinecolor": "#2a3f5f",
             "gridcolor": "white",
             "linecolor": "white",
             "minorgridcolor": "white",
             "startlinecolor": "#2a3f5f"
            },
            "type": "carpet"
           }
          ],
          "choropleth": [
           {
            "colorbar": {
             "outlinewidth": 0,
             "ticks": ""
            },
            "type": "choropleth"
           }
          ],
          "contour": [
           {
            "colorbar": {
             "outlinewidth": 0,
             "ticks": ""
            },
            "colorscale": [
             [
              0,
              "#0d0887"
             ],
             [
              0.1111111111111111,
              "#46039f"
             ],
             [
              0.2222222222222222,
              "#7201a8"
             ],
             [
              0.3333333333333333,
              "#9c179e"
             ],
             [
              0.4444444444444444,
              "#bd3786"
             ],
             [
              0.5555555555555556,
              "#d8576b"
             ],
             [
              0.6666666666666666,
              "#ed7953"
             ],
             [
              0.7777777777777778,
              "#fb9f3a"
             ],
             [
              0.8888888888888888,
              "#fdca26"
             ],
             [
              1,
              "#f0f921"
             ]
            ],
            "type": "contour"
           }
          ],
          "contourcarpet": [
           {
            "colorbar": {
             "outlinewidth": 0,
             "ticks": ""
            },
            "type": "contourcarpet"
           }
          ],
          "heatmap": [
           {
            "colorbar": {
             "outlinewidth": 0,
             "ticks": ""
            },
            "colorscale": [
             [
              0,
              "#0d0887"
             ],
             [
              0.1111111111111111,
              "#46039f"
             ],
             [
              0.2222222222222222,
              "#7201a8"
             ],
             [
              0.3333333333333333,
              "#9c179e"
             ],
             [
              0.4444444444444444,
              "#bd3786"
             ],
             [
              0.5555555555555556,
              "#d8576b"
             ],
             [
              0.6666666666666666,
              "#ed7953"
             ],
             [
              0.7777777777777778,
              "#fb9f3a"
             ],
             [
              0.8888888888888888,
              "#fdca26"
             ],
             [
              1,
              "#f0f921"
             ]
            ],
            "type": "heatmap"
           }
          ],
          "heatmapgl": [
           {
            "colorbar": {
             "outlinewidth": 0,
             "ticks": ""
            },
            "colorscale": [
             [
              0,
              "#0d0887"
             ],
             [
              0.1111111111111111,
              "#46039f"
             ],
             [
              0.2222222222222222,
              "#7201a8"
             ],
             [
              0.3333333333333333,
              "#9c179e"
             ],
             [
              0.4444444444444444,
              "#bd3786"
             ],
             [
              0.5555555555555556,
              "#d8576b"
             ],
             [
              0.6666666666666666,
              "#ed7953"
             ],
             [
              0.7777777777777778,
              "#fb9f3a"
             ],
             [
              0.8888888888888888,
              "#fdca26"
             ],
             [
              1,
              "#f0f921"
             ]
            ],
            "type": "heatmapgl"
           }
          ],
          "histogram": [
           {
            "marker": {
             "pattern": {
              "fillmode": "overlay",
              "size": 10,
              "solidity": 0.2
             }
            },
            "type": "histogram"
           }
          ],
          "histogram2d": [
           {
            "colorbar": {
             "outlinewidth": 0,
             "ticks": ""
            },
            "colorscale": [
             [
              0,
              "#0d0887"
             ],
             [
              0.1111111111111111,
              "#46039f"
             ],
             [
              0.2222222222222222,
              "#7201a8"
             ],
             [
              0.3333333333333333,
              "#9c179e"
             ],
             [
              0.4444444444444444,
              "#bd3786"
             ],
             [
              0.5555555555555556,
              "#d8576b"
             ],
             [
              0.6666666666666666,
              "#ed7953"
             ],
             [
              0.7777777777777778,
              "#fb9f3a"
             ],
             [
              0.8888888888888888,
              "#fdca26"
             ],
             [
              1,
              "#f0f921"
             ]
            ],
            "type": "histogram2d"
           }
          ],
          "histogram2dcontour": [
           {
            "colorbar": {
             "outlinewidth": 0,
             "ticks": ""
            },
            "colorscale": [
             [
              0,
              "#0d0887"
             ],
             [
              0.1111111111111111,
              "#46039f"
             ],
             [
              0.2222222222222222,
              "#7201a8"
             ],
             [
              0.3333333333333333,
              "#9c179e"
             ],
             [
              0.4444444444444444,
              "#bd3786"
             ],
             [
              0.5555555555555556,
              "#d8576b"
             ],
             [
              0.6666666666666666,
              "#ed7953"
             ],
             [
              0.7777777777777778,
              "#fb9f3a"
             ],
             [
              0.8888888888888888,
              "#fdca26"
             ],
             [
              1,
              "#f0f921"
             ]
            ],
            "type": "histogram2dcontour"
           }
          ],
          "mesh3d": [
           {
            "colorbar": {
             "outlinewidth": 0,
             "ticks": ""
            },
            "type": "mesh3d"
           }
          ],
          "parcoords": [
           {
            "line": {
             "colorbar": {
              "outlinewidth": 0,
              "ticks": ""
             }
            },
            "type": "parcoords"
           }
          ],
          "pie": [
           {
            "automargin": true,
            "type": "pie"
           }
          ],
          "scatter": [
           {
            "fillpattern": {
             "fillmode": "overlay",
             "size": 10,
             "solidity": 0.2
            },
            "type": "scatter"
           }
          ],
          "scatter3d": [
           {
            "line": {
             "colorbar": {
              "outlinewidth": 0,
              "ticks": ""
             }
            },
            "marker": {
             "colorbar": {
              "outlinewidth": 0,
              "ticks": ""
             }
            },
            "type": "scatter3d"
           }
          ],
          "scattercarpet": [
           {
            "marker": {
             "colorbar": {
              "outlinewidth": 0,
              "ticks": ""
             }
            },
            "type": "scattercarpet"
           }
          ],
          "scattergeo": [
           {
            "marker": {
             "colorbar": {
              "outlinewidth": 0,
              "ticks": ""
             }
            },
            "type": "scattergeo"
           }
          ],
          "scattergl": [
           {
            "marker": {
             "colorbar": {
              "outlinewidth": 0,
              "ticks": ""
             }
            },
            "type": "scattergl"
           }
          ],
          "scattermapbox": [
           {
            "marker": {
             "colorbar": {
              "outlinewidth": 0,
              "ticks": ""
             }
            },
            "type": "scattermapbox"
           }
          ],
          "scatterpolar": [
           {
            "marker": {
             "colorbar": {
              "outlinewidth": 0,
              "ticks": ""
             }
            },
            "type": "scatterpolar"
           }
          ],
          "scatterpolargl": [
           {
            "marker": {
             "colorbar": {
              "outlinewidth": 0,
              "ticks": ""
             }
            },
            "type": "scatterpolargl"
           }
          ],
          "scatterternary": [
           {
            "marker": {
             "colorbar": {
              "outlinewidth": 0,
              "ticks": ""
             }
            },
            "type": "scatterternary"
           }
          ],
          "surface": [
           {
            "colorbar": {
             "outlinewidth": 0,
             "ticks": ""
            },
            "colorscale": [
             [
              0,
              "#0d0887"
             ],
             [
              0.1111111111111111,
              "#46039f"
             ],
             [
              0.2222222222222222,
              "#7201a8"
             ],
             [
              0.3333333333333333,
              "#9c179e"
             ],
             [
              0.4444444444444444,
              "#bd3786"
             ],
             [
              0.5555555555555556,
              "#d8576b"
             ],
             [
              0.6666666666666666,
              "#ed7953"
             ],
             [
              0.7777777777777778,
              "#fb9f3a"
             ],
             [
              0.8888888888888888,
              "#fdca26"
             ],
             [
              1,
              "#f0f921"
             ]
            ],
            "type": "surface"
           }
          ],
          "table": [
           {
            "cells": {
             "fill": {
              "color": "#EBF0F8"
             },
             "line": {
              "color": "white"
             }
            },
            "header": {
             "fill": {
              "color": "#C8D4E3"
             },
             "line": {
              "color": "white"
             }
            },
            "type": "table"
           }
          ]
         },
         "layout": {
          "annotationdefaults": {
           "arrowcolor": "#2a3f5f",
           "arrowhead": 0,
           "arrowwidth": 1
          },
          "autotypenumbers": "strict",
          "coloraxis": {
           "colorbar": {
            "outlinewidth": 0,
            "ticks": ""
           }
          },
          "colorscale": {
           "diverging": [
            [
             0,
             "#8e0152"
            ],
            [
             0.1,
             "#c51b7d"
            ],
            [
             0.2,
             "#de77ae"
            ],
            [
             0.3,
             "#f1b6da"
            ],
            [
             0.4,
             "#fde0ef"
            ],
            [
             0.5,
             "#f7f7f7"
            ],
            [
             0.6,
             "#e6f5d0"
            ],
            [
             0.7,
             "#b8e186"
            ],
            [
             0.8,
             "#7fbc41"
            ],
            [
             0.9,
             "#4d9221"
            ],
            [
             1,
             "#276419"
            ]
           ],
           "sequential": [
            [
             0,
             "#0d0887"
            ],
            [
             0.1111111111111111,
             "#46039f"
            ],
            [
             0.2222222222222222,
             "#7201a8"
            ],
            [
             0.3333333333333333,
             "#9c179e"
            ],
            [
             0.4444444444444444,
             "#bd3786"
            ],
            [
             0.5555555555555556,
             "#d8576b"
            ],
            [
             0.6666666666666666,
             "#ed7953"
            ],
            [
             0.7777777777777778,
             "#fb9f3a"
            ],
            [
             0.8888888888888888,
             "#fdca26"
            ],
            [
             1,
             "#f0f921"
            ]
           ],
           "sequentialminus": [
            [
             0,
             "#0d0887"
            ],
            [
             0.1111111111111111,
             "#46039f"
            ],
            [
             0.2222222222222222,
             "#7201a8"
            ],
            [
             0.3333333333333333,
             "#9c179e"
            ],
            [
             0.4444444444444444,
             "#bd3786"
            ],
            [
             0.5555555555555556,
             "#d8576b"
            ],
            [
             0.6666666666666666,
             "#ed7953"
            ],
            [
             0.7777777777777778,
             "#fb9f3a"
            ],
            [
             0.8888888888888888,
             "#fdca26"
            ],
            [
             1,
             "#f0f921"
            ]
           ]
          },
          "colorway": [
           "#636efa",
           "#EF553B",
           "#00cc96",
           "#ab63fa",
           "#FFA15A",
           "#19d3f3",
           "#FF6692",
           "#B6E880",
           "#FF97FF",
           "#FECB52"
          ],
          "font": {
           "color": "#2a3f5f"
          },
          "geo": {
           "bgcolor": "white",
           "lakecolor": "white",
           "landcolor": "#E5ECF6",
           "showlakes": true,
           "showland": true,
           "subunitcolor": "white"
          },
          "hoverlabel": {
           "align": "left"
          },
          "hovermode": "closest",
          "mapbox": {
           "style": "light"
          },
          "paper_bgcolor": "white",
          "plot_bgcolor": "#E5ECF6",
          "polar": {
           "angularaxis": {
            "gridcolor": "white",
            "linecolor": "white",
            "ticks": ""
           },
           "bgcolor": "#E5ECF6",
           "radialaxis": {
            "gridcolor": "white",
            "linecolor": "white",
            "ticks": ""
           }
          },
          "scene": {
           "xaxis": {
            "backgroundcolor": "#E5ECF6",
            "gridcolor": "white",
            "gridwidth": 2,
            "linecolor": "white",
            "showbackground": true,
            "ticks": "",
            "zerolinecolor": "white"
           },
           "yaxis": {
            "backgroundcolor": "#E5ECF6",
            "gridcolor": "white",
            "gridwidth": 2,
            "linecolor": "white",
            "showbackground": true,
            "ticks": "",
            "zerolinecolor": "white"
           },
           "zaxis": {
            "backgroundcolor": "#E5ECF6",
            "gridcolor": "white",
            "gridwidth": 2,
            "linecolor": "white",
            "showbackground": true,
            "ticks": "",
            "zerolinecolor": "white"
           }
          },
          "shapedefaults": {
           "line": {
            "color": "#2a3f5f"
           }
          },
          "ternary": {
           "aaxis": {
            "gridcolor": "white",
            "linecolor": "white",
            "ticks": ""
           },
           "baxis": {
            "gridcolor": "white",
            "linecolor": "white",
            "ticks": ""
           },
           "bgcolor": "#E5ECF6",
           "caxis": {
            "gridcolor": "white",
            "linecolor": "white",
            "ticks": ""
           }
          },
          "title": {
           "x": 0.05
          },
          "xaxis": {
           "automargin": true,
           "gridcolor": "white",
           "linecolor": "white",
           "ticks": "",
           "title": {
            "standoff": 15
           },
           "zerolinecolor": "white",
           "zerolinewidth": 2
          },
          "yaxis": {
           "automargin": true,
           "gridcolor": "white",
           "linecolor": "white",
           "ticks": "",
           "title": {
            "standoff": 15
           },
           "zerolinecolor": "white",
           "zerolinewidth": 2
          }
         }
        },
        "title": {
         "text": "MSE de la data de test vs Lags"
        },
        "xaxis": {
         "anchor": "y",
         "domain": [
          0,
          1
         ],
         "title": {
          "text": "lag"
         }
        },
        "yaxis": {
         "anchor": "x",
         "domain": [
          0,
          1
         ],
         "title": {
          "text": "mse_test"
         }
        }
       }
      }
     },
     "metadata": {},
     "output_type": "display_data"
    }
   ],
   "source": [
    "df_pruebas = pd.DataFrame(\n",
    "    {\"lag\": list(range(1, 12)), \"mse_test\": mse_test, \"mape_test\": mape_test}\n",
    ")\n",
    "\n",
    "fig_mse = px.line(\n",
    "    df_pruebas, x=\"lag\", y=\"mse_test\", title=\"MSE de la data de test vs Lags\"\n",
    ")\n",
    "\n",
    "fig_mse.show()"
   ]
  },
  {
   "cell_type": "code",
   "execution_count": 6,
   "metadata": {},
   "outputs": [
    {
     "data": {
      "application/vnd.plotly.v1+json": {
       "config": {
        "plotlyServerURL": "https://plot.ly"
       },
       "data": [
        {
         "hovertemplate": "lag=%{x}<br>mape_test=%{y}<extra></extra>",
         "legendgroup": "",
         "line": {
          "color": "#636efa",
          "dash": "solid"
         },
         "marker": {
          "symbol": "circle"
         },
         "mode": "lines",
         "name": "",
         "orientation": "v",
         "showlegend": false,
         "type": "scatter",
         "x": [
          1,
          2,
          3,
          4,
          5,
          6,
          7,
          8,
          9,
          10,
          11
         ],
         "xaxis": "x",
         "y": [
          0.09698183327122548,
          0.0976079025645777,
          0.09627604130701675,
          0.09619779024089208,
          0.09650747751726266,
          0.09764519401345485,
          0.09793933544284252,
          0.09998837275668128,
          0.09938158959907427,
          0.09874228929497791,
          0.09904403513762981
         ],
         "yaxis": "y"
        }
       ],
       "layout": {
        "legend": {
         "tracegroupgap": 0
        },
        "template": {
         "data": {
          "bar": [
           {
            "error_x": {
             "color": "#2a3f5f"
            },
            "error_y": {
             "color": "#2a3f5f"
            },
            "marker": {
             "line": {
              "color": "#E5ECF6",
              "width": 0.5
             },
             "pattern": {
              "fillmode": "overlay",
              "size": 10,
              "solidity": 0.2
             }
            },
            "type": "bar"
           }
          ],
          "barpolar": [
           {
            "marker": {
             "line": {
              "color": "#E5ECF6",
              "width": 0.5
             },
             "pattern": {
              "fillmode": "overlay",
              "size": 10,
              "solidity": 0.2
             }
            },
            "type": "barpolar"
           }
          ],
          "carpet": [
           {
            "aaxis": {
             "endlinecolor": "#2a3f5f",
             "gridcolor": "white",
             "linecolor": "white",
             "minorgridcolor": "white",
             "startlinecolor": "#2a3f5f"
            },
            "baxis": {
             "endlinecolor": "#2a3f5f",
             "gridcolor": "white",
             "linecolor": "white",
             "minorgridcolor": "white",
             "startlinecolor": "#2a3f5f"
            },
            "type": "carpet"
           }
          ],
          "choropleth": [
           {
            "colorbar": {
             "outlinewidth": 0,
             "ticks": ""
            },
            "type": "choropleth"
           }
          ],
          "contour": [
           {
            "colorbar": {
             "outlinewidth": 0,
             "ticks": ""
            },
            "colorscale": [
             [
              0,
              "#0d0887"
             ],
             [
              0.1111111111111111,
              "#46039f"
             ],
             [
              0.2222222222222222,
              "#7201a8"
             ],
             [
              0.3333333333333333,
              "#9c179e"
             ],
             [
              0.4444444444444444,
              "#bd3786"
             ],
             [
              0.5555555555555556,
              "#d8576b"
             ],
             [
              0.6666666666666666,
              "#ed7953"
             ],
             [
              0.7777777777777778,
              "#fb9f3a"
             ],
             [
              0.8888888888888888,
              "#fdca26"
             ],
             [
              1,
              "#f0f921"
             ]
            ],
            "type": "contour"
           }
          ],
          "contourcarpet": [
           {
            "colorbar": {
             "outlinewidth": 0,
             "ticks": ""
            },
            "type": "contourcarpet"
           }
          ],
          "heatmap": [
           {
            "colorbar": {
             "outlinewidth": 0,
             "ticks": ""
            },
            "colorscale": [
             [
              0,
              "#0d0887"
             ],
             [
              0.1111111111111111,
              "#46039f"
             ],
             [
              0.2222222222222222,
              "#7201a8"
             ],
             [
              0.3333333333333333,
              "#9c179e"
             ],
             [
              0.4444444444444444,
              "#bd3786"
             ],
             [
              0.5555555555555556,
              "#d8576b"
             ],
             [
              0.6666666666666666,
              "#ed7953"
             ],
             [
              0.7777777777777778,
              "#fb9f3a"
             ],
             [
              0.8888888888888888,
              "#fdca26"
             ],
             [
              1,
              "#f0f921"
             ]
            ],
            "type": "heatmap"
           }
          ],
          "heatmapgl": [
           {
            "colorbar": {
             "outlinewidth": 0,
             "ticks": ""
            },
            "colorscale": [
             [
              0,
              "#0d0887"
             ],
             [
              0.1111111111111111,
              "#46039f"
             ],
             [
              0.2222222222222222,
              "#7201a8"
             ],
             [
              0.3333333333333333,
              "#9c179e"
             ],
             [
              0.4444444444444444,
              "#bd3786"
             ],
             [
              0.5555555555555556,
              "#d8576b"
             ],
             [
              0.6666666666666666,
              "#ed7953"
             ],
             [
              0.7777777777777778,
              "#fb9f3a"
             ],
             [
              0.8888888888888888,
              "#fdca26"
             ],
             [
              1,
              "#f0f921"
             ]
            ],
            "type": "heatmapgl"
           }
          ],
          "histogram": [
           {
            "marker": {
             "pattern": {
              "fillmode": "overlay",
              "size": 10,
              "solidity": 0.2
             }
            },
            "type": "histogram"
           }
          ],
          "histogram2d": [
           {
            "colorbar": {
             "outlinewidth": 0,
             "ticks": ""
            },
            "colorscale": [
             [
              0,
              "#0d0887"
             ],
             [
              0.1111111111111111,
              "#46039f"
             ],
             [
              0.2222222222222222,
              "#7201a8"
             ],
             [
              0.3333333333333333,
              "#9c179e"
             ],
             [
              0.4444444444444444,
              "#bd3786"
             ],
             [
              0.5555555555555556,
              "#d8576b"
             ],
             [
              0.6666666666666666,
              "#ed7953"
             ],
             [
              0.7777777777777778,
              "#fb9f3a"
             ],
             [
              0.8888888888888888,
              "#fdca26"
             ],
             [
              1,
              "#f0f921"
             ]
            ],
            "type": "histogram2d"
           }
          ],
          "histogram2dcontour": [
           {
            "colorbar": {
             "outlinewidth": 0,
             "ticks": ""
            },
            "colorscale": [
             [
              0,
              "#0d0887"
             ],
             [
              0.1111111111111111,
              "#46039f"
             ],
             [
              0.2222222222222222,
              "#7201a8"
             ],
             [
              0.3333333333333333,
              "#9c179e"
             ],
             [
              0.4444444444444444,
              "#bd3786"
             ],
             [
              0.5555555555555556,
              "#d8576b"
             ],
             [
              0.6666666666666666,
              "#ed7953"
             ],
             [
              0.7777777777777778,
              "#fb9f3a"
             ],
             [
              0.8888888888888888,
              "#fdca26"
             ],
             [
              1,
              "#f0f921"
             ]
            ],
            "type": "histogram2dcontour"
           }
          ],
          "mesh3d": [
           {
            "colorbar": {
             "outlinewidth": 0,
             "ticks": ""
            },
            "type": "mesh3d"
           }
          ],
          "parcoords": [
           {
            "line": {
             "colorbar": {
              "outlinewidth": 0,
              "ticks": ""
             }
            },
            "type": "parcoords"
           }
          ],
          "pie": [
           {
            "automargin": true,
            "type": "pie"
           }
          ],
          "scatter": [
           {
            "fillpattern": {
             "fillmode": "overlay",
             "size": 10,
             "solidity": 0.2
            },
            "type": "scatter"
           }
          ],
          "scatter3d": [
           {
            "line": {
             "colorbar": {
              "outlinewidth": 0,
              "ticks": ""
             }
            },
            "marker": {
             "colorbar": {
              "outlinewidth": 0,
              "ticks": ""
             }
            },
            "type": "scatter3d"
           }
          ],
          "scattercarpet": [
           {
            "marker": {
             "colorbar": {
              "outlinewidth": 0,
              "ticks": ""
             }
            },
            "type": "scattercarpet"
           }
          ],
          "scattergeo": [
           {
            "marker": {
             "colorbar": {
              "outlinewidth": 0,
              "ticks": ""
             }
            },
            "type": "scattergeo"
           }
          ],
          "scattergl": [
           {
            "marker": {
             "colorbar": {
              "outlinewidth": 0,
              "ticks": ""
             }
            },
            "type": "scattergl"
           }
          ],
          "scattermapbox": [
           {
            "marker": {
             "colorbar": {
              "outlinewidth": 0,
              "ticks": ""
             }
            },
            "type": "scattermapbox"
           }
          ],
          "scatterpolar": [
           {
            "marker": {
             "colorbar": {
              "outlinewidth": 0,
              "ticks": ""
             }
            },
            "type": "scatterpolar"
           }
          ],
          "scatterpolargl": [
           {
            "marker": {
             "colorbar": {
              "outlinewidth": 0,
              "ticks": ""
             }
            },
            "type": "scatterpolargl"
           }
          ],
          "scatterternary": [
           {
            "marker": {
             "colorbar": {
              "outlinewidth": 0,
              "ticks": ""
             }
            },
            "type": "scatterternary"
           }
          ],
          "surface": [
           {
            "colorbar": {
             "outlinewidth": 0,
             "ticks": ""
            },
            "colorscale": [
             [
              0,
              "#0d0887"
             ],
             [
              0.1111111111111111,
              "#46039f"
             ],
             [
              0.2222222222222222,
              "#7201a8"
             ],
             [
              0.3333333333333333,
              "#9c179e"
             ],
             [
              0.4444444444444444,
              "#bd3786"
             ],
             [
              0.5555555555555556,
              "#d8576b"
             ],
             [
              0.6666666666666666,
              "#ed7953"
             ],
             [
              0.7777777777777778,
              "#fb9f3a"
             ],
             [
              0.8888888888888888,
              "#fdca26"
             ],
             [
              1,
              "#f0f921"
             ]
            ],
            "type": "surface"
           }
          ],
          "table": [
           {
            "cells": {
             "fill": {
              "color": "#EBF0F8"
             },
             "line": {
              "color": "white"
             }
            },
            "header": {
             "fill": {
              "color": "#C8D4E3"
             },
             "line": {
              "color": "white"
             }
            },
            "type": "table"
           }
          ]
         },
         "layout": {
          "annotationdefaults": {
           "arrowcolor": "#2a3f5f",
           "arrowhead": 0,
           "arrowwidth": 1
          },
          "autotypenumbers": "strict",
          "coloraxis": {
           "colorbar": {
            "outlinewidth": 0,
            "ticks": ""
           }
          },
          "colorscale": {
           "diverging": [
            [
             0,
             "#8e0152"
            ],
            [
             0.1,
             "#c51b7d"
            ],
            [
             0.2,
             "#de77ae"
            ],
            [
             0.3,
             "#f1b6da"
            ],
            [
             0.4,
             "#fde0ef"
            ],
            [
             0.5,
             "#f7f7f7"
            ],
            [
             0.6,
             "#e6f5d0"
            ],
            [
             0.7,
             "#b8e186"
            ],
            [
             0.8,
             "#7fbc41"
            ],
            [
             0.9,
             "#4d9221"
            ],
            [
             1,
             "#276419"
            ]
           ],
           "sequential": [
            [
             0,
             "#0d0887"
            ],
            [
             0.1111111111111111,
             "#46039f"
            ],
            [
             0.2222222222222222,
             "#7201a8"
            ],
            [
             0.3333333333333333,
             "#9c179e"
            ],
            [
             0.4444444444444444,
             "#bd3786"
            ],
            [
             0.5555555555555556,
             "#d8576b"
            ],
            [
             0.6666666666666666,
             "#ed7953"
            ],
            [
             0.7777777777777778,
             "#fb9f3a"
            ],
            [
             0.8888888888888888,
             "#fdca26"
            ],
            [
             1,
             "#f0f921"
            ]
           ],
           "sequentialminus": [
            [
             0,
             "#0d0887"
            ],
            [
             0.1111111111111111,
             "#46039f"
            ],
            [
             0.2222222222222222,
             "#7201a8"
            ],
            [
             0.3333333333333333,
             "#9c179e"
            ],
            [
             0.4444444444444444,
             "#bd3786"
            ],
            [
             0.5555555555555556,
             "#d8576b"
            ],
            [
             0.6666666666666666,
             "#ed7953"
            ],
            [
             0.7777777777777778,
             "#fb9f3a"
            ],
            [
             0.8888888888888888,
             "#fdca26"
            ],
            [
             1,
             "#f0f921"
            ]
           ]
          },
          "colorway": [
           "#636efa",
           "#EF553B",
           "#00cc96",
           "#ab63fa",
           "#FFA15A",
           "#19d3f3",
           "#FF6692",
           "#B6E880",
           "#FF97FF",
           "#FECB52"
          ],
          "font": {
           "color": "#2a3f5f"
          },
          "geo": {
           "bgcolor": "white",
           "lakecolor": "white",
           "landcolor": "#E5ECF6",
           "showlakes": true,
           "showland": true,
           "subunitcolor": "white"
          },
          "hoverlabel": {
           "align": "left"
          },
          "hovermode": "closest",
          "mapbox": {
           "style": "light"
          },
          "paper_bgcolor": "white",
          "plot_bgcolor": "#E5ECF6",
          "polar": {
           "angularaxis": {
            "gridcolor": "white",
            "linecolor": "white",
            "ticks": ""
           },
           "bgcolor": "#E5ECF6",
           "radialaxis": {
            "gridcolor": "white",
            "linecolor": "white",
            "ticks": ""
           }
          },
          "scene": {
           "xaxis": {
            "backgroundcolor": "#E5ECF6",
            "gridcolor": "white",
            "gridwidth": 2,
            "linecolor": "white",
            "showbackground": true,
            "ticks": "",
            "zerolinecolor": "white"
           },
           "yaxis": {
            "backgroundcolor": "#E5ECF6",
            "gridcolor": "white",
            "gridwidth": 2,
            "linecolor": "white",
            "showbackground": true,
            "ticks": "",
            "zerolinecolor": "white"
           },
           "zaxis": {
            "backgroundcolor": "#E5ECF6",
            "gridcolor": "white",
            "gridwidth": 2,
            "linecolor": "white",
            "showbackground": true,
            "ticks": "",
            "zerolinecolor": "white"
           }
          },
          "shapedefaults": {
           "line": {
            "color": "#2a3f5f"
           }
          },
          "ternary": {
           "aaxis": {
            "gridcolor": "white",
            "linecolor": "white",
            "ticks": ""
           },
           "baxis": {
            "gridcolor": "white",
            "linecolor": "white",
            "ticks": ""
           },
           "bgcolor": "#E5ECF6",
           "caxis": {
            "gridcolor": "white",
            "linecolor": "white",
            "ticks": ""
           }
          },
          "title": {
           "x": 0.05
          },
          "xaxis": {
           "automargin": true,
           "gridcolor": "white",
           "linecolor": "white",
           "ticks": "",
           "title": {
            "standoff": 15
           },
           "zerolinecolor": "white",
           "zerolinewidth": 2
          },
          "yaxis": {
           "automargin": true,
           "gridcolor": "white",
           "linecolor": "white",
           "ticks": "",
           "title": {
            "standoff": 15
           },
           "zerolinecolor": "white",
           "zerolinewidth": 2
          }
         }
        },
        "title": {
         "text": "MAPE de la data de test vs Lags"
        },
        "xaxis": {
         "anchor": "y",
         "domain": [
          0,
          1
         ],
         "title": {
          "text": "lag"
         }
        },
        "yaxis": {
         "anchor": "x",
         "domain": [
          0,
          1
         ],
         "title": {
          "text": "mape_test"
         }
        }
       }
      }
     },
     "metadata": {},
     "output_type": "display_data"
    }
   ],
   "source": [
    "fig_mape = px.line(\n",
    "    df_pruebas, x=\"lag\", y=\"mape_test\", title=\"MAPE de la data de test vs Lags\"\n",
    ")\n",
    "\n",
    "fig_mape.show()"
   ]
  },
  {
   "cell_type": "markdown",
   "metadata": {},
   "source": [
    "Usando como métrica de elección el MAPE, vemos que el mejor modelo es con lag = 4\n"
   ]
  },
  {
   "cell_type": "code",
   "execution_count": 7,
   "metadata": {},
   "outputs": [
    {
     "name": "stdout",
     "output_type": "stream",
     "text": [
      "Mean Squared Error on Test Data: 4494.097011910895\n",
      "Mean Absolute Percentage Error: 0.09619779024089208\n"
     ]
    }
   ],
   "source": [
    "fecha_corte = \"2023-07-01\"\n",
    "\n",
    "results = perform_mlr({\"df\": df, \"fecha_corte\": fecha_corte, \"lags\": 4})\n",
    "y_pred = results[\"y_pred\"]\n",
    "y_test = results[\"y_test\"]\n",
    "X_test_dates = results[\"X_test_dates\"]\n",
    "X_train = results[\"X_train\"]\n",
    "X_train_dates = results[\"X_train_dates\"]\n",
    "y_train = results[\"y_train\"]\n",
    "y_pred_train = results[\"y_pred_train\"]\n",
    "X_test = results[\"X_test\"]\n",
    "mse = results[\"mse_test\"]\n",
    "mape = results[\"mape_test\"]\n",
    "significant_variables = results[\"significant_variables\"]\n",
    "df_with_lags = results[\"df_with_lags\"]"
   ]
  },
  {
   "cell_type": "code",
   "execution_count": 8,
   "metadata": {},
   "outputs": [
    {
     "data": {
      "text/plain": [
       "['precipitacion_vaupes', 'energy_price_lag_1', 'energy_price_lag_3']"
      ]
     },
     "execution_count": 8,
     "metadata": {},
     "output_type": "execute_result"
    }
   ],
   "source": [
    "significant_variables"
   ]
  },
  {
   "cell_type": "code",
   "execution_count": 9,
   "metadata": {},
   "outputs": [],
   "source": [
    "significant_variables.append(\"Date\")\n",
    "significant_variables.append(\"energy_price\")"
   ]
  },
  {
   "cell_type": "markdown",
   "metadata": {},
   "source": [
    "## MLR with selected variables\n"
   ]
  },
  {
   "cell_type": "code",
   "execution_count": 10,
   "metadata": {},
   "outputs": [
    {
     "name": "stdout",
     "output_type": "stream",
     "text": [
      "Mean Squared Error on Test Data: 4452.794998235194\n",
      "Mean Absolute Percentage Error: 0.09564485089968977\n"
     ]
    }
   ],
   "source": [
    "# Selecciona las columnas significativas del DataFrame original\n",
    "df_selected_variables = df_with_lags[significant_variables].copy()\n",
    "\n",
    "fecha_corte = \"2023-07-01\"\n",
    "\n",
    "results = perform_mlr(\n",
    "    {\"df\": df_selected_variables, \"fecha_corte\": fecha_corte, \"lags\": 4}\n",
    ")\n",
    "mse_MRL_selection = results[\"mse_test\"]\n",
    "mape_MRL_selection = results[\"mape_test\"]\n",
    "significant_variables = results[\"significant_variables\"]\n",
    "X_test_dates_selection = results[\"X_test_dates\"]\n",
    "X_train_dates_selection = results[\"X_train_dates\"]\n",
    "y_train_selection = results[\"y_train\"]\n",
    "y_test_selection = results[\"y_test\"]\n",
    "y_pred_train_selection = results[\"y_pred_train\"]\n",
    "y_pred_test_selection = results[\"y_pred\"]\n",
    "y_pred_test_selection_with_shift = y_pred_test_selection[1:]"
   ]
  },
  {
   "cell_type": "code",
   "execution_count": 11,
   "metadata": {},
   "outputs": [
    {
     "data": {
      "text/plain": [
       "['const', 'precipitacion_vaupes', 'energy_price_lag_1', 'energy_price_lag_3']"
      ]
     },
     "execution_count": 11,
     "metadata": {},
     "output_type": "execute_result"
    }
   ],
   "source": [
    "significant_variables"
   ]
  },
  {
   "cell_type": "markdown",
   "metadata": {},
   "source": [
    "## Forward selection\n"
   ]
  },
  {
   "cell_type": "code",
   "execution_count": 12,
   "metadata": {},
   "outputs": [],
   "source": [
    "selected_features_forward = forward_selection(X_train, y_train)"
   ]
  },
  {
   "cell_type": "code",
   "execution_count": 13,
   "metadata": {},
   "outputs": [
    {
     "name": "stdout",
     "output_type": "stream",
     "text": [
      "19\n",
      "Forward Selection Result: ['precipitacion_guainia', 'temp_ARAUCA', 'precipitacion_cesar', 'brent_value', 'temp_ARCHIPIELAGO DE SAN ANDRES PROVIDENCIA Y SANTA CATALINA', 'temp_CAQUETA', 'TRM', 'precipitacion_bogota', 'precipitacion_san andres providencia', 'precipitacion_amazonas', 'precipitacion_casanare', 'precipitacion_guaviare', 'precipitacion_magdalena', 'precipitacion_vichada', 'precipitacion_caqueta', 'precipitacion_putumayo', 'energy_price_lag_1', 'Date', 'energy_price']\n"
     ]
    }
   ],
   "source": [
    "print(len(selected_features_forward))\n",
    "print(\"Forward Selection Result:\", selected_features_forward)"
   ]
  },
  {
   "cell_type": "code",
   "execution_count": 14,
   "metadata": {},
   "outputs": [
    {
     "name": "stdout",
     "output_type": "stream",
     "text": [
      "Mean Squared Error on Test Data: 4743.77253703601\n",
      "Mean Absolute Percentage Error: 0.09969678906235703\n"
     ]
    }
   ],
   "source": [
    "df_selected_variables_forward = df_with_lags[selected_features_forward]\n",
    "\n",
    "fecha_corte = \"2023-07-01\"\n",
    "\n",
    "results = perform_mlr(\n",
    "    {\"df\": df_selected_variables_forward, \"fecha_corte\": fecha_corte, \"lags\": 4}\n",
    ")\n",
    "y_pred_f = results[\"y_pred\"]\n",
    "y_pred_1_f = y_pred[1:]\n",
    "y_test_f = results[\"y_test\"]\n",
    "X_test_dates_f = results[\"X_test_dates\"]\n",
    "X_train_f = results[\"X_train\"]\n",
    "X_train_dates_f = results[\"X_train_dates\"]\n",
    "y_train_f = results[\"y_train\"]\n",
    "y_pred_train_f = results[\"y_pred_train\"]\n",
    "mse_f = results[\"mse_test\"]\n",
    "mape_f = results[\"mape_test\"]"
   ]
  },
  {
   "cell_type": "markdown",
   "metadata": {},
   "source": [
    "## Backward selection\n"
   ]
  },
  {
   "cell_type": "code",
   "execution_count": 15,
   "metadata": {},
   "outputs": [],
   "source": [
    "selected_features_backward = backward_selection(X_train, y_train)"
   ]
  },
  {
   "cell_type": "code",
   "execution_count": 16,
   "metadata": {},
   "outputs": [
    {
     "name": "stdout",
     "output_type": "stream",
     "text": [
      "20\n",
      "Backward Selection Result: ['precipitacion_cauca', 'precipitacion_guainia', 'precipitacion_la guajira', 'temp_ARAUCA', 'precipitacion_cesar', 'brent_value', 'temp_CAQUETA', 'precipitacion_cordoba', 'precipitacion_guaviare', 'precipitacion_vichada', 'precipitacion_bolivar', 'temp_BOYACA', 'precipitacion_putumayo', 'precipitacion_vaupes', 'precipitacion_arauca', 'precipitacion_choco', 'energy_price_lag_1', 'energy_price_lag_4', 'Date', 'energy_price']\n"
     ]
    }
   ],
   "source": [
    "print(len(selected_features_backward))\n",
    "print(\"Backward Selection Result:\", selected_features_backward)"
   ]
  },
  {
   "cell_type": "code",
   "execution_count": 17,
   "metadata": {},
   "outputs": [
    {
     "name": "stdout",
     "output_type": "stream",
     "text": [
      "Mean Squared Error on Test Data: 4890.2517366290485\n",
      "Mean Absolute Percentage Error: 0.10070134506736954\n"
     ]
    }
   ],
   "source": [
    "df_selected_variables_backward = df_with_lags[selected_features_backward]\n",
    "\n",
    "fecha_corte = \"2023-07-01\"\n",
    "\n",
    "results = perform_mlr(\n",
    "    {\"df\": df_selected_variables_backward, \"fecha_corte\": fecha_corte, \"lags\": 4}\n",
    ")\n",
    "mse_b = results[\"mse_test\"]\n",
    "mape_b = results[\"mape_test\"]"
   ]
  },
  {
   "cell_type": "code",
   "execution_count": 18,
   "metadata": {},
   "outputs": [
    {
     "data": {
      "text/html": [
       "<div>\n",
       "<style scoped>\n",
       "    .dataframe tbody tr th:only-of-type {\n",
       "        vertical-align: middle;\n",
       "    }\n",
       "\n",
       "    .dataframe tbody tr th {\n",
       "        vertical-align: top;\n",
       "    }\n",
       "\n",
       "    .dataframe thead th {\n",
       "        text-align: right;\n",
       "    }\n",
       "</style>\n",
       "<table border=\"1\" class=\"dataframe\">\n",
       "  <thead>\n",
       "    <tr style=\"text-align: right;\">\n",
       "      <th></th>\n",
       "      <th>Modelo</th>\n",
       "      <th>MSE</th>\n",
       "      <th>MAPE</th>\n",
       "    </tr>\n",
       "  </thead>\n",
       "  <tbody>\n",
       "    <tr>\n",
       "      <th>0</th>\n",
       "      <td>MLR</td>\n",
       "      <td>4494.097012</td>\n",
       "      <td>0.096198</td>\n",
       "    </tr>\n",
       "    <tr>\n",
       "      <th>1</th>\n",
       "      <td>MLR_selection</td>\n",
       "      <td>4452.794998</td>\n",
       "      <td>0.095645</td>\n",
       "    </tr>\n",
       "    <tr>\n",
       "      <th>2</th>\n",
       "      <td>MLR_forward</td>\n",
       "      <td>4743.772537</td>\n",
       "      <td>0.099697</td>\n",
       "    </tr>\n",
       "    <tr>\n",
       "      <th>3</th>\n",
       "      <td>MLR_backward</td>\n",
       "      <td>4890.251737</td>\n",
       "      <td>0.100701</td>\n",
       "    </tr>\n",
       "  </tbody>\n",
       "</table>\n",
       "</div>"
      ],
      "text/plain": [
       "          Modelo          MSE      MAPE\n",
       "0            MLR  4494.097012  0.096198\n",
       "1  MLR_selection  4452.794998  0.095645\n",
       "2    MLR_forward  4743.772537  0.099697\n",
       "3   MLR_backward  4890.251737  0.100701"
      ]
     },
     "execution_count": 18,
     "metadata": {},
     "output_type": "execute_result"
    }
   ],
   "source": [
    "results_MRL_with_lags = pd.DataFrame(\n",
    "    {\n",
    "        \"Modelo\": [\"MLR\", \"MLR_selection\", \"MLR_forward\", \"MLR_backward\"],\n",
    "        \"MSE\": [mse, mse_MRL_selection, mse_f, mse_b],\n",
    "        \"MAPE\": [mape, mape_MRL_selection, mape_f, mape_b],\n",
    "    }\n",
    ")\n",
    "\n",
    "results_MRL_with_lags"
   ]
  },
  {
   "cell_type": "markdown",
   "metadata": {},
   "source": [
    "Se identifica que la seleccion de variablesque obtuvo mejor desempeño en cuanto a la metrica seleccionada MAPE es el Forward selection.\n"
   ]
  },
  {
   "cell_type": "code",
   "execution_count": 19,
   "metadata": {},
   "outputs": [
    {
     "data": {
      "application/vnd.plotly.v1+json": {
       "config": {
        "plotlyServerURL": "https://plot.ly"
       },
       "data": [
        {
         "hovertemplate": "x=%{x}<br>y=%{y}<extra></extra>",
         "legendgroup": "",
         "line": {
          "color": "#636efa",
          "dash": "solid"
         },
         "marker": {
          "symbol": "circle"
         },
         "mode": "lines",
         "name": "",
         "orientation": "v",
         "showlegend": false,
         "type": "scatter",
         "x": [
          "2021-10-09",
          "2021-10-10",
          "2021-10-11",
          "2021-10-12",
          "2021-10-13",
          "2021-10-14",
          "2021-10-15",
          "2021-10-16",
          "2021-10-17",
          "2021-10-18",
          "2021-10-19",
          "2021-10-20",
          "2021-10-21",
          "2021-10-22",
          "2021-10-23",
          "2021-10-24",
          "2021-10-25",
          "2021-10-26",
          "2021-10-27",
          "2021-10-28",
          "2021-10-29",
          "2021-10-30",
          "2021-10-31",
          "2021-11-01",
          "2021-11-02",
          "2021-11-03",
          "2021-11-04",
          "2021-11-05",
          "2021-11-06",
          "2021-11-07",
          "2021-11-08",
          "2021-11-09",
          "2021-12-04",
          "2021-12-05",
          "2021-12-06",
          "2021-12-07",
          "2021-12-08",
          "2021-12-09",
          "2021-12-10",
          "2021-12-11",
          "2021-12-12",
          "2021-12-13",
          "2021-12-14",
          "2021-12-15",
          "2021-12-16",
          "2021-12-17",
          "2021-12-18",
          "2021-12-19",
          "2021-12-20",
          "2021-12-21",
          "2021-12-22",
          "2021-12-23",
          "2021-12-24",
          "2021-12-25",
          "2021-12-26",
          "2021-12-27",
          "2021-12-28",
          "2021-12-29",
          "2021-12-30",
          "2021-12-31",
          "2022-02-01",
          "2022-02-02",
          "2022-02-03",
          "2022-02-04",
          "2022-02-05",
          "2022-02-06",
          "2022-02-07",
          "2022-02-08",
          "2022-02-09",
          "2022-02-10",
          "2022-02-11",
          "2022-02-12",
          "2022-02-13",
          "2022-02-14",
          "2022-02-15",
          "2022-02-16",
          "2022-02-17",
          "2022-02-18",
          "2022-02-19",
          "2022-02-20",
          "2022-02-21",
          "2022-02-22",
          "2022-02-23",
          "2022-02-24",
          "2022-02-25",
          "2022-02-26",
          "2022-02-27",
          "2022-02-28",
          "2022-04-01",
          "2022-04-02",
          "2022-04-03",
          "2022-04-04",
          "2022-04-05",
          "2022-04-06",
          "2022-04-07",
          "2022-04-08",
          "2022-04-09",
          "2022-04-10",
          "2022-04-11",
          "2022-04-12",
          "2022-04-13",
          "2022-04-14",
          "2022-04-15",
          "2022-04-16",
          "2022-04-17",
          "2022-04-18",
          "2022-04-19",
          "2022-04-20",
          "2022-04-21",
          "2022-04-22",
          "2022-04-23",
          "2022-04-24",
          "2022-04-25",
          "2022-04-26",
          "2022-04-27",
          "2022-04-28",
          "2022-04-29",
          "2022-04-30",
          "2022-05-01",
          "2022-05-02",
          "2022-05-03",
          "2022-05-04",
          "2022-05-05",
          "2022-05-06",
          "2022-05-07",
          "2022-05-08",
          "2022-05-09",
          "2022-05-10",
          "2022-05-11",
          "2022-05-12",
          "2022-05-13",
          "2022-05-14",
          "2022-05-15",
          "2022-05-16",
          "2022-05-17",
          "2022-05-18",
          "2022-05-19",
          "2022-05-20",
          "2022-05-21",
          "2022-05-22",
          "2022-05-23",
          "2022-05-24",
          "2022-05-25",
          "2022-05-26",
          "2022-05-27",
          "2022-05-28",
          "2022-05-29",
          "2022-05-30",
          "2022-05-31",
          "2022-06-01",
          "2022-06-02",
          "2022-06-03",
          "2022-06-04",
          "2022-06-05",
          "2022-06-06",
          "2022-06-07",
          "2022-06-08",
          "2022-06-09",
          "2022-06-10",
          "2022-06-11",
          "2022-06-12",
          "2022-06-13",
          "2022-06-14",
          "2022-06-15",
          "2022-06-16",
          "2022-06-17",
          "2022-06-18",
          "2022-06-19",
          "2022-06-20",
          "2022-06-21",
          "2022-06-22",
          "2022-06-23",
          "2022-06-24",
          "2022-06-25",
          "2022-06-26",
          "2022-06-27",
          "2022-06-28",
          "2022-06-29",
          "2022-06-30",
          "2022-07-01",
          "2022-07-02",
          "2022-07-03",
          "2022-07-04",
          "2022-07-05",
          "2022-07-06",
          "2022-07-07",
          "2022-07-08",
          "2022-07-09",
          "2022-07-10",
          "2022-07-11",
          "2022-07-12",
          "2022-07-13",
          "2022-07-14",
          "2022-07-15",
          "2022-07-16",
          "2022-07-17",
          "2022-07-18",
          "2022-07-19",
          "2022-07-20",
          "2022-07-21",
          "2022-07-22",
          "2022-07-23",
          "2022-07-24",
          "2022-07-25",
          "2022-07-26",
          "2022-07-27",
          "2022-07-28",
          "2022-07-29",
          "2022-07-30",
          "2022-07-31",
          "2022-08-01",
          "2022-08-02",
          "2022-08-03",
          "2022-08-04",
          "2022-08-05",
          "2022-08-06",
          "2022-08-07",
          "2022-08-08",
          "2022-08-09",
          "2022-08-10",
          "2022-08-11",
          "2022-08-12",
          "2022-08-13",
          "2022-08-14",
          "2022-08-15",
          "2022-08-16",
          "2022-08-17",
          "2022-08-18",
          "2022-08-19",
          "2022-08-20",
          "2022-08-21",
          "2022-08-22",
          "2022-08-23",
          "2022-08-24",
          "2022-08-25",
          "2022-08-26",
          "2022-08-27",
          "2022-08-28",
          "2022-08-29",
          "2022-08-30",
          "2022-08-31",
          "2022-09-01",
          "2022-09-02",
          "2022-09-03",
          "2022-09-04",
          "2022-09-05",
          "2022-09-06",
          "2022-09-07",
          "2022-09-08",
          "2022-09-09",
          "2022-09-10",
          "2022-09-11",
          "2022-09-12",
          "2022-09-13",
          "2022-09-14",
          "2022-09-15",
          "2022-09-16",
          "2022-09-17",
          "2022-09-18",
          "2022-09-19",
          "2022-09-20",
          "2022-09-21",
          "2022-09-22",
          "2022-09-23",
          "2022-09-24",
          "2022-09-25",
          "2022-09-26",
          "2022-09-27",
          "2022-09-28",
          "2022-09-29",
          "2022-09-30",
          "2022-10-01",
          "2022-10-02",
          "2022-10-03",
          "2022-10-04",
          "2022-10-05",
          "2022-10-06",
          "2022-10-07",
          "2022-10-08",
          "2022-10-09",
          "2022-10-10",
          "2022-10-11",
          "2022-10-12",
          "2022-10-13",
          "2022-10-14",
          "2022-10-15",
          "2022-10-16",
          "2022-10-17",
          "2022-10-18",
          "2022-10-19",
          "2022-10-20",
          "2022-10-21",
          "2022-10-22",
          "2022-10-23",
          "2022-10-24",
          "2022-10-25",
          "2022-10-26",
          "2022-10-27",
          "2022-10-28",
          "2022-10-29",
          "2022-10-30",
          "2022-10-31",
          "2022-11-01",
          "2022-11-02",
          "2022-11-03",
          "2022-11-04",
          "2022-11-05",
          "2022-11-06",
          "2022-11-07",
          "2022-11-08",
          "2022-11-09",
          "2022-11-10",
          "2022-11-11",
          "2022-11-12",
          "2022-11-13",
          "2022-11-14",
          "2022-11-15",
          "2022-11-16",
          "2022-11-17",
          "2022-11-18",
          "2022-11-19",
          "2022-11-20",
          "2022-11-21",
          "2022-11-22",
          "2022-11-23",
          "2022-11-24",
          "2022-11-25",
          "2022-11-26",
          "2022-11-27",
          "2022-11-28",
          "2022-11-29",
          "2022-11-30",
          "2022-12-01",
          "2022-12-02",
          "2022-12-03",
          "2022-12-04",
          "2022-12-05",
          "2022-12-06",
          "2022-12-07",
          "2022-12-08",
          "2022-12-09",
          "2022-12-10",
          "2022-12-11",
          "2022-12-12",
          "2022-12-13",
          "2022-12-14",
          "2022-12-15",
          "2022-12-16",
          "2022-12-17",
          "2022-12-18",
          "2022-12-19",
          "2022-12-20",
          "2022-12-21",
          "2022-12-22",
          "2022-12-23",
          "2022-12-24",
          "2022-12-25",
          "2022-12-26",
          "2022-12-27",
          "2022-12-28",
          "2022-12-29",
          "2022-12-30",
          "2022-12-31",
          "2023-01-01",
          "2023-01-02",
          "2023-01-03",
          "2023-01-04",
          "2023-01-05",
          "2023-01-06",
          "2023-01-07",
          "2023-01-08",
          "2023-01-09",
          "2023-01-10",
          "2023-01-11",
          "2023-01-12",
          "2023-01-13",
          "2023-01-14",
          "2023-01-15",
          "2023-01-16",
          "2023-01-17",
          "2023-01-18",
          "2023-01-19",
          "2023-01-20",
          "2023-01-21",
          "2023-01-22",
          "2023-01-23",
          "2023-01-24",
          "2023-01-25",
          "2023-01-26",
          "2023-01-27",
          "2023-01-28",
          "2023-01-29",
          "2023-01-30",
          "2023-01-31",
          "2023-02-01",
          "2023-02-02",
          "2023-02-03",
          "2023-02-04",
          "2023-02-05",
          "2023-02-06",
          "2023-02-07",
          "2023-02-08",
          "2023-02-09",
          "2023-02-10",
          "2023-02-11",
          "2023-02-12",
          "2023-02-13",
          "2023-02-14",
          "2023-02-15",
          "2023-02-16",
          "2023-02-17",
          "2023-02-18",
          "2023-02-19",
          "2023-02-20",
          "2023-02-21",
          "2023-02-22",
          "2023-02-23",
          "2023-02-24",
          "2023-02-25",
          "2023-02-26",
          "2023-02-27",
          "2023-02-28",
          "2023-03-01",
          "2023-03-02",
          "2023-03-03",
          "2023-03-04",
          "2023-03-05",
          "2023-03-06",
          "2023-03-07",
          "2023-03-08",
          "2023-03-09",
          "2023-03-10",
          "2023-03-11",
          "2023-03-12",
          "2023-03-13",
          "2023-03-14",
          "2023-03-15",
          "2023-03-16",
          "2023-03-17",
          "2023-03-18",
          "2023-03-19",
          "2023-03-20",
          "2023-03-21",
          "2023-03-22",
          "2023-03-23",
          "2023-03-24",
          "2023-03-25",
          "2023-03-26",
          "2023-03-27",
          "2023-03-28",
          "2023-03-29",
          "2023-03-30",
          "2023-03-31",
          "2023-04-01",
          "2023-04-02",
          "2023-04-03",
          "2023-04-04",
          "2023-04-05",
          "2023-04-06",
          "2023-04-07",
          "2023-04-08",
          "2023-04-09",
          "2023-04-10",
          "2023-04-11",
          "2023-04-12",
          "2023-04-13",
          "2023-04-14",
          "2023-04-15",
          "2023-04-16",
          "2023-04-17",
          "2023-04-18",
          "2023-04-19",
          "2023-04-20",
          "2023-04-21",
          "2023-04-22",
          "2023-04-23",
          "2023-04-24",
          "2023-04-25",
          "2023-04-26",
          "2023-04-27",
          "2023-04-28",
          "2023-04-29",
          "2023-04-30",
          "2023-05-01",
          "2023-05-02",
          "2023-05-03",
          "2023-05-04",
          "2023-05-05",
          "2023-05-06",
          "2023-05-07",
          "2023-05-08",
          "2023-05-09",
          "2023-05-10",
          "2023-05-11",
          "2023-05-12",
          "2023-05-13",
          "2023-05-14",
          "2023-05-15",
          "2023-05-16",
          "2023-05-17",
          "2023-05-18",
          "2023-05-19",
          "2023-05-20",
          "2023-05-21",
          "2023-05-22",
          "2023-05-23",
          "2023-05-24",
          "2023-05-25",
          "2023-05-26",
          "2023-05-27",
          "2023-05-28",
          "2023-05-29",
          "2023-05-30",
          "2023-05-31",
          "2023-06-01",
          "2023-06-02",
          "2023-06-03",
          "2023-06-04",
          "2023-06-05",
          "2023-06-06",
          "2023-06-07",
          "2023-06-08",
          "2023-06-09",
          "2023-06-10",
          "2023-06-11",
          "2023-06-12",
          "2023-06-13",
          "2023-06-14",
          "2023-06-15",
          "2023-06-16",
          "2023-06-17",
          "2023-06-18",
          "2023-06-19",
          "2023-06-20",
          "2023-06-21",
          "2023-06-22",
          "2023-06-23",
          "2023-06-24",
          "2023-06-25",
          "2023-06-26",
          "2023-06-27",
          "2023-06-28",
          "2023-06-29",
          "2023-06-30"
         ],
         "xaxis": "x",
         "y": [
          219.45373283245,
          221.3451706969,
          225.09564642043333,
          223.12400189323333,
          208.5310715933,
          205.49424441326667,
          191.49858928411663,
          220.47191454488333,
          217.18447309706664,
          224.3223786053,
          240.05390966315,
          230.8898302425833,
          233.90920963756665,
          219.95736327173333,
          227.0308241033167,
          225.43219828715,
          227.4629556154333,
          214.0555688441167,
          200.8129511227,
          178.55722956681666,
          164.81647099756665,
          156.69595607803333,
          144.55619944011667,
          196.1848923010667,
          179.53787584173335,
          191.5018679344333,
          204.6111244799,
          200.5725120208,
          256.2079004091333,
          260.8138438411333,
          276.6830923548334,
          266.5984259776667,
          136.6151858857818,
          117.24140896644543,
          121.51404160410002,
          121.6087580619182,
          108.22972705617272,
          87.89678992392727,
          89.27961680499091,
          108.53990185171818,
          118.21287444517272,
          111.14315469432728,
          122.19192887397271,
          110.90622682725456,
          133.1954516644909,
          101.0222214665909,
          87.27784124622727,
          120.52724612992728,
          92.87421484555456,
          146.43394283750908,
          93.1630433407909,
          96.7735746118182,
          89.94239193313636,
          143.18719735811817,
          116.92075688436364,
          157.13289017218182,
          152.07792464679093,
          87.84928888169091,
          87.2552652234,
          87.56022412385454,
          574.83258567045,
          629.7531057923417,
          679.9537093796583,
          634.9486685760917,
          676.1453291944416,
          643.9751053751584,
          620.814194177125,
          556.7702112882668,
          481.7579258179833,
          422.86486397302497,
          364.557442976475,
          326.4741861571584,
          301.00230614165,
          347.09892871436665,
          343.44634212346665,
          339.2693636982833,
          316.8355334437084,
          318.4731121828583,
          303.47578139025,
          251.4285172684833,
          264.8336916230333,
          276.18328724943336,
          251.73531832876665,
          254.4742618483,
          242.8627564248833,
          251.3768528994167,
          239.15948298125,
          260.9013410045083,
          281.5059189245,
          236.7869147359333,
          148.96921426266667,
          175.25489261403334,
          198.21258047786668,
          191.269641414,
          262.9679488746333,
          155.8071632446,
          137.5929980581,
          124.94512254126666,
          138.55301482326666,
          129.71389086443335,
          132.89685578906668,
          121.88155799143333,
          106.9985935555,
          119.3985517558,
          109.60444239173334,
          138.77986288393336,
          186.71705213186667,
          145.06817902276666,
          134.4925834134667,
          114.9664079618,
          113.20638320070002,
          103.0190299081,
          101.22364771776668,
          106.0412902624,
          102.30829282893336,
          99.71598971303332,
          98.04276491406668,
          97.2173048629,
          96.83827014536666,
          98.6379675325,
          107.2514839083,
          133.7742698964,
          105.65651377003331,
          113.27988722723336,
          113.8085308241,
          109.56083914033331,
          102.96900438663332,
          107.4390905947,
          101.1283887161,
          100.3626710419,
          101.05507902326669,
          99.74965688743332,
          97.12685273583334,
          99.40693027983332,
          112.80171103206663,
          142.54899225213333,
          122.09234755316668,
          114.01577582223332,
          107.99845906976668,
          94.75545614193334,
          95.95410778386666,
          106.06156648843334,
          99.43857048456664,
          99.34446187036669,
          96.4486104796,
          95.86535293636666,
          96.55537735836668,
          96.52268669623334,
          95.4407350809,
          116.1275333405,
          104.4060742114,
          108.0229956427,
          103.76284299763334,
          101.2739031386,
          100.48935112566666,
          101.40952613713334,
          121.1464483358,
          107.04807132056663,
          107.43016573476666,
          105.99686014256667,
          103.56202369573332,
          101.47641312326664,
          101.89960776553336,
          102.13507965583334,
          102.21124502283334,
          101.50237157996668,
          100.51498157946666,
          100.08371477456666,
          97.7506625949,
          100.3569359424,
          105.6404049115,
          105.6461192301,
          102.3262533412,
          101.8994299161,
          103.3703179925,
          103.3026652704,
          102.222442387,
          104.28034345133334,
          103.67066312459998,
          103.41403763763331,
          104.30740167706666,
          101.36174571706668,
          104.56054160253336,
          104.50061156463332,
          105.48758301280002,
          108.24356443263332,
          105.90673284506666,
          109.7795287026,
          106.86524920756666,
          105.30795695463333,
          116.69532424916667,
          115.43205907413332,
          112.10918490053332,
          111.33500351683334,
          109.92047648036667,
          106.8036185547,
          120.46574198646664,
          118.69847274987085,
          106.74612964343332,
          107.12883518253334,
          103.49754494713332,
          103.7533367619,
          110.8507938536,
          107.63556779026668,
          130.636103706,
          106.4125778344,
          104.6208226925,
          109.89856387833332,
          106.2849330042,
          118.86402266526666,
          111.59073378603334,
          106.7048689376,
          112.1731836856,
          112.15362635406666,
          110.53839589653334,
          109.74198797543332,
          105.67941845366666,
          106.33572189046669,
          108.32807527056669,
          107.4484264971,
          107.8097583792,
          109.44817734046669,
          107.64706501696666,
          109.50142468013333,
          107.62571206213332,
          120.4719799521,
          147.56621963536668,
          119.15620876793332,
          125.89817941953334,
          108.6342623397,
          107.70839305636667,
          134.44052801216665,
          127.7737671822,
          167.67082691546668,
          202.77125651136663,
          236.2440918179,
          253.56647582180003,
          266.64281586826667,
          287.2065065897333,
          303.3401654812667,
          334.38045994973334,
          321.8879914711667,
          335.2388359877333,
          287.4074633302667,
          202.1438682634333,
          200.7256060527,
          210.3076924658667,
          201.5815019135,
          191.34755633673333,
          208.70656760263333,
          211.3363892950333,
          137.3675665684,
          209.80917733650003,
          271.8992538987333,
          332.5957400667333,
          434.0241668406,
          411.3418113613666,
          337.5237664415333,
          224.91087308343333,
          277.2270228648667,
          272.4116762438333,
          248.00393778426667,
          224.00260369696664,
          226.6025098270333,
          199.5820167503333,
          182.94380346596665,
          241.63649198756664,
          232.83510477666664,
          217.99648210433327,
          226.1721893805,
          239.35278300783327,
          151.60885155484445,
          152.49832810744445,
          156.38026261383334,
          169.8222878902889,
          176.7718551801778,
          177.1811389441222,
          172.6624002974,
          169.63443993466666,
          143.7311005684,
          177.15813917670002,
          195.73022481595555,
          185.574100134,
          177.50878236513333,
          178.56915131524443,
          169.0318371276,
          184.7431704089556,
          167.52188848586667,
          177.09594684367778,
          239.9145777426,
          210.1743305757111,
          219.63003686292225,
          175.20620168814446,
          133.85079334356666,
          147.8419875748889,
          158.64012517214445,
          177.9900003762222,
          166.35782411813335,
          169.70481861215555,
          120.35219211326664,
          101.11268580731112,
          121.37945495417776,
          200.736745175,
          224.36854415936668,
          223.58489587013327,
          180.38691703296664,
          173.37009246173332,
          114.2126595499,
          161.54418318086667,
          181.375653051,
          187.5463017727333,
          185.5893434249,
          165.87799864439998,
          167.9971178559,
          167.74615571763334,
          136.1720299063,
          160.05898493060002,
          165.7053903319,
          164.309055247,
          113.8978657953,
          121.39357856603334,
          111.50842822936666,
          121.96276779793334,
          164.3267622455,
          173.01798024863334,
          184.584252135,
          219.5569739768,
          248.80812348596663,
          251.23229482346665,
          274.012303675,
          286.1381870071,
          311.2777561574666,
          325.65837087483334,
          335.3460165459333,
          337.02038819176664,
          256.9089107462,
          299.0853359828333,
          246.8713280410333,
          253.4154844247333,
          242.2272007749,
          212.5537550452333,
          236.70622378776667,
          244.2799634802333,
          244.0393092397333,
          258.01204906566664,
          270.56638503663333,
          285.31787186746664,
          283.271270214,
          273.05082591086665,
          287.3321921675667,
          322.7368456294,
          326.2849457738,
          357.1352101584,
          400.58238712803336,
          419.113694959,
          420.61965224836666,
          429.7334954217333,
          444.5355751137667,
          467.5575736797,
          509.2616914702666,
          507.7130395607667,
          450.7930971015,
          523.0726980822,
          499.7962119735334,
          510.8509979227,
          531.0305672357,
          556.6253745001333,
          560.9106826756333,
          526.6652148232333,
          503.1934809124,
          415.8064971809,
          432.61928971466665,
          381.8508350045667,
          436.0338762112333,
          309.3528225253,
          256.55275899496667,
          250.0275534853,
          212.65986900166664,
          204.8056496120333,
          216.1465712030333,
          250.5803743439,
          235.7702636137,
          243.2981734820333,
          202.968121683,
          194.94165071756663,
          243.9196906469667,
          250.93103278116664,
          277.9080973694,
          348.9216554459333,
          375.9744406195,
          396.3932978743333,
          452.8826199384334,
          568.7788272762333,
          675.0510164512666,
          768.6838144923667,
          721.5205503904334,
          794.9294052108667,
          799.9009328050333,
          741.8818057063332,
          569.4053375572,
          682.3372145263667,
          621.2968903492666,
          561.624488399,
          556.9092336778667,
          604.8585322595667,
          573.2946676894334,
          572.7660878618666,
          562.8534410486667,
          547.7789099221001,
          515.8515977783667,
          496.16126738863335,
          429.38230709373335,
          418.8577930926001,
          410.9205700374,
          423.7087455614333,
          351.6163010174667,
          372.57516342446667,
          361.4122095290333,
          297.97839228056665,
          315.511962764,
          319.4327370885333,
          366.6270357873,
          374.0731976343666,
          372.13955998246666,
          435.5328814148666,
          450.0135043289333,
          463.7545105165,
          501.8976104556,
          487.8137558528,
          470.94714484176666,
          431.3983143267,
          313.6173168691667,
          312.0133821560333,
          287.9145897603,
          234.20115136966663,
          185.5636310353,
          164.92299893443334,
          168.05130423886666,
          219.3029585301,
          203.53429561523333,
          163.73357652546667,
          234.4922552514,
          291.23608951746667,
          341.55839888603333,
          321.62533798656665,
          329.27193836323335,
          236.03052647476667,
          186.2669153527333,
          180.38245627016667,
          188.87672340606665,
          153.32040885503335,
          168.90205633026667,
          163.32335787553333,
          149.59529507336666,
          153.88823286206664,
          147.18555320043333,
          150.28855113836667,
          144.2343309941,
          139.88260143969998,
          133.9439032891,
          141.84049052946668,
          133.08015810536668,
          143.43973677953332,
          145.75005667423332,
          263.44543922816666,
          242.1994135678,
          242.84623382786663,
          214.800520733,
          212.02258143863327,
          294.0202761736667,
          290.9840322788,
          262.3251726828,
          303.79650600099995,
          319.6270939814333,
          334.2317397834,
          341.2148204153,
          343.05637368949994,
          333.4545873304,
          323.327413014,
          249.317842336,
          254.6826009834,
          186.79008909516668,
          210.5781809513333,
          189.01870382113336,
          240.7723909257,
          255.105191346,
          257.89916929463334,
          321.68339539606666,
          321.9544497141,
          354.5173310422333,
          404.3975417612,
          514.3697640661667,
          582.1855448730333,
          629.9293873606,
          639.0584256112,
          692.2176118567,
          682.7860478941999,
          727.0558307901,
          776.6545298109668,
          811.1855775365999,
          820.3688887720333,
          834.1325286478333,
          836.8465536497333,
          781.1399254179,
          789.4337239329667,
          801.7243562416,
          741.2614393731333,
          765.2225726731334,
          669.8191737313,
          650.3343199944667,
          450.5935416651666,
          374.3725136908333,
          385.6183086151,
          360.3704527560666,
          308.91654787276667,
          253.708678186,
          246.6326825770333,
          206.9850470411333,
          266.10522138560003,
          302.2922313390667,
          346.08643039783334,
          329.4370321681333,
          310.7298592868,
          292.0219092928,
          281.5663019065667,
          295.7395729818666,
          327.5229819927,
          352.6390978964,
          363.4437399086334,
          409.9441384222,
          440.87588160436667,
          499.2802866515333,
          568.8711079990334,
          602.020597139,
          739.7786245499334,
          749.1596229890333,
          846.8458569028667,
          888.3327651133667,
          715.754742528,
          685.7912672841334,
          598.3499218381334,
          612.2174932613667,
          472.8369474031333,
          516.2033960732334
         ],
         "yaxis": "y"
        },
        {
         "mode": "lines",
         "name": "Valores predichos de train",
         "type": "scatter",
         "x": [
          "2021-10-09",
          "2021-10-10",
          "2021-10-11",
          "2021-10-12",
          "2021-10-13",
          "2021-10-14",
          "2021-10-15",
          "2021-10-16",
          "2021-10-17",
          "2021-10-18",
          "2021-10-19",
          "2021-10-20",
          "2021-10-21",
          "2021-10-22",
          "2021-10-23",
          "2021-10-24",
          "2021-10-25",
          "2021-10-26",
          "2021-10-27",
          "2021-10-28",
          "2021-10-29",
          "2021-10-30",
          "2021-10-31",
          "2021-11-01",
          "2021-11-02",
          "2021-11-03",
          "2021-11-04",
          "2021-11-05",
          "2021-11-06",
          "2021-11-07",
          "2021-11-08",
          "2021-11-09",
          "2021-12-04",
          "2021-12-05",
          "2021-12-06",
          "2021-12-07",
          "2021-12-08",
          "2021-12-09",
          "2021-12-10",
          "2021-12-11",
          "2021-12-12",
          "2021-12-13",
          "2021-12-14",
          "2021-12-15",
          "2021-12-16",
          "2021-12-17",
          "2021-12-18",
          "2021-12-19",
          "2021-12-20",
          "2021-12-21",
          "2021-12-22",
          "2021-12-23",
          "2021-12-24",
          "2021-12-25",
          "2021-12-26",
          "2021-12-27",
          "2021-12-28",
          "2021-12-29",
          "2021-12-30",
          "2021-12-31",
          "2022-02-01",
          "2022-02-02",
          "2022-02-03",
          "2022-02-04",
          "2022-02-05",
          "2022-02-06",
          "2022-02-07",
          "2022-02-08",
          "2022-02-09",
          "2022-02-10",
          "2022-02-11",
          "2022-02-12",
          "2022-02-13",
          "2022-02-14",
          "2022-02-15",
          "2022-02-16",
          "2022-02-17",
          "2022-02-18",
          "2022-02-19",
          "2022-02-20",
          "2022-02-21",
          "2022-02-22",
          "2022-02-23",
          "2022-02-24",
          "2022-02-25",
          "2022-02-26",
          "2022-02-27",
          "2022-02-28",
          "2022-04-01",
          "2022-04-02",
          "2022-04-03",
          "2022-04-04",
          "2022-04-05",
          "2022-04-06",
          "2022-04-07",
          "2022-04-08",
          "2022-04-09",
          "2022-04-10",
          "2022-04-11",
          "2022-04-12",
          "2022-04-13",
          "2022-04-14",
          "2022-04-15",
          "2022-04-16",
          "2022-04-17",
          "2022-04-18",
          "2022-04-19",
          "2022-04-20",
          "2022-04-21",
          "2022-04-22",
          "2022-04-23",
          "2022-04-24",
          "2022-04-25",
          "2022-04-26",
          "2022-04-27",
          "2022-04-28",
          "2022-04-29",
          "2022-04-30",
          "2022-05-01",
          "2022-05-02",
          "2022-05-03",
          "2022-05-04",
          "2022-05-05",
          "2022-05-06",
          "2022-05-07",
          "2022-05-08",
          "2022-05-09",
          "2022-05-10",
          "2022-05-11",
          "2022-05-12",
          "2022-05-13",
          "2022-05-14",
          "2022-05-15",
          "2022-05-16",
          "2022-05-17",
          "2022-05-18",
          "2022-05-19",
          "2022-05-20",
          "2022-05-21",
          "2022-05-22",
          "2022-05-23",
          "2022-05-24",
          "2022-05-25",
          "2022-05-26",
          "2022-05-27",
          "2022-05-28",
          "2022-05-29",
          "2022-05-30",
          "2022-05-31",
          "2022-06-01",
          "2022-06-02",
          "2022-06-03",
          "2022-06-04",
          "2022-06-05",
          "2022-06-06",
          "2022-06-07",
          "2022-06-08",
          "2022-06-09",
          "2022-06-10",
          "2022-06-11",
          "2022-06-12",
          "2022-06-13",
          "2022-06-14",
          "2022-06-15",
          "2022-06-16",
          "2022-06-17",
          "2022-06-18",
          "2022-06-19",
          "2022-06-20",
          "2022-06-21",
          "2022-06-22",
          "2022-06-23",
          "2022-06-24",
          "2022-06-25",
          "2022-06-26",
          "2022-06-27",
          "2022-06-28",
          "2022-06-29",
          "2022-06-30",
          "2022-07-01",
          "2022-07-02",
          "2022-07-03",
          "2022-07-04",
          "2022-07-05",
          "2022-07-06",
          "2022-07-07",
          "2022-07-08",
          "2022-07-09",
          "2022-07-10",
          "2022-07-11",
          "2022-07-12",
          "2022-07-13",
          "2022-07-14",
          "2022-07-15",
          "2022-07-16",
          "2022-07-17",
          "2022-07-18",
          "2022-07-19",
          "2022-07-20",
          "2022-07-21",
          "2022-07-22",
          "2022-07-23",
          "2022-07-24",
          "2022-07-25",
          "2022-07-26",
          "2022-07-27",
          "2022-07-28",
          "2022-07-29",
          "2022-07-30",
          "2022-07-31",
          "2022-08-01",
          "2022-08-02",
          "2022-08-03",
          "2022-08-04",
          "2022-08-05",
          "2022-08-06",
          "2022-08-07",
          "2022-08-08",
          "2022-08-09",
          "2022-08-10",
          "2022-08-11",
          "2022-08-12",
          "2022-08-13",
          "2022-08-14",
          "2022-08-15",
          "2022-08-16",
          "2022-08-17",
          "2022-08-18",
          "2022-08-19",
          "2022-08-20",
          "2022-08-21",
          "2022-08-22",
          "2022-08-23",
          "2022-08-24",
          "2022-08-25",
          "2022-08-26",
          "2022-08-27",
          "2022-08-28",
          "2022-08-29",
          "2022-08-30",
          "2022-08-31",
          "2022-09-01",
          "2022-09-02",
          "2022-09-03",
          "2022-09-04",
          "2022-09-05",
          "2022-09-06",
          "2022-09-07",
          "2022-09-08",
          "2022-09-09",
          "2022-09-10",
          "2022-09-11",
          "2022-09-12",
          "2022-09-13",
          "2022-09-14",
          "2022-09-15",
          "2022-09-16",
          "2022-09-17",
          "2022-09-18",
          "2022-09-19",
          "2022-09-20",
          "2022-09-21",
          "2022-09-22",
          "2022-09-23",
          "2022-09-24",
          "2022-09-25",
          "2022-09-26",
          "2022-09-27",
          "2022-09-28",
          "2022-09-29",
          "2022-09-30",
          "2022-10-01",
          "2022-10-02",
          "2022-10-03",
          "2022-10-04",
          "2022-10-05",
          "2022-10-06",
          "2022-10-07",
          "2022-10-08",
          "2022-10-09",
          "2022-10-10",
          "2022-10-11",
          "2022-10-12",
          "2022-10-13",
          "2022-10-14",
          "2022-10-15",
          "2022-10-16",
          "2022-10-17",
          "2022-10-18",
          "2022-10-19",
          "2022-10-20",
          "2022-10-21",
          "2022-10-22",
          "2022-10-23",
          "2022-10-24",
          "2022-10-25",
          "2022-10-26",
          "2022-10-27",
          "2022-10-28",
          "2022-10-29",
          "2022-10-30",
          "2022-10-31",
          "2022-11-01",
          "2022-11-02",
          "2022-11-03",
          "2022-11-04",
          "2022-11-05",
          "2022-11-06",
          "2022-11-07",
          "2022-11-08",
          "2022-11-09",
          "2022-11-10",
          "2022-11-11",
          "2022-11-12",
          "2022-11-13",
          "2022-11-14",
          "2022-11-15",
          "2022-11-16",
          "2022-11-17",
          "2022-11-18",
          "2022-11-19",
          "2022-11-20",
          "2022-11-21",
          "2022-11-22",
          "2022-11-23",
          "2022-11-24",
          "2022-11-25",
          "2022-11-26",
          "2022-11-27",
          "2022-11-28",
          "2022-11-29",
          "2022-11-30",
          "2022-12-01",
          "2022-12-02",
          "2022-12-03",
          "2022-12-04",
          "2022-12-05",
          "2022-12-06",
          "2022-12-07",
          "2022-12-08",
          "2022-12-09",
          "2022-12-10",
          "2022-12-11",
          "2022-12-12",
          "2022-12-13",
          "2022-12-14",
          "2022-12-15",
          "2022-12-16",
          "2022-12-17",
          "2022-12-18",
          "2022-12-19",
          "2022-12-20",
          "2022-12-21",
          "2022-12-22",
          "2022-12-23",
          "2022-12-24",
          "2022-12-25",
          "2022-12-26",
          "2022-12-27",
          "2022-12-28",
          "2022-12-29",
          "2022-12-30",
          "2022-12-31",
          "2023-01-01",
          "2023-01-02",
          "2023-01-03",
          "2023-01-04",
          "2023-01-05",
          "2023-01-06",
          "2023-01-07",
          "2023-01-08",
          "2023-01-09",
          "2023-01-10",
          "2023-01-11",
          "2023-01-12",
          "2023-01-13",
          "2023-01-14",
          "2023-01-15",
          "2023-01-16",
          "2023-01-17",
          "2023-01-18",
          "2023-01-19",
          "2023-01-20",
          "2023-01-21",
          "2023-01-22",
          "2023-01-23",
          "2023-01-24",
          "2023-01-25",
          "2023-01-26",
          "2023-01-27",
          "2023-01-28",
          "2023-01-29",
          "2023-01-30",
          "2023-01-31",
          "2023-02-01",
          "2023-02-02",
          "2023-02-03",
          "2023-02-04",
          "2023-02-05",
          "2023-02-06",
          "2023-02-07",
          "2023-02-08",
          "2023-02-09",
          "2023-02-10",
          "2023-02-11",
          "2023-02-12",
          "2023-02-13",
          "2023-02-14",
          "2023-02-15",
          "2023-02-16",
          "2023-02-17",
          "2023-02-18",
          "2023-02-19",
          "2023-02-20",
          "2023-02-21",
          "2023-02-22",
          "2023-02-23",
          "2023-02-24",
          "2023-02-25",
          "2023-02-26",
          "2023-02-27",
          "2023-02-28",
          "2023-03-01",
          "2023-03-02",
          "2023-03-03",
          "2023-03-04",
          "2023-03-05",
          "2023-03-06",
          "2023-03-07",
          "2023-03-08",
          "2023-03-09",
          "2023-03-10",
          "2023-03-11",
          "2023-03-12",
          "2023-03-13",
          "2023-03-14",
          "2023-03-15",
          "2023-03-16",
          "2023-03-17",
          "2023-03-18",
          "2023-03-19",
          "2023-03-20",
          "2023-03-21",
          "2023-03-22",
          "2023-03-23",
          "2023-03-24",
          "2023-03-25",
          "2023-03-26",
          "2023-03-27",
          "2023-03-28",
          "2023-03-29",
          "2023-03-30",
          "2023-03-31",
          "2023-04-01",
          "2023-04-02",
          "2023-04-03",
          "2023-04-04",
          "2023-04-05",
          "2023-04-06",
          "2023-04-07",
          "2023-04-08",
          "2023-04-09",
          "2023-04-10",
          "2023-04-11",
          "2023-04-12",
          "2023-04-13",
          "2023-04-14",
          "2023-04-15",
          "2023-04-16",
          "2023-04-17",
          "2023-04-18",
          "2023-04-19",
          "2023-04-20",
          "2023-04-21",
          "2023-04-22",
          "2023-04-23",
          "2023-04-24",
          "2023-04-25",
          "2023-04-26",
          "2023-04-27",
          "2023-04-28",
          "2023-04-29",
          "2023-04-30",
          "2023-05-01",
          "2023-05-02",
          "2023-05-03",
          "2023-05-04",
          "2023-05-05",
          "2023-05-06",
          "2023-05-07",
          "2023-05-08",
          "2023-05-09",
          "2023-05-10",
          "2023-05-11",
          "2023-05-12",
          "2023-05-13",
          "2023-05-14",
          "2023-05-15",
          "2023-05-16",
          "2023-05-17",
          "2023-05-18",
          "2023-05-19",
          "2023-05-20",
          "2023-05-21",
          "2023-05-22",
          "2023-05-23",
          "2023-05-24",
          "2023-05-25",
          "2023-05-26",
          "2023-05-27",
          "2023-05-28",
          "2023-05-29",
          "2023-05-30",
          "2023-05-31",
          "2023-06-01",
          "2023-06-02",
          "2023-06-03",
          "2023-06-04",
          "2023-06-05",
          "2023-06-06",
          "2023-06-07",
          "2023-06-08",
          "2023-06-09",
          "2023-06-10",
          "2023-06-11",
          "2023-06-12",
          "2023-06-13",
          "2023-06-14",
          "2023-06-15",
          "2023-06-16",
          "2023-06-17",
          "2023-06-18",
          "2023-06-19",
          "2023-06-20",
          "2023-06-21",
          "2023-06-22",
          "2023-06-23",
          "2023-06-24",
          "2023-06-25",
          "2023-06-26",
          "2023-06-27",
          "2023-06-28",
          "2023-06-29",
          "2023-06-30"
         ],
         "y": [
          228.82924203153388,
          216.83819538124703,
          218.1468682905493,
          223.6969587442802,
          221.05990255984304,
          209.00672863283685,
          203.37851434463556,
          183.84591551208902,
          221.19837312678544,
          214.9207136047711,
          223.85065833637523,
          242.11870557310016,
          225.09466024984422,
          235.06449615179207,
          218.16879467192194,
          215.25971797927343,
          228.26695674759807,
          225.0372365068296,
          205.48556780738775,
          198.25986119618457,
          181.75529307035092,
          162.5554378811985,
          147.44343155181522,
          141.199823336977,
          201.30956987547998,
          194.00394807593955,
          193.84011540627492,
          209.5712533653449,
          202.89824691456892,
          252.67413342947677,
          277.13606318364907,
          277.4876533623562,
          266.4162682299604,
          126.08368778102627,
          100.1842981238888,
          129.15939816922884,
          131.97396059249397,
          117.69069755788952,
          89.06110882702316,
          92.53919129053573,
          117.17790328021174,
          132.5597555681578,
          121.63230502076387,
          131.22447272824488,
          121.32330624516145,
          139.51521131751937,
          108.88485428809602,
          89.28246583544257,
          125.22196488692005,
          102.41806046261676,
          152.42641810272264,
          107.53222112087438,
          96.81826406569793,
          97.6980234828287,
          154.07841590627672,
          133.62776862268237,
          159.66925242588795,
          165.17784786430212,
          89.37865813729805,
          85.09773603444523,
          95.83765893223762,
          621.0650141833588,
          717.8672064469334,
          678.1189518657071,
          626.39862052401,
          658.8007357125031,
          639.3345809959249,
          600.1508551194091,
          537.9151059505884,
          457.670783454186,
          400.7649901544333,
          345.3202258701855,
          310.8904236174375,
          294.1569713814693,
          348.59576486612303,
          350.6004131646908,
          338.29784715037476,
          313.48755702189305,
          316.60681370320503,
          302.4335813881488,
          241.65142092872543,
          261.10511284756404,
          281.8988614656031,
          255.66483834283704,
          254.76236815906177,
          247.34084238756353,
          254.92057766927664,
          244.65766296345865,
          262.52433076424427,
          288.7967140835506,
          237.64571805567348,
          130.6369402065673,
          163.1792576512451,
          202.1369374178076,
          191.72564625081745,
          263.01529235852655,
          161.04273140728762,
          119.44166718690369,
          129.91027152584866,
          146.6883763491526,
          134.51137939949368,
          140.27111105770686,
          130.6557818736912,
          105.87959879119832,
          118.04488751400831,
          108.22249710456897,
          149.89586075094468,
          198.6557137523168,
          147.61354045801482,
          124.14655632580441,
          120.40649266758314,
          115.97591054137277,
          107.109606497299,
          106.08157673836051,
          111.65163994417796,
          102.99494273721652,
          98.33911162639765,
          101.67736367220708,
          100.16350227405093,
          100.5918441506493,
          103.94257803583305,
          105.9339518621921,
          136.11821769296634,
          116.24957333819282,
          117.86842090364809,
          120.17549484881981,
          110.3606824687746,
          109.07005612672866,
          111.93660491140841,
          107.80163959635894,
          108.92896044116448,
          108.77816228954177,
          110.78499114055042,
          103.81265031917971,
          101.77885616050703,
          115.65850625372961,
          150.80478877603844,
          134.26209152367247,
          116.24073619080174,
          114.39097329954396,
          103.67686969116745,
          93.23157324776555,
          111.90869328466613,
          106.33090311161676,
          107.91247010296266,
          104.08621174503304,
          104.14557142247324,
          95.8784955522711,
          107.38261273235351,
          94.59923591297458,
          122.58915464257905,
          116.48916303398234,
          109.2870163309311,
          110.39665113088112,
          99.5739209001853,
          105.36525417345376,
          109.34755019104006,
          123.56679736918392,
          119.43789388017113,
          103.09658686890445,
          113.84521531157056,
          109.58050602477117,
          111.83430898734284,
          94.28048823547707,
          110.55614156998041,
          112.06911805535768,
          100.61441311430505,
          104.33262205396137,
          97.93842544342996,
          98.52411500872564,
          99.534824733921,
          110.81057488656042,
          102.88607445925716,
          111.68286197132684,
          106.30807994493195,
          113.25873405169102,
          112.17535012844888,
          109.28244992647033,
          112.88208642809388,
          111.15394757940497,
          110.41886790354758,
          111.97690712378746,
          108.43441570062139,
          111.49593545433899,
          113.67781670519432,
          112.65235186077088,
          115.73894992016898,
          113.22150689799595,
          116.70008404084271,
          115.74918683770046,
          111.64714345179554,
          124.42992761546287,
          124.16332355136417,
          118.2367511896926,
          117.51955978051494,
          118.00795545286573,
          113.23416318738629,
          128.02014779693468,
          127.69382306301979,
          111.95941396545277,
          113.42061717148658,
          111.8604561651512,
          111.68611682442919,
          120.07839582072816,
          115.60500433608627,
          138.7973017826189,
          116.4451176744821,
          106.79450916966009,
          117.33589443771805,
          113.93693168040306,
          127.62470898777357,
          121.44176832251031,
          111.71365115025176,
          118.81044789313519,
          121.50192844659752,
          118.63749077728434,
          116.28855286284434,
          112.16531535288166,
          112.72236962191316,
          115.70911772630683,
          114.73559018959062,
          114.67726537907407,
          116.66262891485613,
          111.16610652524382,
          109.16213860478774,
          110.20411376355061,
          129.99862346889185,
          148.08986547934754,
          126.67972565537144,
          130.06203193444202,
          117.75837448086581,
          113.92355492773386,
          141.37435020692683,
          140.07765881688508,
          164.76093117929557,
          213.86123443788085,
          251.24180423523984,
          257.8219534027727,
          266.78034702445007,
          285.3768912809532,
          299.27820239501307,
          332.14032679290597,
          321.65309984344816,
          326.3763339649451,
          280.6261816302834,
          190.28839282057262,
          180.5381243998035,
          217.1367761600179,
          209.84507166208223,
          195.91569838361204,
          214.7892035433865,
          221.75901690456004,
          138.41245734320415,
          209.4887885264215,
          297.5736176337905,
          352.989234837408,
          451.58311445059917,
          425.0115352680872,
          323.0305840736195,
          201.70387880851604,
          265.74328028198266,
          287.17929065287194,
          241.7593072965158,
          222.14702774436137,
          225.4106552334133,
          204.18601642674997,
          183.5539351547252,
          249.63291162812135,
          244.46984311368192,
          214.33153587407716,
          224.14796340368554,
          247.0856255711647,
          147.15809825740178,
          139.30204110777785,
          161.13561612687514,
          174.22378559655183,
          188.0013417892427,
          180.46418867936467,
          172.06337994957605,
          169.10302521352017,
          149.27536823295947,
          180.90757296052777,
          205.56193804852518,
          195.0914559364463,
          182.646664517735,
          184.35399146502164,
          175.60988963734744,
          187.21331702531336,
          171.66319278210727,
          177.68322028176726,
          250.9137878338587,
          225.06411380998307,
          215.1660989972784,
          173.50367371379636,
          129.097861338543,
          148.63883349478496,
          167.54281802200776,
          182.86169075442024,
          170.04737494562588,
          175.10655610363116,
          124.81513880507799,
          94.72171217975875,
          124.70018013342704,
          217.4850477981471,
          247.41467216465298,
          232.5825425837004,
          179.9146623460945,
          169.61966945668073,
          113.76700991213893,
          161.5451786331047,
          197.89101472713162,
          198.69248978010393,
          191.00489234137692,
          171.11924711138278,
          171.8916482687837,
          176.39207887010906,
          141.72274448673687,
          162.50687011012172,
          176.51257333380116,
          170.41989972211218,
          116.0085074852601,
          113.80900221128685,
          120.76900105875377,
          124.13584955316468,
          176.68738724519858,
          187.65625176262827,
          194.80746358753296,
          229.10626386897837,
          258.389207327844,
          261.31931064962134,
          280.2770845199446,
          292.8147233697792,
          305.35417385753897,
          332.66495430251206,
          339.1901938966023,
          340.22519054041965,
          252.39510420030518,
          290.05628026510624,
          254.10565298266667,
          246.24197696768005,
          245.29704301986428,
          210.69542683089057,
          236.87966456007493,
          252.50608160331785,
          247.76476744807107,
          262.9581631320839,
          278.6027971675944,
          292.4299022483759,
          286.8257649261951,
          274.75612964785694,
          289.2224087196587,
          331.6708959510802,
          335.1413167302797,
          361.93396613098366,
          398.02548645574836,
          422.0040419226162,
          408.9653223041939,
          418.8907365293529,
          427.7945813527053,
          464.73609579433173,
          513.2197439011279,
          507.6910913396468,
          438.2018490325578,
          512.7939663643749,
          504.03781366342673,
          500.65385594846293,
          526.1963552008954,
          538.3778649734459,
          558.855357722601,
          516.9482285059519,
          484.5920396662456,
          389.2192202051271,
          409.97999128728657,
          371.97299340473734,
          422.20876669531617,
          294.92190789915105,
          230.07397798314784,
          239.50571638505284,
          204.11309658391065,
          203.3901638598169,
          218.93610589148116,
          258.52172986483174,
          242.14089899691547,
          240.1740389101933,
          193.72852859139934,
          187.92635953656628,
          248.02437838973205,
          260.63049066007,
          272.14127346485475,
          357.94536078526085,
          393.0726566827587,
          403.3599293621599,
          458.45327750054054,
          585.0366283353409,
          689.0321214663524,
          782.9844775464369,
          715.2697190095605,
          774.3539791148305,
          794.2592485013224,
          710.9670812722945,
          528.2022917998428,
          647.185185352899,
          625.2173265338739,
          531.0078789225445,
          540.6773805827313,
          593.1951695671542,
          569.6737244526242,
          554.4109137039842,
          551.9384197112175,
          534.852018898363,
          496.9057644039656,
          479.4414620644799,
          412.4545225621048,
          398.50216040197506,
          407.3375668357839,
          421.78319774569763,
          345.0917228963958,
          359.93578060359084,
          354.3833143008039,
          277.9689632240782,
          299.0603287079572,
          323.6468840448468,
          363.80448011822295,
          379.1255886987985,
          371.4661775294901,
          440.1562069670634,
          460.7854706878332,
          461.08122486201887,
          498.29732247865024,
          489.35171602484587,
          462.5577669257625,
          411.11947656106423,
          287.08698809359214,
          286.69357888204667,
          283.0838345803469,
          223.34163903666067,
          173.3287444756353,
          162.44970219398485,
          173.70969813034216,
          229.90470965612,
          218.7282117383203,
          158.53659484619112,
          235.60150254878644,
          314.5915654580387,
          355.4434542259452,
          326.35654210782593,
          325.4214766263232,
          229.31726568891665,
          170.4095108571262,
          173.37393122740872,
          195.9125821629693,
          158.0927142246302,
          166.68341641292815,
          163.47714068198144,
          137.85706638586674,
          155.03844737724037,
          150.77536404915486,
          147.36684961778658,
          153.12077655966144,
          146.2538434536773,
          135.068425474234,
          145.28276698284324,
          142.54500883097515,
          152.14734438428104,
          157.1625116057601,
          276.5218479469712,
          260.67500874130593,
          237.80412801382815,
          213.23796654527163,
          211.43487879021592,
          306.6601732963106,
          309.22346363524593,
          260.30255054273596,
          299.36063363779954,
          318.04411202015234,
          326.5213398991664,
          346.4108293643357,
          343.70714743278927,
          332.24880625903927,
          320.54723943965905,
          237.13335430636081,
          237.84291194027236,
          185.20544930550017,
          204.35462296850702,
          193.53387811334474,
          247.52179436552615,
          261.6101053761318,
          261.14477386560645,
          332.2168189485734,
          336.733741807871,
          359.31686202275034,
          412.99604773597326,
          527.0887941877946,
          597.766442314645,
          632.0035829260383,
          631.6061642661577,
          688.1403886984816,
          680.5535042742785,
          711.4625746395517,
          777.087550032172,
          809.1062553536202,
          812.1968555752397,
          814.9831632095807,
          810.9758869805082,
          757.888730040794,
          764.4892829272242,
          784.7762138542026,
          717.3605659878135,
          733.1845522514659,
          646.5838456782708,
          610.8953519115988,
          409.6502686098025,
          329.97877311844115,
          359.27827158354904,
          359.9759589700625,
          291.22197531252294,
          237.56051359477522,
          241.40036290743743,
          207.38501591061583,
          263.6359768665317,
          321.3209261110701,
          356.7413131108274,
          331.1659972585183,
          294.03610394789763,
          284.7394091679225,
          280.6329607363413,
          285.48594103053347,
          333.4815177147559,
          359.733092942658,
          367.9437751817906,
          416.02102913399847,
          444.8022804285572,
          502.0371712168226,
          575.6843756678347,
          610.298447850592,
          742.1467552211293,
          744.6763797638415,
          841.4265642565377,
          875.8369755832928,
          679.5184480626115,
          639.0144599728131,
          575.3766984505377,
          583.3717574093453,
          451.90714507767814
         ]
        },
        {
         "mode": "lines",
         "name": "Valores reales de test",
         "type": "scatter",
         "x": [
          "2023-07-01",
          "2023-07-02",
          "2023-07-03",
          "2023-07-04",
          "2023-07-05",
          "2023-07-06",
          "2023-07-07",
          "2023-07-08",
          "2023-07-09",
          "2023-07-10",
          "2023-07-11",
          "2023-07-12",
          "2023-07-13",
          "2023-07-14",
          "2023-07-15",
          "2023-07-16",
          "2023-07-17",
          "2023-07-18",
          "2023-07-19",
          "2023-07-20",
          "2023-07-21",
          "2023-07-22",
          "2023-07-23",
          "2023-07-24",
          "2023-07-25",
          "2023-07-26",
          "2023-07-27",
          "2023-07-28",
          "2023-07-29",
          "2023-07-30",
          "2023-07-31",
          "2023-08-01",
          "2023-08-02",
          "2023-08-03",
          "2023-08-04",
          "2023-08-05",
          "2023-08-06",
          "2023-08-07",
          "2023-08-08",
          "2023-08-09",
          "2023-08-10",
          "2023-08-11",
          "2023-08-12",
          "2023-08-13",
          "2023-08-14",
          "2023-08-15",
          "2023-08-16",
          "2023-08-17",
          "2023-08-18",
          "2023-08-19",
          "2023-08-20",
          "2023-08-21",
          "2023-08-22",
          "2023-08-23",
          "2023-08-24",
          "2023-08-25",
          "2023-08-26",
          "2023-08-27",
          "2023-08-28",
          "2023-08-29",
          "2023-08-30",
          "2023-08-31",
          "2023-09-01",
          "2023-09-02",
          "2023-09-03",
          "2023-09-04",
          "2023-09-05",
          "2023-09-06",
          "2023-09-07",
          "2023-09-08",
          "2023-09-09",
          "2023-09-10",
          "2023-09-11",
          "2023-09-12",
          "2023-09-13",
          "2023-09-14",
          "2023-09-15",
          "2023-09-16",
          "2023-09-17",
          "2023-09-18",
          "2023-09-19",
          "2023-09-20",
          "2023-09-21",
          "2023-09-22",
          "2023-09-23",
          "2023-09-24",
          "2023-09-25",
          "2023-09-26",
          "2023-09-27",
          "2023-09-28",
          "2023-09-29",
          "2023-09-30"
         ],
         "y": [
          544.7705213565667,
          550.9924406845666,
          483.6502214998334,
          553.0780864147,
          604.0613552063,
          612.6520655029666,
          561.720197503,
          511.34744451383335,
          443.2304976700333,
          464.0946349298667,
          520.6698138396333,
          558.0087941169,
          623.2256895074667,
          667.2388902573667,
          627.5580529219334,
          655.8061852985,
          607.7387937565333,
          562.4534141153,
          452.60713804463336,
          355.5250355956,
          448.7364667266666,
          343.9170169912,
          368.67011887483335,
          505.73658042333335,
          501.0301570304,
          508.31399602706665,
          543.2798406008666,
          485.3597814536333,
          502.2773802097,
          503.4671490768667,
          493.9659789703334,
          547.1345043071,
          552.4892412716,
          502.80451949393336,
          534.6192562463666,
          464.1196171028666,
          492.90175899686665,
          407.4434403267667,
          520.8159737078333,
          615.0041053912,
          672.7727046824,
          743.8591253586001,
          765.2201509364668,
          662.3748478974667,
          648.2864592554333,
          743.5988251514667,
          684.1074411735334,
          695.5571388220666,
          718.1244276738333,
          688.8797853554333,
          429.54986892410005,
          427.4197187691333,
          333.6424985433667,
          240.48830502266665,
          199.1347986239333,
          201.7994960485,
          244.67607934786668,
          182.24162300086667,
          362.57467050660006,
          557.3878632841,
          752.3462168504999,
          804.1298802825668,
          840.0535151349333,
          897.7582867515666,
          940.0739380390668,
          965.3959244287,
          980.1408900017,
          938.9837728269,
          1002.4018762710666,
          1020.1230077620334,
          1042.4125910953665,
          1040.2309244287,
          1056.0735910953665,
          1055.8125910953663,
          1057.225091095367,
          1058.2146744287,
          1059.5459244287,
          1053.5576515038,
          980.9484479552332,
          1040.0333886235,
          1046.8870506150668,
          1040.3662577620337,
          1060.2107160953667,
          1059.9921744287,
          1061.2059358995332,
          999.485316434,
          1040.8716778893331,
          1061.5271744287,
          1041.1605757635332,
          1042.7696452357,
          1030.8072240289,
          1012.2209689485334
         ]
        },
        {
         "mode": "lines",
         "name": "Valores predichos de test",
         "type": "scatter",
         "x": [
          "2023-07-01",
          "2023-07-02",
          "2023-07-03",
          "2023-07-04",
          "2023-07-05",
          "2023-07-06",
          "2023-07-07",
          "2023-07-08",
          "2023-07-09",
          "2023-07-10",
          "2023-07-11",
          "2023-07-12",
          "2023-07-13",
          "2023-07-14",
          "2023-07-15",
          "2023-07-16",
          "2023-07-17",
          "2023-07-18",
          "2023-07-19",
          "2023-07-20",
          "2023-07-21",
          "2023-07-22",
          "2023-07-23",
          "2023-07-24",
          "2023-07-25",
          "2023-07-26",
          "2023-07-27",
          "2023-07-28",
          "2023-07-29",
          "2023-07-30",
          "2023-07-31",
          "2023-08-01",
          "2023-08-02",
          "2023-08-03",
          "2023-08-04",
          "2023-08-05",
          "2023-08-06",
          "2023-08-07",
          "2023-08-08",
          "2023-08-09",
          "2023-08-10",
          "2023-08-11",
          "2023-08-12",
          "2023-08-13",
          "2023-08-14",
          "2023-08-15",
          "2023-08-16",
          "2023-08-17",
          "2023-08-18",
          "2023-08-19",
          "2023-08-20",
          "2023-08-21",
          "2023-08-22",
          "2023-08-23",
          "2023-08-24",
          "2023-08-25",
          "2023-08-26",
          "2023-08-27",
          "2023-08-28",
          "2023-08-29",
          "2023-08-30",
          "2023-08-31",
          "2023-09-01",
          "2023-09-02",
          "2023-09-03",
          "2023-09-04",
          "2023-09-05",
          "2023-09-06",
          "2023-09-07",
          "2023-09-08",
          "2023-09-09",
          "2023-09-10",
          "2023-09-11",
          "2023-09-12",
          "2023-09-13",
          "2023-09-14",
          "2023-09-15",
          "2023-09-16",
          "2023-09-17",
          "2023-09-18",
          "2023-09-19",
          "2023-09-20",
          "2023-09-21",
          "2023-09-22",
          "2023-09-23",
          "2023-09-24",
          "2023-09-25",
          "2023-09-26",
          "2023-09-27",
          "2023-09-28",
          "2023-09-29",
          "2023-09-30"
         ],
         "y": [
          490.1402929657928,
          549.5898758916658,
          536.7394927726529,
          473.0950727736015,
          532.725227295073,
          604.5890104217008,
          604.082161696757,
          537.0033326889176,
          485.2080165353308,
          416.629827339366,
          444.25882222615166,
          520.5958500583773,
          560.2327362366572,
          626.2028826568474,
          667.6250586921944,
          610.0365304508251,
          632.6581250871728,
          598.7484382188641,
          539.4826450845384,
          429.3969976126663,
          324.8656224371691,
          440.04115368999857,
          351.5096077490698,
          351.7832723867138,
          523.4516473544678,
          521.4906721638764,
          502.85662106500445,
          536.9209647762422,
          481.38121345213386,
          475.19672350221447,
          502.89830191613123,
          488.8754942960051,
          544.6979140985474,
          556.9400661352527,
          493.08633926931077,
          523.4008101884264,
          459.57387952763116,
          478.4368396108171,
          402.47140400832984,
          512.2839503527349,
          639.3821498075109,
          677.84825187932,
          741.2989569412034,
          751.9834688739431,
          636.2173074648355,
          599.5281876132749,
          739.8242579959623,
          684.5881042808312,
          660.9308219605807,
          695.2928904494039,
          673.2176251480587,
          391.6493482369433,
          371.09296878496434,
          326.64996565309696,
          209.9399932840352,
          173.9027871670909,
          201.85430018253933,
          250.93089162808198,
          184.68922454075732,
          370.32221332568025,
          607.8197719454814,
          795.9044003433844,
          829.4973142133035,
          835.3117433961933,
          889.9085560705212,
          934.927913531656,
          954.6841913250395,
          964.6716963461569,
          911.9307655952452,
          974.9661054189393,
          1011.9036070113618,
          1022.9143619504526,
          1020.7533516704752,
          1033.045457000397,
          1031.5796815005347,
          1033.5275096359342,
          1032.8767226023251,
          1035.3944775102484,
          1029.5287705897692,
          949.5866575327816,
          1002.1882196429016,
          1035.3863868691558,
          1016.84490479329,
          1033.0118245032372,
          1038.9654368880229,
          1037.764956342198,
          966.5620063149807,
          1005.8041486085061,
          1047.3956837195738,
          1016.3603610681164,
          1015.0471399897752,
          1006.3661590201923
         ]
        },
        {
         "mode": "lines",
         "name": "Valores predichos de test -1",
         "type": "scatter",
         "x": [
          "2023-07-01",
          "2023-07-02",
          "2023-07-03",
          "2023-07-04",
          "2023-07-05",
          "2023-07-06",
          "2023-07-07",
          "2023-07-08",
          "2023-07-09",
          "2023-07-10",
          "2023-07-11",
          "2023-07-12",
          "2023-07-13",
          "2023-07-14",
          "2023-07-15",
          "2023-07-16",
          "2023-07-17",
          "2023-07-18",
          "2023-07-19",
          "2023-07-20",
          "2023-07-21",
          "2023-07-22",
          "2023-07-23",
          "2023-07-24",
          "2023-07-25",
          "2023-07-26",
          "2023-07-27",
          "2023-07-28",
          "2023-07-29",
          "2023-07-30",
          "2023-07-31",
          "2023-08-01",
          "2023-08-02",
          "2023-08-03",
          "2023-08-04",
          "2023-08-05",
          "2023-08-06",
          "2023-08-07",
          "2023-08-08",
          "2023-08-09",
          "2023-08-10",
          "2023-08-11",
          "2023-08-12",
          "2023-08-13",
          "2023-08-14",
          "2023-08-15",
          "2023-08-16",
          "2023-08-17",
          "2023-08-18",
          "2023-08-19",
          "2023-08-20",
          "2023-08-21",
          "2023-08-22",
          "2023-08-23",
          "2023-08-24",
          "2023-08-25",
          "2023-08-26",
          "2023-08-27",
          "2023-08-28",
          "2023-08-29",
          "2023-08-30",
          "2023-08-31",
          "2023-09-01",
          "2023-09-02",
          "2023-09-03",
          "2023-09-04",
          "2023-09-05",
          "2023-09-06",
          "2023-09-07",
          "2023-09-08",
          "2023-09-09",
          "2023-09-10",
          "2023-09-11",
          "2023-09-12",
          "2023-09-13",
          "2023-09-14",
          "2023-09-15",
          "2023-09-16",
          "2023-09-17",
          "2023-09-18",
          "2023-09-19",
          "2023-09-20",
          "2023-09-21",
          "2023-09-22",
          "2023-09-23",
          "2023-09-24",
          "2023-09-25",
          "2023-09-26",
          "2023-09-27",
          "2023-09-28",
          "2023-09-29",
          "2023-09-30"
         ],
         "y": [
          549.5898758916658,
          536.7394927726529,
          473.0950727736015,
          532.725227295073,
          604.5890104217008,
          604.082161696757,
          537.0033326889176,
          485.2080165353308,
          416.629827339366,
          444.25882222615166,
          520.5958500583773,
          560.2327362366572,
          626.2028826568474,
          667.6250586921944,
          610.0365304508251,
          632.6581250871728,
          598.7484382188641,
          539.4826450845384,
          429.3969976126663,
          324.8656224371691,
          440.04115368999857,
          351.5096077490698,
          351.7832723867138,
          523.4516473544678,
          521.4906721638764,
          502.85662106500445,
          536.9209647762422,
          481.38121345213386,
          475.19672350221447,
          502.89830191613123,
          488.8754942960051,
          544.6979140985474,
          556.9400661352527,
          493.08633926931077,
          523.4008101884264,
          459.57387952763116,
          478.4368396108171,
          402.47140400832984,
          512.2839503527349,
          639.3821498075109,
          677.84825187932,
          741.2989569412034,
          751.9834688739431,
          636.2173074648355,
          599.5281876132749,
          739.8242579959623,
          684.5881042808312,
          660.9308219605807,
          695.2928904494039,
          673.2176251480587,
          391.6493482369433,
          371.09296878496434,
          326.64996565309696,
          209.9399932840352,
          173.9027871670909,
          201.85430018253933,
          250.93089162808198,
          184.68922454075732,
          370.32221332568025,
          607.8197719454814,
          795.9044003433844,
          829.4973142133035,
          835.3117433961933,
          889.9085560705212,
          934.927913531656,
          954.6841913250395,
          964.6716963461569,
          911.9307655952452,
          974.9661054189393,
          1011.9036070113618,
          1022.9143619504526,
          1020.7533516704752,
          1033.045457000397,
          1031.5796815005347,
          1033.5275096359342,
          1032.8767226023251,
          1035.3944775102484,
          1029.5287705897692,
          949.5866575327816,
          1002.1882196429016,
          1035.3863868691558,
          1016.84490479329,
          1033.0118245032372,
          1038.9654368880229,
          1037.764956342198,
          966.5620063149807,
          1005.8041486085061,
          1047.3956837195738,
          1016.3603610681164,
          1015.0471399897752,
          1006.3661590201923
         ]
        }
       ],
       "layout": {
        "legend": {
         "tracegroupgap": 0
        },
        "template": {
         "data": {
          "bar": [
           {
            "error_x": {
             "color": "#2a3f5f"
            },
            "error_y": {
             "color": "#2a3f5f"
            },
            "marker": {
             "line": {
              "color": "#E5ECF6",
              "width": 0.5
             },
             "pattern": {
              "fillmode": "overlay",
              "size": 10,
              "solidity": 0.2
             }
            },
            "type": "bar"
           }
          ],
          "barpolar": [
           {
            "marker": {
             "line": {
              "color": "#E5ECF6",
              "width": 0.5
             },
             "pattern": {
              "fillmode": "overlay",
              "size": 10,
              "solidity": 0.2
             }
            },
            "type": "barpolar"
           }
          ],
          "carpet": [
           {
            "aaxis": {
             "endlinecolor": "#2a3f5f",
             "gridcolor": "white",
             "linecolor": "white",
             "minorgridcolor": "white",
             "startlinecolor": "#2a3f5f"
            },
            "baxis": {
             "endlinecolor": "#2a3f5f",
             "gridcolor": "white",
             "linecolor": "white",
             "minorgridcolor": "white",
             "startlinecolor": "#2a3f5f"
            },
            "type": "carpet"
           }
          ],
          "choropleth": [
           {
            "colorbar": {
             "outlinewidth": 0,
             "ticks": ""
            },
            "type": "choropleth"
           }
          ],
          "contour": [
           {
            "colorbar": {
             "outlinewidth": 0,
             "ticks": ""
            },
            "colorscale": [
             [
              0,
              "#0d0887"
             ],
             [
              0.1111111111111111,
              "#46039f"
             ],
             [
              0.2222222222222222,
              "#7201a8"
             ],
             [
              0.3333333333333333,
              "#9c179e"
             ],
             [
              0.4444444444444444,
              "#bd3786"
             ],
             [
              0.5555555555555556,
              "#d8576b"
             ],
             [
              0.6666666666666666,
              "#ed7953"
             ],
             [
              0.7777777777777778,
              "#fb9f3a"
             ],
             [
              0.8888888888888888,
              "#fdca26"
             ],
             [
              1,
              "#f0f921"
             ]
            ],
            "type": "contour"
           }
          ],
          "contourcarpet": [
           {
            "colorbar": {
             "outlinewidth": 0,
             "ticks": ""
            },
            "type": "contourcarpet"
           }
          ],
          "heatmap": [
           {
            "colorbar": {
             "outlinewidth": 0,
             "ticks": ""
            },
            "colorscale": [
             [
              0,
              "#0d0887"
             ],
             [
              0.1111111111111111,
              "#46039f"
             ],
             [
              0.2222222222222222,
              "#7201a8"
             ],
             [
              0.3333333333333333,
              "#9c179e"
             ],
             [
              0.4444444444444444,
              "#bd3786"
             ],
             [
              0.5555555555555556,
              "#d8576b"
             ],
             [
              0.6666666666666666,
              "#ed7953"
             ],
             [
              0.7777777777777778,
              "#fb9f3a"
             ],
             [
              0.8888888888888888,
              "#fdca26"
             ],
             [
              1,
              "#f0f921"
             ]
            ],
            "type": "heatmap"
           }
          ],
          "heatmapgl": [
           {
            "colorbar": {
             "outlinewidth": 0,
             "ticks": ""
            },
            "colorscale": [
             [
              0,
              "#0d0887"
             ],
             [
              0.1111111111111111,
              "#46039f"
             ],
             [
              0.2222222222222222,
              "#7201a8"
             ],
             [
              0.3333333333333333,
              "#9c179e"
             ],
             [
              0.4444444444444444,
              "#bd3786"
             ],
             [
              0.5555555555555556,
              "#d8576b"
             ],
             [
              0.6666666666666666,
              "#ed7953"
             ],
             [
              0.7777777777777778,
              "#fb9f3a"
             ],
             [
              0.8888888888888888,
              "#fdca26"
             ],
             [
              1,
              "#f0f921"
             ]
            ],
            "type": "heatmapgl"
           }
          ],
          "histogram": [
           {
            "marker": {
             "pattern": {
              "fillmode": "overlay",
              "size": 10,
              "solidity": 0.2
             }
            },
            "type": "histogram"
           }
          ],
          "histogram2d": [
           {
            "colorbar": {
             "outlinewidth": 0,
             "ticks": ""
            },
            "colorscale": [
             [
              0,
              "#0d0887"
             ],
             [
              0.1111111111111111,
              "#46039f"
             ],
             [
              0.2222222222222222,
              "#7201a8"
             ],
             [
              0.3333333333333333,
              "#9c179e"
             ],
             [
              0.4444444444444444,
              "#bd3786"
             ],
             [
              0.5555555555555556,
              "#d8576b"
             ],
             [
              0.6666666666666666,
              "#ed7953"
             ],
             [
              0.7777777777777778,
              "#fb9f3a"
             ],
             [
              0.8888888888888888,
              "#fdca26"
             ],
             [
              1,
              "#f0f921"
             ]
            ],
            "type": "histogram2d"
           }
          ],
          "histogram2dcontour": [
           {
            "colorbar": {
             "outlinewidth": 0,
             "ticks": ""
            },
            "colorscale": [
             [
              0,
              "#0d0887"
             ],
             [
              0.1111111111111111,
              "#46039f"
             ],
             [
              0.2222222222222222,
              "#7201a8"
             ],
             [
              0.3333333333333333,
              "#9c179e"
             ],
             [
              0.4444444444444444,
              "#bd3786"
             ],
             [
              0.5555555555555556,
              "#d8576b"
             ],
             [
              0.6666666666666666,
              "#ed7953"
             ],
             [
              0.7777777777777778,
              "#fb9f3a"
             ],
             [
              0.8888888888888888,
              "#fdca26"
             ],
             [
              1,
              "#f0f921"
             ]
            ],
            "type": "histogram2dcontour"
           }
          ],
          "mesh3d": [
           {
            "colorbar": {
             "outlinewidth": 0,
             "ticks": ""
            },
            "type": "mesh3d"
           }
          ],
          "parcoords": [
           {
            "line": {
             "colorbar": {
              "outlinewidth": 0,
              "ticks": ""
             }
            },
            "type": "parcoords"
           }
          ],
          "pie": [
           {
            "automargin": true,
            "type": "pie"
           }
          ],
          "scatter": [
           {
            "fillpattern": {
             "fillmode": "overlay",
             "size": 10,
             "solidity": 0.2
            },
            "type": "scatter"
           }
          ],
          "scatter3d": [
           {
            "line": {
             "colorbar": {
              "outlinewidth": 0,
              "ticks": ""
             }
            },
            "marker": {
             "colorbar": {
              "outlinewidth": 0,
              "ticks": ""
             }
            },
            "type": "scatter3d"
           }
          ],
          "scattercarpet": [
           {
            "marker": {
             "colorbar": {
              "outlinewidth": 0,
              "ticks": ""
             }
            },
            "type": "scattercarpet"
           }
          ],
          "scattergeo": [
           {
            "marker": {
             "colorbar": {
              "outlinewidth": 0,
              "ticks": ""
             }
            },
            "type": "scattergeo"
           }
          ],
          "scattergl": [
           {
            "marker": {
             "colorbar": {
              "outlinewidth": 0,
              "ticks": ""
             }
            },
            "type": "scattergl"
           }
          ],
          "scattermapbox": [
           {
            "marker": {
             "colorbar": {
              "outlinewidth": 0,
              "ticks": ""
             }
            },
            "type": "scattermapbox"
           }
          ],
          "scatterpolar": [
           {
            "marker": {
             "colorbar": {
              "outlinewidth": 0,
              "ticks": ""
             }
            },
            "type": "scatterpolar"
           }
          ],
          "scatterpolargl": [
           {
            "marker": {
             "colorbar": {
              "outlinewidth": 0,
              "ticks": ""
             }
            },
            "type": "scatterpolargl"
           }
          ],
          "scatterternary": [
           {
            "marker": {
             "colorbar": {
              "outlinewidth": 0,
              "ticks": ""
             }
            },
            "type": "scatterternary"
           }
          ],
          "surface": [
           {
            "colorbar": {
             "outlinewidth": 0,
             "ticks": ""
            },
            "colorscale": [
             [
              0,
              "#0d0887"
             ],
             [
              0.1111111111111111,
              "#46039f"
             ],
             [
              0.2222222222222222,
              "#7201a8"
             ],
             [
              0.3333333333333333,
              "#9c179e"
             ],
             [
              0.4444444444444444,
              "#bd3786"
             ],
             [
              0.5555555555555556,
              "#d8576b"
             ],
             [
              0.6666666666666666,
              "#ed7953"
             ],
             [
              0.7777777777777778,
              "#fb9f3a"
             ],
             [
              0.8888888888888888,
              "#fdca26"
             ],
             [
              1,
              "#f0f921"
             ]
            ],
            "type": "surface"
           }
          ],
          "table": [
           {
            "cells": {
             "fill": {
              "color": "#EBF0F8"
             },
             "line": {
              "color": "white"
             }
            },
            "header": {
             "fill": {
              "color": "#C8D4E3"
             },
             "line": {
              "color": "white"
             }
            },
            "type": "table"
           }
          ]
         },
         "layout": {
          "annotationdefaults": {
           "arrowcolor": "#2a3f5f",
           "arrowhead": 0,
           "arrowwidth": 1
          },
          "autotypenumbers": "strict",
          "coloraxis": {
           "colorbar": {
            "outlinewidth": 0,
            "ticks": ""
           }
          },
          "colorscale": {
           "diverging": [
            [
             0,
             "#8e0152"
            ],
            [
             0.1,
             "#c51b7d"
            ],
            [
             0.2,
             "#de77ae"
            ],
            [
             0.3,
             "#f1b6da"
            ],
            [
             0.4,
             "#fde0ef"
            ],
            [
             0.5,
             "#f7f7f7"
            ],
            [
             0.6,
             "#e6f5d0"
            ],
            [
             0.7,
             "#b8e186"
            ],
            [
             0.8,
             "#7fbc41"
            ],
            [
             0.9,
             "#4d9221"
            ],
            [
             1,
             "#276419"
            ]
           ],
           "sequential": [
            [
             0,
             "#0d0887"
            ],
            [
             0.1111111111111111,
             "#46039f"
            ],
            [
             0.2222222222222222,
             "#7201a8"
            ],
            [
             0.3333333333333333,
             "#9c179e"
            ],
            [
             0.4444444444444444,
             "#bd3786"
            ],
            [
             0.5555555555555556,
             "#d8576b"
            ],
            [
             0.6666666666666666,
             "#ed7953"
            ],
            [
             0.7777777777777778,
             "#fb9f3a"
            ],
            [
             0.8888888888888888,
             "#fdca26"
            ],
            [
             1,
             "#f0f921"
            ]
           ],
           "sequentialminus": [
            [
             0,
             "#0d0887"
            ],
            [
             0.1111111111111111,
             "#46039f"
            ],
            [
             0.2222222222222222,
             "#7201a8"
            ],
            [
             0.3333333333333333,
             "#9c179e"
            ],
            [
             0.4444444444444444,
             "#bd3786"
            ],
            [
             0.5555555555555556,
             "#d8576b"
            ],
            [
             0.6666666666666666,
             "#ed7953"
            ],
            [
             0.7777777777777778,
             "#fb9f3a"
            ],
            [
             0.8888888888888888,
             "#fdca26"
            ],
            [
             1,
             "#f0f921"
            ]
           ]
          },
          "colorway": [
           "#636efa",
           "#EF553B",
           "#00cc96",
           "#ab63fa",
           "#FFA15A",
           "#19d3f3",
           "#FF6692",
           "#B6E880",
           "#FF97FF",
           "#FECB52"
          ],
          "font": {
           "color": "#2a3f5f"
          },
          "geo": {
           "bgcolor": "white",
           "lakecolor": "white",
           "landcolor": "#E5ECF6",
           "showlakes": true,
           "showland": true,
           "subunitcolor": "white"
          },
          "hoverlabel": {
           "align": "left"
          },
          "hovermode": "closest",
          "mapbox": {
           "style": "light"
          },
          "paper_bgcolor": "white",
          "plot_bgcolor": "#E5ECF6",
          "polar": {
           "angularaxis": {
            "gridcolor": "white",
            "linecolor": "white",
            "ticks": ""
           },
           "bgcolor": "#E5ECF6",
           "radialaxis": {
            "gridcolor": "white",
            "linecolor": "white",
            "ticks": ""
           }
          },
          "scene": {
           "xaxis": {
            "backgroundcolor": "#E5ECF6",
            "gridcolor": "white",
            "gridwidth": 2,
            "linecolor": "white",
            "showbackground": true,
            "ticks": "",
            "zerolinecolor": "white"
           },
           "yaxis": {
            "backgroundcolor": "#E5ECF6",
            "gridcolor": "white",
            "gridwidth": 2,
            "linecolor": "white",
            "showbackground": true,
            "ticks": "",
            "zerolinecolor": "white"
           },
           "zaxis": {
            "backgroundcolor": "#E5ECF6",
            "gridcolor": "white",
            "gridwidth": 2,
            "linecolor": "white",
            "showbackground": true,
            "ticks": "",
            "zerolinecolor": "white"
           }
          },
          "shapedefaults": {
           "line": {
            "color": "#2a3f5f"
           }
          },
          "ternary": {
           "aaxis": {
            "gridcolor": "white",
            "linecolor": "white",
            "ticks": ""
           },
           "baxis": {
            "gridcolor": "white",
            "linecolor": "white",
            "ticks": ""
           },
           "bgcolor": "#E5ECF6",
           "caxis": {
            "gridcolor": "white",
            "linecolor": "white",
            "ticks": ""
           }
          },
          "title": {
           "x": 0.05
          },
          "xaxis": {
           "automargin": true,
           "gridcolor": "white",
           "linecolor": "white",
           "ticks": "",
           "title": {
            "standoff": 15
           },
           "zerolinecolor": "white",
           "zerolinewidth": 2
          },
          "yaxis": {
           "automargin": true,
           "gridcolor": "white",
           "linecolor": "white",
           "ticks": "",
           "title": {
            "standoff": 15
           },
           "zerolinecolor": "white",
           "zerolinewidth": 2
          }
         }
        },
        "title": {
         "text": "Forecasting of Energy Price with Forward MLR with 4 lags"
        },
        "xaxis": {
         "anchor": "y",
         "domain": [
          0,
          1
         ],
         "title": {
          "text": "Date"
         }
        },
        "yaxis": {
         "anchor": "x",
         "domain": [
          0,
          1
         ],
         "title": {
          "text": "Average Energy Price"
         }
        }
       }
      }
     },
     "metadata": {},
     "output_type": "display_data"
    }
   ],
   "source": [
    "fig_lag4 = px.line(\n",
    "    x=X_train_dates_selection,\n",
    "    y=y_train_selection,\n",
    "    title=\"Forecasting of Energy Price with Forward MLR with 4 lags\",\n",
    ")\n",
    "fig_lag4.update_layout(xaxis_title=\"Date\", yaxis_title=\"Average Energy Price\")\n",
    "fig_lag4.add_trace(\n",
    "    go.Scatter(\n",
    "        x=X_train_dates_selection,\n",
    "        y=y_pred_train_selection,\n",
    "        mode=\"lines\",\n",
    "        name=\"Valores predichos de train\",\n",
    "    )\n",
    ")\n",
    "fig_lag4.add_trace(\n",
    "    go.Scatter(\n",
    "        x=X_test_dates_selection,\n",
    "        y=y_test_selection,\n",
    "        mode=\"lines\",\n",
    "        name=\"Valores reales de test\",\n",
    "    )\n",
    ")\n",
    "fig_lag4.add_trace(\n",
    "    go.Scatter(\n",
    "        x=X_test_dates_selection,\n",
    "        y=y_pred_test_selection,\n",
    "        mode=\"lines\",\n",
    "        name=\"Valores predichos de test\",\n",
    "    )\n",
    ")\n",
    "fig_lag4.add_trace(\n",
    "    go.Scatter(\n",
    "        x=X_test_dates_selection,\n",
    "        y=y_pred_test_selection_with_shift,\n",
    "        mode=\"lines\",\n",
    "        name=\"Valores predichos de test -1\",\n",
    "    )\n",
    ")\n",
    "fig_lag4.show()"
   ]
  },
  {
   "cell_type": "markdown",
   "metadata": {},
   "source": [
    "Matriz de correlacion de las variables seleccionadas por el mejor modelo, selección Forward\n"
   ]
  },
  {
   "cell_type": "code",
   "execution_count": 20,
   "metadata": {},
   "outputs": [
    {
     "data": {
      "text/html": [
       "<div>\n",
       "<style scoped>\n",
       "    .dataframe tbody tr th:only-of-type {\n",
       "        vertical-align: middle;\n",
       "    }\n",
       "\n",
       "    .dataframe tbody tr th {\n",
       "        vertical-align: top;\n",
       "    }\n",
       "\n",
       "    .dataframe thead th {\n",
       "        text-align: right;\n",
       "    }\n",
       "</style>\n",
       "<table border=\"1\" class=\"dataframe\">\n",
       "  <thead>\n",
       "    <tr style=\"text-align: right;\">\n",
       "      <th></th>\n",
       "      <th>precipitacion_guainia</th>\n",
       "      <th>temp_ARAUCA</th>\n",
       "      <th>precipitacion_cesar</th>\n",
       "      <th>brent_value</th>\n",
       "      <th>temp_ARCHIPIELAGO DE SAN ANDRES PROVIDENCIA Y SANTA CATALINA</th>\n",
       "      <th>temp_CAQUETA</th>\n",
       "      <th>TRM</th>\n",
       "      <th>precipitacion_bogota</th>\n",
       "      <th>precipitacion_san andres providencia</th>\n",
       "      <th>precipitacion_amazonas</th>\n",
       "      <th>precipitacion_casanare</th>\n",
       "      <th>precipitacion_guaviare</th>\n",
       "      <th>precipitacion_magdalena</th>\n",
       "      <th>precipitacion_vichada</th>\n",
       "      <th>precipitacion_caqueta</th>\n",
       "      <th>precipitacion_putumayo</th>\n",
       "      <th>energy_price_lag_1</th>\n",
       "      <th>energy_price</th>\n",
       "    </tr>\n",
       "  </thead>\n",
       "  <tbody>\n",
       "    <tr>\n",
       "      <th>precipitacion_guainia</th>\n",
       "      <td>1.000000</td>\n",
       "      <td>0.061261</td>\n",
       "      <td>0.095274</td>\n",
       "      <td>0.133163</td>\n",
       "      <td>0.017146</td>\n",
       "      <td>-0.150496</td>\n",
       "      <td>-0.086251</td>\n",
       "      <td>0.058107</td>\n",
       "      <td>0.113770</td>\n",
       "      <td>-0.060990</td>\n",
       "      <td>0.141844</td>\n",
       "      <td>0.114005</td>\n",
       "      <td>0.038178</td>\n",
       "      <td>0.064322</td>\n",
       "      <td>0.145535</td>\n",
       "      <td>0.053669</td>\n",
       "      <td>-0.078413</td>\n",
       "      <td>-0.078516</td>\n",
       "    </tr>\n",
       "    <tr>\n",
       "      <th>temp_ARAUCA</th>\n",
       "      <td>0.061261</td>\n",
       "      <td>1.000000</td>\n",
       "      <td>0.046196</td>\n",
       "      <td>-0.127091</td>\n",
       "      <td>0.095159</td>\n",
       "      <td>0.182023</td>\n",
       "      <td>-0.168558</td>\n",
       "      <td>-0.053426</td>\n",
       "      <td>0.002041</td>\n",
       "      <td>0.087854</td>\n",
       "      <td>-0.104227</td>\n",
       "      <td>-0.011584</td>\n",
       "      <td>-0.063021</td>\n",
       "      <td>-0.100798</td>\n",
       "      <td>0.022060</td>\n",
       "      <td>-0.032050</td>\n",
       "      <td>-0.160170</td>\n",
       "      <td>-0.160594</td>\n",
       "    </tr>\n",
       "    <tr>\n",
       "      <th>precipitacion_cesar</th>\n",
       "      <td>0.095274</td>\n",
       "      <td>0.046196</td>\n",
       "      <td>1.000000</td>\n",
       "      <td>0.204447</td>\n",
       "      <td>-0.033574</td>\n",
       "      <td>-0.068623</td>\n",
       "      <td>-0.113215</td>\n",
       "      <td>0.109009</td>\n",
       "      <td>0.003234</td>\n",
       "      <td>-0.015654</td>\n",
       "      <td>0.018671</td>\n",
       "      <td>0.168250</td>\n",
       "      <td>0.185898</td>\n",
       "      <td>0.015089</td>\n",
       "      <td>0.085002</td>\n",
       "      <td>0.005954</td>\n",
       "      <td>-0.133672</td>\n",
       "      <td>-0.136470</td>\n",
       "    </tr>\n",
       "    <tr>\n",
       "      <th>brent_value</th>\n",
       "      <td>0.133163</td>\n",
       "      <td>-0.127091</td>\n",
       "      <td>0.204447</td>\n",
       "      <td>1.000000</td>\n",
       "      <td>-0.090662</td>\n",
       "      <td>-0.262866</td>\n",
       "      <td>-0.328136</td>\n",
       "      <td>0.250227</td>\n",
       "      <td>0.135416</td>\n",
       "      <td>0.012178</td>\n",
       "      <td>0.005500</td>\n",
       "      <td>0.182742</td>\n",
       "      <td>0.361648</td>\n",
       "      <td>-0.014330</td>\n",
       "      <td>0.048732</td>\n",
       "      <td>-0.157034</td>\n",
       "      <td>-0.366350</td>\n",
       "      <td>-0.363586</td>\n",
       "    </tr>\n",
       "    <tr>\n",
       "      <th>temp_ARCHIPIELAGO DE SAN ANDRES PROVIDENCIA Y SANTA CATALINA</th>\n",
       "      <td>0.017146</td>\n",
       "      <td>0.095159</td>\n",
       "      <td>-0.033574</td>\n",
       "      <td>-0.090662</td>\n",
       "      <td>1.000000</td>\n",
       "      <td>0.141170</td>\n",
       "      <td>-0.183483</td>\n",
       "      <td>-0.008025</td>\n",
       "      <td>-0.195152</td>\n",
       "      <td>-0.057892</td>\n",
       "      <td>0.148221</td>\n",
       "      <td>-0.017279</td>\n",
       "      <td>-0.003035</td>\n",
       "      <td>0.122271</td>\n",
       "      <td>0.020436</td>\n",
       "      <td>0.015998</td>\n",
       "      <td>0.224531</td>\n",
       "      <td>0.231223</td>\n",
       "    </tr>\n",
       "    <tr>\n",
       "      <th>temp_CAQUETA</th>\n",
       "      <td>-0.150496</td>\n",
       "      <td>0.182023</td>\n",
       "      <td>-0.068623</td>\n",
       "      <td>-0.262866</td>\n",
       "      <td>0.141170</td>\n",
       "      <td>1.000000</td>\n",
       "      <td>0.175222</td>\n",
       "      <td>-0.119527</td>\n",
       "      <td>-0.107654</td>\n",
       "      <td>0.057531</td>\n",
       "      <td>-0.163412</td>\n",
       "      <td>-0.164676</td>\n",
       "      <td>-0.058575</td>\n",
       "      <td>-0.187662</td>\n",
       "      <td>-0.297716</td>\n",
       "      <td>-0.174746</td>\n",
       "      <td>0.223119</td>\n",
       "      <td>0.233247</td>\n",
       "    </tr>\n",
       "    <tr>\n",
       "      <th>TRM</th>\n",
       "      <td>-0.086251</td>\n",
       "      <td>-0.168558</td>\n",
       "      <td>-0.113215</td>\n",
       "      <td>-0.328136</td>\n",
       "      <td>-0.183483</td>\n",
       "      <td>0.175222</td>\n",
       "      <td>1.000000</td>\n",
       "      <td>-0.046777</td>\n",
       "      <td>-0.072813</td>\n",
       "      <td>-0.016610</td>\n",
       "      <td>-0.043775</td>\n",
       "      <td>-0.024023</td>\n",
       "      <td>-0.007488</td>\n",
       "      <td>-0.076597</td>\n",
       "      <td>-0.011917</td>\n",
       "      <td>0.030287</td>\n",
       "      <td>-0.014880</td>\n",
       "      <td>-0.017256</td>\n",
       "    </tr>\n",
       "    <tr>\n",
       "      <th>precipitacion_bogota</th>\n",
       "      <td>0.058107</td>\n",
       "      <td>-0.053426</td>\n",
       "      <td>0.109009</td>\n",
       "      <td>0.250227</td>\n",
       "      <td>-0.008025</td>\n",
       "      <td>-0.119527</td>\n",
       "      <td>-0.046777</td>\n",
       "      <td>1.000000</td>\n",
       "      <td>-0.014237</td>\n",
       "      <td>0.104938</td>\n",
       "      <td>0.117512</td>\n",
       "      <td>0.215049</td>\n",
       "      <td>0.243750</td>\n",
       "      <td>0.036956</td>\n",
       "      <td>0.103425</td>\n",
       "      <td>0.031672</td>\n",
       "      <td>-0.064258</td>\n",
       "      <td>-0.078994</td>\n",
       "    </tr>\n",
       "    <tr>\n",
       "      <th>precipitacion_san andres providencia</th>\n",
       "      <td>0.113770</td>\n",
       "      <td>0.002041</td>\n",
       "      <td>0.003234</td>\n",
       "      <td>0.135416</td>\n",
       "      <td>-0.195152</td>\n",
       "      <td>-0.107654</td>\n",
       "      <td>-0.072813</td>\n",
       "      <td>-0.014237</td>\n",
       "      <td>1.000000</td>\n",
       "      <td>-0.062397</td>\n",
       "      <td>0.042215</td>\n",
       "      <td>0.133882</td>\n",
       "      <td>0.078084</td>\n",
       "      <td>0.070174</td>\n",
       "      <td>0.127337</td>\n",
       "      <td>0.062800</td>\n",
       "      <td>-0.108681</td>\n",
       "      <td>-0.109135</td>\n",
       "    </tr>\n",
       "    <tr>\n",
       "      <th>precipitacion_amazonas</th>\n",
       "      <td>-0.060990</td>\n",
       "      <td>0.087854</td>\n",
       "      <td>-0.015654</td>\n",
       "      <td>0.012178</td>\n",
       "      <td>-0.057892</td>\n",
       "      <td>0.057531</td>\n",
       "      <td>-0.016610</td>\n",
       "      <td>0.104938</td>\n",
       "      <td>-0.062397</td>\n",
       "      <td>1.000000</td>\n",
       "      <td>-0.013944</td>\n",
       "      <td>0.042756</td>\n",
       "      <td>-0.000225</td>\n",
       "      <td>0.007979</td>\n",
       "      <td>-0.024298</td>\n",
       "      <td>-0.002941</td>\n",
       "      <td>0.058035</td>\n",
       "      <td>0.055893</td>\n",
       "    </tr>\n",
       "    <tr>\n",
       "      <th>precipitacion_casanare</th>\n",
       "      <td>0.141844</td>\n",
       "      <td>-0.104227</td>\n",
       "      <td>0.018671</td>\n",
       "      <td>0.005500</td>\n",
       "      <td>0.148221</td>\n",
       "      <td>-0.163412</td>\n",
       "      <td>-0.043775</td>\n",
       "      <td>0.117512</td>\n",
       "      <td>0.042215</td>\n",
       "      <td>-0.013944</td>\n",
       "      <td>1.000000</td>\n",
       "      <td>0.223168</td>\n",
       "      <td>0.123362</td>\n",
       "      <td>0.258984</td>\n",
       "      <td>0.228872</td>\n",
       "      <td>0.155049</td>\n",
       "      <td>0.140932</td>\n",
       "      <td>0.136466</td>\n",
       "    </tr>\n",
       "    <tr>\n",
       "      <th>precipitacion_guaviare</th>\n",
       "      <td>0.114005</td>\n",
       "      <td>-0.011584</td>\n",
       "      <td>0.168250</td>\n",
       "      <td>0.182742</td>\n",
       "      <td>-0.017279</td>\n",
       "      <td>-0.164676</td>\n",
       "      <td>-0.024023</td>\n",
       "      <td>0.215049</td>\n",
       "      <td>0.133882</td>\n",
       "      <td>0.042756</td>\n",
       "      <td>0.223168</td>\n",
       "      <td>1.000000</td>\n",
       "      <td>0.259762</td>\n",
       "      <td>0.056771</td>\n",
       "      <td>0.222458</td>\n",
       "      <td>0.112019</td>\n",
       "      <td>-0.112851</td>\n",
       "      <td>-0.110750</td>\n",
       "    </tr>\n",
       "    <tr>\n",
       "      <th>precipitacion_magdalena</th>\n",
       "      <td>0.038178</td>\n",
       "      <td>-0.063021</td>\n",
       "      <td>0.185898</td>\n",
       "      <td>0.361648</td>\n",
       "      <td>-0.003035</td>\n",
       "      <td>-0.058575</td>\n",
       "      <td>-0.007488</td>\n",
       "      <td>0.243750</td>\n",
       "      <td>0.078084</td>\n",
       "      <td>-0.000225</td>\n",
       "      <td>0.123362</td>\n",
       "      <td>0.259762</td>\n",
       "      <td>1.000000</td>\n",
       "      <td>0.007996</td>\n",
       "      <td>0.112019</td>\n",
       "      <td>-0.034144</td>\n",
       "      <td>-0.235261</td>\n",
       "      <td>-0.238755</td>\n",
       "    </tr>\n",
       "    <tr>\n",
       "      <th>precipitacion_vichada</th>\n",
       "      <td>0.064322</td>\n",
       "      <td>-0.100798</td>\n",
       "      <td>0.015089</td>\n",
       "      <td>-0.014330</td>\n",
       "      <td>0.122271</td>\n",
       "      <td>-0.187662</td>\n",
       "      <td>-0.076597</td>\n",
       "      <td>0.036956</td>\n",
       "      <td>0.070174</td>\n",
       "      <td>0.007979</td>\n",
       "      <td>0.258984</td>\n",
       "      <td>0.056771</td>\n",
       "      <td>0.007996</td>\n",
       "      <td>1.000000</td>\n",
       "      <td>0.118293</td>\n",
       "      <td>0.110634</td>\n",
       "      <td>0.073869</td>\n",
       "      <td>0.064373</td>\n",
       "    </tr>\n",
       "    <tr>\n",
       "      <th>precipitacion_caqueta</th>\n",
       "      <td>0.145535</td>\n",
       "      <td>0.022060</td>\n",
       "      <td>0.085002</td>\n",
       "      <td>0.048732</td>\n",
       "      <td>0.020436</td>\n",
       "      <td>-0.297716</td>\n",
       "      <td>-0.011917</td>\n",
       "      <td>0.103425</td>\n",
       "      <td>0.127337</td>\n",
       "      <td>-0.024298</td>\n",
       "      <td>0.228872</td>\n",
       "      <td>0.222458</td>\n",
       "      <td>0.112019</td>\n",
       "      <td>0.118293</td>\n",
       "      <td>1.000000</td>\n",
       "      <td>0.297830</td>\n",
       "      <td>-0.028794</td>\n",
       "      <td>-0.042744</td>\n",
       "    </tr>\n",
       "    <tr>\n",
       "      <th>precipitacion_putumayo</th>\n",
       "      <td>0.053669</td>\n",
       "      <td>-0.032050</td>\n",
       "      <td>0.005954</td>\n",
       "      <td>-0.157034</td>\n",
       "      <td>0.015998</td>\n",
       "      <td>-0.174746</td>\n",
       "      <td>0.030287</td>\n",
       "      <td>0.031672</td>\n",
       "      <td>0.062800</td>\n",
       "      <td>-0.002941</td>\n",
       "      <td>0.155049</td>\n",
       "      <td>0.112019</td>\n",
       "      <td>-0.034144</td>\n",
       "      <td>0.110634</td>\n",
       "      <td>0.297830</td>\n",
       "      <td>1.000000</td>\n",
       "      <td>0.084284</td>\n",
       "      <td>0.076281</td>\n",
       "    </tr>\n",
       "    <tr>\n",
       "      <th>energy_price_lag_1</th>\n",
       "      <td>-0.078413</td>\n",
       "      <td>-0.160170</td>\n",
       "      <td>-0.133672</td>\n",
       "      <td>-0.366350</td>\n",
       "      <td>0.224531</td>\n",
       "      <td>0.223119</td>\n",
       "      <td>-0.014880</td>\n",
       "      <td>-0.064258</td>\n",
       "      <td>-0.108681</td>\n",
       "      <td>0.058035</td>\n",
       "      <td>0.140932</td>\n",
       "      <td>-0.112851</td>\n",
       "      <td>-0.235261</td>\n",
       "      <td>0.073869</td>\n",
       "      <td>-0.028794</td>\n",
       "      <td>0.084284</td>\n",
       "      <td>1.000000</td>\n",
       "      <td>0.981022</td>\n",
       "    </tr>\n",
       "    <tr>\n",
       "      <th>energy_price</th>\n",
       "      <td>-0.078516</td>\n",
       "      <td>-0.160594</td>\n",
       "      <td>-0.136470</td>\n",
       "      <td>-0.363586</td>\n",
       "      <td>0.231223</td>\n",
       "      <td>0.233247</td>\n",
       "      <td>-0.017256</td>\n",
       "      <td>-0.078994</td>\n",
       "      <td>-0.109135</td>\n",
       "      <td>0.055893</td>\n",
       "      <td>0.136466</td>\n",
       "      <td>-0.110750</td>\n",
       "      <td>-0.238755</td>\n",
       "      <td>0.064373</td>\n",
       "      <td>-0.042744</td>\n",
       "      <td>0.076281</td>\n",
       "      <td>0.981022</td>\n",
       "      <td>1.000000</td>\n",
       "    </tr>\n",
       "  </tbody>\n",
       "</table>\n",
       "</div>"
      ],
      "text/plain": [
       "                                                    precipitacion_guainia  \\\n",
       "precipitacion_guainia                                            1.000000   \n",
       "temp_ARAUCA                                                      0.061261   \n",
       "precipitacion_cesar                                              0.095274   \n",
       "brent_value                                                      0.133163   \n",
       "temp_ARCHIPIELAGO DE SAN ANDRES PROVIDENCIA Y S...               0.017146   \n",
       "temp_CAQUETA                                                    -0.150496   \n",
       "TRM                                                             -0.086251   \n",
       "precipitacion_bogota                                             0.058107   \n",
       "precipitacion_san andres providencia                             0.113770   \n",
       "precipitacion_amazonas                                          -0.060990   \n",
       "precipitacion_casanare                                           0.141844   \n",
       "precipitacion_guaviare                                           0.114005   \n",
       "precipitacion_magdalena                                          0.038178   \n",
       "precipitacion_vichada                                            0.064322   \n",
       "precipitacion_caqueta                                            0.145535   \n",
       "precipitacion_putumayo                                           0.053669   \n",
       "energy_price_lag_1                                              -0.078413   \n",
       "energy_price                                                    -0.078516   \n",
       "\n",
       "                                                    temp_ARAUCA  \\\n",
       "precipitacion_guainia                                  0.061261   \n",
       "temp_ARAUCA                                            1.000000   \n",
       "precipitacion_cesar                                    0.046196   \n",
       "brent_value                                           -0.127091   \n",
       "temp_ARCHIPIELAGO DE SAN ANDRES PROVIDENCIA Y S...     0.095159   \n",
       "temp_CAQUETA                                           0.182023   \n",
       "TRM                                                   -0.168558   \n",
       "precipitacion_bogota                                  -0.053426   \n",
       "precipitacion_san andres providencia                   0.002041   \n",
       "precipitacion_amazonas                                 0.087854   \n",
       "precipitacion_casanare                                -0.104227   \n",
       "precipitacion_guaviare                                -0.011584   \n",
       "precipitacion_magdalena                               -0.063021   \n",
       "precipitacion_vichada                                 -0.100798   \n",
       "precipitacion_caqueta                                  0.022060   \n",
       "precipitacion_putumayo                                -0.032050   \n",
       "energy_price_lag_1                                    -0.160170   \n",
       "energy_price                                          -0.160594   \n",
       "\n",
       "                                                    precipitacion_cesar  \\\n",
       "precipitacion_guainia                                          0.095274   \n",
       "temp_ARAUCA                                                    0.046196   \n",
       "precipitacion_cesar                                            1.000000   \n",
       "brent_value                                                    0.204447   \n",
       "temp_ARCHIPIELAGO DE SAN ANDRES PROVIDENCIA Y S...            -0.033574   \n",
       "temp_CAQUETA                                                  -0.068623   \n",
       "TRM                                                           -0.113215   \n",
       "precipitacion_bogota                                           0.109009   \n",
       "precipitacion_san andres providencia                           0.003234   \n",
       "precipitacion_amazonas                                        -0.015654   \n",
       "precipitacion_casanare                                         0.018671   \n",
       "precipitacion_guaviare                                         0.168250   \n",
       "precipitacion_magdalena                                        0.185898   \n",
       "precipitacion_vichada                                          0.015089   \n",
       "precipitacion_caqueta                                          0.085002   \n",
       "precipitacion_putumayo                                         0.005954   \n",
       "energy_price_lag_1                                            -0.133672   \n",
       "energy_price                                                  -0.136470   \n",
       "\n",
       "                                                    brent_value  \\\n",
       "precipitacion_guainia                                  0.133163   \n",
       "temp_ARAUCA                                           -0.127091   \n",
       "precipitacion_cesar                                    0.204447   \n",
       "brent_value                                            1.000000   \n",
       "temp_ARCHIPIELAGO DE SAN ANDRES PROVIDENCIA Y S...    -0.090662   \n",
       "temp_CAQUETA                                          -0.262866   \n",
       "TRM                                                   -0.328136   \n",
       "precipitacion_bogota                                   0.250227   \n",
       "precipitacion_san andres providencia                   0.135416   \n",
       "precipitacion_amazonas                                 0.012178   \n",
       "precipitacion_casanare                                 0.005500   \n",
       "precipitacion_guaviare                                 0.182742   \n",
       "precipitacion_magdalena                                0.361648   \n",
       "precipitacion_vichada                                 -0.014330   \n",
       "precipitacion_caqueta                                  0.048732   \n",
       "precipitacion_putumayo                                -0.157034   \n",
       "energy_price_lag_1                                    -0.366350   \n",
       "energy_price                                          -0.363586   \n",
       "\n",
       "                                                    temp_ARCHIPIELAGO DE SAN ANDRES PROVIDENCIA Y SANTA CATALINA  \\\n",
       "precipitacion_guainia                                                                        0.017146              \n",
       "temp_ARAUCA                                                                                  0.095159              \n",
       "precipitacion_cesar                                                                         -0.033574              \n",
       "brent_value                                                                                 -0.090662              \n",
       "temp_ARCHIPIELAGO DE SAN ANDRES PROVIDENCIA Y S...                                           1.000000              \n",
       "temp_CAQUETA                                                                                 0.141170              \n",
       "TRM                                                                                         -0.183483              \n",
       "precipitacion_bogota                                                                        -0.008025              \n",
       "precipitacion_san andres providencia                                                        -0.195152              \n",
       "precipitacion_amazonas                                                                      -0.057892              \n",
       "precipitacion_casanare                                                                       0.148221              \n",
       "precipitacion_guaviare                                                                      -0.017279              \n",
       "precipitacion_magdalena                                                                     -0.003035              \n",
       "precipitacion_vichada                                                                        0.122271              \n",
       "precipitacion_caqueta                                                                        0.020436              \n",
       "precipitacion_putumayo                                                                       0.015998              \n",
       "energy_price_lag_1                                                                           0.224531              \n",
       "energy_price                                                                                 0.231223              \n",
       "\n",
       "                                                    temp_CAQUETA       TRM  \\\n",
       "precipitacion_guainia                                  -0.150496 -0.086251   \n",
       "temp_ARAUCA                                             0.182023 -0.168558   \n",
       "precipitacion_cesar                                    -0.068623 -0.113215   \n",
       "brent_value                                            -0.262866 -0.328136   \n",
       "temp_ARCHIPIELAGO DE SAN ANDRES PROVIDENCIA Y S...      0.141170 -0.183483   \n",
       "temp_CAQUETA                                            1.000000  0.175222   \n",
       "TRM                                                     0.175222  1.000000   \n",
       "precipitacion_bogota                                   -0.119527 -0.046777   \n",
       "precipitacion_san andres providencia                   -0.107654 -0.072813   \n",
       "precipitacion_amazonas                                  0.057531 -0.016610   \n",
       "precipitacion_casanare                                 -0.163412 -0.043775   \n",
       "precipitacion_guaviare                                 -0.164676 -0.024023   \n",
       "precipitacion_magdalena                                -0.058575 -0.007488   \n",
       "precipitacion_vichada                                  -0.187662 -0.076597   \n",
       "precipitacion_caqueta                                  -0.297716 -0.011917   \n",
       "precipitacion_putumayo                                 -0.174746  0.030287   \n",
       "energy_price_lag_1                                      0.223119 -0.014880   \n",
       "energy_price                                            0.233247 -0.017256   \n",
       "\n",
       "                                                    precipitacion_bogota  \\\n",
       "precipitacion_guainia                                           0.058107   \n",
       "temp_ARAUCA                                                    -0.053426   \n",
       "precipitacion_cesar                                             0.109009   \n",
       "brent_value                                                     0.250227   \n",
       "temp_ARCHIPIELAGO DE SAN ANDRES PROVIDENCIA Y S...             -0.008025   \n",
       "temp_CAQUETA                                                   -0.119527   \n",
       "TRM                                                            -0.046777   \n",
       "precipitacion_bogota                                            1.000000   \n",
       "precipitacion_san andres providencia                           -0.014237   \n",
       "precipitacion_amazonas                                          0.104938   \n",
       "precipitacion_casanare                                          0.117512   \n",
       "precipitacion_guaviare                                          0.215049   \n",
       "precipitacion_magdalena                                         0.243750   \n",
       "precipitacion_vichada                                           0.036956   \n",
       "precipitacion_caqueta                                           0.103425   \n",
       "precipitacion_putumayo                                          0.031672   \n",
       "energy_price_lag_1                                             -0.064258   \n",
       "energy_price                                                   -0.078994   \n",
       "\n",
       "                                                    precipitacion_san andres providencia  \\\n",
       "precipitacion_guainia                                                           0.113770   \n",
       "temp_ARAUCA                                                                     0.002041   \n",
       "precipitacion_cesar                                                             0.003234   \n",
       "brent_value                                                                     0.135416   \n",
       "temp_ARCHIPIELAGO DE SAN ANDRES PROVIDENCIA Y S...                             -0.195152   \n",
       "temp_CAQUETA                                                                   -0.107654   \n",
       "TRM                                                                            -0.072813   \n",
       "precipitacion_bogota                                                           -0.014237   \n",
       "precipitacion_san andres providencia                                            1.000000   \n",
       "precipitacion_amazonas                                                         -0.062397   \n",
       "precipitacion_casanare                                                          0.042215   \n",
       "precipitacion_guaviare                                                          0.133882   \n",
       "precipitacion_magdalena                                                         0.078084   \n",
       "precipitacion_vichada                                                           0.070174   \n",
       "precipitacion_caqueta                                                           0.127337   \n",
       "precipitacion_putumayo                                                          0.062800   \n",
       "energy_price_lag_1                                                             -0.108681   \n",
       "energy_price                                                                   -0.109135   \n",
       "\n",
       "                                                    precipitacion_amazonas  \\\n",
       "precipitacion_guainia                                            -0.060990   \n",
       "temp_ARAUCA                                                       0.087854   \n",
       "precipitacion_cesar                                              -0.015654   \n",
       "brent_value                                                       0.012178   \n",
       "temp_ARCHIPIELAGO DE SAN ANDRES PROVIDENCIA Y S...               -0.057892   \n",
       "temp_CAQUETA                                                      0.057531   \n",
       "TRM                                                              -0.016610   \n",
       "precipitacion_bogota                                              0.104938   \n",
       "precipitacion_san andres providencia                             -0.062397   \n",
       "precipitacion_amazonas                                            1.000000   \n",
       "precipitacion_casanare                                           -0.013944   \n",
       "precipitacion_guaviare                                            0.042756   \n",
       "precipitacion_magdalena                                          -0.000225   \n",
       "precipitacion_vichada                                             0.007979   \n",
       "precipitacion_caqueta                                            -0.024298   \n",
       "precipitacion_putumayo                                           -0.002941   \n",
       "energy_price_lag_1                                                0.058035   \n",
       "energy_price                                                      0.055893   \n",
       "\n",
       "                                                    precipitacion_casanare  \\\n",
       "precipitacion_guainia                                             0.141844   \n",
       "temp_ARAUCA                                                      -0.104227   \n",
       "precipitacion_cesar                                               0.018671   \n",
       "brent_value                                                       0.005500   \n",
       "temp_ARCHIPIELAGO DE SAN ANDRES PROVIDENCIA Y S...                0.148221   \n",
       "temp_CAQUETA                                                     -0.163412   \n",
       "TRM                                                              -0.043775   \n",
       "precipitacion_bogota                                              0.117512   \n",
       "precipitacion_san andres providencia                              0.042215   \n",
       "precipitacion_amazonas                                           -0.013944   \n",
       "precipitacion_casanare                                            1.000000   \n",
       "precipitacion_guaviare                                            0.223168   \n",
       "precipitacion_magdalena                                           0.123362   \n",
       "precipitacion_vichada                                             0.258984   \n",
       "precipitacion_caqueta                                             0.228872   \n",
       "precipitacion_putumayo                                            0.155049   \n",
       "energy_price_lag_1                                                0.140932   \n",
       "energy_price                                                      0.136466   \n",
       "\n",
       "                                                    precipitacion_guaviare  \\\n",
       "precipitacion_guainia                                             0.114005   \n",
       "temp_ARAUCA                                                      -0.011584   \n",
       "precipitacion_cesar                                               0.168250   \n",
       "brent_value                                                       0.182742   \n",
       "temp_ARCHIPIELAGO DE SAN ANDRES PROVIDENCIA Y S...               -0.017279   \n",
       "temp_CAQUETA                                                     -0.164676   \n",
       "TRM                                                              -0.024023   \n",
       "precipitacion_bogota                                              0.215049   \n",
       "precipitacion_san andres providencia                              0.133882   \n",
       "precipitacion_amazonas                                            0.042756   \n",
       "precipitacion_casanare                                            0.223168   \n",
       "precipitacion_guaviare                                            1.000000   \n",
       "precipitacion_magdalena                                           0.259762   \n",
       "precipitacion_vichada                                             0.056771   \n",
       "precipitacion_caqueta                                             0.222458   \n",
       "precipitacion_putumayo                                            0.112019   \n",
       "energy_price_lag_1                                               -0.112851   \n",
       "energy_price                                                     -0.110750   \n",
       "\n",
       "                                                    precipitacion_magdalena  \\\n",
       "precipitacion_guainia                                              0.038178   \n",
       "temp_ARAUCA                                                       -0.063021   \n",
       "precipitacion_cesar                                                0.185898   \n",
       "brent_value                                                        0.361648   \n",
       "temp_ARCHIPIELAGO DE SAN ANDRES PROVIDENCIA Y S...                -0.003035   \n",
       "temp_CAQUETA                                                      -0.058575   \n",
       "TRM                                                               -0.007488   \n",
       "precipitacion_bogota                                               0.243750   \n",
       "precipitacion_san andres providencia                               0.078084   \n",
       "precipitacion_amazonas                                            -0.000225   \n",
       "precipitacion_casanare                                             0.123362   \n",
       "precipitacion_guaviare                                             0.259762   \n",
       "precipitacion_magdalena                                            1.000000   \n",
       "precipitacion_vichada                                              0.007996   \n",
       "precipitacion_caqueta                                              0.112019   \n",
       "precipitacion_putumayo                                            -0.034144   \n",
       "energy_price_lag_1                                                -0.235261   \n",
       "energy_price                                                      -0.238755   \n",
       "\n",
       "                                                    precipitacion_vichada  \\\n",
       "precipitacion_guainia                                            0.064322   \n",
       "temp_ARAUCA                                                     -0.100798   \n",
       "precipitacion_cesar                                              0.015089   \n",
       "brent_value                                                     -0.014330   \n",
       "temp_ARCHIPIELAGO DE SAN ANDRES PROVIDENCIA Y S...               0.122271   \n",
       "temp_CAQUETA                                                    -0.187662   \n",
       "TRM                                                             -0.076597   \n",
       "precipitacion_bogota                                             0.036956   \n",
       "precipitacion_san andres providencia                             0.070174   \n",
       "precipitacion_amazonas                                           0.007979   \n",
       "precipitacion_casanare                                           0.258984   \n",
       "precipitacion_guaviare                                           0.056771   \n",
       "precipitacion_magdalena                                          0.007996   \n",
       "precipitacion_vichada                                            1.000000   \n",
       "precipitacion_caqueta                                            0.118293   \n",
       "precipitacion_putumayo                                           0.110634   \n",
       "energy_price_lag_1                                               0.073869   \n",
       "energy_price                                                     0.064373   \n",
       "\n",
       "                                                    precipitacion_caqueta  \\\n",
       "precipitacion_guainia                                            0.145535   \n",
       "temp_ARAUCA                                                      0.022060   \n",
       "precipitacion_cesar                                              0.085002   \n",
       "brent_value                                                      0.048732   \n",
       "temp_ARCHIPIELAGO DE SAN ANDRES PROVIDENCIA Y S...               0.020436   \n",
       "temp_CAQUETA                                                    -0.297716   \n",
       "TRM                                                             -0.011917   \n",
       "precipitacion_bogota                                             0.103425   \n",
       "precipitacion_san andres providencia                             0.127337   \n",
       "precipitacion_amazonas                                          -0.024298   \n",
       "precipitacion_casanare                                           0.228872   \n",
       "precipitacion_guaviare                                           0.222458   \n",
       "precipitacion_magdalena                                          0.112019   \n",
       "precipitacion_vichada                                            0.118293   \n",
       "precipitacion_caqueta                                            1.000000   \n",
       "precipitacion_putumayo                                           0.297830   \n",
       "energy_price_lag_1                                              -0.028794   \n",
       "energy_price                                                    -0.042744   \n",
       "\n",
       "                                                    precipitacion_putumayo  \\\n",
       "precipitacion_guainia                                             0.053669   \n",
       "temp_ARAUCA                                                      -0.032050   \n",
       "precipitacion_cesar                                               0.005954   \n",
       "brent_value                                                      -0.157034   \n",
       "temp_ARCHIPIELAGO DE SAN ANDRES PROVIDENCIA Y S...                0.015998   \n",
       "temp_CAQUETA                                                     -0.174746   \n",
       "TRM                                                               0.030287   \n",
       "precipitacion_bogota                                              0.031672   \n",
       "precipitacion_san andres providencia                              0.062800   \n",
       "precipitacion_amazonas                                           -0.002941   \n",
       "precipitacion_casanare                                            0.155049   \n",
       "precipitacion_guaviare                                            0.112019   \n",
       "precipitacion_magdalena                                          -0.034144   \n",
       "precipitacion_vichada                                             0.110634   \n",
       "precipitacion_caqueta                                             0.297830   \n",
       "precipitacion_putumayo                                            1.000000   \n",
       "energy_price_lag_1                                                0.084284   \n",
       "energy_price                                                      0.076281   \n",
       "\n",
       "                                                    energy_price_lag_1  \\\n",
       "precipitacion_guainia                                        -0.078413   \n",
       "temp_ARAUCA                                                  -0.160170   \n",
       "precipitacion_cesar                                          -0.133672   \n",
       "brent_value                                                  -0.366350   \n",
       "temp_ARCHIPIELAGO DE SAN ANDRES PROVIDENCIA Y S...            0.224531   \n",
       "temp_CAQUETA                                                  0.223119   \n",
       "TRM                                                          -0.014880   \n",
       "precipitacion_bogota                                         -0.064258   \n",
       "precipitacion_san andres providencia                         -0.108681   \n",
       "precipitacion_amazonas                                        0.058035   \n",
       "precipitacion_casanare                                        0.140932   \n",
       "precipitacion_guaviare                                       -0.112851   \n",
       "precipitacion_magdalena                                      -0.235261   \n",
       "precipitacion_vichada                                         0.073869   \n",
       "precipitacion_caqueta                                        -0.028794   \n",
       "precipitacion_putumayo                                        0.084284   \n",
       "energy_price_lag_1                                            1.000000   \n",
       "energy_price                                                  0.981022   \n",
       "\n",
       "                                                    energy_price  \n",
       "precipitacion_guainia                                  -0.078516  \n",
       "temp_ARAUCA                                            -0.160594  \n",
       "precipitacion_cesar                                    -0.136470  \n",
       "brent_value                                            -0.363586  \n",
       "temp_ARCHIPIELAGO DE SAN ANDRES PROVIDENCIA Y S...      0.231223  \n",
       "temp_CAQUETA                                            0.233247  \n",
       "TRM                                                    -0.017256  \n",
       "precipitacion_bogota                                   -0.078994  \n",
       "precipitacion_san andres providencia                   -0.109135  \n",
       "precipitacion_amazonas                                  0.055893  \n",
       "precipitacion_casanare                                  0.136466  \n",
       "precipitacion_guaviare                                 -0.110750  \n",
       "precipitacion_magdalena                                -0.238755  \n",
       "precipitacion_vichada                                   0.064373  \n",
       "precipitacion_caqueta                                  -0.042744  \n",
       "precipitacion_putumayo                                  0.076281  \n",
       "energy_price_lag_1                                      0.981022  \n",
       "energy_price                                            1.000000  "
      ]
     },
     "execution_count": 20,
     "metadata": {},
     "output_type": "execute_result"
    }
   ],
   "source": [
    "numeric_columns = df_selected_variables_forward.select_dtypes(\n",
    "    include=[\"float64\", \"int64\"]\n",
    ")\n",
    "correlation_matrix = numeric_columns.corr()\n",
    "correlation_matrix"
   ]
  }
 ],
 "metadata": {
  "kernelspec": {
   "display_name": "Proyecto-Integrador-Semestre1-ERzOjjfT",
   "language": "python",
   "name": "python3"
  },
  "language_info": {
   "codemirror_mode": {
    "name": "ipython",
    "version": 3
   },
   "file_extension": ".py",
   "mimetype": "text/x-python",
   "name": "python",
   "nbconvert_exporter": "python",
   "pygments_lexer": "ipython3",
   "version": "3.11.5"
  }
 },
 "nbformat": 4,
 "nbformat_minor": 2
}
