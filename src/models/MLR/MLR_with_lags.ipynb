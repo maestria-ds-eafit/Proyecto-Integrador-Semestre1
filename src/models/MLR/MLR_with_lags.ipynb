{
 "cells": [
  {
   "cell_type": "code",
   "execution_count": 10,
   "metadata": {},
   "outputs": [],
   "source": [
    "import sys\n",
    "\n",
    "sys.path.insert(0, \"..\")"
   ]
  },
  {
   "cell_type": "code",
   "execution_count": 11,
   "metadata": {},
   "outputs": [],
   "source": [
    "import pandas as pd\n",
    "from mlr import perform_mlr\n",
    "import plotly.graph_objects as go\n",
    "from forward_backward import forward_selection, backward_selection\n",
    "import plotly.express as px"
   ]
  },
  {
   "cell_type": "code",
   "execution_count": 12,
   "metadata": {},
   "outputs": [],
   "source": [
    "df = pd.read_csv(\"../../processed_tables/merged_standardized.csv\")"
   ]
  },
  {
   "cell_type": "markdown",
   "metadata": {},
   "source": [
    "## Regresión lineal múltiple\n",
    "\n",
    "Usando `statsmodels` se puede realizar una regresión lineal. Nuestro módulo se encarga de hacer todo este análisis.\n"
   ]
  },
  {
   "cell_type": "code",
   "execution_count": 13,
   "metadata": {},
   "outputs": [
    {
     "name": "stdout",
     "output_type": "stream",
     "text": [
      "Lags: 1\n",
      "Mean Squared Error on Test Data: 4778.562363648315\n",
      "Mean Absolute Percentage Error: 0.09907461574794403\n",
      "-----------------------\n",
      "Lags: 2\n",
      "Mean Squared Error on Test Data: 4786.332444181156\n",
      "Mean Absolute Percentage Error: 0.10031577056964938\n",
      "-----------------------\n",
      "Lags: 3\n",
      "Mean Squared Error on Test Data: 4770.522412238567\n",
      "Mean Absolute Percentage Error: 0.09837102875040102\n",
      "-----------------------\n",
      "Lags: 4\n",
      "Mean Squared Error on Test Data: 4772.759086273159\n",
      "Mean Absolute Percentage Error: 0.098268196371518\n",
      "-----------------------\n",
      "Lags: 5\n",
      "Mean Squared Error on Test Data: 4941.182555505074\n",
      "Mean Absolute Percentage Error: 0.10095231758660823\n",
      "-----------------------\n",
      "Lags: 6\n",
      "Mean Squared Error on Test Data: 5069.357787957889\n",
      "Mean Absolute Percentage Error: 0.10254645265701369\n",
      "-----------------------\n",
      "Lags: 7\n",
      "Mean Squared Error on Test Data: 5122.493808012305\n",
      "Mean Absolute Percentage Error: 0.10303449878803168\n",
      "-----------------------\n",
      "Lags: 8\n",
      "Mean Squared Error on Test Data: 5424.879888329336\n",
      "Mean Absolute Percentage Error: 0.10578425025320488\n",
      "-----------------------\n",
      "Lags: 9\n",
      "Mean Squared Error on Test Data: 5309.327807253147\n",
      "Mean Absolute Percentage Error: 0.10464025992958131\n",
      "-----------------------\n",
      "Lags: 10\n",
      "Mean Squared Error on Test Data: 5168.156535371968\n",
      "Mean Absolute Percentage Error: 0.1036560397756737\n",
      "-----------------------\n",
      "Lags: 11\n",
      "Mean Squared Error on Test Data: 5182.843429731671\n",
      "Mean Absolute Percentage Error: 0.10413659627186256\n",
      "-----------------------\n"
     ]
    }
   ],
   "source": [
    "mape_test = []\n",
    "mse_test = []\n",
    "\n",
    "for i in range(1, 12):\n",
    "    print(f\"Lags: {i}\")\n",
    "    results_i = perform_mlr({\"df\": df, \"lags\": i})\n",
    "    mape_i = results_i[\"mape_test\"]\n",
    "    mse_test_i = results_i[\"mse_test\"]\n",
    "    mape_test.append(mape_i)\n",
    "    mse_test.append(mse_test_i)\n",
    "    print(\"-----------------------\")"
   ]
  },
  {
   "cell_type": "code",
   "execution_count": 14,
   "metadata": {},
   "outputs": [
    {
     "data": {
      "application/vnd.plotly.v1+json": {
       "config": {
        "plotlyServerURL": "https://plot.ly"
       },
       "data": [
        {
         "hovertemplate": "lag=%{x}<br>mse_test=%{y}<extra></extra>",
         "legendgroup": "",
         "line": {
          "color": "#636efa",
          "dash": "solid"
         },
         "marker": {
          "symbol": "circle"
         },
         "mode": "lines",
         "name": "",
         "orientation": "v",
         "showlegend": false,
         "type": "scatter",
         "x": [
          1,
          2,
          3,
          4,
          5,
          6,
          7,
          8,
          9,
          10,
          11
         ],
         "xaxis": "x",
         "y": [
          4778.562363648315,
          4786.332444181156,
          4770.522412238567,
          4772.759086273159,
          4941.182555505074,
          5069.357787957889,
          5122.493808012305,
          5424.879888329336,
          5309.327807253147,
          5168.156535371968,
          5182.843429731671
         ],
         "yaxis": "y"
        }
       ],
       "layout": {
        "legend": {
         "tracegroupgap": 0
        },
        "template": {
         "data": {
          "bar": [
           {
            "error_x": {
             "color": "#2a3f5f"
            },
            "error_y": {
             "color": "#2a3f5f"
            },
            "marker": {
             "line": {
              "color": "#E5ECF6",
              "width": 0.5
             },
             "pattern": {
              "fillmode": "overlay",
              "size": 10,
              "solidity": 0.2
             }
            },
            "type": "bar"
           }
          ],
          "barpolar": [
           {
            "marker": {
             "line": {
              "color": "#E5ECF6",
              "width": 0.5
             },
             "pattern": {
              "fillmode": "overlay",
              "size": 10,
              "solidity": 0.2
             }
            },
            "type": "barpolar"
           }
          ],
          "carpet": [
           {
            "aaxis": {
             "endlinecolor": "#2a3f5f",
             "gridcolor": "white",
             "linecolor": "white",
             "minorgridcolor": "white",
             "startlinecolor": "#2a3f5f"
            },
            "baxis": {
             "endlinecolor": "#2a3f5f",
             "gridcolor": "white",
             "linecolor": "white",
             "minorgridcolor": "white",
             "startlinecolor": "#2a3f5f"
            },
            "type": "carpet"
           }
          ],
          "choropleth": [
           {
            "colorbar": {
             "outlinewidth": 0,
             "ticks": ""
            },
            "type": "choropleth"
           }
          ],
          "contour": [
           {
            "colorbar": {
             "outlinewidth": 0,
             "ticks": ""
            },
            "colorscale": [
             [
              0,
              "#0d0887"
             ],
             [
              0.1111111111111111,
              "#46039f"
             ],
             [
              0.2222222222222222,
              "#7201a8"
             ],
             [
              0.3333333333333333,
              "#9c179e"
             ],
             [
              0.4444444444444444,
              "#bd3786"
             ],
             [
              0.5555555555555556,
              "#d8576b"
             ],
             [
              0.6666666666666666,
              "#ed7953"
             ],
             [
              0.7777777777777778,
              "#fb9f3a"
             ],
             [
              0.8888888888888888,
              "#fdca26"
             ],
             [
              1,
              "#f0f921"
             ]
            ],
            "type": "contour"
           }
          ],
          "contourcarpet": [
           {
            "colorbar": {
             "outlinewidth": 0,
             "ticks": ""
            },
            "type": "contourcarpet"
           }
          ],
          "heatmap": [
           {
            "colorbar": {
             "outlinewidth": 0,
             "ticks": ""
            },
            "colorscale": [
             [
              0,
              "#0d0887"
             ],
             [
              0.1111111111111111,
              "#46039f"
             ],
             [
              0.2222222222222222,
              "#7201a8"
             ],
             [
              0.3333333333333333,
              "#9c179e"
             ],
             [
              0.4444444444444444,
              "#bd3786"
             ],
             [
              0.5555555555555556,
              "#d8576b"
             ],
             [
              0.6666666666666666,
              "#ed7953"
             ],
             [
              0.7777777777777778,
              "#fb9f3a"
             ],
             [
              0.8888888888888888,
              "#fdca26"
             ],
             [
              1,
              "#f0f921"
             ]
            ],
            "type": "heatmap"
           }
          ],
          "heatmapgl": [
           {
            "colorbar": {
             "outlinewidth": 0,
             "ticks": ""
            },
            "colorscale": [
             [
              0,
              "#0d0887"
             ],
             [
              0.1111111111111111,
              "#46039f"
             ],
             [
              0.2222222222222222,
              "#7201a8"
             ],
             [
              0.3333333333333333,
              "#9c179e"
             ],
             [
              0.4444444444444444,
              "#bd3786"
             ],
             [
              0.5555555555555556,
              "#d8576b"
             ],
             [
              0.6666666666666666,
              "#ed7953"
             ],
             [
              0.7777777777777778,
              "#fb9f3a"
             ],
             [
              0.8888888888888888,
              "#fdca26"
             ],
             [
              1,
              "#f0f921"
             ]
            ],
            "type": "heatmapgl"
           }
          ],
          "histogram": [
           {
            "marker": {
             "pattern": {
              "fillmode": "overlay",
              "size": 10,
              "solidity": 0.2
             }
            },
            "type": "histogram"
           }
          ],
          "histogram2d": [
           {
            "colorbar": {
             "outlinewidth": 0,
             "ticks": ""
            },
            "colorscale": [
             [
              0,
              "#0d0887"
             ],
             [
              0.1111111111111111,
              "#46039f"
             ],
             [
              0.2222222222222222,
              "#7201a8"
             ],
             [
              0.3333333333333333,
              "#9c179e"
             ],
             [
              0.4444444444444444,
              "#bd3786"
             ],
             [
              0.5555555555555556,
              "#d8576b"
             ],
             [
              0.6666666666666666,
              "#ed7953"
             ],
             [
              0.7777777777777778,
              "#fb9f3a"
             ],
             [
              0.8888888888888888,
              "#fdca26"
             ],
             [
              1,
              "#f0f921"
             ]
            ],
            "type": "histogram2d"
           }
          ],
          "histogram2dcontour": [
           {
            "colorbar": {
             "outlinewidth": 0,
             "ticks": ""
            },
            "colorscale": [
             [
              0,
              "#0d0887"
             ],
             [
              0.1111111111111111,
              "#46039f"
             ],
             [
              0.2222222222222222,
              "#7201a8"
             ],
             [
              0.3333333333333333,
              "#9c179e"
             ],
             [
              0.4444444444444444,
              "#bd3786"
             ],
             [
              0.5555555555555556,
              "#d8576b"
             ],
             [
              0.6666666666666666,
              "#ed7953"
             ],
             [
              0.7777777777777778,
              "#fb9f3a"
             ],
             [
              0.8888888888888888,
              "#fdca26"
             ],
             [
              1,
              "#f0f921"
             ]
            ],
            "type": "histogram2dcontour"
           }
          ],
          "mesh3d": [
           {
            "colorbar": {
             "outlinewidth": 0,
             "ticks": ""
            },
            "type": "mesh3d"
           }
          ],
          "parcoords": [
           {
            "line": {
             "colorbar": {
              "outlinewidth": 0,
              "ticks": ""
             }
            },
            "type": "parcoords"
           }
          ],
          "pie": [
           {
            "automargin": true,
            "type": "pie"
           }
          ],
          "scatter": [
           {
            "fillpattern": {
             "fillmode": "overlay",
             "size": 10,
             "solidity": 0.2
            },
            "type": "scatter"
           }
          ],
          "scatter3d": [
           {
            "line": {
             "colorbar": {
              "outlinewidth": 0,
              "ticks": ""
             }
            },
            "marker": {
             "colorbar": {
              "outlinewidth": 0,
              "ticks": ""
             }
            },
            "type": "scatter3d"
           }
          ],
          "scattercarpet": [
           {
            "marker": {
             "colorbar": {
              "outlinewidth": 0,
              "ticks": ""
             }
            },
            "type": "scattercarpet"
           }
          ],
          "scattergeo": [
           {
            "marker": {
             "colorbar": {
              "outlinewidth": 0,
              "ticks": ""
             }
            },
            "type": "scattergeo"
           }
          ],
          "scattergl": [
           {
            "marker": {
             "colorbar": {
              "outlinewidth": 0,
              "ticks": ""
             }
            },
            "type": "scattergl"
           }
          ],
          "scattermapbox": [
           {
            "marker": {
             "colorbar": {
              "outlinewidth": 0,
              "ticks": ""
             }
            },
            "type": "scattermapbox"
           }
          ],
          "scatterpolar": [
           {
            "marker": {
             "colorbar": {
              "outlinewidth": 0,
              "ticks": ""
             }
            },
            "type": "scatterpolar"
           }
          ],
          "scatterpolargl": [
           {
            "marker": {
             "colorbar": {
              "outlinewidth": 0,
              "ticks": ""
             }
            },
            "type": "scatterpolargl"
           }
          ],
          "scatterternary": [
           {
            "marker": {
             "colorbar": {
              "outlinewidth": 0,
              "ticks": ""
             }
            },
            "type": "scatterternary"
           }
          ],
          "surface": [
           {
            "colorbar": {
             "outlinewidth": 0,
             "ticks": ""
            },
            "colorscale": [
             [
              0,
              "#0d0887"
             ],
             [
              0.1111111111111111,
              "#46039f"
             ],
             [
              0.2222222222222222,
              "#7201a8"
             ],
             [
              0.3333333333333333,
              "#9c179e"
             ],
             [
              0.4444444444444444,
              "#bd3786"
             ],
             [
              0.5555555555555556,
              "#d8576b"
             ],
             [
              0.6666666666666666,
              "#ed7953"
             ],
             [
              0.7777777777777778,
              "#fb9f3a"
             ],
             [
              0.8888888888888888,
              "#fdca26"
             ],
             [
              1,
              "#f0f921"
             ]
            ],
            "type": "surface"
           }
          ],
          "table": [
           {
            "cells": {
             "fill": {
              "color": "#EBF0F8"
             },
             "line": {
              "color": "white"
             }
            },
            "header": {
             "fill": {
              "color": "#C8D4E3"
             },
             "line": {
              "color": "white"
             }
            },
            "type": "table"
           }
          ]
         },
         "layout": {
          "annotationdefaults": {
           "arrowcolor": "#2a3f5f",
           "arrowhead": 0,
           "arrowwidth": 1
          },
          "autotypenumbers": "strict",
          "coloraxis": {
           "colorbar": {
            "outlinewidth": 0,
            "ticks": ""
           }
          },
          "colorscale": {
           "diverging": [
            [
             0,
             "#8e0152"
            ],
            [
             0.1,
             "#c51b7d"
            ],
            [
             0.2,
             "#de77ae"
            ],
            [
             0.3,
             "#f1b6da"
            ],
            [
             0.4,
             "#fde0ef"
            ],
            [
             0.5,
             "#f7f7f7"
            ],
            [
             0.6,
             "#e6f5d0"
            ],
            [
             0.7,
             "#b8e186"
            ],
            [
             0.8,
             "#7fbc41"
            ],
            [
             0.9,
             "#4d9221"
            ],
            [
             1,
             "#276419"
            ]
           ],
           "sequential": [
            [
             0,
             "#0d0887"
            ],
            [
             0.1111111111111111,
             "#46039f"
            ],
            [
             0.2222222222222222,
             "#7201a8"
            ],
            [
             0.3333333333333333,
             "#9c179e"
            ],
            [
             0.4444444444444444,
             "#bd3786"
            ],
            [
             0.5555555555555556,
             "#d8576b"
            ],
            [
             0.6666666666666666,
             "#ed7953"
            ],
            [
             0.7777777777777778,
             "#fb9f3a"
            ],
            [
             0.8888888888888888,
             "#fdca26"
            ],
            [
             1,
             "#f0f921"
            ]
           ],
           "sequentialminus": [
            [
             0,
             "#0d0887"
            ],
            [
             0.1111111111111111,
             "#46039f"
            ],
            [
             0.2222222222222222,
             "#7201a8"
            ],
            [
             0.3333333333333333,
             "#9c179e"
            ],
            [
             0.4444444444444444,
             "#bd3786"
            ],
            [
             0.5555555555555556,
             "#d8576b"
            ],
            [
             0.6666666666666666,
             "#ed7953"
            ],
            [
             0.7777777777777778,
             "#fb9f3a"
            ],
            [
             0.8888888888888888,
             "#fdca26"
            ],
            [
             1,
             "#f0f921"
            ]
           ]
          },
          "colorway": [
           "#636efa",
           "#EF553B",
           "#00cc96",
           "#ab63fa",
           "#FFA15A",
           "#19d3f3",
           "#FF6692",
           "#B6E880",
           "#FF97FF",
           "#FECB52"
          ],
          "font": {
           "color": "#2a3f5f"
          },
          "geo": {
           "bgcolor": "white",
           "lakecolor": "white",
           "landcolor": "#E5ECF6",
           "showlakes": true,
           "showland": true,
           "subunitcolor": "white"
          },
          "hoverlabel": {
           "align": "left"
          },
          "hovermode": "closest",
          "mapbox": {
           "style": "light"
          },
          "paper_bgcolor": "white",
          "plot_bgcolor": "#E5ECF6",
          "polar": {
           "angularaxis": {
            "gridcolor": "white",
            "linecolor": "white",
            "ticks": ""
           },
           "bgcolor": "#E5ECF6",
           "radialaxis": {
            "gridcolor": "white",
            "linecolor": "white",
            "ticks": ""
           }
          },
          "scene": {
           "xaxis": {
            "backgroundcolor": "#E5ECF6",
            "gridcolor": "white",
            "gridwidth": 2,
            "linecolor": "white",
            "showbackground": true,
            "ticks": "",
            "zerolinecolor": "white"
           },
           "yaxis": {
            "backgroundcolor": "#E5ECF6",
            "gridcolor": "white",
            "gridwidth": 2,
            "linecolor": "white",
            "showbackground": true,
            "ticks": "",
            "zerolinecolor": "white"
           },
           "zaxis": {
            "backgroundcolor": "#E5ECF6",
            "gridcolor": "white",
            "gridwidth": 2,
            "linecolor": "white",
            "showbackground": true,
            "ticks": "",
            "zerolinecolor": "white"
           }
          },
          "shapedefaults": {
           "line": {
            "color": "#2a3f5f"
           }
          },
          "ternary": {
           "aaxis": {
            "gridcolor": "white",
            "linecolor": "white",
            "ticks": ""
           },
           "baxis": {
            "gridcolor": "white",
            "linecolor": "white",
            "ticks": ""
           },
           "bgcolor": "#E5ECF6",
           "caxis": {
            "gridcolor": "white",
            "linecolor": "white",
            "ticks": ""
           }
          },
          "title": {
           "x": 0.05
          },
          "xaxis": {
           "automargin": true,
           "gridcolor": "white",
           "linecolor": "white",
           "ticks": "",
           "title": {
            "standoff": 15
           },
           "zerolinecolor": "white",
           "zerolinewidth": 2
          },
          "yaxis": {
           "automargin": true,
           "gridcolor": "white",
           "linecolor": "white",
           "ticks": "",
           "title": {
            "standoff": 15
           },
           "zerolinecolor": "white",
           "zerolinewidth": 2
          }
         }
        },
        "title": {
         "text": "MSE de la data de test vs Lags"
        },
        "xaxis": {
         "anchor": "y",
         "domain": [
          0,
          1
         ],
         "title": {
          "text": "lag"
         }
        },
        "yaxis": {
         "anchor": "x",
         "domain": [
          0,
          1
         ],
         "title": {
          "text": "mse_test"
         }
        }
       }
      }
     },
     "metadata": {},
     "output_type": "display_data"
    }
   ],
   "source": [
    "df_pruebas = pd.DataFrame(\n",
    "    {\"lag\": list(range(1, 12)), \"mse_test\": mse_test, \"mape_test\": mape_test}\n",
    ")\n",
    "\n",
    "fig_mse = px.line(\n",
    "    df_pruebas, x=\"lag\", y=\"mse_test\", title=\"MSE de la data de test vs Lags\"\n",
    ")\n",
    "\n",
    "fig_mse.show()"
   ]
  },
  {
   "cell_type": "code",
   "execution_count": 15,
   "metadata": {},
   "outputs": [
    {
     "data": {
      "application/vnd.plotly.v1+json": {
       "config": {
        "plotlyServerURL": "https://plot.ly"
       },
       "data": [
        {
         "hovertemplate": "lag=%{x}<br>mape_test=%{y}<extra></extra>",
         "legendgroup": "",
         "line": {
          "color": "#636efa",
          "dash": "solid"
         },
         "marker": {
          "symbol": "circle"
         },
         "mode": "lines",
         "name": "",
         "orientation": "v",
         "showlegend": false,
         "type": "scatter",
         "x": [
          1,
          2,
          3,
          4,
          5,
          6,
          7,
          8,
          9,
          10,
          11
         ],
         "xaxis": "x",
         "y": [
          0.09907461574794403,
          0.10031577056964938,
          0.09837102875040102,
          0.098268196371518,
          0.10095231758660823,
          0.10254645265701369,
          0.10303449878803168,
          0.10578425025320488,
          0.10464025992958131,
          0.1036560397756737,
          0.10413659627186256
         ],
         "yaxis": "y"
        }
       ],
       "layout": {
        "legend": {
         "tracegroupgap": 0
        },
        "template": {
         "data": {
          "bar": [
           {
            "error_x": {
             "color": "#2a3f5f"
            },
            "error_y": {
             "color": "#2a3f5f"
            },
            "marker": {
             "line": {
              "color": "#E5ECF6",
              "width": 0.5
             },
             "pattern": {
              "fillmode": "overlay",
              "size": 10,
              "solidity": 0.2
             }
            },
            "type": "bar"
           }
          ],
          "barpolar": [
           {
            "marker": {
             "line": {
              "color": "#E5ECF6",
              "width": 0.5
             },
             "pattern": {
              "fillmode": "overlay",
              "size": 10,
              "solidity": 0.2
             }
            },
            "type": "barpolar"
           }
          ],
          "carpet": [
           {
            "aaxis": {
             "endlinecolor": "#2a3f5f",
             "gridcolor": "white",
             "linecolor": "white",
             "minorgridcolor": "white",
             "startlinecolor": "#2a3f5f"
            },
            "baxis": {
             "endlinecolor": "#2a3f5f",
             "gridcolor": "white",
             "linecolor": "white",
             "minorgridcolor": "white",
             "startlinecolor": "#2a3f5f"
            },
            "type": "carpet"
           }
          ],
          "choropleth": [
           {
            "colorbar": {
             "outlinewidth": 0,
             "ticks": ""
            },
            "type": "choropleth"
           }
          ],
          "contour": [
           {
            "colorbar": {
             "outlinewidth": 0,
             "ticks": ""
            },
            "colorscale": [
             [
              0,
              "#0d0887"
             ],
             [
              0.1111111111111111,
              "#46039f"
             ],
             [
              0.2222222222222222,
              "#7201a8"
             ],
             [
              0.3333333333333333,
              "#9c179e"
             ],
             [
              0.4444444444444444,
              "#bd3786"
             ],
             [
              0.5555555555555556,
              "#d8576b"
             ],
             [
              0.6666666666666666,
              "#ed7953"
             ],
             [
              0.7777777777777778,
              "#fb9f3a"
             ],
             [
              0.8888888888888888,
              "#fdca26"
             ],
             [
              1,
              "#f0f921"
             ]
            ],
            "type": "contour"
           }
          ],
          "contourcarpet": [
           {
            "colorbar": {
             "outlinewidth": 0,
             "ticks": ""
            },
            "type": "contourcarpet"
           }
          ],
          "heatmap": [
           {
            "colorbar": {
             "outlinewidth": 0,
             "ticks": ""
            },
            "colorscale": [
             [
              0,
              "#0d0887"
             ],
             [
              0.1111111111111111,
              "#46039f"
             ],
             [
              0.2222222222222222,
              "#7201a8"
             ],
             [
              0.3333333333333333,
              "#9c179e"
             ],
             [
              0.4444444444444444,
              "#bd3786"
             ],
             [
              0.5555555555555556,
              "#d8576b"
             ],
             [
              0.6666666666666666,
              "#ed7953"
             ],
             [
              0.7777777777777778,
              "#fb9f3a"
             ],
             [
              0.8888888888888888,
              "#fdca26"
             ],
             [
              1,
              "#f0f921"
             ]
            ],
            "type": "heatmap"
           }
          ],
          "heatmapgl": [
           {
            "colorbar": {
             "outlinewidth": 0,
             "ticks": ""
            },
            "colorscale": [
             [
              0,
              "#0d0887"
             ],
             [
              0.1111111111111111,
              "#46039f"
             ],
             [
              0.2222222222222222,
              "#7201a8"
             ],
             [
              0.3333333333333333,
              "#9c179e"
             ],
             [
              0.4444444444444444,
              "#bd3786"
             ],
             [
              0.5555555555555556,
              "#d8576b"
             ],
             [
              0.6666666666666666,
              "#ed7953"
             ],
             [
              0.7777777777777778,
              "#fb9f3a"
             ],
             [
              0.8888888888888888,
              "#fdca26"
             ],
             [
              1,
              "#f0f921"
             ]
            ],
            "type": "heatmapgl"
           }
          ],
          "histogram": [
           {
            "marker": {
             "pattern": {
              "fillmode": "overlay",
              "size": 10,
              "solidity": 0.2
             }
            },
            "type": "histogram"
           }
          ],
          "histogram2d": [
           {
            "colorbar": {
             "outlinewidth": 0,
             "ticks": ""
            },
            "colorscale": [
             [
              0,
              "#0d0887"
             ],
             [
              0.1111111111111111,
              "#46039f"
             ],
             [
              0.2222222222222222,
              "#7201a8"
             ],
             [
              0.3333333333333333,
              "#9c179e"
             ],
             [
              0.4444444444444444,
              "#bd3786"
             ],
             [
              0.5555555555555556,
              "#d8576b"
             ],
             [
              0.6666666666666666,
              "#ed7953"
             ],
             [
              0.7777777777777778,
              "#fb9f3a"
             ],
             [
              0.8888888888888888,
              "#fdca26"
             ],
             [
              1,
              "#f0f921"
             ]
            ],
            "type": "histogram2d"
           }
          ],
          "histogram2dcontour": [
           {
            "colorbar": {
             "outlinewidth": 0,
             "ticks": ""
            },
            "colorscale": [
             [
              0,
              "#0d0887"
             ],
             [
              0.1111111111111111,
              "#46039f"
             ],
             [
              0.2222222222222222,
              "#7201a8"
             ],
             [
              0.3333333333333333,
              "#9c179e"
             ],
             [
              0.4444444444444444,
              "#bd3786"
             ],
             [
              0.5555555555555556,
              "#d8576b"
             ],
             [
              0.6666666666666666,
              "#ed7953"
             ],
             [
              0.7777777777777778,
              "#fb9f3a"
             ],
             [
              0.8888888888888888,
              "#fdca26"
             ],
             [
              1,
              "#f0f921"
             ]
            ],
            "type": "histogram2dcontour"
           }
          ],
          "mesh3d": [
           {
            "colorbar": {
             "outlinewidth": 0,
             "ticks": ""
            },
            "type": "mesh3d"
           }
          ],
          "parcoords": [
           {
            "line": {
             "colorbar": {
              "outlinewidth": 0,
              "ticks": ""
             }
            },
            "type": "parcoords"
           }
          ],
          "pie": [
           {
            "automargin": true,
            "type": "pie"
           }
          ],
          "scatter": [
           {
            "fillpattern": {
             "fillmode": "overlay",
             "size": 10,
             "solidity": 0.2
            },
            "type": "scatter"
           }
          ],
          "scatter3d": [
           {
            "line": {
             "colorbar": {
              "outlinewidth": 0,
              "ticks": ""
             }
            },
            "marker": {
             "colorbar": {
              "outlinewidth": 0,
              "ticks": ""
             }
            },
            "type": "scatter3d"
           }
          ],
          "scattercarpet": [
           {
            "marker": {
             "colorbar": {
              "outlinewidth": 0,
              "ticks": ""
             }
            },
            "type": "scattercarpet"
           }
          ],
          "scattergeo": [
           {
            "marker": {
             "colorbar": {
              "outlinewidth": 0,
              "ticks": ""
             }
            },
            "type": "scattergeo"
           }
          ],
          "scattergl": [
           {
            "marker": {
             "colorbar": {
              "outlinewidth": 0,
              "ticks": ""
             }
            },
            "type": "scattergl"
           }
          ],
          "scattermapbox": [
           {
            "marker": {
             "colorbar": {
              "outlinewidth": 0,
              "ticks": ""
             }
            },
            "type": "scattermapbox"
           }
          ],
          "scatterpolar": [
           {
            "marker": {
             "colorbar": {
              "outlinewidth": 0,
              "ticks": ""
             }
            },
            "type": "scatterpolar"
           }
          ],
          "scatterpolargl": [
           {
            "marker": {
             "colorbar": {
              "outlinewidth": 0,
              "ticks": ""
             }
            },
            "type": "scatterpolargl"
           }
          ],
          "scatterternary": [
           {
            "marker": {
             "colorbar": {
              "outlinewidth": 0,
              "ticks": ""
             }
            },
            "type": "scatterternary"
           }
          ],
          "surface": [
           {
            "colorbar": {
             "outlinewidth": 0,
             "ticks": ""
            },
            "colorscale": [
             [
              0,
              "#0d0887"
             ],
             [
              0.1111111111111111,
              "#46039f"
             ],
             [
              0.2222222222222222,
              "#7201a8"
             ],
             [
              0.3333333333333333,
              "#9c179e"
             ],
             [
              0.4444444444444444,
              "#bd3786"
             ],
             [
              0.5555555555555556,
              "#d8576b"
             ],
             [
              0.6666666666666666,
              "#ed7953"
             ],
             [
              0.7777777777777778,
              "#fb9f3a"
             ],
             [
              0.8888888888888888,
              "#fdca26"
             ],
             [
              1,
              "#f0f921"
             ]
            ],
            "type": "surface"
           }
          ],
          "table": [
           {
            "cells": {
             "fill": {
              "color": "#EBF0F8"
             },
             "line": {
              "color": "white"
             }
            },
            "header": {
             "fill": {
              "color": "#C8D4E3"
             },
             "line": {
              "color": "white"
             }
            },
            "type": "table"
           }
          ]
         },
         "layout": {
          "annotationdefaults": {
           "arrowcolor": "#2a3f5f",
           "arrowhead": 0,
           "arrowwidth": 1
          },
          "autotypenumbers": "strict",
          "coloraxis": {
           "colorbar": {
            "outlinewidth": 0,
            "ticks": ""
           }
          },
          "colorscale": {
           "diverging": [
            [
             0,
             "#8e0152"
            ],
            [
             0.1,
             "#c51b7d"
            ],
            [
             0.2,
             "#de77ae"
            ],
            [
             0.3,
             "#f1b6da"
            ],
            [
             0.4,
             "#fde0ef"
            ],
            [
             0.5,
             "#f7f7f7"
            ],
            [
             0.6,
             "#e6f5d0"
            ],
            [
             0.7,
             "#b8e186"
            ],
            [
             0.8,
             "#7fbc41"
            ],
            [
             0.9,
             "#4d9221"
            ],
            [
             1,
             "#276419"
            ]
           ],
           "sequential": [
            [
             0,
             "#0d0887"
            ],
            [
             0.1111111111111111,
             "#46039f"
            ],
            [
             0.2222222222222222,
             "#7201a8"
            ],
            [
             0.3333333333333333,
             "#9c179e"
            ],
            [
             0.4444444444444444,
             "#bd3786"
            ],
            [
             0.5555555555555556,
             "#d8576b"
            ],
            [
             0.6666666666666666,
             "#ed7953"
            ],
            [
             0.7777777777777778,
             "#fb9f3a"
            ],
            [
             0.8888888888888888,
             "#fdca26"
            ],
            [
             1,
             "#f0f921"
            ]
           ],
           "sequentialminus": [
            [
             0,
             "#0d0887"
            ],
            [
             0.1111111111111111,
             "#46039f"
            ],
            [
             0.2222222222222222,
             "#7201a8"
            ],
            [
             0.3333333333333333,
             "#9c179e"
            ],
            [
             0.4444444444444444,
             "#bd3786"
            ],
            [
             0.5555555555555556,
             "#d8576b"
            ],
            [
             0.6666666666666666,
             "#ed7953"
            ],
            [
             0.7777777777777778,
             "#fb9f3a"
            ],
            [
             0.8888888888888888,
             "#fdca26"
            ],
            [
             1,
             "#f0f921"
            ]
           ]
          },
          "colorway": [
           "#636efa",
           "#EF553B",
           "#00cc96",
           "#ab63fa",
           "#FFA15A",
           "#19d3f3",
           "#FF6692",
           "#B6E880",
           "#FF97FF",
           "#FECB52"
          ],
          "font": {
           "color": "#2a3f5f"
          },
          "geo": {
           "bgcolor": "white",
           "lakecolor": "white",
           "landcolor": "#E5ECF6",
           "showlakes": true,
           "showland": true,
           "subunitcolor": "white"
          },
          "hoverlabel": {
           "align": "left"
          },
          "hovermode": "closest",
          "mapbox": {
           "style": "light"
          },
          "paper_bgcolor": "white",
          "plot_bgcolor": "#E5ECF6",
          "polar": {
           "angularaxis": {
            "gridcolor": "white",
            "linecolor": "white",
            "ticks": ""
           },
           "bgcolor": "#E5ECF6",
           "radialaxis": {
            "gridcolor": "white",
            "linecolor": "white",
            "ticks": ""
           }
          },
          "scene": {
           "xaxis": {
            "backgroundcolor": "#E5ECF6",
            "gridcolor": "white",
            "gridwidth": 2,
            "linecolor": "white",
            "showbackground": true,
            "ticks": "",
            "zerolinecolor": "white"
           },
           "yaxis": {
            "backgroundcolor": "#E5ECF6",
            "gridcolor": "white",
            "gridwidth": 2,
            "linecolor": "white",
            "showbackground": true,
            "ticks": "",
            "zerolinecolor": "white"
           },
           "zaxis": {
            "backgroundcolor": "#E5ECF6",
            "gridcolor": "white",
            "gridwidth": 2,
            "linecolor": "white",
            "showbackground": true,
            "ticks": "",
            "zerolinecolor": "white"
           }
          },
          "shapedefaults": {
           "line": {
            "color": "#2a3f5f"
           }
          },
          "ternary": {
           "aaxis": {
            "gridcolor": "white",
            "linecolor": "white",
            "ticks": ""
           },
           "baxis": {
            "gridcolor": "white",
            "linecolor": "white",
            "ticks": ""
           },
           "bgcolor": "#E5ECF6",
           "caxis": {
            "gridcolor": "white",
            "linecolor": "white",
            "ticks": ""
           }
          },
          "title": {
           "x": 0.05
          },
          "xaxis": {
           "automargin": true,
           "gridcolor": "white",
           "linecolor": "white",
           "ticks": "",
           "title": {
            "standoff": 15
           },
           "zerolinecolor": "white",
           "zerolinewidth": 2
          },
          "yaxis": {
           "automargin": true,
           "gridcolor": "white",
           "linecolor": "white",
           "ticks": "",
           "title": {
            "standoff": 15
           },
           "zerolinecolor": "white",
           "zerolinewidth": 2
          }
         }
        },
        "title": {
         "text": "MAPE de la data de test vs Lags"
        },
        "xaxis": {
         "anchor": "y",
         "domain": [
          0,
          1
         ],
         "title": {
          "text": "lag"
         }
        },
        "yaxis": {
         "anchor": "x",
         "domain": [
          0,
          1
         ],
         "title": {
          "text": "mape_test"
         }
        }
       }
      }
     },
     "metadata": {},
     "output_type": "display_data"
    }
   ],
   "source": [
    "fig_mape = px.line(\n",
    "    df_pruebas, x=\"lag\", y=\"mape_test\", title=\"MAPE de la data de test vs Lags\"\n",
    ")\n",
    "\n",
    "fig_mape.show()"
   ]
  },
  {
   "cell_type": "markdown",
   "metadata": {},
   "source": [
    "Usando como métrica de elección el MAPE, vemos que el mejor modelo es con lag = 4\n"
   ]
  },
  {
   "cell_type": "code",
   "execution_count": 16,
   "metadata": {},
   "outputs": [
    {
     "name": "stdout",
     "output_type": "stream",
     "text": [
      "Mean Squared Error on Test Data: 4772.759086273159\n",
      "Mean Absolute Percentage Error: 0.098268196371518\n"
     ]
    }
   ],
   "source": [
    "fecha_corte = \"2023-07-01\"\n",
    "\n",
    "results = perform_mlr({\"df\": df, \"fecha_corte\": fecha_corte, \"lags\": 4})\n",
    "y_pred = results[\"y_pred\"]\n",
    "y_test = results[\"y_test\"]\n",
    "X_test_dates = results[\"X_test_dates\"]\n",
    "X_train = results[\"X_train\"]\n",
    "X_train_dates = results[\"X_train_dates\"]\n",
    "y_train = results[\"y_train\"]\n",
    "y_pred_train = results[\"y_pred_train\"]\n",
    "X_test = results[\"X_test\"]\n",
    "mse = results[\"mse_test\"]\n",
    "mape = results[\"mape_test\"]\n",
    "significant_variables = results[\"significant_variables\"]\n",
    "df_with_lags = results[\"df_with_lags\"]"
   ]
  },
  {
   "cell_type": "code",
   "execution_count": 17,
   "metadata": {},
   "outputs": [],
   "source": [
    "significant_variables.remove(\"const\")\n",
    "significant_variables.append(\"Date\")\n",
    "significant_variables.append(\"energy_price\")"
   ]
  },
  {
   "cell_type": "markdown",
   "metadata": {},
   "source": [
    "## MLR with selected variables\n"
   ]
  },
  {
   "cell_type": "code",
   "execution_count": 18,
   "metadata": {},
   "outputs": [
    {
     "name": "stdout",
     "output_type": "stream",
     "text": [
      "Mean Squared Error on Test Data: 4754.938830279311\n",
      "Mean Absolute Percentage Error: 0.09923206234780495\n"
     ]
    }
   ],
   "source": [
    "# Selecciona las columnas significativas del DataFrame original\n",
    "df_selected_variables = df_with_lags[significant_variables].copy()\n",
    "\n",
    "fecha_corte = \"2023-07-01\"\n",
    "\n",
    "results = perform_mlr(\n",
    "    {\"df\": df_selected_variables, \"fecha_corte\": fecha_corte, \"lags\": 4}\n",
    ")\n",
    "mse_MRL_selection = results[\"mse_test\"]\n",
    "mape_MRL_selection = results[\"mape_test\"]"
   ]
  },
  {
   "cell_type": "markdown",
   "metadata": {},
   "source": [
    "## Forward selection\n"
   ]
  },
  {
   "cell_type": "code",
   "execution_count": 19,
   "metadata": {},
   "outputs": [
    {
     "name": "stdout",
     "output_type": "stream",
     "text": [
      "Forward Selection Result: ['precipitacion_amazonas', 'precipitacion_boyaca', 'precipitacion_casanare', 'precipitacion_cauca', 'precipitacion_cesar', 'precipitacion_cordoba', 'precipitacion_guainia', 'precipitacion_guaviare', 'precipitacion_huila', 'precipitacion_la guajira', 'precipitacion_putumayo', 'precipitacion_quindio', 'precipitacion_san andres providencia', 'precipitacion_valle del cauca', 'precipitacion_vichada', 'precipitacion_departamentos_represa', 'temp_ARAUCA', 'temp_ARCHIPIELAGO DE SAN ANDRES PROVIDENCIA Y SANTA CATALINA', 'temp_ATLANTICO', 'temp_BOGOTA', 'temp_BOLIVAR', 'temp_BOYACA', 'temp_CALDAS', 'temp_CAQUETA', 'temp_CASANARE', 'temp_CAUCA', 'temp_CESAR', 'temp_CHOCO', 'temp_GUAVIARE', 'temp_HUILA', 'temp_MAGDALENA', 'temp_META', 'temp_PUTUMAYO', 'temp_SANTANDER', 'temp_SUCRE', 'TRM', 'energy_price_lag_1', 'Date', 'energy_price']\n"
     ]
    }
   ],
   "source": [
    "all_features = list(df.columns[:])\n",
    "selected_features_forward = forward_selection(X_train, y_train)\n",
    "print(\"Forward Selection Result:\", selected_features_forward)"
   ]
  },
  {
   "cell_type": "code",
   "execution_count": 20,
   "metadata": {},
   "outputs": [
    {
     "name": "stdout",
     "output_type": "stream",
     "text": [
      "39\n",
      "Forward Selection Result: ['precipitacion_amazonas', 'precipitacion_boyaca', 'precipitacion_casanare', 'precipitacion_cauca', 'precipitacion_cesar', 'precipitacion_cordoba', 'precipitacion_guainia', 'precipitacion_guaviare', 'precipitacion_huila', 'precipitacion_la guajira', 'precipitacion_putumayo', 'precipitacion_quindio', 'precipitacion_san andres providencia', 'precipitacion_valle del cauca', 'precipitacion_vichada', 'precipitacion_departamentos_represa', 'temp_ARAUCA', 'temp_ARCHIPIELAGO DE SAN ANDRES PROVIDENCIA Y SANTA CATALINA', 'temp_ATLANTICO', 'temp_BOGOTA', 'temp_BOLIVAR', 'temp_BOYACA', 'temp_CALDAS', 'temp_CAQUETA', 'temp_CASANARE', 'temp_CAUCA', 'temp_CESAR', 'temp_CHOCO', 'temp_GUAVIARE', 'temp_HUILA', 'temp_MAGDALENA', 'temp_META', 'temp_PUTUMAYO', 'temp_SANTANDER', 'temp_SUCRE', 'TRM', 'energy_price_lag_1', 'Date', 'energy_price']\n"
     ]
    }
   ],
   "source": [
    "print(len(selected_features_forward))\n",
    "print(\"Forward Selection Result:\", selected_features_forward)"
   ]
  },
  {
   "cell_type": "code",
   "execution_count": 21,
   "metadata": {},
   "outputs": [
    {
     "name": "stdout",
     "output_type": "stream",
     "text": [
      "Mean Squared Error on Test Data: 4706.253505340503\n",
      "Mean Absolute Percentage Error: 0.09862196517697605\n"
     ]
    }
   ],
   "source": [
    "df_selected_variables_forward = df_with_lags[selected_features_forward]\n",
    "\n",
    "fecha_corte = \"2023-07-01\"\n",
    "\n",
    "results = perform_mlr(\n",
    "    {\"df\": df_selected_variables_forward, \"fecha_corte\": fecha_corte, \"lags\": 4}\n",
    ")\n",
    "y_pred_f = results[\"y_pred\"]\n",
    "y_pred_1_f = y_pred[1:]\n",
    "y_test_f = results[\"y_test\"]\n",
    "X_test_dates_f = results[\"X_test_dates\"]\n",
    "X_train_f = results[\"X_train\"]\n",
    "X_train_dates_f = results[\"X_train_dates\"]\n",
    "y_train_f = results[\"y_train\"]\n",
    "y_pred_train_f = results[\"y_pred_train\"]\n",
    "mse_f = results[\"mse_test\"]\n",
    "mape_f = results[\"mape_test\"]"
   ]
  },
  {
   "cell_type": "markdown",
   "metadata": {},
   "source": [
    "## Backward selection\n"
   ]
  },
  {
   "cell_type": "code",
   "execution_count": 22,
   "metadata": {},
   "outputs": [],
   "source": [
    "selected_features_backward = backward_selection(X_train, y_train)"
   ]
  },
  {
   "cell_type": "code",
   "execution_count": 23,
   "metadata": {},
   "outputs": [
    {
     "name": "stdout",
     "output_type": "stream",
     "text": [
      "40\n",
      "Backward Selection Result: ['precipitacion_amazonas', 'precipitacion_arauca', 'precipitacion_atlantico', 'precipitacion_bogota', 'precipitacion_bolivar', 'precipitacion_caqueta', 'precipitacion_casanare', 'precipitacion_cauca', 'precipitacion_cesar', 'precipitacion_choco', 'precipitacion_cundinamarca', 'precipitacion_guainia', 'precipitacion_la guajira', 'precipitacion_magdalena', 'precipitacion_meta', 'precipitacion_narino', 'precipitacion_norte de santander', 'precipitacion_putumayo', 'precipitacion_quindio', 'precipitacion_risaralda', 'precipitacion_san andres providencia', 'precipitacion_sucre', 'precipitacion_vaupes', 'precipitacion_vichada', 'precipitacion_colombia', 'precipitacion_departamentos_represa', 'temp_ATLANTICO', 'temp_BOGOTA', 'temp_BOLIVAR', 'temp_CALDAS', 'temp_CASANARE', 'temp_MAGDALENA', 'temp_PUTUMAYO', 'temp_QUINDIO', 'temp_RISARALDA', 'temp_avg_pais', 'brent_value', 'energy_price_lag_1', 'Date', 'energy_price']\n"
     ]
    }
   ],
   "source": [
    "print(len(selected_features_backward))\n",
    "print(\"Backward Selection Result:\", selected_features_backward)"
   ]
  },
  {
   "cell_type": "code",
   "execution_count": 24,
   "metadata": {},
   "outputs": [
    {
     "name": "stdout",
     "output_type": "stream",
     "text": [
      "Mean Squared Error on Test Data: 4746.924574290919\n",
      "Mean Absolute Percentage Error: 0.09929987556055843\n"
     ]
    }
   ],
   "source": [
    "df_selected_variables_backward = df_with_lags[selected_features_backward]\n",
    "\n",
    "fecha_corte = \"2023-07-01\"\n",
    "\n",
    "results = perform_mlr(\n",
    "    {\"df\": df_selected_variables_backward, \"fecha_corte\": fecha_corte, \"lags\": 4}\n",
    ")\n",
    "mse_b = results[\"mse_test\"]\n",
    "mape_b = results[\"mape_test\"]"
   ]
  },
  {
   "cell_type": "code",
   "execution_count": 25,
   "metadata": {},
   "outputs": [
    {
     "data": {
      "text/html": [
       "<div>\n",
       "<style scoped>\n",
       "    .dataframe tbody tr th:only-of-type {\n",
       "        vertical-align: middle;\n",
       "    }\n",
       "\n",
       "    .dataframe tbody tr th {\n",
       "        vertical-align: top;\n",
       "    }\n",
       "\n",
       "    .dataframe thead th {\n",
       "        text-align: right;\n",
       "    }\n",
       "</style>\n",
       "<table border=\"1\" class=\"dataframe\">\n",
       "  <thead>\n",
       "    <tr style=\"text-align: right;\">\n",
       "      <th></th>\n",
       "      <th>Modelo</th>\n",
       "      <th>MSE</th>\n",
       "      <th>MAPE</th>\n",
       "    </tr>\n",
       "  </thead>\n",
       "  <tbody>\n",
       "    <tr>\n",
       "      <th>0</th>\n",
       "      <td>MLR</td>\n",
       "      <td>4772.759086</td>\n",
       "      <td>0.098268</td>\n",
       "    </tr>\n",
       "    <tr>\n",
       "      <th>1</th>\n",
       "      <td>MLR_selection</td>\n",
       "      <td>4754.938830</td>\n",
       "      <td>0.099232</td>\n",
       "    </tr>\n",
       "    <tr>\n",
       "      <th>2</th>\n",
       "      <td>MLR_forward</td>\n",
       "      <td>4706.253505</td>\n",
       "      <td>0.098622</td>\n",
       "    </tr>\n",
       "    <tr>\n",
       "      <th>3</th>\n",
       "      <td>MLR_backward</td>\n",
       "      <td>4746.924574</td>\n",
       "      <td>0.099300</td>\n",
       "    </tr>\n",
       "  </tbody>\n",
       "</table>\n",
       "</div>"
      ],
      "text/plain": [
       "          Modelo          MSE      MAPE\n",
       "0            MLR  4772.759086  0.098268\n",
       "1  MLR_selection  4754.938830  0.099232\n",
       "2    MLR_forward  4706.253505  0.098622\n",
       "3   MLR_backward  4746.924574  0.099300"
      ]
     },
     "execution_count": 25,
     "metadata": {},
     "output_type": "execute_result"
    }
   ],
   "source": [
    "results_MRL_with_lags = pd.DataFrame(\n",
    "    {\n",
    "        \"Modelo\": [\"MLR\", \"MLR_selection\", \"MLR_forward\", \"MLR_backward\"],\n",
    "        \"MSE\": [mse, mse_MRL_selection, mse_f, mse_b],\n",
    "        \"MAPE\": [mape, mape_MRL_selection, mape_f, mape_b],\n",
    "    }\n",
    ")\n",
    "\n",
    "results_MRL_with_lags"
   ]
  },
  {
   "cell_type": "markdown",
   "metadata": {},
   "source": [
    "Se identifica que la seleccion de variablesque obtuvo mejor desempeño en cuanto a la metrica seleccionada MAPE es el Forward selection.\n"
   ]
  },
  {
   "cell_type": "code",
   "execution_count": 26,
   "metadata": {},
   "outputs": [
    {
     "data": {
      "application/vnd.plotly.v1+json": {
       "config": {
        "plotlyServerURL": "https://plot.ly"
       },
       "data": [
        {
         "hovertemplate": "x=%{x}<br>y=%{y}<extra></extra>",
         "legendgroup": "",
         "line": {
          "color": "#636efa",
          "dash": "solid"
         },
         "marker": {
          "symbol": "circle"
         },
         "mode": "lines",
         "name": "",
         "orientation": "v",
         "showlegend": false,
         "type": "scatter",
         "x": [
          "2021-10-09",
          "2021-10-10",
          "2021-10-11",
          "2021-10-12",
          "2021-10-13",
          "2021-10-14",
          "2021-10-15",
          "2021-10-16",
          "2021-10-17",
          "2021-10-18",
          "2021-10-19",
          "2021-10-20",
          "2021-10-21",
          "2021-10-22",
          "2021-10-23",
          "2021-10-24",
          "2021-10-25",
          "2021-10-26",
          "2021-10-27",
          "2021-10-28",
          "2021-10-29",
          "2021-10-30",
          "2021-10-31",
          "2021-11-01",
          "2021-11-02",
          "2021-11-03",
          "2021-11-04",
          "2021-11-05",
          "2021-11-06",
          "2021-11-07",
          "2021-11-08",
          "2021-11-09",
          "2021-12-04",
          "2021-12-05",
          "2021-12-06",
          "2021-12-07",
          "2021-12-08",
          "2021-12-09",
          "2021-12-10",
          "2021-12-11",
          "2021-12-12",
          "2021-12-13",
          "2021-12-14",
          "2021-12-15",
          "2021-12-16",
          "2021-12-17",
          "2021-12-18",
          "2021-12-19",
          "2021-12-20",
          "2021-12-21",
          "2021-12-22",
          "2021-12-23",
          "2021-12-24",
          "2021-12-25",
          "2021-12-26",
          "2021-12-27",
          "2021-12-28",
          "2021-12-29",
          "2021-12-30",
          "2021-12-31",
          "2022-02-01",
          "2022-02-02",
          "2022-02-03",
          "2022-02-04",
          "2022-02-05",
          "2022-02-06",
          "2022-02-07",
          "2022-02-08",
          "2022-02-09",
          "2022-02-10",
          "2022-02-11",
          "2022-02-12",
          "2022-02-13",
          "2022-02-14",
          "2022-02-15",
          "2022-02-16",
          "2022-02-17",
          "2022-02-18",
          "2022-02-19",
          "2022-02-20",
          "2022-02-21",
          "2022-02-22",
          "2022-02-23",
          "2022-02-24",
          "2022-02-25",
          "2022-02-26",
          "2022-02-27",
          "2022-02-28",
          "2022-04-01",
          "2022-04-02",
          "2022-04-03",
          "2022-04-04",
          "2022-04-05",
          "2022-04-06",
          "2022-04-07",
          "2022-04-08",
          "2022-04-09",
          "2022-04-10",
          "2022-04-11",
          "2022-04-12",
          "2022-04-13",
          "2022-04-14",
          "2022-04-15",
          "2022-04-16",
          "2022-04-17",
          "2022-04-18",
          "2022-04-19",
          "2022-04-20",
          "2022-04-21",
          "2022-04-22",
          "2022-04-23",
          "2022-04-24",
          "2022-04-25",
          "2022-04-26",
          "2022-04-27",
          "2022-04-28",
          "2022-04-29",
          "2022-04-30",
          "2022-05-01",
          "2022-05-02",
          "2022-05-03",
          "2022-05-04",
          "2022-05-05",
          "2022-05-06",
          "2022-05-07",
          "2022-05-08",
          "2022-05-09",
          "2022-05-10",
          "2022-05-11",
          "2022-05-12",
          "2022-05-13",
          "2022-05-14",
          "2022-05-15",
          "2022-05-16",
          "2022-05-17",
          "2022-05-18",
          "2022-05-19",
          "2022-05-20",
          "2022-05-21",
          "2022-05-22",
          "2022-05-23",
          "2022-05-24",
          "2022-05-25",
          "2022-05-26",
          "2022-05-27",
          "2022-05-28",
          "2022-05-29",
          "2022-05-30",
          "2022-05-31",
          "2022-06-01",
          "2022-06-02",
          "2022-06-03",
          "2022-06-04",
          "2022-06-05",
          "2022-06-06",
          "2022-06-07",
          "2022-06-08",
          "2022-06-09",
          "2022-06-10",
          "2022-06-11",
          "2022-06-12",
          "2022-06-13",
          "2022-06-14",
          "2022-06-15",
          "2022-06-16",
          "2022-06-17",
          "2022-06-18",
          "2022-06-19",
          "2022-06-20",
          "2022-06-21",
          "2022-06-22",
          "2022-06-23",
          "2022-06-24",
          "2022-06-25",
          "2022-06-26",
          "2022-06-27",
          "2022-06-28",
          "2022-06-29",
          "2022-06-30",
          "2022-07-01",
          "2022-07-02",
          "2022-07-03",
          "2022-07-04",
          "2022-07-05",
          "2022-07-06",
          "2022-07-07",
          "2022-07-08",
          "2022-07-09",
          "2022-07-10",
          "2022-07-11",
          "2022-07-12",
          "2022-07-13",
          "2022-07-14",
          "2022-07-15",
          "2022-07-16",
          "2022-07-17",
          "2022-07-18",
          "2022-07-19",
          "2022-07-20",
          "2022-07-21",
          "2022-07-22",
          "2022-07-23",
          "2022-07-24",
          "2022-07-25",
          "2022-07-26",
          "2022-07-27",
          "2022-07-28",
          "2022-07-29",
          "2022-07-30",
          "2022-07-31",
          "2022-08-01",
          "2022-08-02",
          "2022-08-03",
          "2022-08-04",
          "2022-08-05",
          "2022-08-06",
          "2022-08-07",
          "2022-08-08",
          "2022-08-09",
          "2022-08-10",
          "2022-08-11",
          "2022-08-12",
          "2022-08-13",
          "2022-08-14",
          "2022-08-15",
          "2022-08-16",
          "2022-08-17",
          "2022-08-18",
          "2022-08-19",
          "2022-08-20",
          "2022-08-21",
          "2022-08-22",
          "2022-08-23",
          "2022-08-24",
          "2022-08-25",
          "2022-08-26",
          "2022-08-27",
          "2022-08-28",
          "2022-08-29",
          "2022-08-30",
          "2022-08-31",
          "2022-09-01",
          "2022-09-02",
          "2022-09-03",
          "2022-09-04",
          "2022-09-05",
          "2022-09-06",
          "2022-09-07",
          "2022-09-08",
          "2022-09-09",
          "2022-09-10",
          "2022-09-11",
          "2022-09-12",
          "2022-09-13",
          "2022-09-14",
          "2022-09-15",
          "2022-09-16",
          "2022-09-17",
          "2022-09-18",
          "2022-09-19",
          "2022-09-20",
          "2022-09-21",
          "2022-09-22",
          "2022-09-23",
          "2022-09-24",
          "2022-09-25",
          "2022-09-26",
          "2022-09-27",
          "2022-09-28",
          "2022-09-29",
          "2022-09-30",
          "2022-10-01",
          "2022-10-02",
          "2022-10-03",
          "2022-10-04",
          "2022-10-05",
          "2022-10-06",
          "2022-10-07",
          "2022-10-08",
          "2022-10-09",
          "2022-10-10",
          "2022-10-11",
          "2022-10-12",
          "2022-10-13",
          "2022-10-14",
          "2022-10-15",
          "2022-10-16",
          "2022-10-17",
          "2022-10-18",
          "2022-10-19",
          "2022-10-20",
          "2022-10-21",
          "2022-10-22",
          "2022-10-23",
          "2022-10-24",
          "2022-10-25",
          "2022-10-26",
          "2022-10-27",
          "2022-10-28",
          "2022-10-29",
          "2022-10-30",
          "2022-10-31",
          "2022-11-01",
          "2022-11-02",
          "2022-11-03",
          "2022-11-04",
          "2022-11-05",
          "2022-11-06",
          "2022-11-07",
          "2022-11-08",
          "2022-11-09",
          "2022-11-10",
          "2022-11-11",
          "2022-11-12",
          "2022-11-13",
          "2022-11-14",
          "2022-11-15",
          "2022-11-16",
          "2022-11-17",
          "2022-11-18",
          "2022-11-19",
          "2022-11-20",
          "2022-11-21",
          "2022-11-22",
          "2022-11-23",
          "2022-11-24",
          "2022-11-25",
          "2022-11-26",
          "2022-11-27",
          "2022-11-28",
          "2022-11-29",
          "2022-11-30",
          "2022-12-01",
          "2022-12-02",
          "2022-12-03",
          "2022-12-04",
          "2022-12-05",
          "2022-12-06",
          "2022-12-07",
          "2022-12-08",
          "2022-12-09",
          "2022-12-10",
          "2022-12-11",
          "2022-12-12",
          "2022-12-13",
          "2022-12-14",
          "2022-12-15",
          "2022-12-16",
          "2022-12-17",
          "2022-12-18",
          "2022-12-19",
          "2022-12-20",
          "2022-12-21",
          "2022-12-22",
          "2022-12-23",
          "2022-12-24",
          "2022-12-25",
          "2022-12-26",
          "2022-12-27",
          "2022-12-28",
          "2022-12-29",
          "2022-12-30",
          "2022-12-31",
          "2023-01-01",
          "2023-01-02",
          "2023-01-03",
          "2023-01-04",
          "2023-01-05",
          "2023-01-06",
          "2023-01-07",
          "2023-01-08",
          "2023-01-09",
          "2023-01-10",
          "2023-01-11",
          "2023-01-12",
          "2023-01-13",
          "2023-01-14",
          "2023-01-15",
          "2023-01-16",
          "2023-01-17",
          "2023-01-18",
          "2023-01-19",
          "2023-01-20",
          "2023-01-21",
          "2023-01-22",
          "2023-01-23",
          "2023-01-24",
          "2023-01-25",
          "2023-01-26",
          "2023-01-27",
          "2023-01-28",
          "2023-01-29",
          "2023-01-30",
          "2023-01-31",
          "2023-02-01",
          "2023-02-02",
          "2023-02-03",
          "2023-02-04",
          "2023-02-05",
          "2023-02-06",
          "2023-02-07",
          "2023-02-08",
          "2023-02-09",
          "2023-02-10",
          "2023-02-11",
          "2023-02-12",
          "2023-02-13",
          "2023-02-14",
          "2023-02-15",
          "2023-02-16",
          "2023-02-17",
          "2023-02-18",
          "2023-02-19",
          "2023-02-20",
          "2023-02-21",
          "2023-02-22",
          "2023-02-23",
          "2023-02-24",
          "2023-02-25",
          "2023-02-26",
          "2023-02-27",
          "2023-02-28",
          "2023-03-01",
          "2023-03-02",
          "2023-03-03",
          "2023-03-04",
          "2023-03-05",
          "2023-03-06",
          "2023-03-07",
          "2023-03-08",
          "2023-03-09",
          "2023-03-10",
          "2023-03-11",
          "2023-03-12",
          "2023-03-13",
          "2023-03-14",
          "2023-03-15",
          "2023-03-16",
          "2023-03-17",
          "2023-03-18",
          "2023-03-19",
          "2023-03-20",
          "2023-03-21",
          "2023-03-22",
          "2023-03-23",
          "2023-03-24",
          "2023-03-25",
          "2023-03-26",
          "2023-03-27",
          "2023-03-28",
          "2023-03-29",
          "2023-03-30",
          "2023-03-31",
          "2023-04-01",
          "2023-04-02",
          "2023-04-03",
          "2023-04-04",
          "2023-04-05",
          "2023-04-06",
          "2023-04-07",
          "2023-04-08",
          "2023-04-09",
          "2023-04-10",
          "2023-04-11",
          "2023-04-12",
          "2023-04-13",
          "2023-04-14",
          "2023-04-15",
          "2023-04-16",
          "2023-04-17",
          "2023-04-18",
          "2023-04-19",
          "2023-04-20",
          "2023-04-21",
          "2023-04-22",
          "2023-04-23",
          "2023-04-24",
          "2023-04-25",
          "2023-04-26",
          "2023-04-27",
          "2023-04-28",
          "2023-04-29",
          "2023-04-30",
          "2023-05-01",
          "2023-05-02",
          "2023-05-03",
          "2023-05-04",
          "2023-05-05",
          "2023-05-06",
          "2023-05-07",
          "2023-05-08",
          "2023-05-09",
          "2023-05-10",
          "2023-05-11",
          "2023-05-12",
          "2023-05-13",
          "2023-05-14",
          "2023-05-15",
          "2023-05-16",
          "2023-05-17",
          "2023-05-18",
          "2023-05-19",
          "2023-05-20",
          "2023-05-21",
          "2023-05-22",
          "2023-05-23",
          "2023-05-24",
          "2023-05-25",
          "2023-05-26",
          "2023-05-27",
          "2023-05-28",
          "2023-05-29",
          "2023-05-30",
          "2023-05-31",
          "2023-06-01",
          "2023-06-02",
          "2023-06-03",
          "2023-06-04",
          "2023-06-05",
          "2023-06-06",
          "2023-06-07",
          "2023-06-08",
          "2023-06-09",
          "2023-06-10",
          "2023-06-11",
          "2023-06-12",
          "2023-06-13",
          "2023-06-14",
          "2023-06-15",
          "2023-06-16",
          "2023-06-17",
          "2023-06-18",
          "2023-06-19",
          "2023-06-20",
          "2023-06-21",
          "2023-06-22",
          "2023-06-23",
          "2023-06-24",
          "2023-06-25",
          "2023-06-26",
          "2023-06-27",
          "2023-06-28",
          "2023-06-29",
          "2023-06-30"
         ],
         "xaxis": "x",
         "y": [
          219.45373283245,
          221.3451706969,
          225.09564642043333,
          223.12400189323333,
          208.5310715933,
          205.49424441326667,
          191.49858928411663,
          220.47191454488333,
          217.18447309706664,
          224.3223786053,
          240.05390966315,
          230.8898302425833,
          233.90920963756665,
          219.95736327173333,
          227.0308241033167,
          225.43219828715,
          227.4629556154333,
          214.0555688441167,
          200.8129511227,
          178.55722956681666,
          164.81647099756665,
          156.69595607803333,
          144.55619944011667,
          196.1848923010667,
          179.53787584173335,
          191.5018679344333,
          204.6111244799,
          200.5725120208,
          256.2079004091333,
          260.8138438411333,
          276.6830923548334,
          266.5984259776667,
          136.6151858857818,
          117.24140896644543,
          121.51404160410002,
          121.6087580619182,
          108.22972705617272,
          87.89678992392727,
          89.27961680499091,
          108.53990185171818,
          118.21287444517272,
          111.14315469432728,
          122.19192887397271,
          110.90622682725456,
          133.1954516644909,
          101.0222214665909,
          87.27784124622727,
          120.52724612992728,
          92.87421484555456,
          146.43394283750908,
          93.1630433407909,
          96.7735746118182,
          89.94239193313636,
          143.18719735811817,
          116.92075688436364,
          157.13289017218182,
          152.07792464679093,
          87.84928888169091,
          87.2552652234,
          87.56022412385454,
          574.83258567045,
          629.7531057923417,
          679.9537093796583,
          634.9486685760917,
          676.1453291944416,
          643.9751053751584,
          620.814194177125,
          556.7702112882668,
          481.7579258179833,
          422.86486397302497,
          364.557442976475,
          326.4741861571584,
          301.00230614165,
          347.09892871436665,
          343.44634212346665,
          339.2693636982833,
          316.8355334437084,
          318.4731121828583,
          303.47578139025,
          251.4285172684833,
          264.8336916230333,
          276.18328724943336,
          251.73531832876665,
          254.4742618483,
          242.8627564248833,
          251.3768528994167,
          239.15948298125,
          260.9013410045083,
          281.5059189245,
          236.7869147359333,
          148.96921426266667,
          175.25489261403334,
          198.21258047786668,
          191.269641414,
          262.9679488746333,
          155.8071632446,
          137.5929980581,
          124.94512254126666,
          138.55301482326666,
          129.71389086443335,
          132.89685578906668,
          121.88155799143333,
          106.9985935555,
          119.3985517558,
          109.60444239173334,
          138.77986288393336,
          186.71705213186667,
          145.06817902276666,
          134.4925834134667,
          114.9664079618,
          113.20638320070002,
          103.0190299081,
          101.22364771776668,
          106.0412902624,
          102.30829282893336,
          99.71598971303332,
          98.04276491406668,
          97.2173048629,
          96.83827014536666,
          98.6379675325,
          107.2514839083,
          133.7742698964,
          105.65651377003331,
          113.27988722723336,
          113.8085308241,
          109.56083914033331,
          102.96900438663332,
          107.4390905947,
          101.1283887161,
          100.3626710419,
          101.05507902326669,
          99.74965688743332,
          97.12685273583334,
          99.40693027983332,
          112.80171103206663,
          142.54899225213333,
          122.09234755316668,
          114.01577582223332,
          107.99845906976668,
          94.75545614193334,
          95.95410778386666,
          106.06156648843334,
          99.43857048456664,
          99.34446187036669,
          96.4486104796,
          95.86535293636666,
          96.55537735836668,
          96.52268669623334,
          95.4407350809,
          116.1275333405,
          104.4060742114,
          108.0229956427,
          103.76284299763334,
          101.2739031386,
          100.48935112566666,
          101.40952613713334,
          121.1464483358,
          107.04807132056663,
          107.43016573476666,
          105.99686014256667,
          103.56202369573332,
          101.47641312326664,
          101.89960776553336,
          102.13507965583334,
          102.21124502283334,
          101.50237157996668,
          100.51498157946666,
          100.08371477456666,
          97.7506625949,
          100.3569359424,
          105.6404049115,
          105.6461192301,
          102.3262533412,
          101.8994299161,
          103.3703179925,
          103.3026652704,
          102.222442387,
          104.28034345133334,
          103.67066312459998,
          103.41403763763331,
          104.30740167706666,
          101.36174571706668,
          104.56054160253336,
          104.50061156463332,
          105.48758301280002,
          108.24356443263332,
          105.90673284506666,
          109.7795287026,
          106.86524920756666,
          105.30795695463333,
          116.69532424916667,
          115.43205907413332,
          112.10918490053332,
          111.33500351683334,
          109.92047648036667,
          106.8036185547,
          120.46574198646664,
          118.69847274987085,
          106.74612964343332,
          107.12883518253334,
          103.49754494713332,
          103.7533367619,
          110.8507938536,
          107.63556779026668,
          130.636103706,
          106.4125778344,
          104.6208226925,
          109.89856387833332,
          106.2849330042,
          118.86402266526666,
          111.59073378603334,
          106.7048689376,
          112.1731836856,
          112.15362635406666,
          110.53839589653334,
          109.74198797543332,
          105.67941845366666,
          106.33572189046669,
          108.32807527056669,
          107.4484264971,
          107.8097583792,
          109.44817734046669,
          107.64706501696666,
          109.50142468013333,
          107.62571206213332,
          120.4719799521,
          147.56621963536668,
          119.15620876793332,
          125.89817941953334,
          108.6342623397,
          107.70839305636667,
          134.44052801216665,
          127.7737671822,
          167.67082691546668,
          202.77125651136663,
          236.2440918179,
          253.56647582180003,
          266.64281586826667,
          287.2065065897333,
          303.3401654812667,
          334.38045994973334,
          321.8879914711667,
          335.2388359877333,
          287.4074633302667,
          202.1438682634333,
          200.7256060527,
          210.3076924658667,
          201.5815019135,
          191.34755633673333,
          208.70656760263333,
          211.3363892950333,
          137.3675665684,
          209.80917733650003,
          271.8992538987333,
          332.5957400667333,
          434.0241668406,
          411.3418113613666,
          337.5237664415333,
          224.91087308343333,
          277.2270228648667,
          272.4116762438333,
          248.00393778426667,
          224.00260369696664,
          226.6025098270333,
          199.5820167503333,
          182.94380346596665,
          241.63649198756664,
          232.83510477666664,
          217.99648210433327,
          226.1721893805,
          239.35278300783327,
          151.60885155484445,
          152.49832810744445,
          156.38026261383334,
          169.8222878902889,
          176.7718551801778,
          177.1811389441222,
          172.6624002974,
          169.63443993466666,
          143.7311005684,
          177.15813917670002,
          195.73022481595555,
          185.574100134,
          177.50878236513333,
          178.56915131524443,
          169.0318371276,
          184.7431704089556,
          167.52188848586667,
          177.09594684367778,
          239.9145777426,
          210.1743305757111,
          219.63003686292225,
          175.20620168814446,
          133.85079334356666,
          147.8419875748889,
          158.64012517214445,
          177.9900003762222,
          166.35782411813335,
          169.70481861215555,
          120.35219211326664,
          101.11268580731112,
          121.37945495417776,
          200.736745175,
          224.36854415936668,
          223.58489587013327,
          180.38691703296664,
          173.37009246173332,
          114.2126595499,
          161.54418318086667,
          181.375653051,
          187.5463017727333,
          185.5893434249,
          165.87799864439998,
          167.9971178559,
          167.74615571763334,
          136.1720299063,
          160.05898493060002,
          165.7053903319,
          164.309055247,
          113.8978657953,
          121.39357856603334,
          111.50842822936666,
          121.96276779793334,
          164.3267622455,
          173.01798024863334,
          184.584252135,
          219.5569739768,
          248.80812348596663,
          251.23229482346665,
          274.012303675,
          286.1381870071,
          311.2777561574666,
          325.65837087483334,
          335.3460165459333,
          337.02038819176664,
          256.9089107462,
          299.0853359828333,
          246.8713280410333,
          253.4154844247333,
          242.2272007749,
          212.5537550452333,
          236.70622378776667,
          244.2799634802333,
          244.0393092397333,
          258.01204906566664,
          270.56638503663333,
          285.31787186746664,
          283.271270214,
          273.05082591086665,
          287.3321921675667,
          322.7368456294,
          326.2849457738,
          357.1352101584,
          400.58238712803336,
          419.113694959,
          420.61965224836666,
          429.7334954217333,
          444.5355751137667,
          467.5575736797,
          509.2616914702666,
          507.7130395607667,
          450.7930971015,
          523.0726980822,
          499.7962119735334,
          510.8509979227,
          531.0305672357,
          556.6253745001333,
          560.9106826756333,
          526.6652148232333,
          503.1934809124,
          415.8064971809,
          432.61928971466665,
          381.8508350045667,
          436.0338762112333,
          309.3528225253,
          256.55275899496667,
          250.0275534853,
          212.65986900166664,
          204.8056496120333,
          216.1465712030333,
          250.5803743439,
          235.7702636137,
          243.2981734820333,
          202.968121683,
          194.94165071756663,
          243.9196906469667,
          250.93103278116664,
          277.9080973694,
          348.9216554459333,
          375.9744406195,
          396.3932978743333,
          452.8826199384334,
          568.7788272762333,
          675.0510164512666,
          768.6838144923667,
          721.5205503904334,
          794.9294052108667,
          799.9009328050333,
          741.8818057063332,
          569.4053375572,
          682.3372145263667,
          621.2968903492666,
          561.624488399,
          556.9092336778667,
          604.8585322595667,
          573.2946676894334,
          572.7660878618666,
          562.8534410486667,
          547.7789099221001,
          515.8515977783667,
          496.16126738863335,
          429.38230709373335,
          418.8577930926001,
          410.9205700374,
          423.7087455614333,
          351.6163010174667,
          372.57516342446667,
          361.4122095290333,
          297.97839228056665,
          315.511962764,
          319.4327370885333,
          366.6270357873,
          374.0731976343666,
          372.13955998246666,
          435.5328814148666,
          450.0135043289333,
          463.7545105165,
          501.8976104556,
          487.8137558528,
          470.94714484176666,
          431.3983143267,
          313.6173168691667,
          312.0133821560333,
          287.9145897603,
          234.20115136966663,
          185.5636310353,
          164.92299893443334,
          168.05130423886666,
          219.3029585301,
          203.53429561523333,
          163.73357652546667,
          234.4922552514,
          291.23608951746667,
          341.55839888603333,
          321.62533798656665,
          329.27193836323335,
          236.03052647476667,
          186.2669153527333,
          180.38245627016667,
          188.87672340606665,
          153.32040885503335,
          168.90205633026667,
          163.32335787553333,
          149.59529507336666,
          153.88823286206664,
          147.18555320043333,
          150.28855113836667,
          144.2343309941,
          139.88260143969998,
          133.9439032891,
          141.84049052946668,
          133.08015810536668,
          143.43973677953332,
          145.75005667423332,
          263.44543922816666,
          242.1994135678,
          242.84623382786663,
          214.800520733,
          212.02258143863327,
          294.0202761736667,
          290.9840322788,
          262.3251726828,
          303.79650600099995,
          319.6270939814333,
          334.2317397834,
          341.2148204153,
          343.05637368949994,
          333.4545873304,
          323.327413014,
          249.317842336,
          254.6826009834,
          186.79008909516668,
          210.5781809513333,
          189.01870382113336,
          240.7723909257,
          255.105191346,
          257.89916929463334,
          321.68339539606666,
          321.9544497141,
          354.5173310422333,
          404.3975417612,
          514.3697640661667,
          582.1855448730333,
          629.9293873606,
          639.0584256112,
          692.2176118567,
          682.7860478941999,
          727.0558307901,
          776.6545298109668,
          811.1855775365999,
          820.3688887720333,
          834.1325286478333,
          836.8465536497333,
          781.1399254179,
          789.4337239329667,
          801.7243562416,
          741.2614393731333,
          765.2225726731334,
          669.8191737313,
          650.3343199944667,
          450.5935416651666,
          374.3725136908333,
          385.6183086151,
          360.3704527560666,
          308.91654787276667,
          253.708678186,
          246.6326825770333,
          206.9850470411333,
          266.10522138560003,
          302.2922313390667,
          346.08643039783334,
          329.4370321681333,
          310.7298592868,
          292.0219092928,
          281.5663019065667,
          295.7395729818666,
          327.5229819927,
          352.6390978964,
          363.4437399086334,
          409.9441384222,
          440.87588160436667,
          499.2802866515333,
          568.8711079990334,
          602.020597139,
          739.7786245499334,
          749.1596229890333,
          846.8458569028667,
          888.3327651133667,
          715.754742528,
          685.7912672841334,
          598.3499218381334,
          612.2174932613667,
          472.8369474031333,
          516.2033960732334
         ],
         "yaxis": "y"
        },
        {
         "mode": "lines",
         "name": "Valores predichos de train",
         "type": "scatter",
         "x": [
          "2021-10-09",
          "2021-10-10",
          "2021-10-11",
          "2021-10-12",
          "2021-10-13",
          "2021-10-14",
          "2021-10-15",
          "2021-10-16",
          "2021-10-17",
          "2021-10-18",
          "2021-10-19",
          "2021-10-20",
          "2021-10-21",
          "2021-10-22",
          "2021-10-23",
          "2021-10-24",
          "2021-10-25",
          "2021-10-26",
          "2021-10-27",
          "2021-10-28",
          "2021-10-29",
          "2021-10-30",
          "2021-10-31",
          "2021-11-01",
          "2021-11-02",
          "2021-11-03",
          "2021-11-04",
          "2021-11-05",
          "2021-11-06",
          "2021-11-07",
          "2021-11-08",
          "2021-11-09",
          "2021-12-04",
          "2021-12-05",
          "2021-12-06",
          "2021-12-07",
          "2021-12-08",
          "2021-12-09",
          "2021-12-10",
          "2021-12-11",
          "2021-12-12",
          "2021-12-13",
          "2021-12-14",
          "2021-12-15",
          "2021-12-16",
          "2021-12-17",
          "2021-12-18",
          "2021-12-19",
          "2021-12-20",
          "2021-12-21",
          "2021-12-22",
          "2021-12-23",
          "2021-12-24",
          "2021-12-25",
          "2021-12-26",
          "2021-12-27",
          "2021-12-28",
          "2021-12-29",
          "2021-12-30",
          "2021-12-31",
          "2022-02-01",
          "2022-02-02",
          "2022-02-03",
          "2022-02-04",
          "2022-02-05",
          "2022-02-06",
          "2022-02-07",
          "2022-02-08",
          "2022-02-09",
          "2022-02-10",
          "2022-02-11",
          "2022-02-12",
          "2022-02-13",
          "2022-02-14",
          "2022-02-15",
          "2022-02-16",
          "2022-02-17",
          "2022-02-18",
          "2022-02-19",
          "2022-02-20",
          "2022-02-21",
          "2022-02-22",
          "2022-02-23",
          "2022-02-24",
          "2022-02-25",
          "2022-02-26",
          "2022-02-27",
          "2022-02-28",
          "2022-04-01",
          "2022-04-02",
          "2022-04-03",
          "2022-04-04",
          "2022-04-05",
          "2022-04-06",
          "2022-04-07",
          "2022-04-08",
          "2022-04-09",
          "2022-04-10",
          "2022-04-11",
          "2022-04-12",
          "2022-04-13",
          "2022-04-14",
          "2022-04-15",
          "2022-04-16",
          "2022-04-17",
          "2022-04-18",
          "2022-04-19",
          "2022-04-20",
          "2022-04-21",
          "2022-04-22",
          "2022-04-23",
          "2022-04-24",
          "2022-04-25",
          "2022-04-26",
          "2022-04-27",
          "2022-04-28",
          "2022-04-29",
          "2022-04-30",
          "2022-05-01",
          "2022-05-02",
          "2022-05-03",
          "2022-05-04",
          "2022-05-05",
          "2022-05-06",
          "2022-05-07",
          "2022-05-08",
          "2022-05-09",
          "2022-05-10",
          "2022-05-11",
          "2022-05-12",
          "2022-05-13",
          "2022-05-14",
          "2022-05-15",
          "2022-05-16",
          "2022-05-17",
          "2022-05-18",
          "2022-05-19",
          "2022-05-20",
          "2022-05-21",
          "2022-05-22",
          "2022-05-23",
          "2022-05-24",
          "2022-05-25",
          "2022-05-26",
          "2022-05-27",
          "2022-05-28",
          "2022-05-29",
          "2022-05-30",
          "2022-05-31",
          "2022-06-01",
          "2022-06-02",
          "2022-06-03",
          "2022-06-04",
          "2022-06-05",
          "2022-06-06",
          "2022-06-07",
          "2022-06-08",
          "2022-06-09",
          "2022-06-10",
          "2022-06-11",
          "2022-06-12",
          "2022-06-13",
          "2022-06-14",
          "2022-06-15",
          "2022-06-16",
          "2022-06-17",
          "2022-06-18",
          "2022-06-19",
          "2022-06-20",
          "2022-06-21",
          "2022-06-22",
          "2022-06-23",
          "2022-06-24",
          "2022-06-25",
          "2022-06-26",
          "2022-06-27",
          "2022-06-28",
          "2022-06-29",
          "2022-06-30",
          "2022-07-01",
          "2022-07-02",
          "2022-07-03",
          "2022-07-04",
          "2022-07-05",
          "2022-07-06",
          "2022-07-07",
          "2022-07-08",
          "2022-07-09",
          "2022-07-10",
          "2022-07-11",
          "2022-07-12",
          "2022-07-13",
          "2022-07-14",
          "2022-07-15",
          "2022-07-16",
          "2022-07-17",
          "2022-07-18",
          "2022-07-19",
          "2022-07-20",
          "2022-07-21",
          "2022-07-22",
          "2022-07-23",
          "2022-07-24",
          "2022-07-25",
          "2022-07-26",
          "2022-07-27",
          "2022-07-28",
          "2022-07-29",
          "2022-07-30",
          "2022-07-31",
          "2022-08-01",
          "2022-08-02",
          "2022-08-03",
          "2022-08-04",
          "2022-08-05",
          "2022-08-06",
          "2022-08-07",
          "2022-08-08",
          "2022-08-09",
          "2022-08-10",
          "2022-08-11",
          "2022-08-12",
          "2022-08-13",
          "2022-08-14",
          "2022-08-15",
          "2022-08-16",
          "2022-08-17",
          "2022-08-18",
          "2022-08-19",
          "2022-08-20",
          "2022-08-21",
          "2022-08-22",
          "2022-08-23",
          "2022-08-24",
          "2022-08-25",
          "2022-08-26",
          "2022-08-27",
          "2022-08-28",
          "2022-08-29",
          "2022-08-30",
          "2022-08-31",
          "2022-09-01",
          "2022-09-02",
          "2022-09-03",
          "2022-09-04",
          "2022-09-05",
          "2022-09-06",
          "2022-09-07",
          "2022-09-08",
          "2022-09-09",
          "2022-09-10",
          "2022-09-11",
          "2022-09-12",
          "2022-09-13",
          "2022-09-14",
          "2022-09-15",
          "2022-09-16",
          "2022-09-17",
          "2022-09-18",
          "2022-09-19",
          "2022-09-20",
          "2022-09-21",
          "2022-09-22",
          "2022-09-23",
          "2022-09-24",
          "2022-09-25",
          "2022-09-26",
          "2022-09-27",
          "2022-09-28",
          "2022-09-29",
          "2022-09-30",
          "2022-10-01",
          "2022-10-02",
          "2022-10-03",
          "2022-10-04",
          "2022-10-05",
          "2022-10-06",
          "2022-10-07",
          "2022-10-08",
          "2022-10-09",
          "2022-10-10",
          "2022-10-11",
          "2022-10-12",
          "2022-10-13",
          "2022-10-14",
          "2022-10-15",
          "2022-10-16",
          "2022-10-17",
          "2022-10-18",
          "2022-10-19",
          "2022-10-20",
          "2022-10-21",
          "2022-10-22",
          "2022-10-23",
          "2022-10-24",
          "2022-10-25",
          "2022-10-26",
          "2022-10-27",
          "2022-10-28",
          "2022-10-29",
          "2022-10-30",
          "2022-10-31",
          "2022-11-01",
          "2022-11-02",
          "2022-11-03",
          "2022-11-04",
          "2022-11-05",
          "2022-11-06",
          "2022-11-07",
          "2022-11-08",
          "2022-11-09",
          "2022-11-10",
          "2022-11-11",
          "2022-11-12",
          "2022-11-13",
          "2022-11-14",
          "2022-11-15",
          "2022-11-16",
          "2022-11-17",
          "2022-11-18",
          "2022-11-19",
          "2022-11-20",
          "2022-11-21",
          "2022-11-22",
          "2022-11-23",
          "2022-11-24",
          "2022-11-25",
          "2022-11-26",
          "2022-11-27",
          "2022-11-28",
          "2022-11-29",
          "2022-11-30",
          "2022-12-01",
          "2022-12-02",
          "2022-12-03",
          "2022-12-04",
          "2022-12-05",
          "2022-12-06",
          "2022-12-07",
          "2022-12-08",
          "2022-12-09",
          "2022-12-10",
          "2022-12-11",
          "2022-12-12",
          "2022-12-13",
          "2022-12-14",
          "2022-12-15",
          "2022-12-16",
          "2022-12-17",
          "2022-12-18",
          "2022-12-19",
          "2022-12-20",
          "2022-12-21",
          "2022-12-22",
          "2022-12-23",
          "2022-12-24",
          "2022-12-25",
          "2022-12-26",
          "2022-12-27",
          "2022-12-28",
          "2022-12-29",
          "2022-12-30",
          "2022-12-31",
          "2023-01-01",
          "2023-01-02",
          "2023-01-03",
          "2023-01-04",
          "2023-01-05",
          "2023-01-06",
          "2023-01-07",
          "2023-01-08",
          "2023-01-09",
          "2023-01-10",
          "2023-01-11",
          "2023-01-12",
          "2023-01-13",
          "2023-01-14",
          "2023-01-15",
          "2023-01-16",
          "2023-01-17",
          "2023-01-18",
          "2023-01-19",
          "2023-01-20",
          "2023-01-21",
          "2023-01-22",
          "2023-01-23",
          "2023-01-24",
          "2023-01-25",
          "2023-01-26",
          "2023-01-27",
          "2023-01-28",
          "2023-01-29",
          "2023-01-30",
          "2023-01-31",
          "2023-02-01",
          "2023-02-02",
          "2023-02-03",
          "2023-02-04",
          "2023-02-05",
          "2023-02-06",
          "2023-02-07",
          "2023-02-08",
          "2023-02-09",
          "2023-02-10",
          "2023-02-11",
          "2023-02-12",
          "2023-02-13",
          "2023-02-14",
          "2023-02-15",
          "2023-02-16",
          "2023-02-17",
          "2023-02-18",
          "2023-02-19",
          "2023-02-20",
          "2023-02-21",
          "2023-02-22",
          "2023-02-23",
          "2023-02-24",
          "2023-02-25",
          "2023-02-26",
          "2023-02-27",
          "2023-02-28",
          "2023-03-01",
          "2023-03-02",
          "2023-03-03",
          "2023-03-04",
          "2023-03-05",
          "2023-03-06",
          "2023-03-07",
          "2023-03-08",
          "2023-03-09",
          "2023-03-10",
          "2023-03-11",
          "2023-03-12",
          "2023-03-13",
          "2023-03-14",
          "2023-03-15",
          "2023-03-16",
          "2023-03-17",
          "2023-03-18",
          "2023-03-19",
          "2023-03-20",
          "2023-03-21",
          "2023-03-22",
          "2023-03-23",
          "2023-03-24",
          "2023-03-25",
          "2023-03-26",
          "2023-03-27",
          "2023-03-28",
          "2023-03-29",
          "2023-03-30",
          "2023-03-31",
          "2023-04-01",
          "2023-04-02",
          "2023-04-03",
          "2023-04-04",
          "2023-04-05",
          "2023-04-06",
          "2023-04-07",
          "2023-04-08",
          "2023-04-09",
          "2023-04-10",
          "2023-04-11",
          "2023-04-12",
          "2023-04-13",
          "2023-04-14",
          "2023-04-15",
          "2023-04-16",
          "2023-04-17",
          "2023-04-18",
          "2023-04-19",
          "2023-04-20",
          "2023-04-21",
          "2023-04-22",
          "2023-04-23",
          "2023-04-24",
          "2023-04-25",
          "2023-04-26",
          "2023-04-27",
          "2023-04-28",
          "2023-04-29",
          "2023-04-30",
          "2023-05-01",
          "2023-05-02",
          "2023-05-03",
          "2023-05-04",
          "2023-05-05",
          "2023-05-06",
          "2023-05-07",
          "2023-05-08",
          "2023-05-09",
          "2023-05-10",
          "2023-05-11",
          "2023-05-12",
          "2023-05-13",
          "2023-05-14",
          "2023-05-15",
          "2023-05-16",
          "2023-05-17",
          "2023-05-18",
          "2023-05-19",
          "2023-05-20",
          "2023-05-21",
          "2023-05-22",
          "2023-05-23",
          "2023-05-24",
          "2023-05-25",
          "2023-05-26",
          "2023-05-27",
          "2023-05-28",
          "2023-05-29",
          "2023-05-30",
          "2023-05-31",
          "2023-06-01",
          "2023-06-02",
          "2023-06-03",
          "2023-06-04",
          "2023-06-05",
          "2023-06-06",
          "2023-06-07",
          "2023-06-08",
          "2023-06-09",
          "2023-06-10",
          "2023-06-11",
          "2023-06-12",
          "2023-06-13",
          "2023-06-14",
          "2023-06-15",
          "2023-06-16",
          "2023-06-17",
          "2023-06-18",
          "2023-06-19",
          "2023-06-20",
          "2023-06-21",
          "2023-06-22",
          "2023-06-23",
          "2023-06-24",
          "2023-06-25",
          "2023-06-26",
          "2023-06-27",
          "2023-06-28",
          "2023-06-29",
          "2023-06-30"
         ],
         "y": [
          224.28563336225716,
          219.4925798773514,
          216.67963223368054,
          220.47255899968607,
          222.1720471175394,
          200.81633963427757,
          196.62331091016162,
          167.62543425981525,
          191.75812606164754,
          221.7976160340905,
          229.38763383009456,
          228.47489048541976,
          234.0193111242561,
          231.84357319879518,
          220.58780391229948,
          232.19240719024873,
          226.9609300264195,
          215.07316548976027,
          196.46226915360796,
          205.5866668776849,
          174.4629396944099,
          160.61626835930673,
          126.33673624240902,
          150.78206469537963,
          193.62117534927452,
          194.74989373392748,
          197.2661550593183,
          209.42764533523464,
          207.3966514895917,
          270.46690917921245,
          273.5871481781469,
          275.1808416513118,
          268.49670358826336,
          129.65514096671657,
          106.24125600020436,
          127.63402392391015,
          138.1881460505638,
          126.4065185136498,
          97.77715752436121,
          100.96410518627818,
          106.71941094720967,
          134.69969609212603,
          122.25633477853722,
          137.41949609534984,
          124.74672809313883,
          148.82395323192762,
          111.82328494804247,
          87.69655948671445,
          134.55975220669416,
          107.33353650989129,
          150.38812663439575,
          114.42316922522413,
          104.23274594879602,
          100.42702689495746,
          159.2734895523604,
          134.94988885303977,
          167.05026101866855,
          148.4898009409331,
          86.18511242337593,
          87.59331615313349,
          103.29735780993921,
          617.395741496824,
          714.9689490095298,
          670.6824962778417,
          600.2843165258595,
          638.6850820041491,
          612.951840888237,
          572.2820088650823,
          514.8251028385872,
          456.480428703083,
          410.49010892507374,
          354.6932935723609,
          315.9394060950261,
          286.36753026028833,
          341.5952533663105,
          348.11955838222974,
          341.7497405907296,
          302.4625207892723,
          320.01770738949415,
          293.47159573201213,
          245.42135084205017,
          262.71828795747365,
          276.30089079163236,
          267.19635238524137,
          259.57623589529175,
          265.94242446173433,
          263.9886703878975,
          238.72649754434747,
          250.0764239668044,
          293.59248832987316,
          230.45425348245348,
          132.56824117303077,
          177.34090939948814,
          207.75697013550524,
          191.3800170436699,
          261.4579726821068,
          161.7608139533159,
          120.49790704465711,
          128.6780066980879,
          143.34296501184835,
          134.45885290314163,
          136.77416752140726,
          129.12930911810233,
          135.5860252647957,
          106.69525079184925,
          89.121261235358,
          151.39732540984423,
          193.7292741127167,
          130.23488999212702,
          113.99230690304528,
          117.94530582025503,
          108.12418781341741,
          88.64802037465923,
          109.92226159823925,
          99.35982890669354,
          89.66070575690165,
          105.03231005547134,
          113.65452995710383,
          96.42113698510398,
          105.28367872288051,
          107.55144104472299,
          118.98596399100555,
          131.44041478042485,
          110.56616048333235,
          109.03595891890257,
          120.55555962629522,
          116.35145108417655,
          110.56439692028643,
          104.01538272629081,
          105.95932236587535,
          93.59614946139557,
          109.92477331116338,
          108.36796274138352,
          109.91215778712352,
          96.76773686976965,
          136.73834673755232,
          136.47020771792992,
          120.67494683781206,
          118.76502028580614,
          115.24228279908019,
          94.50421029458107,
          91.95959617643953,
          121.60585615177457,
          108.08349786496525,
          97.7145693475705,
          104.49358260661408,
          104.44762213703329,
          100.1919140123233,
          111.5999265308409,
          95.70996205437926,
          118.29631296081509,
          112.24476223152234,
          113.91359415924792,
          102.20061265442783,
          94.13514904689072,
          98.99652319234116,
          109.05280545365116,
          121.45200517562651,
          113.83419326615177,
          95.41566272499904,
          105.8637831625293,
          108.71225582225615,
          100.76502469168253,
          98.98976924661773,
          113.76166828847019,
          95.97980021898509,
          111.57229536919363,
          98.49913753189132,
          94.70438167169593,
          97.5717440363957,
          110.31349518945366,
          100.39632826274907,
          112.66369608187703,
          101.1523818011354,
          99.87243514980598,
          109.25613875506272,
          110.2966536562896,
          98.90418340335185,
          106.95776433674753,
          98.42066732163518,
          103.38817220262202,
          112.57669254128422,
          98.75336925549323,
          94.37429592424611,
          114.28055331223624,
          111.69354281723638,
          107.43793625548363,
          116.98088260795599,
          108.76359576523986,
          106.06800426105819,
          104.81965039902562,
          118.5156360457705,
          114.13808412298543,
          109.89053752865503,
          111.5251720725877,
          107.36401206157358,
          107.56994632624708,
          126.39853290447667,
          108.98293588502327,
          105.57738359847667,
          110.90467982465347,
          103.31891600069021,
          101.906394406793,
          111.51018866931098,
          106.72559283055527,
          119.75933320170493,
          108.42439900277712,
          112.21557363114697,
          120.12711372811196,
          115.98108559203345,
          115.33390458963298,
          114.76968636565788,
          111.75103700609891,
          116.21999202870349,
          107.78112804403902,
          102.75818670566886,
          115.55976181974549,
          115.07562850480846,
          108.00337012838,
          116.36434751287292,
          111.14100049500637,
          94.32770471584809,
          132.16480183856066,
          109.09189331053307,
          106.6973436837239,
          117.77896652312117,
          131.29852510919298,
          167.65144709776715,
          135.45253071945092,
          128.4035484309706,
          108.40103007337106,
          117.95396195281623,
          143.96222163803682,
          143.1317400920168,
          167.9902114069522,
          209.39571358701866,
          242.8151921405933,
          248.16593777826813,
          259.5103148369694,
          287.7221939927953,
          301.39565469589803,
          323.62159639486896,
          329.5892745962487,
          326.8447713736467,
          273.7174419778949,
          179.57666620215437,
          169.2212994289699,
          204.73842685143134,
          209.11925259527746,
          193.51227316784866,
          189.13663293673747,
          212.71605044049875,
          129.56666248887947,
          207.7829354161579,
          292.07411603846793,
          359.4406246473213,
          436.8380428188012,
          417.3902820280799,
          320.9800986195939,
          200.8385374222702,
          260.18632002051345,
          262.2802552743343,
          248.2678643599049,
          222.24212087982474,
          214.50904006164447,
          204.9682650114156,
          193.86371994911147,
          261.6630514723838,
          246.13483374919886,
          225.83966608571973,
          238.9551803522444,
          230.86682888251755,
          153.2926480895553,
          139.50205571457923,
          161.8285789355505,
          165.73745842410995,
          194.17591838637514,
          185.1480940001197,
          168.14114916325937,
          174.66221236957662,
          150.55558727449684,
          180.3182252122936,
          209.51171027822,
          198.99179135487876,
          188.90757055293042,
          181.44283345750307,
          153.16800031606232,
          193.9464699626385,
          186.71919962726227,
          185.73110582601038,
          232.9450449380256,
          206.89749691646963,
          224.4820656352985,
          178.15897255709493,
          131.61966651133844,
          150.3153023958081,
          150.43982646539612,
          161.77915722824406,
          174.76380566268003,
          172.61619485742307,
          142.2930165503181,
          112.36189554400492,
          141.81620364106683,
          212.80746574719618,
          232.97383832986756,
          228.30560211924623,
          174.2967528998188,
          163.0510679517712,
          108.03768647938443,
          154.37047880108128,
          206.77915170785758,
          191.51311648682116,
          186.5445249329217,
          157.53253820209216,
          170.55872069974546,
          174.8608920536543,
          175.24004574686296,
          160.53751208886072,
          170.51000997931052,
          164.89511214364282,
          111.22998081290875,
          118.75579070009603,
          115.47539682678273,
          121.02447056196513,
          170.74131589028605,
          183.28092573087855,
          228.49279000823213,
          222.9412721080986,
          255.1230587135081,
          266.2156065020362,
          273.69365350454956,
          291.50047143982187,
          317.19709753693843,
          339.8134049710537,
          320.87226016524664,
          321.38817194272326,
          261.115130105678,
          288.66211483604314,
          232.70383488746992,
          240.66310360605956,
          238.4032445428498,
          205.6981012443734,
          230.44414504951888,
          245.96000631779316,
          242.20475535073882,
          269.1364394067267,
          273.4038595115352,
          286.25380691749433,
          280.66208204466574,
          271.2188226332843,
          287.78557279551916,
          332.0384092455033,
          336.3388444615008,
          365.60698022690167,
          418.08669510896857,
          418.6228682128938,
          419.4938331495374,
          419.20481660666474,
          436.1132246972766,
          471.0923437208172,
          511.8618807104633,
          518.7142740835798,
          442.7090434705929,
          513.5654219105589,
          502.75738850464506,
          490.7488887558899,
          531.9410328763136,
          554.5601421584846,
          554.962960828456,
          507.76989488297113,
          473.4590722777625,
          402.74962650558604,
          406.5300094329819,
          366.073828892445,
          412.82874306573854,
          307.88345858066907,
          232.75375247709763,
          242.5197359484547,
          212.58853096818623,
          198.90002625925666,
          229.1539035792962,
          257.29113114706394,
          240.21986580203708,
          240.5964447432343,
          206.13238675543155,
          196.5478445377764,
          255.27503495882345,
          274.7907551779523,
          296.5096033452654,
          375.86182003168966,
          405.2307607853443,
          416.8283302337573,
          476.0723453702345,
          587.8398556595633,
          709.1758210171301,
          791.9307502391964,
          719.9278493842181,
          774.0787839090092,
          798.5661313572784,
          721.5981076060116,
          532.9007023053989,
          650.6552510996983,
          623.0543146192472,
          542.4508995381929,
          537.4120097760577,
          596.7076254885325,
          571.8237784364528,
          560.0318448866506,
          546.707610756789,
          527.6216192977687,
          496.06300356506466,
          464.3587938063027,
          419.573768286188,
          404.3951194574574,
          402.76427595211817,
          409.43296024950024,
          349.38411495300545,
          366.59565654513403,
          373.04831449744114,
          305.67440021097025,
          315.469962577403,
          334.78211917003557,
          383.86510836372605,
          383.4938388178866,
          380.17812638274904,
          443.97846274347455,
          456.0326902177599,
          462.50364159746647,
          503.34762268340376,
          474.9666820403324,
          428.75630799343645,
          418.25032140674114,
          294.0659929063235,
          277.75514561661004,
          285.68015681786795,
          224.54355490439227,
          165.25452999424706,
          167.43444754387195,
          151.22690619103327,
          228.40783787260392,
          220.78023626400264,
          170.51180305170942,
          250.0707471447646,
          312.51677379449205,
          358.0238919421745,
          314.7609505745566,
          320.3221745367378,
          242.28385755200253,
          169.47596427503436,
          188.0359933609627,
          211.16241978344985,
          178.1191258964486,
          179.95308715903687,
          185.3102497152232,
          162.5644173863021,
          172.1915157542078,
          167.0088159071118,
          166.14721450520915,
          141.5510592238135,
          140.8193889884296,
          147.14281776484458,
          162.99120946919015,
          151.27699070687055,
          161.28329510263933,
          165.1720734481421,
          284.01713630748424,
          266.24284315810087,
          249.64465287866716,
          201.5427689169508,
          216.03782968097946,
          318.52895121505264,
          317.02696625076203,
          247.45392048146633,
          295.3417805307794,
          322.7077648823365,
          337.6103890795567,
          345.89454062158575,
          347.2645928690244,
          342.20170642501444,
          312.4793525152213,
          248.55665678963004,
          230.2914611282201,
          192.40253969844878,
          213.2066570798421,
          209.99133316970546,
          256.3398732905009,
          282.3125789053754,
          276.83151712932954,
          335.0243596020551,
          351.26265993593665,
          371.3179315971822,
          426.0050177714983,
          529.4765973408186,
          611.1718538709677,
          635.8841261060912,
          638.4355317807451,
          691.853763683796,
          656.0759440845513,
          690.3674303164056,
          784.8428293287388,
          810.444315058717,
          805.2851158242698,
          803.430261603871,
          800.0878799446751,
          754.3440570251084,
          764.3992692102496,
          785.6892084900921,
          717.8728559905135,
          748.0871765961119,
          653.735690203132,
          610.0237230411525,
          423.0777816881255,
          316.4748742506737,
          370.03790910671654,
          334.769979408262,
          300.58305903525587,
          249.93682121052962,
          244.2568662927482,
          225.8060608233884,
          271.8741620712927,
          320.58920394784644,
          357.58039536590604,
          321.044072776198,
          295.3865041471433,
          287.93961591313075,
          278.48314969680126,
          297.65400980026465,
          329.98567079631067,
          363.29060705628183,
          362.68711389711285,
          422.3727585003469,
          465.02101681558054,
          505.357796754438,
          585.8999064981563,
          621.087667385156,
          739.3785607944648,
          749.5849893701982,
          830.9649581694844,
          864.2109934494882,
          683.9135747755962,
          627.7866199529432,
          572.1493482963025,
          587.9465343003498,
          450.15059615859246
         ]
        },
        {
         "mode": "lines",
         "name": "Valores reales de test",
         "type": "scatter",
         "x": [
          "2023-07-01",
          "2023-07-02",
          "2023-07-03",
          "2023-07-04",
          "2023-07-05",
          "2023-07-06",
          "2023-07-07",
          "2023-07-08",
          "2023-07-09",
          "2023-07-10",
          "2023-07-11",
          "2023-07-12",
          "2023-07-13",
          "2023-07-14",
          "2023-07-15",
          "2023-07-16",
          "2023-07-17",
          "2023-07-18",
          "2023-07-19",
          "2023-07-20",
          "2023-07-21",
          "2023-07-22",
          "2023-07-23",
          "2023-07-24",
          "2023-07-25",
          "2023-07-26",
          "2023-07-27",
          "2023-07-28",
          "2023-07-29",
          "2023-07-30",
          "2023-07-31",
          "2023-08-01",
          "2023-08-02",
          "2023-08-03",
          "2023-08-04",
          "2023-08-05",
          "2023-08-06",
          "2023-08-07",
          "2023-08-08",
          "2023-08-09",
          "2023-08-10",
          "2023-08-11",
          "2023-08-12",
          "2023-08-13",
          "2023-08-14",
          "2023-08-15",
          "2023-08-16",
          "2023-08-17",
          "2023-08-18",
          "2023-08-19",
          "2023-08-20",
          "2023-08-21",
          "2023-08-22",
          "2023-08-23",
          "2023-08-24",
          "2023-08-25",
          "2023-08-26",
          "2023-08-27",
          "2023-08-28",
          "2023-08-29",
          "2023-08-30",
          "2023-08-31",
          "2023-09-01",
          "2023-09-02",
          "2023-09-03",
          "2023-09-04",
          "2023-09-05",
          "2023-09-06",
          "2023-09-07",
          "2023-09-08",
          "2023-09-09",
          "2023-09-10",
          "2023-09-11",
          "2023-09-12",
          "2023-09-13",
          "2023-09-14",
          "2023-09-15",
          "2023-09-16",
          "2023-09-17",
          "2023-09-18",
          "2023-09-19",
          "2023-09-20",
          "2023-09-21",
          "2023-09-22",
          "2023-09-23",
          "2023-09-24",
          "2023-09-25",
          "2023-09-26",
          "2023-09-27",
          "2023-09-28",
          "2023-09-29",
          "2023-09-30"
         ],
         "y": [
          544.7705213565667,
          550.9924406845666,
          483.6502214998334,
          553.0780864147,
          604.0613552063,
          612.6520655029666,
          561.720197503,
          511.34744451383335,
          443.2304976700333,
          464.0946349298667,
          520.6698138396333,
          558.0087941169,
          623.2256895074667,
          667.2388902573667,
          627.5580529219334,
          655.8061852985,
          607.7387937565333,
          562.4534141153,
          452.60713804463336,
          355.5250355956,
          448.7364667266666,
          343.9170169912,
          368.67011887483335,
          505.73658042333335,
          501.0301570304,
          508.31399602706665,
          543.2798406008666,
          485.3597814536333,
          502.2773802097,
          503.4671490768667,
          493.9659789703334,
          547.1345043071,
          552.4892412716,
          502.80451949393336,
          534.6192562463666,
          464.1196171028666,
          492.90175899686665,
          407.4434403267667,
          520.8159737078333,
          615.0041053912,
          672.7727046824,
          743.8591253586001,
          765.2201509364668,
          662.3748478974667,
          648.2864592554333,
          743.5988251514667,
          684.1074411735334,
          695.5571388220666,
          718.1244276738333,
          688.8797853554333,
          429.54986892410005,
          427.4197187691333,
          333.6424985433667,
          240.48830502266665,
          199.1347986239333,
          201.7994960485,
          244.67607934786668,
          182.24162300086667,
          362.57467050660006,
          557.3878632841,
          752.3462168504999,
          804.1298802825668,
          840.0535151349333,
          897.7582867515666,
          940.0739380390668,
          965.3959244287,
          980.1408900017,
          938.9837728269,
          1002.4018762710666,
          1020.1230077620334,
          1042.4125910953665,
          1040.2309244287,
          1056.0735910953665,
          1055.8125910953663,
          1057.225091095367,
          1058.2146744287,
          1059.5459244287,
          1053.5576515038,
          980.9484479552332,
          1040.0333886235,
          1046.8870506150668,
          1040.3662577620337,
          1060.2107160953667,
          1059.9921744287,
          1061.2059358995332,
          999.485316434,
          1040.8716778893331,
          1061.5271744287,
          1041.1605757635332,
          1042.7696452357,
          1030.8072240289,
          1012.2209689485334
         ]
        },
        {
         "mode": "lines",
         "name": "Valores predichos de test",
         "type": "scatter",
         "x": [
          "2023-07-01",
          "2023-07-02",
          "2023-07-03",
          "2023-07-04",
          "2023-07-05",
          "2023-07-06",
          "2023-07-07",
          "2023-07-08",
          "2023-07-09",
          "2023-07-10",
          "2023-07-11",
          "2023-07-12",
          "2023-07-13",
          "2023-07-14",
          "2023-07-15",
          "2023-07-16",
          "2023-07-17",
          "2023-07-18",
          "2023-07-19",
          "2023-07-20",
          "2023-07-21",
          "2023-07-22",
          "2023-07-23",
          "2023-07-24",
          "2023-07-25",
          "2023-07-26",
          "2023-07-27",
          "2023-07-28",
          "2023-07-29",
          "2023-07-30",
          "2023-07-31",
          "2023-08-01",
          "2023-08-02",
          "2023-08-03",
          "2023-08-04",
          "2023-08-05",
          "2023-08-06",
          "2023-08-07",
          "2023-08-08",
          "2023-08-09",
          "2023-08-10",
          "2023-08-11",
          "2023-08-12",
          "2023-08-13",
          "2023-08-14",
          "2023-08-15",
          "2023-08-16",
          "2023-08-17",
          "2023-08-18",
          "2023-08-19",
          "2023-08-20",
          "2023-08-21",
          "2023-08-22",
          "2023-08-23",
          "2023-08-24",
          "2023-08-25",
          "2023-08-26",
          "2023-08-27",
          "2023-08-28",
          "2023-08-29",
          "2023-08-30",
          "2023-08-31",
          "2023-09-01",
          "2023-09-02",
          "2023-09-03",
          "2023-09-04",
          "2023-09-05",
          "2023-09-06",
          "2023-09-07",
          "2023-09-08",
          "2023-09-09",
          "2023-09-10",
          "2023-09-11",
          "2023-09-12",
          "2023-09-13",
          "2023-09-14",
          "2023-09-15",
          "2023-09-16",
          "2023-09-17",
          "2023-09-18",
          "2023-09-19",
          "2023-09-20",
          "2023-09-21",
          "2023-09-22",
          "2023-09-23",
          "2023-09-24",
          "2023-09-25",
          "2023-09-26",
          "2023-09-27",
          "2023-09-28",
          "2023-09-29",
          "2023-09-30"
         ],
         "y": [
          478.9407847453036,
          534.3503492661176,
          540.9955490556581,
          461.9550204994363,
          535.309627401487,
          615.473679545219,
          599.5547435178077,
          543.4151950714914,
          482.64296473521586,
          413.76245063708694,
          439.0098628655885,
          518.8267189274832,
          555.0749063047473,
          625.0482659250788,
          673.4800789590624,
          619.3979221724967,
          626.6722195096253,
          583.7790894867571,
          542.3952562884737,
          438.6622324468923,
          322.45847663164824,
          415.76815436383987,
          343.3174188697393,
          360.6800890723505,
          537.1143762248399,
          509.69357723956534,
          494.90375745818983,
          523.3874454828947,
          473.7106800267082,
          480.07744361863297,
          485.2866295789807,
          476.77656788411775,
          549.6352888632101,
          561.498214186984,
          492.94506913180106,
          537.6328303376544,
          457.3138003147522,
          475.47826907461905,
          405.76295597984154,
          513.5522278640058,
          631.9801150277099,
          691.240795984637,
          728.7027545705922,
          763.6013378531774,
          636.4753671612374,
          600.020635989624,
          727.5235391242323,
          679.7674925861425,
          677.4150917544107,
          706.7239689225612,
          661.277335850809,
          390.77234014180414,
          347.7052988485362,
          317.61823610550687,
          216.6550399448498,
          179.31298114360757,
          186.24166271302977,
          251.17700437176418,
          182.11505097910384,
          368.7549030995139,
          600.2302467572144,
          791.4069610489538,
          822.8480017519804,
          814.7247355282898,
          876.5089636919218,
          927.7178290517514,
          943.0600440169416,
          950.5992144432814,
          895.9484566581963,
          967.3379166575345,
          998.2175697281967,
          1009.5261275956875,
          996.3780674588455,
          1023.9896118949464,
          990.5580900999848,
          1021.1263941287525,
          1026.6283143725705,
          1021.5614698093547,
          1025.9035417050902,
          948.2284144040801,
          1005.3892236715618,
          1034.9687454889015,
          1000.6737914206559,
          1031.132401591213,
          1031.2610784623776,
          1019.7561225352356,
          964.8848002904675,
          988.7345997282839,
          1041.0107035217625,
          1004.6480854448206,
          1006.6611633803294,
          998.6242775947908
         ]
        },
        {
         "mode": "lines",
         "name": "Valores predichos de test -1",
         "type": "scatter",
         "x": [
          "2023-07-01",
          "2023-07-02",
          "2023-07-03",
          "2023-07-04",
          "2023-07-05",
          "2023-07-06",
          "2023-07-07",
          "2023-07-08",
          "2023-07-09",
          "2023-07-10",
          "2023-07-11",
          "2023-07-12",
          "2023-07-13",
          "2023-07-14",
          "2023-07-15",
          "2023-07-16",
          "2023-07-17",
          "2023-07-18",
          "2023-07-19",
          "2023-07-20",
          "2023-07-21",
          "2023-07-22",
          "2023-07-23",
          "2023-07-24",
          "2023-07-25",
          "2023-07-26",
          "2023-07-27",
          "2023-07-28",
          "2023-07-29",
          "2023-07-30",
          "2023-07-31",
          "2023-08-01",
          "2023-08-02",
          "2023-08-03",
          "2023-08-04",
          "2023-08-05",
          "2023-08-06",
          "2023-08-07",
          "2023-08-08",
          "2023-08-09",
          "2023-08-10",
          "2023-08-11",
          "2023-08-12",
          "2023-08-13",
          "2023-08-14",
          "2023-08-15",
          "2023-08-16",
          "2023-08-17",
          "2023-08-18",
          "2023-08-19",
          "2023-08-20",
          "2023-08-21",
          "2023-08-22",
          "2023-08-23",
          "2023-08-24",
          "2023-08-25",
          "2023-08-26",
          "2023-08-27",
          "2023-08-28",
          "2023-08-29",
          "2023-08-30",
          "2023-08-31",
          "2023-09-01",
          "2023-09-02",
          "2023-09-03",
          "2023-09-04",
          "2023-09-05",
          "2023-09-06",
          "2023-09-07",
          "2023-09-08",
          "2023-09-09",
          "2023-09-10",
          "2023-09-11",
          "2023-09-12",
          "2023-09-13",
          "2023-09-14",
          "2023-09-15",
          "2023-09-16",
          "2023-09-17",
          "2023-09-18",
          "2023-09-19",
          "2023-09-20",
          "2023-09-21",
          "2023-09-22",
          "2023-09-23",
          "2023-09-24",
          "2023-09-25",
          "2023-09-26",
          "2023-09-27",
          "2023-09-28",
          "2023-09-29",
          "2023-09-30"
         ],
         "y": [
          526.2046836642131,
          551.4243626813575,
          466.80189700517695,
          526.5915192280403,
          626.8805730952889,
          579.5181375893458,
          522.4977932467926,
          482.6556594715065,
          415.1894010111043,
          430.7560422433836,
          512.1669724001815,
          559.5996431124578,
          636.3098242763073,
          683.7602799268244,
          624.4598230302505,
          633.7456250439086,
          593.685733907254,
          543.8309936748361,
          459.1669553699075,
          320.7183525597879,
          433.7602603919898,
          354.06745306381237,
          380.80939469933674,
          547.2411003196679,
          520.2782318485347,
          518.5111672547408,
          537.3601235528014,
          493.2368160305774,
          477.8311044646315,
          484.3274250925433,
          469.6792981620388,
          551.7614840047098,
          562.3229598356972,
          487.18835541134723,
          555.2799368784421,
          454.29505001888015,
          476.84109396101,
          409.5542858497271,
          515.2882252816056,
          640.0107017903599,
          685.0696792189724,
          695.966668601631,
          703.1559339945218,
          575.7369706475138,
          589.783851178043,
          716.0741305827333,
          683.7649319318886,
          684.9589761117114,
          700.1907756262489,
          667.7796220528976,
          409.140711697168,
          360.46354179760147,
          318.48607496618405,
          207.10911176634627,
          189.63091148805333,
          203.54348944986972,
          258.36670121990187,
          198.39084729960942,
          382.44059209744415,
          602.055184373638,
          794.4932279922543,
          824.8418798578167,
          828.7961416001601,
          867.2762596920578,
          922.9863981018362,
          935.2490137060449,
          946.7045044420329,
          894.6974875190382,
          956.8699862621913,
          993.687349108904,
          1026.0725590730187,
          997.1695582320808,
          1023.8104009755556,
          955.1868295623489,
          1033.7454451455365,
          1046.5386615659552,
          1019.6476801606419,
          1023.7885013714617,
          954.7104002899006,
          1002.4178508849806,
          1024.4203594913508,
          990.3912700423544,
          1042.5442396047392,
          1040.3154152214156,
          1013.238165766735,
          963.8808651560556,
          985.9168671505207,
          1042.2371983185287,
          990.0389594812938,
          994.7845113819666,
          986.9083626174832
         ]
        }
       ],
       "layout": {
        "legend": {
         "tracegroupgap": 0
        },
        "template": {
         "data": {
          "bar": [
           {
            "error_x": {
             "color": "#2a3f5f"
            },
            "error_y": {
             "color": "#2a3f5f"
            },
            "marker": {
             "line": {
              "color": "#E5ECF6",
              "width": 0.5
             },
             "pattern": {
              "fillmode": "overlay",
              "size": 10,
              "solidity": 0.2
             }
            },
            "type": "bar"
           }
          ],
          "barpolar": [
           {
            "marker": {
             "line": {
              "color": "#E5ECF6",
              "width": 0.5
             },
             "pattern": {
              "fillmode": "overlay",
              "size": 10,
              "solidity": 0.2
             }
            },
            "type": "barpolar"
           }
          ],
          "carpet": [
           {
            "aaxis": {
             "endlinecolor": "#2a3f5f",
             "gridcolor": "white",
             "linecolor": "white",
             "minorgridcolor": "white",
             "startlinecolor": "#2a3f5f"
            },
            "baxis": {
             "endlinecolor": "#2a3f5f",
             "gridcolor": "white",
             "linecolor": "white",
             "minorgridcolor": "white",
             "startlinecolor": "#2a3f5f"
            },
            "type": "carpet"
           }
          ],
          "choropleth": [
           {
            "colorbar": {
             "outlinewidth": 0,
             "ticks": ""
            },
            "type": "choropleth"
           }
          ],
          "contour": [
           {
            "colorbar": {
             "outlinewidth": 0,
             "ticks": ""
            },
            "colorscale": [
             [
              0,
              "#0d0887"
             ],
             [
              0.1111111111111111,
              "#46039f"
             ],
             [
              0.2222222222222222,
              "#7201a8"
             ],
             [
              0.3333333333333333,
              "#9c179e"
             ],
             [
              0.4444444444444444,
              "#bd3786"
             ],
             [
              0.5555555555555556,
              "#d8576b"
             ],
             [
              0.6666666666666666,
              "#ed7953"
             ],
             [
              0.7777777777777778,
              "#fb9f3a"
             ],
             [
              0.8888888888888888,
              "#fdca26"
             ],
             [
              1,
              "#f0f921"
             ]
            ],
            "type": "contour"
           }
          ],
          "contourcarpet": [
           {
            "colorbar": {
             "outlinewidth": 0,
             "ticks": ""
            },
            "type": "contourcarpet"
           }
          ],
          "heatmap": [
           {
            "colorbar": {
             "outlinewidth": 0,
             "ticks": ""
            },
            "colorscale": [
             [
              0,
              "#0d0887"
             ],
             [
              0.1111111111111111,
              "#46039f"
             ],
             [
              0.2222222222222222,
              "#7201a8"
             ],
             [
              0.3333333333333333,
              "#9c179e"
             ],
             [
              0.4444444444444444,
              "#bd3786"
             ],
             [
              0.5555555555555556,
              "#d8576b"
             ],
             [
              0.6666666666666666,
              "#ed7953"
             ],
             [
              0.7777777777777778,
              "#fb9f3a"
             ],
             [
              0.8888888888888888,
              "#fdca26"
             ],
             [
              1,
              "#f0f921"
             ]
            ],
            "type": "heatmap"
           }
          ],
          "heatmapgl": [
           {
            "colorbar": {
             "outlinewidth": 0,
             "ticks": ""
            },
            "colorscale": [
             [
              0,
              "#0d0887"
             ],
             [
              0.1111111111111111,
              "#46039f"
             ],
             [
              0.2222222222222222,
              "#7201a8"
             ],
             [
              0.3333333333333333,
              "#9c179e"
             ],
             [
              0.4444444444444444,
              "#bd3786"
             ],
             [
              0.5555555555555556,
              "#d8576b"
             ],
             [
              0.6666666666666666,
              "#ed7953"
             ],
             [
              0.7777777777777778,
              "#fb9f3a"
             ],
             [
              0.8888888888888888,
              "#fdca26"
             ],
             [
              1,
              "#f0f921"
             ]
            ],
            "type": "heatmapgl"
           }
          ],
          "histogram": [
           {
            "marker": {
             "pattern": {
              "fillmode": "overlay",
              "size": 10,
              "solidity": 0.2
             }
            },
            "type": "histogram"
           }
          ],
          "histogram2d": [
           {
            "colorbar": {
             "outlinewidth": 0,
             "ticks": ""
            },
            "colorscale": [
             [
              0,
              "#0d0887"
             ],
             [
              0.1111111111111111,
              "#46039f"
             ],
             [
              0.2222222222222222,
              "#7201a8"
             ],
             [
              0.3333333333333333,
              "#9c179e"
             ],
             [
              0.4444444444444444,
              "#bd3786"
             ],
             [
              0.5555555555555556,
              "#d8576b"
             ],
             [
              0.6666666666666666,
              "#ed7953"
             ],
             [
              0.7777777777777778,
              "#fb9f3a"
             ],
             [
              0.8888888888888888,
              "#fdca26"
             ],
             [
              1,
              "#f0f921"
             ]
            ],
            "type": "histogram2d"
           }
          ],
          "histogram2dcontour": [
           {
            "colorbar": {
             "outlinewidth": 0,
             "ticks": ""
            },
            "colorscale": [
             [
              0,
              "#0d0887"
             ],
             [
              0.1111111111111111,
              "#46039f"
             ],
             [
              0.2222222222222222,
              "#7201a8"
             ],
             [
              0.3333333333333333,
              "#9c179e"
             ],
             [
              0.4444444444444444,
              "#bd3786"
             ],
             [
              0.5555555555555556,
              "#d8576b"
             ],
             [
              0.6666666666666666,
              "#ed7953"
             ],
             [
              0.7777777777777778,
              "#fb9f3a"
             ],
             [
              0.8888888888888888,
              "#fdca26"
             ],
             [
              1,
              "#f0f921"
             ]
            ],
            "type": "histogram2dcontour"
           }
          ],
          "mesh3d": [
           {
            "colorbar": {
             "outlinewidth": 0,
             "ticks": ""
            },
            "type": "mesh3d"
           }
          ],
          "parcoords": [
           {
            "line": {
             "colorbar": {
              "outlinewidth": 0,
              "ticks": ""
             }
            },
            "type": "parcoords"
           }
          ],
          "pie": [
           {
            "automargin": true,
            "type": "pie"
           }
          ],
          "scatter": [
           {
            "fillpattern": {
             "fillmode": "overlay",
             "size": 10,
             "solidity": 0.2
            },
            "type": "scatter"
           }
          ],
          "scatter3d": [
           {
            "line": {
             "colorbar": {
              "outlinewidth": 0,
              "ticks": ""
             }
            },
            "marker": {
             "colorbar": {
              "outlinewidth": 0,
              "ticks": ""
             }
            },
            "type": "scatter3d"
           }
          ],
          "scattercarpet": [
           {
            "marker": {
             "colorbar": {
              "outlinewidth": 0,
              "ticks": ""
             }
            },
            "type": "scattercarpet"
           }
          ],
          "scattergeo": [
           {
            "marker": {
             "colorbar": {
              "outlinewidth": 0,
              "ticks": ""
             }
            },
            "type": "scattergeo"
           }
          ],
          "scattergl": [
           {
            "marker": {
             "colorbar": {
              "outlinewidth": 0,
              "ticks": ""
             }
            },
            "type": "scattergl"
           }
          ],
          "scattermapbox": [
           {
            "marker": {
             "colorbar": {
              "outlinewidth": 0,
              "ticks": ""
             }
            },
            "type": "scattermapbox"
           }
          ],
          "scatterpolar": [
           {
            "marker": {
             "colorbar": {
              "outlinewidth": 0,
              "ticks": ""
             }
            },
            "type": "scatterpolar"
           }
          ],
          "scatterpolargl": [
           {
            "marker": {
             "colorbar": {
              "outlinewidth": 0,
              "ticks": ""
             }
            },
            "type": "scatterpolargl"
           }
          ],
          "scatterternary": [
           {
            "marker": {
             "colorbar": {
              "outlinewidth": 0,
              "ticks": ""
             }
            },
            "type": "scatterternary"
           }
          ],
          "surface": [
           {
            "colorbar": {
             "outlinewidth": 0,
             "ticks": ""
            },
            "colorscale": [
             [
              0,
              "#0d0887"
             ],
             [
              0.1111111111111111,
              "#46039f"
             ],
             [
              0.2222222222222222,
              "#7201a8"
             ],
             [
              0.3333333333333333,
              "#9c179e"
             ],
             [
              0.4444444444444444,
              "#bd3786"
             ],
             [
              0.5555555555555556,
              "#d8576b"
             ],
             [
              0.6666666666666666,
              "#ed7953"
             ],
             [
              0.7777777777777778,
              "#fb9f3a"
             ],
             [
              0.8888888888888888,
              "#fdca26"
             ],
             [
              1,
              "#f0f921"
             ]
            ],
            "type": "surface"
           }
          ],
          "table": [
           {
            "cells": {
             "fill": {
              "color": "#EBF0F8"
             },
             "line": {
              "color": "white"
             }
            },
            "header": {
             "fill": {
              "color": "#C8D4E3"
             },
             "line": {
              "color": "white"
             }
            },
            "type": "table"
           }
          ]
         },
         "layout": {
          "annotationdefaults": {
           "arrowcolor": "#2a3f5f",
           "arrowhead": 0,
           "arrowwidth": 1
          },
          "autotypenumbers": "strict",
          "coloraxis": {
           "colorbar": {
            "outlinewidth": 0,
            "ticks": ""
           }
          },
          "colorscale": {
           "diverging": [
            [
             0,
             "#8e0152"
            ],
            [
             0.1,
             "#c51b7d"
            ],
            [
             0.2,
             "#de77ae"
            ],
            [
             0.3,
             "#f1b6da"
            ],
            [
             0.4,
             "#fde0ef"
            ],
            [
             0.5,
             "#f7f7f7"
            ],
            [
             0.6,
             "#e6f5d0"
            ],
            [
             0.7,
             "#b8e186"
            ],
            [
             0.8,
             "#7fbc41"
            ],
            [
             0.9,
             "#4d9221"
            ],
            [
             1,
             "#276419"
            ]
           ],
           "sequential": [
            [
             0,
             "#0d0887"
            ],
            [
             0.1111111111111111,
             "#46039f"
            ],
            [
             0.2222222222222222,
             "#7201a8"
            ],
            [
             0.3333333333333333,
             "#9c179e"
            ],
            [
             0.4444444444444444,
             "#bd3786"
            ],
            [
             0.5555555555555556,
             "#d8576b"
            ],
            [
             0.6666666666666666,
             "#ed7953"
            ],
            [
             0.7777777777777778,
             "#fb9f3a"
            ],
            [
             0.8888888888888888,
             "#fdca26"
            ],
            [
             1,
             "#f0f921"
            ]
           ],
           "sequentialminus": [
            [
             0,
             "#0d0887"
            ],
            [
             0.1111111111111111,
             "#46039f"
            ],
            [
             0.2222222222222222,
             "#7201a8"
            ],
            [
             0.3333333333333333,
             "#9c179e"
            ],
            [
             0.4444444444444444,
             "#bd3786"
            ],
            [
             0.5555555555555556,
             "#d8576b"
            ],
            [
             0.6666666666666666,
             "#ed7953"
            ],
            [
             0.7777777777777778,
             "#fb9f3a"
            ],
            [
             0.8888888888888888,
             "#fdca26"
            ],
            [
             1,
             "#f0f921"
            ]
           ]
          },
          "colorway": [
           "#636efa",
           "#EF553B",
           "#00cc96",
           "#ab63fa",
           "#FFA15A",
           "#19d3f3",
           "#FF6692",
           "#B6E880",
           "#FF97FF",
           "#FECB52"
          ],
          "font": {
           "color": "#2a3f5f"
          },
          "geo": {
           "bgcolor": "white",
           "lakecolor": "white",
           "landcolor": "#E5ECF6",
           "showlakes": true,
           "showland": true,
           "subunitcolor": "white"
          },
          "hoverlabel": {
           "align": "left"
          },
          "hovermode": "closest",
          "mapbox": {
           "style": "light"
          },
          "paper_bgcolor": "white",
          "plot_bgcolor": "#E5ECF6",
          "polar": {
           "angularaxis": {
            "gridcolor": "white",
            "linecolor": "white",
            "ticks": ""
           },
           "bgcolor": "#E5ECF6",
           "radialaxis": {
            "gridcolor": "white",
            "linecolor": "white",
            "ticks": ""
           }
          },
          "scene": {
           "xaxis": {
            "backgroundcolor": "#E5ECF6",
            "gridcolor": "white",
            "gridwidth": 2,
            "linecolor": "white",
            "showbackground": true,
            "ticks": "",
            "zerolinecolor": "white"
           },
           "yaxis": {
            "backgroundcolor": "#E5ECF6",
            "gridcolor": "white",
            "gridwidth": 2,
            "linecolor": "white",
            "showbackground": true,
            "ticks": "",
            "zerolinecolor": "white"
           },
           "zaxis": {
            "backgroundcolor": "#E5ECF6",
            "gridcolor": "white",
            "gridwidth": 2,
            "linecolor": "white",
            "showbackground": true,
            "ticks": "",
            "zerolinecolor": "white"
           }
          },
          "shapedefaults": {
           "line": {
            "color": "#2a3f5f"
           }
          },
          "ternary": {
           "aaxis": {
            "gridcolor": "white",
            "linecolor": "white",
            "ticks": ""
           },
           "baxis": {
            "gridcolor": "white",
            "linecolor": "white",
            "ticks": ""
           },
           "bgcolor": "#E5ECF6",
           "caxis": {
            "gridcolor": "white",
            "linecolor": "white",
            "ticks": ""
           }
          },
          "title": {
           "x": 0.05
          },
          "xaxis": {
           "automargin": true,
           "gridcolor": "white",
           "linecolor": "white",
           "ticks": "",
           "title": {
            "standoff": 15
           },
           "zerolinecolor": "white",
           "zerolinewidth": 2
          },
          "yaxis": {
           "automargin": true,
           "gridcolor": "white",
           "linecolor": "white",
           "ticks": "",
           "title": {
            "standoff": 15
           },
           "zerolinecolor": "white",
           "zerolinewidth": 2
          }
         }
        },
        "title": {
         "text": "Forecasting of Energy Price with Forward MLR with 4 lags"
        },
        "xaxis": {
         "anchor": "y",
         "domain": [
          0,
          1
         ],
         "title": {
          "text": "Date"
         }
        },
        "yaxis": {
         "anchor": "x",
         "domain": [
          0,
          1
         ],
         "title": {
          "text": "Average Energy Price"
         }
        }
       }
      }
     },
     "metadata": {},
     "output_type": "display_data"
    }
   ],
   "source": [
    "fig_lag4 = px.line(\n",
    "    x=X_train_dates_f,\n",
    "    y=y_train_f,\n",
    "    title=\"Forecasting of Energy Price with Forward MLR with 4 lags\",\n",
    ")\n",
    "fig_lag4.update_layout(xaxis_title=\"Date\", yaxis_title=\"Average Energy Price\")\n",
    "fig_lag4.add_trace(\n",
    "    go.Scatter(\n",
    "        x=X_train_dates_f, y=y_pred_train_f, mode=\"lines\", name=\"Valores predichos de train\"\n",
    "    )\n",
    ")\n",
    "fig_lag4.add_trace(\n",
    "    go.Scatter(\n",
    "        x=X_test_dates_f, y=y_test_f, mode=\"lines\", name=\"Valores reales de test\"\n",
    "    )\n",
    ")\n",
    "fig_lag4.add_trace(\n",
    "    go.Scatter(\n",
    "        x=X_test_dates_f, y=y_pred_f, mode=\"lines\", name=\"Valores predichos de test\"\n",
    "    )\n",
    ")\n",
    "fig_lag4.add_trace(\n",
    "    go.Scatter(\n",
    "        x=X_test_dates_f,\n",
    "        y=y_pred_1_f,\n",
    "        mode=\"lines\",\n",
    "        name=\"Valores predichos de test -1\",\n",
    "    )\n",
    ")\n",
    "fig_lag4.show()"
   ]
  },
  {
   "cell_type": "markdown",
   "metadata": {},
   "source": [
    "Matriz de correlacion de las variables seleccionadas por el mejor modelo, selección Forward\n"
   ]
  },
  {
   "cell_type": "code",
   "execution_count": 27,
   "metadata": {},
   "outputs": [
    {
     "data": {
      "text/html": [
       "<div>\n",
       "<style scoped>\n",
       "    .dataframe tbody tr th:only-of-type {\n",
       "        vertical-align: middle;\n",
       "    }\n",
       "\n",
       "    .dataframe tbody tr th {\n",
       "        vertical-align: top;\n",
       "    }\n",
       "\n",
       "    .dataframe thead th {\n",
       "        text-align: right;\n",
       "    }\n",
       "</style>\n",
       "<table border=\"1\" class=\"dataframe\">\n",
       "  <thead>\n",
       "    <tr style=\"text-align: right;\">\n",
       "      <th></th>\n",
       "      <th>precipitacion_amazonas</th>\n",
       "      <th>precipitacion_boyaca</th>\n",
       "      <th>precipitacion_casanare</th>\n",
       "      <th>precipitacion_cauca</th>\n",
       "      <th>precipitacion_cesar</th>\n",
       "      <th>precipitacion_cordoba</th>\n",
       "      <th>precipitacion_guainia</th>\n",
       "      <th>precipitacion_guaviare</th>\n",
       "      <th>precipitacion_huila</th>\n",
       "      <th>precipitacion_la guajira</th>\n",
       "      <th>...</th>\n",
       "      <th>temp_GUAVIARE</th>\n",
       "      <th>temp_HUILA</th>\n",
       "      <th>temp_MAGDALENA</th>\n",
       "      <th>temp_META</th>\n",
       "      <th>temp_PUTUMAYO</th>\n",
       "      <th>temp_SANTANDER</th>\n",
       "      <th>temp_SUCRE</th>\n",
       "      <th>TRM</th>\n",
       "      <th>energy_price_lag_1</th>\n",
       "      <th>energy_price</th>\n",
       "    </tr>\n",
       "  </thead>\n",
       "  <tbody>\n",
       "    <tr>\n",
       "      <th>precipitacion_amazonas</th>\n",
       "      <td>1.000000</td>\n",
       "      <td>0.003377</td>\n",
       "      <td>-0.013944</td>\n",
       "      <td>0.092787</td>\n",
       "      <td>-0.015654</td>\n",
       "      <td>0.003463</td>\n",
       "      <td>-0.060990</td>\n",
       "      <td>0.042756</td>\n",
       "      <td>-0.012342</td>\n",
       "      <td>-0.105555</td>\n",
       "      <td>...</td>\n",
       "      <td>0.028708</td>\n",
       "      <td>0.085728</td>\n",
       "      <td>-0.011852</td>\n",
       "      <td>0.127450</td>\n",
       "      <td>0.045184</td>\n",
       "      <td>-0.006199</td>\n",
       "      <td>0.109788</td>\n",
       "      <td>-0.016610</td>\n",
       "      <td>0.058035</td>\n",
       "      <td>0.055893</td>\n",
       "    </tr>\n",
       "    <tr>\n",
       "      <th>precipitacion_boyaca</th>\n",
       "      <td>0.003377</td>\n",
       "      <td>1.000000</td>\n",
       "      <td>0.469230</td>\n",
       "      <td>0.217183</td>\n",
       "      <td>0.074520</td>\n",
       "      <td>0.270436</td>\n",
       "      <td>0.096883</td>\n",
       "      <td>0.316980</td>\n",
       "      <td>0.328735</td>\n",
       "      <td>0.154142</td>\n",
       "      <td>...</td>\n",
       "      <td>-0.209166</td>\n",
       "      <td>-0.093823</td>\n",
       "      <td>-0.002537</td>\n",
       "      <td>-0.112117</td>\n",
       "      <td>-0.003793</td>\n",
       "      <td>-0.166184</td>\n",
       "      <td>-0.145058</td>\n",
       "      <td>-0.074198</td>\n",
       "      <td>-0.063845</td>\n",
       "      <td>-0.070192</td>\n",
       "    </tr>\n",
       "    <tr>\n",
       "      <th>precipitacion_casanare</th>\n",
       "      <td>-0.013944</td>\n",
       "      <td>0.469230</td>\n",
       "      <td>1.000000</td>\n",
       "      <td>0.029455</td>\n",
       "      <td>0.018671</td>\n",
       "      <td>0.130931</td>\n",
       "      <td>0.141844</td>\n",
       "      <td>0.223168</td>\n",
       "      <td>0.094156</td>\n",
       "      <td>0.023348</td>\n",
       "      <td>...</td>\n",
       "      <td>-0.129983</td>\n",
       "      <td>0.006804</td>\n",
       "      <td>0.153480</td>\n",
       "      <td>-0.277689</td>\n",
       "      <td>-0.128337</td>\n",
       "      <td>0.096555</td>\n",
       "      <td>0.014259</td>\n",
       "      <td>-0.043775</td>\n",
       "      <td>0.140932</td>\n",
       "      <td>0.136466</td>\n",
       "    </tr>\n",
       "    <tr>\n",
       "      <th>precipitacion_cauca</th>\n",
       "      <td>0.092787</td>\n",
       "      <td>0.217183</td>\n",
       "      <td>0.029455</td>\n",
       "      <td>1.000000</td>\n",
       "      <td>0.018585</td>\n",
       "      <td>0.157075</td>\n",
       "      <td>-0.068266</td>\n",
       "      <td>0.294807</td>\n",
       "      <td>0.439126</td>\n",
       "      <td>0.097578</td>\n",
       "      <td>...</td>\n",
       "      <td>-0.124964</td>\n",
       "      <td>-0.044479</td>\n",
       "      <td>-0.140244</td>\n",
       "      <td>0.256023</td>\n",
       "      <td>0.119101</td>\n",
       "      <td>-0.275566</td>\n",
       "      <td>0.018197</td>\n",
       "      <td>0.132390</td>\n",
       "      <td>-0.090129</td>\n",
       "      <td>-0.097477</td>\n",
       "    </tr>\n",
       "    <tr>\n",
       "      <th>precipitacion_cesar</th>\n",
       "      <td>-0.015654</td>\n",
       "      <td>0.074520</td>\n",
       "      <td>0.018671</td>\n",
       "      <td>0.018585</td>\n",
       "      <td>1.000000</td>\n",
       "      <td>0.075474</td>\n",
       "      <td>0.095274</td>\n",
       "      <td>0.168250</td>\n",
       "      <td>0.030442</td>\n",
       "      <td>0.042679</td>\n",
       "      <td>...</td>\n",
       "      <td>-0.138443</td>\n",
       "      <td>-0.091645</td>\n",
       "      <td>-0.080625</td>\n",
       "      <td>0.020425</td>\n",
       "      <td>-0.022170</td>\n",
       "      <td>-0.146217</td>\n",
       "      <td>-0.072357</td>\n",
       "      <td>-0.113215</td>\n",
       "      <td>-0.133672</td>\n",
       "      <td>-0.136470</td>\n",
       "    </tr>\n",
       "    <tr>\n",
       "      <th>precipitacion_cordoba</th>\n",
       "      <td>0.003463</td>\n",
       "      <td>0.270436</td>\n",
       "      <td>0.130931</td>\n",
       "      <td>0.157075</td>\n",
       "      <td>0.075474</td>\n",
       "      <td>1.000000</td>\n",
       "      <td>0.073366</td>\n",
       "      <td>0.239387</td>\n",
       "      <td>0.008482</td>\n",
       "      <td>0.043279</td>\n",
       "      <td>...</td>\n",
       "      <td>-0.241132</td>\n",
       "      <td>-0.040046</td>\n",
       "      <td>-0.044516</td>\n",
       "      <td>0.061909</td>\n",
       "      <td>0.032285</td>\n",
       "      <td>-0.289121</td>\n",
       "      <td>-0.178928</td>\n",
       "      <td>-0.403029</td>\n",
       "      <td>-0.258182</td>\n",
       "      <td>-0.264050</td>\n",
       "    </tr>\n",
       "    <tr>\n",
       "      <th>precipitacion_guainia</th>\n",
       "      <td>-0.060990</td>\n",
       "      <td>0.096883</td>\n",
       "      <td>0.141844</td>\n",
       "      <td>-0.068266</td>\n",
       "      <td>0.095274</td>\n",
       "      <td>0.073366</td>\n",
       "      <td>1.000000</td>\n",
       "      <td>0.114005</td>\n",
       "      <td>0.059689</td>\n",
       "      <td>0.000670</td>\n",
       "      <td>...</td>\n",
       "      <td>-0.130006</td>\n",
       "      <td>-0.069301</td>\n",
       "      <td>0.019486</td>\n",
       "      <td>-0.062573</td>\n",
       "      <td>-0.080382</td>\n",
       "      <td>-0.038425</td>\n",
       "      <td>-0.011868</td>\n",
       "      <td>-0.086251</td>\n",
       "      <td>-0.078413</td>\n",
       "      <td>-0.078516</td>\n",
       "    </tr>\n",
       "    <tr>\n",
       "      <th>precipitacion_guaviare</th>\n",
       "      <td>0.042756</td>\n",
       "      <td>0.316980</td>\n",
       "      <td>0.223168</td>\n",
       "      <td>0.294807</td>\n",
       "      <td>0.168250</td>\n",
       "      <td>0.239387</td>\n",
       "      <td>0.114005</td>\n",
       "      <td>1.000000</td>\n",
       "      <td>0.220012</td>\n",
       "      <td>0.033916</td>\n",
       "      <td>...</td>\n",
       "      <td>-0.249592</td>\n",
       "      <td>-0.108831</td>\n",
       "      <td>-0.027935</td>\n",
       "      <td>-0.086157</td>\n",
       "      <td>-0.091764</td>\n",
       "      <td>-0.182547</td>\n",
       "      <td>-0.100444</td>\n",
       "      <td>-0.024023</td>\n",
       "      <td>-0.112851</td>\n",
       "      <td>-0.110750</td>\n",
       "    </tr>\n",
       "    <tr>\n",
       "      <th>precipitacion_huila</th>\n",
       "      <td>-0.012342</td>\n",
       "      <td>0.328735</td>\n",
       "      <td>0.094156</td>\n",
       "      <td>0.439126</td>\n",
       "      <td>0.030442</td>\n",
       "      <td>0.008482</td>\n",
       "      <td>0.059689</td>\n",
       "      <td>0.220012</td>\n",
       "      <td>1.000000</td>\n",
       "      <td>0.108056</td>\n",
       "      <td>...</td>\n",
       "      <td>-0.224848</td>\n",
       "      <td>-0.312918</td>\n",
       "      <td>-0.128290</td>\n",
       "      <td>-0.043109</td>\n",
       "      <td>-0.061101</td>\n",
       "      <td>-0.200322</td>\n",
       "      <td>-0.034461</td>\n",
       "      <td>0.178945</td>\n",
       "      <td>-0.109610</td>\n",
       "      <td>-0.125479</td>\n",
       "    </tr>\n",
       "    <tr>\n",
       "      <th>precipitacion_la guajira</th>\n",
       "      <td>-0.105555</td>\n",
       "      <td>0.154142</td>\n",
       "      <td>0.023348</td>\n",
       "      <td>0.097578</td>\n",
       "      <td>0.042679</td>\n",
       "      <td>0.043279</td>\n",
       "      <td>0.000670</td>\n",
       "      <td>0.033916</td>\n",
       "      <td>0.108056</td>\n",
       "      <td>1.000000</td>\n",
       "      <td>...</td>\n",
       "      <td>-0.081025</td>\n",
       "      <td>-0.062980</td>\n",
       "      <td>-0.031452</td>\n",
       "      <td>0.065108</td>\n",
       "      <td>0.075077</td>\n",
       "      <td>-0.177474</td>\n",
       "      <td>-0.169190</td>\n",
       "      <td>0.093914</td>\n",
       "      <td>-0.145940</td>\n",
       "      <td>-0.143783</td>\n",
       "    </tr>\n",
       "    <tr>\n",
       "      <th>precipitacion_putumayo</th>\n",
       "      <td>-0.002941</td>\n",
       "      <td>0.108220</td>\n",
       "      <td>0.155049</td>\n",
       "      <td>0.100622</td>\n",
       "      <td>0.005954</td>\n",
       "      <td>-0.019398</td>\n",
       "      <td>0.053669</td>\n",
       "      <td>0.112019</td>\n",
       "      <td>0.330251</td>\n",
       "      <td>-0.019645</td>\n",
       "      <td>...</td>\n",
       "      <td>-0.037073</td>\n",
       "      <td>-0.110915</td>\n",
       "      <td>0.059891</td>\n",
       "      <td>-0.122531</td>\n",
       "      <td>-0.206693</td>\n",
       "      <td>0.072793</td>\n",
       "      <td>0.077145</td>\n",
       "      <td>0.030287</td>\n",
       "      <td>0.084284</td>\n",
       "      <td>0.076281</td>\n",
       "    </tr>\n",
       "    <tr>\n",
       "      <th>precipitacion_quindio</th>\n",
       "      <td>0.066552</td>\n",
       "      <td>0.235073</td>\n",
       "      <td>-0.012329</td>\n",
       "      <td>0.356546</td>\n",
       "      <td>0.074166</td>\n",
       "      <td>0.193347</td>\n",
       "      <td>-0.037419</td>\n",
       "      <td>0.134676</td>\n",
       "      <td>0.383248</td>\n",
       "      <td>0.022801</td>\n",
       "      <td>...</td>\n",
       "      <td>-0.173449</td>\n",
       "      <td>-0.125968</td>\n",
       "      <td>-0.152137</td>\n",
       "      <td>0.042886</td>\n",
       "      <td>0.065636</td>\n",
       "      <td>-0.221744</td>\n",
       "      <td>-0.087674</td>\n",
       "      <td>-0.053172</td>\n",
       "      <td>-0.154105</td>\n",
       "      <td>-0.173347</td>\n",
       "    </tr>\n",
       "    <tr>\n",
       "      <th>precipitacion_san andres providencia</th>\n",
       "      <td>-0.062397</td>\n",
       "      <td>0.092060</td>\n",
       "      <td>0.042215</td>\n",
       "      <td>0.018385</td>\n",
       "      <td>0.003234</td>\n",
       "      <td>0.132708</td>\n",
       "      <td>0.113770</td>\n",
       "      <td>0.133882</td>\n",
       "      <td>0.067045</td>\n",
       "      <td>0.047300</td>\n",
       "      <td>...</td>\n",
       "      <td>-0.166106</td>\n",
       "      <td>-0.053400</td>\n",
       "      <td>-0.021733</td>\n",
       "      <td>-0.064349</td>\n",
       "      <td>0.007357</td>\n",
       "      <td>-0.114421</td>\n",
       "      <td>-0.113985</td>\n",
       "      <td>-0.072813</td>\n",
       "      <td>-0.108681</td>\n",
       "      <td>-0.109135</td>\n",
       "    </tr>\n",
       "    <tr>\n",
       "      <th>precipitacion_valle del cauca</th>\n",
       "      <td>0.103282</td>\n",
       "      <td>0.282871</td>\n",
       "      <td>0.011267</td>\n",
       "      <td>0.372431</td>\n",
       "      <td>0.058396</td>\n",
       "      <td>0.413604</td>\n",
       "      <td>0.004119</td>\n",
       "      <td>0.172538</td>\n",
       "      <td>0.250720</td>\n",
       "      <td>0.015232</td>\n",
       "      <td>...</td>\n",
       "      <td>-0.240821</td>\n",
       "      <td>-0.084662</td>\n",
       "      <td>-0.139014</td>\n",
       "      <td>0.100059</td>\n",
       "      <td>0.082298</td>\n",
       "      <td>-0.274406</td>\n",
       "      <td>-0.074431</td>\n",
       "      <td>-0.304854</td>\n",
       "      <td>-0.218884</td>\n",
       "      <td>-0.234541</td>\n",
       "    </tr>\n",
       "    <tr>\n",
       "      <th>precipitacion_vichada</th>\n",
       "      <td>0.007979</td>\n",
       "      <td>0.202055</td>\n",
       "      <td>0.258984</td>\n",
       "      <td>-0.094045</td>\n",
       "      <td>0.015089</td>\n",
       "      <td>0.032237</td>\n",
       "      <td>0.064322</td>\n",
       "      <td>0.056771</td>\n",
       "      <td>0.018144</td>\n",
       "      <td>-0.002710</td>\n",
       "      <td>...</td>\n",
       "      <td>-0.110670</td>\n",
       "      <td>-0.028093</td>\n",
       "      <td>0.106082</td>\n",
       "      <td>-0.232663</td>\n",
       "      <td>-0.087918</td>\n",
       "      <td>0.062282</td>\n",
       "      <td>-0.006512</td>\n",
       "      <td>-0.076597</td>\n",
       "      <td>0.073869</td>\n",
       "      <td>0.064373</td>\n",
       "    </tr>\n",
       "    <tr>\n",
       "      <th>precipitacion_departamentos_represa</th>\n",
       "      <td>0.064120</td>\n",
       "      <td>0.661171</td>\n",
       "      <td>0.222363</td>\n",
       "      <td>0.583448</td>\n",
       "      <td>0.113201</td>\n",
       "      <td>0.430903</td>\n",
       "      <td>0.071581</td>\n",
       "      <td>0.428919</td>\n",
       "      <td>0.599597</td>\n",
       "      <td>0.146513</td>\n",
       "      <td>...</td>\n",
       "      <td>-0.368439</td>\n",
       "      <td>-0.223971</td>\n",
       "      <td>-0.183622</td>\n",
       "      <td>0.018798</td>\n",
       "      <td>0.022697</td>\n",
       "      <td>-0.420264</td>\n",
       "      <td>-0.171828</td>\n",
       "      <td>-0.044155</td>\n",
       "      <td>-0.256394</td>\n",
       "      <td>-0.272411</td>\n",
       "    </tr>\n",
       "    <tr>\n",
       "      <th>temp_ARAUCA</th>\n",
       "      <td>0.087854</td>\n",
       "      <td>0.063585</td>\n",
       "      <td>-0.104227</td>\n",
       "      <td>0.209756</td>\n",
       "      <td>0.046196</td>\n",
       "      <td>0.197830</td>\n",
       "      <td>0.061261</td>\n",
       "      <td>-0.011584</td>\n",
       "      <td>0.066940</td>\n",
       "      <td>0.005616</td>\n",
       "      <td>...</td>\n",
       "      <td>-0.014469</td>\n",
       "      <td>0.165057</td>\n",
       "      <td>-0.076563</td>\n",
       "      <td>0.284308</td>\n",
       "      <td>0.225462</td>\n",
       "      <td>0.020358</td>\n",
       "      <td>0.275852</td>\n",
       "      <td>-0.168558</td>\n",
       "      <td>-0.160170</td>\n",
       "      <td>-0.160594</td>\n",
       "    </tr>\n",
       "    <tr>\n",
       "      <th>temp_ARCHIPIELAGO DE SAN ANDRES PROVIDENCIA Y SANTA CATALINA</th>\n",
       "      <td>-0.057892</td>\n",
       "      <td>0.138834</td>\n",
       "      <td>0.148221</td>\n",
       "      <td>-0.093151</td>\n",
       "      <td>-0.033574</td>\n",
       "      <td>0.030007</td>\n",
       "      <td>0.017146</td>\n",
       "      <td>-0.017279</td>\n",
       "      <td>-0.046029</td>\n",
       "      <td>0.084333</td>\n",
       "      <td>...</td>\n",
       "      <td>0.209801</td>\n",
       "      <td>0.339497</td>\n",
       "      <td>0.359000</td>\n",
       "      <td>-0.012718</td>\n",
       "      <td>0.181298</td>\n",
       "      <td>0.390470</td>\n",
       "      <td>0.131252</td>\n",
       "      <td>-0.183483</td>\n",
       "      <td>0.224531</td>\n",
       "      <td>0.231223</td>\n",
       "    </tr>\n",
       "    <tr>\n",
       "      <th>temp_ATLANTICO</th>\n",
       "      <td>0.111596</td>\n",
       "      <td>-0.109952</td>\n",
       "      <td>0.048991</td>\n",
       "      <td>-0.090341</td>\n",
       "      <td>-0.090361</td>\n",
       "      <td>-0.137979</td>\n",
       "      <td>-0.009566</td>\n",
       "      <td>-0.098489</td>\n",
       "      <td>-0.127916</td>\n",
       "      <td>-0.180006</td>\n",
       "      <td>...</td>\n",
       "      <td>0.422206</td>\n",
       "      <td>0.492165</td>\n",
       "      <td>0.539581</td>\n",
       "      <td>0.200241</td>\n",
       "      <td>0.164974</td>\n",
       "      <td>0.601026</td>\n",
       "      <td>0.702776</td>\n",
       "      <td>-0.189368</td>\n",
       "      <td>0.311362</td>\n",
       "      <td>0.318597</td>\n",
       "    </tr>\n",
       "    <tr>\n",
       "      <th>temp_BOGOTA</th>\n",
       "      <td>0.055317</td>\n",
       "      <td>-0.086756</td>\n",
       "      <td>0.011556</td>\n",
       "      <td>-0.036020</td>\n",
       "      <td>-0.129272</td>\n",
       "      <td>-0.125768</td>\n",
       "      <td>-0.061281</td>\n",
       "      <td>-0.125163</td>\n",
       "      <td>-0.165556</td>\n",
       "      <td>-0.027159</td>\n",
       "      <td>...</td>\n",
       "      <td>0.563963</td>\n",
       "      <td>0.708909</td>\n",
       "      <td>0.510369</td>\n",
       "      <td>0.334991</td>\n",
       "      <td>0.410033</td>\n",
       "      <td>0.648264</td>\n",
       "      <td>0.441116</td>\n",
       "      <td>-0.033255</td>\n",
       "      <td>0.377132</td>\n",
       "      <td>0.386555</td>\n",
       "    </tr>\n",
       "    <tr>\n",
       "      <th>temp_BOLIVAR</th>\n",
       "      <td>0.084039</td>\n",
       "      <td>-0.166264</td>\n",
       "      <td>0.036163</td>\n",
       "      <td>0.027799</td>\n",
       "      <td>-0.133887</td>\n",
       "      <td>-0.214945</td>\n",
       "      <td>-0.031114</td>\n",
       "      <td>-0.116190</td>\n",
       "      <td>-0.082509</td>\n",
       "      <td>-0.187050</td>\n",
       "      <td>...</td>\n",
       "      <td>0.474565</td>\n",
       "      <td>0.547915</td>\n",
       "      <td>0.488449</td>\n",
       "      <td>0.269379</td>\n",
       "      <td>0.204679</td>\n",
       "      <td>0.637383</td>\n",
       "      <td>0.837823</td>\n",
       "      <td>-0.052587</td>\n",
       "      <td>0.313495</td>\n",
       "      <td>0.325778</td>\n",
       "    </tr>\n",
       "    <tr>\n",
       "      <th>temp_BOYACA</th>\n",
       "      <td>0.053542</td>\n",
       "      <td>-0.098224</td>\n",
       "      <td>-0.150857</td>\n",
       "      <td>0.062810</td>\n",
       "      <td>-0.053207</td>\n",
       "      <td>-0.162803</td>\n",
       "      <td>-0.099469</td>\n",
       "      <td>-0.096342</td>\n",
       "      <td>0.030963</td>\n",
       "      <td>-0.018923</td>\n",
       "      <td>...</td>\n",
       "      <td>0.419910</td>\n",
       "      <td>0.414071</td>\n",
       "      <td>0.276205</td>\n",
       "      <td>0.451495</td>\n",
       "      <td>0.263316</td>\n",
       "      <td>0.395625</td>\n",
       "      <td>0.496482</td>\n",
       "      <td>0.197730</td>\n",
       "      <td>-0.020309</td>\n",
       "      <td>-0.006280</td>\n",
       "    </tr>\n",
       "    <tr>\n",
       "      <th>temp_CALDAS</th>\n",
       "      <td>-0.057507</td>\n",
       "      <td>-0.145868</td>\n",
       "      <td>0.081035</td>\n",
       "      <td>-0.253778</td>\n",
       "      <td>-0.161458</td>\n",
       "      <td>-0.325247</td>\n",
       "      <td>-0.047349</td>\n",
       "      <td>-0.151093</td>\n",
       "      <td>-0.151231</td>\n",
       "      <td>-0.091827</td>\n",
       "      <td>...</td>\n",
       "      <td>0.492016</td>\n",
       "      <td>0.527212</td>\n",
       "      <td>0.493683</td>\n",
       "      <td>0.033798</td>\n",
       "      <td>0.146773</td>\n",
       "      <td>0.774381</td>\n",
       "      <td>0.513628</td>\n",
       "      <td>0.185122</td>\n",
       "      <td>0.326529</td>\n",
       "      <td>0.347785</td>\n",
       "    </tr>\n",
       "    <tr>\n",
       "      <th>temp_CAQUETA</th>\n",
       "      <td>0.057531</td>\n",
       "      <td>-0.129305</td>\n",
       "      <td>-0.163412</td>\n",
       "      <td>0.076403</td>\n",
       "      <td>-0.068623</td>\n",
       "      <td>-0.120194</td>\n",
       "      <td>-0.150496</td>\n",
       "      <td>-0.164676</td>\n",
       "      <td>-0.037197</td>\n",
       "      <td>0.035398</td>\n",
       "      <td>...</td>\n",
       "      <td>0.493372</td>\n",
       "      <td>0.517268</td>\n",
       "      <td>0.152374</td>\n",
       "      <td>0.527159</td>\n",
       "      <td>0.610537</td>\n",
       "      <td>0.302629</td>\n",
       "      <td>0.265963</td>\n",
       "      <td>0.175222</td>\n",
       "      <td>0.223119</td>\n",
       "      <td>0.233247</td>\n",
       "    </tr>\n",
       "    <tr>\n",
       "      <th>temp_CASANARE</th>\n",
       "      <td>0.063267</td>\n",
       "      <td>-0.113486</td>\n",
       "      <td>-0.169138</td>\n",
       "      <td>-0.027708</td>\n",
       "      <td>-0.051978</td>\n",
       "      <td>-0.079379</td>\n",
       "      <td>-0.070240</td>\n",
       "      <td>-0.157914</td>\n",
       "      <td>-0.052077</td>\n",
       "      <td>-0.020715</td>\n",
       "      <td>...</td>\n",
       "      <td>0.586560</td>\n",
       "      <td>0.594016</td>\n",
       "      <td>0.324465</td>\n",
       "      <td>0.505765</td>\n",
       "      <td>0.435490</td>\n",
       "      <td>0.516593</td>\n",
       "      <td>0.487239</td>\n",
       "      <td>-0.096064</td>\n",
       "      <td>0.250218</td>\n",
       "      <td>0.256013</td>\n",
       "    </tr>\n",
       "    <tr>\n",
       "      <th>temp_CAUCA</th>\n",
       "      <td>0.027683</td>\n",
       "      <td>-0.116479</td>\n",
       "      <td>0.112074</td>\n",
       "      <td>-0.261330</td>\n",
       "      <td>-0.150330</td>\n",
       "      <td>-0.127775</td>\n",
       "      <td>-0.014212</td>\n",
       "      <td>-0.112952</td>\n",
       "      <td>-0.330173</td>\n",
       "      <td>-0.145942</td>\n",
       "      <td>...</td>\n",
       "      <td>0.510546</td>\n",
       "      <td>0.725859</td>\n",
       "      <td>0.566768</td>\n",
       "      <td>0.125909</td>\n",
       "      <td>0.266290</td>\n",
       "      <td>0.768457</td>\n",
       "      <td>0.561919</td>\n",
       "      <td>-0.212742</td>\n",
       "      <td>0.432064</td>\n",
       "      <td>0.448398</td>\n",
       "    </tr>\n",
       "    <tr>\n",
       "      <th>temp_CESAR</th>\n",
       "      <td>0.086809</td>\n",
       "      <td>-0.203179</td>\n",
       "      <td>0.033444</td>\n",
       "      <td>-0.074495</td>\n",
       "      <td>-0.056819</td>\n",
       "      <td>-0.171280</td>\n",
       "      <td>0.011736</td>\n",
       "      <td>-0.127031</td>\n",
       "      <td>-0.187982</td>\n",
       "      <td>-0.170179</td>\n",
       "      <td>...</td>\n",
       "      <td>0.458569</td>\n",
       "      <td>0.565599</td>\n",
       "      <td>0.546630</td>\n",
       "      <td>0.248840</td>\n",
       "      <td>0.225147</td>\n",
       "      <td>0.648368</td>\n",
       "      <td>0.706065</td>\n",
       "      <td>-0.183337</td>\n",
       "      <td>0.389733</td>\n",
       "      <td>0.402755</td>\n",
       "    </tr>\n",
       "    <tr>\n",
       "      <th>temp_CHOCO</th>\n",
       "      <td>0.131638</td>\n",
       "      <td>-0.003827</td>\n",
       "      <td>0.026182</td>\n",
       "      <td>0.061738</td>\n",
       "      <td>-0.076553</td>\n",
       "      <td>-0.120520</td>\n",
       "      <td>-0.018114</td>\n",
       "      <td>-0.018188</td>\n",
       "      <td>0.027365</td>\n",
       "      <td>-0.129126</td>\n",
       "      <td>...</td>\n",
       "      <td>0.234571</td>\n",
       "      <td>0.308709</td>\n",
       "      <td>0.085001</td>\n",
       "      <td>0.192109</td>\n",
       "      <td>0.158884</td>\n",
       "      <td>0.243473</td>\n",
       "      <td>0.491010</td>\n",
       "      <td>0.204813</td>\n",
       "      <td>0.077418</td>\n",
       "      <td>0.084108</td>\n",
       "    </tr>\n",
       "    <tr>\n",
       "      <th>temp_GUAVIARE</th>\n",
       "      <td>0.028708</td>\n",
       "      <td>-0.209166</td>\n",
       "      <td>-0.129983</td>\n",
       "      <td>-0.124964</td>\n",
       "      <td>-0.138443</td>\n",
       "      <td>-0.241132</td>\n",
       "      <td>-0.130006</td>\n",
       "      <td>-0.249592</td>\n",
       "      <td>-0.224848</td>\n",
       "      <td>-0.081025</td>\n",
       "      <td>...</td>\n",
       "      <td>1.000000</td>\n",
       "      <td>0.552004</td>\n",
       "      <td>0.337413</td>\n",
       "      <td>0.352172</td>\n",
       "      <td>0.377156</td>\n",
       "      <td>0.581567</td>\n",
       "      <td>0.457864</td>\n",
       "      <td>0.012307</td>\n",
       "      <td>0.306871</td>\n",
       "      <td>0.323098</td>\n",
       "    </tr>\n",
       "    <tr>\n",
       "      <th>temp_HUILA</th>\n",
       "      <td>0.085728</td>\n",
       "      <td>-0.093823</td>\n",
       "      <td>0.006804</td>\n",
       "      <td>-0.044479</td>\n",
       "      <td>-0.091645</td>\n",
       "      <td>-0.040046</td>\n",
       "      <td>-0.069301</td>\n",
       "      <td>-0.108831</td>\n",
       "      <td>-0.312918</td>\n",
       "      <td>-0.062980</td>\n",
       "      <td>...</td>\n",
       "      <td>0.552004</td>\n",
       "      <td>1.000000</td>\n",
       "      <td>0.488545</td>\n",
       "      <td>0.403431</td>\n",
       "      <td>0.515043</td>\n",
       "      <td>0.622177</td>\n",
       "      <td>0.476441</td>\n",
       "      <td>-0.180399</td>\n",
       "      <td>0.379334</td>\n",
       "      <td>0.393621</td>\n",
       "    </tr>\n",
       "    <tr>\n",
       "      <th>temp_MAGDALENA</th>\n",
       "      <td>-0.011852</td>\n",
       "      <td>-0.002537</td>\n",
       "      <td>0.153480</td>\n",
       "      <td>-0.140244</td>\n",
       "      <td>-0.080625</td>\n",
       "      <td>-0.044516</td>\n",
       "      <td>0.019486</td>\n",
       "      <td>-0.027935</td>\n",
       "      <td>-0.128290</td>\n",
       "      <td>-0.031452</td>\n",
       "      <td>...</td>\n",
       "      <td>0.337413</td>\n",
       "      <td>0.488545</td>\n",
       "      <td>1.000000</td>\n",
       "      <td>0.153926</td>\n",
       "      <td>0.157509</td>\n",
       "      <td>0.565090</td>\n",
       "      <td>0.365593</td>\n",
       "      <td>-0.187550</td>\n",
       "      <td>0.302520</td>\n",
       "      <td>0.310022</td>\n",
       "    </tr>\n",
       "    <tr>\n",
       "      <th>temp_META</th>\n",
       "      <td>0.127450</td>\n",
       "      <td>-0.112117</td>\n",
       "      <td>-0.277689</td>\n",
       "      <td>0.256023</td>\n",
       "      <td>0.020425</td>\n",
       "      <td>0.061909</td>\n",
       "      <td>-0.062573</td>\n",
       "      <td>-0.086157</td>\n",
       "      <td>-0.043109</td>\n",
       "      <td>0.065108</td>\n",
       "      <td>...</td>\n",
       "      <td>0.352172</td>\n",
       "      <td>0.403431</td>\n",
       "      <td>0.153926</td>\n",
       "      <td>1.000000</td>\n",
       "      <td>0.517970</td>\n",
       "      <td>0.012731</td>\n",
       "      <td>0.261220</td>\n",
       "      <td>-0.055844</td>\n",
       "      <td>-0.103762</td>\n",
       "      <td>-0.100105</td>\n",
       "    </tr>\n",
       "    <tr>\n",
       "      <th>temp_PUTUMAYO</th>\n",
       "      <td>0.045184</td>\n",
       "      <td>-0.003793</td>\n",
       "      <td>-0.128337</td>\n",
       "      <td>0.119101</td>\n",
       "      <td>-0.022170</td>\n",
       "      <td>0.032285</td>\n",
       "      <td>-0.080382</td>\n",
       "      <td>-0.091764</td>\n",
       "      <td>-0.061101</td>\n",
       "      <td>0.075077</td>\n",
       "      <td>...</td>\n",
       "      <td>0.377156</td>\n",
       "      <td>0.515043</td>\n",
       "      <td>0.157509</td>\n",
       "      <td>0.517970</td>\n",
       "      <td>1.000000</td>\n",
       "      <td>0.148294</td>\n",
       "      <td>0.191052</td>\n",
       "      <td>-0.100984</td>\n",
       "      <td>0.059616</td>\n",
       "      <td>0.073987</td>\n",
       "    </tr>\n",
       "    <tr>\n",
       "      <th>temp_SANTANDER</th>\n",
       "      <td>-0.006199</td>\n",
       "      <td>-0.166184</td>\n",
       "      <td>0.096555</td>\n",
       "      <td>-0.275566</td>\n",
       "      <td>-0.146217</td>\n",
       "      <td>-0.289121</td>\n",
       "      <td>-0.038425</td>\n",
       "      <td>-0.182547</td>\n",
       "      <td>-0.200322</td>\n",
       "      <td>-0.177474</td>\n",
       "      <td>...</td>\n",
       "      <td>0.581567</td>\n",
       "      <td>0.622177</td>\n",
       "      <td>0.565090</td>\n",
       "      <td>0.012731</td>\n",
       "      <td>0.148294</td>\n",
       "      <td>1.000000</td>\n",
       "      <td>0.614758</td>\n",
       "      <td>-0.037148</td>\n",
       "      <td>0.551862</td>\n",
       "      <td>0.564849</td>\n",
       "    </tr>\n",
       "    <tr>\n",
       "      <th>temp_SUCRE</th>\n",
       "      <td>0.109788</td>\n",
       "      <td>-0.145058</td>\n",
       "      <td>0.014259</td>\n",
       "      <td>0.018197</td>\n",
       "      <td>-0.072357</td>\n",
       "      <td>-0.178928</td>\n",
       "      <td>-0.011868</td>\n",
       "      <td>-0.100444</td>\n",
       "      <td>-0.034461</td>\n",
       "      <td>-0.169190</td>\n",
       "      <td>...</td>\n",
       "      <td>0.457864</td>\n",
       "      <td>0.476441</td>\n",
       "      <td>0.365593</td>\n",
       "      <td>0.261220</td>\n",
       "      <td>0.191052</td>\n",
       "      <td>0.614758</td>\n",
       "      <td>1.000000</td>\n",
       "      <td>-0.026484</td>\n",
       "      <td>0.238746</td>\n",
       "      <td>0.245729</td>\n",
       "    </tr>\n",
       "    <tr>\n",
       "      <th>TRM</th>\n",
       "      <td>-0.016610</td>\n",
       "      <td>-0.074198</td>\n",
       "      <td>-0.043775</td>\n",
       "      <td>0.132390</td>\n",
       "      <td>-0.113215</td>\n",
       "      <td>-0.403029</td>\n",
       "      <td>-0.086251</td>\n",
       "      <td>-0.024023</td>\n",
       "      <td>0.178945</td>\n",
       "      <td>0.093914</td>\n",
       "      <td>...</td>\n",
       "      <td>0.012307</td>\n",
       "      <td>-0.180399</td>\n",
       "      <td>-0.187550</td>\n",
       "      <td>-0.055844</td>\n",
       "      <td>-0.100984</td>\n",
       "      <td>-0.037148</td>\n",
       "      <td>-0.026484</td>\n",
       "      <td>1.000000</td>\n",
       "      <td>-0.014880</td>\n",
       "      <td>-0.017256</td>\n",
       "    </tr>\n",
       "    <tr>\n",
       "      <th>energy_price_lag_1</th>\n",
       "      <td>0.058035</td>\n",
       "      <td>-0.063845</td>\n",
       "      <td>0.140932</td>\n",
       "      <td>-0.090129</td>\n",
       "      <td>-0.133672</td>\n",
       "      <td>-0.258182</td>\n",
       "      <td>-0.078413</td>\n",
       "      <td>-0.112851</td>\n",
       "      <td>-0.109610</td>\n",
       "      <td>-0.145940</td>\n",
       "      <td>...</td>\n",
       "      <td>0.306871</td>\n",
       "      <td>0.379334</td>\n",
       "      <td>0.302520</td>\n",
       "      <td>-0.103762</td>\n",
       "      <td>0.059616</td>\n",
       "      <td>0.551862</td>\n",
       "      <td>0.238746</td>\n",
       "      <td>-0.014880</td>\n",
       "      <td>1.000000</td>\n",
       "      <td>0.981022</td>\n",
       "    </tr>\n",
       "    <tr>\n",
       "      <th>energy_price</th>\n",
       "      <td>0.055893</td>\n",
       "      <td>-0.070192</td>\n",
       "      <td>0.136466</td>\n",
       "      <td>-0.097477</td>\n",
       "      <td>-0.136470</td>\n",
       "      <td>-0.264050</td>\n",
       "      <td>-0.078516</td>\n",
       "      <td>-0.110750</td>\n",
       "      <td>-0.125479</td>\n",
       "      <td>-0.143783</td>\n",
       "      <td>...</td>\n",
       "      <td>0.323098</td>\n",
       "      <td>0.393621</td>\n",
       "      <td>0.310022</td>\n",
       "      <td>-0.100105</td>\n",
       "      <td>0.073987</td>\n",
       "      <td>0.564849</td>\n",
       "      <td>0.245729</td>\n",
       "      <td>-0.017256</td>\n",
       "      <td>0.981022</td>\n",
       "      <td>1.000000</td>\n",
       "    </tr>\n",
       "  </tbody>\n",
       "</table>\n",
       "<p>38 rows × 38 columns</p>\n",
       "</div>"
      ],
      "text/plain": [
       "                                                    precipitacion_amazonas  \\\n",
       "precipitacion_amazonas                                            1.000000   \n",
       "precipitacion_boyaca                                              0.003377   \n",
       "precipitacion_casanare                                           -0.013944   \n",
       "precipitacion_cauca                                               0.092787   \n",
       "precipitacion_cesar                                              -0.015654   \n",
       "precipitacion_cordoba                                             0.003463   \n",
       "precipitacion_guainia                                            -0.060990   \n",
       "precipitacion_guaviare                                            0.042756   \n",
       "precipitacion_huila                                              -0.012342   \n",
       "precipitacion_la guajira                                         -0.105555   \n",
       "precipitacion_putumayo                                           -0.002941   \n",
       "precipitacion_quindio                                             0.066552   \n",
       "precipitacion_san andres providencia                             -0.062397   \n",
       "precipitacion_valle del cauca                                     0.103282   \n",
       "precipitacion_vichada                                             0.007979   \n",
       "precipitacion_departamentos_represa                               0.064120   \n",
       "temp_ARAUCA                                                       0.087854   \n",
       "temp_ARCHIPIELAGO DE SAN ANDRES PROVIDENCIA Y S...               -0.057892   \n",
       "temp_ATLANTICO                                                    0.111596   \n",
       "temp_BOGOTA                                                       0.055317   \n",
       "temp_BOLIVAR                                                      0.084039   \n",
       "temp_BOYACA                                                       0.053542   \n",
       "temp_CALDAS                                                      -0.057507   \n",
       "temp_CAQUETA                                                      0.057531   \n",
       "temp_CASANARE                                                     0.063267   \n",
       "temp_CAUCA                                                        0.027683   \n",
       "temp_CESAR                                                        0.086809   \n",
       "temp_CHOCO                                                        0.131638   \n",
       "temp_GUAVIARE                                                     0.028708   \n",
       "temp_HUILA                                                        0.085728   \n",
       "temp_MAGDALENA                                                   -0.011852   \n",
       "temp_META                                                         0.127450   \n",
       "temp_PUTUMAYO                                                     0.045184   \n",
       "temp_SANTANDER                                                   -0.006199   \n",
       "temp_SUCRE                                                        0.109788   \n",
       "TRM                                                              -0.016610   \n",
       "energy_price_lag_1                                                0.058035   \n",
       "energy_price                                                      0.055893   \n",
       "\n",
       "                                                    precipitacion_boyaca  \\\n",
       "precipitacion_amazonas                                          0.003377   \n",
       "precipitacion_boyaca                                            1.000000   \n",
       "precipitacion_casanare                                          0.469230   \n",
       "precipitacion_cauca                                             0.217183   \n",
       "precipitacion_cesar                                             0.074520   \n",
       "precipitacion_cordoba                                           0.270436   \n",
       "precipitacion_guainia                                           0.096883   \n",
       "precipitacion_guaviare                                          0.316980   \n",
       "precipitacion_huila                                             0.328735   \n",
       "precipitacion_la guajira                                        0.154142   \n",
       "precipitacion_putumayo                                          0.108220   \n",
       "precipitacion_quindio                                           0.235073   \n",
       "precipitacion_san andres providencia                            0.092060   \n",
       "precipitacion_valle del cauca                                   0.282871   \n",
       "precipitacion_vichada                                           0.202055   \n",
       "precipitacion_departamentos_represa                             0.661171   \n",
       "temp_ARAUCA                                                     0.063585   \n",
       "temp_ARCHIPIELAGO DE SAN ANDRES PROVIDENCIA Y S...              0.138834   \n",
       "temp_ATLANTICO                                                 -0.109952   \n",
       "temp_BOGOTA                                                    -0.086756   \n",
       "temp_BOLIVAR                                                   -0.166264   \n",
       "temp_BOYACA                                                    -0.098224   \n",
       "temp_CALDAS                                                    -0.145868   \n",
       "temp_CAQUETA                                                   -0.129305   \n",
       "temp_CASANARE                                                  -0.113486   \n",
       "temp_CAUCA                                                     -0.116479   \n",
       "temp_CESAR                                                     -0.203179   \n",
       "temp_CHOCO                                                     -0.003827   \n",
       "temp_GUAVIARE                                                  -0.209166   \n",
       "temp_HUILA                                                     -0.093823   \n",
       "temp_MAGDALENA                                                 -0.002537   \n",
       "temp_META                                                      -0.112117   \n",
       "temp_PUTUMAYO                                                  -0.003793   \n",
       "temp_SANTANDER                                                 -0.166184   \n",
       "temp_SUCRE                                                     -0.145058   \n",
       "TRM                                                            -0.074198   \n",
       "energy_price_lag_1                                             -0.063845   \n",
       "energy_price                                                   -0.070192   \n",
       "\n",
       "                                                    precipitacion_casanare  \\\n",
       "precipitacion_amazonas                                           -0.013944   \n",
       "precipitacion_boyaca                                              0.469230   \n",
       "precipitacion_casanare                                            1.000000   \n",
       "precipitacion_cauca                                               0.029455   \n",
       "precipitacion_cesar                                               0.018671   \n",
       "precipitacion_cordoba                                             0.130931   \n",
       "precipitacion_guainia                                             0.141844   \n",
       "precipitacion_guaviare                                            0.223168   \n",
       "precipitacion_huila                                               0.094156   \n",
       "precipitacion_la guajira                                          0.023348   \n",
       "precipitacion_putumayo                                            0.155049   \n",
       "precipitacion_quindio                                            -0.012329   \n",
       "precipitacion_san andres providencia                              0.042215   \n",
       "precipitacion_valle del cauca                                     0.011267   \n",
       "precipitacion_vichada                                             0.258984   \n",
       "precipitacion_departamentos_represa                               0.222363   \n",
       "temp_ARAUCA                                                      -0.104227   \n",
       "temp_ARCHIPIELAGO DE SAN ANDRES PROVIDENCIA Y S...                0.148221   \n",
       "temp_ATLANTICO                                                    0.048991   \n",
       "temp_BOGOTA                                                       0.011556   \n",
       "temp_BOLIVAR                                                      0.036163   \n",
       "temp_BOYACA                                                      -0.150857   \n",
       "temp_CALDAS                                                       0.081035   \n",
       "temp_CAQUETA                                                     -0.163412   \n",
       "temp_CASANARE                                                    -0.169138   \n",
       "temp_CAUCA                                                        0.112074   \n",
       "temp_CESAR                                                        0.033444   \n",
       "temp_CHOCO                                                        0.026182   \n",
       "temp_GUAVIARE                                                    -0.129983   \n",
       "temp_HUILA                                                        0.006804   \n",
       "temp_MAGDALENA                                                    0.153480   \n",
       "temp_META                                                        -0.277689   \n",
       "temp_PUTUMAYO                                                    -0.128337   \n",
       "temp_SANTANDER                                                    0.096555   \n",
       "temp_SUCRE                                                        0.014259   \n",
       "TRM                                                              -0.043775   \n",
       "energy_price_lag_1                                                0.140932   \n",
       "energy_price                                                      0.136466   \n",
       "\n",
       "                                                    precipitacion_cauca  \\\n",
       "precipitacion_amazonas                                         0.092787   \n",
       "precipitacion_boyaca                                           0.217183   \n",
       "precipitacion_casanare                                         0.029455   \n",
       "precipitacion_cauca                                            1.000000   \n",
       "precipitacion_cesar                                            0.018585   \n",
       "precipitacion_cordoba                                          0.157075   \n",
       "precipitacion_guainia                                         -0.068266   \n",
       "precipitacion_guaviare                                         0.294807   \n",
       "precipitacion_huila                                            0.439126   \n",
       "precipitacion_la guajira                                       0.097578   \n",
       "precipitacion_putumayo                                         0.100622   \n",
       "precipitacion_quindio                                          0.356546   \n",
       "precipitacion_san andres providencia                           0.018385   \n",
       "precipitacion_valle del cauca                                  0.372431   \n",
       "precipitacion_vichada                                         -0.094045   \n",
       "precipitacion_departamentos_represa                            0.583448   \n",
       "temp_ARAUCA                                                    0.209756   \n",
       "temp_ARCHIPIELAGO DE SAN ANDRES PROVIDENCIA Y S...            -0.093151   \n",
       "temp_ATLANTICO                                                -0.090341   \n",
       "temp_BOGOTA                                                   -0.036020   \n",
       "temp_BOLIVAR                                                   0.027799   \n",
       "temp_BOYACA                                                    0.062810   \n",
       "temp_CALDAS                                                   -0.253778   \n",
       "temp_CAQUETA                                                   0.076403   \n",
       "temp_CASANARE                                                 -0.027708   \n",
       "temp_CAUCA                                                    -0.261330   \n",
       "temp_CESAR                                                    -0.074495   \n",
       "temp_CHOCO                                                     0.061738   \n",
       "temp_GUAVIARE                                                 -0.124964   \n",
       "temp_HUILA                                                    -0.044479   \n",
       "temp_MAGDALENA                                                -0.140244   \n",
       "temp_META                                                      0.256023   \n",
       "temp_PUTUMAYO                                                  0.119101   \n",
       "temp_SANTANDER                                                -0.275566   \n",
       "temp_SUCRE                                                     0.018197   \n",
       "TRM                                                            0.132390   \n",
       "energy_price_lag_1                                            -0.090129   \n",
       "energy_price                                                  -0.097477   \n",
       "\n",
       "                                                    precipitacion_cesar  \\\n",
       "precipitacion_amazonas                                        -0.015654   \n",
       "precipitacion_boyaca                                           0.074520   \n",
       "precipitacion_casanare                                         0.018671   \n",
       "precipitacion_cauca                                            0.018585   \n",
       "precipitacion_cesar                                            1.000000   \n",
       "precipitacion_cordoba                                          0.075474   \n",
       "precipitacion_guainia                                          0.095274   \n",
       "precipitacion_guaviare                                         0.168250   \n",
       "precipitacion_huila                                            0.030442   \n",
       "precipitacion_la guajira                                       0.042679   \n",
       "precipitacion_putumayo                                         0.005954   \n",
       "precipitacion_quindio                                          0.074166   \n",
       "precipitacion_san andres providencia                           0.003234   \n",
       "precipitacion_valle del cauca                                  0.058396   \n",
       "precipitacion_vichada                                          0.015089   \n",
       "precipitacion_departamentos_represa                            0.113201   \n",
       "temp_ARAUCA                                                    0.046196   \n",
       "temp_ARCHIPIELAGO DE SAN ANDRES PROVIDENCIA Y S...            -0.033574   \n",
       "temp_ATLANTICO                                                -0.090361   \n",
       "temp_BOGOTA                                                   -0.129272   \n",
       "temp_BOLIVAR                                                  -0.133887   \n",
       "temp_BOYACA                                                   -0.053207   \n",
       "temp_CALDAS                                                   -0.161458   \n",
       "temp_CAQUETA                                                  -0.068623   \n",
       "temp_CASANARE                                                 -0.051978   \n",
       "temp_CAUCA                                                    -0.150330   \n",
       "temp_CESAR                                                    -0.056819   \n",
       "temp_CHOCO                                                    -0.076553   \n",
       "temp_GUAVIARE                                                 -0.138443   \n",
       "temp_HUILA                                                    -0.091645   \n",
       "temp_MAGDALENA                                                -0.080625   \n",
       "temp_META                                                      0.020425   \n",
       "temp_PUTUMAYO                                                 -0.022170   \n",
       "temp_SANTANDER                                                -0.146217   \n",
       "temp_SUCRE                                                    -0.072357   \n",
       "TRM                                                           -0.113215   \n",
       "energy_price_lag_1                                            -0.133672   \n",
       "energy_price                                                  -0.136470   \n",
       "\n",
       "                                                    precipitacion_cordoba  \\\n",
       "precipitacion_amazonas                                           0.003463   \n",
       "precipitacion_boyaca                                             0.270436   \n",
       "precipitacion_casanare                                           0.130931   \n",
       "precipitacion_cauca                                              0.157075   \n",
       "precipitacion_cesar                                              0.075474   \n",
       "precipitacion_cordoba                                            1.000000   \n",
       "precipitacion_guainia                                            0.073366   \n",
       "precipitacion_guaviare                                           0.239387   \n",
       "precipitacion_huila                                              0.008482   \n",
       "precipitacion_la guajira                                         0.043279   \n",
       "precipitacion_putumayo                                          -0.019398   \n",
       "precipitacion_quindio                                            0.193347   \n",
       "precipitacion_san andres providencia                             0.132708   \n",
       "precipitacion_valle del cauca                                    0.413604   \n",
       "precipitacion_vichada                                            0.032237   \n",
       "precipitacion_departamentos_represa                              0.430903   \n",
       "temp_ARAUCA                                                      0.197830   \n",
       "temp_ARCHIPIELAGO DE SAN ANDRES PROVIDENCIA Y S...               0.030007   \n",
       "temp_ATLANTICO                                                  -0.137979   \n",
       "temp_BOGOTA                                                     -0.125768   \n",
       "temp_BOLIVAR                                                    -0.214945   \n",
       "temp_BOYACA                                                     -0.162803   \n",
       "temp_CALDAS                                                     -0.325247   \n",
       "temp_CAQUETA                                                    -0.120194   \n",
       "temp_CASANARE                                                   -0.079379   \n",
       "temp_CAUCA                                                      -0.127775   \n",
       "temp_CESAR                                                      -0.171280   \n",
       "temp_CHOCO                                                      -0.120520   \n",
       "temp_GUAVIARE                                                   -0.241132   \n",
       "temp_HUILA                                                      -0.040046   \n",
       "temp_MAGDALENA                                                  -0.044516   \n",
       "temp_META                                                        0.061909   \n",
       "temp_PUTUMAYO                                                    0.032285   \n",
       "temp_SANTANDER                                                  -0.289121   \n",
       "temp_SUCRE                                                      -0.178928   \n",
       "TRM                                                             -0.403029   \n",
       "energy_price_lag_1                                              -0.258182   \n",
       "energy_price                                                    -0.264050   \n",
       "\n",
       "                                                    precipitacion_guainia  \\\n",
       "precipitacion_amazonas                                          -0.060990   \n",
       "precipitacion_boyaca                                             0.096883   \n",
       "precipitacion_casanare                                           0.141844   \n",
       "precipitacion_cauca                                             -0.068266   \n",
       "precipitacion_cesar                                              0.095274   \n",
       "precipitacion_cordoba                                            0.073366   \n",
       "precipitacion_guainia                                            1.000000   \n",
       "precipitacion_guaviare                                           0.114005   \n",
       "precipitacion_huila                                              0.059689   \n",
       "precipitacion_la guajira                                         0.000670   \n",
       "precipitacion_putumayo                                           0.053669   \n",
       "precipitacion_quindio                                           -0.037419   \n",
       "precipitacion_san andres providencia                             0.113770   \n",
       "precipitacion_valle del cauca                                    0.004119   \n",
       "precipitacion_vichada                                            0.064322   \n",
       "precipitacion_departamentos_represa                              0.071581   \n",
       "temp_ARAUCA                                                      0.061261   \n",
       "temp_ARCHIPIELAGO DE SAN ANDRES PROVIDENCIA Y S...               0.017146   \n",
       "temp_ATLANTICO                                                  -0.009566   \n",
       "temp_BOGOTA                                                     -0.061281   \n",
       "temp_BOLIVAR                                                    -0.031114   \n",
       "temp_BOYACA                                                     -0.099469   \n",
       "temp_CALDAS                                                     -0.047349   \n",
       "temp_CAQUETA                                                    -0.150496   \n",
       "temp_CASANARE                                                   -0.070240   \n",
       "temp_CAUCA                                                      -0.014212   \n",
       "temp_CESAR                                                       0.011736   \n",
       "temp_CHOCO                                                      -0.018114   \n",
       "temp_GUAVIARE                                                   -0.130006   \n",
       "temp_HUILA                                                      -0.069301   \n",
       "temp_MAGDALENA                                                   0.019486   \n",
       "temp_META                                                       -0.062573   \n",
       "temp_PUTUMAYO                                                   -0.080382   \n",
       "temp_SANTANDER                                                  -0.038425   \n",
       "temp_SUCRE                                                      -0.011868   \n",
       "TRM                                                             -0.086251   \n",
       "energy_price_lag_1                                              -0.078413   \n",
       "energy_price                                                    -0.078516   \n",
       "\n",
       "                                                    precipitacion_guaviare  \\\n",
       "precipitacion_amazonas                                            0.042756   \n",
       "precipitacion_boyaca                                              0.316980   \n",
       "precipitacion_casanare                                            0.223168   \n",
       "precipitacion_cauca                                               0.294807   \n",
       "precipitacion_cesar                                               0.168250   \n",
       "precipitacion_cordoba                                             0.239387   \n",
       "precipitacion_guainia                                             0.114005   \n",
       "precipitacion_guaviare                                            1.000000   \n",
       "precipitacion_huila                                               0.220012   \n",
       "precipitacion_la guajira                                          0.033916   \n",
       "precipitacion_putumayo                                            0.112019   \n",
       "precipitacion_quindio                                             0.134676   \n",
       "precipitacion_san andres providencia                              0.133882   \n",
       "precipitacion_valle del cauca                                     0.172538   \n",
       "precipitacion_vichada                                             0.056771   \n",
       "precipitacion_departamentos_represa                               0.428919   \n",
       "temp_ARAUCA                                                      -0.011584   \n",
       "temp_ARCHIPIELAGO DE SAN ANDRES PROVIDENCIA Y S...               -0.017279   \n",
       "temp_ATLANTICO                                                   -0.098489   \n",
       "temp_BOGOTA                                                      -0.125163   \n",
       "temp_BOLIVAR                                                     -0.116190   \n",
       "temp_BOYACA                                                      -0.096342   \n",
       "temp_CALDAS                                                      -0.151093   \n",
       "temp_CAQUETA                                                     -0.164676   \n",
       "temp_CASANARE                                                    -0.157914   \n",
       "temp_CAUCA                                                       -0.112952   \n",
       "temp_CESAR                                                       -0.127031   \n",
       "temp_CHOCO                                                       -0.018188   \n",
       "temp_GUAVIARE                                                    -0.249592   \n",
       "temp_HUILA                                                       -0.108831   \n",
       "temp_MAGDALENA                                                   -0.027935   \n",
       "temp_META                                                        -0.086157   \n",
       "temp_PUTUMAYO                                                    -0.091764   \n",
       "temp_SANTANDER                                                   -0.182547   \n",
       "temp_SUCRE                                                       -0.100444   \n",
       "TRM                                                              -0.024023   \n",
       "energy_price_lag_1                                               -0.112851   \n",
       "energy_price                                                     -0.110750   \n",
       "\n",
       "                                                    precipitacion_huila  \\\n",
       "precipitacion_amazonas                                        -0.012342   \n",
       "precipitacion_boyaca                                           0.328735   \n",
       "precipitacion_casanare                                         0.094156   \n",
       "precipitacion_cauca                                            0.439126   \n",
       "precipitacion_cesar                                            0.030442   \n",
       "precipitacion_cordoba                                          0.008482   \n",
       "precipitacion_guainia                                          0.059689   \n",
       "precipitacion_guaviare                                         0.220012   \n",
       "precipitacion_huila                                            1.000000   \n",
       "precipitacion_la guajira                                       0.108056   \n",
       "precipitacion_putumayo                                         0.330251   \n",
       "precipitacion_quindio                                          0.383248   \n",
       "precipitacion_san andres providencia                           0.067045   \n",
       "precipitacion_valle del cauca                                  0.250720   \n",
       "precipitacion_vichada                                          0.018144   \n",
       "precipitacion_departamentos_represa                            0.599597   \n",
       "temp_ARAUCA                                                    0.066940   \n",
       "temp_ARCHIPIELAGO DE SAN ANDRES PROVIDENCIA Y S...            -0.046029   \n",
       "temp_ATLANTICO                                                -0.127916   \n",
       "temp_BOGOTA                                                   -0.165556   \n",
       "temp_BOLIVAR                                                  -0.082509   \n",
       "temp_BOYACA                                                    0.030963   \n",
       "temp_CALDAS                                                   -0.151231   \n",
       "temp_CAQUETA                                                  -0.037197   \n",
       "temp_CASANARE                                                 -0.052077   \n",
       "temp_CAUCA                                                    -0.330173   \n",
       "temp_CESAR                                                    -0.187982   \n",
       "temp_CHOCO                                                     0.027365   \n",
       "temp_GUAVIARE                                                 -0.224848   \n",
       "temp_HUILA                                                    -0.312918   \n",
       "temp_MAGDALENA                                                -0.128290   \n",
       "temp_META                                                     -0.043109   \n",
       "temp_PUTUMAYO                                                 -0.061101   \n",
       "temp_SANTANDER                                                -0.200322   \n",
       "temp_SUCRE                                                    -0.034461   \n",
       "TRM                                                            0.178945   \n",
       "energy_price_lag_1                                            -0.109610   \n",
       "energy_price                                                  -0.125479   \n",
       "\n",
       "                                                    precipitacion_la guajira  \\\n",
       "precipitacion_amazonas                                             -0.105555   \n",
       "precipitacion_boyaca                                                0.154142   \n",
       "precipitacion_casanare                                              0.023348   \n",
       "precipitacion_cauca                                                 0.097578   \n",
       "precipitacion_cesar                                                 0.042679   \n",
       "precipitacion_cordoba                                               0.043279   \n",
       "precipitacion_guainia                                               0.000670   \n",
       "precipitacion_guaviare                                              0.033916   \n",
       "precipitacion_huila                                                 0.108056   \n",
       "precipitacion_la guajira                                            1.000000   \n",
       "precipitacion_putumayo                                             -0.019645   \n",
       "precipitacion_quindio                                               0.022801   \n",
       "precipitacion_san andres providencia                                0.047300   \n",
       "precipitacion_valle del cauca                                       0.015232   \n",
       "precipitacion_vichada                                              -0.002710   \n",
       "precipitacion_departamentos_represa                                 0.146513   \n",
       "temp_ARAUCA                                                         0.005616   \n",
       "temp_ARCHIPIELAGO DE SAN ANDRES PROVIDENCIA Y S...                  0.084333   \n",
       "temp_ATLANTICO                                                     -0.180006   \n",
       "temp_BOGOTA                                                        -0.027159   \n",
       "temp_BOLIVAR                                                       -0.187050   \n",
       "temp_BOYACA                                                        -0.018923   \n",
       "temp_CALDAS                                                        -0.091827   \n",
       "temp_CAQUETA                                                        0.035398   \n",
       "temp_CASANARE                                                      -0.020715   \n",
       "temp_CAUCA                                                         -0.145942   \n",
       "temp_CESAR                                                         -0.170179   \n",
       "temp_CHOCO                                                         -0.129126   \n",
       "temp_GUAVIARE                                                      -0.081025   \n",
       "temp_HUILA                                                         -0.062980   \n",
       "temp_MAGDALENA                                                     -0.031452   \n",
       "temp_META                                                           0.065108   \n",
       "temp_PUTUMAYO                                                       0.075077   \n",
       "temp_SANTANDER                                                     -0.177474   \n",
       "temp_SUCRE                                                         -0.169190   \n",
       "TRM                                                                 0.093914   \n",
       "energy_price_lag_1                                                 -0.145940   \n",
       "energy_price                                                       -0.143783   \n",
       "\n",
       "                                                    ...  temp_GUAVIARE  \\\n",
       "precipitacion_amazonas                              ...       0.028708   \n",
       "precipitacion_boyaca                                ...      -0.209166   \n",
       "precipitacion_casanare                              ...      -0.129983   \n",
       "precipitacion_cauca                                 ...      -0.124964   \n",
       "precipitacion_cesar                                 ...      -0.138443   \n",
       "precipitacion_cordoba                               ...      -0.241132   \n",
       "precipitacion_guainia                               ...      -0.130006   \n",
       "precipitacion_guaviare                              ...      -0.249592   \n",
       "precipitacion_huila                                 ...      -0.224848   \n",
       "precipitacion_la guajira                            ...      -0.081025   \n",
       "precipitacion_putumayo                              ...      -0.037073   \n",
       "precipitacion_quindio                               ...      -0.173449   \n",
       "precipitacion_san andres providencia                ...      -0.166106   \n",
       "precipitacion_valle del cauca                       ...      -0.240821   \n",
       "precipitacion_vichada                               ...      -0.110670   \n",
       "precipitacion_departamentos_represa                 ...      -0.368439   \n",
       "temp_ARAUCA                                         ...      -0.014469   \n",
       "temp_ARCHIPIELAGO DE SAN ANDRES PROVIDENCIA Y S...  ...       0.209801   \n",
       "temp_ATLANTICO                                      ...       0.422206   \n",
       "temp_BOGOTA                                         ...       0.563963   \n",
       "temp_BOLIVAR                                        ...       0.474565   \n",
       "temp_BOYACA                                         ...       0.419910   \n",
       "temp_CALDAS                                         ...       0.492016   \n",
       "temp_CAQUETA                                        ...       0.493372   \n",
       "temp_CASANARE                                       ...       0.586560   \n",
       "temp_CAUCA                                          ...       0.510546   \n",
       "temp_CESAR                                          ...       0.458569   \n",
       "temp_CHOCO                                          ...       0.234571   \n",
       "temp_GUAVIARE                                       ...       1.000000   \n",
       "temp_HUILA                                          ...       0.552004   \n",
       "temp_MAGDALENA                                      ...       0.337413   \n",
       "temp_META                                           ...       0.352172   \n",
       "temp_PUTUMAYO                                       ...       0.377156   \n",
       "temp_SANTANDER                                      ...       0.581567   \n",
       "temp_SUCRE                                          ...       0.457864   \n",
       "TRM                                                 ...       0.012307   \n",
       "energy_price_lag_1                                  ...       0.306871   \n",
       "energy_price                                        ...       0.323098   \n",
       "\n",
       "                                                    temp_HUILA  \\\n",
       "precipitacion_amazonas                                0.085728   \n",
       "precipitacion_boyaca                                 -0.093823   \n",
       "precipitacion_casanare                                0.006804   \n",
       "precipitacion_cauca                                  -0.044479   \n",
       "precipitacion_cesar                                  -0.091645   \n",
       "precipitacion_cordoba                                -0.040046   \n",
       "precipitacion_guainia                                -0.069301   \n",
       "precipitacion_guaviare                               -0.108831   \n",
       "precipitacion_huila                                  -0.312918   \n",
       "precipitacion_la guajira                             -0.062980   \n",
       "precipitacion_putumayo                               -0.110915   \n",
       "precipitacion_quindio                                -0.125968   \n",
       "precipitacion_san andres providencia                 -0.053400   \n",
       "precipitacion_valle del cauca                        -0.084662   \n",
       "precipitacion_vichada                                -0.028093   \n",
       "precipitacion_departamentos_represa                  -0.223971   \n",
       "temp_ARAUCA                                           0.165057   \n",
       "temp_ARCHIPIELAGO DE SAN ANDRES PROVIDENCIA Y S...    0.339497   \n",
       "temp_ATLANTICO                                        0.492165   \n",
       "temp_BOGOTA                                           0.708909   \n",
       "temp_BOLIVAR                                          0.547915   \n",
       "temp_BOYACA                                           0.414071   \n",
       "temp_CALDAS                                           0.527212   \n",
       "temp_CAQUETA                                          0.517268   \n",
       "temp_CASANARE                                         0.594016   \n",
       "temp_CAUCA                                            0.725859   \n",
       "temp_CESAR                                            0.565599   \n",
       "temp_CHOCO                                            0.308709   \n",
       "temp_GUAVIARE                                         0.552004   \n",
       "temp_HUILA                                            1.000000   \n",
       "temp_MAGDALENA                                        0.488545   \n",
       "temp_META                                             0.403431   \n",
       "temp_PUTUMAYO                                         0.515043   \n",
       "temp_SANTANDER                                        0.622177   \n",
       "temp_SUCRE                                            0.476441   \n",
       "TRM                                                  -0.180399   \n",
       "energy_price_lag_1                                    0.379334   \n",
       "energy_price                                          0.393621   \n",
       "\n",
       "                                                    temp_MAGDALENA  temp_META  \\\n",
       "precipitacion_amazonas                                   -0.011852   0.127450   \n",
       "precipitacion_boyaca                                     -0.002537  -0.112117   \n",
       "precipitacion_casanare                                    0.153480  -0.277689   \n",
       "precipitacion_cauca                                      -0.140244   0.256023   \n",
       "precipitacion_cesar                                      -0.080625   0.020425   \n",
       "precipitacion_cordoba                                    -0.044516   0.061909   \n",
       "precipitacion_guainia                                     0.019486  -0.062573   \n",
       "precipitacion_guaviare                                   -0.027935  -0.086157   \n",
       "precipitacion_huila                                      -0.128290  -0.043109   \n",
       "precipitacion_la guajira                                 -0.031452   0.065108   \n",
       "precipitacion_putumayo                                    0.059891  -0.122531   \n",
       "precipitacion_quindio                                    -0.152137   0.042886   \n",
       "precipitacion_san andres providencia                     -0.021733  -0.064349   \n",
       "precipitacion_valle del cauca                            -0.139014   0.100059   \n",
       "precipitacion_vichada                                     0.106082  -0.232663   \n",
       "precipitacion_departamentos_represa                      -0.183622   0.018798   \n",
       "temp_ARAUCA                                              -0.076563   0.284308   \n",
       "temp_ARCHIPIELAGO DE SAN ANDRES PROVIDENCIA Y S...        0.359000  -0.012718   \n",
       "temp_ATLANTICO                                            0.539581   0.200241   \n",
       "temp_BOGOTA                                               0.510369   0.334991   \n",
       "temp_BOLIVAR                                              0.488449   0.269379   \n",
       "temp_BOYACA                                               0.276205   0.451495   \n",
       "temp_CALDAS                                               0.493683   0.033798   \n",
       "temp_CAQUETA                                              0.152374   0.527159   \n",
       "temp_CASANARE                                             0.324465   0.505765   \n",
       "temp_CAUCA                                                0.566768   0.125909   \n",
       "temp_CESAR                                                0.546630   0.248840   \n",
       "temp_CHOCO                                                0.085001   0.192109   \n",
       "temp_GUAVIARE                                             0.337413   0.352172   \n",
       "temp_HUILA                                                0.488545   0.403431   \n",
       "temp_MAGDALENA                                            1.000000   0.153926   \n",
       "temp_META                                                 0.153926   1.000000   \n",
       "temp_PUTUMAYO                                             0.157509   0.517970   \n",
       "temp_SANTANDER                                            0.565090   0.012731   \n",
       "temp_SUCRE                                                0.365593   0.261220   \n",
       "TRM                                                      -0.187550  -0.055844   \n",
       "energy_price_lag_1                                        0.302520  -0.103762   \n",
       "energy_price                                              0.310022  -0.100105   \n",
       "\n",
       "                                                    temp_PUTUMAYO  \\\n",
       "precipitacion_amazonas                                   0.045184   \n",
       "precipitacion_boyaca                                    -0.003793   \n",
       "precipitacion_casanare                                  -0.128337   \n",
       "precipitacion_cauca                                      0.119101   \n",
       "precipitacion_cesar                                     -0.022170   \n",
       "precipitacion_cordoba                                    0.032285   \n",
       "precipitacion_guainia                                   -0.080382   \n",
       "precipitacion_guaviare                                  -0.091764   \n",
       "precipitacion_huila                                     -0.061101   \n",
       "precipitacion_la guajira                                 0.075077   \n",
       "precipitacion_putumayo                                  -0.206693   \n",
       "precipitacion_quindio                                    0.065636   \n",
       "precipitacion_san andres providencia                     0.007357   \n",
       "precipitacion_valle del cauca                            0.082298   \n",
       "precipitacion_vichada                                   -0.087918   \n",
       "precipitacion_departamentos_represa                      0.022697   \n",
       "temp_ARAUCA                                              0.225462   \n",
       "temp_ARCHIPIELAGO DE SAN ANDRES PROVIDENCIA Y S...       0.181298   \n",
       "temp_ATLANTICO                                           0.164974   \n",
       "temp_BOGOTA                                              0.410033   \n",
       "temp_BOLIVAR                                             0.204679   \n",
       "temp_BOYACA                                              0.263316   \n",
       "temp_CALDAS                                              0.146773   \n",
       "temp_CAQUETA                                             0.610537   \n",
       "temp_CASANARE                                            0.435490   \n",
       "temp_CAUCA                                               0.266290   \n",
       "temp_CESAR                                               0.225147   \n",
       "temp_CHOCO                                               0.158884   \n",
       "temp_GUAVIARE                                            0.377156   \n",
       "temp_HUILA                                               0.515043   \n",
       "temp_MAGDALENA                                           0.157509   \n",
       "temp_META                                                0.517970   \n",
       "temp_PUTUMAYO                                            1.000000   \n",
       "temp_SANTANDER                                           0.148294   \n",
       "temp_SUCRE                                               0.191052   \n",
       "TRM                                                     -0.100984   \n",
       "energy_price_lag_1                                       0.059616   \n",
       "energy_price                                             0.073987   \n",
       "\n",
       "                                                    temp_SANTANDER  \\\n",
       "precipitacion_amazonas                                   -0.006199   \n",
       "precipitacion_boyaca                                     -0.166184   \n",
       "precipitacion_casanare                                    0.096555   \n",
       "precipitacion_cauca                                      -0.275566   \n",
       "precipitacion_cesar                                      -0.146217   \n",
       "precipitacion_cordoba                                    -0.289121   \n",
       "precipitacion_guainia                                    -0.038425   \n",
       "precipitacion_guaviare                                   -0.182547   \n",
       "precipitacion_huila                                      -0.200322   \n",
       "precipitacion_la guajira                                 -0.177474   \n",
       "precipitacion_putumayo                                    0.072793   \n",
       "precipitacion_quindio                                    -0.221744   \n",
       "precipitacion_san andres providencia                     -0.114421   \n",
       "precipitacion_valle del cauca                            -0.274406   \n",
       "precipitacion_vichada                                     0.062282   \n",
       "precipitacion_departamentos_represa                      -0.420264   \n",
       "temp_ARAUCA                                               0.020358   \n",
       "temp_ARCHIPIELAGO DE SAN ANDRES PROVIDENCIA Y S...        0.390470   \n",
       "temp_ATLANTICO                                            0.601026   \n",
       "temp_BOGOTA                                               0.648264   \n",
       "temp_BOLIVAR                                              0.637383   \n",
       "temp_BOYACA                                               0.395625   \n",
       "temp_CALDAS                                               0.774381   \n",
       "temp_CAQUETA                                              0.302629   \n",
       "temp_CASANARE                                             0.516593   \n",
       "temp_CAUCA                                                0.768457   \n",
       "temp_CESAR                                                0.648368   \n",
       "temp_CHOCO                                                0.243473   \n",
       "temp_GUAVIARE                                             0.581567   \n",
       "temp_HUILA                                                0.622177   \n",
       "temp_MAGDALENA                                            0.565090   \n",
       "temp_META                                                 0.012731   \n",
       "temp_PUTUMAYO                                             0.148294   \n",
       "temp_SANTANDER                                            1.000000   \n",
       "temp_SUCRE                                                0.614758   \n",
       "TRM                                                      -0.037148   \n",
       "energy_price_lag_1                                        0.551862   \n",
       "energy_price                                              0.564849   \n",
       "\n",
       "                                                    temp_SUCRE       TRM  \\\n",
       "precipitacion_amazonas                                0.109788 -0.016610   \n",
       "precipitacion_boyaca                                 -0.145058 -0.074198   \n",
       "precipitacion_casanare                                0.014259 -0.043775   \n",
       "precipitacion_cauca                                   0.018197  0.132390   \n",
       "precipitacion_cesar                                  -0.072357 -0.113215   \n",
       "precipitacion_cordoba                                -0.178928 -0.403029   \n",
       "precipitacion_guainia                                -0.011868 -0.086251   \n",
       "precipitacion_guaviare                               -0.100444 -0.024023   \n",
       "precipitacion_huila                                  -0.034461  0.178945   \n",
       "precipitacion_la guajira                             -0.169190  0.093914   \n",
       "precipitacion_putumayo                                0.077145  0.030287   \n",
       "precipitacion_quindio                                -0.087674 -0.053172   \n",
       "precipitacion_san andres providencia                 -0.113985 -0.072813   \n",
       "precipitacion_valle del cauca                        -0.074431 -0.304854   \n",
       "precipitacion_vichada                                -0.006512 -0.076597   \n",
       "precipitacion_departamentos_represa                  -0.171828 -0.044155   \n",
       "temp_ARAUCA                                           0.275852 -0.168558   \n",
       "temp_ARCHIPIELAGO DE SAN ANDRES PROVIDENCIA Y S...    0.131252 -0.183483   \n",
       "temp_ATLANTICO                                        0.702776 -0.189368   \n",
       "temp_BOGOTA                                           0.441116 -0.033255   \n",
       "temp_BOLIVAR                                          0.837823 -0.052587   \n",
       "temp_BOYACA                                           0.496482  0.197730   \n",
       "temp_CALDAS                                           0.513628  0.185122   \n",
       "temp_CAQUETA                                          0.265963  0.175222   \n",
       "temp_CASANARE                                         0.487239 -0.096064   \n",
       "temp_CAUCA                                            0.561919 -0.212742   \n",
       "temp_CESAR                                            0.706065 -0.183337   \n",
       "temp_CHOCO                                            0.491010  0.204813   \n",
       "temp_GUAVIARE                                         0.457864  0.012307   \n",
       "temp_HUILA                                            0.476441 -0.180399   \n",
       "temp_MAGDALENA                                        0.365593 -0.187550   \n",
       "temp_META                                             0.261220 -0.055844   \n",
       "temp_PUTUMAYO                                         0.191052 -0.100984   \n",
       "temp_SANTANDER                                        0.614758 -0.037148   \n",
       "temp_SUCRE                                            1.000000 -0.026484   \n",
       "TRM                                                  -0.026484  1.000000   \n",
       "energy_price_lag_1                                    0.238746 -0.014880   \n",
       "energy_price                                          0.245729 -0.017256   \n",
       "\n",
       "                                                    energy_price_lag_1  \\\n",
       "precipitacion_amazonas                                        0.058035   \n",
       "precipitacion_boyaca                                         -0.063845   \n",
       "precipitacion_casanare                                        0.140932   \n",
       "precipitacion_cauca                                          -0.090129   \n",
       "precipitacion_cesar                                          -0.133672   \n",
       "precipitacion_cordoba                                        -0.258182   \n",
       "precipitacion_guainia                                        -0.078413   \n",
       "precipitacion_guaviare                                       -0.112851   \n",
       "precipitacion_huila                                          -0.109610   \n",
       "precipitacion_la guajira                                     -0.145940   \n",
       "precipitacion_putumayo                                        0.084284   \n",
       "precipitacion_quindio                                        -0.154105   \n",
       "precipitacion_san andres providencia                         -0.108681   \n",
       "precipitacion_valle del cauca                                -0.218884   \n",
       "precipitacion_vichada                                         0.073869   \n",
       "precipitacion_departamentos_represa                          -0.256394   \n",
       "temp_ARAUCA                                                  -0.160170   \n",
       "temp_ARCHIPIELAGO DE SAN ANDRES PROVIDENCIA Y S...            0.224531   \n",
       "temp_ATLANTICO                                                0.311362   \n",
       "temp_BOGOTA                                                   0.377132   \n",
       "temp_BOLIVAR                                                  0.313495   \n",
       "temp_BOYACA                                                  -0.020309   \n",
       "temp_CALDAS                                                   0.326529   \n",
       "temp_CAQUETA                                                  0.223119   \n",
       "temp_CASANARE                                                 0.250218   \n",
       "temp_CAUCA                                                    0.432064   \n",
       "temp_CESAR                                                    0.389733   \n",
       "temp_CHOCO                                                    0.077418   \n",
       "temp_GUAVIARE                                                 0.306871   \n",
       "temp_HUILA                                                    0.379334   \n",
       "temp_MAGDALENA                                                0.302520   \n",
       "temp_META                                                    -0.103762   \n",
       "temp_PUTUMAYO                                                 0.059616   \n",
       "temp_SANTANDER                                                0.551862   \n",
       "temp_SUCRE                                                    0.238746   \n",
       "TRM                                                          -0.014880   \n",
       "energy_price_lag_1                                            1.000000   \n",
       "energy_price                                                  0.981022   \n",
       "\n",
       "                                                    energy_price  \n",
       "precipitacion_amazonas                                  0.055893  \n",
       "precipitacion_boyaca                                   -0.070192  \n",
       "precipitacion_casanare                                  0.136466  \n",
       "precipitacion_cauca                                    -0.097477  \n",
       "precipitacion_cesar                                    -0.136470  \n",
       "precipitacion_cordoba                                  -0.264050  \n",
       "precipitacion_guainia                                  -0.078516  \n",
       "precipitacion_guaviare                                 -0.110750  \n",
       "precipitacion_huila                                    -0.125479  \n",
       "precipitacion_la guajira                               -0.143783  \n",
       "precipitacion_putumayo                                  0.076281  \n",
       "precipitacion_quindio                                  -0.173347  \n",
       "precipitacion_san andres providencia                   -0.109135  \n",
       "precipitacion_valle del cauca                          -0.234541  \n",
       "precipitacion_vichada                                   0.064373  \n",
       "precipitacion_departamentos_represa                    -0.272411  \n",
       "temp_ARAUCA                                            -0.160594  \n",
       "temp_ARCHIPIELAGO DE SAN ANDRES PROVIDENCIA Y S...      0.231223  \n",
       "temp_ATLANTICO                                          0.318597  \n",
       "temp_BOGOTA                                             0.386555  \n",
       "temp_BOLIVAR                                            0.325778  \n",
       "temp_BOYACA                                            -0.006280  \n",
       "temp_CALDAS                                             0.347785  \n",
       "temp_CAQUETA                                            0.233247  \n",
       "temp_CASANARE                                           0.256013  \n",
       "temp_CAUCA                                              0.448398  \n",
       "temp_CESAR                                              0.402755  \n",
       "temp_CHOCO                                              0.084108  \n",
       "temp_GUAVIARE                                           0.323098  \n",
       "temp_HUILA                                              0.393621  \n",
       "temp_MAGDALENA                                          0.310022  \n",
       "temp_META                                              -0.100105  \n",
       "temp_PUTUMAYO                                           0.073987  \n",
       "temp_SANTANDER                                          0.564849  \n",
       "temp_SUCRE                                              0.245729  \n",
       "TRM                                                    -0.017256  \n",
       "energy_price_lag_1                                      0.981022  \n",
       "energy_price                                            1.000000  \n",
       "\n",
       "[38 rows x 38 columns]"
      ]
     },
     "execution_count": 27,
     "metadata": {},
     "output_type": "execute_result"
    }
   ],
   "source": [
    "numeric_columns = df_selected_variables_forward.select_dtypes(\n",
    "    include=[\"float64\", \"int64\"]\n",
    ")\n",
    "correlation_matrix = numeric_columns.corr()\n",
    "correlation_matrix"
   ]
  }
 ],
 "metadata": {
  "kernelspec": {
   "display_name": "Proyecto-Integrador-Semestre1-ERzOjjfT",
   "language": "python",
   "name": "python3"
  },
  "language_info": {
   "codemirror_mode": {
    "name": "ipython",
    "version": 3
   },
   "file_extension": ".py",
   "mimetype": "text/x-python",
   "name": "python",
   "nbconvert_exporter": "python",
   "pygments_lexer": "ipython3",
   "version": "3.11.5"
  }
 },
 "nbformat": 4,
 "nbformat_minor": 2
}
