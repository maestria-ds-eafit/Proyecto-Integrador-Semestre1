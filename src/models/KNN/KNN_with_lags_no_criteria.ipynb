{
 "cells": [
  {
   "cell_type": "code",
   "execution_count": 1,
   "metadata": {},
   "outputs": [],
   "source": [
    "import sys\n",
    "\n",
    "sys.path.insert(0, \"..\")"
   ]
  },
  {
   "cell_type": "code",
   "execution_count": 2,
   "metadata": {},
   "outputs": [],
   "source": [
    "import pandas as pd\n",
    "from knn import perform_knn"
   ]
  },
  {
   "cell_type": "code",
   "execution_count": 3,
   "metadata": {},
   "outputs": [],
   "source": [
    "df = pd.read_csv(\"../../processed_tables/merged_no_damns_standardized.csv\")"
   ]
  },
  {
   "cell_type": "markdown",
   "metadata": {},
   "source": [
    "## KNN\n",
    "\n",
    "Esta vez utilizaremos `sklearn` para hacer KNN con regresión, variando parámetros como el número de vecinos, la métrica de distancia y la técnica de pesado. También usamos lags.\n"
   ]
  },
  {
   "cell_type": "code",
   "execution_count": 4,
   "metadata": {},
   "outputs": [],
   "source": [
    "fecha_corte = \"2023-07-01\"\n",
    "param_dist = {\n",
    "    \"n_neighbors\": range(1, 30),\n",
    "    \"weights\": [\"uniform\", \"distance\"],\n",
    "    \"p\": [1, 2],\n",
    "}"
   ]
  },
  {
   "cell_type": "code",
   "execution_count": 5,
   "metadata": {},
   "outputs": [
    {
     "name": "stdout",
     "output_type": "stream",
     "text": [
      "Best parameters: {'weights': 'distance', 'p': 2, 'n_neighbors': 5}\n",
      "Mean Squared Error on Test Data: 32241.110950580136\n",
      "Mean Absolute Percentage Error: 0.1967518084598995\n",
      "Best parameters: {'weights': 'distance', 'p': 1, 'n_neighbors': 11}\n",
      "Mean Squared Error on Test Data: 38179.60389840255\n",
      "Mean Absolute Percentage Error: 0.21071669712951746\n",
      "Best parameters: {'weights': 'distance', 'p': 1, 'n_neighbors': 10}\n",
      "Mean Squared Error on Test Data: 37907.64326626772\n",
      "Mean Absolute Percentage Error: 0.2237386891783524\n",
      "Best parameters: {'weights': 'distance', 'p': 1, 'n_neighbors': 12}\n",
      "Mean Squared Error on Test Data: 38684.49527416618\n",
      "Mean Absolute Percentage Error: 0.2383551287725106\n",
      "Best parameters: {'weights': 'distance', 'p': 1, 'n_neighbors': 7}\n",
      "Mean Squared Error on Test Data: 45427.01935242872\n",
      "Mean Absolute Percentage Error: 0.25926660862280404\n",
      "Best parameters: {'weights': 'distance', 'p': 1, 'n_neighbors': 15}\n",
      "Mean Squared Error on Test Data: 46274.184544485965\n",
      "Mean Absolute Percentage Error: 0.2572473880219389\n",
      "Best parameters: {'weights': 'distance', 'p': 1, 'n_neighbors': 16}\n",
      "Mean Squared Error on Test Data: 49872.40542821938\n",
      "Mean Absolute Percentage Error: 0.2653292583427584\n",
      "Best parameters: {'weights': 'distance', 'p': 1, 'n_neighbors': 14}\n",
      "Mean Squared Error on Test Data: 51886.49937438704\n",
      "Mean Absolute Percentage Error: 0.27083750118132327\n",
      "Best parameters: {'weights': 'distance', 'p': 1, 'n_neighbors': 16}\n",
      "Mean Squared Error on Test Data: 54093.22902432073\n",
      "Mean Absolute Percentage Error: 0.26949197866684915\n",
      "Best parameters: {'weights': 'distance', 'p': 1, 'n_neighbors': 14}\n",
      "Mean Squared Error on Test Data: 57148.931998338034\n",
      "Mean Absolute Percentage Error: 0.27722237882469214\n",
      "Best parameters: {'weights': 'distance', 'p': 1, 'n_neighbors': 9}\n",
      "Mean Squared Error on Test Data: 58034.97107680183\n",
      "Mean Absolute Percentage Error: 0.2798429592886027\n"
     ]
    }
   ],
   "source": [
    "for i in range(1, 12):\n",
    "    perform_knn(\n",
    "        {\"df\": df, \"param_dist\": param_dist, \"fecha_corte\": fecha_corte, \"lags\": i}\n",
    "    )"
   ]
  }
 ],
 "metadata": {
  "kernelspec": {
   "display_name": "Proyecto-Integrador-Semestre1-ERzOjjfT",
   "language": "python",
   "name": "python3"
  },
  "language_info": {
   "codemirror_mode": {
    "name": "ipython",
    "version": 3
   },
   "file_extension": ".py",
   "mimetype": "text/x-python",
   "name": "python",
   "nbconvert_exporter": "python",
   "pygments_lexer": "ipython3",
   "version": "3.11.5"
  }
 },
 "nbformat": 4,
 "nbformat_minor": 2
}
