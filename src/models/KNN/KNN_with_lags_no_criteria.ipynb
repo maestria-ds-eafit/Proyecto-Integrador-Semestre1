{
 "cells": [
  {
   "cell_type": "code",
   "execution_count": 1,
   "metadata": {},
   "outputs": [],
   "source": [
    "import sys\n",
    "\n",
    "sys.path.insert(0, \"..\")"
   ]
  },
  {
   "cell_type": "code",
   "execution_count": 2,
   "metadata": {},
   "outputs": [],
   "source": [
    "import pandas as pd\n",
    "from knn import perform_knn"
   ]
  },
  {
   "cell_type": "code",
   "execution_count": 3,
   "metadata": {},
   "outputs": [],
   "source": [
    "df = pd.read_csv(\"../../processed_tables/merged_no_damns_standardized.csv\")"
   ]
  },
  {
   "cell_type": "markdown",
   "metadata": {},
   "source": [
    "## KNN\n",
    "\n",
    "Esta vez utilizaremos `sklearn` para hacer KNN con regresión, variando parámetros como el número de vecinos, la métrica de distancia y la técnica de pesado. También usamos lags.\n"
   ]
  },
  {
   "cell_type": "code",
   "execution_count": 4,
   "metadata": {},
   "outputs": [],
   "source": [
    "fecha_corte = \"2023-07-01\"\n",
    "param_dist = {\n",
    "    \"n_neighbors\": range(1, 30),\n",
    "    \"weights\": [\"uniform\", \"distance\"],\n",
    "    \"p\": [1, 2],\n",
    "}"
   ]
  },
  {
   "cell_type": "code",
   "execution_count": 5,
   "metadata": {},
   "outputs": [
    {
     "name": "stdout",
     "output_type": "stream",
     "text": [
      "Best parameters: {'weights': 'distance', 'p': 2, 'n_neighbors': 5}\n",
      "Mean Squared Error on Test Data: 32422.271838494857\n",
      "Best parameters: {'weights': 'distance', 'p': 1, 'n_neighbors': 10}\n",
      "Mean Squared Error on Test Data: 37499.953642597415\n",
      "Best parameters: {'weights': 'distance', 'p': 1, 'n_neighbors': 15}\n",
      "Mean Squared Error on Test Data: 39123.09020661139\n",
      "Best parameters: {'weights': 'distance', 'p': 1, 'n_neighbors': 12}\n",
      "Mean Squared Error on Test Data: 39789.458808962576\n",
      "Best parameters: {'weights': 'distance', 'p': 1, 'n_neighbors': 9}\n",
      "Mean Squared Error on Test Data: 43775.245249086336\n",
      "Best parameters: {'weights': 'distance', 'p': 1, 'n_neighbors': 17}\n",
      "Mean Squared Error on Test Data: 46119.53807008033\n",
      "Best parameters: {'weights': 'distance', 'p': 1, 'n_neighbors': 12}\n",
      "Mean Squared Error on Test Data: 51789.73950467287\n",
      "Best parameters: {'weights': 'distance', 'p': 1, 'n_neighbors': 11}\n",
      "Mean Squared Error on Test Data: 55883.92865765051\n",
      "Best parameters: {'weights': 'distance', 'p': 1, 'n_neighbors': 14}\n",
      "Mean Squared Error on Test Data: 53860.03994980631\n",
      "Best parameters: {'weights': 'distance', 'p': 1, 'n_neighbors': 12}\n",
      "Mean Squared Error on Test Data: 59800.511449775244\n",
      "Best parameters: {'weights': 'distance', 'p': 1, 'n_neighbors': 10}\n",
      "Mean Squared Error on Test Data: 58923.80544183786\n"
     ]
    }
   ],
   "source": [
    "for i in range(1, 12):\n",
    "    perform_knn(\n",
    "        {\"df\": df, \"param_dist\": param_dist, \"fecha_corte\": fecha_corte, \"lags\": i}\n",
    "    )"
   ]
  }
 ],
 "metadata": {
  "kernelspec": {
   "display_name": "Proyecto-Integrador-Semestre1-ERzOjjfT",
   "language": "python",
   "name": "python3"
  },
  "language_info": {
   "codemirror_mode": {
    "name": "ipython",
    "version": 3
   },
   "file_extension": ".py",
   "mimetype": "text/x-python",
   "name": "python",
   "nbconvert_exporter": "python",
   "pygments_lexer": "ipython3",
   "version": "3.11.5"
  }
 },
 "nbformat": 4,
 "nbformat_minor": 2
}
