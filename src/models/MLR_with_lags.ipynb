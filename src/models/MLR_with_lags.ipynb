{
 "cells": [
  {
   "cell_type": "code",
   "execution_count": 11,
   "metadata": {},
   "outputs": [],
   "source": [
    "import pandas as pd\n",
    "from mlr import perform_mlr"
   ]
  },
  {
   "cell_type": "code",
   "execution_count": 12,
   "metadata": {},
   "outputs": [],
   "source": [
    "df = pd.read_csv(\"../processed_tables/merged_standardized.csv\")"
   ]
  },
  {
   "cell_type": "markdown",
   "metadata": {},
   "source": [
    "## Regresión lineal múltiple\n",
    "\n",
    "Usando `statsmodels` se puede realizar una regresión lineal. Nuestro módulo se encarga de hacer todo este análisis."
   ]
  },
  {
   "cell_type": "code",
   "execution_count": 13,
   "metadata": {},
   "outputs": [
    {
     "name": "stdout",
     "output_type": "stream",
     "text": [
      "                            OLS Regression Results                            \n",
      "==============================================================================\n",
      "Dep. Variable:           energy_price   R-squared:                       0.952\n",
      "Model:                            OLS   Adj. R-squared:                  0.945\n",
      "Method:                 Least Squares   F-statistic:                     135.6\n",
      "Date:                Sat, 25 Nov 2023   Prob (F-statistic):          2.36e-273\n",
      "Time:                        17:39:48   Log-Likelihood:                -2785.2\n",
      "No. Observations:                 549   AIC:                             5712.\n",
      "Df Residuals:                     478   BIC:                             6018.\n",
      "Df Model:                          70                                         \n",
      "Covariance Type:            nonrobust                                         \n",
      "================================================================================================================================\n",
      "                                                                   coef    std err          t      P>|t|      [0.025      0.975]\n",
      "--------------------------------------------------------------------------------------------------------------------------------\n",
      "const                                                           19.4184      4.760      4.080      0.000      10.066      28.771\n",
      "precipitacion_amazonas                                           0.2248      1.945      0.116      0.908      -3.596       4.046\n",
      "precipitacion_antioquia                                         -0.8868      2.844     -0.312      0.755      -6.474       4.701\n",
      "precipitacion_arauca                                            -5.2186      3.429     -1.522      0.129     -11.957       1.520\n",
      "precipitacion_atlantico                                         -0.7865      2.049     -0.384      0.701      -4.813       3.240\n",
      "precipitacion_bogota                                             2.4599      2.646      0.930      0.353      -2.740       7.660\n",
      "precipitacion_bolivar                                           -0.8846      2.165     -0.409      0.683      -5.138       3.369\n",
      "precipitacion_boyaca                                             3.9539      2.688      1.471      0.142      -1.328       9.236\n",
      "precipitacion_caldas                                            -0.2466      3.020     -0.082      0.935      -6.181       5.688\n",
      "precipitacion_caqueta                                            0.4907      2.196      0.223      0.823      -3.825       4.806\n",
      "precipitacion_casanare                                          -1.5228      2.319     -0.657      0.512      -6.079       3.034\n",
      "precipitacion_cauca                                              2.2485      2.690      0.836      0.404      -3.037       7.534\n",
      "precipitacion_cesar                                             -0.4097      2.286     -0.179      0.858      -4.902       4.082\n",
      "precipitacion_choco                                             -2.1342      2.606     -0.819      0.413      -7.255       2.987\n",
      "precipitacion_cordoba                                            1.2761      2.791      0.457      0.648      -4.207       6.759\n",
      "precipitacion_cundinamarca                                       3.4174      2.124      1.609      0.108      -0.756       7.591\n",
      "precipitacion_guainia                                            0.1330      2.012      0.066      0.947      -3.821       4.087\n",
      "precipitacion_guaviare                                           3.2025      2.147      1.492      0.136      -1.016       7.421\n",
      "precipitacion_huila                                              0.0229      2.805      0.008      0.993      -5.488       5.534\n",
      "precipitacion_la guajira                                        -0.3271      1.986     -0.165      0.869      -4.229       3.575\n",
      "precipitacion_magdalena                                          0.1862      2.363      0.079      0.937      -4.457       4.829\n",
      "precipitacion_meta                                              -3.2240      2.374     -1.358      0.175      -7.889       1.441\n",
      "precipitacion_narino                                            -0.0953      2.490     -0.038      0.969      -4.988       4.797\n",
      "precipitacion_norte de santander                                -1.3594      2.693     -0.505      0.614      -6.651       3.932\n",
      "precipitacion_putumayo                                           2.5974      2.420      1.073      0.284      -2.157       7.352\n",
      "precipitacion_quindio                                           -1.7994      2.522     -0.714      0.476      -6.754       3.155\n",
      "precipitacion_risaralda                                          1.8297      2.352      0.778      0.437      -2.792       6.451\n",
      "precipitacion_san andres providencia                             0.8681      2.138      0.406      0.685      -3.334       5.070\n",
      "precipitacion_santander                                         -1.2592      2.576     -0.489      0.625      -6.322       3.803\n",
      "precipitacion_sucre                                             -1.2282      2.599     -0.473      0.637      -6.335       3.879\n",
      "precipitacion_tolima                                            -5.6434      2.866     -1.969      0.050     -11.276      -0.011\n",
      "precipitacion_valle del cauca                                   -0.6566      2.787     -0.236      0.814      -6.132       4.819\n",
      "precipitacion_vaupes                                            -2.3875      2.246     -1.063      0.288      -6.800       2.025\n",
      "precipitacion_vichada                                           -2.4756      2.520     -0.983      0.326      -7.426       2.475\n",
      "precipitacion_colombia                                          -0.8072      0.824     -0.979      0.328      -2.427       0.812\n",
      "precipitacion_departamentos_represa                              1.0678      0.765      1.395      0.164      -0.436       2.571\n",
      "temp_AMAZONAS                                                    3.8872      2.671      1.455      0.146      -1.361       9.136\n",
      "temp_ANTIOQUIA                                                   0.4483      4.421      0.101      0.919      -8.239       9.135\n",
      "temp_ARAUCA                                                      0.3071      3.244      0.095      0.925      -6.068       6.682\n",
      "temp_ARCHIPIELAGO DE SAN ANDRES PROVIDENCIA Y SANTA CATALINA    -0.3499      2.429     -0.144      0.885      -5.122       4.422\n",
      "temp_ATLANTICO                                                  -4.2207      3.845     -1.098      0.273     -11.775       3.334\n",
      "temp_BOGOTA                                                     -5.9632      3.669     -1.625      0.105     -13.173       1.246\n",
      "temp_BOLIVAR                                                    -0.4757      4.721     -0.101      0.920      -9.752       8.801\n",
      "temp_BOYACA                                                      7.3733      3.848      1.916      0.056      -0.187      14.934\n",
      "temp_CALDAS                                                     -5.0007      5.081     -0.984      0.326     -14.984       4.983\n",
      "temp_CAQUETA                                                     2.8636      3.311      0.865      0.388      -3.642       9.369\n",
      "temp_CASANARE                                                   -4.0328      3.511     -1.149      0.251     -10.931       2.866\n",
      "temp_CAUCA                                                      -1.1045      4.620     -0.239      0.811     -10.182       7.973\n",
      "temp_CESAR                                                       3.1146      4.722      0.660      0.510      -6.165      12.394\n",
      "temp_CHOCO                                                      -1.8746      3.270     -0.573      0.567      -8.300       4.551\n",
      "temp_CORDOBA                                                     2.8484      4.805      0.593      0.554      -6.594      12.290\n",
      "temp_CUNDINAMARCA                                                5.3555      5.745      0.932      0.352      -5.934      16.644\n",
      "temp_GUAINIA                                                     2.0328      2.685      0.757      0.449      -3.243       7.309\n",
      "temp_GUAVIARE                                                    1.5335      2.888      0.531      0.596      -4.141       7.208\n",
      "temp_HUILA                                                      -2.7305      4.293     -0.636      0.525     -11.166       5.705\n",
      "temp_LA GUAJIRA                                                  1.7382      3.547      0.490      0.624      -5.232       8.708\n",
      "temp_MAGDALENA                                                  -2.2934      2.926     -0.784      0.434      -8.042       3.456\n",
      "temp_META                                                       -1.0473      3.406     -0.308      0.759      -7.739       5.645\n",
      "temp_NARINO                                                      1.9230      3.506      0.549      0.584      -4.965       8.811\n",
      "temp_NORTE DE SANTANDER                                          6.6599      4.921      1.353      0.177      -3.009      16.329\n",
      "temp_PUTUMAYO                                                   -1.3474      2.935     -0.459      0.646      -7.114       4.419\n",
      "temp_QUINDIO                                                     6.2415      6.464      0.966      0.335      -6.459      18.942\n",
      "temp_RISARALDA                                                  -0.2563      5.460     -0.047      0.963     -10.985      10.473\n",
      "temp_SANTANDER                                                  -7.1111      6.082     -1.169      0.243     -19.062       4.840\n",
      "temp_SUCRE                                                      -2.5869      4.424     -0.585      0.559     -11.279       6.105\n",
      "temp_TOLIMA                                                      1.0892      4.517      0.241      0.810      -7.787       9.966\n",
      "temp_VALLE DEL CAUCA                                             4.1373      5.345      0.774      0.439      -6.365      14.640\n",
      "temp_VICHADA                                                    -5.0698      3.067     -1.653      0.099     -11.097       0.957\n",
      "temp_avg_pais                                                    0.4097      0.346      1.183      0.238      -0.271       1.090\n",
      "temp_avg_represas                                                0.1551      1.214      0.128      0.898      -2.230       2.540\n",
      "brent_value                                                     -8.0420      3.531     -2.278      0.023     -14.980      -1.104\n",
      "TRM                                                             -5.9280      3.206     -1.849      0.065     -12.227       0.371\n",
      "energy_price_lag_1                                               1.0416      0.045     23.246      0.000       0.954       1.130\n",
      "energy_price_lag_2                                               0.0771      0.066      1.172      0.242      -0.052       0.206\n",
      "energy_price_lag_3                                              -0.1866      0.045     -4.142      0.000      -0.275      -0.098\n",
      "==============================================================================\n",
      "Omnibus:                      404.585   Durbin-Watson:                   2.070\n",
      "Prob(Omnibus):                  0.000   Jarque-Bera (JB):            26567.434\n",
      "Skew:                           2.560   Prob(JB):                         0.00\n",
      "Kurtosis:                      36.693   Cond. No.                     1.20e+16\n",
      "==============================================================================\n",
      "\n",
      "Notes:\n",
      "[1] Standard Errors assume that the covariance matrix of the errors is correctly specified.\n",
      "[2] The smallest eigenvalue is 1.12e-24. This might indicate that there are\n",
      "strong multicollinearity problems or that the design matrix is singular.\n",
      "  Variables significativas\n",
      "0                    const\n",
      "1              brent_value\n",
      "2       energy_price_lag_1\n",
      "3       energy_price_lag_3\n",
      "Mean Squared Error on Test Data: 4770.522412238448\n"
     ]
    }
   ],
   "source": [
    "fecha_corte = \"2023-07-01\"\n",
    "\n",
    "perform_mlr({ \"df\": df, \"fecha_corte\": fecha_corte, \"lags\": 3 })"
   ]
  }
 ],
 "metadata": {
  "kernelspec": {
   "display_name": "Proyecto-Integrador-Semestre1-ERzOjjfT",
   "language": "python",
   "name": "python3"
  },
  "language_info": {
   "codemirror_mode": {
    "name": "ipython",
    "version": 3
   },
   "file_extension": ".py",
   "mimetype": "text/x-python",
   "name": "python",
   "nbconvert_exporter": "python",
   "pygments_lexer": "ipython3",
   "version": "3.11.5"
  }
 },
 "nbformat": 4,
 "nbformat_minor": 2
}
