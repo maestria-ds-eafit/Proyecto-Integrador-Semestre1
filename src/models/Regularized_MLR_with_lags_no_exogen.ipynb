{
 "cells": [
  {
   "cell_type": "code",
   "execution_count": 13,
   "metadata": {},
   "outputs": [],
   "source": [
    "from lasso_mlr import perform_lasso_mlr\n",
    "import pandas as pd"
   ]
  },
  {
   "cell_type": "code",
   "execution_count": 14,
   "metadata": {},
   "outputs": [],
   "source": [
    "df = pd.read_csv(\"../processed_tables/merged_standardized.csv\")"
   ]
  },
  {
   "cell_type": "markdown",
   "metadata": {},
   "source": [
    "## Sacamos las variables exógenas"
   ]
  },
  {
   "cell_type": "code",
   "execution_count": 15,
   "metadata": {},
   "outputs": [
    {
     "data": {
      "text/html": [
       "<div>\n",
       "<style scoped>\n",
       "    .dataframe tbody tr th:only-of-type {\n",
       "        vertical-align: middle;\n",
       "    }\n",
       "\n",
       "    .dataframe tbody tr th {\n",
       "        vertical-align: top;\n",
       "    }\n",
       "\n",
       "    .dataframe thead th {\n",
       "        text-align: right;\n",
       "    }\n",
       "</style>\n",
       "<table border=\"1\" class=\"dataframe\">\n",
       "  <thead>\n",
       "    <tr style=\"text-align: right;\">\n",
       "      <th></th>\n",
       "      <th>Date</th>\n",
       "      <th>energy_price</th>\n",
       "    </tr>\n",
       "  </thead>\n",
       "  <tbody>\n",
       "    <tr>\n",
       "      <th>0</th>\n",
       "      <td>2021-10-01</td>\n",
       "      <td>216.929726</td>\n",
       "    </tr>\n",
       "    <tr>\n",
       "      <th>1</th>\n",
       "      <td>2021-10-02</td>\n",
       "      <td>256.940174</td>\n",
       "    </tr>\n",
       "    <tr>\n",
       "      <th>2</th>\n",
       "      <td>2021-10-03</td>\n",
       "      <td>282.065065</td>\n",
       "    </tr>\n",
       "    <tr>\n",
       "      <th>3</th>\n",
       "      <td>2021-10-04</td>\n",
       "      <td>286.526116</td>\n",
       "    </tr>\n",
       "    <tr>\n",
       "      <th>4</th>\n",
       "      <td>2021-10-05</td>\n",
       "      <td>278.157325</td>\n",
       "    </tr>\n",
       "  </tbody>\n",
       "</table>\n",
       "</div>"
      ],
      "text/plain": [
       "         Date  energy_price\n",
       "0  2021-10-01    216.929726\n",
       "1  2021-10-02    256.940174\n",
       "2  2021-10-03    282.065065\n",
       "3  2021-10-04    286.526116\n",
       "4  2021-10-05    278.157325"
      ]
     },
     "execution_count": 15,
     "metadata": {},
     "output_type": "execute_result"
    }
   ],
   "source": [
    "lag_columns = df.filter(like=\"lag_\")\n",
    "price = df[[\"Date\", \"energy_price\"]]\n",
    "df = pd.concat([price, lag_columns], axis=1)\n",
    "df.head()"
   ]
  },
  {
   "cell_type": "markdown",
   "metadata": {},
   "source": [
    "## Regresión lineal con Lasso\n",
    "\n",
    "Esta vez utilizaremos `sklearn` para hacer la regresión Lasso y poder ver qué coeficientes son cero.\n"
   ]
  },
  {
   "cell_type": "code",
   "execution_count": 16,
   "metadata": {},
   "outputs": [
    {
     "name": "stdout",
     "output_type": "stream",
     "text": [
      "Lags: 1\n"
     ]
    },
    {
     "name": "stdout",
     "output_type": "stream",
     "text": [
      "Best parameters found: {'alpha': 206.913808111479}\n",
      "Best cross-validation score: 0.9355698036817355\n",
      "Mean Squared Error on Test Data: 4803.445749029219\n",
      "energy_price_lag_1: 0.9656740502995752\n",
      "-----------------------\n",
      "Lags: 2\n",
      "Best parameters found: {'alpha': 4.281332398719396}\n",
      "Best cross-validation score: 0.9386516725010919\n",
      "Mean Squared Error on Test Data: 4543.376056829038\n",
      "energy_price_lag_1: 1.100372648462993\n",
      "energy_price_lag_2: -0.1321051419324675\n",
      "-----------------------\n",
      "Lags: 3\n",
      "Best parameters found: {'alpha': 4.281332398719396}\n",
      "Best cross-validation score: 0.940924245016036\n",
      "Mean Squared Error on Test Data: 4532.002384450109\n",
      "energy_price_lag_1: 1.0792803619451377\n",
      "energy_price_lag_2: 0.06410894229918909\n",
      "energy_price_lag_3: -0.18187404105984578\n",
      "-----------------------\n",
      "Lags: 4\n",
      "Best parameters found: {'alpha': 4.281332398719396}\n",
      "Best cross-validation score: 0.9427036570621518\n",
      "Mean Squared Error on Test Data: 4531.334315041626\n",
      "energy_price_lag_1: 1.0794672188396242\n",
      "energy_price_lag_2: 0.0640538111732484\n",
      "energy_price_lag_3: -0.1839494788569379\n",
      "energy_price_lag_4: 0.0020501825315552605\n",
      "-----------------------\n",
      "Lags: 5\n",
      "Best parameters found: {'alpha': 4.281332398719396}\n",
      "Best cross-validation score: 0.9464291031396707\n",
      "Mean Squared Error on Test Data: 4601.802455480245\n",
      "energy_price_lag_1: 1.0791174775389165\n",
      "energy_price_lag_2: 0.050344800390535\n",
      "energy_price_lag_3: -0.18033165491878303\n",
      "energy_price_lag_4: 0.09040006377446164\n",
      "energy_price_lag_5: -0.08154476356302083\n",
      "-----------------------\n",
      "Lags: 6\n",
      "Best parameters found: {'alpha': 4.281332398719396}\n",
      "Best cross-validation score: 0.9431472014481915\n",
      "Mean Squared Error on Test Data: 4650.470123055161\n",
      "energy_price_lag_1: 1.0782430500421099\n",
      "energy_price_lag_2: 0.05164363146301707\n",
      "energy_price_lag_3: -0.18438799044509244\n",
      "energy_price_lag_4: 0.09241313257162774\n",
      "energy_price_lag_5: -0.061074993119796125\n",
      "energy_price_lag_6: -0.01971035915146985\n",
      "-----------------------\n",
      "Lags: 7\n",
      "Best parameters found: {'alpha': 4.281332398719396}\n",
      "Best cross-validation score: 0.9398896884750114\n",
      "Mean Squared Error on Test Data: 4647.660273878122\n",
      "energy_price_lag_1: 1.077750672124988\n",
      "energy_price_lag_2: 0.051623405822385775\n",
      "energy_price_lag_3: -0.18352267431817612\n",
      "energy_price_lag_4: 0.0919402185993606\n",
      "energy_price_lag_5: -0.06116370196310233\n",
      "energy_price_lag_6: -0.019668030927885074\n",
      "-----------------------\n",
      "Lags: 8\n",
      "Best parameters found: {'alpha': 0.0001}\n",
      "Best cross-validation score: 0.9408317733183018\n",
      "Mean Squared Error on Test Data: 4723.109915508713\n",
      "energy_price_lag_1: 1.0799918430481665\n",
      "energy_price_lag_2: 0.050261206906464365\n",
      "energy_price_lag_3: -0.1976238682579445\n",
      "energy_price_lag_4: 0.11260837025123346\n",
      "energy_price_lag_5: -0.08277313077071098\n",
      "energy_price_lag_6: -0.0211394890196306\n",
      "energy_price_lag_7: 0.1090484432613935\n",
      "energy_price_lag_8: -0.09825852306845032\n",
      "-----------------------\n",
      "Lags: 9\n",
      "Best parameters found: {'alpha': 206.913808111479}\n",
      "Best cross-validation score: 0.945044904082159\n",
      "Mean Squared Error on Test Data: 4858.628294123111\n",
      "energy_price_lag_1: 1.0043905196161642\n",
      "energy_price_lag_5: -0.017241721202038422\n",
      "energy_price_lag_8: -0.03631006489439324\n",
      "-----------------------\n"
     ]
    }
   ],
   "source": [
    "for i in range(1, 10):\n",
    "    print(f\"Lags: {i}\")\n",
    "    perform_lasso_mlr({ \"df\": df, \"lags\": i })\n",
    "    print(\"-----------------------\")"
   ]
  }
 ],
 "metadata": {
  "kernelspec": {
   "display_name": "Proyecto-Integrador-Semestre1-ERzOjjfT",
   "language": "python",
   "name": "python3"
  },
  "language_info": {
   "codemirror_mode": {
    "name": "ipython",
    "version": 3
   },
   "file_extension": ".py",
   "mimetype": "text/x-python",
   "name": "python",
   "nbconvert_exporter": "python",
   "pygments_lexer": "ipython3",
   "version": "3.11.5"
  }
 },
 "nbformat": 4,
 "nbformat_minor": 2
}
