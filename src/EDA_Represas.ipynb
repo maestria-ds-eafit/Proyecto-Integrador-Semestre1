{
 "cells": [
  {
   "cell_type": "markdown",
   "metadata": {},
   "source": [
    "# EDA precipitación de Azure Table Storage\n"
   ]
  },
  {
   "cell_type": "markdown",
   "metadata": {},
   "source": [
    "### Librerías\n"
   ]
  },
  {
   "cell_type": "code",
   "execution_count": 2,
   "metadata": {},
   "outputs": [],
   "source": [
    "from data_service import set_table_service, get_dataframe_from_table_storage_table\n",
    "import os\n",
    "from dotenv import load_dotenv"
   ]
  },
  {
   "cell_type": "code",
   "execution_count": 3,
   "metadata": {},
   "outputs": [
    {
     "data": {
      "text/plain": [
       "True"
      ]
     },
     "execution_count": 3,
     "metadata": {},
     "output_type": "execute_result"
    }
   ],
   "source": [
    "load_dotenv()"
   ]
  },
  {
   "cell_type": "code",
   "execution_count": 4,
   "metadata": {},
   "outputs": [],
   "source": [
    "connection_string = os.getenv(\"AZ_CONNECTION_STRING\")"
   ]
  },
  {
   "cell_type": "code",
   "execution_count": 5,
   "metadata": {},
   "outputs": [],
   "source": [
    "table_name_represa = \"InventarioRepresasColombia\"\n",
    "filterQuery = \"PartitionKey ne 'random'\""
   ]
  },
  {
   "cell_type": "code",
   "execution_count": 6,
   "metadata": {},
   "outputs": [
    {
     "name": "stdout",
     "output_type": "stream",
     "text": [
      "Shape: (48, 12)\n"
     ]
    }
   ],
   "source": [
    "table_name_represa = set_table_service(connection_string, table_name_represa)\n",
    "df_represas = get_dataframe_from_table_storage_table(table_name_represa, filterQuery)\n",
    "print(f\"Shape: {df_represas.shape}\")"
   ]
  },
  {
   "cell_type": "code",
   "execution_count": 7,
   "metadata": {},
   "outputs": [
    {
     "name": "stdout",
     "output_type": "stream",
     "text": [
      "<class 'pandas.core.frame.DataFrame'>\n",
      "Index: 10 entries, 2 to 6\n",
      "Data columns (total 2 columns):\n",
      " #   Column             Non-Null Count  Dtype \n",
      "---  ------             --------------  ----- \n",
      " 0   Departamento       10 non-null     object\n",
      " 1   Cantidad_Represas  10 non-null     int64 \n",
      "dtypes: int64(1), object(1)\n",
      "memory usage: 540.0+ bytes\n"
     ]
    },
    {
     "data": {
      "text/html": [
       "<div>\n",
       "<style scoped>\n",
       "    .dataframe tbody tr th:only-of-type {\n",
       "        vertical-align: middle;\n",
       "    }\n",
       "\n",
       "    .dataframe tbody tr th {\n",
       "        vertical-align: top;\n",
       "    }\n",
       "\n",
       "    .dataframe thead th {\n",
       "        text-align: right;\n",
       "    }\n",
       "</style>\n",
       "<table border=\"1\" class=\"dataframe\">\n",
       "  <thead>\n",
       "    <tr style=\"text-align: right;\">\n",
       "      <th></th>\n",
       "      <th>Departamento</th>\n",
       "      <th>Cantidad_Represas</th>\n",
       "    </tr>\n",
       "  </thead>\n",
       "  <tbody>\n",
       "    <tr>\n",
       "      <th>2</th>\n",
       "      <td>Antioquia</td>\n",
       "      <td>24</td>\n",
       "    </tr>\n",
       "    <tr>\n",
       "      <th>9</th>\n",
       "      <td>Valle del Cauca</td>\n",
       "      <td>11</td>\n",
       "    </tr>\n",
       "    <tr>\n",
       "      <th>7</th>\n",
       "      <td>Huila</td>\n",
       "      <td>4</td>\n",
       "    </tr>\n",
       "    <tr>\n",
       "      <th>1</th>\n",
       "      <td>Santander</td>\n",
       "      <td>2</td>\n",
       "    </tr>\n",
       "    <tr>\n",
       "      <th>8</th>\n",
       "      <td>Tolima</td>\n",
       "      <td>2</td>\n",
       "    </tr>\n",
       "    <tr>\n",
       "      <th>0</th>\n",
       "      <td>Cundinamarca</td>\n",
       "      <td>1</td>\n",
       "    </tr>\n",
       "    <tr>\n",
       "      <th>3</th>\n",
       "      <td>Boyaca</td>\n",
       "      <td>1</td>\n",
       "    </tr>\n",
       "    <tr>\n",
       "      <th>4</th>\n",
       "      <td>Caldas</td>\n",
       "      <td>1</td>\n",
       "    </tr>\n",
       "    <tr>\n",
       "      <th>5</th>\n",
       "      <td>Cauca</td>\n",
       "      <td>1</td>\n",
       "    </tr>\n",
       "    <tr>\n",
       "      <th>6</th>\n",
       "      <td>Cordoba</td>\n",
       "      <td>1</td>\n",
       "    </tr>\n",
       "  </tbody>\n",
       "</table>\n",
       "</div>"
      ],
      "text/plain": [
       "      Departamento  Cantidad_Represas\n",
       "2        Antioquia                 24\n",
       "9  Valle del Cauca                 11\n",
       "7            Huila                  4\n",
       "1        Santander                  2\n",
       "8           Tolima                  2\n",
       "0     Cundinamarca                  1\n",
       "3           Boyaca                  1\n",
       "4           Caldas                  1\n",
       "5            Cauca                  1\n",
       "6          Cordoba                  1"
      ]
     },
     "execution_count": 7,
     "metadata": {},
     "output_type": "execute_result"
    }
   ],
   "source": [
    "conteo_por_departamento = (\n",
    "    df_represas.groupby(\"Departamento\").size().reset_index(name=\"Cantidad_Represas\")\n",
    ")\n",
    "conteo_por_departamento = conteo_por_departamento.sort_values(\n",
    "    by=\"Cantidad_Represas\", ascending=False\n",
    ")\n",
    "\n",
    "indice_a_cambiar = 0\n",
    "nuevo_nombre = \"Cundinamarca\"\n",
    "indice_a_cambiar1 = 1\n",
    "nuevo_nombre1 = \"Santander\"\n",
    "\n",
    "# Utiliza el método at para cambiar el nombre del departamento\n",
    "conteo_por_departamento.at[indice_a_cambiar, \"Departamento\"] = nuevo_nombre\n",
    "conteo_por_departamento.at[indice_a_cambiar1, \"Departamento\"] = nuevo_nombre1\n",
    "\n",
    "# Imprime el DataFrame resultante\n",
    "conteo_por_departamento.info()\n",
    "conteo_por_departamento"
   ]
  },
  {
   "cell_type": "code",
   "execution_count": 8,
   "metadata": {},
   "outputs": [
    {
     "name": "stdout",
     "output_type": "stream",
     "text": [
      "      Departamento  Cantidad_Represas\n",
      "2        antioquia                 24\n",
      "9  valle del cauca                 11\n",
      "7            huila                  4\n",
      "1        santander                  2\n",
      "8           tolima                  2\n",
      "0     cundinamarca                  1\n",
      "3           boyaca                  1\n",
      "4           caldas                  1\n",
      "5            cauca                  1\n",
      "6          cordoba                  1\n"
     ]
    }
   ],
   "source": [
    "df_estandarizado = conteo_por_departamento.copy()\n",
    "\n",
    "# Estandarizar el nombre del departamento\n",
    "df_estandarizado[\"Departamento\"] = (\n",
    "    df_estandarizado[\"Departamento\"]\n",
    "    .str.lower()  # Convertir a minúsculas\n",
    "    .str.replace(\"d.c.\", \"\", regex=False)  # Retirar \"D.C.\"\n",
    "    .str.replace(\"[^\\w\\s]\", \"\", regex=True)  # Retirar comas, puntos\n",
    "    .str.replace(\"[áäâà]\", \"a\", regex=True)  # Reemplazar tildes\n",
    "    .str.replace(\"[éëêè]\", \"e\", regex=True)\n",
    "    .str.replace(\"[ñ]\", \"n\", regex=True)\n",
    "    .str.replace(\"[íïîì]\", \"i\", regex=True)\n",
    "    .str.replace(\"[óöôò]\", \"o\", regex=True)\n",
    "    .str.replace(\"[úüûù]\", \"u\", regex=True)\n",
    "    .str.strip()  # Retirar espacios al principio y al final\n",
    ")\n",
    "\n",
    "# Verificar el DataFrame estandarizado\n",
    "print(df_estandarizado)"
   ]
  },
  {
   "cell_type": "code",
   "execution_count": 9,
   "metadata": {},
   "outputs": [
    {
     "data": {
      "text/html": [
       "<div>\n",
       "<style scoped>\n",
       "    .dataframe tbody tr th:only-of-type {\n",
       "        vertical-align: middle;\n",
       "    }\n",
       "\n",
       "    .dataframe tbody tr th {\n",
       "        vertical-align: top;\n",
       "    }\n",
       "\n",
       "    .dataframe thead th {\n",
       "        text-align: right;\n",
       "    }\n",
       "</style>\n",
       "<table border=\"1\" class=\"dataframe\">\n",
       "  <thead>\n",
       "    <tr style=\"text-align: right;\">\n",
       "      <th></th>\n",
       "      <th>represas_Departamento</th>\n",
       "      <th>represas_Cantidad_Represas</th>\n",
       "    </tr>\n",
       "  </thead>\n",
       "  <tbody>\n",
       "    <tr>\n",
       "      <th>2</th>\n",
       "      <td>antioquia</td>\n",
       "      <td>24</td>\n",
       "    </tr>\n",
       "    <tr>\n",
       "      <th>9</th>\n",
       "      <td>valle del cauca</td>\n",
       "      <td>11</td>\n",
       "    </tr>\n",
       "    <tr>\n",
       "      <th>7</th>\n",
       "      <td>huila</td>\n",
       "      <td>4</td>\n",
       "    </tr>\n",
       "    <tr>\n",
       "      <th>1</th>\n",
       "      <td>santander</td>\n",
       "      <td>2</td>\n",
       "    </tr>\n",
       "    <tr>\n",
       "      <th>8</th>\n",
       "      <td>tolima</td>\n",
       "      <td>2</td>\n",
       "    </tr>\n",
       "    <tr>\n",
       "      <th>0</th>\n",
       "      <td>cundinamarca</td>\n",
       "      <td>1</td>\n",
       "    </tr>\n",
       "    <tr>\n",
       "      <th>3</th>\n",
       "      <td>boyaca</td>\n",
       "      <td>1</td>\n",
       "    </tr>\n",
       "    <tr>\n",
       "      <th>4</th>\n",
       "      <td>caldas</td>\n",
       "      <td>1</td>\n",
       "    </tr>\n",
       "    <tr>\n",
       "      <th>5</th>\n",
       "      <td>cauca</td>\n",
       "      <td>1</td>\n",
       "    </tr>\n",
       "    <tr>\n",
       "      <th>6</th>\n",
       "      <td>cordoba</td>\n",
       "      <td>1</td>\n",
       "    </tr>\n",
       "  </tbody>\n",
       "</table>\n",
       "</div>"
      ],
      "text/plain": [
       "  represas_Departamento  represas_Cantidad_Represas\n",
       "2             antioquia                          24\n",
       "9       valle del cauca                          11\n",
       "7                 huila                           4\n",
       "1             santander                           2\n",
       "8                tolima                           2\n",
       "0          cundinamarca                           1\n",
       "3                boyaca                           1\n",
       "4                caldas                           1\n",
       "5                 cauca                           1\n",
       "6               cordoba                           1"
      ]
     },
     "execution_count": 9,
     "metadata": {},
     "output_type": "execute_result"
    }
   ],
   "source": [
    "df_represas_final = df_estandarizado.copy()\n",
    "# Agregar el prefijo 'precipitacion_' a los nombres de las columnas\n",
    "df_represas_final.columns = [\"represas_\" + col for col in df_represas_final.columns]\n",
    "\n",
    "df_represas_final"
   ]
  },
  {
   "cell_type": "code",
   "execution_count": 10,
   "metadata": {},
   "outputs": [],
   "source": [
    "df_represas_final.to_csv(\"processed_tables/represas.csv\", index=False)"
   ]
  },
  {
   "cell_type": "code",
   "execution_count": 22,
   "metadata": {},
   "outputs": [
    {
     "name": "stdout",
     "output_type": "stream",
     "text": [
      "Antioquia representa el 50.0% del total de represas\n"
     ]
    }
   ],
   "source": [
    "total_represas_antioquia = df_represas_final[\n",
    "    df_represas_final[\"represas_Departamento\"] == \"antioquia\"\n",
    "][\"represas_Cantidad_Represas\"].values[0]\n",
    "total_represas = df_represas_final[\"represas_Cantidad_Represas\"].sum()\n",
    "print(\n",
    "    f\"Antioquia representa el {(total_represas_antioquia / total_represas)*100}% del total de represas\"\n",
    ")"
   ]
  },
  {
   "cell_type": "code",
   "execution_count": null,
   "metadata": {},
   "outputs": [],
   "source": []
  }
 ],
 "metadata": {
  "kernelspec": {
   "display_name": "Proyecto-Integrador-Semestre1-O-NI27q_",
   "language": "python",
   "name": "python3"
  },
  "language_info": {
   "codemirror_mode": {
    "name": "ipython",
    "version": 3
   },
   "file_extension": ".py",
   "mimetype": "text/x-python",
   "name": "python",
   "nbconvert_exporter": "python",
   "pygments_lexer": "ipython3",
   "version": "3.11.5"
  }
 },
 "nbformat": 4,
 "nbformat_minor": 2
}
